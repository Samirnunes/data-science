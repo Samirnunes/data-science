{
 "cells": [
  {
   "cell_type": "markdown",
   "id": "acbae761",
   "metadata": {},
   "source": [
    "# Análise dos dados temporais de poluição atmosférica no estado de São Paulo (2015-2021)"
   ]
  },
  {
   "cell_type": "markdown",
   "id": "0e19afd2",
   "metadata": {
    "hideCode": false
   },
   "source": [
    "Fonte dos dados: IEMA (Instituto de Energia e Meio Ambiente)\n",
    "\n",
    "Link: https://energiaeambiente.org.br/qualidadedoar#secao-14"
   ]
  },
  {
   "cell_type": "markdown",
   "id": "4d803c43",
   "metadata": {},
   "source": [
    "## Importando bibliotecas e definindo função auxiliar para SQL"
   ]
  },
  {
   "cell_type": "code",
   "execution_count": 1,
   "id": "fba633fa",
   "metadata": {
    "scrolled": true
   },
   "outputs": [
    {
     "ename": "ModuleNotFoundError",
     "evalue": "No module named 'pandasql'",
     "output_type": "error",
     "traceback": [
      "\u001b[1;31m---------------------------------------------------------------------------\u001b[0m",
      "\u001b[1;31mModuleNotFoundError\u001b[0m                       Traceback (most recent call last)",
      "Cell \u001b[1;32mIn[1], line 5\u001b[0m\n\u001b[0;32m      3\u001b[0m \u001b[38;5;28;01mimport\u001b[39;00m \u001b[38;5;21;01mmatplotlib\u001b[39;00m\u001b[38;5;21;01m.\u001b[39;00m\u001b[38;5;21;01mgridspec\u001b[39;00m \u001b[38;5;28;01mas\u001b[39;00m \u001b[38;5;21;01mgridspec\u001b[39;00m\n\u001b[0;32m      4\u001b[0m \u001b[38;5;28;01mimport\u001b[39;00m \u001b[38;5;21;01mpandas\u001b[39;00m \u001b[38;5;28;01mas\u001b[39;00m \u001b[38;5;21;01mpd\u001b[39;00m\n\u001b[1;32m----> 5\u001b[0m \u001b[38;5;28;01mfrom\u001b[39;00m \u001b[38;5;21;01mpandasql\u001b[39;00m \u001b[38;5;28;01mimport\u001b[39;00m sqldf\n\u001b[0;32m      6\u001b[0m \u001b[38;5;28;01mfrom\u001b[39;00m \u001b[38;5;21;01mIPython\u001b[39;00m \u001b[38;5;28;01mimport\u001b[39;00m display\n\u001b[0;32m      7\u001b[0m query \u001b[38;5;241m=\u001b[39m \u001b[38;5;28;01mlambda\u001b[39;00m q: sqldf(q, \u001b[38;5;28mglobals\u001b[39m())\n",
      "\u001b[1;31mModuleNotFoundError\u001b[0m: No module named 'pandasql'"
     ]
    }
   ],
   "source": [
    "import numpy as np\n",
    "import matplotlib.pyplot as plt\n",
    "import matplotlib.gridspec as gridspec\n",
    "import pandas as pd\n",
    "from pandasql import sqldf\n",
    "from IPython import display\n",
    "query = lambda q: sqldf(q, globals())\n",
    "\n",
    "print(\"Bibliotecas importadas e função auxiliar para SQL definida.\")"
   ]
  },
  {
   "cell_type": "markdown",
   "id": "10ef5597",
   "metadata": {},
   "source": [
    "## Importando os dados"
   ]
  },
  {
   "cell_type": "code",
   "execution_count": null,
   "id": "ba617d80",
   "metadata": {},
   "outputs": [],
   "source": [
    "def import_air_pollution_data(place_abbreviation: str, years: list):\n",
    "    '''\n",
    "    - place_abbreviation: string that determines the place from which data is from. \n",
    "    It's extracted from the file's name. Ex: SP201501.csv --> place_abbreviation = 'SP'.\n",
    "\n",
    "    - years: list of strings of the years from which we want to get data. \n",
    "    Restricted to the years that exists in the names of the data files. \n",
    "    Ex: SP201501.csv, SP201502.csv, SP201601.csv, SP201602.csv --> years = ['2015', '2016'].\n",
    "\n",
    "    returns: pandas dataframe with all the data from the specified place and years.\n",
    "    '''\n",
    "\n",
    "    sp_pol = {}\n",
    "\n",
    "    for y in years:\n",
    "        first_df = pd.read_csv(f'data/{place_abbreviation}{y}01.csv', encoding = 'latin-1')\n",
    "        sec_df = pd.read_csv(f'data/{place_abbreviation}{y}02.csv', encoding = 'latin-1')\n",
    "        sp_pol[y] = pd.concat([first_df, sec_df])\n",
    "\n",
    "    # Agora uniremos todos os dados em um mesmo dataframe que, por simplicidade, chamaremos de data.\n",
    "    data = sp_pol[years[0]]\n",
    "        \n",
    "    for y in years[1:]:\n",
    "        data = pd.concat([data, sp_pol[y]])\n",
    "\n",
    "    data.reset_index(drop = True, inplace = True)\n",
    "    data['ID'] = list(data.index)\n",
    "    cols = data.columns.tolist()\n",
    "    cols = cols[-1:] + cols[:-1]\n",
    "    data = data[cols]\n",
    "\n",
    "    print('Dados importados e reunidos no dataframe data.')\n",
    "\n",
    "    return data"
   ]
  },
  {
   "cell_type": "code",
   "execution_count": null,
   "id": "feef9fac",
   "metadata": {},
   "outputs": [],
   "source": [
    "data = import_air_pollution_data('SP', [str(y) for y in range(2015, 2022)])"
   ]
  },
  {
   "cell_type": "markdown",
   "id": "412c7735",
   "metadata": {},
   "source": [
    "---"
   ]
  },
  {
   "cell_type": "markdown",
   "id": "438444f0",
   "metadata": {},
   "source": [
    "## Data Profiling: visão e estatísticas gerais"
   ]
  },
  {
   "cell_type": "markdown",
   "id": "9a5e8159",
   "metadata": {},
   "source": [
    "### Quantidade de linhas e colunas"
   ]
  },
  {
   "cell_type": "code",
   "execution_count": null,
   "id": "786701d4",
   "metadata": {
    "scrolled": true
   },
   "outputs": [],
   "source": [
    "print(f'(linhas, colunas) : {data.shape}')"
   ]
  },
  {
   "cell_type": "markdown",
   "id": "3a2a0fca",
   "metadata": {},
   "source": [
    "### Descrição das colunas"
   ]
  },
  {
   "cell_type": "code",
   "execution_count": null,
   "id": "cd416ffd",
   "metadata": {},
   "outputs": [],
   "source": [
    "print(data.dtypes)"
   ]
  },
  {
   "cell_type": "markdown",
   "id": "a28bf555",
   "metadata": {},
   "source": [
    "__ID__: identificação, via índice inteiro, de cada registro do dataframe.\n",
    "\n",
    "__Data__: data em que foi feita a medição da concentração do poluente.\n",
    "\n",
    "__Hora__: hora em que foi feita a medição.\n",
    "\n",
    "__Estação__: local em que foi feita a medição.\n",
    "\n",
    "__Código__: código associado à estação em que foi realizada a medição.\n",
    "\n",
    "__Poluente__: poluente cuja concentração foi medida.\n",
    "\n",
    "__Valor__: valor, na unidade especificada, da concentração do poluente.\n",
    "\n",
    "__Unidade__: unidade de concentração utilizada.\n",
    "\n",
    "__Tipo__: como foi realizada a medição (de forma automática ou manual)"
   ]
  },
  {
   "cell_type": "markdown",
   "id": "d4c6728a",
   "metadata": {},
   "source": [
    "### Valores iniciais e finais do dataframe"
   ]
  },
  {
   "cell_type": "code",
   "execution_count": null,
   "id": "f551ec80",
   "metadata": {},
   "outputs": [],
   "source": [
    "data.head(5)"
   ]
  },
  {
   "cell_type": "code",
   "execution_count": null,
   "id": "667b8176",
   "metadata": {
    "scrolled": true
   },
   "outputs": [],
   "source": [
    "data.tail(5)"
   ]
  },
  {
   "cell_type": "markdown",
   "id": "c7680707",
   "metadata": {},
   "source": [
    "## Análise univariada: estudando cada coluna separadamente"
   ]
  },
  {
   "cell_type": "markdown",
   "id": "7e1a6d59",
   "metadata": {},
   "source": [
    "### Data"
   ]
  },
  {
   "cell_type": "markdown",
   "id": "1c3f2f6c",
   "metadata": {},
   "source": [
    "Datas e horas de início e de fim das medições:"
   ]
  },
  {
   "cell_type": "code",
   "execution_count": null,
   "id": "7e026e6f",
   "metadata": {},
   "outputs": [],
   "source": [
    "min_data = data['Data'].min()\n",
    "max_data = data['Data'].max()\n",
    "\n",
    "min_hour = data[data['Data'] == min_data]['Hora'].min()\n",
    "max_hour = data[data['Data'] == max_data]['Hora'].max()\n",
    "\n",
    "print(f'Início das medições: {min_hour} {min_data}')\n",
    "print(f'Fim das medições: {max_hour} {max_data}')"
   ]
  },
  {
   "cell_type": "markdown",
   "id": "26311f20",
   "metadata": {},
   "source": [
    "Verificando se não há valores inexistentes (null ou nan):"
   ]
  },
  {
   "cell_type": "code",
   "execution_count": null,
   "id": "444b15bf",
   "metadata": {},
   "outputs": [],
   "source": [
    "def print_null_values_count(data, column):\n",
    "    try:\n",
    "        null_values_count = data[column].isnull().value_counts()[True]\n",
    "    except:\n",
    "        null_values_count = 0\n",
    "    print(f'Número de valores inexistentes na coluna {column}: {null_values_count}')"
   ]
  },
  {
   "cell_type": "code",
   "execution_count": null,
   "id": "89448a77",
   "metadata": {},
   "outputs": [],
   "source": [
    "print_null_values_count(data, 'Data')"
   ]
  },
  {
   "cell_type": "markdown",
   "id": "d545fb00",
   "metadata": {},
   "source": [
    "Estatísticas gerais da contagem (quantidade de aparições de cada valor) na coluna:"
   ]
  },
  {
   "cell_type": "code",
   "execution_count": null,
   "id": "c11e8559",
   "metadata": {},
   "outputs": [],
   "source": [
    "data_data_count = data['Data'].value_counts().sort_index()\n",
    "data_data_count.describe()"
   ]
  },
  {
   "cell_type": "markdown",
   "id": "90d4807f",
   "metadata": {},
   "source": [
    "Temos 2557 datas distintas, o que equivale a 7 anos, sendo um deles bissexto. Os números de medições são bem distribuídos, sem outliers muito grandes. Isso indica que a maioria das datas teve um número de medições de poluentes parecido. Podemos verificar isso em um histograma:"
   ]
  },
  {
   "cell_type": "code",
   "execution_count": null,
   "id": "dde24033",
   "metadata": {
    "scrolled": true
   },
   "outputs": [],
   "source": [
    "N, bins, patches = plt.hist(data_data_count)\n",
    "plt.xlabel('Contagem')\n",
    "plt.ylabel('Quantidade de datas com determinada contagem')\n",
    "plt.suptitle('Histograma da contagem das datas', fontsize = '16')\n",
    "plt.title('A maioria das datas possuem Nº de medições próximas da média de 4300 e não há outliers muito discrepantes desse valor.')\n",
    "for i in range(2, 6):\n",
    "    patches[i].set_facecolor('Darkblue')\n",
    "for i in range(0, 2):\n",
    "    patches[i].set_facecolor('Gray')\n",
    "for i in range(6, len(patches)):\n",
    "    patches[i].set_facecolor('Gray')"
   ]
  },
  {
   "cell_type": "markdown",
   "id": "96c6706e",
   "metadata": {},
   "source": [
    "### Hora"
   ]
  },
  {
   "cell_type": "markdown",
   "id": "b607914e",
   "metadata": {},
   "source": [
    "Horas em que ocorreram medições:"
   ]
  },
  {
   "cell_type": "code",
   "execution_count": null,
   "id": "9c87b583",
   "metadata": {},
   "outputs": [],
   "source": [
    "data[['Hora']].drop_duplicates().reset_index(drop = True)"
   ]
  },
  {
   "cell_type": "markdown",
   "id": "02c2243d",
   "metadata": {},
   "source": [
    "Verificando se não há valores inexistentes (null ou nan):"
   ]
  },
  {
   "cell_type": "code",
   "execution_count": null,
   "id": "23852c75",
   "metadata": {},
   "outputs": [],
   "source": [
    "print_null_values_count(data, 'Hora')"
   ]
  },
  {
   "cell_type": "code",
   "execution_count": null,
   "id": "d829ef16",
   "metadata": {},
   "outputs": [],
   "source": [
    "num_hours = len(data['Hora'].unique())\n",
    "print(f'Quantidade de horas em que ocorrem medições: {num_hours}')"
   ]
  },
  {
   "cell_type": "markdown",
   "id": "03432dcf",
   "metadata": {},
   "source": [
    "Estatísticas gerais da contagem (quantidade de aparições de cada valor) na coluna:"
   ]
  },
  {
   "cell_type": "code",
   "execution_count": null,
   "id": "196c149e",
   "metadata": {},
   "outputs": [],
   "source": [
    "data_hour_count = data['Hora'].value_counts().sort_index()\n",
    "data_hour_count.describe()"
   ]
  },
  {
   "cell_type": "markdown",
   "id": "ea2a88f8",
   "metadata": {},
   "source": [
    "Vemos que o valor mínimo é distante do 1º quartil, indicando que algumas horas do dia possuem medições bastante abaixo da mediana. Podemos verificar isso em um boxplot:"
   ]
  },
  {
   "cell_type": "code",
   "execution_count": null,
   "id": "55e77679",
   "metadata": {},
   "outputs": [],
   "source": [
    "plt.boxplot(data_hour_count)\n",
    "plt.ylabel('Contagem')\n",
    "plt.suptitle('Boxplot da contagem de medições para cada hora', fontsize = '16')\n",
    "plt.title('Há 5 horários outliers em termos de quantidade de medições.')"
   ]
  },
  {
   "cell_type": "markdown",
   "id": "7e059a1a",
   "metadata": {},
   "source": [
    "Com ele, podemos ver que há horas do dia em que tivemos medições abaixo da maioria. Podemos descobrir quais são fazendo:"
   ]
  },
  {
   "cell_type": "code",
   "execution_count": null,
   "id": "f68da8b4",
   "metadata": {},
   "outputs": [],
   "source": [
    "hour_first_quartile = data_hour_count.quantile(0.25)\n",
    "hour_third_quartile = data_hour_count.quantile(0.75)\n",
    "inter_dist = hour_third_quartile - hour_first_quartile # Distância interquartílica.\n",
    "print('Horas do dia com menores números de medições entre os anos de 2015 e 2021:')\n",
    "data_hour_count[data_hour_count < hour_first_quartile - 1.5*(inter_dist)]"
   ]
  },
  {
   "cell_type": "markdown",
   "id": "85490bcf",
   "metadata": {},
   "source": [
    "Note que são justamente os horários da madrugada/começo da manhã."
   ]
  },
  {
   "cell_type": "markdown",
   "id": "378274ea",
   "metadata": {},
   "source": [
    "### Estação e Código"
   ]
  },
  {
   "cell_type": "markdown",
   "id": "b7eb0718",
   "metadata": {},
   "source": [
    "Estação e Código possuem relação de 1:1, então esperamos que a contagem seja a mesma."
   ]
  },
  {
   "cell_type": "code",
   "execution_count": null,
   "id": "e58c47c2",
   "metadata": {
    "scrolled": true
   },
   "outputs": [],
   "source": [
    "data_station_count = data['Estacao'].value_counts()\n",
    "data_station_count.describe()"
   ]
  },
  {
   "cell_type": "code",
   "execution_count": null,
   "id": "f34725d3",
   "metadata": {
    "scrolled": true
   },
   "outputs": [],
   "source": [
    "data_code_count = data['Codigo'].value_counts()\n",
    "data_code_count.describe()"
   ]
  },
  {
   "cell_type": "markdown",
   "id": "0c9a4e0c",
   "metadata": {},
   "source": [
    "Vemos que não acontece o esperado: temos uma contagem de códigos menor que a de estações. Vamos tentar buscar o porquê, analisando:\n",
    "\n",
    "- Presença de valores nulos.\n",
    "- Presença de códigos iguais para diferentes localidades."
   ]
  },
  {
   "cell_type": "markdown",
   "id": "25f32c77",
   "metadata": {},
   "source": [
    "Presença de valores nulos:"
   ]
  },
  {
   "cell_type": "code",
   "execution_count": null,
   "id": "388f3c08",
   "metadata": {},
   "outputs": [],
   "source": [
    "print_null_values_count(data, 'Codigo')"
   ]
  },
  {
   "cell_type": "markdown",
   "id": "3cfafd04",
   "metadata": {},
   "source": [
    "Não há valores nulos na coluna 'Codigo'."
   ]
  },
  {
   "cell_type": "markdown",
   "id": "ff605259",
   "metadata": {},
   "source": [
    "Presença de códigos iguais para diferentes localidades:"
   ]
  },
  {
   "cell_type": "code",
   "execution_count": null,
   "id": "97918138",
   "metadata": {
    "deletable": false,
    "editable": false
   },
   "outputs": [],
   "source": [
    "query('''\n",
    "    SELECT x.Codigo, x.Estacao \n",
    "    FROM \n",
    "        (SELECT DISTINCT Codigo, Estacao FROM data) x,\n",
    "        (SELECT DISTINCT Codigo, Estacao FROM data) y\n",
    "    WHERE x.Codigo = y.Codigo\n",
    "    AND x.Estacao <> y.Estacao\n",
    "    ORDER BY x.Codigo\n",
    "''')"
   ]
  },
  {
   "cell_type": "markdown",
   "id": "d5276c38",
   "metadata": {},
   "source": [
    "Achamos o problema! Vamos corrigí-lo adicionando acentos em todas as estações sem acento:"
   ]
  },
  {
   "cell_type": "code",
   "execution_count": null,
   "id": "50b516b4",
   "metadata": {},
   "outputs": [],
   "source": [
    "data.loc[data['Estacao'] == 'Guaratingueta', 'Estacao'] = 'Guaratinguetá'\n",
    "data.loc[data['Estacao'] == 'Cordeiropolis - Modolo', 'Estacao'] = 'Cordeirópolis - Módolo'\n",
    "data.loc[data['Estacao'] == 'Guaruja - Vicente de Carvalho', 'Estacao'] = 'Guarujá - Vicente de Carvalho'"
   ]
  },
  {
   "cell_type": "markdown",
   "id": "86445bc9",
   "metadata": {},
   "source": [
    "Atualizando as variáveis:"
   ]
  },
  {
   "cell_type": "code",
   "execution_count": null,
   "id": "266a07fe",
   "metadata": {},
   "outputs": [],
   "source": [
    "data_station_count = data['Estacao'].value_counts()\n",
    "data_code_count = data['Codigo'].value_counts()"
   ]
  },
  {
   "cell_type": "code",
   "execution_count": null,
   "id": "bcb63851",
   "metadata": {},
   "outputs": [],
   "source": [
    "data_station_count.describe()"
   ]
  },
  {
   "cell_type": "code",
   "execution_count": null,
   "id": "acef6258",
   "metadata": {
    "scrolled": false
   },
   "outputs": [],
   "source": [
    "data_code_count.describe()"
   ]
  },
  {
   "cell_type": "markdown",
   "id": "a71fc22a",
   "metadata": {},
   "source": [
    "Finalmente, temos a lista dos códigos e suas respectivas estações:"
   ]
  },
  {
   "cell_type": "code",
   "execution_count": null,
   "id": "a7eeb194",
   "metadata": {},
   "outputs": [],
   "source": [
    "data[['Codigo', 'Estacao']].drop_duplicates().reset_index(drop = True)"
   ]
  },
  {
   "cell_type": "markdown",
   "id": "554321e0",
   "metadata": {},
   "source": [
    "### Poluente"
   ]
  },
  {
   "cell_type": "markdown",
   "id": "772e71b4",
   "metadata": {},
   "source": [
    "Lista dos poluentes cujas concentrações são medidas:"
   ]
  },
  {
   "cell_type": "code",
   "execution_count": null,
   "id": "a03dc529",
   "metadata": {},
   "outputs": [],
   "source": [
    "data[['Poluente']].drop_duplicates().reset_index(drop = True)"
   ]
  },
  {
   "cell_type": "markdown",
   "id": "d53366e4",
   "metadata": {},
   "source": [
    "Verificando se não há valores inexistentes (null ou nan):"
   ]
  },
  {
   "cell_type": "code",
   "execution_count": null,
   "id": "75baa711",
   "metadata": {
    "scrolled": true
   },
   "outputs": [],
   "source": [
    "print_null_values_count(data, 'Poluente')"
   ]
  },
  {
   "cell_type": "markdown",
   "id": "e038b3dd",
   "metadata": {},
   "source": [
    "Verificando a quantidade de medições de cada poluente separadamente:"
   ]
  },
  {
   "cell_type": "code",
   "execution_count": null,
   "id": "ce17160c",
   "metadata": {
    "scrolled": true
   },
   "outputs": [],
   "source": [
    "pol_count = data['Poluente'].value_counts()\n",
    "pol_count"
   ]
  },
  {
   "cell_type": "markdown",
   "id": "7eeeabf0",
   "metadata": {},
   "source": [
    "E as estatísticas gerais dessas quantidades:"
   ]
  },
  {
   "cell_type": "code",
   "execution_count": null,
   "id": "41051a7f",
   "metadata": {},
   "outputs": [],
   "source": [
    "pol_count.describe()"
   ]
  },
  {
   "cell_type": "markdown",
   "id": "894f531f",
   "metadata": {},
   "source": [
    "Temos 9 poluentes distintos. Notamos que o MP10, o O3 e o NO2 são aqueles que, de longe, são os mais medidos. Enquanto isso, estações medindo FMC e PTS são muito escassas. Podemos verificar a distribuição do número medições através de um histograma:"
   ]
  },
  {
   "cell_type": "code",
   "execution_count": null,
   "id": "57cef335",
   "metadata": {},
   "outputs": [],
   "source": [
    "pol_count = data['Poluente'].value_counts()\n",
    "more_measures = ['MP10', 'O3', 'NO2']\n",
    "less_measures = ['MP2.5', 'CO', 'SO2', 'NO', 'FMC', 'PTS']\n",
    "sum_more = sum(pol_count[more_measures])\n",
    "sum_less = sum(pol_count[less_measures])\n",
    "more_measures_rate = sum_more/sum_less\n",
    "\n",
    "plt.figure(figsize=(10,6))\n",
    "plt.bar([' ', '  '], [sum_less, sum_more], color = ['Gray', 'Darkblue'])\n",
    "plt.text(-0.14, 2.9*10**6, s = 'Outros Poluentes', color = 'White', fontsize = '11')\n",
    "plt.text(0.85, 7.3*10**6, s = 'MP10, O3 e NO2', color = 'White', fontsize = '12')\n",
    "plt.ylabel('Número de medições')\n",
    "plt.suptitle('Comparação entre as somas dos nºs de medições dos poluentes', fontsize = '16')\n",
    "plt.title(f'Os poluentes MP10, O3 e NO2, somados, possuem um número de medições {round(more_measures_rate,1)} vezes maior que os outros poluentes somados.')"
   ]
  },
  {
   "cell_type": "markdown",
   "id": "55252150",
   "metadata": {},
   "source": [
    "### Unidade"
   ]
  },
  {
   "cell_type": "markdown",
   "id": "e4d7797f",
   "metadata": {},
   "source": [
    "Verificando se não há valores inexistentes (null ou nan)."
   ]
  },
  {
   "cell_type": "code",
   "execution_count": null,
   "id": "f3936b26",
   "metadata": {},
   "outputs": [],
   "source": [
    "print_null_values_count(data, 'Unidade')"
   ]
  },
  {
   "cell_type": "markdown",
   "id": "653497ec",
   "metadata": {},
   "source": [
    "Verificando quais unidades são utilizadas para descrever as concentrações dos poluentes:"
   ]
  },
  {
   "cell_type": "code",
   "execution_count": null,
   "id": "08052ba6",
   "metadata": {
    "scrolled": true
   },
   "outputs": [],
   "source": [
    "data['Unidade'].value_counts()"
   ]
  },
  {
   "cell_type": "markdown",
   "id": "a999629d",
   "metadata": {},
   "source": [
    "Todos os valores de concentração são medidos em $\\frac{\\mu g}{m^{3}}$ (microgramas por metro cúbico) de poluente."
   ]
  },
  {
   "cell_type": "markdown",
   "id": "c8df7f9a",
   "metadata": {},
   "source": [
    "### Tipo"
   ]
  },
  {
   "cell_type": "markdown",
   "id": "25836d74",
   "metadata": {},
   "source": [
    "Tipos de medições existentes:"
   ]
  },
  {
   "cell_type": "code",
   "execution_count": null,
   "id": "d5df9a20",
   "metadata": {},
   "outputs": [],
   "source": [
    "data[['Tipo']].drop_duplicates().reset_index(drop = True)"
   ]
  },
  {
   "cell_type": "markdown",
   "id": "b94c58ad",
   "metadata": {},
   "source": [
    "Verificando se não há valores inexistentes (null ou nan)."
   ]
  },
  {
   "cell_type": "code",
   "execution_count": null,
   "id": "f47e5951",
   "metadata": {},
   "outputs": [],
   "source": [
    "print_null_values_count(data, 'Tipo')"
   ]
  },
  {
   "cell_type": "markdown",
   "id": "7b4c2b73",
   "metadata": {},
   "source": [
    "Verificando os números de medições que foram feitas manual e automaticamente:"
   ]
  },
  {
   "cell_type": "code",
   "execution_count": null,
   "id": "30bfb7db",
   "metadata": {},
   "outputs": [],
   "source": [
    "type_count = data['Tipo'].value_counts()\n",
    "type_count"
   ]
  },
  {
   "cell_type": "markdown",
   "id": "3af16995",
   "metadata": {},
   "source": [
    "A extensa maioria das medições foi feita automaticamente. É curioso sabermos em que lugares foram feitas as medições automáticas e as manuais, e quantas foram feitas em cada lugar."
   ]
  },
  {
   "cell_type": "code",
   "execution_count": null,
   "id": "1300e46f",
   "metadata": {
    "scrolled": true
   },
   "outputs": [],
   "source": [
    "auto_measure_count = data[data['Tipo'] == 'automatica']['Estacao'].value_counts()\n",
    "manual_measure_count = data[data['Tipo'] == 'manual']['Estacao'].value_counts()\n",
    "auto_len = len(auto_measure_count)\n",
    "manual_len = len(manual_measure_count)\n",
    "print(f'Número de locais com medição automática: {auto_len}')\n",
    "print(f'Número de locais com medição manual: {manual_len}')"
   ]
  },
  {
   "cell_type": "markdown",
   "id": "684c236d",
   "metadata": {},
   "source": [
    "Visualizando esse resultado graficamente:"
   ]
  },
  {
   "cell_type": "code",
   "execution_count": null,
   "id": "a1dabed0",
   "metadata": {
    "scrolled": true
   },
   "outputs": [],
   "source": [
    "x = np.array(['Manual', 'Automática'])\n",
    "y = np.array([manual_len, auto_len])\n",
    "manual_measures_count = type_count['manual']\n",
    "auto_measures_count = type_count['automatica']\n",
    "\n",
    "plt.bar(x, y, color = ['Gray', 'Darkblue'])\n",
    "plt.yticks([])\n",
    "plt.ylabel('Quantidade de locais')\n",
    "plt.text(0 - 0.02, manual_len + 0.5, s = f'{manual_len}', fontsize = '11')\n",
    "plt.text(1 - 0.02, auto_len + 0.5, s = f'{auto_len}', fontsize = '11')\n",
    "plt.text(0 - 0.21, manual_len - 31, s = f'({manual_measures_count} medições)', color = 'white', fontsize = '9')\n",
    "plt.text(1 - 0.27, auto_len - 62.8, s = f'({auto_measures_count} medições)', color = 'white', fontsize = '9')\n",
    "auto_percentage = type_count['automatica']/(type_count['automatica'] + type_count['manual']) * 100\n",
    "plt.suptitle('Quantidade de locais por tipo de medição de poluentes', fontsize = '16')\n",
    "plt.title(f'A maioria dos locais utiliza medições automáticas, as quais caracterizam {round(auto_percentage, 1)}% das medições de poluentes.')"
   ]
  },
  {
   "cell_type": "markdown",
   "id": "a556bba1",
   "metadata": {},
   "source": [
    "Como auto está em uma quantidade muito grande, verificaremos apenas seus valores maiores e menores para se ter uma base de quais locais possuem esses valores."
   ]
  },
  {
   "cell_type": "code",
   "execution_count": null,
   "id": "92bbd51a",
   "metadata": {
    "scrolled": false
   },
   "outputs": [],
   "source": [
    "print(f'Locais com maiores números de medições automáticas:\\n\\n{auto_measure_count.head()}\\n')\n",
    "print(f'Locais com menores números de medições automáticas:\\n\\n{auto_measure_count.tail()}')"
   ]
  },
  {
   "cell_type": "markdown",
   "id": "c51af2bd",
   "metadata": {},
   "source": [
    "Como manual está em menor quantidade, podemos verificar todos os seus valores com clareza."
   ]
  },
  {
   "cell_type": "code",
   "execution_count": null,
   "id": "c75cfa0c",
   "metadata": {
    "scrolled": false
   },
   "outputs": [],
   "source": [
    "print(f'Locais com medições manuais e seus números:\\n\\n{manual_measure_count}')"
   ]
  },
  {
   "cell_type": "markdown",
   "id": "fbafa141",
   "metadata": {},
   "source": [
    "### Valor"
   ]
  },
  {
   "cell_type": "markdown",
   "id": "8c1c29e5",
   "metadata": {},
   "source": [
    "Verificando se não há valores inexistentes (null ou nan):"
   ]
  },
  {
   "cell_type": "code",
   "execution_count": null,
   "id": "8a721f4c",
   "metadata": {},
   "outputs": [],
   "source": [
    "print_null_values_count(data, 'Valor')"
   ]
  },
  {
   "cell_type": "markdown",
   "id": "06203cb0",
   "metadata": {},
   "source": [
    "Estatísticas gerais:"
   ]
  },
  {
   "cell_type": "code",
   "execution_count": null,
   "id": "44485fea",
   "metadata": {
    "scrolled": true
   },
   "outputs": [],
   "source": [
    "data['Valor'].describe()"
   ]
  },
  {
   "cell_type": "markdown",
   "id": "1b4ba1ba",
   "metadata": {},
   "source": [
    "Aqui notamos que os valores de concentrações possuem:\n",
    "\n",
    "- Desvio-padrão muito elevado, de 250, ou seja, dados muito dispersos;\n",
    "- Média de 83,3;\n",
    "- 25% dos valores menores ou iguais a 9;\n",
    "- 50% dos valores menores ou iguais a 22;\n",
    "- 75% dos valores menores ou iguais a 45;\n",
    "- Máximo extremamente elevado, de 9981.\n",
    "- Mínimo igual a 0.\n",
    "\n",
    "Assim, temos dados com valores muito diversificados e com concentração de valores muito grande para valores pequenos ($ <= 45\\frac{\\mu g}{m^{3}}$). Os outliers, enquanto isso, são extremamente discrepantes do restante dos dados, contribuindo para o alto desvio-padrão observado.\n",
    "\n",
    "Para conseguirmos observar bem a distribuição em cada intervalo de valores, teremos que verificar vários histogramas. Antes disso, verifiquemos como se comporta o boxplot:"
   ]
  },
  {
   "cell_type": "code",
   "execution_count": null,
   "id": "b735f5d5",
   "metadata": {
    "scrolled": true
   },
   "outputs": [],
   "source": [
    "plt.boxplot(data['Valor'])\n",
    "plt.title('Boxplot da coluna Valor')"
   ]
  },
  {
   "cell_type": "markdown",
   "id": "1bce0354",
   "metadata": {},
   "source": [
    "Vemos que, devido à quantidade imensa de dados (mais de 10 milhões) e à grande dispersão dos dados, com presença de outliers muito grandes, o boxplot se comporta de forma que não conseguimos enxergar bem os valores nos quartis. Podemos, no entanto, observar que de fato há outliers extremamente fora dos valores comumente encontrados no conjunto de dados."
   ]
  },
  {
   "cell_type": "markdown",
   "id": "ddb0db3e",
   "metadata": {},
   "source": [
    "Vamos verificar agora os histogramas para diferentes intervalos. Iremos analisar, por enquanto, 3 histogramas distintos:\n",
    "\n",
    "- Histograma de todos os dados (visão geral);\n",
    "- Histograma dos valores <= 3º quartil = 45;\n",
    "- Histograma dos valores >= 3º quartil = 45;"
   ]
  },
  {
   "cell_type": "code",
   "execution_count": null,
   "id": "ce190f1f",
   "metadata": {},
   "outputs": [],
   "source": [
    "[i*10**6 for i in np.arange(0.0, 3.0, 0.5)]\n"
   ]
  },
  {
   "cell_type": "code",
   "execution_count": null,
   "id": "8d5371ae",
   "metadata": {},
   "outputs": [],
   "source": [
    "third_quartile = data['Valor'].quantile(0.75)\n",
    "gs = gridspec.GridSpec(2, 2)\n",
    "\n",
    "fig = plt.figure(figsize=(10,10))\n",
    "ax1 = fig.add_subplot(gs[0, :])\n",
    "ax1.hist(data['Valor'], color = 'Darkblue')\n",
    "ax1.set_title('Histograma de todos os valores da coluna Valor')\n",
    "\n",
    "ticks = [i*10**6 for i in np.arange(0.0, 3.5, 0.5)]\n",
    "\n",
    "ax2 = fig.add_subplot(gs[1,0])\n",
    "ax2.hist(data[data['Valor'] <= third_quartile]['Valor'], color = 'Darkblue')\n",
    "ax2.set_yticks(ticks)\n",
    "ax2.set_ylim(0, 3*10**6)\n",
    "ax2.set_title(f'Valores antes do 3º quartil (75% dos valores) (valor <= {third_quartile})', fontsize = '10')\n",
    "\n",
    "ax3 = fig.add_subplot(gs[1,1])\n",
    "ax3.hist(data[data['Valor'] > third_quartile]['Valor'], color = 'Darkblue')\n",
    "ax3.set_yticks(ticks)\n",
    "ax3.set_ylim(0, 3*10**6)\n",
    "ax3.set_title(f'Valores após o 3º quartil (25% dos valores) (valor > {third_quartile})', fontsize = '10')"
   ]
  },
  {
   "cell_type": "markdown",
   "id": "39ec88ae",
   "metadata": {},
   "source": [
    "Com isso, podemos verificar que ainda há muitos valores maiores que o terceiro quartil, em relação aos outliers. Iremos plotar novos histogramas:\n",
    "\n",
    "- Histograma dos valores v tais que 45 <= v <= 45 + 1.5*dist_interquartilica\n",
    "- Histograma dos valores v tais que v >= 45 + 1.5*dist_interquartilica\n",
    "\n",
    "Obs: a distância (ou amplitude) interquartílica é definida como a diferença entre os valores do 3º e 1º quartis."
   ]
  },
  {
   "cell_type": "code",
   "execution_count": null,
   "id": "668e5f0a",
   "metadata": {},
   "outputs": [],
   "source": [
    "first_quartile = data['Valor'].quantile(0.25)\n",
    "third_quartile = data['Valor'].quantile(0.75)\n",
    "inter_dist = (third_quartile - first_quartile)\n",
    "outlier_threshold = int(third_quartile + 1.5*inter_dist)\n",
    "\n",
    "fig, axs = plt.subplots(1, 2, figsize = (10,4))\n",
    "\n",
    "ticks = [i*10**6 for i in np.arange(0.0, 3.5, 0.5)]\n",
    "\n",
    "axs[0].hist(data[(data['Valor'] <= outlier_threshold) & (data['Valor'] > third_quartile)]['Valor'], color = 'Darkblue')\n",
    "axs[0].set_yticks(ticks)\n",
    "axs[0].set_ylim(0, 3*10**6)\n",
    "axs[0].set_title(f'Valores após o 3º quartil e não-outliers ({third_quartile} < valor <= {outlier_threshold})', fontsize = '11')\n",
    "\n",
    "axs[1].hist(data[data['Valor'] > outlier_threshold]['Valor'], color = 'Darkblue')\n",
    "axs[1].set_yticks(ticks)\n",
    "axs[1].set_ylim(0, 3*10**6)\n",
    "axs[1].set_title(f'Valores outliers (valor > {outlier_threshold})', fontsize = '11')"
   ]
  },
  {
   "cell_type": "markdown",
   "id": "58aa9979",
   "metadata": {},
   "source": [
    "Por fim, iremos obter mais dois histogramas separando os maiores outliers:\n",
    "\n",
    "- Histograma dos valores v tais que 45 + 1.5*inter_dist <= v <= 1000 (valor escolhido com base nos gráficos anteriores)\n",
    "- Histograma dos valores >= 1000"
   ]
  },
  {
   "cell_type": "code",
   "execution_count": null,
   "id": "9a5eb080",
   "metadata": {},
   "outputs": [],
   "source": [
    "first_quartile = data['Valor'].quantile(0.25)\n",
    "third_quartile = data['Valor'].quantile(0.75)\n",
    "inter_dist = (third_quartile - first_quartile)\n",
    "outlier_threshold = int(third_quartile + 1.5*inter_dist)\n",
    "big_outlier_threshold = 1000\n",
    "\n",
    "fig, axs = plt.subplots(1, 2, figsize = (10,4))\n",
    "\n",
    "ticks = [i*10**5 for i in np.arange(0.0, 3.5, 0.5)]\n",
    "\n",
    "axs[0].hist(data[(data['Valor'] > outlier_threshold) & (data['Valor'] <= big_outlier_threshold)]['Valor'], color = 'Darkblue')\n",
    "axs[0].set_yticks(ticks)\n",
    "axs[0].set_title(f'Menores outliers ({outlier_threshold} < outliers <= {big_outlier_threshold})')\n",
    "\n",
    "axs[1].hist(data[(data['Valor'] > big_outlier_threshold)]['Valor'], color = 'Darkblue')\n",
    "axs[1].set_yticks(ticks)\n",
    "axs[1].set_title(f'Maiores outliers (outliers > {big_outlier_threshold})')"
   ]
  },
  {
   "cell_type": "markdown",
   "id": "bb438c4e",
   "metadata": {},
   "source": [
    "---"
   ]
  },
  {
   "cell_type": "markdown",
   "id": "f05bda7a",
   "metadata": {},
   "source": [
    "## Análises bivariada e multivariada: estudando colunas em conjunto"
   ]
  },
  {
   "cell_type": "code",
   "execution_count": null,
   "id": "c56dbdc7",
   "metadata": {},
   "outputs": [],
   "source": [
    "data.head()"
   ]
  },
  {
   "cell_type": "markdown",
   "id": "b9188be2",
   "metadata": {
    "hideCode": true
   },
   "source": [
    "Agora que sabemos as distribuições e estatísticas gerais de cada variável, vamos analisar a relação entre elas. Para isso, responderemos algumas perguntas:\n",
    "\n",
    "**1) Qual a correlação entre a hora do dia e o valor da concentração de cada poluente, considerando os dados de todos os locais? Deve ser para cada poluente, pois não faz sentido analisar poluentes distintos juntos porque a ordem de grandeza de sua concentração média pode ser distinta.**\n",
    "\n",
    "**2) Qual a hora do dia em que a concentração média de poluição é a maior, considerando os dados de todos os locais? Se possível, faça uma comparação.**\n",
    "\n",
    "**3) Quais poluentes são medidos automaticamente e quais são medidos manualmente? Quais são as horas em que há medições automáticas e quais em que há medições manuais?**\n",
    "\n",
    "**4) Quais os poluentes que possuem valores de concentração danosos à saúde e quais as estações onde ocorreram essas medições?**\n",
    "\n",
    "**5) Como varia a concentração média de MP10 (o poluente mais medido) para cada local ao longo dos anos?**\n",
    "\n",
    "**6) Plote um gráfico de média de concentração do poluente por média horária para o NO e para o NO2 no Parque Dom Pedro II (em São Paulo capital). Faça hipóteses sobre as variações de concentração de NO (diminuição) e de NO2 (aumento) ao longo do dia.**\n",
    "\n",
    "**7) Plote um gráfico de média de concentração do poluente NO2 por mês em São José dos Campos. Analise as diferenças de concentração nos períodos letivo e de férias (dezembro, janeiro e fevereiro).**"
   ]
  },
  {
   "cell_type": "markdown",
   "id": "14056268",
   "metadata": {},
   "source": [
    "Respondendo cada pergunta com base nos dados:"
   ]
  },
  {
   "cell_type": "markdown",
   "id": "c847d585",
   "metadata": {},
   "source": [
    "**1) Qual a correlação entre a hora do dia e o valor da concentração para cada poluente, considerando os dados de todos os locais? Deve ser para cada poluente, pois não faz sentido analisar poluentes distintos juntos porque a ordem de grandeza de sua concentração média pode ser distinta.**\n"
   ]
  },
  {
   "cell_type": "markdown",
   "id": "64d600e3",
   "metadata": {},
   "source": [
    "Para determinar a correlação entre a hora do dia e o valor da concentração de cada poluente no conjunto de dados, deveremos transformar a coluna Data, uma variável categórica, em uma variável numérica. Faremos isso apenas em um dataframe auxiliar para responder a pergunta, nomeado data_aux1."
   ]
  },
  {
   "cell_type": "code",
   "execution_count": null,
   "id": "e4ad1dda",
   "metadata": {},
   "outputs": [],
   "source": [
    "data_aux1 = data.copy()\n",
    "\n",
    "def hour_to_num(hour):\n",
    "    hour_split = hour.split(':')\n",
    "    return float(hour_split[0]) + float(hour_split[1])/60\n",
    "\n",
    "data_aux1['Hora Numerica'] = data_aux1['Hora'].apply(hour_to_num)"
   ]
  },
  {
   "cell_type": "code",
   "execution_count": null,
   "id": "9cb489b2",
   "metadata": {},
   "outputs": [],
   "source": [
    "data_aux1['Hora Numerica'].head()"
   ]
  },
  {
   "cell_type": "markdown",
   "id": "774a5996",
   "metadata": {},
   "source": [
    "Obtendo agora a correlação para cada poluente:"
   ]
  },
  {
   "cell_type": "code",
   "execution_count": null,
   "id": "c3a3c87d",
   "metadata": {},
   "outputs": [],
   "source": [
    "pols = data_aux1['Poluente'].unique()\n",
    "pol_hour_corr = {}\n",
    "for pol in pols:\n",
    "    data_pol = data_aux1[['Valor', 'Hora Numerica']][data_aux1['Poluente'] == pol]\n",
    "    pol_hour_corr[pol] = data_pol.corr()['Hora Numerica'][0]"
   ]
  },
  {
   "cell_type": "code",
   "execution_count": null,
   "id": "74db3923",
   "metadata": {
    "scrolled": false
   },
   "outputs": [],
   "source": [
    "pol_hour_corr"
   ]
  },
  {
   "cell_type": "markdown",
   "id": "248d4439",
   "metadata": {},
   "source": [
    "Como veremos mais adiante, os poluentes 'FMC' e 'PTS' possuem medições apenas às 01:00h. Assim, a correlação entre os dados de valor e hora não existe para esses dois poluentes. Vamos então eliminá-los da análise.\n",
    "\n",
    "Obs: isso acontece porque o coeficiente de correlação $p$ entre duas variáveis x e y é definido por:\n",
    "\n",
    "$$p = \\frac{\\sigma_{xy}}{\\sigma_{x}\\cdot\\sigma_{y}}$$\n",
    "\n",
    "sendo $\\sigma_{xy}$ a covariância entre x e y, $\\sigma_{x}$ o desvio-padrão de x e $\\sigma_{y}$ o desvio-padrão de y. \n",
    "No nosso caso, se a variável hora não varia, ela possui desvio-padrão nulo, fazendo o coeficiente de correlação ir para infinito (interpretado como NaN)."
   ]
  },
  {
   "cell_type": "code",
   "execution_count": null,
   "id": "d26c7397",
   "metadata": {
    "scrolled": true
   },
   "outputs": [],
   "source": [
    "pol_hour_corr.pop('FMC')\n",
    "pol_hour_corr.pop('PTS')"
   ]
  },
  {
   "cell_type": "markdown",
   "id": "03793c8a",
   "metadata": {},
   "source": [
    "Assim, podemos plotar essa correlação para cada poluente:"
   ]
  },
  {
   "cell_type": "code",
   "execution_count": null,
   "id": "e53861fb",
   "metadata": {},
   "outputs": [],
   "source": [
    "plt.bar(pol_hour_corr.keys(), pol_hour_corr.values(), color = 'darkblue')\n",
    "plt.grid()\n",
    "plt.yticks(ticks = [-0.10, -0.05, 0.00, 0.05, 0.10, 0.15, 0.20])\n",
    "plt.title('Correlação (Hora x Concentração) por Poluente')\n",
    "plt.ylabel('Coefiente de Correlação')\n",
    "plt.xlabel('Poluente')"
   ]
  },
  {
   "cell_type": "markdown",
   "id": "f1520131",
   "metadata": {},
   "source": [
    "Para explicações sobre a relação entre as correlações de NO e NO2 olhe a Questão 6. O resultado é bastante curioso e tem uma explicação química."
   ]
  },
  {
   "cell_type": "markdown",
   "id": "773f9334",
   "metadata": {},
   "source": [
    "**2) Qual a hora do dia em que a concentração média de poluição é a maior e qual hora em que é menor, considerando todos os dados? Se possível, faça uma comparação.**"
   ]
  },
  {
   "cell_type": "markdown",
   "id": "b1c7c627",
   "metadata": {},
   "source": [
    "Criaremos o dataframe auxiliar data_aux2 para obter os valores das médias de concentração de poluentes para cada poluente."
   ]
  },
  {
   "cell_type": "code",
   "execution_count": null,
   "id": "449ec2d1",
   "metadata": {},
   "outputs": [],
   "source": [
    "data_aux2 = data[['Hora', 'Valor']].groupby('Hora').mean().sort_values(by = 'Valor', ascending = False)"
   ]
  },
  {
   "cell_type": "code",
   "execution_count": null,
   "id": "0e45ecb5",
   "metadata": {},
   "outputs": [],
   "source": [
    "data_aux2.head(1)"
   ]
  },
  {
   "cell_type": "markdown",
   "id": "36d6cccc",
   "metadata": {},
   "source": [
    "A hora do dia com maior concentração média de poluentes é 20:00h."
   ]
  },
  {
   "cell_type": "code",
   "execution_count": null,
   "id": "988097bd",
   "metadata": {
    "scrolled": true
   },
   "outputs": [],
   "source": [
    "data_aux2.tail(1)"
   ]
  },
  {
   "cell_type": "markdown",
   "id": "63f03200",
   "metadata": {},
   "source": [
    "Por sua vez, a hora com menor concentração média de poluentes é 5:00h."
   ]
  },
  {
   "cell_type": "markdown",
   "id": "b779612d",
   "metadata": {},
   "source": [
    "Nessa análise, se diferentes poluentes forem medidos ou diferentes cidades tiverem suas medições em cada um dos horários, essa informação não terá muito significado. Para verificar se isso ocorre, vamos determinar quais poluentes são medidos às 20:00h e às 05:00h e quais as cidades que possuem medições nesses horários."
   ]
  },
  {
   "cell_type": "code",
   "execution_count": null,
   "id": "e7520325",
   "metadata": {
    "scrolled": true
   },
   "outputs": [],
   "source": [
    "pol20 = data[data['Hora'] == '20:00']['Poluente'].unique()"
   ]
  },
  {
   "cell_type": "code",
   "execution_count": null,
   "id": "7b0403af",
   "metadata": {
    "scrolled": true
   },
   "outputs": [],
   "source": [
    "pol5 = data[data['Hora'] == '05:00']['Poluente'].unique()"
   ]
  },
  {
   "cell_type": "code",
   "execution_count": null,
   "id": "ccdf57c7",
   "metadata": {},
   "outputs": [],
   "source": [
    "pol20 == pol5"
   ]
  },
  {
   "cell_type": "code",
   "execution_count": null,
   "id": "662d2767",
   "metadata": {
    "scrolled": true
   },
   "outputs": [],
   "source": [
    "pol20"
   ]
  },
  {
   "cell_type": "markdown",
   "id": "ce9fb4d0",
   "metadata": {},
   "source": [
    "Os 7 mesmos poluentes são medidos em ambos os horários."
   ]
  },
  {
   "cell_type": "code",
   "execution_count": null,
   "id": "a5bd46ee",
   "metadata": {},
   "outputs": [],
   "source": [
    "sta1 = data[data['Hora'] == '20:00']['Estacao'].unique()"
   ]
  },
  {
   "cell_type": "code",
   "execution_count": null,
   "id": "03dcc749",
   "metadata": {},
   "outputs": [],
   "source": [
    "sta2 = data[data['Hora'] == '05:00']['Estacao'].unique()"
   ]
  },
  {
   "cell_type": "code",
   "execution_count": null,
   "id": "426c354f",
   "metadata": {
    "scrolled": true
   },
   "outputs": [],
   "source": [
    "sta1 == sta2"
   ]
  },
  {
   "cell_type": "code",
   "execution_count": null,
   "id": "15492a95",
   "metadata": {},
   "outputs": [],
   "source": [
    "len(sta1)"
   ]
  },
  {
   "cell_type": "markdown",
   "id": "5fe44f03",
   "metadata": {},
   "source": [
    "Inclusive todos os mesmos 65 locais possuem medições em ambos os horários. Dessa forma, a comparação entre os valores médios nos dois horários é válida.\n",
    "\n",
    "Isso é bastante curioso, pois 65 é o número exato de locais em que há medições automáticas de poluentes, como vimos na análise univariada. Será que esses locais são justamente eles? Vamos verificar:"
   ]
  },
  {
   "cell_type": "code",
   "execution_count": null,
   "id": "94fe4bc9",
   "metadata": {},
   "outputs": [],
   "source": [
    "data[data['Tipo'] == 'automatica']['Estacao'].unique() == sta1"
   ]
  },
  {
   "cell_type": "markdown",
   "id": "f97ecf27",
   "metadata": {},
   "source": [
    "Vemos que sim! Os locais com medições às 20:00h e às 5:00h são justamente aqueles com medições automáticas.\n",
    "\n",
    "Podemos verificar isso também descobrindo quais são as horas em que há medições automáticas e quais em que há medições manuais. Responderemos isso na próxima pergunta."
   ]
  },
  {
   "cell_type": "markdown",
   "id": "987ce812",
   "metadata": {},
   "source": [
    "**3) Quais poluentes são medidos automaticamente e quais são medidos manualmente? Quais são as horas em que há medições automáticas e quais em que há medições manuais?**"
   ]
  },
  {
   "cell_type": "markdown",
   "id": "3b562a8b",
   "metadata": {},
   "source": [
    "A resposta da pergunta anterior nos instiga a pensar nas respostas dessa pergunta. Para determinarmos os poluentes, é bastante simples:"
   ]
  },
  {
   "cell_type": "code",
   "execution_count": null,
   "id": "700f79b0",
   "metadata": {},
   "outputs": [],
   "source": [
    "auto_pol = data[data['Tipo'] == 'automatica']['Poluente'].unique()\n",
    "print(auto_pol)"
   ]
  },
  {
   "cell_type": "code",
   "execution_count": null,
   "id": "e4408dda",
   "metadata": {},
   "outputs": [],
   "source": [
    "manual_pol = data[data['Tipo'] == 'manual']['Poluente'].unique()\n",
    "print(manual_pol)"
   ]
  },
  {
   "cell_type": "markdown",
   "id": "a6d310eb",
   "metadata": {},
   "source": [
    "Há alguns poluentes que são medidos tanto automatica quanto manualmente. São eles:"
   ]
  },
  {
   "cell_type": "code",
   "execution_count": null,
   "id": "6f4471e6",
   "metadata": {
    "scrolled": true
   },
   "outputs": [],
   "source": [
    "auto_manual_pol = set(auto_pol).intersection(set(manual_pol))\n",
    "print(auto_manual_pol)"
   ]
  },
  {
   "cell_type": "markdown",
   "id": "a9813251",
   "metadata": {},
   "source": [
    "E há outros que são medidos apenas manualmente:"
   ]
  },
  {
   "cell_type": "code",
   "execution_count": null,
   "id": "cf2ea854",
   "metadata": {},
   "outputs": [],
   "source": [
    "only_manual_pol = set(manual_pol).difference(set(auto_pol))\n",
    "print(only_manual_pol)"
   ]
  },
  {
   "cell_type": "markdown",
   "id": "2212d980",
   "metadata": {},
   "source": [
    "Isso confirma nossa afirmação na Questão 1."
   ]
  },
  {
   "cell_type": "markdown",
   "id": "bf802c15",
   "metadata": {},
   "source": [
    "Para a segunda pergunta, precisamos fazer o seguinte:"
   ]
  },
  {
   "cell_type": "code",
   "execution_count": null,
   "id": "49c086f6",
   "metadata": {},
   "outputs": [],
   "source": [
    "print(data[data['Tipo'] == 'automatica']['Hora'].unique())"
   ]
  },
  {
   "cell_type": "markdown",
   "id": "19db562a",
   "metadata": {},
   "source": [
    "Todas as horas do dia possuem medições automáticas."
   ]
  },
  {
   "cell_type": "code",
   "execution_count": null,
   "id": "96d98e22",
   "metadata": {},
   "outputs": [],
   "source": [
    "print(data[data['Tipo'] == 'manual']['Hora'].unique())"
   ]
  },
  {
   "cell_type": "markdown",
   "id": "45334be7",
   "metadata": {},
   "source": [
    "Enquanto isso, medições manuais aconteceram apenas às 01:00h."
   ]
  },
  {
   "cell_type": "markdown",
   "id": "731c5d57",
   "metadata": {},
   "source": [
    "**4) Quais os poluentes que possuem valores de concentração danosos à saúde e quais as estações onde ocorreram essas medições?**"
   ]
  },
  {
   "cell_type": "markdown",
   "id": "50922b73",
   "metadata": {},
   "source": [
    "Para responder esse questionamento, precisaremos da tabela que indica os intervalos de concentrações e seus níveis de perigo à saúde. Ela pode ser vista a seguir:"
   ]
  },
  {
   "cell_type": "code",
   "execution_count": null,
   "id": "bf9f456c",
   "metadata": {
    "scrolled": true
   },
   "outputs": [],
   "source": [
    "display.Image('images/classificacoes_quantidade_poluentes.PNG')"
   ]
  },
  {
   "cell_type": "markdown",
   "id": "fe220383",
   "metadata": {},
   "source": [
    "Obs: iremos responder o questionamento apenas para os poluentes contidos na imagem.\n",
    "\n",
    "Vamos considerar como danosos à saúde os valores a partir da classe **ruim**. Assim, para cada poluente, teremos um limiar diferente que definirá os valores de concentração que procuraremos nos dados. Consideraremos esse limiar como o **menor valor** do intervalo indicado na tabela na linha da classe **ruim**. Assim, a seguir, criaremos um dicionário com esses limiares.\n",
    "\n",
    "Antes de mais nada, verificamos que a unidade da tabela para o CO está diferente. Ela está medindo a concentração em ppm (partes por milhão). Iremos transformar esse valor para micrograma por metro cúbico a seguir."
   ]
  },
  {
   "cell_type": "code",
   "execution_count": null,
   "id": "4ee04293",
   "metadata": {},
   "outputs": [],
   "source": [
    "CO_molecular_mass = 28 # Massa molecular do CO, em g/mol\n",
    "molar_volume = 24.45 # Volume molar a 25ºC e 1 atm, em L.\n",
    "CO_threshold = round((11 * CO_molecular_mass/molar_volume)*10**3,1)"
   ]
  },
  {
   "cell_type": "code",
   "execution_count": null,
   "id": "08019851",
   "metadata": {},
   "outputs": [],
   "source": [
    "bad_threshold = {'MP10': 100, 'MP2.5': 50, 'O3': 130, 'CO': CO_threshold, 'NO2': 240, 'SO2': 40}"
   ]
  },
  {
   "cell_type": "markdown",
   "id": "1a8f414d",
   "metadata": {},
   "source": [
    "Agora temos os limiares. Então, para cada um dos poluentes, iremos procurar nos dados os locais que apresentam poluição suficiente para danificar a saúde de uma pessoa:"
   ]
  },
  {
   "cell_type": "code",
   "execution_count": null,
   "id": "5c11c6a6",
   "metadata": {},
   "outputs": [],
   "source": [
    "pols = ['MP10', 'MP2.5', 'O3', 'CO', 'NO2', 'SO2']"
   ]
  },
  {
   "cell_type": "code",
   "execution_count": null,
   "id": "2dd0ae56",
   "metadata": {
    "scrolled": false
   },
   "outputs": [],
   "source": [
    "for pol in pols:\n",
    "    print(f'Locais em que o poluente {pol} tem valor de concentração danoso à saúde:\\n')\n",
    "    bad_values = sorted(data[(data['Valor'] > bad_threshold[pol]) & (data['Poluente'] == pol)]['Estacao'].unique())\n",
    "    if len(bad_values) == 0:\n",
    "        print('**Não há locais**')\n",
    "    else:\n",
    "        for value in bad_values:\n",
    "            print(f'- {value}')\n",
    "    print('\\n')"
   ]
  },
  {
   "cell_type": "markdown",
   "id": "509c16f3",
   "metadata": {},
   "source": [
    "Por fim, dentre todos esses locais, podemos descobrir aqueles em que a situação é drástica, ou seja, passa do maior valor que caracteriza uma condição **péssima**."
   ]
  },
  {
   "cell_type": "code",
   "execution_count": null,
   "id": "e4975db4",
   "metadata": {},
   "outputs": [],
   "source": [
    "drastic_threshold = {'MP10': 600, 'MP2.5': 300, 'O3': 800, 'CO': round(50*CO_threshold/11, 1), 'NO2': 3750, 'SO2': 2620}"
   ]
  },
  {
   "cell_type": "code",
   "execution_count": null,
   "id": "cae33c94",
   "metadata": {},
   "outputs": [],
   "source": [
    "for pol in pols:\n",
    "    print(f'Locais em que o poluente {pol} tem valor de concentração drasticamente danoso à saúde:\\n')\n",
    "    drastic_values = sorted(data[(data['Valor'] > drastic_threshold[pol]) & (data['Poluente'] == pol)]['Estacao'].unique())\n",
    "    if len(drastic_values) == 0:\n",
    "        print('**Não há locais**')\n",
    "    else:\n",
    "        for value in drastic_values:\n",
    "            print(f'- {value}')\n",
    "    print('\\n')"
   ]
  },
  {
   "cell_type": "markdown",
   "id": "10acc036",
   "metadata": {},
   "source": [
    "**5) Como varia a concentração média de MP10 (o poluente mais medido) para cada local ao longo dos anos?**"
   ]
  },
  {
   "cell_type": "markdown",
   "id": "9ed4cdea",
   "metadata": {},
   "source": [
    "Para isso, devemos agrupar os valores médios por Ano e Estação e selecionar os valores apenas para o MP10. Criaremos primeiro uma coluna 'Ano' em um dataframe auxiliar:"
   ]
  },
  {
   "cell_type": "code",
   "execution_count": null,
   "id": "207962b9",
   "metadata": {
    "scrolled": true
   },
   "outputs": [],
   "source": [
    "data_aux5 = data[['Data', 'Estacao', 'Valor', 'Unidade', 'Poluente']].copy()\n",
    "data_aux5['Ano'] = data_aux5['Data'].apply(lambda x: x.split('-')[0])\n",
    "data_aux5.head()"
   ]
  },
  {
   "cell_type": "code",
   "execution_count": null,
   "id": "02de0680",
   "metadata": {},
   "outputs": [],
   "source": [
    "grouped_data_aux5 = data_aux5.groupby(by = ['Ano', 'Estacao', 'Poluente']).mean(numeric_only = True)"
   ]
  },
  {
   "cell_type": "code",
   "execution_count": null,
   "id": "42812ea7",
   "metadata": {
    "scrolled": true
   },
   "outputs": [],
   "source": [
    "grouped_data_aux5.head()"
   ]
  },
  {
   "cell_type": "markdown",
   "id": "d2819804",
   "metadata": {},
   "source": [
    "Escolhemos então os valores das concentrações de MP10 em cada local e em cada ano:"
   ]
  },
  {
   "cell_type": "code",
   "execution_count": null,
   "id": "61f4ea9d",
   "metadata": {},
   "outputs": [],
   "source": [
    "# Outra possibilidade:\n",
    "# mp10_evolution = grouped_data_aux5.loc[:, :, 'MP10', :] --> sintaxe pior\n",
    "# A maneira correta de selecionar todo o conteúdo de um nível específico é usando slice(None).\n",
    "\n",
    "mp10_evolution = grouped_data_aux5.loc[(slice(None), slice(None), 'MP10'), :]\n",
    "mp10_evolution"
   ]
  },
  {
   "cell_type": "markdown",
   "id": "d5073013",
   "metadata": {},
   "source": [
    "Podemos, com isso, obter a evolução do valor médio de concentração de MP10 (Material particulado de diâmetro aerodinâmico menor ou igual a 10 micrômetros) para qualquer cidade. Tomemos a evolução, por exemplo, para a cidade de São José dos Campos, onde fica o ITA."
   ]
  },
  {
   "cell_type": "code",
   "execution_count": null,
   "id": "08713d1d",
   "metadata": {},
   "outputs": [],
   "source": [
    "sjc_mp10_evolution = mp10_evolution.loc[(slice(None), 'São José dos Campos', slice(None)), :]\n",
    "sjc_mp10_evolution"
   ]
  },
  {
   "cell_type": "markdown",
   "id": "daa5e84d",
   "metadata": {},
   "source": [
    "Graficamente:"
   ]
  },
  {
   "cell_type": "code",
   "execution_count": null,
   "id": "f4110b7f",
   "metadata": {
    "scrolled": true
   },
   "outputs": [],
   "source": [
    "sjc_mp10_values = sjc_mp10_evolution.values\n",
    "sjc_mp10_years = sjc_mp10_evolution.index.get_level_values(0)\n",
    "\n",
    "mp10_drop_percentage = (round(100 * abs((sjc_mp10_evolution.loc['2021'] - sjc_mp10_evolution.loc['2015'])\n",
    "                                        /sjc_mp10_evolution.loc['2015']).values[0][0], 0))\n",
    "                       \n",
    "plt.plot(sjc_mp10_years, sjc_mp10_values, color = 'darkblue')\n",
    "plt.suptitle('Evolução da concentração do poluente MP10 em São José dos Campos (SP)')\n",
    "plt.title(f'Em 2021, a concentração de MP10 no ar da cidade diminuiu quase {mp10_drop_percentage}% em relação a 2015.')\n",
    "plt.xlabel('Ano')\n",
    "plt.ylabel('Concentração de MP10')"
   ]
  },
  {
   "cell_type": "markdown",
   "id": "d072d7a5",
   "metadata": {},
   "source": [
    "**6) Plote um gráfico de média de concentração do poluente por média horária para o NO e para o NO2 no Parque Dom Pedro II (em São Paulo capital). Faça hipóteses sobre as variações de concentração de NO (diminuição) e de NO2 (aumento) ao longo do dia.**"
   ]
  },
  {
   "cell_type": "code",
   "execution_count": null,
   "id": "7c4edaf1",
   "metadata": {},
   "outputs": [],
   "source": [
    "data_aux6 = data_aux1[(data_aux1['Estacao'] == 'Parque Dom Pedro II')].copy()\n",
    "data_aux6_NO = data_aux6[(data_aux6['Poluente'] == 'NO')]\n",
    "data_aux6_NO2 = data_aux6[(data_aux6['Poluente'] == 'NO2')]\n",
    "pqd_pol_mean_NO = data_aux6_NO['Valor'].mean()\n",
    "pqd_pol_mean_NO2 = data_aux6_NO2['Valor'].mean()\n",
    "pqd_hour_mean_NO = {}\n",
    "pqd_hour_mean_NO2 = {}\n",
    "hours = sorted(data_aux6['Hora'].unique())\n",
    "for hour in hours:\n",
    "    pqd_hour_mean_NO[hour] = data_aux6_NO[data_aux6_NO['Hora'] == hour]['Valor'].mean()\n",
    "    pqd_hour_mean_NO2[hour] = data_aux6_NO2[data_aux6_NO2['Hora'] == hour]['Valor'].mean()"
   ]
  },
  {
   "cell_type": "code",
   "execution_count": null,
   "id": "33674a45",
   "metadata": {},
   "outputs": [],
   "source": [
    "plt.figure(figsize=(18,6))\n",
    "plt.bar(hours, pqd_hour_mean_NO.values())\n",
    "plt.axhline(pqd_pol_mean_NO, color = 'red', linestyle = '--')\n",
    "plt.ylabel('Concentração de NO (mug/m3)')\n",
    "plt.xlabel('Hora do dia')\n",
    "plt.suptitle('Concentração média de NO por hora do dia no Parque Dom Pedro II', fontsize = '16')\n",
    "plt.title('O máximo de concentração ocorre no horário de pico às 8 horas da manhã. Vê-se também aumento consistente após o começo da noite.')\n",
    "plt.legend(['Média total', 'Média por hora'], loc = 'upper left')"
   ]
  },
  {
   "cell_type": "code",
   "execution_count": null,
   "id": "c9a69167",
   "metadata": {},
   "outputs": [],
   "source": [
    "plt.figure(figsize=(18,6))\n",
    "plt.bar(hours, pqd_hour_mean_NO2.values())\n",
    "plt.axhline(pqd_pol_mean_NO2, color = 'red', linestyle = '--')\n",
    "plt.ylabel('Concentração média de NO2 (mug/m3)')\n",
    "plt.xlabel('Hora do dia')\n",
    "plt.suptitle('Concentração média de NO2 por hora do dia no Parque Dom Pedro II', fontsize = '16')\n",
    "plt.title('Há aumento consistente durante os períodos de pico da manhã e da noite. De noite, supõe-se que a concentração é mais elevada devido à transformação de NO em NO2 ao longo da tarde.')\n",
    "plt.legend(['Média total', 'Média por hora'])"
   ]
  },
  {
   "cell_type": "markdown",
   "id": "5edb6627",
   "metadata": {},
   "source": [
    "Nossa hipótese se encontra no subtítulo do segundo gráfico: De noite, supõe-se que a concentração é mais elevada devido à transformação de NO em NO2 ao longo da tarde.\n",
    "\n",
    "Podemos realizar essa hipótese porque, de fato, ao entrar em contato com o oxigênio do ar, as moléculas de NO se convertem em NO2. Espera-se, então, que a concentração de NO2 aumente consistentemente nos horários de pico enquanto a concentração de NO tenha um pico que rapidamente se extingue. Isso também explicaria o porquê da correlação do NO2 ser positiva enquanto a correlação do NO é negativa, na Questão 1."
   ]
  },
  {
   "cell_type": "markdown",
   "id": "f82723f8",
   "metadata": {},
   "source": [
    "**7) Plote um gráfico de média de concentração do poluente NO2 por mês em São José dos Campos. Analise as diferenças de concentração nos períodos letivo e de férias (dezembro, janeiro e fevereiro).**"
   ]
  },
  {
   "cell_type": "code",
   "execution_count": null,
   "id": "b00e2beb",
   "metadata": {},
   "outputs": [],
   "source": [
    "data_aux7 = data[(data['Estacao'] == 'São José dos Campos') & (data['Poluente'] == 'NO2')].copy()\n",
    "data_aux7['Mês'] = data_aux7['Data'].apply(lambda x: x.split('-')[1])\n",
    "months = sorted(data_aux7['Mês'].unique())\n",
    "months.insert(0, '12')\n",
    "months.pop(-1)\n",
    "sjc_month_mean_NO2 = {}\n",
    "for month in months:\n",
    "    sjc_month_mean_NO2[month] = data_aux7[data_aux7['Mês'] == month]['Valor'].mean()\n",
    "sjc_total_mean_NO2 = data_aux7['Valor'].mean()"
   ]
  },
  {
   "cell_type": "code",
   "execution_count": null,
   "id": "f6142616",
   "metadata": {},
   "outputs": [],
   "source": [
    "plt.figure(figsize = (10, 6))\n",
    "colors = ['darkblue']*3 + ['gray']*9\n",
    "plt.bar(months, sjc_month_mean_NO2.values(), color = colors)\n",
    "plt.axhline(sjc_total_mean_NO2, color = 'red', linestyle = '--')\n",
    "plt.ylabel('Concentração média de NO2 (mug/m3)')\n",
    "plt.xlabel('Mês do ano')\n",
    "plt.suptitle('Concentração do poluente NO2 por mês em São José dos Campos', fontsize = '16')\n",
    "plt.title('No período de férias (janeiro, fevereiro e dezembro), a concentração do poluente é notavelmente menor que a média. Já nos períodos letivos observa-se aumento da poluição.')"
   ]
  },
  {
   "cell_type": "markdown",
   "id": "9277bd53",
   "metadata": {},
   "source": [
    "Com isso, fechamos análises multivariadas importantes sobre o conjunto de dados."
   ]
  },
  {
   "cell_type": "markdown",
   "id": "5a4eeeed",
   "metadata": {},
   "source": [
    "---"
   ]
  },
  {
   "cell_type": "markdown",
   "id": "efdb5892",
   "metadata": {},
   "source": [
    "## Conclusões"
   ]
  },
  {
   "cell_type": "markdown",
   "id": "e609c567",
   "metadata": {},
   "source": [
    "Com toda a análise que fizemos, conseguimos vários insights sobre a distribuição dos dados e também respostas para vários questionamentos acerca da relação entre os poluentes atmosféricos e suas medições no estado de São Paulo.\n",
    "\n",
    "Um resultado importante que foi obtido foram os locais que estão em situação drástica de poluição. Esses são aqueles nos quais ações governamentais voltadas à saúde pública e à diminuição da emissão de poluentes devem ser ampliadas com urgência, pois, de fato, a saúde da população em geral está sendo afetada negativamente devido à elevada concentração dos mais variados poluentes no ar. Tais locais, como vimos, são:\n",
    "\n",
    "- Araraquara\n",
    "- Araçatuba\n",
    "- Cubatão - Centro\n",
    "- Cubatão - Vale do Mogi\n",
    "- Cubatão - Vila Parisi\n",
    "- Guarulhos - Pimentas\n",
    "- Marília\n",
    "- Paulínia - Sul\n",
    "- Presidente Prudente\n",
    "- Ribeirão Preto\n",
    "- Santa Gertrudes\n",
    "- Cid.Universitária USP - IPEN\n",
    "- Grajaú - Parelheiros\n",
    "- Osasco\n",
    "- Perus\n",
    "- Pico do Jaraguá\n",
    "- Rio Claro - Jardim Guanabara\n",
    "- São José do Rio Preto\n",
    "\n",
    "Com os dados, ainda pode-se ver, para cada um desses locais, a evolução das concentrações de poluentes ao longo do tempo, sendo possível associar o histórico do local (em termos de quantidade de veículos e de indústrias, por exemplo) ao aumento da poluição atmosférica. A resposta do questionamento 5 mostra o passo-a-passo da obtenção gráfica da evolução das concentrações de um poluente com o tempo em uma dada cidade (no caso, São José dos Campos foi o exemplo escolhido).\n",
    "\n",
    "A aplicação de tecnologias de análises de dados proporciona, portanto, a descoberta de relações importantes entre variáveis que podem ser usadas para direcionar ações no enfrentamento de problemas. Assim, a análise de dados se configura como uma ferramenta de inteligência de negócios essencial para qualquer empresa, podendo ser aplicada em uma gama infinita de contextos para gerar resultados orientados por análises concretas - o trabalho feito sobre os dados atuais dos poluentes no estado de São Paulo é um dos exemplos de como a análise de dados pode ser utilizada para gerar insights valiosos."
   ]
  },
  {
   "cell_type": "markdown",
   "id": "9b7e9cfb",
   "metadata": {},
   "source": [
    "---"
   ]
  },
  {
   "cell_type": "markdown",
   "id": "3bb5e02d",
   "metadata": {},
   "source": [
    "### Salvando os dados reunidos em um único arquivo .csv"
   ]
  },
  {
   "cell_type": "code",
   "execution_count": null,
   "id": "95a8fa0d",
   "metadata": {},
   "outputs": [],
   "source": [
    "data.to_csv('data/SP_poluicao_dados.csv')\n",
    "\n",
    "print('Dados salvos em data/SP_poluicao_dados.csv')"
   ]
  }
 ],
 "metadata": {
  "kernelspec": {
   "display_name": "Python 3 (ipykernel)",
   "language": "python",
   "name": "python3"
  },
  "language_info": {
   "codemirror_mode": {
    "name": "ipython",
    "version": 3
   },
   "file_extension": ".py",
   "mimetype": "text/x-python",
   "name": "python",
   "nbconvert_exporter": "python",
   "pygments_lexer": "ipython3",
   "version": "3.9.13"
  }
 },
 "nbformat": 4,
 "nbformat_minor": 5
}
