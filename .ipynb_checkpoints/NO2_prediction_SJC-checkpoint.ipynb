{
 "cells": [
  {
   "cell_type": "markdown",
   "id": "c9cc238d",
   "metadata": {},
   "source": [
    "# Predição da Concentração de NO2 no Ar de São José dos Campos (SP)"
   ]
  },
  {
   "cell_type": "markdown",
   "id": "7a84401e",
   "metadata": {},
   "source": [
    "Utilizaremos modelos de regressão no contexto de Machine Learning para prever a concentração de NO2 em São José dos Campos (SP) com base no horário e na concentração de NO medida na mesma hora. Imaginemos, por exemplo, que a medição de NO ocorra logo que comece a hora. Então, a predição de NO2 poderia ser feita pelo modelo logo após a captação do valor de NO por aparelhos medidores. \n",
    "\n",
    "Uma situação mais prática seria, por exemplo, se considerássemos a concentração de NO aproximadamente constante entre horas subsequentes e a utilizássemos para prever a concentração de NO2 na hora seguinte.\n",
    "\n",
    "O objetivo final é determinar alguma relação entre os poluentes NO e NO2 que possa ser descrita por um modelo de aprendizado de máquina de forma eficiente."
   ]
  },
  {
   "cell_type": "markdown",
   "id": "79d59746",
   "metadata": {},
   "source": [
    "## Importando Bibliotecas"
   ]
  },
  {
   "cell_type": "code",
   "execution_count": 1,
   "id": "9ec38c06",
   "metadata": {},
   "outputs": [],
   "source": [
    "import pandas as pd\n",
    "import numpy as np\n",
    "import matplotlib.pyplot as plt"
   ]
  },
  {
   "cell_type": "markdown",
   "id": "3480c77e",
   "metadata": {},
   "source": [
    "---"
   ]
  },
  {
   "cell_type": "markdown",
   "id": "3de69b42",
   "metadata": {},
   "source": [
    "## Importando os Dados"
   ]
  },
  {
   "cell_type": "code",
   "execution_count": 2,
   "id": "6c369a81",
   "metadata": {},
   "outputs": [],
   "source": [
    "data = pd.read_csv('data/SP_poluicao_dados.csv')"
   ]
  },
  {
   "cell_type": "code",
   "execution_count": 3,
   "id": "b053323d",
   "metadata": {},
   "outputs": [],
   "source": [
    "data = data.drop(columns = ['Unnamed: 0'])"
   ]
  },
  {
   "cell_type": "code",
   "execution_count": 4,
   "id": "71e06e3b",
   "metadata": {
    "scrolled": true
   },
   "outputs": [
    {
     "data": {
      "text/html": [
       "<div>\n",
       "<style scoped>\n",
       "    .dataframe tbody tr th:only-of-type {\n",
       "        vertical-align: middle;\n",
       "    }\n",
       "\n",
       "    .dataframe tbody tr th {\n",
       "        vertical-align: top;\n",
       "    }\n",
       "\n",
       "    .dataframe thead th {\n",
       "        text-align: right;\n",
       "    }\n",
       "</style>\n",
       "<table border=\"1\" class=\"dataframe\">\n",
       "  <thead>\n",
       "    <tr style=\"text-align: right;\">\n",
       "      <th></th>\n",
       "      <th>ID</th>\n",
       "      <th>Data</th>\n",
       "      <th>Hora</th>\n",
       "      <th>Estacao</th>\n",
       "      <th>Codigo</th>\n",
       "      <th>Poluente</th>\n",
       "      <th>Valor</th>\n",
       "      <th>Unidade</th>\n",
       "      <th>Tipo</th>\n",
       "    </tr>\n",
       "  </thead>\n",
       "  <tbody>\n",
       "    <tr>\n",
       "      <th>0</th>\n",
       "      <td>0</td>\n",
       "      <td>2015-01-01</td>\n",
       "      <td>01:00</td>\n",
       "      <td>Americana - Vila Santa Maria</td>\n",
       "      <td>SP01</td>\n",
       "      <td>MP10</td>\n",
       "      <td>65.0</td>\n",
       "      <td>ug/m3</td>\n",
       "      <td>automatica</td>\n",
       "    </tr>\n",
       "    <tr>\n",
       "      <th>1</th>\n",
       "      <td>1</td>\n",
       "      <td>2015-01-01</td>\n",
       "      <td>02:00</td>\n",
       "      <td>Americana - Vila Santa Maria</td>\n",
       "      <td>SP01</td>\n",
       "      <td>MP10</td>\n",
       "      <td>98.0</td>\n",
       "      <td>ug/m3</td>\n",
       "      <td>automatica</td>\n",
       "    </tr>\n",
       "    <tr>\n",
       "      <th>2</th>\n",
       "      <td>2</td>\n",
       "      <td>2015-01-01</td>\n",
       "      <td>03:00</td>\n",
       "      <td>Americana - Vila Santa Maria</td>\n",
       "      <td>SP01</td>\n",
       "      <td>MP10</td>\n",
       "      <td>79.0</td>\n",
       "      <td>ug/m3</td>\n",
       "      <td>automatica</td>\n",
       "    </tr>\n",
       "    <tr>\n",
       "      <th>3</th>\n",
       "      <td>3</td>\n",
       "      <td>2015-01-01</td>\n",
       "      <td>04:00</td>\n",
       "      <td>Americana - Vila Santa Maria</td>\n",
       "      <td>SP01</td>\n",
       "      <td>MP10</td>\n",
       "      <td>53.0</td>\n",
       "      <td>ug/m3</td>\n",
       "      <td>automatica</td>\n",
       "    </tr>\n",
       "    <tr>\n",
       "      <th>4</th>\n",
       "      <td>4</td>\n",
       "      <td>2015-01-01</td>\n",
       "      <td>05:00</td>\n",
       "      <td>Americana - Vila Santa Maria</td>\n",
       "      <td>SP01</td>\n",
       "      <td>MP10</td>\n",
       "      <td>35.0</td>\n",
       "      <td>ug/m3</td>\n",
       "      <td>automatica</td>\n",
       "    </tr>\n",
       "  </tbody>\n",
       "</table>\n",
       "</div>"
      ],
      "text/plain": [
       "   ID        Data   Hora                       Estacao Codigo Poluente  Valor  \\\n",
       "0   0  2015-01-01  01:00  Americana - Vila Santa Maria   SP01     MP10   65.0   \n",
       "1   1  2015-01-01  02:00  Americana - Vila Santa Maria   SP01     MP10   98.0   \n",
       "2   2  2015-01-01  03:00  Americana - Vila Santa Maria   SP01     MP10   79.0   \n",
       "3   3  2015-01-01  04:00  Americana - Vila Santa Maria   SP01     MP10   53.0   \n",
       "4   4  2015-01-01  05:00  Americana - Vila Santa Maria   SP01     MP10   35.0   \n",
       "\n",
       "  Unidade        Tipo  \n",
       "0   ug/m3  automatica  \n",
       "1   ug/m3  automatica  \n",
       "2   ug/m3  automatica  \n",
       "3   ug/m3  automatica  \n",
       "4   ug/m3  automatica  "
      ]
     },
     "execution_count": 4,
     "metadata": {},
     "output_type": "execute_result"
    }
   ],
   "source": [
    "data.head()"
   ]
  },
  {
   "cell_type": "markdown",
   "id": "93043deb",
   "metadata": {},
   "source": [
    "---"
   ]
  },
  {
   "cell_type": "markdown",
   "id": "a61ae1d2",
   "metadata": {},
   "source": [
    "## Filtrando os dados que vamos usar"
   ]
  },
  {
   "cell_type": "code",
   "execution_count": 5,
   "id": "ca454326",
   "metadata": {},
   "outputs": [],
   "source": [
    "data = data[data['Estacao'] == 'São José dos Campos']\n",
    "data = data[(data['Poluente'] == 'NO2') | (data['Poluente'] == 'NO')]\n",
    "data = data.reset_index(drop = True)\n",
    "data['ID'] = data.index"
   ]
  },
  {
   "cell_type": "markdown",
   "id": "70d2aea7",
   "metadata": {},
   "source": [
    "### Separando os dados por poluente"
   ]
  },
  {
   "cell_type": "code",
   "execution_count": 6,
   "id": "623453af",
   "metadata": {},
   "outputs": [],
   "source": [
    "data_NO2 = data[data['Poluente'] == 'NO2'].copy()\n",
    "data_NO = data[data['Poluente'] == 'NO'].copy()"
   ]
  },
  {
   "cell_type": "markdown",
   "id": "841ce465",
   "metadata": {},
   "source": [
    "### Criando nova key para realizar inner join"
   ]
  },
  {
   "cell_type": "code",
   "execution_count": 7,
   "id": "9db520ad",
   "metadata": {},
   "outputs": [],
   "source": [
    "data_NO2['Data_Hora'] = data_NO2['Data'] + ' ' + data_NO2['Hora']\n",
    "data_NO['Data_Hora'] = data_NO['Data'] + ' ' + data_NO['Hora']"
   ]
  },
  {
   "cell_type": "code",
   "execution_count": 8,
   "id": "04b002d4",
   "metadata": {},
   "outputs": [],
   "source": [
    "joint_data = pd.merge(data_NO, data_NO2, on = ['Data_Hora', 'Data_Hora'], how = 'inner')"
   ]
  },
  {
   "cell_type": "markdown",
   "id": "9ad53973",
   "metadata": {},
   "source": [
    "### Agora nosso dataframe 'data' será aquele que utilizaremos"
   ]
  },
  {
   "cell_type": "code",
   "execution_count": 9,
   "id": "cfccbbbe",
   "metadata": {},
   "outputs": [
    {
     "data": {
      "text/html": [
       "<div>\n",
       "<style scoped>\n",
       "    .dataframe tbody tr th:only-of-type {\n",
       "        vertical-align: middle;\n",
       "    }\n",
       "\n",
       "    .dataframe tbody tr th {\n",
       "        vertical-align: top;\n",
       "    }\n",
       "\n",
       "    .dataframe thead th {\n",
       "        text-align: right;\n",
       "    }\n",
       "</style>\n",
       "<table border=\"1\" class=\"dataframe\">\n",
       "  <thead>\n",
       "    <tr style=\"text-align: right;\">\n",
       "      <th></th>\n",
       "      <th>ID_x</th>\n",
       "      <th>Data_x</th>\n",
       "      <th>Hora_x</th>\n",
       "      <th>Estacao_x</th>\n",
       "      <th>Codigo_x</th>\n",
       "      <th>Poluente_x</th>\n",
       "      <th>Valor_x</th>\n",
       "      <th>Unidade_x</th>\n",
       "      <th>Tipo_x</th>\n",
       "      <th>Data_Hora</th>\n",
       "      <th>ID_y</th>\n",
       "      <th>Data_y</th>\n",
       "      <th>Hora_y</th>\n",
       "      <th>Estacao_y</th>\n",
       "      <th>Codigo_y</th>\n",
       "      <th>Poluente_y</th>\n",
       "      <th>Valor_y</th>\n",
       "      <th>Unidade_y</th>\n",
       "      <th>Tipo_y</th>\n",
       "    </tr>\n",
       "  </thead>\n",
       "  <tbody>\n",
       "    <tr>\n",
       "      <th>0</th>\n",
       "      <td>13867</td>\n",
       "      <td>2017-01-01</td>\n",
       "      <td>02:00</td>\n",
       "      <td>São José dos Campos</td>\n",
       "      <td>SP70</td>\n",
       "      <td>NO</td>\n",
       "      <td>2.0</td>\n",
       "      <td>ug/m3</td>\n",
       "      <td>automatica</td>\n",
       "      <td>2017-01-01 02:00</td>\n",
       "      <td>22008</td>\n",
       "      <td>2017-01-01</td>\n",
       "      <td>02:00</td>\n",
       "      <td>São José dos Campos</td>\n",
       "      <td>SP70</td>\n",
       "      <td>NO2</td>\n",
       "      <td>18.0</td>\n",
       "      <td>ug/m3</td>\n",
       "      <td>automatica</td>\n",
       "    </tr>\n",
       "    <tr>\n",
       "      <th>1</th>\n",
       "      <td>13868</td>\n",
       "      <td>2017-01-01</td>\n",
       "      <td>03:00</td>\n",
       "      <td>São José dos Campos</td>\n",
       "      <td>SP70</td>\n",
       "      <td>NO</td>\n",
       "      <td>2.0</td>\n",
       "      <td>ug/m3</td>\n",
       "      <td>automatica</td>\n",
       "      <td>2017-01-01 03:00</td>\n",
       "      <td>22009</td>\n",
       "      <td>2017-01-01</td>\n",
       "      <td>03:00</td>\n",
       "      <td>São José dos Campos</td>\n",
       "      <td>SP70</td>\n",
       "      <td>NO2</td>\n",
       "      <td>15.0</td>\n",
       "      <td>ug/m3</td>\n",
       "      <td>automatica</td>\n",
       "    </tr>\n",
       "  </tbody>\n",
       "</table>\n",
       "</div>"
      ],
      "text/plain": [
       "    ID_x      Data_x Hora_x            Estacao_x Codigo_x Poluente_x  Valor_x  \\\n",
       "0  13867  2017-01-01  02:00  São José dos Campos     SP70         NO      2.0   \n",
       "1  13868  2017-01-01  03:00  São José dos Campos     SP70         NO      2.0   \n",
       "\n",
       "  Unidade_x      Tipo_x         Data_Hora   ID_y      Data_y Hora_y  \\\n",
       "0     ug/m3  automatica  2017-01-01 02:00  22008  2017-01-01  02:00   \n",
       "1     ug/m3  automatica  2017-01-01 03:00  22009  2017-01-01  03:00   \n",
       "\n",
       "             Estacao_y Codigo_y Poluente_y  Valor_y Unidade_y      Tipo_y  \n",
       "0  São José dos Campos     SP70        NO2     18.0     ug/m3  automatica  \n",
       "1  São José dos Campos     SP70        NO2     15.0     ug/m3  automatica  "
      ]
     },
     "execution_count": 9,
     "metadata": {},
     "output_type": "execute_result"
    }
   ],
   "source": [
    "joint_data.head(2)"
   ]
  },
  {
   "cell_type": "code",
   "execution_count": 10,
   "id": "2a3f3718",
   "metadata": {},
   "outputs": [],
   "source": [
    "data = joint_data[['Data_x', 'Hora_x', 'Valor_x', 'Valor_y', 'Unidade_x']]\n",
    "data = data.rename(columns = {'Data_x': 'Data',\n",
    "                              'Hora_x': 'Hora',\n",
    "                              'Valor_x': 'Concentração_NO',\n",
    "                              'Valor_y': 'Concentração_NO2',\n",
    "                              'Unidade_x': 'Unidade'})"
   ]
  },
  {
   "cell_type": "markdown",
   "id": "58881c33",
   "metadata": {},
   "source": [
    "### Transformando a coluna 'Hora' em dados numéricos"
   ]
  },
  {
   "cell_type": "code",
   "execution_count": 11,
   "id": "189e17eb",
   "metadata": {},
   "outputs": [],
   "source": [
    "def hour_to_num(hour):\n",
    "    hour_split = hour.split(':')\n",
    "    return float(hour_split[0]) + float(hour_split[1])/60\n",
    "\n",
    "data['Hora'] = data['Hora'].apply(hour_to_num)"
   ]
  },
  {
   "cell_type": "code",
   "execution_count": 12,
   "id": "dfa39dcc",
   "metadata": {},
   "outputs": [
    {
     "data": {
      "text/html": [
       "<div>\n",
       "<style scoped>\n",
       "    .dataframe tbody tr th:only-of-type {\n",
       "        vertical-align: middle;\n",
       "    }\n",
       "\n",
       "    .dataframe tbody tr th {\n",
       "        vertical-align: top;\n",
       "    }\n",
       "\n",
       "    .dataframe thead th {\n",
       "        text-align: right;\n",
       "    }\n",
       "</style>\n",
       "<table border=\"1\" class=\"dataframe\">\n",
       "  <thead>\n",
       "    <tr style=\"text-align: right;\">\n",
       "      <th></th>\n",
       "      <th>Data</th>\n",
       "      <th>Hora</th>\n",
       "      <th>Concentração_NO</th>\n",
       "      <th>Concentração_NO2</th>\n",
       "      <th>Unidade</th>\n",
       "    </tr>\n",
       "  </thead>\n",
       "  <tbody>\n",
       "    <tr>\n",
       "      <th>0</th>\n",
       "      <td>2017-01-01</td>\n",
       "      <td>2.0</td>\n",
       "      <td>2.0</td>\n",
       "      <td>18.0</td>\n",
       "      <td>ug/m3</td>\n",
       "    </tr>\n",
       "    <tr>\n",
       "      <th>1</th>\n",
       "      <td>2017-01-01</td>\n",
       "      <td>3.0</td>\n",
       "      <td>2.0</td>\n",
       "      <td>15.0</td>\n",
       "      <td>ug/m3</td>\n",
       "    </tr>\n",
       "    <tr>\n",
       "      <th>2</th>\n",
       "      <td>2017-01-01</td>\n",
       "      <td>4.0</td>\n",
       "      <td>1.0</td>\n",
       "      <td>7.0</td>\n",
       "      <td>ug/m3</td>\n",
       "    </tr>\n",
       "    <tr>\n",
       "      <th>3</th>\n",
       "      <td>2017-01-01</td>\n",
       "      <td>5.0</td>\n",
       "      <td>1.0</td>\n",
       "      <td>6.0</td>\n",
       "      <td>ug/m3</td>\n",
       "    </tr>\n",
       "    <tr>\n",
       "      <th>4</th>\n",
       "      <td>2017-01-01</td>\n",
       "      <td>6.0</td>\n",
       "      <td>0.0</td>\n",
       "      <td>6.0</td>\n",
       "      <td>ug/m3</td>\n",
       "    </tr>\n",
       "  </tbody>\n",
       "</table>\n",
       "</div>"
      ],
      "text/plain": [
       "         Data  Hora  Concentração_NO  Concentração_NO2 Unidade\n",
       "0  2017-01-01   2.0              2.0              18.0   ug/m3\n",
       "1  2017-01-01   3.0              2.0              15.0   ug/m3\n",
       "2  2017-01-01   4.0              1.0               7.0   ug/m3\n",
       "3  2017-01-01   5.0              1.0               6.0   ug/m3\n",
       "4  2017-01-01   6.0              0.0               6.0   ug/m3"
      ]
     },
     "execution_count": 12,
     "metadata": {},
     "output_type": "execute_result"
    }
   ],
   "source": [
    "data.head()"
   ]
  },
  {
   "cell_type": "markdown",
   "id": "fe4f278e",
   "metadata": {},
   "source": [
    "Agora temos os dados prontos para iniciarmos algumas análises e depois montar um modelo de Machine Learning que prevê a concentração de NO2 com base na concentração de NO em São José dos Campos e no horário da medição."
   ]
  },
  {
   "cell_type": "markdown",
   "id": "ff7689e7",
   "metadata": {},
   "source": [
    "---"
   ]
  },
  {
   "cell_type": "markdown",
   "id": "d7257fa4",
   "metadata": {},
   "source": [
    "## Análises"
   ]
  },
  {
   "cell_type": "markdown",
   "id": "86be3c36",
   "metadata": {},
   "source": [
    "### Correlações"
   ]
  },
  {
   "cell_type": "code",
   "execution_count": 13,
   "id": "3a77f973",
   "metadata": {},
   "outputs": [
    {
     "data": {
      "text/html": [
       "<div>\n",
       "<style scoped>\n",
       "    .dataframe tbody tr th:only-of-type {\n",
       "        vertical-align: middle;\n",
       "    }\n",
       "\n",
       "    .dataframe tbody tr th {\n",
       "        vertical-align: top;\n",
       "    }\n",
       "\n",
       "    .dataframe thead th {\n",
       "        text-align: right;\n",
       "    }\n",
       "</style>\n",
       "<table border=\"1\" class=\"dataframe\">\n",
       "  <thead>\n",
       "    <tr style=\"text-align: right;\">\n",
       "      <th></th>\n",
       "      <th>Hora</th>\n",
       "      <th>Concentração_NO</th>\n",
       "      <th>Concentração_NO2</th>\n",
       "    </tr>\n",
       "  </thead>\n",
       "  <tbody>\n",
       "    <tr>\n",
       "      <th>Hora</th>\n",
       "      <td>1.00000</td>\n",
       "      <td>-0.025800</td>\n",
       "      <td>0.233920</td>\n",
       "    </tr>\n",
       "    <tr>\n",
       "      <th>Concentração_NO</th>\n",
       "      <td>-0.02580</td>\n",
       "      <td>1.000000</td>\n",
       "      <td>0.499585</td>\n",
       "    </tr>\n",
       "    <tr>\n",
       "      <th>Concentração_NO2</th>\n",
       "      <td>0.23392</td>\n",
       "      <td>0.499585</td>\n",
       "      <td>1.000000</td>\n",
       "    </tr>\n",
       "  </tbody>\n",
       "</table>\n",
       "</div>"
      ],
      "text/plain": [
       "                     Hora  Concentração_NO  Concentração_NO2\n",
       "Hora              1.00000        -0.025800          0.233920\n",
       "Concentração_NO  -0.02580         1.000000          0.499585\n",
       "Concentração_NO2  0.23392         0.499585          1.000000"
      ]
     },
     "execution_count": 13,
     "metadata": {},
     "output_type": "execute_result"
    }
   ],
   "source": [
    "data.corr(numeric_only = True)"
   ]
  },
  {
   "cell_type": "markdown",
   "id": "d11c9760",
   "metadata": {},
   "source": [
    "Verificamos correlações positivas entre o target (Concentração_NO2) e as features (Hora e Concentração_NO)."
   ]
  },
  {
   "cell_type": "markdown",
   "id": "2a4aa5fe",
   "metadata": {},
   "source": [
    "### Scatterplot da concentração de NO2 pela concentração de NO"
   ]
  },
  {
   "cell_type": "code",
   "execution_count": 14,
   "id": "c02ab759",
   "metadata": {
    "scrolled": true
   },
   "outputs": [
    {
     "data": {
      "text/plain": [
       "Text(0.5, 0, 'Concentração de NO (mug/m^3)')"
      ]
     },
     "execution_count": 14,
     "metadata": {},
     "output_type": "execute_result"
    },
    {
     "data": {
      "image/png": "[encoded data removed]",
      "text/plain": [
       "<Figure size 640x480 with 1 Axes>"
      ]
     },
     "metadata": {},
     "output_type": "display_data"
    }
   ],
   "source": [
    "_ = plt.scatter(x = data['Concentração_NO'], y = data['Concentração_NO2'])\n",
    "plt.title('Concentração de NO2 por Concentração de NO')\n",
    "plt.ylabel('Concentração de NO2 (mug/m^3)')\n",
    "plt.xlabel('Concentração de NO (mug/m^3)')"
   ]
  },
  {
   "cell_type": "markdown",
   "id": "8b66757f",
   "metadata": {},
   "source": [
    "### Scatterplot da concentração de NO2 pela hora"
   ]
  },
  {
   "cell_type": "code",
   "execution_count": 15,
   "id": "83a497b1",
   "metadata": {
    "scrolled": true
   },
   "outputs": [
    {
     "data": {
      "text/plain": [
       "Text(0.5, 0, 'Hora')"
      ]
     },
     "execution_count": 15,
     "metadata": {},
     "output_type": "execute_result"
    },
    {
     "data": {
      "image/png": "[encoded data removed]",
      "text/plain": [
       "<Figure size 640x480 with 1 Axes>"
      ]
     },
     "metadata": {},
     "output_type": "display_data"
    }
   ],
   "source": [
    "_ = plt.scatter(data['Hora'], data['Concentração_NO2'])\n",
    "plt.title('Concentração de NO2 por Hora')\n",
    "plt.ylabel('Concentração de NO2 (mug/m^3)')\n",
    "plt.xlabel('Hora')"
   ]
  },
  {
   "cell_type": "markdown",
   "id": "f60c3411",
   "metadata": {},
   "source": [
    "### Histograma e Boxplot da Concentração de NO"
   ]
  },
  {
   "cell_type": "code",
   "execution_count": 16,
   "id": "fa127d62",
   "metadata": {
    "scrolled": true
   },
   "outputs": [
    {
     "data": {
      "text/plain": [
       "Text(0, 0.5, 'Concentração de NO (mug/m^3)')"
      ]
     },
     "execution_count": 16,
     "metadata": {},
     "output_type": "execute_result"
    },
    {
     "data": {
      "image/png": "[encoded data removed]",
      "text/plain": [
       "<Figure size 1100x500 with 2 Axes>"
      ]
     },
     "metadata": {},
     "output_type": "display_data"
    }
   ],
   "source": [
    "fig, axs = plt.subplots(1, 2, figsize = (11, 5))\n",
    "axs[0].hist(data['Concentração_NO'])\n",
    "axs[0].set_title('Histograma da Concentração de NO no Ar de SJC')\n",
    "axs[0].set_xlabel('Concentração de NO (mug/m^3)')\n",
    "axs[0].set_ylabel('Contagem')\n",
    "\n",
    "axs[1].boxplot(data['Concentração_NO'])\n",
    "axs[1].set_title('Boxplot da Concentração de NO no Ar de SJC')\n",
    "axs[1].set_ylabel('Concentração de NO (mug/m^3)')"
   ]
  },
  {
   "cell_type": "markdown",
   "id": "e01a627c",
   "metadata": {},
   "source": [
    "Do boxplot, verificamos que os outliers são valores aproximadamente maiores que 20 mug/m^3. Vamos determinar o valor exato:"
   ]
  },
  {
   "cell_type": "code",
   "execution_count": 17,
   "id": "6933ff36",
   "metadata": {
    "scrolled": true
   },
   "outputs": [
    {
     "name": "stdout",
     "output_type": "stream",
     "text": [
      "Os valores maiores que 18.5 são classificados como outliers\n",
      "Há 952 outliers, representando 11.7% do conjunto de dados\n"
     ]
    }
   ],
   "source": [
    "data_NO2 = data['Concentração_NO']\n",
    "first_quartile = data_NO2.quantile(0.25)\n",
    "third_quartile = data_NO2.quantile(0.75)\n",
    "interquartile_ampl = third_quartile - first_quartile\n",
    "outlier_threshold = third_quartile + 1.5*interquartile_ampl\n",
    "\n",
    "data_outliers = data_NO2[data_NO2 > outlier_threshold]\n",
    "outlier_count = data_outliers.count()\n",
    "outlier_percentage = 100* len(data_outliers)/len(data_NO2)\n",
    "\n",
    "print(f'Os valores maiores que {outlier_threshold} são classificados como outliers')\n",
    "print(f'Há {outlier_count} outliers, representando {round(outlier_percentage,1)}% do conjunto de dados')"
   ]
  },
  {
   "cell_type": "markdown",
   "id": "c239e327",
   "metadata": {},
   "source": [
    "Diante disso, verificamos que que o número de outliers em relação ao conjunto todo de dados é considerável. Isso mostra, na verdade que aqueles dados que consideramos outliers contribuem bem para a descrição de nosso sistema que queremos prever. Temos três linhas de ação que podemos adotar quanto a esses outliers no **conjunto de treino**:\n",
    "\n",
    "- Eliminá-los (**Trimming**)\n",
    "\n",
    "- Substituí-los por um valor máximo (**Clipping**)\n",
    "\n",
    "- Manter como estão\n",
    "\n",
    "A primeira abordagem eliminaria toda a influência dos outliers no treinamento do modelo, enquanto a segunda iria reduzí-la. Por fim, a terceira manteria a relação dos dados no treinamento do modelo. Como queremos que os outliers continuem contribuindo no treinamento, iremos realizar o clipping daqueles valores exorbitantes e que possuem baixa representatividade no conjunto de dados. Segundo o histograma, esses valores são aqueles maiores ou iguais a 100 mug/m^3. Iremos, então, realizar o Clipping com base nesse valor na coluna 'Concentração_NO'."
   ]
  },
  {
   "cell_type": "markdown",
   "id": "eb5c0c9b",
   "metadata": {},
   "source": [
    "---"
   ]
  },
  {
   "cell_type": "markdown",
   "id": "7a7fd38b",
   "metadata": {},
   "source": [
    "## Seleção de Modelos"
   ]
  },
  {
   "cell_type": "markdown",
   "id": "9e8d41a7",
   "metadata": {},
   "source": [
    "Verificamos que as relações entre as variáveis estão longe de serem lineares. Assim, iremos utilizar modelos de maior complexidade para que consigam se adaptar à relação entre target e features. Testaremos os seguintes:\n",
    "\n",
    "- Random Forest\n",
    "- XGBoost (Extreme Gradient Boost)"
   ]
  },
  {
   "cell_type": "markdown",
   "id": "bd653e8d",
   "metadata": {},
   "source": [
    "---"
   ]
  },
  {
   "cell_type": "markdown",
   "id": "c16d6d09",
   "metadata": {},
   "source": [
    "# 1) Random Forest"
   ]
  },
  {
   "cell_type": "markdown",
   "id": "3cdf626f",
   "metadata": {},
   "source": [
    "## Preparação dos dados"
   ]
  },
  {
   "cell_type": "markdown",
   "id": "081f3a02",
   "metadata": {},
   "source": [
    "### Separando em features e label\n",
    "\n",
    "- X: features\n",
    "- y: label"
   ]
  },
  {
   "cell_type": "code",
   "execution_count": 18,
   "id": "ca2a9b09",
   "metadata": {},
   "outputs": [],
   "source": [
    "features = ['Hora', 'Concentração_NO']\n",
    "X = data[features]\n",
    "y = data['Concentração_NO2']"
   ]
  },
  {
   "cell_type": "code",
   "execution_count": 19,
   "id": "af0220ea",
   "metadata": {},
   "outputs": [
    {
     "data": {
      "text/html": [
       "<div>\n",
       "<style scoped>\n",
       "    .dataframe tbody tr th:only-of-type {\n",
       "        vertical-align: middle;\n",
       "    }\n",
       "\n",
       "    .dataframe tbody tr th {\n",
       "        vertical-align: top;\n",
       "    }\n",
       "\n",
       "    .dataframe thead th {\n",
       "        text-align: right;\n",
       "    }\n",
       "</style>\n",
       "<table border=\"1\" class=\"dataframe\">\n",
       "  <thead>\n",
       "    <tr style=\"text-align: right;\">\n",
       "      <th></th>\n",
       "      <th>Hora</th>\n",
       "      <th>Concentração_NO</th>\n",
       "    </tr>\n",
       "  </thead>\n",
       "  <tbody>\n",
       "    <tr>\n",
       "      <th>0</th>\n",
       "      <td>2.0</td>\n",
       "      <td>2.0</td>\n",
       "    </tr>\n",
       "    <tr>\n",
       "      <th>1</th>\n",
       "      <td>3.0</td>\n",
       "      <td>2.0</td>\n",
       "    </tr>\n",
       "    <tr>\n",
       "      <th>2</th>\n",
       "      <td>4.0</td>\n",
       "      <td>1.0</td>\n",
       "    </tr>\n",
       "    <tr>\n",
       "      <th>3</th>\n",
       "      <td>5.0</td>\n",
       "      <td>1.0</td>\n",
       "    </tr>\n",
       "    <tr>\n",
       "      <th>4</th>\n",
       "      <td>6.0</td>\n",
       "      <td>0.0</td>\n",
       "    </tr>\n",
       "  </tbody>\n",
       "</table>\n",
       "</div>"
      ],
      "text/plain": [
       "   Hora  Concentração_NO\n",
       "0   2.0              2.0\n",
       "1   3.0              2.0\n",
       "2   4.0              1.0\n",
       "3   5.0              1.0\n",
       "4   6.0              0.0"
      ]
     },
     "execution_count": 19,
     "metadata": {},
     "output_type": "execute_result"
    }
   ],
   "source": [
    "X.head()"
   ]
  },
  {
   "cell_type": "code",
   "execution_count": 20,
   "id": "f34b4e2a",
   "metadata": {},
   "outputs": [
    {
     "data": {
      "text/plain": [
       "0    18.0\n",
       "1    15.0\n",
       "2     7.0\n",
       "3     6.0\n",
       "4     6.0\n",
       "Name: Concentração_NO2, dtype: float64"
      ]
     },
     "execution_count": 20,
     "metadata": {},
     "output_type": "execute_result"
    }
   ],
   "source": [
    "y.head()"
   ]
  },
  {
   "cell_type": "markdown",
   "id": "9e75ea2c",
   "metadata": {},
   "source": [
    "### Pipeline de Pré-processamento, Split em treino, teste e validação, e Cross-validation via KFold"
   ]
  },
  {
   "cell_type": "markdown",
   "id": "54987a7c",
   "metadata": {},
   "source": [
    "Realizaremos as seguintes etapas de pré-processamento nas colunas (todas numéricas):\n",
    "- Scaling no intervalo [0,1]\n",
    "- Imputation da moda (most_frequent)\n",
    "\n",
    "A Imputation não seria necessário nesse caso porque já verificamos na EDA que não há valores faltantes no conjunto de dados. No entanto, vamos fazê-lo de forma a considerar essa situação."
   ]
  },
  {
   "cell_type": "markdown",
   "id": "d3c23b7e",
   "metadata": {},
   "source": [
    "### Importando bibliotecas"
   ]
  },
  {
   "cell_type": "code",
   "execution_count": 29,
   "id": "0a7c2f61",
   "metadata": {
    "scrolled": true
   },
   "outputs": [],
   "source": [
    "from sklearn.ensemble import RandomForestRegressor\n",
    "from sklearn.pipeline import Pipeline\n",
    "from sklearn.impute import SimpleImputer\n",
    "from sklearn.preprocessing import RobustScaler\n",
    "from sklearn.model_selection import train_test_split\n",
    "from sklearn.model_selection import KFold\n",
    "from sklearn.metrics import mean_squared_error\n",
    "from xgboost import XGBRegressor"
   ]
  },
  {
   "cell_type": "markdown",
   "id": "58fab0d5",
   "metadata": {},
   "source": [
    "Há duas formas de fazermos a pipeline:\n",
    "\n",
    "- Utilizando a classe Pipeline do Sklearn e realizando o fit nos dados de treino. Nesse caso, porém, não é possível realizar o pré-processamento das labels.\n",
    "\n",
    "- Criando uma função para realizar a pipeline em cada uma das features e na label de forma separada."
   ]
  },
  {
   "cell_type": "markdown",
   "id": "9337394f",
   "metadata": {},
   "source": [
    "Para manter a simplicidade do código, vamos criar uma classe auxiliar para fazer a 1a opção e gerar um novo modelo variando n_estimators e max_depth:"
   ]
  },
  {
   "cell_type": "code",
   "execution_count": 52,
   "id": "03495299",
   "metadata": {},
   "outputs": [],
   "source": [
    "class Researcher():\n",
    "    \n",
    "    def __init__(self, X = None, y = None, test_size = 0.2, val_size = 0.2 , random_state = 0, clipping = False,\n",
    "                clip_features = [], clip_thresholds = []):\n",
    "        self.X = X\n",
    "        self.y = y\n",
    "        self.X_train, self.X_test, self.y_train, self.y_test = train_test_split(self.X, self.y, \n",
    "                                                                                test_size = test_size, random_state = random_state)\n",
    "        self.X_train, self.X_val, self.y_train, self.y_val = train_test_split(self.X_train, self.y_train, \n",
    "                                                                              test_size = val_size, random_state = random_state)\n",
    "        self.random_state = random_state\n",
    "        \n",
    "        self.clipping = clipping\n",
    "        self.clip_features = clip_features\n",
    "        self.clip_thresholds = clip_thresholds\n",
    "        if self.clipping:\n",
    "            data = self.X_train.copy()\n",
    "            for i in range(0, len(self.clip_features)):\n",
    "                feature = self.clip_features[i]\n",
    "                threshold = self.clip_thresholds[i]\n",
    "                data.loc[data[feature] > threshold, feature] = threshold\n",
    "            self.X_train = data\n",
    "        \n",
    "    def _get_train_test_val_predictions(self, model):\n",
    "        model.fit(self.X_train, self.y_train)\n",
    "        preds_train = model.predict(self.X_train)\n",
    "        preds_test = model.predict(self.X_test)\n",
    "        preds_val = model.predict(self.X_val)\n",
    "    \n",
    "        predictions = {'train': preds_train, 'test': preds_test, 'val': preds_val}\n",
    "    \n",
    "        return predictions\n",
    "       \n",
    "    def _get_train_test_val_errors(self, model):\n",
    "        predictions = self._get_train_test_val_predictions(model)\n",
    "        train_error = mean_squared_error(self.y_train, predictions['train'])\n",
    "        test_error = mean_squared_error(self.y_test, predictions['test'])\n",
    "        val_error = mean_squared_error(self.y_val, predictions['val'])\n",
    "        \n",
    "        errors = {'train error': train_error, 'val error': val_error, 'test error': test_error}\n",
    "        \n",
    "        return errors\n",
    "    \n",
    "    def _get_kfold_mean_score(self, model, k):\n",
    "        indexes = np.array(self.X.index)\n",
    "        rand = np.random.RandomState(self.random_state)\n",
    "        rand.shuffle(indexes)\n",
    "        X_shuffled = self.X.loc[indexes]\n",
    "        y_shuffled = self.y.loc[indexes]\n",
    "        kf = KFold(n_splits = k, shuffle = False)\n",
    "        kfold_scores = []\n",
    "        for (train_index, test_index) in kf.split(X):\n",
    "            X_train = X_shuffled.iloc[train_index]\n",
    "            y_train = y_shuffled.iloc[train_index]\n",
    "            \n",
    "            if self.clipping:\n",
    "                data = X_train.copy()\n",
    "                for i in range(0, len(self.clip_features)):\n",
    "                    feature = self.clip_features[i]\n",
    "                    threshold = self.clip_thresholds[i]\n",
    "                    data.loc[data[feature] > threshold, feature] = threshold\n",
    "                X_train = data\n",
    "            \n",
    "            X_test = X_shuffled.iloc[test_index]\n",
    "            y_test = y_shuffled.iloc[test_index]\n",
    "            model.fit(X_train, y_train)\n",
    "            y_pred = model.predict(X_test)\n",
    "            kfold_scores.append(mean_squared_error(y_test, y_pred))\n",
    "        return sum(kfold_scores)/len(kfold_scores)"
   ]
  },
  {
   "cell_type": "code",
   "execution_count": 53,
   "id": "d81c99ad",
   "metadata": {},
   "outputs": [],
   "source": [
    "class RF_Researcher(Researcher):\n",
    "    \n",
    "    def __preprocess_model(self, n_estimators, max_depth):\n",
    "        preprocessor = Pipeline(steps = [\n",
    "        ('imputer', SimpleImputer(strategy = 'most_frequent')),\n",
    "        ('scaler', RobustScaler())\n",
    "        ])\n",
    "    \n",
    "        model = RandomForestRegressor(random_state = self.random_state, n_estimators = n_estimators, max_depth = max_depth)\n",
    "    \n",
    "        model_pipeline = Pipeline(steps = [('preprocessor', preprocessor),\n",
    "                                      ('model', model)])\n",
    "        return model_pipeline\n",
    "    \n",
    "    def __preprocess_n_models(self, n_models, n_estimators_list, max_depth_list):\n",
    "        model_list = []\n",
    "        \n",
    "        for i in range(0, n_models):\n",
    "            model = self.__preprocess_model(n_estimators = n_estimators_list[i], max_depth = max_depth_list[i])\n",
    "            model_list.append(model)\n",
    "            \n",
    "        return model_list\n",
    "    \n",
    "    def get_n_models_errors_df(self, n_models, n_estimators_list, max_depth_list):\n",
    "        model_list = self.__preprocess_n_models(n_models, n_estimators_list, max_depth_list)\n",
    "        \n",
    "        for i in range(0, n_models):\n",
    "            errors = self._get_train_test_val_errors(model_list[i])\n",
    "            if i == 0:\n",
    "                df_errors = pd.DataFrame(data = errors, index = [f'model {i + 1}'])\n",
    "            else:\n",
    "                df = pd.DataFrame(data = errors, index = [f'model {i + 1}'])\n",
    "                df_errors = pd.concat([df_errors, df])\n",
    "        \n",
    "        return df_errors\n",
    "    \n",
    "    def get_n_models_kfold_mean_score_df(self, n_models, n_estimators_list, max_depth_list, k):\n",
    "        model_list = self.__preprocess_n_models(n_models, n_estimators_list, max_depth_list)\n",
    "        \n",
    "        for i in range(0, n_models):\n",
    "            kfold_score = self._get_kfold_mean_score(model_list[i], k)\n",
    "            if i == 0:\n",
    "                df_scores = pd.DataFrame(data = {f'kfold score error (k = {k})': kfold_score}\n",
    "                                        , index = [f'model {i + 1}'])\n",
    "            else:   \n",
    "                df = pd.DataFrame(data = {f'kfold score error (k = {k})': kfold_score}\n",
    "                                 , index = [f'model {i + 1}'])\n",
    "                df_scores = pd.concat([df_scores, df])\n",
    "                \n",
    "        return df_scores\n",
    "        \n",
    "    def get_n_models_research_report_df(self, n_models, n_estimators_list, max_depth_list, k):\n",
    "        df_scores = self.get_n_models_kfold_mean_score_df(n_models, n_estimators_list, max_depth_list, k)\n",
    "        df_errors = self.get_n_models_errors_df(n_models, n_estimators_list, max_depth_list)\n",
    "        df_report = pd.concat([df_errors, df_scores], axis = 1)\n",
    "        \n",
    "        return df_report\n",
    "    \n",
    "    def get_model_train_scatterplot(self, model_index, n_estimators_list, \n",
    "                                    max_depth_list, title):\n",
    "        \n",
    "        n_estimators = n_estimators_list[model_index]\n",
    "        max_depth = max_depth_list[model_index]\n",
    "        \n",
    "        model = self.__preprocess_model(n_estimators, max_depth)\n",
    "        model.fit(self.X_train, self.y_train)\n",
    "        y_pred = model.predict(self.X_test)\n",
    "        \n",
    "        _ = plt.scatter(x = y_pred, y = self.y_test)\n",
    "        plt.title(title)\n",
    "        plt.ylabel('Predição (estimativa do modelo)')\n",
    "        plt.xlabel('Label (valor real)')\n",
    "\n",
    "        # Plotando a reta y = x\n",
    "\n",
    "        x = [0, 90]\n",
    "        y = [0, 90]\n",
    "        plt.plot(x,y, color = 'red')\n",
    "\n",
    "        plt.legend(['Pontos', 'y = x'])"
   ]
  },
  {
   "cell_type": "markdown",
   "id": "0df8f641",
   "metadata": {},
   "source": [
    "### Obtendo o relatório de 10 modelos diferentes de Random Forest variando n_estimators\n",
    "\n",
    "Obs: \n",
    "\n",
    "- Manteremos max_depth = 6 para evitar undefitting ao mesmo tempo que não abrimos muitas brechas para overfitting;\n",
    "- Utilizaremos test_size = 20% e val_size = 20%\n",
    "- Utilizaremos k = 5 no Kfold.\n",
    "\n",
    "Modelos de árvores conseguem naturalmente trabalhar bem com outliers (são extremamente robustos a outliers). No entanto, o ideal, quando temos muitos outliers, é utilizar o RobustScaler, um scaler robusto a outliers."
   ]
  },
  {
   "cell_type": "code",
   "execution_count": 54,
   "id": "ea5f3040",
   "metadata": {},
   "outputs": [
    {
     "data": {
      "text/html": [
       "<div>\n",
       "<style scoped>\n",
       "    .dataframe tbody tr th:only-of-type {\n",
       "        vertical-align: middle;\n",
       "    }\n",
       "\n",
       "    .dataframe tbody tr th {\n",
       "        vertical-align: top;\n",
       "    }\n",
       "\n",
       "    .dataframe thead th {\n",
       "        text-align: right;\n",
       "    }\n",
       "</style>\n",
       "<table border=\"1\" class=\"dataframe\">\n",
       "  <thead>\n",
       "    <tr style=\"text-align: right;\">\n",
       "      <th></th>\n",
       "      <th>train error</th>\n",
       "      <th>val error</th>\n",
       "      <th>test error</th>\n",
       "      <th>kfold score error (k = 5)</th>\n",
       "    </tr>\n",
       "  </thead>\n",
       "  <tbody>\n",
       "    <tr>\n",
       "      <th>model 1</th>\n",
       "      <td>60.093426</td>\n",
       "      <td>57.377268</td>\n",
       "      <td>60.290374</td>\n",
       "      <td>64.157201</td>\n",
       "    </tr>\n",
       "    <tr>\n",
       "      <th>model 2</th>\n",
       "      <td>59.082678</td>\n",
       "      <td>56.449814</td>\n",
       "      <td>59.973098</td>\n",
       "      <td>62.854660</td>\n",
       "    </tr>\n",
       "    <tr>\n",
       "      <th>model 3</th>\n",
       "      <td>58.403145</td>\n",
       "      <td>55.323286</td>\n",
       "      <td>58.771930</td>\n",
       "      <td>62.391325</td>\n",
       "    </tr>\n",
       "    <tr>\n",
       "      <th>model 4</th>\n",
       "      <td>58.346360</td>\n",
       "      <td>54.831016</td>\n",
       "      <td>58.645406</td>\n",
       "      <td>61.985119</td>\n",
       "    </tr>\n",
       "    <tr>\n",
       "      <th>model 5</th>\n",
       "      <td>58.110571</td>\n",
       "      <td>55.175438</td>\n",
       "      <td>58.199300</td>\n",
       "      <td>61.715243</td>\n",
       "    </tr>\n",
       "    <tr>\n",
       "      <th>model 6</th>\n",
       "      <td>58.008988</td>\n",
       "      <td>55.200757</td>\n",
       "      <td>57.892011</td>\n",
       "      <td>61.695606</td>\n",
       "    </tr>\n",
       "    <tr>\n",
       "      <th>model 7</th>\n",
       "      <td>58.043112</td>\n",
       "      <td>55.296986</td>\n",
       "      <td>58.006707</td>\n",
       "      <td>61.782564</td>\n",
       "    </tr>\n",
       "    <tr>\n",
       "      <th>model 8</th>\n",
       "      <td>57.995818</td>\n",
       "      <td>55.389960</td>\n",
       "      <td>57.904758</td>\n",
       "      <td>61.770395</td>\n",
       "    </tr>\n",
       "    <tr>\n",
       "      <th>model 9</th>\n",
       "      <td>58.010979</td>\n",
       "      <td>55.495540</td>\n",
       "      <td>57.956081</td>\n",
       "      <td>61.818331</td>\n",
       "    </tr>\n",
       "    <tr>\n",
       "      <th>model 10</th>\n",
       "      <td>57.999163</td>\n",
       "      <td>55.474155</td>\n",
       "      <td>57.943852</td>\n",
       "      <td>61.827613</td>\n",
       "    </tr>\n",
       "  </tbody>\n",
       "</table>\n",
       "</div>"
      ],
      "text/plain": [
       "          train error  val error  test error  kfold score error (k = 5)\n",
       "model 1     60.093426  57.377268   60.290374                  64.157201\n",
       "model 2     59.082678  56.449814   59.973098                  62.854660\n",
       "model 3     58.403145  55.323286   58.771930                  62.391325\n",
       "model 4     58.346360  54.831016   58.645406                  61.985119\n",
       "model 5     58.110571  55.175438   58.199300                  61.715243\n",
       "model 6     58.008988  55.200757   57.892011                  61.695606\n",
       "model 7     58.043112  55.296986   58.006707                  61.782564\n",
       "model 8     57.995818  55.389960   57.904758                  61.770395\n",
       "model 9     58.010979  55.495540   57.956081                  61.818331\n",
       "model 10    57.999163  55.474155   57.943852                  61.827613"
      ]
     },
     "execution_count": 54,
     "metadata": {},
     "output_type": "execute_result"
    }
   ],
   "source": [
    "test_size = 0.2\n",
    "val_size = 0.2\n",
    "random_state = 0\n",
    "\n",
    "rf_researcher = RF_Researcher(X, y, test_size, val_size, random_state, \n",
    "                              clipping = True, clip_features = ['Concentração_NO'],\n",
    "                             clip_thresholds = [100])\n",
    "\n",
    "n_models = 10\n",
    "n_estimators_list = [2**n for n in range(1, n_models + 1)]\n",
    "max_depth_list = [6 for i in range(0, n_models)]\n",
    "k = 5\n",
    "\n",
    "rf_report = rf_researcher.get_n_models_research_report_df(n_models, n_estimators_list, max_depth_list, k)\n",
    "\n",
    "rf_report"
   ]
  },
  {
   "cell_type": "markdown",
   "id": "595fcdc4",
   "metadata": {},
   "source": [
    "Aparentemente, o modelo 6 foi o que performou melhor. Ainda, não apresentou sinais de overfitting."
   ]
  },
  {
   "cell_type": "markdown",
   "id": "d711309b",
   "metadata": {},
   "source": [
    "---"
   ]
  },
  {
   "cell_type": "markdown",
   "id": "1586a3e4",
   "metadata": {},
   "source": [
    "# 2) XGBoost"
   ]
  },
  {
   "cell_type": "code",
   "execution_count": 40,
   "id": "24288386",
   "metadata": {},
   "outputs": [],
   "source": [
    "class XGB_Researcher(Researcher):\n",
    "    \n",
    "    def __preprocess_model(self, n_estimators, max_depth, learning_rate):\n",
    "        preprocessor = Pipeline(steps = [\n",
    "        ('imputer', SimpleImputer(strategy = 'most_frequent')),\n",
    "        ('scaler', RobustScaler())\n",
    "        ])\n",
    "    \n",
    "        model = XGBRegressor(random_state = self.random_state, n_estimators = n_estimators,\n",
    "                        max_depth = max_depth, learning_rate = learning_rate)\n",
    "    \n",
    "        model_pipeline = Pipeline(steps = [('preprocessor', preprocessor),\n",
    "                                      ('model', model)])\n",
    "    \n",
    "        return model_pipeline\n",
    "    \n",
    "    def __preprocess_n_models(self, n_models, n_estimators_list, max_depth_list, learning_rate_list):\n",
    "        model_list = []\n",
    "        \n",
    "        for i in range(0, n_models):\n",
    "            model = self.__preprocess_model(n_estimators = n_estimators_list[i], \n",
    "                                            max_depth = max_depth_list[i], \n",
    "                                            learning_rate = learning_rate_list[i])\n",
    "            model_list.append(model)\n",
    "            \n",
    "        return model_list\n",
    "    \n",
    "    def get_n_models_errors_df(self, n_models, n_estimators_list, max_depth_list, learning_rate_list):\n",
    "        model_list = self.__preprocess_n_models(n_models, n_estimators_list, max_depth_list, learning_rate_list)\n",
    "        \n",
    "        for i in range(0, n_models):\n",
    "            errors = self._get_train_test_val_errors(model_list[i])\n",
    "            if i == 0:\n",
    "                df_errors = pd.DataFrame(data = errors, index = [f'model {i + 1}'])\n",
    "            else:\n",
    "                df = pd.DataFrame(data = errors, index = [f'model {i + 1}'])\n",
    "                df_errors = pd.concat([df_errors, df])\n",
    "        \n",
    "        return df_errors\n",
    "    \n",
    "    def get_n_models_kfold_mean_score_df(self, n_models, n_estimators_list, max_depth_list, learning_rate_list, k):\n",
    "        model_list = self.__preprocess_n_models(n_models, n_estimators_list, max_depth_list, learning_rate_list)\n",
    "        indexes = np.array(self.X.index)\n",
    "        rand = np.random.RandomState(self.random_state)\n",
    "        rand.shuffle(indexes)\n",
    "        X_shuffled = self.X.loc[indexes]\n",
    "        y_shuffled = self.y.loc[indexes]\n",
    "        \n",
    "        for i in range(0, n_models):\n",
    "            kfold_score = self._get_kfold_mean_score(model_list[i], k)\n",
    "            if i == 0:\n",
    "                df_scores = pd.DataFrame(data = {f'kfold score error (k = {k})': kfold_score}\n",
    "                                        , index = [f'model {i + 1}'])\n",
    "            else:\n",
    "                df = pd.DataFrame(data = {f'kfold score error (k = {k})': kfold_score}\n",
    "                                 , index = [f'model {i + 1}'])\n",
    "                df_scores = pd.concat([df_scores, df])\n",
    "                \n",
    "        return df_scores\n",
    "        \n",
    "    def get_n_models_research_report_df(self, n_models, n_estimators_list, max_depth_list, learning_rate_list, k):\n",
    "        df_scores = self.get_n_models_kfold_mean_score_df(n_models, n_estimators_list, max_depth_list, learning_rate_list, k)\n",
    "        df_errors = self.get_n_models_errors_df(n_models, n_estimators_list, max_depth_list, learning_rate_list)\n",
    "        df_report = pd.concat([df_errors, df_scores], axis = 1)\n",
    "        \n",
    "        return df_report\n",
    "    \n",
    "    def get_model_train_scatterplot(self, model_index, n_estimators_list, \n",
    "                                    max_depth_list, learning_rate_list, title):\n",
    "        \n",
    "        n_estimators = n_estimators_list[model_index]\n",
    "        max_depth = max_depth_list[model_index]\n",
    "        learning_rate = learning_rate_list[model_index]\n",
    "        \n",
    "        model = self.__preprocess_model(n_estimators, max_depth, learning_rate)\n",
    "        model.fit(self.X_train, self.y_train)\n",
    "        y_pred = model.predict(self.X_test)\n",
    "        \n",
    "        _ = plt.scatter(x = y_pred, y = self.y_test)\n",
    "        plt.title(title)\n",
    "        plt.ylabel('Predição (estimativa do modelo)')\n",
    "        plt.xlabel('Label (valor real)')\n",
    "\n",
    "        # Plotando a reta y = x\n",
    "\n",
    "        x = [0, 90]\n",
    "        y = [0, 90]\n",
    "        plt.plot(x,y, color = 'red')\n",
    "\n",
    "        plt.legend(['Pontos', 'y = x'])"
   ]
  },
  {
   "cell_type": "markdown",
   "id": "b80c8b64",
   "metadata": {},
   "source": [
    "### Treinando 10 modelos diferentes de XGBoost variando n_estimators\n",
    "\n",
    "Obs: Manteremos max_depth = 6 e learning_rate = 0.05 para evitar overfitting."
   ]
  },
  {
   "cell_type": "markdown",
   "id": "908abf24",
   "metadata": {},
   "source": [
    "Dado que modelos que se utilizam de Gradiente Descendente são pouco robustos a outliers, agora devemos tratar os dados para se adaptarem melhor ao treinamento. Escolhemos fazer o Clipping dos dados para evitar perder informações."
   ]
  },
  {
   "cell_type": "code",
   "execution_count": 41,
   "id": "12b96a64",
   "metadata": {
    "scrolled": true
   },
   "outputs": [
    {
     "data": {
      "text/html": [
       "<div>\n",
       "<style scoped>\n",
       "    .dataframe tbody tr th:only-of-type {\n",
       "        vertical-align: middle;\n",
       "    }\n",
       "\n",
       "    .dataframe tbody tr th {\n",
       "        vertical-align: top;\n",
       "    }\n",
       "\n",
       "    .dataframe thead th {\n",
       "        text-align: right;\n",
       "    }\n",
       "</style>\n",
       "<table border=\"1\" class=\"dataframe\">\n",
       "  <thead>\n",
       "    <tr style=\"text-align: right;\">\n",
       "      <th></th>\n",
       "      <th>train error</th>\n",
       "      <th>val error</th>\n",
       "      <th>test error</th>\n",
       "      <th>kfold score error (k = 5)</th>\n",
       "    </tr>\n",
       "  </thead>\n",
       "  <tbody>\n",
       "    <tr>\n",
       "      <th>model 1</th>\n",
       "      <td>484.882654</td>\n",
       "      <td>461.598862</td>\n",
       "      <td>460.691492</td>\n",
       "      <td>476.299633</td>\n",
       "    </tr>\n",
       "    <tr>\n",
       "      <th>model 2</th>\n",
       "      <td>407.577118</td>\n",
       "      <td>387.028069</td>\n",
       "      <td>386.917560</td>\n",
       "      <td>400.298683</td>\n",
       "    </tr>\n",
       "    <tr>\n",
       "      <th>model 3</th>\n",
       "      <td>292.703285</td>\n",
       "      <td>276.859642</td>\n",
       "      <td>277.545512</td>\n",
       "      <td>287.746300</td>\n",
       "    </tr>\n",
       "    <tr>\n",
       "      <th>model 4</th>\n",
       "      <td>163.858055</td>\n",
       "      <td>154.959261</td>\n",
       "      <td>155.684965</td>\n",
       "      <td>162.337714</td>\n",
       "    </tr>\n",
       "    <tr>\n",
       "      <th>model 5</th>\n",
       "      <td>79.057749</td>\n",
       "      <td>75.907528</td>\n",
       "      <td>77.074897</td>\n",
       "      <td>81.656978</td>\n",
       "    </tr>\n",
       "    <tr>\n",
       "      <th>model 6</th>\n",
       "      <td>55.983496</td>\n",
       "      <td>56.679199</td>\n",
       "      <td>58.824514</td>\n",
       "      <td>63.403687</td>\n",
       "    </tr>\n",
       "    <tr>\n",
       "      <th>model 7</th>\n",
       "      <td>52.170028</td>\n",
       "      <td>57.009260</td>\n",
       "      <td>58.803359</td>\n",
       "      <td>63.688627</td>\n",
       "    </tr>\n",
       "    <tr>\n",
       "      <th>model 8</th>\n",
       "      <td>49.664648</td>\n",
       "      <td>59.180338</td>\n",
       "      <td>59.760878</td>\n",
       "      <td>65.201008</td>\n",
       "    </tr>\n",
       "    <tr>\n",
       "      <th>model 9</th>\n",
       "      <td>47.466207</td>\n",
       "      <td>63.169693</td>\n",
       "      <td>60.823146</td>\n",
       "      <td>67.259584</td>\n",
       "    </tr>\n",
       "    <tr>\n",
       "      <th>model 10</th>\n",
       "      <td>45.740298</td>\n",
       "      <td>67.069113</td>\n",
       "      <td>62.761681</td>\n",
       "      <td>70.367846</td>\n",
       "    </tr>\n",
       "  </tbody>\n",
       "</table>\n",
       "</div>"
      ],
      "text/plain": [
       "          train error   val error  test error  kfold score error (k = 5)\n",
       "model 1    484.882654  461.598862  460.691492                 476.299633\n",
       "model 2    407.577118  387.028069  386.917560                 400.298683\n",
       "model 3    292.703285  276.859642  277.545512                 287.746300\n",
       "model 4    163.858055  154.959261  155.684965                 162.337714\n",
       "model 5     79.057749   75.907528   77.074897                  81.656978\n",
       "model 6     55.983496   56.679199   58.824514                  63.403687\n",
       "model 7     52.170028   57.009260   58.803359                  63.688627\n",
       "model 8     49.664648   59.180338   59.760878                  65.201008\n",
       "model 9     47.466207   63.169693   60.823146                  67.259584\n",
       "model 10    45.740298   67.069113   62.761681                  70.367846"
      ]
     },
     "execution_count": 41,
     "metadata": {},
     "output_type": "execute_result"
    }
   ],
   "source": [
    "test_size = 0.2\n",
    "val_size = 0.2\n",
    "random_state = 0\n",
    "\n",
    "xgb_researcher = XGB_Researcher(X, y, test_size, val_size, random_state)\n",
    "\n",
    "n_models = 10\n",
    "n_estimators_list = [2**n for n in range(1, n_models + 1)]\n",
    "max_depth_list = [6 for i in range(0, n_models)]\n",
    "learning_rate_list = [0.05 for i in range(0, n_models)]\n",
    "k = 5\n",
    "\n",
    "xgb_report = xgb_researcher.get_n_models_research_report_df(n_models, n_estimators_list, max_depth_list, \n",
    "                                                            learning_rate_list, k)\n",
    "\n",
    "xgb_report"
   ]
  },
  {
   "cell_type": "markdown",
   "id": "e1caf3f6",
   "metadata": {},
   "source": [
    "É notável que o modelo 6 foi aquele que melhor performou."
   ]
  },
  {
   "cell_type": "markdown",
   "id": "8d168868",
   "metadata": {},
   "source": [
    "---"
   ]
  },
  {
   "cell_type": "markdown",
   "id": "e6cdefbc",
   "metadata": {},
   "source": [
    "## Vamos comparar agora ambos os melhores modelos"
   ]
  },
  {
   "cell_type": "code",
   "execution_count": 27,
   "id": "4ca8efc1",
   "metadata": {
    "scrolled": true
   },
   "outputs": [],
   "source": [
    "best_rf_index = 'model 6'\n",
    "best_rf_df = pd.DataFrame(rf_report.loc[best_rf_index])\n",
    "best_rf_df = best_rf_df.rename(columns = {best_rf_index: 'Best Random Forest Model'})"
   ]
  },
  {
   "cell_type": "code",
   "execution_count": 28,
   "id": "d3469373",
   "metadata": {},
   "outputs": [],
   "source": [
    "best_xgb_index = 'model 6'\n",
    "best_xgb_df = pd.DataFrame(xgb_report.loc[best_xgb_index])\n",
    "best_xgb_df = best_xgb_df.rename(columns = {best_xgb_index: 'Best XGBoost Model'})"
   ]
  },
  {
   "cell_type": "code",
   "execution_count": 29,
   "id": "7157af7c",
   "metadata": {},
   "outputs": [],
   "source": [
    "comparison_df = pd.concat([best_rf_df, best_xgb_df], axis = 1)"
   ]
  },
  {
   "cell_type": "code",
   "execution_count": 30,
   "id": "b60671b6",
   "metadata": {
    "scrolled": true
   },
   "outputs": [
    {
     "data": {
      "text/html": [
       "<div>\n",
       "<style scoped>\n",
       "    .dataframe tbody tr th:only-of-type {\n",
       "        vertical-align: middle;\n",
       "    }\n",
       "\n",
       "    .dataframe tbody tr th {\n",
       "        vertical-align: top;\n",
       "    }\n",
       "\n",
       "    .dataframe thead th {\n",
       "        text-align: right;\n",
       "    }\n",
       "</style>\n",
       "<table border=\"1\" class=\"dataframe\">\n",
       "  <thead>\n",
       "    <tr style=\"text-align: right;\">\n",
       "      <th></th>\n",
       "      <th>Best Random Forest Model</th>\n",
       "      <th>Best XGBoost Model</th>\n",
       "    </tr>\n",
       "  </thead>\n",
       "  <tbody>\n",
       "    <tr>\n",
       "      <th>train error</th>\n",
       "      <td>57.807114</td>\n",
       "      <td>55.983496</td>\n",
       "    </tr>\n",
       "    <tr>\n",
       "      <th>val error</th>\n",
       "      <td>54.914508</td>\n",
       "      <td>56.679199</td>\n",
       "    </tr>\n",
       "    <tr>\n",
       "      <th>test error</th>\n",
       "      <td>57.875818</td>\n",
       "      <td>58.824514</td>\n",
       "    </tr>\n",
       "    <tr>\n",
       "      <th>kfold score error (k = 5)</th>\n",
       "      <td>61.737190</td>\n",
       "      <td>63.403687</td>\n",
       "    </tr>\n",
       "  </tbody>\n",
       "</table>\n",
       "</div>"
      ],
      "text/plain": [
       "                           Best Random Forest Model  Best XGBoost Model\n",
       "train error                               57.807114           55.983496\n",
       "val error                                 54.914508           56.679199\n",
       "test error                                57.875818           58.824514\n",
       "kfold score error (k = 5)                 61.737190           63.403687"
      ]
     },
     "execution_count": 30,
     "metadata": {},
     "output_type": "execute_result"
    }
   ],
   "source": [
    "comparison_df"
   ]
  },
  {
   "cell_type": "markdown",
   "id": "a2adf2d7",
   "metadata": {},
   "source": [
    "# Conclusão das Comparações"
   ]
  },
  {
   "cell_type": "markdown",
   "id": "70e3fc99",
   "metadata": {},
   "source": [
    "Pelo método menos viesado (Kfold) conseguimos mostrar que o modelo de RandomForest é o melhor para realizar as predições que nos propusemos a fazer. Isso é explicado pela grande quantidade de outliers e pela robustez do modelo de RandomForest em relação a eles. De fato, era esperado que, com menos modificações de hiperparâmetros, a RandomForest fosse o modelo que mais se adaptaria bem ao conjunto de treino."
   ]
  },
  {
   "cell_type": "markdown",
   "id": "c87e4c48",
   "metadata": {},
   "source": [
    "Antes de terminarmos, faremos uma visualização gráfica dos resultados:"
   ]
  },
  {
   "cell_type": "markdown",
   "id": "eb7e2284",
   "metadata": {},
   "source": [
    "# Visualização Gráfica"
   ]
  },
  {
   "cell_type": "markdown",
   "id": "07497b2b",
   "metadata": {},
   "source": [
    "Nesse tipo de gráfico, quanto mais próximo o gráfico ficar da reta y = x, melhor."
   ]
  },
  {
   "cell_type": "code",
   "execution_count": 31,
   "id": "16a0278b",
   "metadata": {},
   "outputs": [
    {
     "data": {
      "image/png": "[encoded data removed]",
      "text/plain": [
       "<Figure size 640x480 with 1 Axes>"
      ]
     },
     "metadata": {},
     "output_type": "display_data"
    }
   ],
   "source": [
    "rf_researcher.get_model_train_scatterplot(6, n_estimators_list, max_depth_list, \n",
    "                                        title = 'Predições versus Label - Melhor Random Forest')"
   ]
  },
  {
   "cell_type": "code",
   "execution_count": 32,
   "id": "7cffb9bd",
   "metadata": {},
   "outputs": [
    {
     "data": {
      "image/png": "[encoded data removed]",
      "text/plain": [
       "<Figure size 640x480 with 1 Axes>"
      ]
     },
     "metadata": {},
     "output_type": "display_data"
    }
   ],
   "source": [
    "xgb_researcher.get_model_train_scatterplot(6, n_estimators_list, max_depth_list, learning_rate_list,\n",
    "                                        title = 'Predições versus Label - Melhor XGBoost')"
   ]
  },
  {
   "cell_type": "markdown",
   "id": "3f720ed8",
   "metadata": {},
   "source": [
    "Aparentemente, o gráfico da RandomForest tem uma proximidade maior com os pontos da reta y = x, na média, do que o gráfico da Random Forest.\n",
    "\n",
    "É claro que o modelo é longe de ser bom para ser usado na prática. O ideal seria testar outras features (se existirem) e obter mais dados para treiná-lo. Além disso, poderia-se testar outros modelos de aprendizado de máquina para tentar obter melhores resultados."
   ]
  },
  {
   "cell_type": "markdown",
   "id": "dbe70702",
   "metadata": {},
   "source": [
    "---"
   ]
  },
  {
   "cell_type": "markdown",
   "id": "0d833e31",
   "metadata": {},
   "source": [
    "# Extra - Adicionando novas features: dia da semana e feature cross"
   ]
  },
  {
   "cell_type": "markdown",
   "id": "797ecb29",
   "metadata": {},
   "source": [
    "## Dia da semana"
   ]
  },
  {
   "cell_type": "markdown",
   "id": "61be8a48",
   "metadata": {},
   "source": [
    "Vamos verificar se adicionando a feature do dia da semana nós conseguimos um melhor resultado com o modelo de XGBoost."
   ]
  },
  {
   "cell_type": "code",
   "execution_count": 33,
   "id": "1888d203",
   "metadata": {},
   "outputs": [],
   "source": [
    "from datetime import datetime"
   ]
  },
  {
   "cell_type": "code",
   "execution_count": 34,
   "id": "89c1caad",
   "metadata": {},
   "outputs": [],
   "source": [
    "new_data = data.copy()"
   ]
  },
  {
   "cell_type": "markdown",
   "id": "c8bd0134",
   "metadata": {},
   "source": [
    "### Adicionando nova feature"
   ]
  },
  {
   "cell_type": "code",
   "execution_count": 35,
   "id": "a0cd1022",
   "metadata": {
    "scrolled": true
   },
   "outputs": [],
   "source": [
    "new_data['Data'] = new_data['Data'].apply(lambda x: datetime.strptime(x, '%Y-%m-%d'))"
   ]
  },
  {
   "cell_type": "code",
   "execution_count": 36,
   "id": "c9d16763",
   "metadata": {},
   "outputs": [],
   "source": [
    "new_data['Dia da Semana'] = new_data['Data'].apply(lambda x: x.weekday())"
   ]
  },
  {
   "cell_type": "markdown",
   "id": "142bf9f7",
   "metadata": {},
   "source": [
    "### Relação da nova feature com o target: visualização gráfica"
   ]
  },
  {
   "cell_type": "code",
   "execution_count": 37,
   "id": "f080bd3d",
   "metadata": {},
   "outputs": [
    {
     "data": {
      "text/plain": [
       "Text(0.5, 0, 'Dia da Semana')"
      ]
     },
     "execution_count": 37,
     "metadata": {},
     "output_type": "execute_result"
    },
    {
     "data": {
      "image/png": "[encoded data removed]",
      "text/plain": [
       "<Figure size 640x480 with 1 Axes>"
      ]
     },
     "metadata": {},
     "output_type": "display_data"
    }
   ],
   "source": [
    "_ = plt.scatter(new_data['Dia da Semana'], new_data['Concentração_NO2'])\n",
    "plt.title('Concentração de NO2 por Dia da Semana')\n",
    "plt.ylabel('Concentração de NO2 (mug/m^3)')\n",
    "plt.xlabel('Dia da Semana')"
   ]
  },
  {
   "cell_type": "markdown",
   "id": "390b80cf",
   "metadata": {},
   "source": [
    "## Preparação dos dados"
   ]
  },
  {
   "cell_type": "markdown",
   "id": "538613b9",
   "metadata": {},
   "source": [
    "### Separando em features e label\n",
    "\n",
    "- X: features\n",
    "- y: label"
   ]
  },
  {
   "cell_type": "code",
   "execution_count": 38,
   "id": "1781e161",
   "metadata": {},
   "outputs": [],
   "source": [
    "new_features = features + ['Dia da Semana']\n",
    "X = new_data[new_features]\n",
    "y = new_data['Concentração_NO2']"
   ]
  },
  {
   "cell_type": "markdown",
   "id": "bdb4670b",
   "metadata": {},
   "source": [
    "### Treinando 10 modelos diferentes de RandomForest variando n_estimators\n",
    "\n",
    "Obs: Manteremos max_depth = 6 para evitar overfitting."
   ]
  },
  {
   "cell_type": "code",
   "execution_count": 39,
   "id": "89fd42f4",
   "metadata": {},
   "outputs": [
    {
     "data": {
      "text/html": [
       "<div>\n",
       "<style scoped>\n",
       "    .dataframe tbody tr th:only-of-type {\n",
       "        vertical-align: middle;\n",
       "    }\n",
       "\n",
       "    .dataframe tbody tr th {\n",
       "        vertical-align: top;\n",
       "    }\n",
       "\n",
       "    .dataframe thead th {\n",
       "        text-align: right;\n",
       "    }\n",
       "</style>\n",
       "<table border=\"1\" class=\"dataframe\">\n",
       "  <thead>\n",
       "    <tr style=\"text-align: right;\">\n",
       "      <th></th>\n",
       "      <th>train error</th>\n",
       "      <th>val error</th>\n",
       "      <th>test error</th>\n",
       "      <th>kfold score error (k = 5)</th>\n",
       "    </tr>\n",
       "  </thead>\n",
       "  <tbody>\n",
       "    <tr>\n",
       "      <th>model 1</th>\n",
       "      <td>59.631421</td>\n",
       "      <td>57.390091</td>\n",
       "      <td>59.775254</td>\n",
       "      <td>64.853905</td>\n",
       "    </tr>\n",
       "    <tr>\n",
       "      <th>model 2</th>\n",
       "      <td>57.867282</td>\n",
       "      <td>56.115168</td>\n",
       "      <td>59.104765</td>\n",
       "      <td>63.054354</td>\n",
       "    </tr>\n",
       "    <tr>\n",
       "      <th>model 3</th>\n",
       "      <td>56.690918</td>\n",
       "      <td>54.331254</td>\n",
       "      <td>58.329009</td>\n",
       "      <td>61.996053</td>\n",
       "    </tr>\n",
       "    <tr>\n",
       "      <th>model 4</th>\n",
       "      <td>56.401313</td>\n",
       "      <td>53.458438</td>\n",
       "      <td>57.254643</td>\n",
       "      <td>61.457405</td>\n",
       "    </tr>\n",
       "    <tr>\n",
       "      <th>model 5</th>\n",
       "      <td>55.994739</td>\n",
       "      <td>54.005217</td>\n",
       "      <td>57.087983</td>\n",
       "      <td>61.062303</td>\n",
       "    </tr>\n",
       "    <tr>\n",
       "      <th>model 6</th>\n",
       "      <td>55.763887</td>\n",
       "      <td>54.045831</td>\n",
       "      <td>56.910371</td>\n",
       "      <td>60.896265</td>\n",
       "    </tr>\n",
       "    <tr>\n",
       "      <th>model 7</th>\n",
       "      <td>55.751847</td>\n",
       "      <td>54.254368</td>\n",
       "      <td>57.043004</td>\n",
       "      <td>60.926376</td>\n",
       "    </tr>\n",
       "    <tr>\n",
       "      <th>model 8</th>\n",
       "      <td>55.708304</td>\n",
       "      <td>54.252624</td>\n",
       "      <td>56.959651</td>\n",
       "      <td>60.895800</td>\n",
       "    </tr>\n",
       "    <tr>\n",
       "      <th>model 9</th>\n",
       "      <td>55.697238</td>\n",
       "      <td>54.358993</td>\n",
       "      <td>56.997179</td>\n",
       "      <td>60.958926</td>\n",
       "    </tr>\n",
       "    <tr>\n",
       "      <th>model 10</th>\n",
       "      <td>55.681820</td>\n",
       "      <td>54.364024</td>\n",
       "      <td>57.020985</td>\n",
       "      <td>60.975522</td>\n",
       "    </tr>\n",
       "  </tbody>\n",
       "</table>\n",
       "</div>"
      ],
      "text/plain": [
       "          train error  val error  test error  kfold score error (k = 5)\n",
       "model 1     59.631421  57.390091   59.775254                  64.853905\n",
       "model 2     57.867282  56.115168   59.104765                  63.054354\n",
       "model 3     56.690918  54.331254   58.329009                  61.996053\n",
       "model 4     56.401313  53.458438   57.254643                  61.457405\n",
       "model 5     55.994739  54.005217   57.087983                  61.062303\n",
       "model 6     55.763887  54.045831   56.910371                  60.896265\n",
       "model 7     55.751847  54.254368   57.043004                  60.926376\n",
       "model 8     55.708304  54.252624   56.959651                  60.895800\n",
       "model 9     55.697238  54.358993   56.997179                  60.958926\n",
       "model 10    55.681820  54.364024   57.020985                  60.975522"
      ]
     },
     "execution_count": 39,
     "metadata": {},
     "output_type": "execute_result"
    }
   ],
   "source": [
    "test_size = 0.2\n",
    "val_size = 0.2\n",
    "random_state = 0\n",
    "\n",
    "new_rf_researcher = RF_Researcher(X, y, test_size, val_size, random_state)\n",
    "\n",
    "n_models = 10\n",
    "n_estimators_list = [2**n for n in range(1, n_models + 1)]\n",
    "max_depth_list = [6 for i in range(0, n_models)]\n",
    "k = 5\n",
    "\n",
    "new_rf_report = new_rf_researcher.get_n_models_research_report_df(n_models, n_estimators_list, max_depth_list, k)\n",
    "\n",
    "new_rf_report"
   ]
  },
  {
   "cell_type": "markdown",
   "id": "f4c425db",
   "metadata": {},
   "source": [
    "Conseguimos um modelo melhor com a nova feature! O novo modelo escolhido é o modelo 8."
   ]
  },
  {
   "cell_type": "code",
   "execution_count": 40,
   "id": "71ceff71",
   "metadata": {},
   "outputs": [],
   "source": [
    "new_best_rf_index = 'model 8'\n",
    "new_best_rf_df = pd.DataFrame(new_rf_report.loc[new_best_rf_index])\n",
    "new_best_rf_df = new_best_rf_df.rename(columns = {new_best_rf_index: 'New Best Random Forest Model'})"
   ]
  },
  {
   "cell_type": "markdown",
   "id": "1c0708dd",
   "metadata": {},
   "source": [
    "Comparando o modelo antigo e o novo:"
   ]
  },
  {
   "cell_type": "code",
   "execution_count": 41,
   "id": "61c8fa96",
   "metadata": {},
   "outputs": [],
   "source": [
    "comparison_rf_df = pd.concat([best_rf_df, new_best_rf_df], axis = 1)"
   ]
  },
  {
   "cell_type": "code",
   "execution_count": 42,
   "id": "db9d377b",
   "metadata": {},
   "outputs": [
    {
     "data": {
      "text/html": [
       "<div>\n",
       "<style scoped>\n",
       "    .dataframe tbody tr th:only-of-type {\n",
       "        vertical-align: middle;\n",
       "    }\n",
       "\n",
       "    .dataframe tbody tr th {\n",
       "        vertical-align: top;\n",
       "    }\n",
       "\n",
       "    .dataframe thead th {\n",
       "        text-align: right;\n",
       "    }\n",
       "</style>\n",
       "<table border=\"1\" class=\"dataframe\">\n",
       "  <thead>\n",
       "    <tr style=\"text-align: right;\">\n",
       "      <th></th>\n",
       "      <th>Best Random Forest Model</th>\n",
       "      <th>New Best Random Forest Model</th>\n",
       "    </tr>\n",
       "  </thead>\n",
       "  <tbody>\n",
       "    <tr>\n",
       "      <th>train error</th>\n",
       "      <td>57.807114</td>\n",
       "      <td>55.708304</td>\n",
       "    </tr>\n",
       "    <tr>\n",
       "      <th>val error</th>\n",
       "      <td>54.914508</td>\n",
       "      <td>54.252624</td>\n",
       "    </tr>\n",
       "    <tr>\n",
       "      <th>test error</th>\n",
       "      <td>57.875818</td>\n",
       "      <td>56.959651</td>\n",
       "    </tr>\n",
       "    <tr>\n",
       "      <th>kfold score error (k = 5)</th>\n",
       "      <td>61.737190</td>\n",
       "      <td>60.895800</td>\n",
       "    </tr>\n",
       "  </tbody>\n",
       "</table>\n",
       "</div>"
      ],
      "text/plain": [
       "                           Best Random Forest Model  \\\n",
       "train error                               57.807114   \n",
       "val error                                 54.914508   \n",
       "test error                                57.875818   \n",
       "kfold score error (k = 5)                 61.737190   \n",
       "\n",
       "                           New Best Random Forest Model  \n",
       "train error                                   55.708304  \n",
       "val error                                     54.252624  \n",
       "test error                                    56.959651  \n",
       "kfold score error (k = 5)                     60.895800  "
      ]
     },
     "execution_count": 42,
     "metadata": {},
     "output_type": "execute_result"
    }
   ],
   "source": [
    "comparison_rf_df"
   ]
  },
  {
   "cell_type": "markdown",
   "id": "8e239c99",
   "metadata": {},
   "source": [
    "De fato, todos os erros são menores com o novo modelo, de forma que a adição da nova feature (dias da semana) ajudou o modelo a aprender!"
   ]
  },
  {
   "cell_type": "markdown",
   "id": "2bdf629a",
   "metadata": {},
   "source": [
    "## Dia da semana ao quadrado: feature cross"
   ]
  },
  {
   "cell_type": "markdown",
   "id": "588dc08d",
   "metadata": {},
   "source": [
    "Sabemos de antemão que provavelmente elevar o dia da semana ao quadrado não deve auxiliar o modelo, dado que a relação entre o target e o dia da semana não parece ser descrita por uma transformação como essa.\n",
    "\n",
    "Mas, como teste:\n",
    "\n",
    "Agora vamos adicionar a feature do dia da semana ao quadrado (feature cross dessa feature com ela mesma). Por quê? Para causar maior diferenciação entre o fim de semana e os dias da semana! Outra forma de fazer isso sem utilizar feature cross seria adicionar uma feature booleana."
   ]
  },
  {
   "cell_type": "code",
   "execution_count": 43,
   "id": "63b088d8",
   "metadata": {},
   "outputs": [],
   "source": [
    "newest_data = new_data.copy()"
   ]
  },
  {
   "cell_type": "markdown",
   "id": "7eb56c68",
   "metadata": {},
   "source": [
    "### Adicionando nova feature"
   ]
  },
  {
   "cell_type": "code",
   "execution_count": 44,
   "id": "a20b83df",
   "metadata": {},
   "outputs": [],
   "source": [
    "newest_data['Dia da Semana ao Quadrado'] = newest_data['Dia da Semana']**2"
   ]
  },
  {
   "cell_type": "code",
   "execution_count": 45,
   "id": "9494763f",
   "metadata": {
    "scrolled": false
   },
   "outputs": [
    {
     "data": {
      "text/html": [
       "<div>\n",
       "<style scoped>\n",
       "    .dataframe tbody tr th:only-of-type {\n",
       "        vertical-align: middle;\n",
       "    }\n",
       "\n",
       "    .dataframe tbody tr th {\n",
       "        vertical-align: top;\n",
       "    }\n",
       "\n",
       "    .dataframe thead th {\n",
       "        text-align: right;\n",
       "    }\n",
       "</style>\n",
       "<table border=\"1\" class=\"dataframe\">\n",
       "  <thead>\n",
       "    <tr style=\"text-align: right;\">\n",
       "      <th></th>\n",
       "      <th>Data</th>\n",
       "      <th>Hora</th>\n",
       "      <th>Concentração_NO</th>\n",
       "      <th>Concentração_NO2</th>\n",
       "      <th>Unidade</th>\n",
       "      <th>Dia da Semana</th>\n",
       "      <th>Dia da Semana ao Quadrado</th>\n",
       "    </tr>\n",
       "  </thead>\n",
       "  <tbody>\n",
       "    <tr>\n",
       "      <th>0</th>\n",
       "      <td>2017-01-01</td>\n",
       "      <td>2.0</td>\n",
       "      <td>2.0</td>\n",
       "      <td>18.0</td>\n",
       "      <td>ug/m3</td>\n",
       "      <td>6</td>\n",
       "      <td>36</td>\n",
       "    </tr>\n",
       "    <tr>\n",
       "      <th>1</th>\n",
       "      <td>2017-01-01</td>\n",
       "      <td>3.0</td>\n",
       "      <td>2.0</td>\n",
       "      <td>15.0</td>\n",
       "      <td>ug/m3</td>\n",
       "      <td>6</td>\n",
       "      <td>36</td>\n",
       "    </tr>\n",
       "    <tr>\n",
       "      <th>2</th>\n",
       "      <td>2017-01-01</td>\n",
       "      <td>4.0</td>\n",
       "      <td>1.0</td>\n",
       "      <td>7.0</td>\n",
       "      <td>ug/m3</td>\n",
       "      <td>6</td>\n",
       "      <td>36</td>\n",
       "    </tr>\n",
       "    <tr>\n",
       "      <th>3</th>\n",
       "      <td>2017-01-01</td>\n",
       "      <td>5.0</td>\n",
       "      <td>1.0</td>\n",
       "      <td>6.0</td>\n",
       "      <td>ug/m3</td>\n",
       "      <td>6</td>\n",
       "      <td>36</td>\n",
       "    </tr>\n",
       "    <tr>\n",
       "      <th>4</th>\n",
       "      <td>2017-01-01</td>\n",
       "      <td>6.0</td>\n",
       "      <td>0.0</td>\n",
       "      <td>6.0</td>\n",
       "      <td>ug/m3</td>\n",
       "      <td>6</td>\n",
       "      <td>36</td>\n",
       "    </tr>\n",
       "  </tbody>\n",
       "</table>\n",
       "</div>"
      ],
      "text/plain": [
       "        Data  Hora  Concentração_NO  Concentração_NO2 Unidade  Dia da Semana  \\\n",
       "0 2017-01-01   2.0              2.0              18.0   ug/m3              6   \n",
       "1 2017-01-01   3.0              2.0              15.0   ug/m3              6   \n",
       "2 2017-01-01   4.0              1.0               7.0   ug/m3              6   \n",
       "3 2017-01-01   5.0              1.0               6.0   ug/m3              6   \n",
       "4 2017-01-01   6.0              0.0               6.0   ug/m3              6   \n",
       "\n",
       "   Dia da Semana ao Quadrado  \n",
       "0                         36  \n",
       "1                         36  \n",
       "2                         36  \n",
       "3                         36  \n",
       "4                         36  "
      ]
     },
     "execution_count": 45,
     "metadata": {},
     "output_type": "execute_result"
    }
   ],
   "source": [
    "newest_data.head()"
   ]
  },
  {
   "cell_type": "code",
   "execution_count": 46,
   "id": "7360b9d4",
   "metadata": {},
   "outputs": [],
   "source": [
    "newest_features = new_features + ['Dia da Semana ao Quadrado']\n",
    "X = newest_data[newest_features]\n",
    "y = newest_data['Concentração_NO2']"
   ]
  },
  {
   "cell_type": "code",
   "execution_count": 47,
   "id": "29d50f7d",
   "metadata": {},
   "outputs": [
    {
     "data": {
      "text/html": [
       "<div>\n",
       "<style scoped>\n",
       "    .dataframe tbody tr th:only-of-type {\n",
       "        vertical-align: middle;\n",
       "    }\n",
       "\n",
       "    .dataframe tbody tr th {\n",
       "        vertical-align: top;\n",
       "    }\n",
       "\n",
       "    .dataframe thead th {\n",
       "        text-align: right;\n",
       "    }\n",
       "</style>\n",
       "<table border=\"1\" class=\"dataframe\">\n",
       "  <thead>\n",
       "    <tr style=\"text-align: right;\">\n",
       "      <th></th>\n",
       "      <th>train error</th>\n",
       "      <th>val error</th>\n",
       "      <th>test error</th>\n",
       "      <th>kfold score error (k = 5)</th>\n",
       "    </tr>\n",
       "  </thead>\n",
       "  <tbody>\n",
       "    <tr>\n",
       "      <th>model 1</th>\n",
       "      <td>59.645863</td>\n",
       "      <td>57.421585</td>\n",
       "      <td>59.813799</td>\n",
       "      <td>64.767246</td>\n",
       "    </tr>\n",
       "    <tr>\n",
       "      <th>model 2</th>\n",
       "      <td>57.876116</td>\n",
       "      <td>56.132604</td>\n",
       "      <td>59.131776</td>\n",
       "      <td>63.093808</td>\n",
       "    </tr>\n",
       "    <tr>\n",
       "      <th>model 3</th>\n",
       "      <td>56.695581</td>\n",
       "      <td>54.436173</td>\n",
       "      <td>58.557913</td>\n",
       "      <td>62.043160</td>\n",
       "    </tr>\n",
       "    <tr>\n",
       "      <th>model 4</th>\n",
       "      <td>56.398719</td>\n",
       "      <td>53.510591</td>\n",
       "      <td>57.354621</td>\n",
       "      <td>61.469964</td>\n",
       "    </tr>\n",
       "    <tr>\n",
       "      <th>model 5</th>\n",
       "      <td>55.994300</td>\n",
       "      <td>54.021738</td>\n",
       "      <td>57.153112</td>\n",
       "      <td>61.054320</td>\n",
       "    </tr>\n",
       "    <tr>\n",
       "      <th>model 6</th>\n",
       "      <td>55.762532</td>\n",
       "      <td>54.051906</td>\n",
       "      <td>56.933485</td>\n",
       "      <td>60.898392</td>\n",
       "    </tr>\n",
       "    <tr>\n",
       "      <th>model 7</th>\n",
       "      <td>55.751443</td>\n",
       "      <td>54.253258</td>\n",
       "      <td>57.050161</td>\n",
       "      <td>60.938518</td>\n",
       "    </tr>\n",
       "    <tr>\n",
       "      <th>model 8</th>\n",
       "      <td>55.706998</td>\n",
       "      <td>54.264497</td>\n",
       "      <td>56.976117</td>\n",
       "      <td>60.898790</td>\n",
       "    </tr>\n",
       "    <tr>\n",
       "      <th>model 9</th>\n",
       "      <td>55.695561</td>\n",
       "      <td>54.360200</td>\n",
       "      <td>57.010760</td>\n",
       "      <td>60.961192</td>\n",
       "    </tr>\n",
       "    <tr>\n",
       "      <th>model 10</th>\n",
       "      <td>55.679928</td>\n",
       "      <td>54.363193</td>\n",
       "      <td>57.034493</td>\n",
       "      <td>60.975046</td>\n",
       "    </tr>\n",
       "  </tbody>\n",
       "</table>\n",
       "</div>"
      ],
      "text/plain": [
       "          train error  val error  test error  kfold score error (k = 5)\n",
       "model 1     59.645863  57.421585   59.813799                  64.767246\n",
       "model 2     57.876116  56.132604   59.131776                  63.093808\n",
       "model 3     56.695581  54.436173   58.557913                  62.043160\n",
       "model 4     56.398719  53.510591   57.354621                  61.469964\n",
       "model 5     55.994300  54.021738   57.153112                  61.054320\n",
       "model 6     55.762532  54.051906   56.933485                  60.898392\n",
       "model 7     55.751443  54.253258   57.050161                  60.938518\n",
       "model 8     55.706998  54.264497   56.976117                  60.898790\n",
       "model 9     55.695561  54.360200   57.010760                  60.961192\n",
       "model 10    55.679928  54.363193   57.034493                  60.975046"
      ]
     },
     "execution_count": 47,
     "metadata": {},
     "output_type": "execute_result"
    }
   ],
   "source": [
    "test_size = 0.2\n",
    "val_size = 0.2\n",
    "random_state = 0\n",
    "\n",
    "newest_rf_researcher = RF_Researcher(X, y, test_size, val_size, random_state)\n",
    "\n",
    "n_models = 10\n",
    "n_estimators_list = [2**n for n in range(1, n_models + 1)]\n",
    "max_depth_list = [6 for i in range(0, n_models)]\n",
    "k = 5\n",
    "\n",
    "newest_rf_report = newest_rf_researcher.get_n_models_research_report_df(n_models, n_estimators_list, max_depth_list, k)\n",
    "\n",
    "newest_rf_report"
   ]
  },
  {
   "cell_type": "markdown",
   "id": "73860ca3",
   "metadata": {},
   "source": [
    "Não conseguimos uma melhoria no score do Kfold! Na verdade, conseguimos um resultado pior no modelo 8. O melhor modelo, nesse caso, seria o 6, que ainda é pior!\n",
    "\n",
    "Assim, na prática, a adição dessa nova feature **piora** o modelo! Iremos comparar esse resultado aos anteriores. Uma hipótese para isso acontecer é que a quadratura do dia da semana não realça nenhuma relação com o target. Isto é, elevar o dia da semana ao quadrado não adiciona nenhuma relação que seja benéfica ao aprendizado do modelo, já que as não-linearidades já são representadas pela complexidade do modelo."
   ]
  },
  {
   "cell_type": "code",
   "execution_count": 55,
   "id": "7bad5a5d",
   "metadata": {},
   "outputs": [],
   "source": [
    "newest_best_rf_index = 'model 6'\n",
    "newest_best_rf_df = pd.DataFrame(newest_rf_report.loc[newest_best_rf_index])\n",
    "newest_best_rf_df = newest_best_rf_df.rename(columns = {newest_best_rf_index: 'Newest Best Random Forest Model'})"
   ]
  },
  {
   "cell_type": "markdown",
   "id": "cf77f794",
   "metadata": {},
   "source": [
    "Finalmente, comparando todos os modelos:"
   ]
  },
  {
   "cell_type": "code",
   "execution_count": 56,
   "id": "a4b3ba78",
   "metadata": {},
   "outputs": [],
   "source": [
    "newest_comparison_rf_df = pd.concat([comparison_rf_df, newest_best_rf_df], axis = 1)"
   ]
  },
  {
   "cell_type": "code",
   "execution_count": 57,
   "id": "1abb3b53",
   "metadata": {
    "scrolled": true
   },
   "outputs": [
    {
     "data": {
      "text/html": [
       "<div>\n",
       "<style scoped>\n",
       "    .dataframe tbody tr th:only-of-type {\n",
       "        vertical-align: middle;\n",
       "    }\n",
       "\n",
       "    .dataframe tbody tr th {\n",
       "        vertical-align: top;\n",
       "    }\n",
       "\n",
       "    .dataframe thead th {\n",
       "        text-align: right;\n",
       "    }\n",
       "</style>\n",
       "<table border=\"1\" class=\"dataframe\">\n",
       "  <thead>\n",
       "    <tr style=\"text-align: right;\">\n",
       "      <th></th>\n",
       "      <th>Best Random Forest Model</th>\n",
       "      <th>New Best Random Forest Model</th>\n",
       "      <th>Newest Best Random Forest Model</th>\n",
       "    </tr>\n",
       "  </thead>\n",
       "  <tbody>\n",
       "    <tr>\n",
       "      <th>train error</th>\n",
       "      <td>57.807114</td>\n",
       "      <td>55.708304</td>\n",
       "      <td>55.762532</td>\n",
       "    </tr>\n",
       "    <tr>\n",
       "      <th>val error</th>\n",
       "      <td>54.914508</td>\n",
       "      <td>54.252624</td>\n",
       "      <td>54.051906</td>\n",
       "    </tr>\n",
       "    <tr>\n",
       "      <th>test error</th>\n",
       "      <td>57.875818</td>\n",
       "      <td>56.959651</td>\n",
       "      <td>56.933485</td>\n",
       "    </tr>\n",
       "    <tr>\n",
       "      <th>kfold score error (k = 5)</th>\n",
       "      <td>61.737190</td>\n",
       "      <td>60.895800</td>\n",
       "      <td>60.898392</td>\n",
       "    </tr>\n",
       "  </tbody>\n",
       "</table>\n",
       "</div>"
      ],
      "text/plain": [
       "                           Best Random Forest Model  \\\n",
       "train error                               57.807114   \n",
       "val error                                 54.914508   \n",
       "test error                                57.875818   \n",
       "kfold score error (k = 5)                 61.737190   \n",
       "\n",
       "                           New Best Random Forest Model  \\\n",
       "train error                                   55.708304   \n",
       "val error                                     54.252624   \n",
       "test error                                    56.959651   \n",
       "kfold score error (k = 5)                     60.895800   \n",
       "\n",
       "                           Newest Best Random Forest Model  \n",
       "train error                                      55.762532  \n",
       "val error                                        54.051906  \n",
       "test error                                       56.933485  \n",
       "kfold score error (k = 5)                        60.898392  "
      ]
     },
     "execution_count": 57,
     "metadata": {},
     "output_type": "execute_result"
    }
   ],
   "source": [
    "newest_comparison_rf_df"
   ]
  },
  {
   "cell_type": "markdown",
   "id": "5ffacffd",
   "metadata": {},
   "source": [
    "Se fossemos ficar com um modelo, ficariamos com o **New Best Random Forest Model**, ou seja, o modelo após a adição da feature de dias da semana mas antes da adição da diferenciação maior entre dia da semana e fim de semana (quadratura da feature 'Dia da Semana')."
   ]
  },
  {
   "cell_type": "markdown",
   "id": "65dc0310",
   "metadata": {},
   "source": [
    "# Visualização Gráfica do Melhor Modelo"
   ]
  },
  {
   "cell_type": "code",
   "execution_count": 51,
   "id": "066b4eca",
   "metadata": {},
   "outputs": [
    {
     "data": {
      "image/png": "[encoded data removed]",
      "text/plain": [
       "<Figure size 640x480 with 1 Axes>"
      ]
     },
     "metadata": {},
     "output_type": "display_data"
    }
   ],
   "source": [
    "new_rf_researcher.get_model_train_scatterplot(8, n_estimators_list, max_depth_list,\n",
    "                                        title = 'Predições versus Label - Melhor Random Forest Final')"
   ]
  },
  {
   "cell_type": "markdown",
   "id": "549758b9",
   "metadata": {},
   "source": [
    "# Conclusão"
   ]
  },
  {
   "cell_type": "markdown",
   "id": "3aac182f",
   "metadata": {},
   "source": [
    "Assim, finalizamos a parte extra de adição de novas features com **melhorias** no score error na validação cruzada (Kfold) após a adição da **primeira feature nova** e **piora** após a adição da **segunda**!\n",
    "\n",
    "Esse resultado mostra que a adição de novas features nem sempre causa melhorias na predição do modelo. Assim, devemos ter cuidado e analisar as relações entre a feature e o target uma a uma antes de adicioná-las ao modelo."
   ]
  },
  {
   "cell_type": "markdown",
   "id": "384c0f56",
   "metadata": {},
   "source": [
    "---"
   ]
  }
 ],
 "metadata": {
  "kernelspec": {
   "display_name": "Python 3 (ipykernel)",
   "language": "python",
   "name": "python3"
  },
  "language_info": {
   "codemirror_mode": {
    "name": "ipython",
    "version": 3
   },
   "file_extension": ".py",
   "mimetype": "text/x-python",
   "name": "python",
   "nbconvert_exporter": "python",
   "pygments_lexer": "ipython3",
   "version": "3.11.1"
  }
 },
 "nbformat": 4,
 "nbformat_minor": 5
}
