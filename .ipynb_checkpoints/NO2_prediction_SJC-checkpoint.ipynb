{
 "cells": [
  {
   "cell_type": "markdown",
   "id": "c9cc238d",
   "metadata": {},
   "source": [
    "# Predição da Concentração de NO2 no Ar de São José dos Campos (SP)"
   ]
  },
  {
   "cell_type": "markdown",
   "id": "7a84401e",
   "metadata": {},
   "source": [
    "Utilizaremos modelos de regressão no contexto de Machine Learning para prever a concentração de NO2 em São José dos Campos (SP) com base no horário e na concentração de NO medida na mesma hora. Imaginemos, por exemplo, que a medição de NO ocorra logo que comece a hora. Então, a predição de NO2 poderia ser feita pelo modelo logo após a captação do valor de NO por aparelhos medidores. \n",
    "\n",
    "Uma situação mais prática seria, por exemplo, se considerássemos a concentração de NO aproximadamente constante entre horas subsequentes e a utilizássemos para prever a concentração de NO2 na hora seguinte.\n",
    "\n",
    "O objetivo final é determinar alguma relação entre os poluentes NO e NO2 que possa ser descrita por um modelo de aprendizado de máquina de forma eficiente."
   ]
  },
  {
   "cell_type": "markdown",
   "id": "79d59746",
   "metadata": {},
   "source": [
    "## Importando Bibliotecas"
   ]
  },
  {
   "cell_type": "code",
   "execution_count": 726,
   "id": "9ec38c06",
   "metadata": {},
   "outputs": [],
   "source": [
    "import pandas as pd\n",
    "import numpy as np\n",
    "import matplotlib.pyplot as plt"
   ]
  },
  {
   "cell_type": "markdown",
   "id": "3480c77e",
   "metadata": {},
   "source": [
    "---"
   ]
  },
  {
   "cell_type": "markdown",
   "id": "3de69b42",
   "metadata": {},
   "source": [
    "## Importando os Dados"
   ]
  },
  {
   "cell_type": "code",
   "execution_count": 727,
   "id": "6c369a81",
   "metadata": {},
   "outputs": [],
   "source": [
    "data = pd.read_csv('data/SP_poluicao_dados.csv')"
   ]
  },
  {
   "cell_type": "code",
   "execution_count": 728,
   "id": "b053323d",
   "metadata": {},
   "outputs": [],
   "source": [
    "data = data.drop(columns = ['Unnamed: 0'])"
   ]
  },
  {
   "cell_type": "code",
   "execution_count": 729,
   "id": "71e06e3b",
   "metadata": {
    "scrolled": true
   },
   "outputs": [
    {
     "data": {
      "text/html": [
       "<div>\n",
       "<style scoped>\n",
       "    .dataframe tbody tr th:only-of-type {\n",
       "        vertical-align: middle;\n",
       "    }\n",
       "\n",
       "    .dataframe tbody tr th {\n",
       "        vertical-align: top;\n",
       "    }\n",
       "\n",
       "    .dataframe thead th {\n",
       "        text-align: right;\n",
       "    }\n",
       "</style>\n",
       "<table border=\"1\" class=\"dataframe\">\n",
       "  <thead>\n",
       "    <tr style=\"text-align: right;\">\n",
       "      <th></th>\n",
       "      <th>ID</th>\n",
       "      <th>Data</th>\n",
       "      <th>Hora</th>\n",
       "      <th>Estacao</th>\n",
       "      <th>Codigo</th>\n",
       "      <th>Poluente</th>\n",
       "      <th>Valor</th>\n",
       "      <th>Unidade</th>\n",
       "      <th>Tipo</th>\n",
       "    </tr>\n",
       "  </thead>\n",
       "  <tbody>\n",
       "    <tr>\n",
       "      <th>0</th>\n",
       "      <td>0</td>\n",
       "      <td>2015-01-01</td>\n",
       "      <td>01:00</td>\n",
       "      <td>Americana - Vila Santa Maria</td>\n",
       "      <td>SP01</td>\n",
       "      <td>MP10</td>\n",
       "      <td>65.0</td>\n",
       "      <td>ug/m3</td>\n",
       "      <td>automatica</td>\n",
       "    </tr>\n",
       "    <tr>\n",
       "      <th>1</th>\n",
       "      <td>1</td>\n",
       "      <td>2015-01-01</td>\n",
       "      <td>02:00</td>\n",
       "      <td>Americana - Vila Santa Maria</td>\n",
       "      <td>SP01</td>\n",
       "      <td>MP10</td>\n",
       "      <td>98.0</td>\n",
       "      <td>ug/m3</td>\n",
       "      <td>automatica</td>\n",
       "    </tr>\n",
       "    <tr>\n",
       "      <th>2</th>\n",
       "      <td>2</td>\n",
       "      <td>2015-01-01</td>\n",
       "      <td>03:00</td>\n",
       "      <td>Americana - Vila Santa Maria</td>\n",
       "      <td>SP01</td>\n",
       "      <td>MP10</td>\n",
       "      <td>79.0</td>\n",
       "      <td>ug/m3</td>\n",
       "      <td>automatica</td>\n",
       "    </tr>\n",
       "    <tr>\n",
       "      <th>3</th>\n",
       "      <td>3</td>\n",
       "      <td>2015-01-01</td>\n",
       "      <td>04:00</td>\n",
       "      <td>Americana - Vila Santa Maria</td>\n",
       "      <td>SP01</td>\n",
       "      <td>MP10</td>\n",
       "      <td>53.0</td>\n",
       "      <td>ug/m3</td>\n",
       "      <td>automatica</td>\n",
       "    </tr>\n",
       "    <tr>\n",
       "      <th>4</th>\n",
       "      <td>4</td>\n",
       "      <td>2015-01-01</td>\n",
       "      <td>05:00</td>\n",
       "      <td>Americana - Vila Santa Maria</td>\n",
       "      <td>SP01</td>\n",
       "      <td>MP10</td>\n",
       "      <td>35.0</td>\n",
       "      <td>ug/m3</td>\n",
       "      <td>automatica</td>\n",
       "    </tr>\n",
       "  </tbody>\n",
       "</table>\n",
       "</div>"
      ],
      "text/plain": [
       "   ID        Data   Hora                       Estacao Codigo Poluente  Valor  \\\n",
       "0   0  2015-01-01  01:00  Americana - Vila Santa Maria   SP01     MP10   65.0   \n",
       "1   1  2015-01-01  02:00  Americana - Vila Santa Maria   SP01     MP10   98.0   \n",
       "2   2  2015-01-01  03:00  Americana - Vila Santa Maria   SP01     MP10   79.0   \n",
       "3   3  2015-01-01  04:00  Americana - Vila Santa Maria   SP01     MP10   53.0   \n",
       "4   4  2015-01-01  05:00  Americana - Vila Santa Maria   SP01     MP10   35.0   \n",
       "\n",
       "  Unidade        Tipo  \n",
       "0   ug/m3  automatica  \n",
       "1   ug/m3  automatica  \n",
       "2   ug/m3  automatica  \n",
       "3   ug/m3  automatica  \n",
       "4   ug/m3  automatica  "
      ]
     },
     "execution_count": 729,
     "metadata": {},
     "output_type": "execute_result"
    }
   ],
   "source": [
    "data.head()"
   ]
  },
  {
   "cell_type": "markdown",
   "id": "93043deb",
   "metadata": {},
   "source": [
    "---"
   ]
  },
  {
   "cell_type": "markdown",
   "id": "a61ae1d2",
   "metadata": {},
   "source": [
    "## Filtrando os dados que vamos usar"
   ]
  },
  {
   "cell_type": "code",
   "execution_count": 730,
   "id": "ca454326",
   "metadata": {},
   "outputs": [],
   "source": [
    "data = data[data['Estacao'] == 'São José dos Campos']\n",
    "data = data[(data['Poluente'] == 'NO2') | (data['Poluente'] == 'NO')]\n",
    "data = data.reset_index(drop = True)\n",
    "data['ID'] = data.index"
   ]
  },
  {
   "cell_type": "markdown",
   "id": "70d2aea7",
   "metadata": {},
   "source": [
    "### Separando os dados por poluente"
   ]
  },
  {
   "cell_type": "code",
   "execution_count": 731,
   "id": "623453af",
   "metadata": {},
   "outputs": [],
   "source": [
    "data_NO2 = data[data['Poluente'] == 'NO2'].copy()\n",
    "data_NO = data[data['Poluente'] == 'NO'].copy()"
   ]
  },
  {
   "cell_type": "markdown",
   "id": "841ce465",
   "metadata": {},
   "source": [
    "### Criando nova key para realizar inner join"
   ]
  },
  {
   "cell_type": "code",
   "execution_count": 732,
   "id": "9db520ad",
   "metadata": {},
   "outputs": [],
   "source": [
    "data_NO2['Data_Hora'] = data_NO2['Data'] + ' ' + data_NO2['Hora']\n",
    "data_NO['Data_Hora'] = data_NO['Data'] + ' ' + data_NO['Hora']"
   ]
  },
  {
   "cell_type": "code",
   "execution_count": 733,
   "id": "04b002d4",
   "metadata": {},
   "outputs": [],
   "source": [
    "joint_data = pd.merge(data_NO, data_NO2, on = ['Data_Hora', 'Data_Hora'], how = 'inner')"
   ]
  },
  {
   "cell_type": "markdown",
   "id": "9ad53973",
   "metadata": {},
   "source": [
    "### Agora nosso dataframe 'data' será aquele que utilizaremos"
   ]
  },
  {
   "cell_type": "code",
   "execution_count": 734,
   "id": "cfccbbbe",
   "metadata": {},
   "outputs": [
    {
     "data": {
      "text/html": [
       "<div>\n",
       "<style scoped>\n",
       "    .dataframe tbody tr th:only-of-type {\n",
       "        vertical-align: middle;\n",
       "    }\n",
       "\n",
       "    .dataframe tbody tr th {\n",
       "        vertical-align: top;\n",
       "    }\n",
       "\n",
       "    .dataframe thead th {\n",
       "        text-align: right;\n",
       "    }\n",
       "</style>\n",
       "<table border=\"1\" class=\"dataframe\">\n",
       "  <thead>\n",
       "    <tr style=\"text-align: right;\">\n",
       "      <th></th>\n",
       "      <th>ID_x</th>\n",
       "      <th>Data_x</th>\n",
       "      <th>Hora_x</th>\n",
       "      <th>Estacao_x</th>\n",
       "      <th>Codigo_x</th>\n",
       "      <th>Poluente_x</th>\n",
       "      <th>Valor_x</th>\n",
       "      <th>Unidade_x</th>\n",
       "      <th>Tipo_x</th>\n",
       "      <th>Data_Hora</th>\n",
       "      <th>ID_y</th>\n",
       "      <th>Data_y</th>\n",
       "      <th>Hora_y</th>\n",
       "      <th>Estacao_y</th>\n",
       "      <th>Codigo_y</th>\n",
       "      <th>Poluente_y</th>\n",
       "      <th>Valor_y</th>\n",
       "      <th>Unidade_y</th>\n",
       "      <th>Tipo_y</th>\n",
       "    </tr>\n",
       "  </thead>\n",
       "  <tbody>\n",
       "    <tr>\n",
       "      <th>0</th>\n",
       "      <td>13867</td>\n",
       "      <td>2017-01-01</td>\n",
       "      <td>02:00</td>\n",
       "      <td>São José dos Campos</td>\n",
       "      <td>SP70</td>\n",
       "      <td>NO</td>\n",
       "      <td>2.0</td>\n",
       "      <td>ug/m3</td>\n",
       "      <td>automatica</td>\n",
       "      <td>2017-01-01 02:00</td>\n",
       "      <td>22008</td>\n",
       "      <td>2017-01-01</td>\n",
       "      <td>02:00</td>\n",
       "      <td>São José dos Campos</td>\n",
       "      <td>SP70</td>\n",
       "      <td>NO2</td>\n",
       "      <td>18.0</td>\n",
       "      <td>ug/m3</td>\n",
       "      <td>automatica</td>\n",
       "    </tr>\n",
       "    <tr>\n",
       "      <th>1</th>\n",
       "      <td>13868</td>\n",
       "      <td>2017-01-01</td>\n",
       "      <td>03:00</td>\n",
       "      <td>São José dos Campos</td>\n",
       "      <td>SP70</td>\n",
       "      <td>NO</td>\n",
       "      <td>2.0</td>\n",
       "      <td>ug/m3</td>\n",
       "      <td>automatica</td>\n",
       "      <td>2017-01-01 03:00</td>\n",
       "      <td>22009</td>\n",
       "      <td>2017-01-01</td>\n",
       "      <td>03:00</td>\n",
       "      <td>São José dos Campos</td>\n",
       "      <td>SP70</td>\n",
       "      <td>NO2</td>\n",
       "      <td>15.0</td>\n",
       "      <td>ug/m3</td>\n",
       "      <td>automatica</td>\n",
       "    </tr>\n",
       "  </tbody>\n",
       "</table>\n",
       "</div>"
      ],
      "text/plain": [
       "    ID_x      Data_x Hora_x            Estacao_x Codigo_x Poluente_x  Valor_x  \\\n",
       "0  13867  2017-01-01  02:00  São José dos Campos     SP70         NO      2.0   \n",
       "1  13868  2017-01-01  03:00  São José dos Campos     SP70         NO      2.0   \n",
       "\n",
       "  Unidade_x      Tipo_x         Data_Hora   ID_y      Data_y Hora_y  \\\n",
       "0     ug/m3  automatica  2017-01-01 02:00  22008  2017-01-01  02:00   \n",
       "1     ug/m3  automatica  2017-01-01 03:00  22009  2017-01-01  03:00   \n",
       "\n",
       "             Estacao_y Codigo_y Poluente_y  Valor_y Unidade_y      Tipo_y  \n",
       "0  São José dos Campos     SP70        NO2     18.0     ug/m3  automatica  \n",
       "1  São José dos Campos     SP70        NO2     15.0     ug/m3  automatica  "
      ]
     },
     "execution_count": 734,
     "metadata": {},
     "output_type": "execute_result"
    }
   ],
   "source": [
    "joint_data.head(2)"
   ]
  },
  {
   "cell_type": "code",
   "execution_count": 735,
   "id": "2a3f3718",
   "metadata": {},
   "outputs": [],
   "source": [
    "data = joint_data[['Data_x', 'Hora_x', 'Valor_x', 'Valor_y', 'Unidade_x']]\n",
    "data = data.rename(columns = {'Data_x': 'Data',\n",
    "                              'Hora_x': 'Hora',\n",
    "                              'Valor_x': 'Concentração_NO',\n",
    "                              'Valor_y': 'Concentração_NO2',\n",
    "                              'Unidade_x': 'Unidade'})"
   ]
  },
  {
   "cell_type": "markdown",
   "id": "58881c33",
   "metadata": {},
   "source": [
    "### Transformando a coluna 'Hora' em dados numéricos"
   ]
  },
  {
   "cell_type": "code",
   "execution_count": 736,
   "id": "189e17eb",
   "metadata": {},
   "outputs": [],
   "source": [
    "def hour_to_num(hour):\n",
    "    hour_split = hour.split(':')\n",
    "    return float(hour_split[0]) + float(hour_split[1])/60\n",
    "\n",
    "data['Hora'] = data['Hora'].apply(hour_to_num)"
   ]
  },
  {
   "cell_type": "code",
   "execution_count": 737,
   "id": "dfa39dcc",
   "metadata": {},
   "outputs": [
    {
     "data": {
      "text/html": [
       "<div>\n",
       "<style scoped>\n",
       "    .dataframe tbody tr th:only-of-type {\n",
       "        vertical-align: middle;\n",
       "    }\n",
       "\n",
       "    .dataframe tbody tr th {\n",
       "        vertical-align: top;\n",
       "    }\n",
       "\n",
       "    .dataframe thead th {\n",
       "        text-align: right;\n",
       "    }\n",
       "</style>\n",
       "<table border=\"1\" class=\"dataframe\">\n",
       "  <thead>\n",
       "    <tr style=\"text-align: right;\">\n",
       "      <th></th>\n",
       "      <th>Data</th>\n",
       "      <th>Hora</th>\n",
       "      <th>Concentração_NO</th>\n",
       "      <th>Concentração_NO2</th>\n",
       "      <th>Unidade</th>\n",
       "    </tr>\n",
       "  </thead>\n",
       "  <tbody>\n",
       "    <tr>\n",
       "      <th>0</th>\n",
       "      <td>2017-01-01</td>\n",
       "      <td>2.0</td>\n",
       "      <td>2.0</td>\n",
       "      <td>18.0</td>\n",
       "      <td>ug/m3</td>\n",
       "    </tr>\n",
       "    <tr>\n",
       "      <th>1</th>\n",
       "      <td>2017-01-01</td>\n",
       "      <td>3.0</td>\n",
       "      <td>2.0</td>\n",
       "      <td>15.0</td>\n",
       "      <td>ug/m3</td>\n",
       "    </tr>\n",
       "    <tr>\n",
       "      <th>2</th>\n",
       "      <td>2017-01-01</td>\n",
       "      <td>4.0</td>\n",
       "      <td>1.0</td>\n",
       "      <td>7.0</td>\n",
       "      <td>ug/m3</td>\n",
       "    </tr>\n",
       "    <tr>\n",
       "      <th>3</th>\n",
       "      <td>2017-01-01</td>\n",
       "      <td>5.0</td>\n",
       "      <td>1.0</td>\n",
       "      <td>6.0</td>\n",
       "      <td>ug/m3</td>\n",
       "    </tr>\n",
       "    <tr>\n",
       "      <th>4</th>\n",
       "      <td>2017-01-01</td>\n",
       "      <td>6.0</td>\n",
       "      <td>0.0</td>\n",
       "      <td>6.0</td>\n",
       "      <td>ug/m3</td>\n",
       "    </tr>\n",
       "  </tbody>\n",
       "</table>\n",
       "</div>"
      ],
      "text/plain": [
       "         Data  Hora  Concentração_NO  Concentração_NO2 Unidade\n",
       "0  2017-01-01   2.0              2.0              18.0   ug/m3\n",
       "1  2017-01-01   3.0              2.0              15.0   ug/m3\n",
       "2  2017-01-01   4.0              1.0               7.0   ug/m3\n",
       "3  2017-01-01   5.0              1.0               6.0   ug/m3\n",
       "4  2017-01-01   6.0              0.0               6.0   ug/m3"
      ]
     },
     "execution_count": 737,
     "metadata": {},
     "output_type": "execute_result"
    }
   ],
   "source": [
    "data.head()"
   ]
  },
  {
   "cell_type": "markdown",
   "id": "fe4f278e",
   "metadata": {},
   "source": [
    "Agora temos os dados prontos para iniciarmos algumas análises e depois montar um modelo de Machine Learning que prevê a concentração de NO2 com base na concentração de NO em São José dos Campos e no horário da medição."
   ]
  },
  {
   "cell_type": "markdown",
   "id": "ff7689e7",
   "metadata": {},
   "source": [
    "---"
   ]
  },
  {
   "cell_type": "markdown",
   "id": "d7257fa4",
   "metadata": {},
   "source": [
    "## Análises"
   ]
  },
  {
   "cell_type": "markdown",
   "id": "86be3c36",
   "metadata": {},
   "source": [
    "### Correlações"
   ]
  },
  {
   "cell_type": "code",
   "execution_count": 738,
   "id": "3a77f973",
   "metadata": {},
   "outputs": [
    {
     "data": {
      "text/html": [
       "<div>\n",
       "<style scoped>\n",
       "    .dataframe tbody tr th:only-of-type {\n",
       "        vertical-align: middle;\n",
       "    }\n",
       "\n",
       "    .dataframe tbody tr th {\n",
       "        vertical-align: top;\n",
       "    }\n",
       "\n",
       "    .dataframe thead th {\n",
       "        text-align: right;\n",
       "    }\n",
       "</style>\n",
       "<table border=\"1\" class=\"dataframe\">\n",
       "  <thead>\n",
       "    <tr style=\"text-align: right;\">\n",
       "      <th></th>\n",
       "      <th>Hora</th>\n",
       "      <th>Concentração_NO</th>\n",
       "      <th>Concentração_NO2</th>\n",
       "    </tr>\n",
       "  </thead>\n",
       "  <tbody>\n",
       "    <tr>\n",
       "      <th>Hora</th>\n",
       "      <td>1.00000</td>\n",
       "      <td>-0.025800</td>\n",
       "      <td>0.233920</td>\n",
       "    </tr>\n",
       "    <tr>\n",
       "      <th>Concentração_NO</th>\n",
       "      <td>-0.02580</td>\n",
       "      <td>1.000000</td>\n",
       "      <td>0.499585</td>\n",
       "    </tr>\n",
       "    <tr>\n",
       "      <th>Concentração_NO2</th>\n",
       "      <td>0.23392</td>\n",
       "      <td>0.499585</td>\n",
       "      <td>1.000000</td>\n",
       "    </tr>\n",
       "  </tbody>\n",
       "</table>\n",
       "</div>"
      ],
      "text/plain": [
       "                     Hora  Concentração_NO  Concentração_NO2\n",
       "Hora              1.00000        -0.025800          0.233920\n",
       "Concentração_NO  -0.02580         1.000000          0.499585\n",
       "Concentração_NO2  0.23392         0.499585          1.000000"
      ]
     },
     "execution_count": 738,
     "metadata": {},
     "output_type": "execute_result"
    }
   ],
   "source": [
    "data.corr(numeric_only = True)"
   ]
  },
  {
   "cell_type": "markdown",
   "id": "d11c9760",
   "metadata": {},
   "source": [
    "Verificamos correlações positivas entre o target (Concentração_NO2) e as features (Hora e Concentração_NO)."
   ]
  },
  {
   "cell_type": "markdown",
   "id": "2a4aa5fe",
   "metadata": {},
   "source": [
    "### Scatterplot da concentração de NO2 pela concentração de NO"
   ]
  },
  {
   "cell_type": "code",
   "execution_count": 739,
   "id": "c02ab759",
   "metadata": {},
   "outputs": [
    {
     "data": {
      "text/plain": [
       "Text(0.5, 0, 'Concentração de NO (mug/m^3)')"
      ]
     },
     "execution_count": 739,
     "metadata": {},
     "output_type": "execute_result"
    },
    {
     "data": {
      "image/png": "[encoded data removed]",
      "text/plain": [
       "<Figure size 640x480 with 1 Axes>"
      ]
     },
     "metadata": {},
     "output_type": "display_data"
    }
   ],
   "source": [
    "_ = plt.scatter(x = data['Concentração_NO'], y = data['Concentração_NO2'])\n",
    "plt.title('Concentração de NO2 por Concentração de NO')\n",
    "plt.ylabel('Concentração de NO2 (mug/m^3)')\n",
    "plt.xlabel('Concentração de NO (mug/m^3)')"
   ]
  },
  {
   "cell_type": "markdown",
   "id": "6f81b209",
   "metadata": {},
   "source": [
    "Vamos eliminar outliers para facilitar o aprendizado do modelo, considerando como outliers aqueles valores de NO > 200 e NO2 > 100:"
   ]
  },
  {
   "cell_type": "code",
   "execution_count": 740,
   "id": "2a86a255",
   "metadata": {},
   "outputs": [],
   "source": [
    "data.drop(data[data['Concentração_NO'] > 200].index, inplace = True)\n",
    "data.drop(data[data['Concentração_NO2'] > 100].index, inplace = True)"
   ]
  },
  {
   "cell_type": "code",
   "execution_count": 741,
   "id": "263ba724",
   "metadata": {
    "scrolled": true
   },
   "outputs": [
    {
     "data": {
      "text/plain": [
       "Text(0.5, 0, 'Concentração de NO (mug/m^3)')"
      ]
     },
     "execution_count": 741,
     "metadata": {},
     "output_type": "execute_result"
    },
    {
     "data": {
      "image/png": "[encoded data removed]",
      "text/plain": [
       "<Figure size 640x480 with 1 Axes>"
      ]
     },
     "metadata": {},
     "output_type": "display_data"
    }
   ],
   "source": [
    "_ = plt.scatter(x = data['Concentração_NO'], y = data['Concentração_NO2'])\n",
    "plt.title('Concentração de NO2 por Concentração de NO')\n",
    "plt.ylabel('Concentração de NO2 (mug/m^3)')\n",
    "plt.xlabel('Concentração de NO (mug/m^3)')"
   ]
  },
  {
   "cell_type": "markdown",
   "id": "8b66757f",
   "metadata": {},
   "source": [
    "### Scatterplot da concentração de NO2 pela hora"
   ]
  },
  {
   "cell_type": "code",
   "execution_count": 742,
   "id": "83a497b1",
   "metadata": {},
   "outputs": [
    {
     "data": {
      "text/plain": [
       "Text(0.5, 0, 'Hora')"
      ]
     },
     "execution_count": 742,
     "metadata": {},
     "output_type": "execute_result"
    },
    {
     "data": {
      "image/png": "[encoded data removed]",
      "text/plain": [
       "<Figure size 640x480 with 1 Axes>"
      ]
     },
     "metadata": {},
     "output_type": "display_data"
    }
   ],
   "source": [
    "_ = plt.scatter(data['Hora'], data['Concentração_NO2'])\n",
    "plt.title('Concentração de NO2 por Hora')\n",
    "plt.ylabel('Concentração de NO2 (mug/m^3)')\n",
    "plt.xlabel('Hora')"
   ]
  },
  {
   "cell_type": "markdown",
   "id": "eb5c0c9b",
   "metadata": {},
   "source": [
    "---"
   ]
  },
  {
   "cell_type": "markdown",
   "id": "7a7fd38b",
   "metadata": {},
   "source": [
    "## Seleção de Modelos"
   ]
  },
  {
   "cell_type": "markdown",
   "id": "9e8d41a7",
   "metadata": {},
   "source": [
    "Verificamos que as relações entre as variáveis estão longe de serem lineares. Assim, iremos utilizar modelos de maior complexidade para que consigam se adaptar à relação entre target e features. Testaremos os seguintes:\n",
    "\n",
    "- Random Forest\n",
    "- XGBoost (Extreme Gradient Boost)"
   ]
  },
  {
   "cell_type": "markdown",
   "id": "bd653e8d",
   "metadata": {},
   "source": [
    "---"
   ]
  },
  {
   "cell_type": "markdown",
   "id": "c16d6d09",
   "metadata": {},
   "source": [
    "# 1) Random Forest"
   ]
  },
  {
   "cell_type": "markdown",
   "id": "3cdf626f",
   "metadata": {},
   "source": [
    "## Preparação dos dados"
   ]
  },
  {
   "cell_type": "markdown",
   "id": "081f3a02",
   "metadata": {},
   "source": [
    "### Separando em features e label\n",
    "\n",
    "- X: features\n",
    "- y: label"
   ]
  },
  {
   "cell_type": "code",
   "execution_count": 743,
   "id": "ca2a9b09",
   "metadata": {},
   "outputs": [],
   "source": [
    "features = ['Hora', 'Concentração_NO']\n",
    "X = data[features]\n",
    "y = data['Concentração_NO2']"
   ]
  },
  {
   "cell_type": "code",
   "execution_count": 744,
   "id": "af0220ea",
   "metadata": {},
   "outputs": [
    {
     "data": {
      "text/html": [
       "<div>\n",
       "<style scoped>\n",
       "    .dataframe tbody tr th:only-of-type {\n",
       "        vertical-align: middle;\n",
       "    }\n",
       "\n",
       "    .dataframe tbody tr th {\n",
       "        vertical-align: top;\n",
       "    }\n",
       "\n",
       "    .dataframe thead th {\n",
       "        text-align: right;\n",
       "    }\n",
       "</style>\n",
       "<table border=\"1\" class=\"dataframe\">\n",
       "  <thead>\n",
       "    <tr style=\"text-align: right;\">\n",
       "      <th></th>\n",
       "      <th>Hora</th>\n",
       "      <th>Concentração_NO</th>\n",
       "    </tr>\n",
       "  </thead>\n",
       "  <tbody>\n",
       "    <tr>\n",
       "      <th>0</th>\n",
       "      <td>2.0</td>\n",
       "      <td>2.0</td>\n",
       "    </tr>\n",
       "    <tr>\n",
       "      <th>1</th>\n",
       "      <td>3.0</td>\n",
       "      <td>2.0</td>\n",
       "    </tr>\n",
       "    <tr>\n",
       "      <th>2</th>\n",
       "      <td>4.0</td>\n",
       "      <td>1.0</td>\n",
       "    </tr>\n",
       "    <tr>\n",
       "      <th>3</th>\n",
       "      <td>5.0</td>\n",
       "      <td>1.0</td>\n",
       "    </tr>\n",
       "    <tr>\n",
       "      <th>4</th>\n",
       "      <td>6.0</td>\n",
       "      <td>0.0</td>\n",
       "    </tr>\n",
       "  </tbody>\n",
       "</table>\n",
       "</div>"
      ],
      "text/plain": [
       "   Hora  Concentração_NO\n",
       "0   2.0              2.0\n",
       "1   3.0              2.0\n",
       "2   4.0              1.0\n",
       "3   5.0              1.0\n",
       "4   6.0              0.0"
      ]
     },
     "execution_count": 744,
     "metadata": {},
     "output_type": "execute_result"
    }
   ],
   "source": [
    "X.head()"
   ]
  },
  {
   "cell_type": "code",
   "execution_count": 745,
   "id": "f34b4e2a",
   "metadata": {},
   "outputs": [
    {
     "data": {
      "text/plain": [
       "0    18.0\n",
       "1    15.0\n",
       "2     7.0\n",
       "3     6.0\n",
       "4     6.0\n",
       "Name: Concentração_NO2, dtype: float64"
      ]
     },
     "execution_count": 745,
     "metadata": {},
     "output_type": "execute_result"
    }
   ],
   "source": [
    "y.head()"
   ]
  },
  {
   "cell_type": "markdown",
   "id": "9e75ea2c",
   "metadata": {},
   "source": [
    "### Pipeline de Pré-processamento, Split em treino, teste e validação, e Cross-validation via KFold"
   ]
  },
  {
   "cell_type": "markdown",
   "id": "54987a7c",
   "metadata": {},
   "source": [
    "Realizaremos as seguintes etapas de pré-processamento nas colunas (todas numéricas):\n",
    "- Scaling no intervalo [0,1]\n",
    "- Imputing da moda (most_frequent)\n",
    "\n",
    "O imputing não seria necessário nesse caso porque já verificamos na EDA que não há valores faltantes no conjunto de dados. No entanto, vamos fazê-lo de forma a considerar essa situação."
   ]
  },
  {
   "cell_type": "markdown",
   "id": "d3c23b7e",
   "metadata": {},
   "source": [
    "### Criando a pipeline de pré-processamento"
   ]
  },
  {
   "cell_type": "code",
   "execution_count": 746,
   "id": "0a7c2f61",
   "metadata": {
    "scrolled": true
   },
   "outputs": [],
   "source": [
    "from sklearn.ensemble import RandomForestRegressor\n",
    "from sklearn.pipeline import Pipeline\n",
    "from sklearn.impute import SimpleImputer\n",
    "from sklearn.preprocessing import MinMaxScaler\n",
    "from sklearn.model_selection import train_test_split\n",
    "from sklearn.model_selection import cross_val_score\n",
    "from sklearn.metrics import mean_squared_error\n",
    "from xgboost import XGBRegressor"
   ]
  },
  {
   "cell_type": "markdown",
   "id": "58fab0d5",
   "metadata": {},
   "source": [
    "Há duas formas de fazermos isso:\n",
    "\n",
    "- Utilizando a classe Pipeline do Sklearn e realizando o fit nos dados de treino. Nesse caso, porém, não é possível realizar o pré-processamento das labels.\n",
    "\n",
    "- Criando uma função para realizar a pipeline em cada uma das features e na label de forma separada."
   ]
  },
  {
   "cell_type": "markdown",
   "id": "899ff99b",
   "metadata": {},
   "source": [
    "A 1a opção teria o seguinte código:"
   ]
  },
  {
   "cell_type": "code",
   "execution_count": 747,
   "id": "84db25c2",
   "metadata": {},
   "outputs": [],
   "source": [
    "# preprocessor = Pipeline(steps = [\n",
    "#     ('imputer', SimpleImputer(strategy = 'most_frequent')),\n",
    "#      ('scaler', MinMaxScaler(feature_range = (0, 1)))\n",
    "# ])\n",
    "\n",
    "# model1 = RandomForestRegressor(random_state = 0, n_estimators = 20, max_depth = 5)\n",
    "\n",
    "# model1_pipeline = Pipeline(steps = [('preprocessor', preprocessor),\n",
    "#                                 ('model1', model1)])"
   ]
  },
  {
   "cell_type": "markdown",
   "id": "9337394f",
   "metadata": {},
   "source": [
    "Para manter a simplicidade do código, vamos criar uma função auxiliar para fazer a 1a opção e gerar um novo modelo variando n_estimators e max_depth:"
   ]
  },
  {
   "cell_type": "code",
   "execution_count": 748,
   "id": "452a71be",
   "metadata": {},
   "outputs": [],
   "source": [
    "def preprocess_random_forest(n_estimators, max_depth):\n",
    "    preprocessor = Pipeline(steps = [\n",
    "        ('imputer', SimpleImputer(strategy = 'most_frequent')),\n",
    "        ('scaler', MinMaxScaler(feature_range = (0, 1)))\n",
    "    ])\n",
    "    \n",
    "    model = RandomForestRegressor(random_state = 0, n_estimators = n_estimators, max_depth = max_depth)\n",
    "    \n",
    "    model_pipeline = Pipeline(steps = [('preprocessor', preprocessor),\n",
    "                                      ('model', model)])\n",
    "    \n",
    "    return model_pipeline"
   ]
  },
  {
   "cell_type": "markdown",
   "id": "d18e7bc4",
   "metadata": {},
   "source": [
    "### Validando através de um split em treino, teste e validação"
   ]
  },
  {
   "cell_type": "markdown",
   "id": "cd453d3f",
   "metadata": {},
   "source": [
    "Porcentagens do dataset utilizadas:\n",
    "- Treino: 60%\n",
    "- Teste: 20%\n",
    "- Validação: 20%"
   ]
  },
  {
   "cell_type": "markdown",
   "id": "f94c14f6",
   "metadata": {},
   "source": [
    "### Split em treino, teste e validação"
   ]
  },
  {
   "cell_type": "code",
   "execution_count": 749,
   "id": "07fea657",
   "metadata": {},
   "outputs": [],
   "source": [
    "X_train, X_test, y_train, y_test = train_test_split(X, y, test_size = 0.2, random_state = 0)"
   ]
  },
  {
   "cell_type": "code",
   "execution_count": 750,
   "id": "f76e04a7",
   "metadata": {},
   "outputs": [],
   "source": [
    "X_train, X_val, y_train, y_val = train_test_split(X_train, y_train, test_size = 0.2, random_state = 0)"
   ]
  },
  {
   "cell_type": "markdown",
   "id": "0df8f641",
   "metadata": {},
   "source": [
    "### Treinando 10 modelos diferentes de Random Forest variando n_estimators\n",
    "\n",
    "Obs: Manteremos max_depth = 5 para evitar overfitting."
   ]
  },
  {
   "cell_type": "code",
   "execution_count": 751,
   "id": "ea5f3040",
   "metadata": {},
   "outputs": [],
   "source": [
    "n_estimators_list = [2**n for n in range(1, 11)]\n",
    "max_depth_list = [5 for i in range(0, 10)]\n",
    "random_forest_models = []\n",
    "\n",
    "for i in range(0, 10):\n",
    "    new_model = preprocess_random_forest(n_estimators = n_estimators_list[i], max_depth = max_depth_list[i])\n",
    "    new_model.fit(X_train, y_train)\n",
    "    random_forest_models.append(new_model)"
   ]
  },
  {
   "cell_type": "markdown",
   "id": "bbb74b68",
   "metadata": {},
   "source": [
    "### Validando os 10 modelos"
   ]
  },
  {
   "cell_type": "code",
   "execution_count": 752,
   "id": "98f03f0e",
   "metadata": {},
   "outputs": [],
   "source": [
    "def get_train_test_val_predictions(model, X_train, X_test, X_val):\n",
    "    preds_train = model.predict(X_train)\n",
    "    preds_test = model.predict(X_test)\n",
    "    preds_val = model.predict(X_val)\n",
    "    \n",
    "    predictions = {'train': preds_train, 'test': preds_test, 'val': preds_val}\n",
    "    \n",
    "    return predictions"
   ]
  },
  {
   "cell_type": "code",
   "execution_count": 753,
   "id": "70cb7e2e",
   "metadata": {},
   "outputs": [],
   "source": [
    "def get_train_test_val_errors(model, X_train, y_train, X_test, y_test, X_val, y_val):\n",
    "    predictions = get_train_test_val_predictions(model, X_train, X_test, X_val)\n",
    "    train_error = mean_squared_error(y_train, predictions['train'])\n",
    "    test_error = mean_squared_error(y_test, predictions['test'])\n",
    "    val_error = mean_squared_error(y_val, predictions['val'])\n",
    "    \n",
    "    errors = {'train error': train_error, 'test error': test_error, 'val error': val_error}\n",
    "    \n",
    "    return errors"
   ]
  },
  {
   "cell_type": "code",
   "execution_count": 754,
   "id": "46de4f70",
   "metadata": {},
   "outputs": [],
   "source": [
    "def get_model_errors_dataframe(models_list, X_train, y_train, X_test, y_test, X_val, y_val):\n",
    "    model = models_list[0]\n",
    "    errors = get_train_test_val_errors(model, X_train, y_train,\n",
    "                                       X_test, y_test,\n",
    "                                       X_val, y_val)\n",
    "    \n",
    "    df_errors = pd.DataFrame(data = errors, index = ['model 1'])\n",
    "    \n",
    "    num_models = len(models_list)\n",
    "    for i in range(1, num_models):\n",
    "        model = models_list[i]\n",
    "        errors = get_train_test_val_errors(model, X_train, y_train,\n",
    "                                       X_test, y_test,\n",
    "                                       X_val, y_val)\n",
    "        df = pd.DataFrame(data = errors, index = [f'model {i + 1}'])\n",
    "        df_errors = pd.concat([df_errors, df])\n",
    "    \n",
    "    return df_errors"
   ]
  },
  {
   "cell_type": "code",
   "execution_count": 755,
   "id": "33ca9b25",
   "metadata": {},
   "outputs": [],
   "source": [
    "df_errors_random_forest = get_model_errors_dataframe(random_forest_models, X_train, y_train, \n",
    "                                                     X_test, y_test, X_val, y_val)"
   ]
  },
  {
   "cell_type": "code",
   "execution_count": 756,
   "id": "3aa62238",
   "metadata": {
    "scrolled": true
   },
   "outputs": [
    {
     "data": {
      "text/html": [
       "<div>\n",
       "<style scoped>\n",
       "    .dataframe tbody tr th:only-of-type {\n",
       "        vertical-align: middle;\n",
       "    }\n",
       "\n",
       "    .dataframe tbody tr th {\n",
       "        vertical-align: top;\n",
       "    }\n",
       "\n",
       "    .dataframe thead th {\n",
       "        text-align: right;\n",
       "    }\n",
       "</style>\n",
       "<table border=\"1\" class=\"dataframe\">\n",
       "  <thead>\n",
       "    <tr style=\"text-align: right;\">\n",
       "      <th></th>\n",
       "      <th>train error</th>\n",
       "      <th>test error</th>\n",
       "      <th>val error</th>\n",
       "    </tr>\n",
       "  </thead>\n",
       "  <tbody>\n",
       "    <tr>\n",
       "      <th>model 1</th>\n",
       "      <td>60.497392</td>\n",
       "      <td>61.101896</td>\n",
       "      <td>62.108431</td>\n",
       "    </tr>\n",
       "    <tr>\n",
       "      <th>model 2</th>\n",
       "      <td>59.668048</td>\n",
       "      <td>60.105578</td>\n",
       "      <td>60.439729</td>\n",
       "    </tr>\n",
       "    <tr>\n",
       "      <th>model 3</th>\n",
       "      <td>59.385134</td>\n",
       "      <td>60.218833</td>\n",
       "      <td>60.082713</td>\n",
       "    </tr>\n",
       "    <tr>\n",
       "      <th>model 4</th>\n",
       "      <td>58.833673</td>\n",
       "      <td>59.036599</td>\n",
       "      <td>59.105095</td>\n",
       "    </tr>\n",
       "    <tr>\n",
       "      <th>model 5</th>\n",
       "      <td>58.503980</td>\n",
       "      <td>58.532491</td>\n",
       "      <td>58.635961</td>\n",
       "    </tr>\n",
       "    <tr>\n",
       "      <th>model 6</th>\n",
       "      <td>58.397900</td>\n",
       "      <td>58.740221</td>\n",
       "      <td>58.644129</td>\n",
       "    </tr>\n",
       "    <tr>\n",
       "      <th>model 7</th>\n",
       "      <td>58.277936</td>\n",
       "      <td>58.774801</td>\n",
       "      <td>58.624549</td>\n",
       "    </tr>\n",
       "    <tr>\n",
       "      <th>model 8</th>\n",
       "      <td>58.266782</td>\n",
       "      <td>58.645649</td>\n",
       "      <td>58.695343</td>\n",
       "    </tr>\n",
       "    <tr>\n",
       "      <th>model 9</th>\n",
       "      <td>58.288462</td>\n",
       "      <td>58.688061</td>\n",
       "      <td>58.764871</td>\n",
       "    </tr>\n",
       "    <tr>\n",
       "      <th>model 10</th>\n",
       "      <td>58.252663</td>\n",
       "      <td>58.703744</td>\n",
       "      <td>58.717231</td>\n",
       "    </tr>\n",
       "  </tbody>\n",
       "</table>\n",
       "</div>"
      ],
      "text/plain": [
       "          train error  test error  val error\n",
       "model 1     60.497392   61.101896  62.108431\n",
       "model 2     59.668048   60.105578  60.439729\n",
       "model 3     59.385134   60.218833  60.082713\n",
       "model 4     58.833673   59.036599  59.105095\n",
       "model 5     58.503980   58.532491  58.635961\n",
       "model 6     58.397900   58.740221  58.644129\n",
       "model 7     58.277936   58.774801  58.624549\n",
       "model 8     58.266782   58.645649  58.695343\n",
       "model 9     58.288462   58.688061  58.764871\n",
       "model 10    58.252663   58.703744  58.717231"
      ]
     },
     "execution_count": 756,
     "metadata": {},
     "output_type": "execute_result"
    }
   ],
   "source": [
    "df_errors_random_forest"
   ]
  },
  {
   "cell_type": "markdown",
   "id": "42321432",
   "metadata": {},
   "source": [
    "### Validando através de Cross-validation de 5 folds"
   ]
  },
  {
   "cell_type": "code",
   "execution_count": 757,
   "id": "d463969c",
   "metadata": {},
   "outputs": [],
   "source": [
    "def get_kfold_mean_score(model, X, y):\n",
    "    kfold_scores = -1 * cross_val_score(model, X, y, cv = 5, scoring = 'neg_mean_squared_error')\n",
    "    return kfold_scores.mean()"
   ]
  },
  {
   "cell_type": "code",
   "execution_count": 758,
   "id": "f401a36a",
   "metadata": {},
   "outputs": [],
   "source": [
    "def get_kfold_mean_score_dataframe(models_list, X, y):\n",
    "    model = models_list[0]\n",
    "    indexes = np.array(X.index)\n",
    "    rand = np.random.RandomState(0)\n",
    "    rand.shuffle(indexes)\n",
    "    X_shuffled = X.loc[indexes]\n",
    "    y_shuffled = y.loc[indexes]\n",
    "    \n",
    "    kfold_score = get_kfold_mean_score(model, X_shuffled, y_shuffled)\n",
    "    \n",
    "    df_scores = pd.DataFrame(data = {'kfold score error (k = 5)': kfold_score}\n",
    "                             , index = ['model 1'])\n",
    "    \n",
    "    num_models = len(models_list)\n",
    "    for i in range(1, num_models):\n",
    "        model = models_list[i]\n",
    "        kfold_score = get_kfold_mean_score(model, X_shuffled, y_shuffled)\n",
    "        df = pd.DataFrame(data = {'kfold score error (k = 5)': kfold_score}\n",
    "                         , index = [f'model {i + 1}'])\n",
    "        df_scores = pd.concat([df_scores, df])\n",
    "    \n",
    "    return df_scores"
   ]
  },
  {
   "cell_type": "markdown",
   "id": "ef886a7c",
   "metadata": {},
   "source": [
    "### Obtendo os modelos novamente (não treinados)"
   ]
  },
  {
   "cell_type": "code",
   "execution_count": 759,
   "id": "aab4037b",
   "metadata": {},
   "outputs": [],
   "source": [
    "random_forest_models = []\n",
    "\n",
    "for i in range(0, 10):\n",
    "    new_model = preprocess_random_forest(n_estimators = n_estimators_list[i], max_depth = max_depth_list[i])\n",
    "    random_forest_models.append(new_model)"
   ]
  },
  {
   "cell_type": "code",
   "execution_count": 760,
   "id": "ee1d1d14",
   "metadata": {},
   "outputs": [],
   "source": [
    "df_scores_random_forest = get_kfold_mean_score_dataframe(random_forest_models, X, y)"
   ]
  },
  {
   "cell_type": "code",
   "execution_count": 761,
   "id": "ba80b758",
   "metadata": {},
   "outputs": [
    {
     "data": {
      "text/html": [
       "<div>\n",
       "<style scoped>\n",
       "    .dataframe tbody tr th:only-of-type {\n",
       "        vertical-align: middle;\n",
       "    }\n",
       "\n",
       "    .dataframe tbody tr th {\n",
       "        vertical-align: top;\n",
       "    }\n",
       "\n",
       "    .dataframe thead th {\n",
       "        text-align: right;\n",
       "    }\n",
       "</style>\n",
       "<table border=\"1\" class=\"dataframe\">\n",
       "  <thead>\n",
       "    <tr style=\"text-align: right;\">\n",
       "      <th></th>\n",
       "      <th>kfold score error (k = 5)</th>\n",
       "    </tr>\n",
       "  </thead>\n",
       "  <tbody>\n",
       "    <tr>\n",
       "      <th>model 1</th>\n",
       "      <td>62.813809</td>\n",
       "    </tr>\n",
       "    <tr>\n",
       "      <th>model 2</th>\n",
       "      <td>61.522075</td>\n",
       "    </tr>\n",
       "    <tr>\n",
       "      <th>model 3</th>\n",
       "      <td>60.929949</td>\n",
       "    </tr>\n",
       "    <tr>\n",
       "      <th>model 4</th>\n",
       "      <td>60.551257</td>\n",
       "    </tr>\n",
       "    <tr>\n",
       "      <th>model 5</th>\n",
       "      <td>60.617992</td>\n",
       "    </tr>\n",
       "    <tr>\n",
       "      <th>model 6</th>\n",
       "      <td>60.537737</td>\n",
       "    </tr>\n",
       "    <tr>\n",
       "      <th>model 7</th>\n",
       "      <td>60.467610</td>\n",
       "    </tr>\n",
       "    <tr>\n",
       "      <th>model 8</th>\n",
       "      <td>60.430248</td>\n",
       "    </tr>\n",
       "    <tr>\n",
       "      <th>model 9</th>\n",
       "      <td>60.380058</td>\n",
       "    </tr>\n",
       "    <tr>\n",
       "      <th>model 10</th>\n",
       "      <td>60.390211</td>\n",
       "    </tr>\n",
       "  </tbody>\n",
       "</table>\n",
       "</div>"
      ],
      "text/plain": [
       "          kfold score error (k = 5)\n",
       "model 1                   62.813809\n",
       "model 2                   61.522075\n",
       "model 3                   60.929949\n",
       "model 4                   60.551257\n",
       "model 5                   60.617992\n",
       "model 6                   60.537737\n",
       "model 7                   60.467610\n",
       "model 8                   60.430248\n",
       "model 9                   60.380058\n",
       "model 10                  60.390211"
      ]
     },
     "execution_count": 761,
     "metadata": {},
     "output_type": "execute_result"
    }
   ],
   "source": [
    "df_scores_random_forest"
   ]
  },
  {
   "cell_type": "markdown",
   "id": "cdef9dae",
   "metadata": {},
   "source": [
    "### Visualização final dos dois métodos de validação para a Random Forest"
   ]
  },
  {
   "cell_type": "code",
   "execution_count": 762,
   "id": "e36d84ed",
   "metadata": {},
   "outputs": [],
   "source": [
    "df_random_forest = pd.concat([df_errors_random_forest, df_scores_random_forest], axis = 1)"
   ]
  },
  {
   "cell_type": "code",
   "execution_count": 763,
   "id": "202ee2c7",
   "metadata": {
    "scrolled": true
   },
   "outputs": [
    {
     "data": {
      "text/html": [
       "<div>\n",
       "<style scoped>\n",
       "    .dataframe tbody tr th:only-of-type {\n",
       "        vertical-align: middle;\n",
       "    }\n",
       "\n",
       "    .dataframe tbody tr th {\n",
       "        vertical-align: top;\n",
       "    }\n",
       "\n",
       "    .dataframe thead th {\n",
       "        text-align: right;\n",
       "    }\n",
       "</style>\n",
       "<table border=\"1\" class=\"dataframe\">\n",
       "  <thead>\n",
       "    <tr style=\"text-align: right;\">\n",
       "      <th></th>\n",
       "      <th>train error</th>\n",
       "      <th>test error</th>\n",
       "      <th>val error</th>\n",
       "      <th>kfold score error (k = 5)</th>\n",
       "    </tr>\n",
       "  </thead>\n",
       "  <tbody>\n",
       "    <tr>\n",
       "      <th>model 1</th>\n",
       "      <td>60.497392</td>\n",
       "      <td>61.101896</td>\n",
       "      <td>62.108431</td>\n",
       "      <td>62.813809</td>\n",
       "    </tr>\n",
       "    <tr>\n",
       "      <th>model 2</th>\n",
       "      <td>59.668048</td>\n",
       "      <td>60.105578</td>\n",
       "      <td>60.439729</td>\n",
       "      <td>61.522075</td>\n",
       "    </tr>\n",
       "    <tr>\n",
       "      <th>model 3</th>\n",
       "      <td>59.385134</td>\n",
       "      <td>60.218833</td>\n",
       "      <td>60.082713</td>\n",
       "      <td>60.929949</td>\n",
       "    </tr>\n",
       "    <tr>\n",
       "      <th>model 4</th>\n",
       "      <td>58.833673</td>\n",
       "      <td>59.036599</td>\n",
       "      <td>59.105095</td>\n",
       "      <td>60.551257</td>\n",
       "    </tr>\n",
       "    <tr>\n",
       "      <th>model 5</th>\n",
       "      <td>58.503980</td>\n",
       "      <td>58.532491</td>\n",
       "      <td>58.635961</td>\n",
       "      <td>60.617992</td>\n",
       "    </tr>\n",
       "    <tr>\n",
       "      <th>model 6</th>\n",
       "      <td>58.397900</td>\n",
       "      <td>58.740221</td>\n",
       "      <td>58.644129</td>\n",
       "      <td>60.537737</td>\n",
       "    </tr>\n",
       "    <tr>\n",
       "      <th>model 7</th>\n",
       "      <td>58.277936</td>\n",
       "      <td>58.774801</td>\n",
       "      <td>58.624549</td>\n",
       "      <td>60.467610</td>\n",
       "    </tr>\n",
       "    <tr>\n",
       "      <th>model 8</th>\n",
       "      <td>58.266782</td>\n",
       "      <td>58.645649</td>\n",
       "      <td>58.695343</td>\n",
       "      <td>60.430248</td>\n",
       "    </tr>\n",
       "    <tr>\n",
       "      <th>model 9</th>\n",
       "      <td>58.288462</td>\n",
       "      <td>58.688061</td>\n",
       "      <td>58.764871</td>\n",
       "      <td>60.380058</td>\n",
       "    </tr>\n",
       "    <tr>\n",
       "      <th>model 10</th>\n",
       "      <td>58.252663</td>\n",
       "      <td>58.703744</td>\n",
       "      <td>58.717231</td>\n",
       "      <td>60.390211</td>\n",
       "    </tr>\n",
       "  </tbody>\n",
       "</table>\n",
       "</div>"
      ],
      "text/plain": [
       "          train error  test error  val error  kfold score error (k = 5)\n",
       "model 1     60.497392   61.101896  62.108431                  62.813809\n",
       "model 2     59.668048   60.105578  60.439729                  61.522075\n",
       "model 3     59.385134   60.218833  60.082713                  60.929949\n",
       "model 4     58.833673   59.036599  59.105095                  60.551257\n",
       "model 5     58.503980   58.532491  58.635961                  60.617992\n",
       "model 6     58.397900   58.740221  58.644129                  60.537737\n",
       "model 7     58.277936   58.774801  58.624549                  60.467610\n",
       "model 8     58.266782   58.645649  58.695343                  60.430248\n",
       "model 9     58.288462   58.688061  58.764871                  60.380058\n",
       "model 10    58.252663   58.703744  58.717231                  60.390211"
      ]
     },
     "execution_count": 763,
     "metadata": {},
     "output_type": "execute_result"
    }
   ],
   "source": [
    "df_random_forest"
   ]
  },
  {
   "cell_type": "markdown",
   "id": "595fcdc4",
   "metadata": {},
   "source": [
    "Aparentemente, o modelo 9 foi o que performou melhor. Ainda, não apresentou sinais de overfitting."
   ]
  },
  {
   "cell_type": "markdown",
   "id": "d711309b",
   "metadata": {},
   "source": [
    "---"
   ]
  },
  {
   "cell_type": "markdown",
   "id": "1586a3e4",
   "metadata": {},
   "source": [
    "# 2) XGBoost"
   ]
  },
  {
   "cell_type": "code",
   "execution_count": 764,
   "id": "39058e0c",
   "metadata": {},
   "outputs": [],
   "source": [
    "def preprocess_xgboost(n_estimators, max_depth, learning_rate):\n",
    "    preprocessor = Pipeline(steps = [\n",
    "        ('imputer', SimpleImputer(strategy = 'most_frequent')),\n",
    "        ('scaler', MinMaxScaler(feature_range = (0, 1)))\n",
    "    ])\n",
    "    \n",
    "    model = XGBRegressor(random_state = 0, n_estimators = n_estimators,\n",
    "                        max_depth = max_depth, learning_rate = learning_rate)\n",
    "    \n",
    "    model_pipeline = Pipeline(steps = [('preprocessor', preprocessor),\n",
    "                                      ('model', model)])\n",
    "    \n",
    "    return model_pipeline"
   ]
  },
  {
   "cell_type": "markdown",
   "id": "b80c8b64",
   "metadata": {},
   "source": [
    "### Treinando 10 modelos diferentes de XGBoost variando n_estimators\n",
    "\n",
    "Obs: Manteremos max_depth = 5 e learning_rate = 0.1 para evitar overfitting."
   ]
  },
  {
   "cell_type": "code",
   "execution_count": 765,
   "id": "bd107d15",
   "metadata": {},
   "outputs": [],
   "source": [
    "n_estimators_list = [2**n for n in range(1, 11)]\n",
    "max_depth_list = [5 for i in range(0, 10)]\n",
    "learning_rate_list = [0.1 for i in range(0, 10)]\n",
    "xgboost_models = []\n",
    "\n",
    "for i in range(0, 10):\n",
    "    new_model = preprocess_xgboost(learning_rate = learning_rate_list[i],\n",
    "                                   n_estimators = n_estimators_list[i], max_depth = max_depth_list[i])\n",
    "    new_model.fit(X_train, y_train)\n",
    "    xgboost_models.append(new_model)"
   ]
  },
  {
   "cell_type": "code",
   "execution_count": 766,
   "id": "a2cd3b23",
   "metadata": {},
   "outputs": [],
   "source": [
    "df_errors_xgboost = get_model_errors_dataframe(xgboost_models, X_train, y_train, \n",
    "                           X_test, y_test, X_val, y_val)"
   ]
  },
  {
   "cell_type": "markdown",
   "id": "eb863ebf",
   "metadata": {},
   "source": [
    "### Obtendo os modelos novamente (não treinados)"
   ]
  },
  {
   "cell_type": "code",
   "execution_count": 767,
   "id": "9b3bbb7d",
   "metadata": {},
   "outputs": [],
   "source": [
    "xgboost_models = []\n",
    "\n",
    "for i in range(0, 10):\n",
    "    new_model = preprocess_xgboost(learning_rate = learning_rate_list[i],\n",
    "                                   n_estimators = n_estimators_list[i], max_depth = max_depth_list[i])\n",
    "    xgboost_models.append(new_model)"
   ]
  },
  {
   "cell_type": "code",
   "execution_count": 768,
   "id": "3ab6cb22",
   "metadata": {},
   "outputs": [],
   "source": [
    "df_scores_xgboost = get_kfold_mean_score_dataframe(xgboost_models, X, y)"
   ]
  },
  {
   "cell_type": "code",
   "execution_count": 769,
   "id": "6605e8df",
   "metadata": {},
   "outputs": [],
   "source": [
    "df_xgboost = pd.concat([df_errors_xgboost, df_scores_xgboost], axis = 1)"
   ]
  },
  {
   "cell_type": "code",
   "execution_count": 770,
   "id": "8ace9737",
   "metadata": {
    "scrolled": true
   },
   "outputs": [
    {
     "data": {
      "text/html": [
       "<div>\n",
       "<style scoped>\n",
       "    .dataframe tbody tr th:only-of-type {\n",
       "        vertical-align: middle;\n",
       "    }\n",
       "\n",
       "    .dataframe tbody tr th {\n",
       "        vertical-align: top;\n",
       "    }\n",
       "\n",
       "    .dataframe thead th {\n",
       "        text-align: right;\n",
       "    }\n",
       "</style>\n",
       "<table border=\"1\" class=\"dataframe\">\n",
       "  <thead>\n",
       "    <tr style=\"text-align: right;\">\n",
       "      <th></th>\n",
       "      <th>train error</th>\n",
       "      <th>test error</th>\n",
       "      <th>val error</th>\n",
       "      <th>kfold score error (k = 5)</th>\n",
       "    </tr>\n",
       "  </thead>\n",
       "  <tbody>\n",
       "    <tr>\n",
       "      <th>model 1</th>\n",
       "      <td>387.168715</td>\n",
       "      <td>383.899507</td>\n",
       "      <td>374.168633</td>\n",
       "      <td>385.073891</td>\n",
       "    </tr>\n",
       "    <tr>\n",
       "      <th>model 2</th>\n",
       "      <td>275.600977</td>\n",
       "      <td>273.726409</td>\n",
       "      <td>264.491867</td>\n",
       "      <td>274.445921</td>\n",
       "    </tr>\n",
       "    <tr>\n",
       "      <th>model 3</th>\n",
       "      <td>153.039098</td>\n",
       "      <td>152.395509</td>\n",
       "      <td>145.508022</td>\n",
       "      <td>153.424047</td>\n",
       "    </tr>\n",
       "    <tr>\n",
       "      <th>model 4</th>\n",
       "      <td>75.287588</td>\n",
       "      <td>75.741677</td>\n",
       "      <td>72.629319</td>\n",
       "      <td>77.200524</td>\n",
       "    </tr>\n",
       "    <tr>\n",
       "      <th>model 5</th>\n",
       "      <td>55.811922</td>\n",
       "      <td>57.819604</td>\n",
       "      <td>57.830209</td>\n",
       "      <td>60.013887</td>\n",
       "    </tr>\n",
       "    <tr>\n",
       "      <th>model 6</th>\n",
       "      <td>53.338564</td>\n",
       "      <td>57.507082</td>\n",
       "      <td>58.772497</td>\n",
       "      <td>59.967779</td>\n",
       "    </tr>\n",
       "    <tr>\n",
       "      <th>model 7</th>\n",
       "      <td>51.219604</td>\n",
       "      <td>58.259148</td>\n",
       "      <td>60.610156</td>\n",
       "      <td>60.921008</td>\n",
       "    </tr>\n",
       "    <tr>\n",
       "      <th>model 8</th>\n",
       "      <td>48.581608</td>\n",
       "      <td>59.925754</td>\n",
       "      <td>63.916627</td>\n",
       "      <td>62.501530</td>\n",
       "    </tr>\n",
       "    <tr>\n",
       "      <th>model 9</th>\n",
       "      <td>46.489151</td>\n",
       "      <td>62.452083</td>\n",
       "      <td>67.192480</td>\n",
       "      <td>65.460837</td>\n",
       "    </tr>\n",
       "    <tr>\n",
       "      <th>model 10</th>\n",
       "      <td>45.205777</td>\n",
       "      <td>65.742665</td>\n",
       "      <td>71.134354</td>\n",
       "      <td>68.704604</td>\n",
       "    </tr>\n",
       "  </tbody>\n",
       "</table>\n",
       "</div>"
      ],
      "text/plain": [
       "          train error  test error   val error  kfold score error (k = 5)\n",
       "model 1    387.168715  383.899507  374.168633                 385.073891\n",
       "model 2    275.600977  273.726409  264.491867                 274.445921\n",
       "model 3    153.039098  152.395509  145.508022                 153.424047\n",
       "model 4     75.287588   75.741677   72.629319                  77.200524\n",
       "model 5     55.811922   57.819604   57.830209                  60.013887\n",
       "model 6     53.338564   57.507082   58.772497                  59.967779\n",
       "model 7     51.219604   58.259148   60.610156                  60.921008\n",
       "model 8     48.581608   59.925754   63.916627                  62.501530\n",
       "model 9     46.489151   62.452083   67.192480                  65.460837\n",
       "model 10    45.205777   65.742665   71.134354                  68.704604"
      ]
     },
     "execution_count": 770,
     "metadata": {},
     "output_type": "execute_result"
    }
   ],
   "source": [
    "df_xgboost"
   ]
  },
  {
   "cell_type": "markdown",
   "id": "e1caf3f6",
   "metadata": {},
   "source": [
    "É notável que o modelo 6 foi aquele que melhor performou."
   ]
  },
  {
   "cell_type": "markdown",
   "id": "8d168868",
   "metadata": {},
   "source": [
    "---"
   ]
  },
  {
   "cell_type": "markdown",
   "id": "e6cdefbc",
   "metadata": {},
   "source": [
    "## Vamos comparar agora ambos os melhores modelos"
   ]
  },
  {
   "cell_type": "code",
   "execution_count": 771,
   "id": "4ca8efc1",
   "metadata": {
    "scrolled": true
   },
   "outputs": [],
   "source": [
    "best_rf_index = 'model 9'\n",
    "best_rf_df = pd.DataFrame(df_random_forest.loc[best_rf_index])\n",
    "best_rf_df = best_rf_df.rename(columns = {best_rf_index: 'Best Random Forest Model'})"
   ]
  },
  {
   "cell_type": "code",
   "execution_count": 772,
   "id": "d3469373",
   "metadata": {},
   "outputs": [],
   "source": [
    "best_xgb_index = 'model 6'\n",
    "best_xgb_df = pd.DataFrame(df_xgboost.loc[best_xgb_index])\n",
    "best_xgb_df = best_xgb_df.rename(columns = {best_xgb_index: 'Best XGBoost Model'})"
   ]
  },
  {
   "cell_type": "code",
   "execution_count": 773,
   "id": "7157af7c",
   "metadata": {},
   "outputs": [],
   "source": [
    "comparison_df = pd.concat([best_rf_df, best_xgb_df], axis = 1)"
   ]
  },
  {
   "cell_type": "code",
   "execution_count": 774,
   "id": "b60671b6",
   "metadata": {
    "scrolled": true
   },
   "outputs": [
    {
     "data": {
      "text/html": [
       "<div>\n",
       "<style scoped>\n",
       "    .dataframe tbody tr th:only-of-type {\n",
       "        vertical-align: middle;\n",
       "    }\n",
       "\n",
       "    .dataframe tbody tr th {\n",
       "        vertical-align: top;\n",
       "    }\n",
       "\n",
       "    .dataframe thead th {\n",
       "        text-align: right;\n",
       "    }\n",
       "</style>\n",
       "<table border=\"1\" class=\"dataframe\">\n",
       "  <thead>\n",
       "    <tr style=\"text-align: right;\">\n",
       "      <th></th>\n",
       "      <th>Best Random Forest Model</th>\n",
       "      <th>Best XGBoost Model</th>\n",
       "    </tr>\n",
       "  </thead>\n",
       "  <tbody>\n",
       "    <tr>\n",
       "      <th>train error</th>\n",
       "      <td>58.288462</td>\n",
       "      <td>53.338564</td>\n",
       "    </tr>\n",
       "    <tr>\n",
       "      <th>test error</th>\n",
       "      <td>58.688061</td>\n",
       "      <td>57.507082</td>\n",
       "    </tr>\n",
       "    <tr>\n",
       "      <th>val error</th>\n",
       "      <td>58.764871</td>\n",
       "      <td>58.772497</td>\n",
       "    </tr>\n",
       "    <tr>\n",
       "      <th>kfold score error (k = 5)</th>\n",
       "      <td>60.380058</td>\n",
       "      <td>59.967779</td>\n",
       "    </tr>\n",
       "  </tbody>\n",
       "</table>\n",
       "</div>"
      ],
      "text/plain": [
       "                           Best Random Forest Model  Best XGBoost Model\n",
       "train error                               58.288462           53.338564\n",
       "test error                                58.688061           57.507082\n",
       "val error                                 58.764871           58.772497\n",
       "kfold score error (k = 5)                 60.380058           59.967779"
      ]
     },
     "execution_count": 774,
     "metadata": {},
     "output_type": "execute_result"
    }
   ],
   "source": [
    "comparison_df"
   ]
  },
  {
   "cell_type": "markdown",
   "id": "a2adf2d7",
   "metadata": {},
   "source": [
    "# Conclusão das Comparações"
   ]
  },
  {
   "cell_type": "markdown",
   "id": "70e3fc99",
   "metadata": {},
   "source": [
    "Pelo método menos viesado (Kfold) conseguimos mostrar que o modelo de XGBoost é o melhor para realizar as predições que nos propusemos a fazer."
   ]
  },
  {
   "cell_type": "markdown",
   "id": "c87e4c48",
   "metadata": {},
   "source": [
    "Antes de terminarmos, faremos uma visualização gráfica dos resultados:"
   ]
  },
  {
   "cell_type": "markdown",
   "id": "eb7e2284",
   "metadata": {},
   "source": [
    "# Visualização Gráfica Final"
   ]
  },
  {
   "cell_type": "markdown",
   "id": "06d85150",
   "metadata": {},
   "source": [
    "Para tal, iremos realizar o fit nos dados de treino do split. Depois, iremos plotar as predições e as labels."
   ]
  },
  {
   "cell_type": "code",
   "execution_count": 775,
   "id": "e8d29726",
   "metadata": {},
   "outputs": [],
   "source": [
    "rf_model = random_forest_models[9]\n",
    "xgb_model = xgboost_models[5]\n",
    "\n",
    "_ = rf_model.fit(X_train, y_train)\n",
    "_ = xgb_model.fit(X_train, y_train)"
   ]
  },
  {
   "cell_type": "code",
   "execution_count": 776,
   "id": "9d90cdc1",
   "metadata": {},
   "outputs": [],
   "source": [
    "rf_pred = rf_model.predict(X_test)\n",
    "xgb_pred = xgb_model.predict(X_test)"
   ]
  },
  {
   "cell_type": "markdown",
   "id": "07497b2b",
   "metadata": {},
   "source": [
    "Nesse tipo de gráfico, quanto mais próximo o gráfico ficar da reta y = x, melhor."
   ]
  },
  {
   "cell_type": "code",
   "execution_count": 777,
   "id": "abf7f9a2",
   "metadata": {},
   "outputs": [
    {
     "data": {
      "text/plain": [
       "<matplotlib.legend.Legend at 0x27189e13350>"
      ]
     },
     "execution_count": 777,
     "metadata": {},
     "output_type": "execute_result"
    },
    {
     "data": {
      "image/png": "[encoded data removed]",
      "text/plain": [
       "<Figure size 640x480 with 1 Axes>"
      ]
     },
     "metadata": {},
     "output_type": "display_data"
    }
   ],
   "source": [
    "_ = plt.scatter(x = rf_pred, y = y_test)\n",
    "plt.title('Predições versus Label - Melhor Random Forest')\n",
    "plt.ylabel('Predição (estimativa do modelo)')\n",
    "plt.xlabel('Label (valor real)')\n",
    "\n",
    "# Plotando a reta y = x\n",
    "\n",
    "x = [0, 75]\n",
    "y = [0, 75]\n",
    "plt.plot(x,y, color = 'red')\n",
    "\n",
    "plt.legend(['Pontos', 'y = x'])"
   ]
  },
  {
   "cell_type": "code",
   "execution_count": 778,
   "id": "1867940c",
   "metadata": {},
   "outputs": [
    {
     "data": {
      "text/plain": [
       "<matplotlib.legend.Legend at 0x2712df5c410>"
      ]
     },
     "execution_count": 778,
     "metadata": {},
     "output_type": "execute_result"
    },
    {
     "data": {
      "image/png": "[encoded data removed]",
      "text/plain": [
       "<Figure size 640x480 with 1 Axes>"
      ]
     },
     "metadata": {},
     "output_type": "display_data"
    }
   ],
   "source": [
    "_ =  plt.scatter(x = xgb_pred, y = y_test)\n",
    "plt.title('Predições versus Label - Melhor XGBoost')\n",
    "plt.ylabel('Predição (estimativa do modelo)')\n",
    "plt.xlabel('Label (valor real)')\n",
    "\n",
    "# Plotando a reta y = x\n",
    "\n",
    "x_plot = [0, 75]\n",
    "y_plot = [0, 75]\n",
    "plt.plot(x,y, color = 'red')\n",
    "\n",
    "plt.legend(['Pontos', 'y = x'])"
   ]
  },
  {
   "cell_type": "markdown",
   "id": "3f720ed8",
   "metadata": {},
   "source": [
    "Aparentemente, o gráfico do XGBoost tem uma proximidade maior com os pontos da reta y = x, na média, do que o gráfico da Random Forest.\n",
    "\n",
    "É claro que o modelo é longe de ser bom para ser usado na prática. O ideal seria testar outras features (se existirem) e obter mais dados para treiná-lo. Além disso, poderia-se testar outros modelos de aprendizado de máquina para tentar obter melhores resultados."
   ]
  },
  {
   "cell_type": "markdown",
   "id": "0d833e31",
   "metadata": {},
   "source": [
    "# Extra - Adicionando novas features: dia da semana e feature cross"
   ]
  },
  {
   "cell_type": "markdown",
   "id": "797ecb29",
   "metadata": {},
   "source": [
    "## Dia da semana"
   ]
  },
  {
   "cell_type": "markdown",
   "id": "61be8a48",
   "metadata": {},
   "source": [
    "Vamos verificar se adicionando a feature do dia da semana nós conseguimos um melhor resultado com o modelo de XGBoost."
   ]
  },
  {
   "cell_type": "code",
   "execution_count": 779,
   "id": "1888d203",
   "metadata": {},
   "outputs": [],
   "source": [
    "from datetime import datetime"
   ]
  },
  {
   "cell_type": "code",
   "execution_count": 780,
   "id": "89c1caad",
   "metadata": {},
   "outputs": [],
   "source": [
    "new_data = data.copy()"
   ]
  },
  {
   "cell_type": "markdown",
   "id": "c8bd0134",
   "metadata": {},
   "source": [
    "### Adicionando nova feature"
   ]
  },
  {
   "cell_type": "code",
   "execution_count": 781,
   "id": "a0cd1022",
   "metadata": {
    "scrolled": true
   },
   "outputs": [],
   "source": [
    "new_data['Data'] = new_data['Data'].apply(lambda x: datetime.strptime(x, '%Y-%m-%d'))"
   ]
  },
  {
   "cell_type": "code",
   "execution_count": 782,
   "id": "c9d16763",
   "metadata": {},
   "outputs": [],
   "source": [
    "new_data['Dia da Semana'] = new_data['Data'].apply(lambda x: x.weekday())"
   ]
  },
  {
   "cell_type": "markdown",
   "id": "142bf9f7",
   "metadata": {},
   "source": [
    "### Relação da nova feature com o target: visualização gráfica"
   ]
  },
  {
   "cell_type": "code",
   "execution_count": 783,
   "id": "f080bd3d",
   "metadata": {},
   "outputs": [
    {
     "data": {
      "text/plain": [
       "Text(0.5, 0, 'Dia da Semana')"
      ]
     },
     "execution_count": 783,
     "metadata": {},
     "output_type": "execute_result"
    },
    {
     "data": {
      "image/png": "[encoded data removed]",
      "text/plain": [
       "<Figure size 640x480 with 1 Axes>"
      ]
     },
     "metadata": {},
     "output_type": "display_data"
    }
   ],
   "source": [
    "_ = plt.scatter(new_data['Dia da Semana'], new_data['Concentração_NO2'])\n",
    "plt.title('Concentração de NO2 por Dia da Semana')\n",
    "plt.ylabel('Concentração de NO2 (mug/m^3)')\n",
    "plt.xlabel('Dia da Semana')"
   ]
  },
  {
   "cell_type": "code",
   "execution_count": 784,
   "id": "1781e161",
   "metadata": {},
   "outputs": [],
   "source": [
    "new_features = features + ['Dia da Semana']\n",
    "X = new_data[new_features]\n",
    "y = new_data['Concentração_NO2']"
   ]
  },
  {
   "cell_type": "markdown",
   "id": "10208e04",
   "metadata": {},
   "source": [
    "### Split"
   ]
  },
  {
   "cell_type": "code",
   "execution_count": 785,
   "id": "fb139da2",
   "metadata": {},
   "outputs": [],
   "source": [
    "X_train, X_test, y_train, y_test = train_test_split(X, y, test_size = 0.2, random_state = 0)\n",
    "X_train, X_val, y_train, y_val = train_test_split(X_train, y_train, test_size = 0.2, random_state = 0)"
   ]
  },
  {
   "cell_type": "code",
   "execution_count": 786,
   "id": "bee7d243",
   "metadata": {},
   "outputs": [],
   "source": [
    "n_estimators_list = [2**n for n in range(1, 11)]\n",
    "max_depth_list = [5 for i in range(0, 10)]\n",
    "learning_rate_list = [0.1 for i in range(0, 10)]\n",
    "new_xgboost_models = []\n",
    "\n",
    "for i in range(0, 10):\n",
    "    new_model = preprocess_xgboost(learning_rate = learning_rate_list[i],\n",
    "                                   n_estimators = n_estimators_list[i], max_depth = max_depth_list[i])\n",
    "    new_model.fit(X_train, y_train)\n",
    "    new_xgboost_models.append(new_model)"
   ]
  },
  {
   "cell_type": "code",
   "execution_count": 787,
   "id": "14619528",
   "metadata": {},
   "outputs": [],
   "source": [
    "df_errors_xgboost = get_model_errors_dataframe(new_xgboost_models, X_train, y_train, \n",
    "                           X_test, y_test, X_val, y_val)"
   ]
  },
  {
   "cell_type": "markdown",
   "id": "571ec823",
   "metadata": {},
   "source": [
    "### Reiniciando os modelos"
   ]
  },
  {
   "cell_type": "code",
   "execution_count": 788,
   "id": "42ac9cc4",
   "metadata": {},
   "outputs": [],
   "source": [
    "new_xgboost_models = []\n",
    "\n",
    "for i in range(0, 10):\n",
    "    new_model = preprocess_xgboost(learning_rate = learning_rate_list[i],\n",
    "                                   n_estimators = n_estimators_list[i], max_depth = max_depth_list[i])\n",
    "    new_xgboost_models.append(new_model)"
   ]
  },
  {
   "cell_type": "markdown",
   "id": "6312a13e",
   "metadata": {},
   "source": [
    "### Kfold"
   ]
  },
  {
   "cell_type": "code",
   "execution_count": 789,
   "id": "2c0be91d",
   "metadata": {},
   "outputs": [],
   "source": [
    "df_scores_xgboost = get_kfold_mean_score_dataframe(new_xgboost_models, X, y)"
   ]
  },
  {
   "cell_type": "code",
   "execution_count": 790,
   "id": "ee8db4ec",
   "metadata": {},
   "outputs": [],
   "source": [
    "new_df_xgboost = pd.concat([df_errors_xgboost, df_scores_xgboost], axis = 1)"
   ]
  },
  {
   "cell_type": "code",
   "execution_count": 791,
   "id": "eccadcf2",
   "metadata": {
    "scrolled": true
   },
   "outputs": [
    {
     "data": {
      "text/html": [
       "<div>\n",
       "<style scoped>\n",
       "    .dataframe tbody tr th:only-of-type {\n",
       "        vertical-align: middle;\n",
       "    }\n",
       "\n",
       "    .dataframe tbody tr th {\n",
       "        vertical-align: top;\n",
       "    }\n",
       "\n",
       "    .dataframe thead th {\n",
       "        text-align: right;\n",
       "    }\n",
       "</style>\n",
       "<table border=\"1\" class=\"dataframe\">\n",
       "  <thead>\n",
       "    <tr style=\"text-align: right;\">\n",
       "      <th></th>\n",
       "      <th>train error</th>\n",
       "      <th>test error</th>\n",
       "      <th>val error</th>\n",
       "      <th>kfold score error (k = 5)</th>\n",
       "    </tr>\n",
       "  </thead>\n",
       "  <tbody>\n",
       "    <tr>\n",
       "      <th>model 1</th>\n",
       "      <td>387.130413</td>\n",
       "      <td>384.043001</td>\n",
       "      <td>374.355054</td>\n",
       "      <td>385.140843</td>\n",
       "    </tr>\n",
       "    <tr>\n",
       "      <th>model 2</th>\n",
       "      <td>275.465371</td>\n",
       "      <td>273.813609</td>\n",
       "      <td>265.079831</td>\n",
       "      <td>274.507766</td>\n",
       "    </tr>\n",
       "    <tr>\n",
       "      <th>model 3</th>\n",
       "      <td>152.189230</td>\n",
       "      <td>152.180075</td>\n",
       "      <td>145.336997</td>\n",
       "      <td>153.244062</td>\n",
       "    </tr>\n",
       "    <tr>\n",
       "      <th>model 4</th>\n",
       "      <td>73.699330</td>\n",
       "      <td>74.715015</td>\n",
       "      <td>72.010249</td>\n",
       "      <td>76.608550</td>\n",
       "    </tr>\n",
       "    <tr>\n",
       "      <th>model 5</th>\n",
       "      <td>53.464807</td>\n",
       "      <td>55.828458</td>\n",
       "      <td>56.093514</td>\n",
       "      <td>58.629838</td>\n",
       "    </tr>\n",
       "    <tr>\n",
       "      <th>model 6</th>\n",
       "      <td>50.623478</td>\n",
       "      <td>55.178651</td>\n",
       "      <td>56.453756</td>\n",
       "      <td>58.143596</td>\n",
       "    </tr>\n",
       "    <tr>\n",
       "      <th>model 7</th>\n",
       "      <td>47.495478</td>\n",
       "      <td>56.058296</td>\n",
       "      <td>57.451618</td>\n",
       "      <td>59.007343</td>\n",
       "    </tr>\n",
       "    <tr>\n",
       "      <th>model 8</th>\n",
       "      <td>43.584706</td>\n",
       "      <td>57.933490</td>\n",
       "      <td>60.017615</td>\n",
       "      <td>60.882006</td>\n",
       "    </tr>\n",
       "    <tr>\n",
       "      <th>model 9</th>\n",
       "      <td>39.632596</td>\n",
       "      <td>60.308427</td>\n",
       "      <td>63.729409</td>\n",
       "      <td>64.316022</td>\n",
       "    </tr>\n",
       "    <tr>\n",
       "      <th>model 10</th>\n",
       "      <td>35.442707</td>\n",
       "      <td>64.648904</td>\n",
       "      <td>68.277778</td>\n",
       "      <td>68.808237</td>\n",
       "    </tr>\n",
       "  </tbody>\n",
       "</table>\n",
       "</div>"
      ],
      "text/plain": [
       "          train error  test error   val error  kfold score error (k = 5)\n",
       "model 1    387.130413  384.043001  374.355054                 385.140843\n",
       "model 2    275.465371  273.813609  265.079831                 274.507766\n",
       "model 3    152.189230  152.180075  145.336997                 153.244062\n",
       "model 4     73.699330   74.715015   72.010249                  76.608550\n",
       "model 5     53.464807   55.828458   56.093514                  58.629838\n",
       "model 6     50.623478   55.178651   56.453756                  58.143596\n",
       "model 7     47.495478   56.058296   57.451618                  59.007343\n",
       "model 8     43.584706   57.933490   60.017615                  60.882006\n",
       "model 9     39.632596   60.308427   63.729409                  64.316022\n",
       "model 10    35.442707   64.648904   68.277778                  68.808237"
      ]
     },
     "execution_count": 791,
     "metadata": {},
     "output_type": "execute_result"
    }
   ],
   "source": [
    "new_df_xgboost"
   ]
  },
  {
   "cell_type": "markdown",
   "id": "f4c425db",
   "metadata": {},
   "source": [
    "Conseguimos um modelo melhor com a nova feature! O modelo escolhido é o modelo 6."
   ]
  },
  {
   "cell_type": "code",
   "execution_count": 792,
   "id": "71ceff71",
   "metadata": {},
   "outputs": [],
   "source": [
    "new_best_xgb_index = 'model 6'\n",
    "new_best_xgb_df = pd.DataFrame(new_df_xgboost.loc[new_best_xgb_index])\n",
    "new_best_xgb_df = new_best_xgb_df.rename(columns = {new_best_xgb_index: 'New Best XGBoost Model'})"
   ]
  },
  {
   "cell_type": "markdown",
   "id": "1c0708dd",
   "metadata": {},
   "source": [
    "Comparando o modelo antigo e o novo:"
   ]
  },
  {
   "cell_type": "code",
   "execution_count": 793,
   "id": "61c8fa96",
   "metadata": {},
   "outputs": [],
   "source": [
    "comparison_xgb_df = pd.concat([best_xgb_df, new_best_xgb_df], axis = 1)"
   ]
  },
  {
   "cell_type": "code",
   "execution_count": 794,
   "id": "db9d377b",
   "metadata": {},
   "outputs": [
    {
     "data": {
      "text/html": [
       "<div>\n",
       "<style scoped>\n",
       "    .dataframe tbody tr th:only-of-type {\n",
       "        vertical-align: middle;\n",
       "    }\n",
       "\n",
       "    .dataframe tbody tr th {\n",
       "        vertical-align: top;\n",
       "    }\n",
       "\n",
       "    .dataframe thead th {\n",
       "        text-align: right;\n",
       "    }\n",
       "</style>\n",
       "<table border=\"1\" class=\"dataframe\">\n",
       "  <thead>\n",
       "    <tr style=\"text-align: right;\">\n",
       "      <th></th>\n",
       "      <th>Best XGBoost Model</th>\n",
       "      <th>New Best XGBoost Model</th>\n",
       "    </tr>\n",
       "  </thead>\n",
       "  <tbody>\n",
       "    <tr>\n",
       "      <th>train error</th>\n",
       "      <td>53.338564</td>\n",
       "      <td>50.623478</td>\n",
       "    </tr>\n",
       "    <tr>\n",
       "      <th>test error</th>\n",
       "      <td>57.507082</td>\n",
       "      <td>55.178651</td>\n",
       "    </tr>\n",
       "    <tr>\n",
       "      <th>val error</th>\n",
       "      <td>58.772497</td>\n",
       "      <td>56.453756</td>\n",
       "    </tr>\n",
       "    <tr>\n",
       "      <th>kfold score error (k = 5)</th>\n",
       "      <td>59.967779</td>\n",
       "      <td>58.143596</td>\n",
       "    </tr>\n",
       "  </tbody>\n",
       "</table>\n",
       "</div>"
      ],
      "text/plain": [
       "                           Best XGBoost Model  New Best XGBoost Model\n",
       "train error                         53.338564               50.623478\n",
       "test error                          57.507082               55.178651\n",
       "val error                           58.772497               56.453756\n",
       "kfold score error (k = 5)           59.967779               58.143596"
      ]
     },
     "execution_count": 794,
     "metadata": {},
     "output_type": "execute_result"
    }
   ],
   "source": [
    "comparison_xgb_df"
   ]
  },
  {
   "cell_type": "markdown",
   "id": "8e239c99",
   "metadata": {},
   "source": [
    "De fato, todos os erros são menores com o novo modelo, de forma que a adição da nova feature (dias da semana) ajudou o modelo a aprender!"
   ]
  },
  {
   "cell_type": "markdown",
   "id": "2bdf629a",
   "metadata": {},
   "source": [
    "## Dia da semana ao quadrado: feature cross"
   ]
  },
  {
   "cell_type": "markdown",
   "id": "588dc08d",
   "metadata": {},
   "source": [
    "Sabemos de antemão que provavelmente elevar o dia da semana ao quadrado não deve auxiliar o modelo, dado que a relação entre o target e o dia da semana não parece ser descrita por uma transformação como essa.\n",
    "\n",
    "Mas, como teste:\n",
    "\n",
    "Agora vamos adicionar a feature do dia da semana ao quadrado (feature cross dessa feature com ela mesma). Por quê? Para causar maior diferenciação entre o fim de semana e os dias da semana! Outra forma de fazer isso sem utilizar feature cross seria adicionar uma feature booleana."
   ]
  },
  {
   "cell_type": "code",
   "execution_count": 795,
   "id": "63b088d8",
   "metadata": {},
   "outputs": [],
   "source": [
    "newest_data = new_data.copy()"
   ]
  },
  {
   "cell_type": "markdown",
   "id": "7eb56c68",
   "metadata": {},
   "source": [
    "### Adicionando nova feature"
   ]
  },
  {
   "cell_type": "code",
   "execution_count": 796,
   "id": "a20b83df",
   "metadata": {},
   "outputs": [],
   "source": [
    "newest_data['Dia da Semana ao Quadrado'] = newest_data['Dia da Semana']**2"
   ]
  },
  {
   "cell_type": "code",
   "execution_count": 797,
   "id": "9494763f",
   "metadata": {
    "scrolled": false
   },
   "outputs": [
    {
     "data": {
      "text/html": [
       "<div>\n",
       "<style scoped>\n",
       "    .dataframe tbody tr th:only-of-type {\n",
       "        vertical-align: middle;\n",
       "    }\n",
       "\n",
       "    .dataframe tbody tr th {\n",
       "        vertical-align: top;\n",
       "    }\n",
       "\n",
       "    .dataframe thead th {\n",
       "        text-align: right;\n",
       "    }\n",
       "</style>\n",
       "<table border=\"1\" class=\"dataframe\">\n",
       "  <thead>\n",
       "    <tr style=\"text-align: right;\">\n",
       "      <th></th>\n",
       "      <th>Data</th>\n",
       "      <th>Hora</th>\n",
       "      <th>Concentração_NO</th>\n",
       "      <th>Concentração_NO2</th>\n",
       "      <th>Unidade</th>\n",
       "      <th>Dia da Semana</th>\n",
       "      <th>Dia da Semana ao Quadrado</th>\n",
       "    </tr>\n",
       "  </thead>\n",
       "  <tbody>\n",
       "    <tr>\n",
       "      <th>0</th>\n",
       "      <td>2017-01-01</td>\n",
       "      <td>2.0</td>\n",
       "      <td>2.0</td>\n",
       "      <td>18.0</td>\n",
       "      <td>ug/m3</td>\n",
       "      <td>6</td>\n",
       "      <td>36</td>\n",
       "    </tr>\n",
       "    <tr>\n",
       "      <th>1</th>\n",
       "      <td>2017-01-01</td>\n",
       "      <td>3.0</td>\n",
       "      <td>2.0</td>\n",
       "      <td>15.0</td>\n",
       "      <td>ug/m3</td>\n",
       "      <td>6</td>\n",
       "      <td>36</td>\n",
       "    </tr>\n",
       "    <tr>\n",
       "      <th>2</th>\n",
       "      <td>2017-01-01</td>\n",
       "      <td>4.0</td>\n",
       "      <td>1.0</td>\n",
       "      <td>7.0</td>\n",
       "      <td>ug/m3</td>\n",
       "      <td>6</td>\n",
       "      <td>36</td>\n",
       "    </tr>\n",
       "    <tr>\n",
       "      <th>3</th>\n",
       "      <td>2017-01-01</td>\n",
       "      <td>5.0</td>\n",
       "      <td>1.0</td>\n",
       "      <td>6.0</td>\n",
       "      <td>ug/m3</td>\n",
       "      <td>6</td>\n",
       "      <td>36</td>\n",
       "    </tr>\n",
       "    <tr>\n",
       "      <th>4</th>\n",
       "      <td>2017-01-01</td>\n",
       "      <td>6.0</td>\n",
       "      <td>0.0</td>\n",
       "      <td>6.0</td>\n",
       "      <td>ug/m3</td>\n",
       "      <td>6</td>\n",
       "      <td>36</td>\n",
       "    </tr>\n",
       "  </tbody>\n",
       "</table>\n",
       "</div>"
      ],
      "text/plain": [
       "        Data  Hora  Concentração_NO  Concentração_NO2 Unidade  Dia da Semana  \\\n",
       "0 2017-01-01   2.0              2.0              18.0   ug/m3              6   \n",
       "1 2017-01-01   3.0              2.0              15.0   ug/m3              6   \n",
       "2 2017-01-01   4.0              1.0               7.0   ug/m3              6   \n",
       "3 2017-01-01   5.0              1.0               6.0   ug/m3              6   \n",
       "4 2017-01-01   6.0              0.0               6.0   ug/m3              6   \n",
       "\n",
       "   Dia da Semana ao Quadrado  \n",
       "0                         36  \n",
       "1                         36  \n",
       "2                         36  \n",
       "3                         36  \n",
       "4                         36  "
      ]
     },
     "execution_count": 797,
     "metadata": {},
     "output_type": "execute_result"
    }
   ],
   "source": [
    "newest_data.head()"
   ]
  },
  {
   "cell_type": "code",
   "execution_count": 798,
   "id": "7360b9d4",
   "metadata": {},
   "outputs": [],
   "source": [
    "newest_features = new_features + ['Dia da Semana ao Quadrado']\n",
    "X = newest_data[newest_features]\n",
    "y = newest_data['Concentração_NO2']"
   ]
  },
  {
   "cell_type": "markdown",
   "id": "709e3801",
   "metadata": {},
   "source": [
    "### Split"
   ]
  },
  {
   "cell_type": "code",
   "execution_count": 799,
   "id": "c5ee0ddb",
   "metadata": {},
   "outputs": [],
   "source": [
    "X_train, X_test, y_train, y_test = train_test_split(X, y, test_size = 0.2, random_state = 0)\n",
    "X_train, X_val, y_train, y_val = train_test_split(X_train, y_train, test_size = 0.2, random_state = 0)"
   ]
  },
  {
   "cell_type": "code",
   "execution_count": 800,
   "id": "1f978c98",
   "metadata": {},
   "outputs": [],
   "source": [
    "n_estimators_list = [2**n for n in range(1, 11)]\n",
    "max_depth_list = [5 for i in range(0, 10)]\n",
    "learning_rate_list = [0.1 for i in range(0, 10)]\n",
    "newest_xgboost_models = []\n",
    "\n",
    "for i in range(0, 10):\n",
    "    new_model = preprocess_xgboost(learning_rate = learning_rate_list[i],\n",
    "                                   n_estimators = n_estimators_list[i], max_depth = max_depth_list[i])\n",
    "    new_model.fit(X_train, y_train)\n",
    "    newest_xgboost_models.append(new_model)"
   ]
  },
  {
   "cell_type": "code",
   "execution_count": 801,
   "id": "d5e60916",
   "metadata": {},
   "outputs": [],
   "source": [
    "df_errors_xgboost = get_model_errors_dataframe(newest_xgboost_models, X_train, y_train, \n",
    "                           X_test, y_test, X_val, y_val)"
   ]
  },
  {
   "cell_type": "code",
   "execution_count": 802,
   "id": "bb4fb6c0",
   "metadata": {},
   "outputs": [
    {
     "data": {
      "text/html": [
       "<div>\n",
       "<style scoped>\n",
       "    .dataframe tbody tr th:only-of-type {\n",
       "        vertical-align: middle;\n",
       "    }\n",
       "\n",
       "    .dataframe tbody tr th {\n",
       "        vertical-align: top;\n",
       "    }\n",
       "\n",
       "    .dataframe thead th {\n",
       "        text-align: right;\n",
       "    }\n",
       "</style>\n",
       "<table border=\"1\" class=\"dataframe\">\n",
       "  <thead>\n",
       "    <tr style=\"text-align: right;\">\n",
       "      <th></th>\n",
       "      <th>train error</th>\n",
       "      <th>test error</th>\n",
       "      <th>val error</th>\n",
       "    </tr>\n",
       "  </thead>\n",
       "  <tbody>\n",
       "    <tr>\n",
       "      <th>model 1</th>\n",
       "      <td>387.130413</td>\n",
       "      <td>384.043001</td>\n",
       "      <td>374.355054</td>\n",
       "    </tr>\n",
       "    <tr>\n",
       "      <th>model 2</th>\n",
       "      <td>275.465371</td>\n",
       "      <td>273.813609</td>\n",
       "      <td>265.079831</td>\n",
       "    </tr>\n",
       "    <tr>\n",
       "      <th>model 3</th>\n",
       "      <td>152.189230</td>\n",
       "      <td>152.180075</td>\n",
       "      <td>145.336997</td>\n",
       "    </tr>\n",
       "    <tr>\n",
       "      <th>model 4</th>\n",
       "      <td>73.699330</td>\n",
       "      <td>74.715015</td>\n",
       "      <td>72.010249</td>\n",
       "    </tr>\n",
       "    <tr>\n",
       "      <th>model 5</th>\n",
       "      <td>53.464807</td>\n",
       "      <td>55.828458</td>\n",
       "      <td>56.093514</td>\n",
       "    </tr>\n",
       "    <tr>\n",
       "      <th>model 6</th>\n",
       "      <td>50.623478</td>\n",
       "      <td>55.178651</td>\n",
       "      <td>56.453756</td>\n",
       "    </tr>\n",
       "    <tr>\n",
       "      <th>model 7</th>\n",
       "      <td>47.495478</td>\n",
       "      <td>56.058296</td>\n",
       "      <td>57.451618</td>\n",
       "    </tr>\n",
       "    <tr>\n",
       "      <th>model 8</th>\n",
       "      <td>43.584706</td>\n",
       "      <td>57.933490</td>\n",
       "      <td>60.017615</td>\n",
       "    </tr>\n",
       "    <tr>\n",
       "      <th>model 9</th>\n",
       "      <td>39.632596</td>\n",
       "      <td>60.308427</td>\n",
       "      <td>63.729409</td>\n",
       "    </tr>\n",
       "    <tr>\n",
       "      <th>model 10</th>\n",
       "      <td>35.442707</td>\n",
       "      <td>64.648904</td>\n",
       "      <td>68.277778</td>\n",
       "    </tr>\n",
       "  </tbody>\n",
       "</table>\n",
       "</div>"
      ],
      "text/plain": [
       "          train error  test error   val error\n",
       "model 1    387.130413  384.043001  374.355054\n",
       "model 2    275.465371  273.813609  265.079831\n",
       "model 3    152.189230  152.180075  145.336997\n",
       "model 4     73.699330   74.715015   72.010249\n",
       "model 5     53.464807   55.828458   56.093514\n",
       "model 6     50.623478   55.178651   56.453756\n",
       "model 7     47.495478   56.058296   57.451618\n",
       "model 8     43.584706   57.933490   60.017615\n",
       "model 9     39.632596   60.308427   63.729409\n",
       "model 10    35.442707   64.648904   68.277778"
      ]
     },
     "execution_count": 802,
     "metadata": {},
     "output_type": "execute_result"
    }
   ],
   "source": [
    "df_errors_xgboost"
   ]
  },
  {
   "cell_type": "markdown",
   "id": "393f128b",
   "metadata": {},
   "source": [
    "### Reiniciando os modelos"
   ]
  },
  {
   "cell_type": "code",
   "execution_count": 803,
   "id": "b1a39b6b",
   "metadata": {},
   "outputs": [],
   "source": [
    "newest_xgboost_models = []\n",
    "\n",
    "for i in range(0, 10):\n",
    "    new_model = preprocess_xgboost(learning_rate = learning_rate_list[i],\n",
    "                                   n_estimators = n_estimators_list[i], max_depth = max_depth_list[i])\n",
    "    newest_xgboost_models.append(new_model)"
   ]
  },
  {
   "cell_type": "markdown",
   "id": "b394b7bf",
   "metadata": {},
   "source": [
    "### Kfold"
   ]
  },
  {
   "cell_type": "code",
   "execution_count": 804,
   "id": "230c73c2",
   "metadata": {},
   "outputs": [],
   "source": [
    "df_scores_xgboost = get_kfold_mean_score_dataframe(newest_xgboost_models, X, y)"
   ]
  },
  {
   "cell_type": "code",
   "execution_count": 805,
   "id": "67376224",
   "metadata": {},
   "outputs": [],
   "source": [
    "newest_df_xgboost = pd.concat([df_errors_xgboost, df_scores_xgboost], axis = 1)"
   ]
  },
  {
   "cell_type": "code",
   "execution_count": 806,
   "id": "a980228a",
   "metadata": {
    "scrolled": true
   },
   "outputs": [
    {
     "data": {
      "text/html": [
       "<div>\n",
       "<style scoped>\n",
       "    .dataframe tbody tr th:only-of-type {\n",
       "        vertical-align: middle;\n",
       "    }\n",
       "\n",
       "    .dataframe tbody tr th {\n",
       "        vertical-align: top;\n",
       "    }\n",
       "\n",
       "    .dataframe thead th {\n",
       "        text-align: right;\n",
       "    }\n",
       "</style>\n",
       "<table border=\"1\" class=\"dataframe\">\n",
       "  <thead>\n",
       "    <tr style=\"text-align: right;\">\n",
       "      <th></th>\n",
       "      <th>train error</th>\n",
       "      <th>test error</th>\n",
       "      <th>val error</th>\n",
       "      <th>kfold score error (k = 5)</th>\n",
       "    </tr>\n",
       "  </thead>\n",
       "  <tbody>\n",
       "    <tr>\n",
       "      <th>model 1</th>\n",
       "      <td>387.130413</td>\n",
       "      <td>384.043001</td>\n",
       "      <td>374.355054</td>\n",
       "      <td>385.140843</td>\n",
       "    </tr>\n",
       "    <tr>\n",
       "      <th>model 2</th>\n",
       "      <td>275.465371</td>\n",
       "      <td>273.813609</td>\n",
       "      <td>265.079831</td>\n",
       "      <td>274.507766</td>\n",
       "    </tr>\n",
       "    <tr>\n",
       "      <th>model 3</th>\n",
       "      <td>152.189230</td>\n",
       "      <td>152.180075</td>\n",
       "      <td>145.336997</td>\n",
       "      <td>153.244062</td>\n",
       "    </tr>\n",
       "    <tr>\n",
       "      <th>model 4</th>\n",
       "      <td>73.699330</td>\n",
       "      <td>74.715015</td>\n",
       "      <td>72.010249</td>\n",
       "      <td>76.608550</td>\n",
       "    </tr>\n",
       "    <tr>\n",
       "      <th>model 5</th>\n",
       "      <td>53.464807</td>\n",
       "      <td>55.828458</td>\n",
       "      <td>56.093514</td>\n",
       "      <td>58.629838</td>\n",
       "    </tr>\n",
       "    <tr>\n",
       "      <th>model 6</th>\n",
       "      <td>50.623478</td>\n",
       "      <td>55.178651</td>\n",
       "      <td>56.453756</td>\n",
       "      <td>58.143596</td>\n",
       "    </tr>\n",
       "    <tr>\n",
       "      <th>model 7</th>\n",
       "      <td>47.495478</td>\n",
       "      <td>56.058296</td>\n",
       "      <td>57.451618</td>\n",
       "      <td>59.007343</td>\n",
       "    </tr>\n",
       "    <tr>\n",
       "      <th>model 8</th>\n",
       "      <td>43.584706</td>\n",
       "      <td>57.933490</td>\n",
       "      <td>60.017615</td>\n",
       "      <td>60.882006</td>\n",
       "    </tr>\n",
       "    <tr>\n",
       "      <th>model 9</th>\n",
       "      <td>39.632596</td>\n",
       "      <td>60.308427</td>\n",
       "      <td>63.729409</td>\n",
       "      <td>64.316022</td>\n",
       "    </tr>\n",
       "    <tr>\n",
       "      <th>model 10</th>\n",
       "      <td>35.442707</td>\n",
       "      <td>64.648904</td>\n",
       "      <td>68.277778</td>\n",
       "      <td>68.808237</td>\n",
       "    </tr>\n",
       "  </tbody>\n",
       "</table>\n",
       "</div>"
      ],
      "text/plain": [
       "          train error  test error   val error  kfold score error (k = 5)\n",
       "model 1    387.130413  384.043001  374.355054                 385.140843\n",
       "model 2    275.465371  273.813609  265.079831                 274.507766\n",
       "model 3    152.189230  152.180075  145.336997                 153.244062\n",
       "model 4     73.699330   74.715015   72.010249                  76.608550\n",
       "model 5     53.464807   55.828458   56.093514                  58.629838\n",
       "model 6     50.623478   55.178651   56.453756                  58.143596\n",
       "model 7     47.495478   56.058296   57.451618                  59.007343\n",
       "model 8     43.584706   57.933490   60.017615                  60.882006\n",
       "model 9     39.632596   60.308427   63.729409                  64.316022\n",
       "model 10    35.442707   64.648904   68.277778                  68.808237"
      ]
     },
     "execution_count": 806,
     "metadata": {},
     "output_type": "execute_result"
    }
   ],
   "source": [
    "newest_df_xgboost"
   ]
  },
  {
   "cell_type": "markdown",
   "id": "73860ca3",
   "metadata": {},
   "source": [
    "Não conseguimos uma melhoria no score do Kfold! Na verdade, conseguimos os mesmos resultados.\n",
    "\n",
    "Assim, na prática, a adição dessa nova feature não muda em nada o modelo! Iremos comparar esse resultado aos anteriores. Uma hipótese para isso acontecer é que a quadratura do dia da semana não realça nenhuma relação com o target. Isto é, elevar ou não dia da semana ao quadrado não altera em nada o resultado final, já que as não-linearidades já são representadas pela complexidade do modelo."
   ]
  },
  {
   "cell_type": "code",
   "execution_count": 807,
   "id": "7bad5a5d",
   "metadata": {},
   "outputs": [],
   "source": [
    "newest_best_xgb_index = 'model 6'\n",
    "newest_best_xgb_df = pd.DataFrame(newest_df_xgboost.loc[newest_best_xgb_index])\n",
    "newest_best_xgb_df = newest_best_xgb_df.rename(columns = {newest_best_xgb_index: 'Newest Best XGBoost Model'})"
   ]
  },
  {
   "cell_type": "markdown",
   "id": "cf77f794",
   "metadata": {},
   "source": [
    "Finalmente, comparando todos os modelos:"
   ]
  },
  {
   "cell_type": "code",
   "execution_count": 808,
   "id": "a4b3ba78",
   "metadata": {},
   "outputs": [],
   "source": [
    "newest_comparison_xgb_df = pd.concat([comparison_xgb_df, newest_best_xgb_df], axis = 1)"
   ]
  },
  {
   "cell_type": "code",
   "execution_count": 809,
   "id": "1abb3b53",
   "metadata": {
    "scrolled": true
   },
   "outputs": [
    {
     "data": {
      "text/html": [
       "<div>\n",
       "<style scoped>\n",
       "    .dataframe tbody tr th:only-of-type {\n",
       "        vertical-align: middle;\n",
       "    }\n",
       "\n",
       "    .dataframe tbody tr th {\n",
       "        vertical-align: top;\n",
       "    }\n",
       "\n",
       "    .dataframe thead th {\n",
       "        text-align: right;\n",
       "    }\n",
       "</style>\n",
       "<table border=\"1\" class=\"dataframe\">\n",
       "  <thead>\n",
       "    <tr style=\"text-align: right;\">\n",
       "      <th></th>\n",
       "      <th>Best XGBoost Model</th>\n",
       "      <th>New Best XGBoost Model</th>\n",
       "      <th>Newest Best XGBoost Model</th>\n",
       "    </tr>\n",
       "  </thead>\n",
       "  <tbody>\n",
       "    <tr>\n",
       "      <th>train error</th>\n",
       "      <td>53.338564</td>\n",
       "      <td>50.623478</td>\n",
       "      <td>50.623478</td>\n",
       "    </tr>\n",
       "    <tr>\n",
       "      <th>test error</th>\n",
       "      <td>57.507082</td>\n",
       "      <td>55.178651</td>\n",
       "      <td>55.178651</td>\n",
       "    </tr>\n",
       "    <tr>\n",
       "      <th>val error</th>\n",
       "      <td>58.772497</td>\n",
       "      <td>56.453756</td>\n",
       "      <td>56.453756</td>\n",
       "    </tr>\n",
       "    <tr>\n",
       "      <th>kfold score error (k = 5)</th>\n",
       "      <td>59.967779</td>\n",
       "      <td>58.143596</td>\n",
       "      <td>58.143596</td>\n",
       "    </tr>\n",
       "  </tbody>\n",
       "</table>\n",
       "</div>"
      ],
      "text/plain": [
       "                           Best XGBoost Model  New Best XGBoost Model  \\\n",
       "train error                         53.338564               50.623478   \n",
       "test error                          57.507082               55.178651   \n",
       "val error                           58.772497               56.453756   \n",
       "kfold score error (k = 5)           59.967779               58.143596   \n",
       "\n",
       "                           Newest Best XGBoost Model  \n",
       "train error                                50.623478  \n",
       "test error                                 55.178651  \n",
       "val error                                  56.453756  \n",
       "kfold score error (k = 5)                  58.143596  "
      ]
     },
     "execution_count": 809,
     "metadata": {},
     "output_type": "execute_result"
    }
   ],
   "source": [
    "newest_comparison_xgb_df"
   ]
  },
  {
   "cell_type": "markdown",
   "id": "549758b9",
   "metadata": {},
   "source": [
    "# Conclusão"
   ]
  },
  {
   "cell_type": "markdown",
   "id": "3aac182f",
   "metadata": {},
   "source": [
    "Assim, finalizamos a parte extra de adição de novas features com **melhorias** no score error na validação cruzada (Kfold) após a adição da **primeira feature nova** e **não muda** após a adição da **segunda**!\n",
    "\n",
    "Esse resultado mostra que a adição de novas features nem sempre causa melhorias na predição do modelo. Assim, devemos ter cuidado e analisar a relação entre a feature e o target uma a uma antes de adicioná-la ao modelo.\n",
    "\n",
    "Se fossemos ficar com um modelo, ficariamos com o **New Best XGBoost Model**, ou seja, o modelo após a adição da feature de dias da semana mas antes da adição da diferenciação maior entre dia da semana e fim de semana."
   ]
  },
  {
   "cell_type": "markdown",
   "id": "384c0f56",
   "metadata": {},
   "source": [
    "---"
   ]
  }
 ],
 "metadata": {
  "kernelspec": {
   "display_name": "Python 3 (ipykernel)",
   "language": "python",
   "name": "python3"
  },
  "language_info": {
   "codemirror_mode": {
    "name": "ipython",
    "version": 3
   },
   "file_extension": ".py",
   "mimetype": "text/x-python",
   "name": "python",
   "nbconvert_exporter": "python",
   "pygments_lexer": "ipython3",
   "version": "3.11.1"
  }
 },
 "nbformat": 4,
 "nbformat_minor": 5
}
