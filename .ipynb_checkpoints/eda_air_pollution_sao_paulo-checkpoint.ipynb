{
 "cells": [
  {
   "cell_type": "markdown",
   "id": "acbae761",
   "metadata": {},
   "source": [
    "# Análise dos dados temporais de poluição atmosférica no estado de São Paulo (2015-2021)"
   ]
  },
  {
   "cell_type": "markdown",
   "id": "0e19afd2",
   "metadata": {
    "hideCode": false
   },
   "source": [
    "Fonte dos dados: IEMA (Instituto de Energia e Meio Ambiente)\n",
    "\n",
    "Link: https://energiaeambiente.org.br/qualidadedoar#secao-14"
   ]
  },
  {
   "cell_type": "markdown",
   "id": "4d803c43",
   "metadata": {},
   "source": [
    "## Importando bibliotecas e definindo função auxiliar para SQL"
   ]
  },
  {
   "cell_type": "code",
   "execution_count": 1,
   "id": "fba633fa",
   "metadata": {
    "scrolled": true
   },
   "outputs": [
    {
     "name": "stdout",
     "output_type": "stream",
     "text": [
      "Bibliotecas importadas e função auxiliar para SQL definida.\n"
     ]
    }
   ],
   "source": [
    "import numpy as np\n",
    "import pandas as pd\n",
    "import matplotlib.pyplot as plt\n",
    "import matplotlib.gridspec as gridspec\n",
    "from pandasql import sqldf\n",
    "from IPython import display\n",
    "query = lambda q: sqldf(q, globals())\n",
    "\n",
    "print(\"Bibliotecas importadas e função auxiliar para SQL definida.\")"
   ]
  },
  {
   "cell_type": "markdown",
   "id": "10ef5597",
   "metadata": {},
   "source": [
    "## Importando os dados"
   ]
  },
  {
   "cell_type": "code",
   "execution_count": 2,
   "id": "feef9fac",
   "metadata": {},
   "outputs": [
    {
     "name": "stdout",
     "output_type": "stream",
     "text": [
      "Dados importados e reunidos no dataframe data.\n"
     ]
    }
   ],
   "source": [
    "years = [str(y) for y in range(2015, 2022)] \n",
    "sp_pol = {}\n",
    "\n",
    "# Unindo dados do mesmo ano.\n",
    "for y in years:\n",
    "    first_df = pd.read_csv(f'data/SP{y}01.csv', encoding = 'latin-1')\n",
    "    sec_df = pd.read_csv(f'data/SP{y}02.csv', encoding = 'latin-1')\n",
    "    sp_pol[y] = pd.concat([first_df, sec_df])\n",
    "\n",
    "# Agora uniremos todos os dados em um mesmo dataframe que, por simplicidade, chamaremos de data.\n",
    "data = sp_pol[years[0]]\n",
    "    \n",
    "for y in years[1:]:\n",
    "    data = pd.concat([data, sp_pol[y]])\n",
    "\n",
    "data.reset_index(drop = True, inplace = True)\n",
    "data['ID'] = list(data.index)\n",
    "cols = data.columns.tolist()\n",
    "cols = cols[-1:] + cols[:-1]\n",
    "data = data[cols]\n",
    "\n",
    "print('Dados importados e reunidos no dataframe data.')"
   ]
  },
  {
   "cell_type": "markdown",
   "id": "412c7735",
   "metadata": {},
   "source": [
    "---"
   ]
  },
  {
   "cell_type": "markdown",
   "id": "438444f0",
   "metadata": {},
   "source": [
    "## Data Profiling: visão e estatísticas gerais"
   ]
  },
  {
   "cell_type": "markdown",
   "id": "9a5e8159",
   "metadata": {},
   "source": [
    "### Quantidade de linhas e colunas"
   ]
  },
  {
   "cell_type": "code",
   "execution_count": 50,
   "id": "786701d4",
   "metadata": {
    "scrolled": true
   },
   "outputs": [
    {
     "name": "stdout",
     "output_type": "stream",
     "text": [
      "(linhas, colunas) : (10980515, 9)\n"
     ]
    }
   ],
   "source": [
    "print(f'(linhas, colunas) : {data.shape}')"
   ]
  },
  {
   "cell_type": "markdown",
   "id": "3a2a0fca",
   "metadata": {},
   "source": [
    "### Descrição das colunas"
   ]
  },
  {
   "cell_type": "code",
   "execution_count": 51,
   "id": "cd416ffd",
   "metadata": {},
   "outputs": [
    {
     "name": "stdout",
     "output_type": "stream",
     "text": [
      "ID            int64\n",
      "Data         object\n",
      "Hora         object\n",
      "Estacao      object\n",
      "Codigo       object\n",
      "Poluente     object\n",
      "Valor       float64\n",
      "Unidade      object\n",
      "Tipo         object\n",
      "dtype: object\n"
     ]
    }
   ],
   "source": [
    "print(data.dtypes)"
   ]
  },
  {
   "cell_type": "markdown",
   "id": "a28bf555",
   "metadata": {},
   "source": [
    "__ID__: identificação, via índice inteiro, de cada registro do dataframe.\n",
    "\n",
    "__Data__: data em que foi feita a medição da concentração do poluente.\n",
    "\n",
    "__Hora__: hora em que foi feita a medição.\n",
    "\n",
    "__Estação__: local em que foi feita a medição.\n",
    "\n",
    "__Código__: código associado à estação em que foi realizada a medição.\n",
    "\n",
    "__Poluente__: poluente cuja concentração foi medida.\n",
    "\n",
    "__Valor__: valor, na unidade especificada, da concentração do poluente.\n",
    "\n",
    "__Unidade__: unidade de concentração utilizada.\n",
    "\n",
    "__Tipo__: como foi realizada a medição (de forma automática ou manual)"
   ]
  },
  {
   "cell_type": "markdown",
   "id": "d4c6728a",
   "metadata": {},
   "source": [
    "### Valores iniciais e finais do dataframe"
   ]
  },
  {
   "cell_type": "code",
   "execution_count": 52,
   "id": "f551ec80",
   "metadata": {},
   "outputs": [
    {
     "data": {
      "text/html": [
       "<div>\n",
       "<style scoped>\n",
       "    .dataframe tbody tr th:only-of-type {\n",
       "        vertical-align: middle;\n",
       "    }\n",
       "\n",
       "    .dataframe tbody tr th {\n",
       "        vertical-align: top;\n",
       "    }\n",
       "\n",
       "    .dataframe thead th {\n",
       "        text-align: right;\n",
       "    }\n",
       "</style>\n",
       "<table border=\"1\" class=\"dataframe\">\n",
       "  <thead>\n",
       "    <tr style=\"text-align: right;\">\n",
       "      <th></th>\n",
       "      <th>ID</th>\n",
       "      <th>Data</th>\n",
       "      <th>Hora</th>\n",
       "      <th>Estacao</th>\n",
       "      <th>Codigo</th>\n",
       "      <th>Poluente</th>\n",
       "      <th>Valor</th>\n",
       "      <th>Unidade</th>\n",
       "      <th>Tipo</th>\n",
       "    </tr>\n",
       "  </thead>\n",
       "  <tbody>\n",
       "    <tr>\n",
       "      <th>0</th>\n",
       "      <td>0</td>\n",
       "      <td>2015-01-01</td>\n",
       "      <td>01:00</td>\n",
       "      <td>Americana - Vila Santa Maria</td>\n",
       "      <td>SP01</td>\n",
       "      <td>MP10</td>\n",
       "      <td>65.0</td>\n",
       "      <td>ug/m3</td>\n",
       "      <td>automatica</td>\n",
       "    </tr>\n",
       "    <tr>\n",
       "      <th>1</th>\n",
       "      <td>1</td>\n",
       "      <td>2015-01-01</td>\n",
       "      <td>02:00</td>\n",
       "      <td>Americana - Vila Santa Maria</td>\n",
       "      <td>SP01</td>\n",
       "      <td>MP10</td>\n",
       "      <td>98.0</td>\n",
       "      <td>ug/m3</td>\n",
       "      <td>automatica</td>\n",
       "    </tr>\n",
       "    <tr>\n",
       "      <th>2</th>\n",
       "      <td>2</td>\n",
       "      <td>2015-01-01</td>\n",
       "      <td>03:00</td>\n",
       "      <td>Americana - Vila Santa Maria</td>\n",
       "      <td>SP01</td>\n",
       "      <td>MP10</td>\n",
       "      <td>79.0</td>\n",
       "      <td>ug/m3</td>\n",
       "      <td>automatica</td>\n",
       "    </tr>\n",
       "    <tr>\n",
       "      <th>3</th>\n",
       "      <td>3</td>\n",
       "      <td>2015-01-01</td>\n",
       "      <td>04:00</td>\n",
       "      <td>Americana - Vila Santa Maria</td>\n",
       "      <td>SP01</td>\n",
       "      <td>MP10</td>\n",
       "      <td>53.0</td>\n",
       "      <td>ug/m3</td>\n",
       "      <td>automatica</td>\n",
       "    </tr>\n",
       "    <tr>\n",
       "      <th>4</th>\n",
       "      <td>4</td>\n",
       "      <td>2015-01-01</td>\n",
       "      <td>05:00</td>\n",
       "      <td>Americana - Vila Santa Maria</td>\n",
       "      <td>SP01</td>\n",
       "      <td>MP10</td>\n",
       "      <td>35.0</td>\n",
       "      <td>ug/m3</td>\n",
       "      <td>automatica</td>\n",
       "    </tr>\n",
       "  </tbody>\n",
       "</table>\n",
       "</div>"
      ],
      "text/plain": [
       "   ID        Data   Hora                       Estacao Codigo Poluente  Valor  \\\n",
       "0   0  2015-01-01  01:00  Americana - Vila Santa Maria   SP01     MP10   65.0   \n",
       "1   1  2015-01-01  02:00  Americana - Vila Santa Maria   SP01     MP10   98.0   \n",
       "2   2  2015-01-01  03:00  Americana - Vila Santa Maria   SP01     MP10   79.0   \n",
       "3   3  2015-01-01  04:00  Americana - Vila Santa Maria   SP01     MP10   53.0   \n",
       "4   4  2015-01-01  05:00  Americana - Vila Santa Maria   SP01     MP10   35.0   \n",
       "\n",
       "  Unidade        Tipo  \n",
       "0   ug/m3  automatica  \n",
       "1   ug/m3  automatica  \n",
       "2   ug/m3  automatica  \n",
       "3   ug/m3  automatica  \n",
       "4   ug/m3  automatica  "
      ]
     },
     "execution_count": 52,
     "metadata": {},
     "output_type": "execute_result"
    }
   ],
   "source": [
    "data.head(5)"
   ]
  },
  {
   "cell_type": "code",
   "execution_count": 53,
   "id": "667b8176",
   "metadata": {
    "scrolled": true
   },
   "outputs": [
    {
     "data": {
      "text/html": [
       "<div>\n",
       "<style scoped>\n",
       "    .dataframe tbody tr th:only-of-type {\n",
       "        vertical-align: middle;\n",
       "    }\n",
       "\n",
       "    .dataframe tbody tr th {\n",
       "        vertical-align: top;\n",
       "    }\n",
       "\n",
       "    .dataframe thead th {\n",
       "        text-align: right;\n",
       "    }\n",
       "</style>\n",
       "<table border=\"1\" class=\"dataframe\">\n",
       "  <thead>\n",
       "    <tr style=\"text-align: right;\">\n",
       "      <th></th>\n",
       "      <th>ID</th>\n",
       "      <th>Data</th>\n",
       "      <th>Hora</th>\n",
       "      <th>Estacao</th>\n",
       "      <th>Codigo</th>\n",
       "      <th>Poluente</th>\n",
       "      <th>Valor</th>\n",
       "      <th>Unidade</th>\n",
       "      <th>Tipo</th>\n",
       "    </tr>\n",
       "  </thead>\n",
       "  <tbody>\n",
       "    <tr>\n",
       "      <th>10980510</th>\n",
       "      <td>10980510</td>\n",
       "      <td>2021-02-01</td>\n",
       "      <td>01:00</td>\n",
       "      <td>Tatuapé</td>\n",
       "      <td>SP76</td>\n",
       "      <td>SO2</td>\n",
       "      <td>3.0</td>\n",
       "      <td>ug/m3</td>\n",
       "      <td>manual</td>\n",
       "    </tr>\n",
       "    <tr>\n",
       "      <th>10980511</th>\n",
       "      <td>10980511</td>\n",
       "      <td>2021-03-01</td>\n",
       "      <td>01:00</td>\n",
       "      <td>Tatuapé</td>\n",
       "      <td>SP76</td>\n",
       "      <td>SO2</td>\n",
       "      <td>3.0</td>\n",
       "      <td>ug/m3</td>\n",
       "      <td>manual</td>\n",
       "    </tr>\n",
       "    <tr>\n",
       "      <th>10980512</th>\n",
       "      <td>10980512</td>\n",
       "      <td>2021-04-01</td>\n",
       "      <td>01:00</td>\n",
       "      <td>Tatuapé</td>\n",
       "      <td>SP76</td>\n",
       "      <td>SO2</td>\n",
       "      <td>3.0</td>\n",
       "      <td>ug/m3</td>\n",
       "      <td>manual</td>\n",
       "    </tr>\n",
       "    <tr>\n",
       "      <th>10980513</th>\n",
       "      <td>10980513</td>\n",
       "      <td>2021-05-01</td>\n",
       "      <td>01:00</td>\n",
       "      <td>Tatuapé</td>\n",
       "      <td>SP76</td>\n",
       "      <td>SO2</td>\n",
       "      <td>5.0</td>\n",
       "      <td>ug/m3</td>\n",
       "      <td>manual</td>\n",
       "    </tr>\n",
       "    <tr>\n",
       "      <th>10980514</th>\n",
       "      <td>10980514</td>\n",
       "      <td>2021-10-01</td>\n",
       "      <td>01:00</td>\n",
       "      <td>Tatuapé</td>\n",
       "      <td>SP76</td>\n",
       "      <td>SO2</td>\n",
       "      <td>3.0</td>\n",
       "      <td>ug/m3</td>\n",
       "      <td>manual</td>\n",
       "    </tr>\n",
       "  </tbody>\n",
       "</table>\n",
       "</div>"
      ],
      "text/plain": [
       "                ID        Data   Hora  Estacao Codigo Poluente  Valor Unidade  \\\n",
       "10980510  10980510  2021-02-01  01:00  Tatuapé   SP76      SO2    3.0   ug/m3   \n",
       "10980511  10980511  2021-03-01  01:00  Tatuapé   SP76      SO2    3.0   ug/m3   \n",
       "10980512  10980512  2021-04-01  01:00  Tatuapé   SP76      SO2    3.0   ug/m3   \n",
       "10980513  10980513  2021-05-01  01:00  Tatuapé   SP76      SO2    5.0   ug/m3   \n",
       "10980514  10980514  2021-10-01  01:00  Tatuapé   SP76      SO2    3.0   ug/m3   \n",
       "\n",
       "            Tipo  \n",
       "10980510  manual  \n",
       "10980511  manual  \n",
       "10980512  manual  \n",
       "10980513  manual  \n",
       "10980514  manual  "
      ]
     },
     "execution_count": 53,
     "metadata": {},
     "output_type": "execute_result"
    }
   ],
   "source": [
    "data.tail(5)"
   ]
  },
  {
   "cell_type": "markdown",
   "id": "c7680707",
   "metadata": {},
   "source": [
    "## Análise univariada: estudando cada coluna separadamente"
   ]
  },
  {
   "cell_type": "markdown",
   "id": "7e1a6d59",
   "metadata": {},
   "source": [
    "### Data"
   ]
  },
  {
   "cell_type": "markdown",
   "id": "1c3f2f6c",
   "metadata": {},
   "source": [
    "Datas e horas de início e de fim das medições:"
   ]
  },
  {
   "cell_type": "code",
   "execution_count": 16,
   "id": "7e026e6f",
   "metadata": {},
   "outputs": [
    {
     "name": "stdout",
     "output_type": "stream",
     "text": [
      "Início das medições: 01:00 2015-01-01\n",
      "Fim das medições: 23:55 2021-12-31\n"
     ]
    }
   ],
   "source": [
    "min_data = data['Data'].min()\n",
    "max_data = data['Data'].max()\n",
    "\n",
    "min_hour = data[data['Data'] == min_data]['Hora'].min()\n",
    "max_hour = data[data['Data'] == max_data]['Hora'].max()\n",
    "\n",
    "print(f'Início das medições: {min_hour} {min_data}')\n",
    "print(f'Fim das medições: {max_hour} {max_data}')"
   ]
  },
  {
   "cell_type": "markdown",
   "id": "26311f20",
   "metadata": {},
   "source": [
    "Verificando se não há valores inexistentes (null ou nan):"
   ]
  },
  {
   "cell_type": "code",
   "execution_count": 54,
   "id": "444b15bf",
   "metadata": {},
   "outputs": [],
   "source": [
    "def print_null_values_count(data, column):\n",
    "    try:\n",
    "        null_values_count = data[column].isnull().value_counts()[True]\n",
    "    except:\n",
    "        null_values_count = 0\n",
    "    print(f'Número de valores inexistentes na coluna {column}: {null_values_count}')"
   ]
  },
  {
   "cell_type": "code",
   "execution_count": 55,
   "id": "89448a77",
   "metadata": {},
   "outputs": [
    {
     "name": "stdout",
     "output_type": "stream",
     "text": [
      "Número de valores inexistentes na coluna Data: 0\n"
     ]
    }
   ],
   "source": [
    "print_null_values_count(data, 'Data')"
   ]
  },
  {
   "cell_type": "markdown",
   "id": "d545fb00",
   "metadata": {},
   "source": [
    "Estatísticas gerais da contagem (quantidade de aparições de cada valor) na coluna:"
   ]
  },
  {
   "cell_type": "code",
   "execution_count": 56,
   "id": "c11e8559",
   "metadata": {},
   "outputs": [
    {
     "data": {
      "text/plain": [
       "count    2557.000000\n",
       "mean     4294.296050\n",
       "std       499.572604\n",
       "min      3233.000000\n",
       "25%      3978.000000\n",
       "50%      4169.000000\n",
       "75%      4532.000000\n",
       "max      5674.000000\n",
       "Name: Data, dtype: float64"
      ]
     },
     "execution_count": 56,
     "metadata": {},
     "output_type": "execute_result"
    }
   ],
   "source": [
    "data_data_count = data['Data'].value_counts().sort_index()\n",
    "data_data_count.describe()"
   ]
  },
  {
   "cell_type": "markdown",
   "id": "90d4807f",
   "metadata": {},
   "source": [
    "Temos 2557 datas distintas, o que equivale a 7 anos, sendo um deles bissexto. Os números de medições são bem distribuídos, sem outliers muito grandes. Isso indica que a maioria das datas teve um número de medições de poluentes parecido. Podemos verificar isso em um histograma:"
   ]
  },
  {
   "cell_type": "code",
   "execution_count": 57,
   "id": "dde24033",
   "metadata": {
    "scrolled": true
   },
   "outputs": [
    {
     "data": {
      "image/png": "[encoded data removed]",
      "text/plain": [
       "<Figure size 640x480 with 1 Axes>"
      ]
     },
     "metadata": {},
     "output_type": "display_data"
    }
   ],
   "source": [
    "N, bins, patches = plt.hist(data_data_count)\n",
    "plt.xlabel('Contagem')\n",
    "plt.ylabel('Quantidade de datas com determinada contagem')\n",
    "plt.suptitle('Histograma da contagem das datas', fontsize = '16')\n",
    "plt.title('A maioria das datas possuem Nº de medições próximas da média de 4300 e não há outliers muito discrepantes desse valor.')\n",
    "for i in range(2, 6):\n",
    "    patches[i].set_facecolor('Darkblue')\n",
    "for i in range(0, 2):\n",
    "    patches[i].set_facecolor('Gray')\n",
    "for i in range(6, len(patches)):\n",
    "    patches[i].set_facecolor('Gray')"
   ]
  },
  {
   "cell_type": "markdown",
   "id": "96c6706e",
   "metadata": {},
   "source": [
    "### Hora"
   ]
  },
  {
   "cell_type": "markdown",
   "id": "b607914e",
   "metadata": {},
   "source": [
    "Horas em que ocorreram medições:"
   ]
  },
  {
   "cell_type": "code",
   "execution_count": 113,
   "id": "9c87b583",
   "metadata": {},
   "outputs": [
    {
     "data": {
      "text/html": [
       "<div>\n",
       "<style scoped>\n",
       "    .dataframe tbody tr th:only-of-type {\n",
       "        vertical-align: middle;\n",
       "    }\n",
       "\n",
       "    .dataframe tbody tr th {\n",
       "        vertical-align: top;\n",
       "    }\n",
       "\n",
       "    .dataframe thead th {\n",
       "        text-align: right;\n",
       "    }\n",
       "</style>\n",
       "<table border=\"1\" class=\"dataframe\">\n",
       "  <thead>\n",
       "    <tr style=\"text-align: right;\">\n",
       "      <th></th>\n",
       "      <th>Hora</th>\n",
       "    </tr>\n",
       "  </thead>\n",
       "  <tbody>\n",
       "    <tr>\n",
       "      <th>0</th>\n",
       "      <td>01:00</td>\n",
       "    </tr>\n",
       "    <tr>\n",
       "      <th>1</th>\n",
       "      <td>02:00</td>\n",
       "    </tr>\n",
       "    <tr>\n",
       "      <th>2</th>\n",
       "      <td>03:00</td>\n",
       "    </tr>\n",
       "    <tr>\n",
       "      <th>3</th>\n",
       "      <td>04:00</td>\n",
       "    </tr>\n",
       "    <tr>\n",
       "      <th>4</th>\n",
       "      <td>05:00</td>\n",
       "    </tr>\n",
       "    <tr>\n",
       "      <th>5</th>\n",
       "      <td>06:00</td>\n",
       "    </tr>\n",
       "    <tr>\n",
       "      <th>6</th>\n",
       "      <td>07:00</td>\n",
       "    </tr>\n",
       "    <tr>\n",
       "      <th>7</th>\n",
       "      <td>08:00</td>\n",
       "    </tr>\n",
       "    <tr>\n",
       "      <th>8</th>\n",
       "      <td>09:00</td>\n",
       "    </tr>\n",
       "    <tr>\n",
       "      <th>9</th>\n",
       "      <td>10:00</td>\n",
       "    </tr>\n",
       "    <tr>\n",
       "      <th>10</th>\n",
       "      <td>11:00</td>\n",
       "    </tr>\n",
       "    <tr>\n",
       "      <th>11</th>\n",
       "      <td>12:00</td>\n",
       "    </tr>\n",
       "    <tr>\n",
       "      <th>12</th>\n",
       "      <td>13:00</td>\n",
       "    </tr>\n",
       "    <tr>\n",
       "      <th>13</th>\n",
       "      <td>14:00</td>\n",
       "    </tr>\n",
       "    <tr>\n",
       "      <th>14</th>\n",
       "      <td>15:00</td>\n",
       "    </tr>\n",
       "    <tr>\n",
       "      <th>15</th>\n",
       "      <td>16:00</td>\n",
       "    </tr>\n",
       "    <tr>\n",
       "      <th>16</th>\n",
       "      <td>17:00</td>\n",
       "    </tr>\n",
       "    <tr>\n",
       "      <th>17</th>\n",
       "      <td>18:00</td>\n",
       "    </tr>\n",
       "    <tr>\n",
       "      <th>18</th>\n",
       "      <td>19:00</td>\n",
       "    </tr>\n",
       "    <tr>\n",
       "      <th>19</th>\n",
       "      <td>20:00</td>\n",
       "    </tr>\n",
       "    <tr>\n",
       "      <th>20</th>\n",
       "      <td>21:00</td>\n",
       "    </tr>\n",
       "    <tr>\n",
       "      <th>21</th>\n",
       "      <td>22:00</td>\n",
       "    </tr>\n",
       "    <tr>\n",
       "      <th>22</th>\n",
       "      <td>23:00</td>\n",
       "    </tr>\n",
       "    <tr>\n",
       "      <th>23</th>\n",
       "      <td>23:55</td>\n",
       "    </tr>\n",
       "  </tbody>\n",
       "</table>\n",
       "</div>"
      ],
      "text/plain": [
       "     Hora\n",
       "0   01:00\n",
       "1   02:00\n",
       "2   03:00\n",
       "3   04:00\n",
       "4   05:00\n",
       "5   06:00\n",
       "6   07:00\n",
       "7   08:00\n",
       "8   09:00\n",
       "9   10:00\n",
       "10  11:00\n",
       "11  12:00\n",
       "12  13:00\n",
       "13  14:00\n",
       "14  15:00\n",
       "15  16:00\n",
       "16  17:00\n",
       "17  18:00\n",
       "18  19:00\n",
       "19  20:00\n",
       "20  21:00\n",
       "21  22:00\n",
       "22  23:00\n",
       "23  23:55"
      ]
     },
     "execution_count": 113,
     "metadata": {},
     "output_type": "execute_result"
    }
   ],
   "source": [
    "data[['Hora']].drop_duplicates().reset_index(drop = True)"
   ]
  },
  {
   "cell_type": "markdown",
   "id": "02c2243d",
   "metadata": {},
   "source": [
    "Verificando se não há valores inexistentes (null ou nan):"
   ]
  },
  {
   "cell_type": "code",
   "execution_count": 58,
   "id": "23852c75",
   "metadata": {},
   "outputs": [
    {
     "name": "stdout",
     "output_type": "stream",
     "text": [
      "Número de valores inexistentes na coluna Hora: 0\n"
     ]
    }
   ],
   "source": [
    "print_null_values_count(data, 'Hora')"
   ]
  },
  {
   "cell_type": "code",
   "execution_count": 9,
   "id": "d829ef16",
   "metadata": {},
   "outputs": [
    {
     "name": "stdout",
     "output_type": "stream",
     "text": [
      "Quantidade de horas em que ocorrem medições: 24\n"
     ]
    }
   ],
   "source": [
    "num_hours = len(data['Hora'].unique())\n",
    "print(f'Quantidade de horas em que ocorrem medições: {num_hours}')"
   ]
  },
  {
   "cell_type": "markdown",
   "id": "03432dcf",
   "metadata": {},
   "source": [
    "Estatísticas gerais da contagem (quantidade de aparições de cada valor) na coluna:"
   ]
  },
  {
   "cell_type": "code",
   "execution_count": 59,
   "id": "196c149e",
   "metadata": {},
   "outputs": [
    {
     "data": {
      "text/plain": [
       "count        24.000000\n",
       "mean     457521.458333\n",
       "std       24894.142328\n",
       "min      379531.000000\n",
       "25%      465003.000000\n",
       "50%      467204.500000\n",
       "75%      468774.750000\n",
       "max      469259.000000\n",
       "Name: Hora, dtype: float64"
      ]
     },
     "execution_count": 59,
     "metadata": {},
     "output_type": "execute_result"
    }
   ],
   "source": [
    "data_hour_count = data['Hora'].value_counts().sort_index()\n",
    "data_hour_count.describe()"
   ]
  },
  {
   "cell_type": "markdown",
   "id": "ea2a88f8",
   "metadata": {},
   "source": [
    "Vemos que o valor mínimo é distante do 1º quartil, indicando que algumas horas do dia possuem medições bastante abaixo da mediana. Podemos verificar isso em um boxplot:"
   ]
  },
  {
   "cell_type": "code",
   "execution_count": 60,
   "id": "55e77679",
   "metadata": {},
   "outputs": [
    {
     "data": {
      "text/plain": [
       "Text(0.5, 1.0, 'Há 5 horários outliers em termos de quantidade de medições.')"
      ]
     },
     "execution_count": 60,
     "metadata": {},
     "output_type": "execute_result"
    },
    {
     "data": {
      "image/png": "[encoded data removed]",
      "text/plain": [
       "<Figure size 640x480 with 1 Axes>"
      ]
     },
     "metadata": {},
     "output_type": "display_data"
    }
   ],
   "source": [
    "plt.boxplot(data_hour_count)\n",
    "plt.ylabel('Contagem')\n",
    "plt.suptitle('Boxplot da contagem de medições para cada hora', fontsize = '16')\n",
    "plt.title('Há 5 horários outliers em termos de quantidade de medições.')"
   ]
  },
  {
   "cell_type": "markdown",
   "id": "7e059a1a",
   "metadata": {},
   "source": [
    "Com ele, podemos ver que há horas do dia em que tivemos medições abaixo da maioria. Podemos descobrir quais são fazendo:"
   ]
  },
  {
   "cell_type": "code",
   "execution_count": 61,
   "id": "f68da8b4",
   "metadata": {},
   "outputs": [
    {
     "name": "stdout",
     "output_type": "stream",
     "text": [
      "Horas do dia com menores números de medições entre os anos de 2015 e 2021:\n"
     ]
    },
    {
     "data": {
      "text/plain": [
       "01:00    383679\n",
       "02:00    457630\n",
       "04:00    440328\n",
       "05:00    435875\n",
       "06:00    379531\n",
       "Name: Hora, dtype: int64"
      ]
     },
     "execution_count": 61,
     "metadata": {},
     "output_type": "execute_result"
    }
   ],
   "source": [
    "hour_first_quartile = data_hour_count.quantile(0.25)\n",
    "hour_third_quartile = data_hour_count.quantile(0.75)\n",
    "inter_dist = hour_third_quartile - hour_first_quartile # Distância interquartílica.\n",
    "print('Horas do dia com menores números de medições entre os anos de 2015 e 2021:')\n",
    "data_hour_count[data_hour_count < hour_first_quartile - 1.5*(inter_dist)]"
   ]
  },
  {
   "cell_type": "markdown",
   "id": "85490bcf",
   "metadata": {},
   "source": [
    "Note que são justamente os horários da madrugada/começo da manhã."
   ]
  },
  {
   "cell_type": "markdown",
   "id": "378274ea",
   "metadata": {},
   "source": [
    "### Estação e Código"
   ]
  },
  {
   "cell_type": "markdown",
   "id": "b7eb0718",
   "metadata": {},
   "source": [
    "Estação e Código possuem relação de 1:1, então esperamos que a contagem seja a mesma."
   ]
  },
  {
   "cell_type": "code",
   "execution_count": 62,
   "id": "e58c47c2",
   "metadata": {
    "scrolled": true
   },
   "outputs": [
    {
     "data": {
      "text/plain": [
       "count        90.000000\n",
       "mean     122005.722222\n",
       "std       94709.725805\n",
       "min          27.000000\n",
       "25%         413.250000\n",
       "50%      139536.500000\n",
       "75%      194896.000000\n",
       "max      287897.000000\n",
       "Name: Estacao, dtype: float64"
      ]
     },
     "execution_count": 62,
     "metadata": {},
     "output_type": "execute_result"
    }
   ],
   "source": [
    "data_station_count = data['Estacao'].value_counts()\n",
    "data_station_count.describe()"
   ]
  },
  {
   "cell_type": "code",
   "execution_count": 63,
   "id": "f34725d3",
   "metadata": {
    "scrolled": true
   },
   "outputs": [
    {
     "data": {
      "text/plain": [
       "count        87.000000\n",
       "mean     126212.816092\n",
       "std       93787.137514\n",
       "min          27.000000\n",
       "25%       15668.500000\n",
       "50%      144612.000000\n",
       "75%      198590.500000\n",
       "max      287897.000000\n",
       "Name: Codigo, dtype: float64"
      ]
     },
     "execution_count": 63,
     "metadata": {},
     "output_type": "execute_result"
    }
   ],
   "source": [
    "data_code_count = data['Codigo'].value_counts()\n",
    "data_code_count.describe()"
   ]
  },
  {
   "cell_type": "markdown",
   "id": "0c9a4e0c",
   "metadata": {},
   "source": [
    "Vemos que não acontece o esperado: temos uma contagem de códigos menor que a de estações. Vamos tentar buscar o porquê, analisando:\n",
    "\n",
    "- Presença de valores nulos.\n",
    "- Presença de códigos iguais para diferentes localidades."
   ]
  },
  {
   "cell_type": "markdown",
   "id": "25f32c77",
   "metadata": {},
   "source": [
    "Presença de valores nulos:"
   ]
  },
  {
   "cell_type": "code",
   "execution_count": 64,
   "id": "388f3c08",
   "metadata": {},
   "outputs": [
    {
     "name": "stdout",
     "output_type": "stream",
     "text": [
      "Número de valores inexistentes na coluna Codigo: 0\n"
     ]
    }
   ],
   "source": [
    "print_null_values_count(data, 'Codigo')"
   ]
  },
  {
   "cell_type": "markdown",
   "id": "3cfafd04",
   "metadata": {},
   "source": [
    "Não há valores nulos na coluna 'Codigo'."
   ]
  },
  {
   "cell_type": "markdown",
   "id": "ff605259",
   "metadata": {},
   "source": [
    "Presença de códigos iguais para diferentes localidades:"
   ]
  },
  {
   "cell_type": "code",
   "execution_count": 65,
   "id": "97918138",
   "metadata": {
    "deletable": false,
    "editable": false
   },
   "outputs": [
    {
     "data": {
      "text/html": [
       "<div>\n",
       "<style scoped>\n",
       "    .dataframe tbody tr th:only-of-type {\n",
       "        vertical-align: middle;\n",
       "    }\n",
       "\n",
       "    .dataframe tbody tr th {\n",
       "        vertical-align: top;\n",
       "    }\n",
       "\n",
       "    .dataframe thead th {\n",
       "        text-align: right;\n",
       "    }\n",
       "</style>\n",
       "<table border=\"1\" class=\"dataframe\">\n",
       "  <thead>\n",
       "    <tr style=\"text-align: right;\">\n",
       "      <th></th>\n",
       "      <th>Codigo</th>\n",
       "      <th>Estacao</th>\n",
       "    </tr>\n",
       "  </thead>\n",
       "  <tbody>\n",
       "    <tr>\n",
       "      <th>0</th>\n",
       "      <td>SP04</td>\n",
       "      <td>Guaratinguetá</td>\n",
       "    </tr>\n",
       "    <tr>\n",
       "      <th>1</th>\n",
       "      <td>SP04</td>\n",
       "      <td>Guaratingueta</td>\n",
       "    </tr>\n",
       "    <tr>\n",
       "      <th>2</th>\n",
       "      <td>SP17</td>\n",
       "      <td>Cordeirópolis - Módolo</td>\n",
       "    </tr>\n",
       "    <tr>\n",
       "      <th>3</th>\n",
       "      <td>SP17</td>\n",
       "      <td>Cordeiropolis - Modolo</td>\n",
       "    </tr>\n",
       "    <tr>\n",
       "      <th>4</th>\n",
       "      <td>SP23</td>\n",
       "      <td>Guarujá - Vicente de Carvalho</td>\n",
       "    </tr>\n",
       "    <tr>\n",
       "      <th>5</th>\n",
       "      <td>SP23</td>\n",
       "      <td>Guaruja - Vicente de Carvalho</td>\n",
       "    </tr>\n",
       "  </tbody>\n",
       "</table>\n",
       "</div>"
      ],
      "text/plain": [
       "  Codigo                        Estacao\n",
       "0   SP04                  Guaratinguetá\n",
       "1   SP04                  Guaratingueta\n",
       "2   SP17         Cordeirópolis - Módolo\n",
       "3   SP17         Cordeiropolis - Modolo\n",
       "4   SP23  Guarujá - Vicente de Carvalho\n",
       "5   SP23  Guaruja - Vicente de Carvalho"
      ]
     },
     "execution_count": 65,
     "metadata": {},
     "output_type": "execute_result"
    }
   ],
   "source": [
    "query('''\n",
    "    SELECT x.Codigo, x.Estacao \n",
    "    FROM \n",
    "        (SELECT DISTINCT Codigo, Estacao FROM data) x,\n",
    "        (SELECT DISTINCT Codigo, Estacao FROM data) y\n",
    "    WHERE x.Codigo = y.Codigo\n",
    "    AND x.Estacao <> y.Estacao\n",
    "    ORDER BY x.Codigo\n",
    "''')"
   ]
  },
  {
   "cell_type": "markdown",
   "id": "d5276c38",
   "metadata": {},
   "source": [
    "Achamos o problema! Vamos corrigí-lo adicionando acentos em todas as estações sem acento:"
   ]
  },
  {
   "cell_type": "code",
   "execution_count": 3,
   "id": "50b516b4",
   "metadata": {},
   "outputs": [],
   "source": [
    "data.loc[data['Estacao'] == 'Guaratingueta', 'Estacao'] = 'Guaratinguetá'\n",
    "data.loc[data['Estacao'] == 'Cordeiropolis - Modolo', 'Estacao'] = 'Cordeirópolis - Módolo'\n",
    "data.loc[data['Estacao'] == 'Guaruja - Vicente de Carvalho', 'Estacao'] = 'Guarujá - Vicente de Carvalho'"
   ]
  },
  {
   "cell_type": "markdown",
   "id": "86445bc9",
   "metadata": {},
   "source": [
    "Atualizando as variáveis:"
   ]
  },
  {
   "cell_type": "code",
   "execution_count": 67,
   "id": "266a07fe",
   "metadata": {},
   "outputs": [],
   "source": [
    "data_station_count = data['Estacao'].value_counts()\n",
    "data_code_count = data['Codigo'].value_counts()"
   ]
  },
  {
   "cell_type": "code",
   "execution_count": 68,
   "id": "bcb63851",
   "metadata": {},
   "outputs": [
    {
     "data": {
      "text/plain": [
       "count        87.000000\n",
       "mean     126212.816092\n",
       "std       93787.137514\n",
       "min          27.000000\n",
       "25%       15668.500000\n",
       "50%      144612.000000\n",
       "75%      198590.500000\n",
       "max      287897.000000\n",
       "Name: Estacao, dtype: float64"
      ]
     },
     "execution_count": 68,
     "metadata": {},
     "output_type": "execute_result"
    }
   ],
   "source": [
    "data_station_count.describe()"
   ]
  },
  {
   "cell_type": "code",
   "execution_count": 69,
   "id": "acef6258",
   "metadata": {
    "scrolled": false
   },
   "outputs": [
    {
     "data": {
      "text/plain": [
       "count        87.000000\n",
       "mean     126212.816092\n",
       "std       93787.137514\n",
       "min          27.000000\n",
       "25%       15668.500000\n",
       "50%      144612.000000\n",
       "75%      198590.500000\n",
       "max      287897.000000\n",
       "Name: Codigo, dtype: float64"
      ]
     },
     "execution_count": 69,
     "metadata": {},
     "output_type": "execute_result"
    }
   ],
   "source": [
    "data_code_count.describe()"
   ]
  },
  {
   "cell_type": "markdown",
   "id": "a71fc22a",
   "metadata": {},
   "source": [
    "Finalmente, temos a lista dos códigos e suas respectivas estações:"
   ]
  },
  {
   "cell_type": "code",
   "execution_count": 110,
   "id": "a7eeb194",
   "metadata": {},
   "outputs": [
    {
     "data": {
      "text/html": [
       "<div>\n",
       "<style scoped>\n",
       "    .dataframe tbody tr th:only-of-type {\n",
       "        vertical-align: middle;\n",
       "    }\n",
       "\n",
       "    .dataframe tbody tr th {\n",
       "        vertical-align: top;\n",
       "    }\n",
       "\n",
       "    .dataframe thead th {\n",
       "        text-align: right;\n",
       "    }\n",
       "</style>\n",
       "<table border=\"1\" class=\"dataframe\">\n",
       "  <thead>\n",
       "    <tr style=\"text-align: right;\">\n",
       "      <th></th>\n",
       "      <th>Codigo</th>\n",
       "      <th>Estacao</th>\n",
       "    </tr>\n",
       "  </thead>\n",
       "  <tbody>\n",
       "    <tr>\n",
       "      <th>0</th>\n",
       "      <td>SP01</td>\n",
       "      <td>Americana - Vila Santa Maria</td>\n",
       "    </tr>\n",
       "    <tr>\n",
       "      <th>1</th>\n",
       "      <td>SP02</td>\n",
       "      <td>Araçatuba</td>\n",
       "    </tr>\n",
       "    <tr>\n",
       "      <th>2</th>\n",
       "      <td>SP03</td>\n",
       "      <td>Araraquara</td>\n",
       "    </tr>\n",
       "    <tr>\n",
       "      <th>3</th>\n",
       "      <td>SP06</td>\n",
       "      <td>Bauru</td>\n",
       "    </tr>\n",
       "    <tr>\n",
       "      <th>4</th>\n",
       "      <td>SP07</td>\n",
       "      <td>Campinas - Centro</td>\n",
       "    </tr>\n",
       "    <tr>\n",
       "      <th>...</th>\n",
       "      <td>...</td>\n",
       "      <td>...</td>\n",
       "    </tr>\n",
       "    <tr>\n",
       "      <th>82</th>\n",
       "      <td>SP04</td>\n",
       "      <td>Guaratinguetá</td>\n",
       "    </tr>\n",
       "    <tr>\n",
       "      <th>83</th>\n",
       "      <td>SP112</td>\n",
       "      <td>Mogi das Cruzes - Centro</td>\n",
       "    </tr>\n",
       "    <tr>\n",
       "      <th>84</th>\n",
       "      <td>SP137</td>\n",
       "      <td>Americana</td>\n",
       "    </tr>\n",
       "    <tr>\n",
       "      <th>85</th>\n",
       "      <td>SP114</td>\n",
       "      <td>Paulínia - Santa Terezinha</td>\n",
       "    </tr>\n",
       "    <tr>\n",
       "      <th>86</th>\n",
       "      <td>SP144</td>\n",
       "      <td>Perus</td>\n",
       "    </tr>\n",
       "  </tbody>\n",
       "</table>\n",
       "<p>87 rows × 2 columns</p>\n",
       "</div>"
      ],
      "text/plain": [
       "   Codigo                       Estacao\n",
       "0    SP01  Americana - Vila Santa Maria\n",
       "1    SP02                     Araçatuba\n",
       "2    SP03                    Araraquara\n",
       "3    SP06                         Bauru\n",
       "4    SP07             Campinas - Centro\n",
       "..    ...                           ...\n",
       "82   SP04                 Guaratinguetá\n",
       "83  SP112      Mogi das Cruzes - Centro\n",
       "84  SP137                     Americana\n",
       "85  SP114    Paulínia - Santa Terezinha\n",
       "86  SP144                         Perus\n",
       "\n",
       "[87 rows x 2 columns]"
      ]
     },
     "execution_count": 110,
     "metadata": {},
     "output_type": "execute_result"
    }
   ],
   "source": [
    "data[['Codigo', 'Estacao']].drop_duplicates().reset_index(drop = True)"
   ]
  },
  {
   "cell_type": "markdown",
   "id": "554321e0",
   "metadata": {},
   "source": [
    "### Poluente"
   ]
  },
  {
   "cell_type": "markdown",
   "id": "772e71b4",
   "metadata": {},
   "source": [
    "Lista dos poluentes cujas concentrações são medidas:"
   ]
  },
  {
   "cell_type": "code",
   "execution_count": 109,
   "id": "a03dc529",
   "metadata": {},
   "outputs": [
    {
     "data": {
      "text/html": [
       "<div>\n",
       "<style scoped>\n",
       "    .dataframe tbody tr th:only-of-type {\n",
       "        vertical-align: middle;\n",
       "    }\n",
       "\n",
       "    .dataframe tbody tr th {\n",
       "        vertical-align: top;\n",
       "    }\n",
       "\n",
       "    .dataframe thead th {\n",
       "        text-align: right;\n",
       "    }\n",
       "</style>\n",
       "<table border=\"1\" class=\"dataframe\">\n",
       "  <thead>\n",
       "    <tr style=\"text-align: right;\">\n",
       "      <th></th>\n",
       "      <th>Poluente</th>\n",
       "    </tr>\n",
       "  </thead>\n",
       "  <tbody>\n",
       "    <tr>\n",
       "      <th>0</th>\n",
       "      <td>MP10</td>\n",
       "    </tr>\n",
       "    <tr>\n",
       "      <th>1</th>\n",
       "      <td>O3</td>\n",
       "    </tr>\n",
       "    <tr>\n",
       "      <th>2</th>\n",
       "      <td>NO2</td>\n",
       "    </tr>\n",
       "    <tr>\n",
       "      <th>3</th>\n",
       "      <td>CO</td>\n",
       "    </tr>\n",
       "    <tr>\n",
       "      <th>4</th>\n",
       "      <td>MP2.5</td>\n",
       "    </tr>\n",
       "    <tr>\n",
       "      <th>5</th>\n",
       "      <td>SO2</td>\n",
       "    </tr>\n",
       "    <tr>\n",
       "      <th>6</th>\n",
       "      <td>FMC</td>\n",
       "    </tr>\n",
       "    <tr>\n",
       "      <th>7</th>\n",
       "      <td>PTS</td>\n",
       "    </tr>\n",
       "    <tr>\n",
       "      <th>8</th>\n",
       "      <td>NO</td>\n",
       "    </tr>\n",
       "  </tbody>\n",
       "</table>\n",
       "</div>"
      ],
      "text/plain": [
       "  Poluente\n",
       "0     MP10\n",
       "1       O3\n",
       "2      NO2\n",
       "3       CO\n",
       "4    MP2.5\n",
       "5      SO2\n",
       "6      FMC\n",
       "7      PTS\n",
       "8       NO"
      ]
     },
     "execution_count": 109,
     "metadata": {},
     "output_type": "execute_result"
    }
   ],
   "source": [
    "data[['Poluente']].drop_duplicates().reset_index(drop = True)"
   ]
  },
  {
   "cell_type": "markdown",
   "id": "d53366e4",
   "metadata": {},
   "source": [
    "Verificando se não há valores inexistentes (null ou nan):"
   ]
  },
  {
   "cell_type": "code",
   "execution_count": 70,
   "id": "75baa711",
   "metadata": {
    "scrolled": true
   },
   "outputs": [
    {
     "name": "stdout",
     "output_type": "stream",
     "text": [
      "Número de valores inexistentes na coluna Poluente: 0\n"
     ]
    }
   ],
   "source": [
    "print_null_values_count(data, 'Poluente')"
   ]
  },
  {
   "cell_type": "markdown",
   "id": "e038b3dd",
   "metadata": {},
   "source": [
    "Verificando a quantidade de medições de cada poluente separadamente:"
   ]
  },
  {
   "cell_type": "code",
   "execution_count": 71,
   "id": "ce17160c",
   "metadata": {
    "scrolled": true
   },
   "outputs": [
    {
     "data": {
      "text/plain": [
       "MP10     2883216\n",
       "O3       2647308\n",
       "NO2      2176814\n",
       "MP2.5    1224587\n",
       "CO        899056\n",
       "SO2       796305\n",
       "NO        347840\n",
       "FMC         3679\n",
       "PTS         1710\n",
       "Name: Poluente, dtype: int64"
      ]
     },
     "execution_count": 71,
     "metadata": {},
     "output_type": "execute_result"
    }
   ],
   "source": [
    "pol_count = data['Poluente'].value_counts()\n",
    "pol_count"
   ]
  },
  {
   "cell_type": "markdown",
   "id": "7eeeabf0",
   "metadata": {},
   "source": [
    "E as estatísticas gerais dessas quantidades:"
   ]
  },
  {
   "cell_type": "code",
   "execution_count": 72,
   "id": "41051a7f",
   "metadata": {},
   "outputs": [
    {
     "data": {
      "text/plain": [
       "count    9.000000e+00\n",
       "mean     1.220057e+06\n",
       "std      1.102603e+06\n",
       "min      1.710000e+03\n",
       "25%      3.478400e+05\n",
       "50%      8.990560e+05\n",
       "75%      2.176814e+06\n",
       "max      2.883216e+06\n",
       "Name: Poluente, dtype: float64"
      ]
     },
     "execution_count": 72,
     "metadata": {},
     "output_type": "execute_result"
    }
   ],
   "source": [
    "pol_count.describe()"
   ]
  },
  {
   "cell_type": "markdown",
   "id": "894f531f",
   "metadata": {},
   "source": [
    "Temos 9 poluentes distintos. Notamos que o MP10, o O3 e o NO2 são aqueles que, de longe, são os mais medidos. Enquanto isso, estações medindo FMC e PTS são muito escassas. Podemos verificar a distribuição do número medições através de um histograma:"
   ]
  },
  {
   "cell_type": "code",
   "execution_count": 73,
   "id": "57cef335",
   "metadata": {},
   "outputs": [
    {
     "data": {
      "text/plain": [
       "Text(0.5, 1.0, 'Os poluentes MP10, O3 e NO2, somados, possuem um número de medições 2.4 vezes maior que os outros poluentes somados.')"
      ]
     },
     "execution_count": 73,
     "metadata": {},
     "output_type": "execute_result"
    },
    {
     "data": {
      "image/png": "[encoded data removed]",
      "text/plain": [
       "<Figure size 1000x600 with 1 Axes>"
      ]
     },
     "metadata": {},
     "output_type": "display_data"
    }
   ],
   "source": [
    "pol_count = data['Poluente'].value_counts()\n",
    "more_measures = ['MP10', 'O3', 'NO2']\n",
    "less_measures = ['MP2.5', 'CO', 'SO2', 'NO', 'FMC', 'PTS']\n",
    "sum_more = sum(pol_count[more_measures])\n",
    "sum_less = sum(pol_count[less_measures])\n",
    "more_measures_rate = sum_more/sum_less\n",
    "\n",
    "plt.figure(figsize=(10,6))\n",
    "plt.bar([' ', '  '], [sum_less, sum_more], color = ['Gray', 'Darkblue'])\n",
    "plt.text(-0.14, 2.9*10**6, s = 'Outros Poluentes', color = 'White', fontsize = '11')\n",
    "plt.text(0.85, 7.3*10**6, s = 'MP10, O3 e NO2', color = 'White', fontsize = '12')\n",
    "plt.ylabel('Número de medições')\n",
    "plt.suptitle('Comparação entre as somas dos nºs de medições dos poluentes', fontsize = '16')\n",
    "plt.title(f'Os poluentes MP10, O3 e NO2, somados, possuem um número de medições {round(more_measures_rate,1)} vezes maior que os outros poluentes somados.')"
   ]
  },
  {
   "cell_type": "markdown",
   "id": "55252150",
   "metadata": {},
   "source": [
    "### Unidade"
   ]
  },
  {
   "cell_type": "markdown",
   "id": "e4d7797f",
   "metadata": {},
   "source": [
    "Verificando se não há valores inexistentes (null ou nan)."
   ]
  },
  {
   "cell_type": "code",
   "execution_count": 74,
   "id": "f3936b26",
   "metadata": {},
   "outputs": [
    {
     "name": "stdout",
     "output_type": "stream",
     "text": [
      "Número de valores inexistentes na coluna Unidade: 0\n"
     ]
    }
   ],
   "source": [
    "print_null_values_count(data, 'Unidade')"
   ]
  },
  {
   "cell_type": "markdown",
   "id": "653497ec",
   "metadata": {},
   "source": [
    "Verificando quais unidades são utilizadas para descrever as concentrações dos poluentes:"
   ]
  },
  {
   "cell_type": "code",
   "execution_count": 75,
   "id": "08052ba6",
   "metadata": {
    "scrolled": true
   },
   "outputs": [
    {
     "data": {
      "text/plain": [
       "ug/m3    10980515\n",
       "Name: Unidade, dtype: int64"
      ]
     },
     "execution_count": 75,
     "metadata": {},
     "output_type": "execute_result"
    }
   ],
   "source": [
    "data['Unidade'].value_counts()"
   ]
  },
  {
   "cell_type": "markdown",
   "id": "a999629d",
   "metadata": {},
   "source": [
    "Todos os valores de concentração são medidos em $\\frac{\\mu g}{m^{3}}$ (microgramas por metro cúbico) de poluente."
   ]
  },
  {
   "cell_type": "markdown",
   "id": "c8df7f9a",
   "metadata": {},
   "source": [
    "### Tipo"
   ]
  },
  {
   "cell_type": "markdown",
   "id": "25836d74",
   "metadata": {},
   "source": [
    "Tipos de medições existentes:"
   ]
  },
  {
   "cell_type": "code",
   "execution_count": 111,
   "id": "d5df9a20",
   "metadata": {},
   "outputs": [
    {
     "data": {
      "text/html": [
       "<div>\n",
       "<style scoped>\n",
       "    .dataframe tbody tr th:only-of-type {\n",
       "        vertical-align: middle;\n",
       "    }\n",
       "\n",
       "    .dataframe tbody tr th {\n",
       "        vertical-align: top;\n",
       "    }\n",
       "\n",
       "    .dataframe thead th {\n",
       "        text-align: right;\n",
       "    }\n",
       "</style>\n",
       "<table border=\"1\" class=\"dataframe\">\n",
       "  <thead>\n",
       "    <tr style=\"text-align: right;\">\n",
       "      <th></th>\n",
       "      <th>Tipo</th>\n",
       "    </tr>\n",
       "  </thead>\n",
       "  <tbody>\n",
       "    <tr>\n",
       "      <th>0</th>\n",
       "      <td>automatica</td>\n",
       "    </tr>\n",
       "    <tr>\n",
       "      <th>1</th>\n",
       "      <td>manual</td>\n",
       "    </tr>\n",
       "  </tbody>\n",
       "</table>\n",
       "</div>"
      ],
      "text/plain": [
       "         Tipo\n",
       "0  automatica\n",
       "1      manual"
      ]
     },
     "execution_count": 111,
     "metadata": {},
     "output_type": "execute_result"
    }
   ],
   "source": [
    "data[['Tipo']].drop_duplicates().reset_index(drop = True)"
   ]
  },
  {
   "cell_type": "markdown",
   "id": "b94c58ad",
   "metadata": {},
   "source": [
    "Verificando se não há valores inexistentes (null ou nan)."
   ]
  },
  {
   "cell_type": "code",
   "execution_count": 76,
   "id": "f47e5951",
   "metadata": {},
   "outputs": [
    {
     "name": "stdout",
     "output_type": "stream",
     "text": [
      "Número de valores inexistentes na coluna Tipo: 0\n"
     ]
    }
   ],
   "source": [
    "print_null_values_count(data, 'Tipo')"
   ]
  },
  {
   "cell_type": "markdown",
   "id": "7b4c2b73",
   "metadata": {},
   "source": [
    "Verificando os números de medições que foram feitas manual e automaticamente:"
   ]
  },
  {
   "cell_type": "code",
   "execution_count": 16,
   "id": "30bfb7db",
   "metadata": {},
   "outputs": [
    {
     "data": {
      "text/plain": [
       "automatica    10971842\n",
       "manual            8673\n",
       "Name: Tipo, dtype: int64"
      ]
     },
     "execution_count": 16,
     "metadata": {},
     "output_type": "execute_result"
    }
   ],
   "source": [
    "type_count = data['Tipo'].value_counts()\n",
    "type_count"
   ]
  },
  {
   "cell_type": "markdown",
   "id": "3af16995",
   "metadata": {},
   "source": [
    "A extensa maioria das medições foi feita automaticamente. É curioso sabermos em que lugares foram feitas as medições automáticas e as manuais, e quantas foram feitas em cada lugar."
   ]
  },
  {
   "cell_type": "code",
   "execution_count": 17,
   "id": "1300e46f",
   "metadata": {
    "scrolled": true
   },
   "outputs": [
    {
     "name": "stdout",
     "output_type": "stream",
     "text": [
      "Número de locais com medição automática: 65\n",
      "Número de locais com medição manual: 33\n"
     ]
    }
   ],
   "source": [
    "auto_measure_count = data[data['Tipo'] == 'automatica']['Estacao'].value_counts()\n",
    "manual_measure_count = data[data['Tipo'] == 'manual']['Estacao'].value_counts()\n",
    "auto_len = len(auto_measure_count)\n",
    "manual_len = len(manual_measure_count)\n",
    "print(f'Número de locais com medição automática: {auto_len}')\n",
    "print(f'Número de locais com medição manual: {manual_len}')"
   ]
  },
  {
   "cell_type": "markdown",
   "id": "684c236d",
   "metadata": {},
   "source": [
    "Visualizando esse resultado graficamente:"
   ]
  },
  {
   "cell_type": "code",
   "execution_count": 76,
   "id": "a1dabed0",
   "metadata": {
    "scrolled": true
   },
   "outputs": [
    {
     "data": {
      "text/plain": [
       "Text(0.5, 1.0, 'A maioria dos locais utiliza medições automáticas, as quais caracterizam 99.9% das medições de poluentes.')"
      ]
     },
     "execution_count": 76,
     "metadata": {},
     "output_type": "execute_result"
    },
    {
     "data": {
      "image/png": "[encoded data removed]",
      "text/plain": [
       "<Figure size 640x480 with 1 Axes>"
      ]
     },
     "metadata": {},
     "output_type": "display_data"
    }
   ],
   "source": [
    "x = np.array(['Manual', 'Automática'])\n",
    "y = np.array([manual_len, auto_len])\n",
    "manual_measures_count = type_count['manual']\n",
    "auto_measures_count = type_count['automatica']\n",
    "\n",
    "plt.bar(x, y, color = ['Gray', 'Darkblue'])\n",
    "plt.yticks([])\n",
    "plt.ylabel('Quantidade de locais')\n",
    "plt.text(0 - 0.02, manual_len + 0.5, s = f'{manual_len}', fontsize = '11')\n",
    "plt.text(1 - 0.02, auto_len + 0.5, s = f'{auto_len}', fontsize = '11')\n",
    "plt.text(0 - 0.21, manual_len - 31, s = f'({manual_measures_count} medições)', color = 'white', fontsize = '9')\n",
    "plt.text(1 - 0.27, auto_len - 62.8, s = f'({auto_measures_count} medições)', color = 'white', fontsize = '9')\n",
    "auto_percentage = type_count['automatica']/(type_count['automatica'] + type_count['manual']) * 100\n",
    "plt.suptitle('Quantidade de locais por tipo de medição de poluentes', fontsize = '16')\n",
    "plt.title(f'A maioria dos locais utiliza medições automáticas, as quais caracterizam {round(auto_percentage, 1)}% das medições de poluentes.')"
   ]
  },
  {
   "cell_type": "markdown",
   "id": "a556bba1",
   "metadata": {},
   "source": [
    "Como auto está em uma quantidade muito grande, verificaremos apenas seus valores maiores e menores para se ter uma base de quais locais possuem esses valores."
   ]
  },
  {
   "cell_type": "code",
   "execution_count": 80,
   "id": "92bbd51a",
   "metadata": {
    "scrolled": false
   },
   "outputs": [
    {
     "name": "stdout",
     "output_type": "stream",
     "text": [
      "Locais com maiores números de medições automáticas:\n",
      "\n",
      "Santos - Ponta da Praia           287897\n",
      "Marg. Tietê - Pte dos Remédios    286482\n",
      "Parque Dom Pedro II               286121\n",
      "Congonhas                         280515\n",
      "Guarulhos - Pimentas              275144\n",
      "Name: Estacao, dtype: int64\n",
      "\n",
      "Locais com menores números de medições automáticas:\n",
      "\n",
      "Perus                           57384\n",
      "Americana                       56578\n",
      "Americana - Vila Santa Maria    49320\n",
      "Itaquera                        47968\n",
      "Mogi das Cruzes - Centro        30923\n",
      "Name: Estacao, dtype: int64\n"
     ]
    }
   ],
   "source": [
    "print(f'Locais com maiores números de medições automáticas:\\n\\n{auto_measure_count.head()}\\n')\n",
    "print(f'Locais com menores números de medições automáticas:\\n\\n{auto_measure_count.tail()}')"
   ]
  },
  {
   "cell_type": "markdown",
   "id": "c51af2bd",
   "metadata": {},
   "source": [
    "Como manual está em menor quantidade, podemos verificar todos os seus valores com clareza."
   ]
  },
  {
   "cell_type": "code",
   "execution_count": 81,
   "id": "c75cfa0c",
   "metadata": {
    "scrolled": false
   },
   "outputs": [
    {
     "name": "stdout",
     "output_type": "stream",
     "text": [
      "Locais com medições manuais e seus números:\n",
      "\n",
      "Cerqueira César                    1085\n",
      "Pinheiros                           555\n",
      "Ibirapuera                          494\n",
      "Campos Elíseos                      414\n",
      "Tatuapé                             413\n",
      "Cordeirópolis - Módolo              361\n",
      "Santa Gertrudes - Jd. Luciana       353\n",
      "Sorocaba - Centro                   342\n",
      "Salto - Centro                      342\n",
      "Itu - Centro                        324\n",
      "Jaboticabal - Jd Kennedy            304\n",
      "Jundiaí - Centro                    304\n",
      "Franca - Cidade Nova                300\n",
      "Guarujá - Vicente de Carvalho       288\n",
      "Osasco                              287\n",
      "Santo Amaro                         281\n",
      "São Carlos - Centro                 246\n",
      "Santo André - Capuava               240\n",
      "São Bernardo do Campo               224\n",
      "Cubatão - Vila Parisi               208\n",
      "Rio Claro - Jardim Guanabara        204\n",
      "Piracicaba - Algodoal               180\n",
      "Marg. Tietê - Pte dos Remédios      152\n",
      "Limeira - Boa Vista                 140\n",
      "Limeira - Centro                    112\n",
      "Franca - Centro                      96\n",
      "Taubaté - Centro                     89\n",
      "Santa Gertrudes                      75\n",
      "Barretos - América                   74\n",
      "Paulínia - João Aranha               58\n",
      "Paulínia - Bairro Cascata            57\n",
      "São Caetano do Sul                   44\n",
      "Ribeirão Preto - Campos Elíseos      27\n",
      "Name: Estacao, dtype: int64\n"
     ]
    }
   ],
   "source": [
    "print(f'Locais com medições manuais e seus números:\\n\\n{manual_measure_count}')"
   ]
  },
  {
   "cell_type": "markdown",
   "id": "fbafa141",
   "metadata": {},
   "source": [
    "### Valor"
   ]
  },
  {
   "cell_type": "markdown",
   "id": "8c1c29e5",
   "metadata": {},
   "source": [
    "Verificando se não há valores inexistentes (null ou nan):"
   ]
  },
  {
   "cell_type": "code",
   "execution_count": 82,
   "id": "8a721f4c",
   "metadata": {},
   "outputs": [
    {
     "name": "stdout",
     "output_type": "stream",
     "text": [
      "Número de valores inexistentes na coluna Valor: 0\n"
     ]
    }
   ],
   "source": [
    "print_null_values_count(data, 'Valor')"
   ]
  },
  {
   "cell_type": "markdown",
   "id": "06203cb0",
   "metadata": {},
   "source": [
    "Estatísticas gerais:"
   ]
  },
  {
   "cell_type": "code",
   "execution_count": 83,
   "id": "44485fea",
   "metadata": {
    "scrolled": true
   },
   "outputs": [
    {
     "data": {
      "text/plain": [
       "count    1.098052e+07\n",
       "mean     8.330876e+01\n",
       "std      2.500071e+02\n",
       "min      0.000000e+00\n",
       "25%      9.000000e+00\n",
       "50%      2.200000e+01\n",
       "75%      4.500000e+01\n",
       "max      9.981292e+03\n",
       "Name: Valor, dtype: float64"
      ]
     },
     "execution_count": 83,
     "metadata": {},
     "output_type": "execute_result"
    }
   ],
   "source": [
    "data['Valor'].describe()"
   ]
  },
  {
   "cell_type": "markdown",
   "id": "1b4ba1ba",
   "metadata": {},
   "source": [
    "Aqui notamos que os valores de concentrações possuem:\n",
    "\n",
    "- Desvio-padrão muito elevado, de 250, ou seja, dados muito dispersos;\n",
    "- Média de 83,3;\n",
    "- 25% dos valores menores ou iguais a 9;\n",
    "- 50% dos valores menores ou iguais a 22;\n",
    "- 75% dos valores menores ou iguais a 45;\n",
    "- Máximo extremamente elevado, de 9981.\n",
    "- Mínimo igual a 0.\n",
    "\n",
    "Assim, temos dados com valores muito diversificados e com concentração de valores muito grande para valores pequenos ($ <= 45\\frac{\\mu g}{m^{3}}$). Os outliers, enquanto isso, são extremamente discrepantes do restante dos dados, contribuindo para o alto desvio-padrão observado.\n",
    "\n",
    "Para conseguirmos observar bem a distribuição em cada intervalo de valores, teremos que verificar vários histogramas. Antes disso, verifiquemos como se comporta o boxplot:"
   ]
  },
  {
   "cell_type": "code",
   "execution_count": 26,
   "id": "b735f5d5",
   "metadata": {
    "scrolled": true
   },
   "outputs": [
    {
     "data": {
      "text/plain": [
       "Text(0.5, 1.0, 'Boxplot da coluna Valor')"
      ]
     },
     "execution_count": 26,
     "metadata": {},
     "output_type": "execute_result"
    },
    {
     "data": {
      "image/png": "[encoded data removed]",
      "text/plain": [
       "<Figure size 640x480 with 1 Axes>"
      ]
     },
     "metadata": {},
     "output_type": "display_data"
    }
   ],
   "source": [
    "plt.boxplot(data['Valor'])\n",
    "plt.title('Boxplot da coluna Valor')"
   ]
  },
  {
   "cell_type": "markdown",
   "id": "1bce0354",
   "metadata": {},
   "source": [
    "Vemos que, devido à quantidade imensa de dados (mais de 10 milhões) e à grande dispersão dos dados, com presença de outliers muito grandes, o boxplot se comporta de forma que não conseguimos enxergar bem os valores nos quartis. Podemos, no entanto, observar que de fato há outliers extremamente fora dos valores comumente encontrados no conjunto de dados."
   ]
  },
  {
   "cell_type": "markdown",
   "id": "ddb0db3e",
   "metadata": {},
   "source": [
    "Vamos verificar agora os histogramas para diferentes intervalos. Iremos analisar, por enquanto, 3 histogramas distintos:\n",
    "\n",
    "- Histograma de todos os dados (visão geral);\n",
    "- Histograma dos valores <= 3º quartil = 45;\n",
    "- Histograma dos valores >= 3º quartil = 45;"
   ]
  },
  {
   "cell_type": "code",
   "execution_count": 85,
   "id": "ce190f1f",
   "metadata": {},
   "outputs": [
    {
     "data": {
      "text/plain": [
       "[0.0, 500000.0, 1000000.0, 1500000.0, 2000000.0, 2500000.0]"
      ]
     },
     "execution_count": 85,
     "metadata": {},
     "output_type": "execute_result"
    }
   ],
   "source": [
    "[i*10**6 for i in np.arange(0.0, 3.0, 0.5)]\n"
   ]
  },
  {
   "cell_type": "code",
   "execution_count": 19,
   "id": "8d5371ae",
   "metadata": {},
   "outputs": [
    {
     "data": {
      "text/plain": [
       "Text(0.5, 1.0, 'Valores após o 3º quartil (25% dos valores) (valor > 45.0)')"
      ]
     },
     "execution_count": 19,
     "metadata": {},
     "output_type": "execute_result"
    },
    {
     "data": {
      "image/png": "[encoded data removed]",
      "text/plain": [
       "<Figure size 1000x1000 with 3 Axes>"
      ]
     },
     "metadata": {},
     "output_type": "display_data"
    }
   ],
   "source": [
    "third_quartile = data['Valor'].quantile(0.75)\n",
    "gs = gridspec.GridSpec(2, 2)\n",
    "\n",
    "fig = plt.figure(figsize=(10,10))\n",
    "ax1 = fig.add_subplot(gs[0, :])\n",
    "ax1.hist(data['Valor'], color = 'Darkblue')\n",
    "ax1.set_title('Histograma de todos os valores da coluna Valor')\n",
    "\n",
    "ticks = [i*10**6 for i in np.arange(0.0, 3.5, 0.5)]\n",
    "\n",
    "ax2 = fig.add_subplot(gs[1,0])\n",
    "ax2.hist(data[data['Valor'] <= third_quartile]['Valor'], color = 'Darkblue')\n",
    "ax2.set_yticks(ticks)\n",
    "ax2.set_ylim(0, 3*10**6)\n",
    "ax2.set_title(f'Valores antes do 3º quartil (75% dos valores) (valor <= {third_quartile})', fontsize = '10')\n",
    "\n",
    "ax3 = fig.add_subplot(gs[1,1])\n",
    "ax3.hist(data[data['Valor'] > third_quartile]['Valor'], color = 'Darkblue')\n",
    "ax3.set_yticks(ticks)\n",
    "ax3.set_ylim(0, 3*10**6)\n",
    "ax3.set_title(f'Valores após o 3º quartil (25% dos valores) (valor > {third_quartile})', fontsize = '10')"
   ]
  },
  {
   "cell_type": "markdown",
   "id": "39ec88ae",
   "metadata": {},
   "source": [
    "Com isso, podemos verificar que ainda há muitos valores maiores que o terceiro quartil, em relação aos outliers. Iremos plotar novos histogramas:\n",
    "\n",
    "- Histograma dos valores v tais que 45 <= v <= 45 + 1.5*dist_interquartilica\n",
    "- Histograma dos valores v tais que v >= 45 + 1.5*dist_interquartilica\n",
    "\n",
    "Obs: a distância (ou amplitude) interquartílica é definida como a diferença entre os valores do 3º e 1º quartis."
   ]
  },
  {
   "cell_type": "code",
   "execution_count": 24,
   "id": "668e5f0a",
   "metadata": {},
   "outputs": [
    {
     "data": {
      "text/plain": [
       "Text(0.5, 1.0, 'Valores outliers (valor > 99)')"
      ]
     },
     "execution_count": 24,
     "metadata": {},
     "output_type": "execute_result"
    },
    {
     "data": {
      "image/png": "[encoded data removed]",
      "text/plain": [
       "<Figure size 1000x400 with 2 Axes>"
      ]
     },
     "metadata": {},
     "output_type": "display_data"
    }
   ],
   "source": [
    "first_quartile = data['Valor'].quantile(0.25)\n",
    "third_quartile = data['Valor'].quantile(0.75)\n",
    "inter_dist = (third_quartile - first_quartile)\n",
    "outlier_threshold = int(third_quartile + 1.5*inter_dist)\n",
    "\n",
    "fig, axs = plt.subplots(1, 2, figsize = (10,4))\n",
    "\n",
    "ticks = [i*10**6 for i in np.arange(0.0, 3.5, 0.5)]\n",
    "\n",
    "axs[0].hist(data[(data['Valor'] <= outlier_threshold) & (data['Valor'] > third_quartile)]['Valor'], color = 'Darkblue')\n",
    "axs[0].set_yticks(ticks)\n",
    "axs[0].set_ylim(0, 3*10**6)\n",
    "axs[0].set_title(f'Valores após o 3º quartil e não-outliers ({third_quartile} < valor <= {outlier_threshold})', fontsize = '11')\n",
    "\n",
    "axs[1].hist(data[data['Valor'] > outlier_threshold]['Valor'], color = 'Darkblue')\n",
    "axs[1].set_yticks(ticks)\n",
    "axs[1].set_ylim(0, 3*10**6)\n",
    "axs[1].set_title(f'Valores outliers (valor > {outlier_threshold})', fontsize = '11')"
   ]
  },
  {
   "cell_type": "markdown",
   "id": "58aa9979",
   "metadata": {},
   "source": [
    "Por fim, iremos obter mais dois histogramas separando os maiores outliers:\n",
    "\n",
    "- Histograma dos valores v tais que 45 + 1.5*inter_dist <= v <= 1000 (valor escolhido com base nos gráficos anteriores)\n",
    "- Histograma dos valores >= 1000"
   ]
  },
  {
   "cell_type": "code",
   "execution_count": 25,
   "id": "9a5eb080",
   "metadata": {},
   "outputs": [
    {
     "data": {
      "text/plain": [
       "Text(0.5, 1.0, 'Maiores outliers (outliers > 1000)')"
      ]
     },
     "execution_count": 25,
     "metadata": {},
     "output_type": "execute_result"
    },
    {
     "data": {
      "image/png": "[encoded data removed]",
      "text/plain": [
       "<Figure size 1000x400 with 2 Axes>"
      ]
     },
     "metadata": {},
     "output_type": "display_data"
    }
   ],
   "source": [
    "first_quartile = data['Valor'].quantile(0.25)\n",
    "third_quartile = data['Valor'].quantile(0.75)\n",
    "inter_dist = (third_quartile - first_quartile)\n",
    "outlier_threshold = int(third_quartile + 1.5*inter_dist)\n",
    "big_outlier_threshold = 1000\n",
    "\n",
    "fig, axs = plt.subplots(1, 2, figsize = (10,4))\n",
    "\n",
    "ticks = [i*10**5 for i in np.arange(0.0, 3.5, 0.5)]\n",
    "\n",
    "axs[0].hist(data[(data['Valor'] > outlier_threshold) & (data['Valor'] <= big_outlier_threshold)]['Valor'], color = 'Darkblue')\n",
    "axs[0].set_yticks(ticks)\n",
    "axs[0].set_title(f'Menores outliers ({outlier_threshold} < outliers <= {big_outlier_threshold})')\n",
    "\n",
    "axs[1].hist(data[(data['Valor'] > big_outlier_threshold)]['Valor'], color = 'Darkblue')\n",
    "axs[1].set_yticks(ticks)\n",
    "axs[1].set_title(f'Maiores outliers (outliers > {big_outlier_threshold})')"
   ]
  },
  {
   "cell_type": "markdown",
   "id": "bb438c4e",
   "metadata": {},
   "source": [
    "---"
   ]
  },
  {
   "cell_type": "markdown",
   "id": "f05bda7a",
   "metadata": {},
   "source": [
    "## Análise multivariada: estudando colunas em conjunto"
   ]
  },
  {
   "cell_type": "code",
   "execution_count": 4,
   "id": "c56dbdc7",
   "metadata": {},
   "outputs": [
    {
     "data": {
      "text/html": [
       "<div>\n",
       "<style scoped>\n",
       "    .dataframe tbody tr th:only-of-type {\n",
       "        vertical-align: middle;\n",
       "    }\n",
       "\n",
       "    .dataframe tbody tr th {\n",
       "        vertical-align: top;\n",
       "    }\n",
       "\n",
       "    .dataframe thead th {\n",
       "        text-align: right;\n",
       "    }\n",
       "</style>\n",
       "<table border=\"1\" class=\"dataframe\">\n",
       "  <thead>\n",
       "    <tr style=\"text-align: right;\">\n",
       "      <th></th>\n",
       "      <th>ID</th>\n",
       "      <th>Data</th>\n",
       "      <th>Hora</th>\n",
       "      <th>Estacao</th>\n",
       "      <th>Codigo</th>\n",
       "      <th>Poluente</th>\n",
       "      <th>Valor</th>\n",
       "      <th>Unidade</th>\n",
       "      <th>Tipo</th>\n",
       "    </tr>\n",
       "  </thead>\n",
       "  <tbody>\n",
       "    <tr>\n",
       "      <th>0</th>\n",
       "      <td>0</td>\n",
       "      <td>2015-01-01</td>\n",
       "      <td>01:00</td>\n",
       "      <td>Americana - Vila Santa Maria</td>\n",
       "      <td>SP01</td>\n",
       "      <td>MP10</td>\n",
       "      <td>65.0</td>\n",
       "      <td>ug/m3</td>\n",
       "      <td>automatica</td>\n",
       "    </tr>\n",
       "    <tr>\n",
       "      <th>1</th>\n",
       "      <td>1</td>\n",
       "      <td>2015-01-01</td>\n",
       "      <td>02:00</td>\n",
       "      <td>Americana - Vila Santa Maria</td>\n",
       "      <td>SP01</td>\n",
       "      <td>MP10</td>\n",
       "      <td>98.0</td>\n",
       "      <td>ug/m3</td>\n",
       "      <td>automatica</td>\n",
       "    </tr>\n",
       "    <tr>\n",
       "      <th>2</th>\n",
       "      <td>2</td>\n",
       "      <td>2015-01-01</td>\n",
       "      <td>03:00</td>\n",
       "      <td>Americana - Vila Santa Maria</td>\n",
       "      <td>SP01</td>\n",
       "      <td>MP10</td>\n",
       "      <td>79.0</td>\n",
       "      <td>ug/m3</td>\n",
       "      <td>automatica</td>\n",
       "    </tr>\n",
       "    <tr>\n",
       "      <th>3</th>\n",
       "      <td>3</td>\n",
       "      <td>2015-01-01</td>\n",
       "      <td>04:00</td>\n",
       "      <td>Americana - Vila Santa Maria</td>\n",
       "      <td>SP01</td>\n",
       "      <td>MP10</td>\n",
       "      <td>53.0</td>\n",
       "      <td>ug/m3</td>\n",
       "      <td>automatica</td>\n",
       "    </tr>\n",
       "    <tr>\n",
       "      <th>4</th>\n",
       "      <td>4</td>\n",
       "      <td>2015-01-01</td>\n",
       "      <td>05:00</td>\n",
       "      <td>Americana - Vila Santa Maria</td>\n",
       "      <td>SP01</td>\n",
       "      <td>MP10</td>\n",
       "      <td>35.0</td>\n",
       "      <td>ug/m3</td>\n",
       "      <td>automatica</td>\n",
       "    </tr>\n",
       "  </tbody>\n",
       "</table>\n",
       "</div>"
      ],
      "text/plain": [
       "   ID        Data   Hora                       Estacao Codigo Poluente  Valor  \\\n",
       "0   0  2015-01-01  01:00  Americana - Vila Santa Maria   SP01     MP10   65.0   \n",
       "1   1  2015-01-01  02:00  Americana - Vila Santa Maria   SP01     MP10   98.0   \n",
       "2   2  2015-01-01  03:00  Americana - Vila Santa Maria   SP01     MP10   79.0   \n",
       "3   3  2015-01-01  04:00  Americana - Vila Santa Maria   SP01     MP10   53.0   \n",
       "4   4  2015-01-01  05:00  Americana - Vila Santa Maria   SP01     MP10   35.0   \n",
       "\n",
       "  Unidade        Tipo  \n",
       "0   ug/m3  automatica  \n",
       "1   ug/m3  automatica  \n",
       "2   ug/m3  automatica  \n",
       "3   ug/m3  automatica  \n",
       "4   ug/m3  automatica  "
      ]
     },
     "execution_count": 4,
     "metadata": {},
     "output_type": "execute_result"
    }
   ],
   "source": [
    "data.head()"
   ]
  },
  {
   "cell_type": "markdown",
   "id": "b9188be2",
   "metadata": {
    "hideCode": true
   },
   "source": [
    "Agora que sabemos as distribuições e estatísticas gerais de cada variável, vamos analisar a relação entre elas. Para isso, responderemos algumas perguntas:\n",
    "\n",
    "1) Qual a correlação entre a hora do dia e o valor da concentração de cada poluente, considerando os dados de todos os locais? Deve ser para cada poluente, pois não faz sentido analisar poluentes distintos juntos porque a ordem de grandeza de sua concentração média pode ser distinta.\n",
    "\n",
    "2) Qual a hora do dia em que a concentração média de poluição é a maior, considerando os dados de todos os locais? Se possível, faça uma comparação.\n",
    "\n",
    "3) Quais poluentes são medidos automaticamente e quais são medidos manualmente? Quais são as horas em que há medições automáticas e quais em que há medições manuais?\n",
    "\n",
    "4) Quais os poluentes que possuem valores de concentração danosos à saúde e quais as estações onde ocorreram essas medições?\n",
    "\n",
    "5) Como varia a concentração média de MP10 (o poluente mais medido) para cada local ao longo dos anos?"
   ]
  },
  {
   "cell_type": "markdown",
   "id": "14056268",
   "metadata": {},
   "source": [
    "Respondendo cada pergunta com base nos dados:"
   ]
  },
  {
   "cell_type": "markdown",
   "id": "c847d585",
   "metadata": {},
   "source": [
    "1) Qual a correlação entre a hora do dia e o valor da concentração para cada poluente, considerando os dados de todos os locais? Deve ser para cada poluente, pois não faz sentido analisar poluentes distintos juntos porque a ordem de grandeza de sua concentração média pode ser distinta.\n"
   ]
  },
  {
   "cell_type": "markdown",
   "id": "64d600e3",
   "metadata": {},
   "source": [
    "Para determinar a correlação entre a hora do dia e o valor da concentração no conjunto de dados, deveremos transformar a coluna Data, uma variável categórica, em uma variável numérica. Faremos isso apenas em um dataframe auxiliar para responder a pergunta, nomeado data_aux1."
   ]
  },
  {
   "cell_type": "code",
   "execution_count": 37,
   "id": "e4ad1dda",
   "metadata": {},
   "outputs": [],
   "source": [
    "data_aux1 = data.copy()\n",
    "\n",
    "def hour_to_num(hour):\n",
    "    hour_split = hour.split(':')\n",
    "    return float(hour_split[0]) + float(hour_split[1])/60\n",
    "\n",
    "data_aux1['Hora Numerica'] = data_aux1['Hora'].apply(hour_to_num)"
   ]
  },
  {
   "cell_type": "code",
   "execution_count": 42,
   "id": "9cb489b2",
   "metadata": {},
   "outputs": [
    {
     "data": {
      "text/plain": [
       "0    1.0\n",
       "1    2.0\n",
       "2    3.0\n",
       "3    4.0\n",
       "4    5.0\n",
       "Name: Hora Numerica, dtype: float64"
      ]
     },
     "execution_count": 42,
     "metadata": {},
     "output_type": "execute_result"
    }
   ],
   "source": [
    "data_aux['Hora Numerica'].head()"
   ]
  },
  {
   "cell_type": "markdown",
   "id": "774a5996",
   "metadata": {},
   "source": [
    "Obtendo agora a correlação:"
   ]
  },
  {
   "cell_type": "code",
   "execution_count": 38,
   "id": "7ffed5f6",
   "metadata": {},
   "outputs": [
    {
     "data": {
      "text/html": [
       "<div>\n",
       "<style scoped>\n",
       "    .dataframe tbody tr th:only-of-type {\n",
       "        vertical-align: middle;\n",
       "    }\n",
       "\n",
       "    .dataframe tbody tr th {\n",
       "        vertical-align: top;\n",
       "    }\n",
       "\n",
       "    .dataframe thead th {\n",
       "        text-align: right;\n",
       "    }\n",
       "</style>\n",
       "<table border=\"1\" class=\"dataframe\">\n",
       "  <thead>\n",
       "    <tr style=\"text-align: right;\">\n",
       "      <th></th>\n",
       "      <th>Valor</th>\n",
       "      <th>Hora Numerica</th>\n",
       "    </tr>\n",
       "  </thead>\n",
       "  <tbody>\n",
       "    <tr>\n",
       "      <th>Valor</th>\n",
       "      <td>1.000000</td>\n",
       "      <td>0.026789</td>\n",
       "    </tr>\n",
       "    <tr>\n",
       "      <th>Hora Numerica</th>\n",
       "      <td>0.026789</td>\n",
       "      <td>1.000000</td>\n",
       "    </tr>\n",
       "  </tbody>\n",
       "</table>\n",
       "</div>"
      ],
      "text/plain": [
       "                  Valor  Hora Numerica\n",
       "Valor          1.000000       0.026789\n",
       "Hora Numerica  0.026789       1.000000"
      ]
     },
     "execution_count": 38,
     "metadata": {},
     "output_type": "execute_result"
    }
   ],
   "source": [
    "data_aux1[['Valor', 'Hora Numerica']].corr()"
   ]
  },
  {
   "cell_type": "markdown",
   "id": "b6b697ec",
   "metadata": {},
   "source": [
    "Logo, o coeficiente de correlação entre o Valor e a Hora é de 0.026789. Esse coeficiente é positivo mas muito próximo de 0, indicando que quase não há correlação entre essas duas variáveis."
   ]
  },
  {
   "cell_type": "markdown",
   "id": "773f9334",
   "metadata": {},
   "source": [
    "2) Qual a hora do dia em que a concentração média de poluição é a maior e qual hora em que é menor, considerando todos os dados? Se possível, faça uma comparação."
   ]
  },
  {
   "cell_type": "markdown",
   "id": "b1c7c627",
   "metadata": {},
   "source": [
    "Criaremos o dataframe auxiliar data_aux2 para obter os valores das médias de concentração de poluentes para cada poluente."
   ]
  },
  {
   "cell_type": "code",
   "execution_count": 11,
   "id": "449ec2d1",
   "metadata": {},
   "outputs": [],
   "source": [
    "data_aux2 = data[['Hora', 'Valor']].groupby('Hora').mean().sort_values(by = 'Valor', ascending = False)"
   ]
  },
  {
   "cell_type": "code",
   "execution_count": 45,
   "id": "0e45ecb5",
   "metadata": {},
   "outputs": [
    {
     "data": {
      "text/html": [
       "<div>\n",
       "<style scoped>\n",
       "    .dataframe tbody tr th:only-of-type {\n",
       "        vertical-align: middle;\n",
       "    }\n",
       "\n",
       "    .dataframe tbody tr th {\n",
       "        vertical-align: top;\n",
       "    }\n",
       "\n",
       "    .dataframe thead th {\n",
       "        text-align: right;\n",
       "    }\n",
       "</style>\n",
       "<table border=\"1\" class=\"dataframe\">\n",
       "  <thead>\n",
       "    <tr style=\"text-align: right;\">\n",
       "      <th></th>\n",
       "      <th>Valor</th>\n",
       "    </tr>\n",
       "    <tr>\n",
       "      <th>Hora</th>\n",
       "      <th></th>\n",
       "    </tr>\n",
       "  </thead>\n",
       "  <tbody>\n",
       "    <tr>\n",
       "      <th>20:00</th>\n",
       "      <td>97.430774</td>\n",
       "    </tr>\n",
       "  </tbody>\n",
       "</table>\n",
       "</div>"
      ],
      "text/plain": [
       "           Valor\n",
       "Hora            \n",
       "20:00  97.430774"
      ]
     },
     "execution_count": 45,
     "metadata": {},
     "output_type": "execute_result"
    }
   ],
   "source": [
    "data_aux2.head(1)"
   ]
  },
  {
   "cell_type": "markdown",
   "id": "36d6cccc",
   "metadata": {},
   "source": [
    "A hora do dia com maior concentração média de poluentes é 20:00h."
   ]
  },
  {
   "cell_type": "code",
   "execution_count": 44,
   "id": "988097bd",
   "metadata": {
    "scrolled": true
   },
   "outputs": [
    {
     "data": {
      "text/html": [
       "<div>\n",
       "<style scoped>\n",
       "    .dataframe tbody tr th:only-of-type {\n",
       "        vertical-align: middle;\n",
       "    }\n",
       "\n",
       "    .dataframe tbody tr th {\n",
       "        vertical-align: top;\n",
       "    }\n",
       "\n",
       "    .dataframe thead th {\n",
       "        text-align: right;\n",
       "    }\n",
       "</style>\n",
       "<table border=\"1\" class=\"dataframe\">\n",
       "  <thead>\n",
       "    <tr style=\"text-align: right;\">\n",
       "      <th></th>\n",
       "      <th>Valor</th>\n",
       "    </tr>\n",
       "    <tr>\n",
       "      <th>Hora</th>\n",
       "      <th></th>\n",
       "    </tr>\n",
       "  </thead>\n",
       "  <tbody>\n",
       "    <tr>\n",
       "      <th>05:00</th>\n",
       "      <td>36.616766</td>\n",
       "    </tr>\n",
       "  </tbody>\n",
       "</table>\n",
       "</div>"
      ],
      "text/plain": [
       "           Valor\n",
       "Hora            \n",
       "05:00  36.616766"
      ]
     },
     "execution_count": 44,
     "metadata": {},
     "output_type": "execute_result"
    }
   ],
   "source": [
    "data_aux2.tail(1)"
   ]
  },
  {
   "cell_type": "markdown",
   "id": "63f03200",
   "metadata": {},
   "source": [
    "Por sua vez, a hora com menor concentração média de poluentes é 5:00h."
   ]
  },
  {
   "cell_type": "markdown",
   "id": "b779612d",
   "metadata": {},
   "source": [
    "Nessa análise, se diferentes poluentes forem medidos ou diferentes cidades tiverem suas medições em cada um dos horários, essa informação não terá muito significado. Para verificar se isso ocorre, vamos determinar quais poluentes são medidos às 20:00h e às 05:00h e quais as cidades que possuem medições nesses horários."
   ]
  },
  {
   "cell_type": "code",
   "execution_count": 34,
   "id": "e7520325",
   "metadata": {
    "scrolled": true
   },
   "outputs": [],
   "source": [
    "pol20 = data[data['Hora'] == '20:00']['Poluente'].unique()"
   ]
  },
  {
   "cell_type": "code",
   "execution_count": 35,
   "id": "7b0403af",
   "metadata": {
    "scrolled": true
   },
   "outputs": [],
   "source": [
    "pol5 = data[data['Hora'] == '05:00']['Poluente'].unique()"
   ]
  },
  {
   "cell_type": "code",
   "execution_count": 36,
   "id": "ccdf57c7",
   "metadata": {},
   "outputs": [
    {
     "data": {
      "text/plain": [
       "array([ True,  True,  True,  True,  True,  True,  True])"
      ]
     },
     "execution_count": 36,
     "metadata": {},
     "output_type": "execute_result"
    }
   ],
   "source": [
    "pol20 == pol5"
   ]
  },
  {
   "cell_type": "code",
   "execution_count": 38,
   "id": "662d2767",
   "metadata": {
    "scrolled": true
   },
   "outputs": [
    {
     "data": {
      "text/plain": [
       "array(['MP10', 'O3', 'NO2', 'CO', 'MP2.5', 'SO2', 'NO'], dtype=object)"
      ]
     },
     "execution_count": 38,
     "metadata": {},
     "output_type": "execute_result"
    }
   ],
   "source": [
    "pol20"
   ]
  },
  {
   "cell_type": "markdown",
   "id": "ce9fb4d0",
   "metadata": {},
   "source": [
    "Os 7 mesmos poluentes são medidos em ambos os horários."
   ]
  },
  {
   "cell_type": "code",
   "execution_count": 41,
   "id": "a5bd46ee",
   "metadata": {},
   "outputs": [],
   "source": [
    "sta1 = data[data['Hora'] == '20:00']['Estacao'].unique()"
   ]
  },
  {
   "cell_type": "code",
   "execution_count": 42,
   "id": "03dcc749",
   "metadata": {},
   "outputs": [],
   "source": [
    "sta2 = data[data['Hora'] == '05:00']['Estacao'].unique()"
   ]
  },
  {
   "cell_type": "code",
   "execution_count": 43,
   "id": "426c354f",
   "metadata": {
    "scrolled": true
   },
   "outputs": [
    {
     "data": {
      "text/plain": [
       "array([ True,  True,  True,  True,  True,  True,  True,  True,  True,\n",
       "        True,  True,  True,  True,  True,  True,  True,  True,  True,\n",
       "        True,  True,  True,  True,  True,  True,  True,  True,  True,\n",
       "        True,  True,  True,  True,  True,  True,  True,  True,  True,\n",
       "        True,  True,  True,  True,  True,  True,  True,  True,  True,\n",
       "        True,  True,  True,  True,  True,  True,  True,  True,  True,\n",
       "        True,  True,  True,  True,  True,  True,  True,  True,  True,\n",
       "        True,  True])"
      ]
     },
     "execution_count": 43,
     "metadata": {},
     "output_type": "execute_result"
    }
   ],
   "source": [
    "sta1 == sta2"
   ]
  },
  {
   "cell_type": "code",
   "execution_count": 46,
   "id": "15492a95",
   "metadata": {},
   "outputs": [
    {
     "data": {
      "text/plain": [
       "65"
      ]
     },
     "execution_count": 46,
     "metadata": {},
     "output_type": "execute_result"
    }
   ],
   "source": [
    "len(sta1)"
   ]
  },
  {
   "cell_type": "markdown",
   "id": "5fe44f03",
   "metadata": {},
   "source": [
    "Inclusive todos os mesmos 65 locais possuem medições em ambos os horários. Dessa forma, a comparação entre os valores médios nos dois horários é válida.\n",
    "\n",
    "Isso é bastante curioso, pois 65 é o número exato de locais em que há medições automáticas de poluentes, como vimos na análise univariada. Será que esses locais são justamente eles? Vamos verificar:"
   ]
  },
  {
   "cell_type": "code",
   "execution_count": 62,
   "id": "94fe4bc9",
   "metadata": {},
   "outputs": [
    {
     "data": {
      "text/plain": [
       "array([ True,  True,  True,  True,  True,  True,  True,  True,  True,\n",
       "        True,  True,  True,  True,  True,  True,  True,  True,  True,\n",
       "        True,  True,  True,  True,  True,  True,  True,  True,  True,\n",
       "        True,  True,  True,  True,  True,  True,  True,  True,  True,\n",
       "        True,  True,  True,  True,  True,  True,  True,  True,  True,\n",
       "        True,  True,  True,  True,  True,  True,  True,  True,  True,\n",
       "        True,  True,  True,  True,  True,  True,  True,  True,  True,\n",
       "        True,  True])"
      ]
     },
     "execution_count": 62,
     "metadata": {},
     "output_type": "execute_result"
    }
   ],
   "source": [
    "data[data['Tipo'] == 'automatica']['Estacao'].unique() == sta1"
   ]
  },
  {
   "cell_type": "markdown",
   "id": "f97ecf27",
   "metadata": {},
   "source": [
    "Vemos que sim! Os locais com medições às 20:00h e às 5:00h são justamente aqueles com medições automáticas.\n",
    "\n",
    "Podemos verificar isso também descobrindo quais são as horas em que há medições automáticas e quais em que há medições manuais. Responderemos isso na próxima pergunta."
   ]
  },
  {
   "cell_type": "markdown",
   "id": "987ce812",
   "metadata": {},
   "source": [
    "3) Quais poluentes são medidos automaticamente e quais são medidos manualmente? Quais são as horas em que há medições automáticas e quais em que há medições manuais?"
   ]
  },
  {
   "cell_type": "markdown",
   "id": "3b562a8b",
   "metadata": {},
   "source": [
    "A resposta da pergunta anterior nos instiga a pensar nas respostas dessa pergunta. Para determinarmos os poluentes, é bastante simples:"
   ]
  },
  {
   "cell_type": "code",
   "execution_count": 53,
   "id": "700f79b0",
   "metadata": {},
   "outputs": [
    {
     "name": "stdout",
     "output_type": "stream",
     "text": [
      "['MP10' 'O3' 'NO2' 'CO' 'MP2.5' 'SO2' 'NO']\n"
     ]
    }
   ],
   "source": [
    "auto_pol = data[data['Tipo'] == 'automatica']['Poluente'].unique()\n",
    "print(auto_pol)"
   ]
  },
  {
   "cell_type": "code",
   "execution_count": 54,
   "id": "e4408dda",
   "metadata": {},
   "outputs": [
    {
     "name": "stdout",
     "output_type": "stream",
     "text": [
      "['MP10' 'FMC' 'MP2.5' 'PTS' 'SO2']\n"
     ]
    }
   ],
   "source": [
    "manual_pol = data[data['Tipo'] == 'manual']['Poluente'].unique()\n",
    "print(manual_pol)"
   ]
  },
  {
   "cell_type": "markdown",
   "id": "a6d310eb",
   "metadata": {},
   "source": [
    "Há alguns poluentes que são medidos tanto automatica quanto manualmente. São eles:"
   ]
  },
  {
   "cell_type": "code",
   "execution_count": 59,
   "id": "6f4471e6",
   "metadata": {},
   "outputs": [
    {
     "name": "stdout",
     "output_type": "stream",
     "text": [
      "{'SO2', 'MP2.5', 'MP10'}\n"
     ]
    }
   ],
   "source": [
    "auto_manual_pol = set(auto_pol).intersection(set(manual_pol))\n",
    "print(auto_manual_pol)"
   ]
  },
  {
   "cell_type": "markdown",
   "id": "bf802c15",
   "metadata": {},
   "source": [
    "Para a segunda pergunta, precisamos fazer o seguinte:"
   ]
  },
  {
   "cell_type": "code",
   "execution_count": 68,
   "id": "49c086f6",
   "metadata": {},
   "outputs": [
    {
     "name": "stdout",
     "output_type": "stream",
     "text": [
      "['01:00' '02:00' '03:00' '04:00' '05:00' '06:00' '07:00' '08:00' '09:00'\n",
      " '10:00' '11:00' '12:00' '13:00' '14:00' '15:00' '16:00' '17:00' '18:00'\n",
      " '19:00' '20:00' '21:00' '22:00' '23:00' '23:55']\n"
     ]
    }
   ],
   "source": [
    "print(data[data['Tipo'] == 'automatica']['Hora'].unique())"
   ]
  },
  {
   "cell_type": "markdown",
   "id": "19db562a",
   "metadata": {},
   "source": [
    "Todas as horas do dia possuem medições automáticas."
   ]
  },
  {
   "cell_type": "code",
   "execution_count": 66,
   "id": "96d98e22",
   "metadata": {},
   "outputs": [
    {
     "name": "stdout",
     "output_type": "stream",
     "text": [
      "['01:00']\n"
     ]
    }
   ],
   "source": [
    "print(data[data['Tipo'] == 'manual']['Hora'].unique())"
   ]
  },
  {
   "cell_type": "markdown",
   "id": "45334be7",
   "metadata": {},
   "source": [
    "Enquanto isso, medições manuais aconteceram apenas às 01:00h."
   ]
  },
  {
   "cell_type": "markdown",
   "id": "731c5d57",
   "metadata": {},
   "source": [
    "4) Quais os poluentes que possuem valores de concentração danosos à saúde e quais as estações onde ocorreram essas medições?"
   ]
  },
  {
   "cell_type": "markdown",
   "id": "50922b73",
   "metadata": {},
   "source": [
    "Para responder esse questionamento, precisaremos da tabela que indica os intervalos de concentrações e seus níveis de perigo à saúde. Ela pode ser vista a seguir:"
   ]
  },
  {
   "cell_type": "code",
   "execution_count": 70,
   "id": "bf9f456c",
   "metadata": {
    "scrolled": true
   },
   "outputs": [
    {
     "data": {
      "image/png": "[encoded data removed]",
      "text/plain": [
       "<IPython.core.display.Image object>"
      ]
     },
     "execution_count": 70,
     "metadata": {},
     "output_type": "execute_result"
    }
   ],
   "source": [
    "display.Image('images/classificacoes_quantidade_poluentes.PNG')"
   ]
  },
  {
   "cell_type": "markdown",
   "id": "fe220383",
   "metadata": {},
   "source": [
    "Obs: iremos responder o questionamento apenas para os poluentes contidos na imagem.\n",
    "\n",
    "Vamos considerar como danosos à saúde os valores a partir da classe **ruim**. Assim, para cada poluente, teremos um limiar diferente que definirá os valores de concentração que procuraremos nos dados. Consideraremos esse limiar como o **menor valor** do intervalo indicado na tabela na linha da classe **ruim**. Assim, a seguir, criaremos um dicionário com esses limiares.\n",
    "\n",
    "Antes de mais nada, verificamos que a unidade da tabela para o CO está diferente. Ela está medindo a concentração em ppm (partes por milhão). Iremos transformar esse valor para micrograma por metro cúbico a seguir."
   ]
  },
  {
   "cell_type": "code",
   "execution_count": 410,
   "id": "4ee04293",
   "metadata": {},
   "outputs": [],
   "source": [
    "CO_molecular_mass = 28 # Massa molecular do CO, em g/mol\n",
    "molar_volume = 24.45 # Volume molar a 25ºC e 1 atm, em L.\n",
    "CO_threshold = round((11 * CO_molecular_mass/molar_volume)*10**3,1)"
   ]
  },
  {
   "cell_type": "code",
   "execution_count": 411,
   "id": "08019851",
   "metadata": {},
   "outputs": [],
   "source": [
    "bad_threshold = {'MP10': 100, 'MP2.5': 50, 'O3': 130, 'CO': CO_threshold, 'NO2': 240, 'SO2': 40}"
   ]
  },
  {
   "cell_type": "markdown",
   "id": "1a8f414d",
   "metadata": {},
   "source": [
    "Agora temos os limiares. Então, para cada um dos poluentes, iremos procurar nos dados os locais que apresentam poluição suficiente para danificar a saúde de uma pessoa:"
   ]
  },
  {
   "cell_type": "code",
   "execution_count": 420,
   "id": "5c11c6a6",
   "metadata": {},
   "outputs": [],
   "source": [
    "pols = ['MP10', 'MP2.5', 'O3', 'CO', 'NO2', 'SO2']"
   ]
  },
  {
   "cell_type": "code",
   "execution_count": 447,
   "id": "2dd0ae56",
   "metadata": {
    "scrolled": false
   },
   "outputs": [
    {
     "name": "stdout",
     "output_type": "stream",
     "text": [
      "Locais em que o poluente MP10 tem valor de concentração danoso à saúde:\n",
      "\n",
      "- Americana\n",
      "- Americana - Vila Santa Maria\n",
      "- Araraquara\n",
      "- Araçatuba\n",
      "- Bauru\n",
      "- Campinas - Centro\n",
      "- Campinas - Taquaral\n",
      "- Capão Redondo\n",
      "- Carapicuíba\n",
      "- Catanduva\n",
      "- Cerqueira César\n",
      "- Congonhas\n",
      "- Cordeirópolis - Módolo\n",
      "- Cubatão - Centro\n",
      "- Cubatão - Vale do Mogi\n",
      "- Cubatão - Vila Parisi\n",
      "- Diadema\n",
      "- Franca - Cidade Nova\n",
      "- Grajaú - Parelheiros\n",
      "- Guaratinguetá\n",
      "- Guarujá - Vicente de Carvalho\n",
      "- Guarulhos - Paço Municipal\n",
      "- Guarulhos - Pimentas\n",
      "- Interlagos\n",
      "- Itaim Paulista\n",
      "- Jaboticabal - Jd Kennedy\n",
      "- Jacareí\n",
      "- Jaú\n",
      "- Jundiaí\n",
      "- Limeira\n",
      "- Marg. Tietê - Pte dos Remédios\n",
      "- Marília\n",
      "- Mauá\n",
      "- Mogi das Cruzes - Centro\n",
      "- Mooca\n",
      "- Nossa Senhora do Ó\n",
      "- Osasco\n",
      "- Parque Dom Pedro II\n",
      "- Paulínia\n",
      "- Paulínia - Santa Terezinha\n",
      "- Paulínia - Sul\n",
      "- Perus\n",
      "- Pinheiros\n",
      "- Piracicaba\n",
      "- Piracicaba - Algodoal\n",
      "- Presidente Prudente\n",
      "- Ribeirão Preto\n",
      "- Rio Claro - Jardim Guanabara\n",
      "- Santa Gertrudes\n",
      "- Santa Gertrudes - Jd. Luciana\n",
      "- Santana\n",
      "- Santo Amaro\n",
      "- Santo André - Capuava\n",
      "- Santo André - Paço Municipal\n",
      "- Santos\n",
      "- Santos - Ponta da Praia\n",
      "- Sorocaba\n",
      "- São Bernardo do Campo - Paulicéia\n",
      "- São Caetano do Sul\n",
      "- São José do Rio Preto\n",
      "- São José dos Campos\n",
      "- São José dos Campos - Jardim Satélite\n",
      "- Taboão da Serra\n",
      "- Tatuí\n",
      "- Taubaté\n",
      "\n",
      "\n",
      "Locais em que o poluente MP2.5 tem valor de concentração danoso à saúde:\n",
      "\n",
      "- Campinas - Vila União\n",
      "- Cid.Universitária USP - IPEN\n",
      "- Congonhas\n",
      "- Grajaú - Parelheiros\n",
      "- Guaratinguetá\n",
      "- Guarulhos - Paço Municipal\n",
      "- Guarulhos - Pimentas\n",
      "- Ibirapuera\n",
      "- Itaim Paulista\n",
      "- Jundiaí\n",
      "- Limeira\n",
      "- Marg. Tietê - Pte dos Remédios\n",
      "- Mauá\n",
      "- Mooca\n",
      "- Osasco\n",
      "- Parque Dom Pedro II\n",
      "- Paulínia - Santa Terezinha\n",
      "- Paulínia - Sul\n",
      "- Perus\n",
      "- Pico do Jaraguá\n",
      "- Pinheiros\n",
      "- Piracicaba\n",
      "- Ribeirão Preto\n",
      "- Rio Claro - Jardim Guanabara\n",
      "- Santa Gertrudes\n",
      "- Santana\n",
      "- Santos - Ponta da Praia\n",
      "- São Bernardo do Campo - Centro\n",
      "- São Caetano do Sul\n",
      "- São José do Rio Preto\n",
      "- São José dos Campos - Jardim Satélite\n",
      "- Taubaté\n",
      "\n",
      "\n",
      "Locais em que o poluente O3 tem valor de concentração danoso à saúde:\n",
      "\n",
      "- Americana\n",
      "- Americana - Vila Santa Maria\n",
      "- Araraquara\n",
      "- Araçatuba\n",
      "- Bauru\n",
      "- Campinas - Taquaral\n",
      "- Campinas - Vila União\n",
      "- Capão Redondo\n",
      "- Carapicuíba\n",
      "- Catanduva\n",
      "- Cid.Universitária USP - IPEN\n",
      "- Cubatão - Centro\n",
      "- Cubatão - Vale do Mogi\n",
      "- Diadema\n",
      "- Grajaú - Parelheiros\n",
      "- Guaratinguetá\n",
      "- Guarulhos - Paço Municipal\n",
      "- Guarulhos - Pimentas\n",
      "- Ibirapuera\n",
      "- Interlagos\n",
      "- Itaim Paulista\n",
      "- Itaquera\n",
      "- Jacareí\n",
      "- Jaú\n",
      "- Jundiaí\n",
      "- Limeira\n",
      "- Marília\n",
      "- Mauá\n",
      "- Mogi das Cruzes - Centro\n",
      "- Mooca\n",
      "- Nossa Senhora do Ó\n",
      "- Parque Dom Pedro II\n",
      "- Paulínia\n",
      "- Paulínia - Santa Terezinha\n",
      "- Paulínia - Sul\n",
      "- Perus\n",
      "- Pico do Jaraguá\n",
      "- Pinheiros\n",
      "- Piracicaba\n",
      "- Presidente Prudente\n",
      "- Ribeirão Preto\n",
      "- Rio Claro - Jardim Guanabara\n",
      "- Santana\n",
      "- Santo Amaro\n",
      "- Santo André - Capuava\n",
      "- Santos\n",
      "- Santos - Ponta da Praia\n",
      "- Sorocaba\n",
      "- São Bernardo do Campo - Centro\n",
      "- São Caetano do Sul\n",
      "- São José do Rio Preto\n",
      "- São José dos Campos\n",
      "- São José dos Campos - Jardim Satélite\n",
      "- Tatuí\n",
      "- Taubaté\n",
      "\n",
      "\n",
      "Locais em que o poluente CO tem valor de concentração danoso à saúde:\n",
      "\n",
      "**Não há locais**\n",
      "\n",
      "\n",
      "Locais em que o poluente NO2 tem valor de concentração danoso à saúde:\n",
      "\n",
      "- Congonhas\n",
      "- Cubatão - Vale do Mogi\n",
      "- Cubatão - Vila Parisi\n",
      "- São Caetano do Sul\n",
      "\n",
      "\n",
      "Locais em que o poluente SO2 tem valor de concentração danoso à saúde:\n",
      "\n",
      "- Congonhas\n",
      "- Cubatão - Centro\n",
      "- Cubatão - Vale do Mogi\n",
      "- Cubatão - Vila Parisi\n",
      "- Guarulhos - Pimentas\n",
      "- Interlagos\n",
      "- Osasco\n",
      "- Paulínia\n",
      "- Paulínia - Santa Terezinha\n",
      "- Paulínia - Sul\n",
      "- Santo André - Capuava\n",
      "- Santos - Ponta da Praia\n",
      "- São Caetano do Sul\n",
      "- São José dos Campos\n",
      "\n",
      "\n"
     ]
    }
   ],
   "source": [
    "for pol in pols:\n",
    "    print(f'Locais em que o poluente {pol} tem valor de concentração danoso à saúde:\\n')\n",
    "    bad_values = sorted(data[(data['Valor'] > bad_threshold[pol]) & (data['Poluente'] == pol)]['Estacao'].unique())\n",
    "    if len(bad_values) == 0:\n",
    "        print('**Não há locais**')\n",
    "    else:\n",
    "        for value in bad_values:\n",
    "            print(f'- {value}')\n",
    "    print('\\n')"
   ]
  },
  {
   "cell_type": "markdown",
   "id": "509c16f3",
   "metadata": {},
   "source": [
    "Por fim, dentre todos esses locais, podemos descobrir aqueles em que a situação é drástica, ou seja, passa do maior valor que caracteriza uma condição **péssima**."
   ]
  },
  {
   "cell_type": "code",
   "execution_count": 456,
   "id": "e4975db4",
   "metadata": {},
   "outputs": [],
   "source": [
    "drastic_threshold = {'MP10': 600, 'MP2.5': 300, 'O3': 800, 'CO': round(50*CO_threshold/11, 1), 'NO2': 3750, 'SO2': 2620}"
   ]
  },
  {
   "cell_type": "code",
   "execution_count": 458,
   "id": "cae33c94",
   "metadata": {},
   "outputs": [
    {
     "name": "stdout",
     "output_type": "stream",
     "text": [
      "Locais em que o poluente MP10 tem valor de concentração drasticamente danoso à saúde:\n",
      "\n",
      "- Araraquara\n",
      "- Araçatuba\n",
      "- Cubatão - Centro\n",
      "- Cubatão - Vale do Mogi\n",
      "- Cubatão - Vila Parisi\n",
      "- Guarulhos - Pimentas\n",
      "- Marília\n",
      "- Paulínia - Sul\n",
      "- Presidente Prudente\n",
      "- Ribeirão Preto\n",
      "- Santa Gertrudes\n",
      "\n",
      "\n",
      "Locais em que o poluente MP2.5 tem valor de concentração drasticamente danoso à saúde:\n",
      "\n",
      "- Cid.Universitária USP - IPEN\n",
      "- Grajaú - Parelheiros\n",
      "- Guarulhos - Pimentas\n",
      "- Osasco\n",
      "- Paulínia - Sul\n",
      "- Perus\n",
      "- Pico do Jaraguá\n",
      "- Ribeirão Preto\n",
      "- Rio Claro - Jardim Guanabara\n",
      "- São José do Rio Preto\n",
      "\n",
      "\n",
      "Locais em que o poluente O3 tem valor de concentração drasticamente danoso à saúde:\n",
      "\n",
      "**Não há locais**\n",
      "\n",
      "\n",
      "Locais em que o poluente CO tem valor de concentração drasticamente danoso à saúde:\n",
      "\n",
      "**Não há locais**\n",
      "\n",
      "\n",
      "Locais em que o poluente NO2 tem valor de concentração drasticamente danoso à saúde:\n",
      "\n",
      "**Não há locais**\n",
      "\n",
      "\n",
      "Locais em que o poluente SO2 tem valor de concentração drasticamente danoso à saúde:\n",
      "\n",
      "- Cubatão - Centro\n",
      "\n",
      "\n"
     ]
    }
   ],
   "source": [
    "for pol in pols:\n",
    "    print(f'Locais em que o poluente {pol} tem valor de concentração drasticamente danoso à saúde:\\n')\n",
    "    drastic_values = sorted(data[(data['Valor'] > drastic_threshold[pol]) & (data['Poluente'] == pol)]['Estacao'].unique())\n",
    "    if len(drastic_values) == 0:\n",
    "        print('**Não há locais**')\n",
    "    else:\n",
    "        for value in drastic_values:\n",
    "            print(f'- {value}')\n",
    "    print('\\n')"
   ]
  },
  {
   "cell_type": "markdown",
   "id": "10acc036",
   "metadata": {},
   "source": [
    "5) Como varia a concentração média de MP10 (o poluente mais medido) para cada local ao longo dos anos?"
   ]
  },
  {
   "cell_type": "markdown",
   "id": "9ed4cdea",
   "metadata": {},
   "source": [
    "Para isso, devemos agrupar os valores médios por Ano e Estação e selecionar os valores apenas para o MP10. Criaremos primeiro uma coluna 'Ano' em um dataframe auxiliar:"
   ]
  },
  {
   "cell_type": "code",
   "execution_count": 4,
   "id": "207962b9",
   "metadata": {
    "scrolled": true
   },
   "outputs": [
    {
     "data": {
      "text/html": [
       "<div>\n",
       "<style scoped>\n",
       "    .dataframe tbody tr th:only-of-type {\n",
       "        vertical-align: middle;\n",
       "    }\n",
       "\n",
       "    .dataframe tbody tr th {\n",
       "        vertical-align: top;\n",
       "    }\n",
       "\n",
       "    .dataframe thead th {\n",
       "        text-align: right;\n",
       "    }\n",
       "</style>\n",
       "<table border=\"1\" class=\"dataframe\">\n",
       "  <thead>\n",
       "    <tr style=\"text-align: right;\">\n",
       "      <th></th>\n",
       "      <th>Data</th>\n",
       "      <th>Estacao</th>\n",
       "      <th>Valor</th>\n",
       "      <th>Unidade</th>\n",
       "      <th>Poluente</th>\n",
       "      <th>Ano</th>\n",
       "    </tr>\n",
       "  </thead>\n",
       "  <tbody>\n",
       "    <tr>\n",
       "      <th>0</th>\n",
       "      <td>2015-01-01</td>\n",
       "      <td>Americana - Vila Santa Maria</td>\n",
       "      <td>65.0</td>\n",
       "      <td>ug/m3</td>\n",
       "      <td>MP10</td>\n",
       "      <td>2015</td>\n",
       "    </tr>\n",
       "    <tr>\n",
       "      <th>1</th>\n",
       "      <td>2015-01-01</td>\n",
       "      <td>Americana - Vila Santa Maria</td>\n",
       "      <td>98.0</td>\n",
       "      <td>ug/m3</td>\n",
       "      <td>MP10</td>\n",
       "      <td>2015</td>\n",
       "    </tr>\n",
       "    <tr>\n",
       "      <th>2</th>\n",
       "      <td>2015-01-01</td>\n",
       "      <td>Americana - Vila Santa Maria</td>\n",
       "      <td>79.0</td>\n",
       "      <td>ug/m3</td>\n",
       "      <td>MP10</td>\n",
       "      <td>2015</td>\n",
       "    </tr>\n",
       "    <tr>\n",
       "      <th>3</th>\n",
       "      <td>2015-01-01</td>\n",
       "      <td>Americana - Vila Santa Maria</td>\n",
       "      <td>53.0</td>\n",
       "      <td>ug/m3</td>\n",
       "      <td>MP10</td>\n",
       "      <td>2015</td>\n",
       "    </tr>\n",
       "    <tr>\n",
       "      <th>4</th>\n",
       "      <td>2015-01-01</td>\n",
       "      <td>Americana - Vila Santa Maria</td>\n",
       "      <td>35.0</td>\n",
       "      <td>ug/m3</td>\n",
       "      <td>MP10</td>\n",
       "      <td>2015</td>\n",
       "    </tr>\n",
       "  </tbody>\n",
       "</table>\n",
       "</div>"
      ],
      "text/plain": [
       "         Data                       Estacao  Valor Unidade Poluente   Ano\n",
       "0  2015-01-01  Americana - Vila Santa Maria   65.0   ug/m3     MP10  2015\n",
       "1  2015-01-01  Americana - Vila Santa Maria   98.0   ug/m3     MP10  2015\n",
       "2  2015-01-01  Americana - Vila Santa Maria   79.0   ug/m3     MP10  2015\n",
       "3  2015-01-01  Americana - Vila Santa Maria   53.0   ug/m3     MP10  2015\n",
       "4  2015-01-01  Americana - Vila Santa Maria   35.0   ug/m3     MP10  2015"
      ]
     },
     "execution_count": 4,
     "metadata": {},
     "output_type": "execute_result"
    }
   ],
   "source": [
    "data_aux5 = data[['Data', 'Estacao', 'Valor', 'Unidade', 'Poluente']].copy()\n",
    "data_aux5['Ano'] = data_aux5['Data'].apply(lambda x: x.split('-')[0])\n",
    "data_aux5.head()"
   ]
  },
  {
   "cell_type": "code",
   "execution_count": 5,
   "id": "02de0680",
   "metadata": {},
   "outputs": [],
   "source": [
    "grouped_data_aux5 = data_aux5.groupby(by = ['Ano', 'Estacao', 'Poluente']).mean(numeric_only = True)"
   ]
  },
  {
   "cell_type": "code",
   "execution_count": 6,
   "id": "42812ea7",
   "metadata": {
    "scrolled": true
   },
   "outputs": [
    {
     "data": {
      "text/html": [
       "<div>\n",
       "<style scoped>\n",
       "    .dataframe tbody tr th:only-of-type {\n",
       "        vertical-align: middle;\n",
       "    }\n",
       "\n",
       "    .dataframe tbody tr th {\n",
       "        vertical-align: top;\n",
       "    }\n",
       "\n",
       "    .dataframe thead th {\n",
       "        text-align: right;\n",
       "    }\n",
       "</style>\n",
       "<table border=\"1\" class=\"dataframe\">\n",
       "  <thead>\n",
       "    <tr style=\"text-align: right;\">\n",
       "      <th></th>\n",
       "      <th></th>\n",
       "      <th></th>\n",
       "      <th>Valor</th>\n",
       "    </tr>\n",
       "    <tr>\n",
       "      <th>Ano</th>\n",
       "      <th>Estacao</th>\n",
       "      <th>Poluente</th>\n",
       "      <th></th>\n",
       "    </tr>\n",
       "  </thead>\n",
       "  <tbody>\n",
       "    <tr>\n",
       "      <th rowspan=\"5\" valign=\"top\">2015</th>\n",
       "      <th rowspan=\"2\" valign=\"top\">Americana - Vila Santa Maria</th>\n",
       "      <th>MP10</th>\n",
       "      <td>34.672023</td>\n",
       "    </tr>\n",
       "    <tr>\n",
       "      <th>O3</th>\n",
       "      <td>37.044484</td>\n",
       "    </tr>\n",
       "    <tr>\n",
       "      <th rowspan=\"3\" valign=\"top\">Araraquara</th>\n",
       "      <th>MP10</th>\n",
       "      <td>28.175888</td>\n",
       "    </tr>\n",
       "    <tr>\n",
       "      <th>NO2</th>\n",
       "      <td>18.020456</td>\n",
       "    </tr>\n",
       "    <tr>\n",
       "      <th>O3</th>\n",
       "      <td>43.049144</td>\n",
       "    </tr>\n",
       "  </tbody>\n",
       "</table>\n",
       "</div>"
      ],
      "text/plain": [
       "                                                Valor\n",
       "Ano  Estacao                      Poluente           \n",
       "2015 Americana - Vila Santa Maria MP10      34.672023\n",
       "                                  O3        37.044484\n",
       "     Araraquara                   MP10      28.175888\n",
       "                                  NO2       18.020456\n",
       "                                  O3        43.049144"
      ]
     },
     "execution_count": 6,
     "metadata": {},
     "output_type": "execute_result"
    }
   ],
   "source": [
    "grouped_data_aux5.head()"
   ]
  },
  {
   "cell_type": "markdown",
   "id": "d2819804",
   "metadata": {},
   "source": [
    "Escolhemos então os valores das concentrações de MP10 em cada local e em cada ano:"
   ]
  },
  {
   "cell_type": "code",
   "execution_count": 7,
   "id": "61f4ea9d",
   "metadata": {},
   "outputs": [
    {
     "data": {
      "text/html": [
       "<div>\n",
       "<style scoped>\n",
       "    .dataframe tbody tr th:only-of-type {\n",
       "        vertical-align: middle;\n",
       "    }\n",
       "\n",
       "    .dataframe tbody tr th {\n",
       "        vertical-align: top;\n",
       "    }\n",
       "\n",
       "    .dataframe thead th {\n",
       "        text-align: right;\n",
       "    }\n",
       "</style>\n",
       "<table border=\"1\" class=\"dataframe\">\n",
       "  <thead>\n",
       "    <tr style=\"text-align: right;\">\n",
       "      <th></th>\n",
       "      <th></th>\n",
       "      <th></th>\n",
       "      <th>Valor</th>\n",
       "    </tr>\n",
       "    <tr>\n",
       "      <th>Ano</th>\n",
       "      <th>Estacao</th>\n",
       "      <th>Poluente</th>\n",
       "      <th></th>\n",
       "    </tr>\n",
       "  </thead>\n",
       "  <tbody>\n",
       "    <tr>\n",
       "      <th rowspan=\"5\" valign=\"top\">2015</th>\n",
       "      <th>Americana - Vila Santa Maria</th>\n",
       "      <th>MP10</th>\n",
       "      <td>34.672023</td>\n",
       "    </tr>\n",
       "    <tr>\n",
       "      <th>Araraquara</th>\n",
       "      <th>MP10</th>\n",
       "      <td>28.175888</td>\n",
       "    </tr>\n",
       "    <tr>\n",
       "      <th>Araçatuba</th>\n",
       "      <th>MP10</th>\n",
       "      <td>26.263905</td>\n",
       "    </tr>\n",
       "    <tr>\n",
       "      <th>Barretos - América</th>\n",
       "      <th>MP10</th>\n",
       "      <td>32.787879</td>\n",
       "    </tr>\n",
       "    <tr>\n",
       "      <th>Bauru</th>\n",
       "      <th>MP10</th>\n",
       "      <td>26.228425</td>\n",
       "    </tr>\n",
       "    <tr>\n",
       "      <th>...</th>\n",
       "      <th>...</th>\n",
       "      <th>...</th>\n",
       "      <td>...</td>\n",
       "    </tr>\n",
       "    <tr>\n",
       "      <th rowspan=\"5\" valign=\"top\">2021</th>\n",
       "      <th>São José dos Campos</th>\n",
       "      <th>MP10</th>\n",
       "      <td>21.081588</td>\n",
       "    </tr>\n",
       "    <tr>\n",
       "      <th>São José dos Campos - Jardim Satélite</th>\n",
       "      <th>MP10</th>\n",
       "      <td>23.169612</td>\n",
       "    </tr>\n",
       "    <tr>\n",
       "      <th>Taboão da Serra</th>\n",
       "      <th>MP10</th>\n",
       "      <td>28.380856</td>\n",
       "    </tr>\n",
       "    <tr>\n",
       "      <th>Tatuí</th>\n",
       "      <th>MP10</th>\n",
       "      <td>19.542797</td>\n",
       "    </tr>\n",
       "    <tr>\n",
       "      <th>Taubaté</th>\n",
       "      <th>MP10</th>\n",
       "      <td>20.445324</td>\n",
       "    </tr>\n",
       "  </tbody>\n",
       "</table>\n",
       "<p>417 rows × 1 columns</p>\n",
       "</div>"
      ],
      "text/plain": [
       "                                                         Valor\n",
       "Ano  Estacao                               Poluente           \n",
       "2015 Americana - Vila Santa Maria          MP10      34.672023\n",
       "     Araraquara                            MP10      28.175888\n",
       "     Araçatuba                             MP10      26.263905\n",
       "     Barretos - América                    MP10      32.787879\n",
       "     Bauru                                 MP10      26.228425\n",
       "...                                                        ...\n",
       "2021 São José dos Campos                   MP10      21.081588\n",
       "     São José dos Campos - Jardim Satélite MP10      23.169612\n",
       "     Taboão da Serra                       MP10      28.380856\n",
       "     Tatuí                                 MP10      19.542797\n",
       "     Taubaté                               MP10      20.445324\n",
       "\n",
       "[417 rows x 1 columns]"
      ]
     },
     "execution_count": 7,
     "metadata": {},
     "output_type": "execute_result"
    }
   ],
   "source": [
    "# Outra possibilidade:\n",
    "# mp10_evolution = grouped_data_aux5.loc[:, :, 'MP10', :] --> sintaxe pior\n",
    "# A maneira correta de selecionar todo o conteúdo de um nível específico é usando slice(None).\n",
    "\n",
    "mp10_evolution = grouped_data_aux5.loc[(slice(None), slice(None), 'MP10'), :]\n",
    "mp10_evolution"
   ]
  },
  {
   "cell_type": "markdown",
   "id": "d5073013",
   "metadata": {},
   "source": [
    "Podemos, com isso, obter a evolução do valor médio de concentração de MP10 (Material particulado de diâmetro aerodinâmico menor ou igual a 10 micrômetros) para qualquer cidade. Tomemos a evolução, por exemplo, para a cidade de São José dos Campos, onde fica o ITA."
   ]
  },
  {
   "cell_type": "code",
   "execution_count": 8,
   "id": "08713d1d",
   "metadata": {},
   "outputs": [
    {
     "data": {
      "text/html": [
       "<div>\n",
       "<style scoped>\n",
       "    .dataframe tbody tr th:only-of-type {\n",
       "        vertical-align: middle;\n",
       "    }\n",
       "\n",
       "    .dataframe tbody tr th {\n",
       "        vertical-align: top;\n",
       "    }\n",
       "\n",
       "    .dataframe thead th {\n",
       "        text-align: right;\n",
       "    }\n",
       "</style>\n",
       "<table border=\"1\" class=\"dataframe\">\n",
       "  <thead>\n",
       "    <tr style=\"text-align: right;\">\n",
       "      <th></th>\n",
       "      <th></th>\n",
       "      <th></th>\n",
       "      <th>Valor</th>\n",
       "    </tr>\n",
       "    <tr>\n",
       "      <th>Ano</th>\n",
       "      <th>Estacao</th>\n",
       "      <th>Poluente</th>\n",
       "      <th></th>\n",
       "    </tr>\n",
       "  </thead>\n",
       "  <tbody>\n",
       "    <tr>\n",
       "      <th>2015</th>\n",
       "      <th>São José dos Campos</th>\n",
       "      <th>MP10</th>\n",
       "      <td>21.712327</td>\n",
       "    </tr>\n",
       "    <tr>\n",
       "      <th>2016</th>\n",
       "      <th>São José dos Campos</th>\n",
       "      <th>MP10</th>\n",
       "      <td>24.402103</td>\n",
       "    </tr>\n",
       "    <tr>\n",
       "      <th>2017</th>\n",
       "      <th>São José dos Campos</th>\n",
       "      <th>MP10</th>\n",
       "      <td>24.162997</td>\n",
       "    </tr>\n",
       "    <tr>\n",
       "      <th>2018</th>\n",
       "      <th>São José dos Campos</th>\n",
       "      <th>MP10</th>\n",
       "      <td>22.107338</td>\n",
       "    </tr>\n",
       "    <tr>\n",
       "      <th>2019</th>\n",
       "      <th>São José dos Campos</th>\n",
       "      <th>MP10</th>\n",
       "      <td>21.963634</td>\n",
       "    </tr>\n",
       "    <tr>\n",
       "      <th>2020</th>\n",
       "      <th>São José dos Campos</th>\n",
       "      <th>MP10</th>\n",
       "      <td>23.568240</td>\n",
       "    </tr>\n",
       "    <tr>\n",
       "      <th>2021</th>\n",
       "      <th>São José dos Campos</th>\n",
       "      <th>MP10</th>\n",
       "      <td>21.081588</td>\n",
       "    </tr>\n",
       "  </tbody>\n",
       "</table>\n",
       "</div>"
      ],
      "text/plain": [
       "                                       Valor\n",
       "Ano  Estacao             Poluente           \n",
       "2015 São José dos Campos MP10      21.712327\n",
       "2016 São José dos Campos MP10      24.402103\n",
       "2017 São José dos Campos MP10      24.162997\n",
       "2018 São José dos Campos MP10      22.107338\n",
       "2019 São José dos Campos MP10      21.963634\n",
       "2020 São José dos Campos MP10      23.568240\n",
       "2021 São José dos Campos MP10      21.081588"
      ]
     },
     "execution_count": 8,
     "metadata": {},
     "output_type": "execute_result"
    }
   ],
   "source": [
    "sjc_mp10_evolution = mp10_evolution.loc[(slice(None), 'São José dos Campos', slice(None)), :]\n",
    "sjc_mp10_evolution"
   ]
  },
  {
   "cell_type": "markdown",
   "id": "daa5e84d",
   "metadata": {},
   "source": [
    "Graficamente:"
   ]
  },
  {
   "cell_type": "code",
   "execution_count": 9,
   "id": "f4110b7f",
   "metadata": {},
   "outputs": [
    {
     "data": {
      "text/plain": [
       "Text(0, 0.5, 'Concentração de MP10')"
      ]
     },
     "execution_count": 9,
     "metadata": {},
     "output_type": "execute_result"
    },
    {
     "data": {
      "image/png": "[encoded data removed]",
      "text/plain": [
       "<Figure size 640x480 with 1 Axes>"
      ]
     },
     "metadata": {},
     "output_type": "display_data"
    }
   ],
   "source": [
    "sjc_mp10_values = sjc_mp10_evolution.values\n",
    "sjc_mp10_years = sjc_mp10_evolution.index.get_level_values(0)\n",
    "\n",
    "mp10_drop_percentage = (round(100 * abs((sjc_mp10_evolution.loc['2021'] - sjc_mp10_evolution.loc['2015'])\n",
    "                                        /sjc_mp10_evolution.loc['2015']).values[0][0], 0))\n",
    "                       \n",
    "plt.plot(sjc_mp10_years, sjc_mp10_values, color = 'darkblue')\n",
    "plt.suptitle('Evolução da concentração do poluente MP10 em São José dos Campos (SP)')\n",
    "plt.title(f'Em 2021, a concentração de MP10 no ar da cidade diminuiu quase {mp10_drop_percentage}% em relação a 2015.')\n",
    "plt.xlabel('Ano')\n",
    "plt.ylabel('Concentração de MP10')"
   ]
  },
  {
   "cell_type": "markdown",
   "id": "9277bd53",
   "metadata": {},
   "source": [
    "Com isso, fechamos análises multivariadas importantes sobre o conjunto de dados."
   ]
  },
  {
   "cell_type": "markdown",
   "id": "5a4eeeed",
   "metadata": {},
   "source": [
    "---"
   ]
  },
  {
   "cell_type": "markdown",
   "id": "efdb5892",
   "metadata": {},
   "source": [
    "## Conclusões"
   ]
  },
  {
   "cell_type": "markdown",
   "id": "e609c567",
   "metadata": {},
   "source": [
    "Com toda a análise que fizemos, conseguimos vários insights sobre a distribuição dos dados e também respostas para vários questionamentos acerca da relação entre os poluentes atmosféricos e suas medições no estado de São Paulo.\n",
    "\n",
    "Um resultado importante que foi obtido foram os locais que estão em situação drástica de poluição. Esses são aqueles nos quais ações governamentais voltadas à saúde pública e à diminuição da emissão de poluentes devem ser ampliadas com urgência, pois, de fato, a saúde da população em geral está sendo afetada negativamente devido à elevada concentração dos mais variados poluentes no ar. Tais locais, como vimos, são:\n",
    "\n",
    "- Araraquara\n",
    "- Araçatuba\n",
    "- Cubatão - Centro\n",
    "- Cubatão - Vale do Mogi\n",
    "- Cubatão - Vila Parisi\n",
    "- Guarulhos - Pimentas\n",
    "- Marília\n",
    "- Paulínia - Sul\n",
    "- Presidente Prudente\n",
    "- Ribeirão Preto\n",
    "- Santa Gertrudes\n",
    "- Cid.Universitária USP - IPEN\n",
    "- Grajaú - Parelheiros\n",
    "- Osasco\n",
    "- Perus\n",
    "- Pico do Jaraguá\n",
    "- Rio Claro - Jardim Guanabara\n",
    "- São José do Rio Preto\n",
    "\n",
    "Com os dados, ainda pode-se ver, para cada um desses locais, a evolução das concentrações de poluentes ao longo do tempo, sendo possível associar o histórico do local (em termos de quantidade de veículos e de indústrias, por exemplo) ao aumento da poluição atmosférica. A resposta do questionamento 5 mostra o passo-a-passo da obtenção gráfica da evolução das concentrações de um poluente com o tempo em uma dada cidade (no caso, São José dos Campos foi o exemplo escolhido).\n",
    "\n",
    "A aplicação de tecnologias de análises de dados proporciona, portanto, a descoberta de relações importantes entre variáveis que podem ser usadas para direcionar ações no enfrentamento de problemas. Assim, a análise de dados se configura como uma ferramenta de inteligência de negócios essencial para qualquer empresa, podendo ser aplicada em uma gama infinita de contextos para gerar resultados orientados por análises concretas - o trabalho feito sobre os dados atuais dos poluentes no estado de São Paulo é um dos exemplos de como a análise de dados pode ser utilizada para gerar insights valiosos."
   ]
  },
  {
   "cell_type": "markdown",
   "id": "9b7e9cfb",
   "metadata": {},
   "source": [
    "---"
   ]
  },
  {
   "cell_type": "markdown",
   "id": "3bb5e02d",
   "metadata": {},
   "source": [
    "### Salvando os dados reunidos em um único arquivo .csv"
   ]
  },
  {
   "cell_type": "code",
   "execution_count": 4,
   "id": "95a8fa0d",
   "metadata": {},
   "outputs": [
    {
     "name": "stdout",
     "output_type": "stream",
     "text": [
      "Dados salvos em data/SP_poluicao_dados.csv\n"
     ]
    }
   ],
   "source": [
    "data.to_csv('data/SP_poluicao_dados.csv')\n",
    "\n",
    "print('Dados salvos em data/SP_poluicao_dados.csv')"
   ]
  }
 ],
 "metadata": {
  "kernelspec": {
   "display_name": "Python 3 (ipykernel)",
   "language": "python",
   "name": "python3"
  },
  "language_info": {
   "codemirror_mode": {
    "name": "ipython",
    "version": 3
   },
   "file_extension": ".py",
   "mimetype": "text/x-python",
   "name": "python",
   "nbconvert_exporter": "python",
   "pygments_lexer": "ipython3",
   "version": "3.11.1"
  }
 },
 "nbformat": 4,
 "nbformat_minor": 5
}
