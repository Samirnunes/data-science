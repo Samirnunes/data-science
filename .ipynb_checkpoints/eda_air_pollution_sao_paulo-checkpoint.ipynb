{
 "cells": [
  {
   "cell_type": "markdown",
   "id": "acbae761",
   "metadata": {},
   "source": [
    "# Análise dos dados temporais de poluição no estado de São Paulo (2015-2021)"
   ]
  },
  {
   "cell_type": "markdown",
   "id": "0e19afd2",
   "metadata": {},
   "source": [
    "Fonte dos dados: IEMA (Instituto de Energia e Meio Ambiente)\n",
    "\n",
    "Link: https://energiaeambiente.org.br/qualidadedoar#secao-14"
   ]
  },
  {
   "cell_type": "markdown",
   "id": "4d803c43",
   "metadata": {},
   "source": [
    "## Importando bibliotecas"
   ]
  },
  {
   "cell_type": "code",
   "execution_count": 1,
   "id": "fba633fa",
   "metadata": {},
   "outputs": [],
   "source": [
    "import numpy as np\n",
    "import pandas as pd\n",
    "import matplotlib.pyplot as plt\n",
    "from pandasql import sqldf"
   ]
  },
  {
   "cell_type": "code",
   "execution_count": 2,
   "id": "8fffa1cc",
   "metadata": {},
   "outputs": [],
   "source": [
    "query = lambda q: sqldf(q, globals())"
   ]
  },
  {
   "cell_type": "markdown",
   "id": "10ef5597",
   "metadata": {},
   "source": [
    "## Importando os dados"
   ]
  },
  {
   "cell_type": "code",
   "execution_count": 3,
   "id": "ad3a27f5",
   "metadata": {},
   "outputs": [],
   "source": [
    "years = [str(y) for y in range(2015, 2022)] "
   ]
  },
  {
   "cell_type": "code",
   "execution_count": 4,
   "id": "feef9fac",
   "metadata": {},
   "outputs": [],
   "source": [
    "sp_pol = {}\n",
    "\n",
    "# Unindo dados do mesmo ano.\n",
    "for y in years:\n",
    "    first_df = pd.read_csv(f'data/SP{y}01.csv', encoding = 'latin-1')\n",
    "    sec_df = pd.read_csv(f'data/SP{y}02.csv', encoding = 'latin-1')\n",
    "    sp_pol[y] = pd.concat([first_df, sec_df])\n",
    "\n",
    "# Agora uniremos todos os dados em um mesmo dataframe que, por simplicidade, chamaremos de data.\n",
    "data = sp_pol[years[0]]\n",
    "    \n",
    "for y in years[1:]:\n",
    "    data = pd.concat([data, sp_pol[y]])\n",
    "\n",
    "data.reset_index(drop = True, inplace = True)\n",
    "data['ID'] = list(data.index)\n",
    "cols = data.columns.tolist()\n",
    "cols = cols[-1:] + cols[:-1]\n",
    "data = data[cols]"
   ]
  },
  {
   "cell_type": "code",
   "execution_count": 5,
   "id": "c14a3245",
   "metadata": {},
   "outputs": [],
   "source": [
    "station_code = data[['Estacao', 'Codigo']]"
   ]
  },
  {
   "cell_type": "markdown",
   "id": "08e5b589",
   "metadata": {},
   "source": [
    "### Salvando os dados reunidos em um único arquivo .csv"
   ]
  },
  {
   "cell_type": "code",
   "execution_count": 6,
   "id": "f97a7a26",
   "metadata": {},
   "outputs": [],
   "source": [
    "#data.to_csv('data/SP_poluicao_dados.csv')"
   ]
  },
  {
   "cell_type": "markdown",
   "id": "412c7735",
   "metadata": {},
   "source": [
    "---"
   ]
  },
  {
   "cell_type": "markdown",
   "id": "438444f0",
   "metadata": {},
   "source": [
    "## Data Profiling: visão e estatísticas gerais"
   ]
  },
  {
   "cell_type": "markdown",
   "id": "9a5e8159",
   "metadata": {},
   "source": [
    "### Quantidade de linhas e colunas"
   ]
  },
  {
   "cell_type": "code",
   "execution_count": 7,
   "id": "786701d4",
   "metadata": {
    "scrolled": true
   },
   "outputs": [
    {
     "name": "stdout",
     "output_type": "stream",
     "text": [
      "(linhas, colunas) : (10980515, 9)\n"
     ]
    }
   ],
   "source": [
    "print(f'(linhas, colunas) : {data.shape}')"
   ]
  },
  {
   "cell_type": "markdown",
   "id": "3a2a0fca",
   "metadata": {},
   "source": [
    "### Descrição das colunas"
   ]
  },
  {
   "cell_type": "code",
   "execution_count": 8,
   "id": "cd416ffd",
   "metadata": {},
   "outputs": [
    {
     "data": {
      "text/plain": [
       "ID            int64\n",
       "Data         object\n",
       "Hora         object\n",
       "Estacao      object\n",
       "Codigo       object\n",
       "Poluente     object\n",
       "Valor       float64\n",
       "Unidade      object\n",
       "Tipo         object\n",
       "dtype: object"
      ]
     },
     "execution_count": 8,
     "metadata": {},
     "output_type": "execute_result"
    }
   ],
   "source": [
    "data.dtypes"
   ]
  },
  {
   "cell_type": "markdown",
   "id": "a28bf555",
   "metadata": {},
   "source": [
    "__ID__: identificação, via índice inteiro, de cada registro do dataframe.\n",
    "\n",
    "__Data__: data em que foi feita a medição da concentração do poluente.\n",
    "\n",
    "__Hora__: hora em que foi feita a medição.\n",
    "\n",
    "__Estação__: local em que foi feita a medição.\n",
    "\n",
    "__Código__: código associado à estação em que foi realizada a medição.\n",
    "\n",
    "__Poluente__: poluente cuja concentração foi medida.\n",
    "\n",
    "__Valor__: valor, na unidade especificada, da concentração do poluente.\n",
    "\n",
    "__Unidade__: unidade de concentração utilizada.\n",
    "\n",
    "__Tipo__: como foi realizada a medição (de forma automática ou manual)"
   ]
  },
  {
   "cell_type": "markdown",
   "id": "d4c6728a",
   "metadata": {},
   "source": [
    "### Valores iniciais e finais do dataframe"
   ]
  },
  {
   "cell_type": "code",
   "execution_count": 9,
   "id": "f551ec80",
   "metadata": {},
   "outputs": [
    {
     "data": {
      "text/html": [
       "<div>\n",
       "<style scoped>\n",
       "    .dataframe tbody tr th:only-of-type {\n",
       "        vertical-align: middle;\n",
       "    }\n",
       "\n",
       "    .dataframe tbody tr th {\n",
       "        vertical-align: top;\n",
       "    }\n",
       "\n",
       "    .dataframe thead th {\n",
       "        text-align: right;\n",
       "    }\n",
       "</style>\n",
       "<table border=\"1\" class=\"dataframe\">\n",
       "  <thead>\n",
       "    <tr style=\"text-align: right;\">\n",
       "      <th></th>\n",
       "      <th>ID</th>\n",
       "      <th>Data</th>\n",
       "      <th>Hora</th>\n",
       "      <th>Estacao</th>\n",
       "      <th>Codigo</th>\n",
       "      <th>Poluente</th>\n",
       "      <th>Valor</th>\n",
       "      <th>Unidade</th>\n",
       "      <th>Tipo</th>\n",
       "    </tr>\n",
       "  </thead>\n",
       "  <tbody>\n",
       "    <tr>\n",
       "      <th>0</th>\n",
       "      <td>0</td>\n",
       "      <td>2015-01-01</td>\n",
       "      <td>01:00</td>\n",
       "      <td>Americana - Vila Santa Maria</td>\n",
       "      <td>SP01</td>\n",
       "      <td>MP10</td>\n",
       "      <td>65.0</td>\n",
       "      <td>ug/m3</td>\n",
       "      <td>automatica</td>\n",
       "    </tr>\n",
       "    <tr>\n",
       "      <th>1</th>\n",
       "      <td>1</td>\n",
       "      <td>2015-01-01</td>\n",
       "      <td>02:00</td>\n",
       "      <td>Americana - Vila Santa Maria</td>\n",
       "      <td>SP01</td>\n",
       "      <td>MP10</td>\n",
       "      <td>98.0</td>\n",
       "      <td>ug/m3</td>\n",
       "      <td>automatica</td>\n",
       "    </tr>\n",
       "    <tr>\n",
       "      <th>2</th>\n",
       "      <td>2</td>\n",
       "      <td>2015-01-01</td>\n",
       "      <td>03:00</td>\n",
       "      <td>Americana - Vila Santa Maria</td>\n",
       "      <td>SP01</td>\n",
       "      <td>MP10</td>\n",
       "      <td>79.0</td>\n",
       "      <td>ug/m3</td>\n",
       "      <td>automatica</td>\n",
       "    </tr>\n",
       "    <tr>\n",
       "      <th>3</th>\n",
       "      <td>3</td>\n",
       "      <td>2015-01-01</td>\n",
       "      <td>04:00</td>\n",
       "      <td>Americana - Vila Santa Maria</td>\n",
       "      <td>SP01</td>\n",
       "      <td>MP10</td>\n",
       "      <td>53.0</td>\n",
       "      <td>ug/m3</td>\n",
       "      <td>automatica</td>\n",
       "    </tr>\n",
       "    <tr>\n",
       "      <th>4</th>\n",
       "      <td>4</td>\n",
       "      <td>2015-01-01</td>\n",
       "      <td>05:00</td>\n",
       "      <td>Americana - Vila Santa Maria</td>\n",
       "      <td>SP01</td>\n",
       "      <td>MP10</td>\n",
       "      <td>35.0</td>\n",
       "      <td>ug/m3</td>\n",
       "      <td>automatica</td>\n",
       "    </tr>\n",
       "  </tbody>\n",
       "</table>\n",
       "</div>"
      ],
      "text/plain": [
       "   ID        Data   Hora                       Estacao Codigo Poluente  Valor  \\\n",
       "0   0  2015-01-01  01:00  Americana - Vila Santa Maria   SP01     MP10   65.0   \n",
       "1   1  2015-01-01  02:00  Americana - Vila Santa Maria   SP01     MP10   98.0   \n",
       "2   2  2015-01-01  03:00  Americana - Vila Santa Maria   SP01     MP10   79.0   \n",
       "3   3  2015-01-01  04:00  Americana - Vila Santa Maria   SP01     MP10   53.0   \n",
       "4   4  2015-01-01  05:00  Americana - Vila Santa Maria   SP01     MP10   35.0   \n",
       "\n",
       "  Unidade        Tipo  \n",
       "0   ug/m3  automatica  \n",
       "1   ug/m3  automatica  \n",
       "2   ug/m3  automatica  \n",
       "3   ug/m3  automatica  \n",
       "4   ug/m3  automatica  "
      ]
     },
     "execution_count": 9,
     "metadata": {},
     "output_type": "execute_result"
    }
   ],
   "source": [
    "data.head(5)"
   ]
  },
  {
   "cell_type": "code",
   "execution_count": 10,
   "id": "667b8176",
   "metadata": {
    "scrolled": true
   },
   "outputs": [
    {
     "data": {
      "text/html": [
       "<div>\n",
       "<style scoped>\n",
       "    .dataframe tbody tr th:only-of-type {\n",
       "        vertical-align: middle;\n",
       "    }\n",
       "\n",
       "    .dataframe tbody tr th {\n",
       "        vertical-align: top;\n",
       "    }\n",
       "\n",
       "    .dataframe thead th {\n",
       "        text-align: right;\n",
       "    }\n",
       "</style>\n",
       "<table border=\"1\" class=\"dataframe\">\n",
       "  <thead>\n",
       "    <tr style=\"text-align: right;\">\n",
       "      <th></th>\n",
       "      <th>ID</th>\n",
       "      <th>Data</th>\n",
       "      <th>Hora</th>\n",
       "      <th>Estacao</th>\n",
       "      <th>Codigo</th>\n",
       "      <th>Poluente</th>\n",
       "      <th>Valor</th>\n",
       "      <th>Unidade</th>\n",
       "      <th>Tipo</th>\n",
       "    </tr>\n",
       "  </thead>\n",
       "  <tbody>\n",
       "    <tr>\n",
       "      <th>10980510</th>\n",
       "      <td>10980510</td>\n",
       "      <td>2021-02-01</td>\n",
       "      <td>01:00</td>\n",
       "      <td>Tatuapé</td>\n",
       "      <td>SP76</td>\n",
       "      <td>SO2</td>\n",
       "      <td>3.0</td>\n",
       "      <td>ug/m3</td>\n",
       "      <td>manual</td>\n",
       "    </tr>\n",
       "    <tr>\n",
       "      <th>10980511</th>\n",
       "      <td>10980511</td>\n",
       "      <td>2021-03-01</td>\n",
       "      <td>01:00</td>\n",
       "      <td>Tatuapé</td>\n",
       "      <td>SP76</td>\n",
       "      <td>SO2</td>\n",
       "      <td>3.0</td>\n",
       "      <td>ug/m3</td>\n",
       "      <td>manual</td>\n",
       "    </tr>\n",
       "    <tr>\n",
       "      <th>10980512</th>\n",
       "      <td>10980512</td>\n",
       "      <td>2021-04-01</td>\n",
       "      <td>01:00</td>\n",
       "      <td>Tatuapé</td>\n",
       "      <td>SP76</td>\n",
       "      <td>SO2</td>\n",
       "      <td>3.0</td>\n",
       "      <td>ug/m3</td>\n",
       "      <td>manual</td>\n",
       "    </tr>\n",
       "    <tr>\n",
       "      <th>10980513</th>\n",
       "      <td>10980513</td>\n",
       "      <td>2021-05-01</td>\n",
       "      <td>01:00</td>\n",
       "      <td>Tatuapé</td>\n",
       "      <td>SP76</td>\n",
       "      <td>SO2</td>\n",
       "      <td>5.0</td>\n",
       "      <td>ug/m3</td>\n",
       "      <td>manual</td>\n",
       "    </tr>\n",
       "    <tr>\n",
       "      <th>10980514</th>\n",
       "      <td>10980514</td>\n",
       "      <td>2021-10-01</td>\n",
       "      <td>01:00</td>\n",
       "      <td>Tatuapé</td>\n",
       "      <td>SP76</td>\n",
       "      <td>SO2</td>\n",
       "      <td>3.0</td>\n",
       "      <td>ug/m3</td>\n",
       "      <td>manual</td>\n",
       "    </tr>\n",
       "  </tbody>\n",
       "</table>\n",
       "</div>"
      ],
      "text/plain": [
       "                ID        Data   Hora  Estacao Codigo Poluente  Valor Unidade  \\\n",
       "10980510  10980510  2021-02-01  01:00  Tatuapé   SP76      SO2    3.0   ug/m3   \n",
       "10980511  10980511  2021-03-01  01:00  Tatuapé   SP76      SO2    3.0   ug/m3   \n",
       "10980512  10980512  2021-04-01  01:00  Tatuapé   SP76      SO2    3.0   ug/m3   \n",
       "10980513  10980513  2021-05-01  01:00  Tatuapé   SP76      SO2    5.0   ug/m3   \n",
       "10980514  10980514  2021-10-01  01:00  Tatuapé   SP76      SO2    3.0   ug/m3   \n",
       "\n",
       "            Tipo  \n",
       "10980510  manual  \n",
       "10980511  manual  \n",
       "10980512  manual  \n",
       "10980513  manual  \n",
       "10980514  manual  "
      ]
     },
     "execution_count": 10,
     "metadata": {},
     "output_type": "execute_result"
    }
   ],
   "source": [
    "data.tail(5)"
   ]
  },
  {
   "cell_type": "markdown",
   "id": "c7680707",
   "metadata": {},
   "source": [
    "## Analisando cada coluna separadamente"
   ]
  },
  {
   "cell_type": "markdown",
   "id": "7e1a6d59",
   "metadata": {},
   "source": [
    "### Data"
   ]
  },
  {
   "cell_type": "markdown",
   "id": "26311f20",
   "metadata": {},
   "source": [
    "Verificando se não há valores nulos."
   ]
  },
  {
   "cell_type": "code",
   "execution_count": 11,
   "id": "89448a77",
   "metadata": {},
   "outputs": [
    {
     "data": {
      "text/plain": [
       "False    10980515\n",
       "Name: Data, dtype: int64"
      ]
     },
     "execution_count": 11,
     "metadata": {},
     "output_type": "execute_result"
    }
   ],
   "source": [
    "data['Data'].isnull().value_counts()"
   ]
  },
  {
   "cell_type": "code",
   "execution_count": 12,
   "id": "df18478d",
   "metadata": {},
   "outputs": [],
   "source": [
    "data_data_count = data['Data'].value_counts().sort_index()"
   ]
  },
  {
   "cell_type": "code",
   "execution_count": 13,
   "id": "c11e8559",
   "metadata": {},
   "outputs": [
    {
     "data": {
      "text/plain": [
       "count    2557.000000\n",
       "mean     4294.296050\n",
       "std       499.572604\n",
       "min      3233.000000\n",
       "25%      3978.000000\n",
       "50%      4169.000000\n",
       "75%      4532.000000\n",
       "max      5674.000000\n",
       "Name: Data, dtype: float64"
      ]
     },
     "execution_count": 13,
     "metadata": {},
     "output_type": "execute_result"
    }
   ],
   "source": [
    "data_data_count.describe()"
   ]
  },
  {
   "cell_type": "markdown",
   "id": "90d4807f",
   "metadata": {},
   "source": [
    "Temos uma quantidade elevada de datas distintas (2557) e com número de medições bem distribuídas, sem outliers muito grandes. Isso indica que a maioria das datas teve um número de medições de poluentes parecido. Podemos verificar isso em um histograma:"
   ]
  },
  {
   "cell_type": "code",
   "execution_count": 14,
   "id": "dde24033",
   "metadata": {
    "scrolled": true
   },
   "outputs": [
    {
     "data": {
      "image/png": "[encoded data removed]",
      "text/plain": [
       "<Figure size 640x480 with 1 Axes>"
      ]
     },
     "metadata": {},
     "output_type": "display_data"
    }
   ],
   "source": [
    "N, bins, patches = plt.hist(data_data_count)\n",
    "plt.xlabel('Contagem')\n",
    "plt.ylabel('Quantidade de datas com determinada contagem')\n",
    "plt.suptitle('Histograma da contagem das datas', fontsize = '16')\n",
    "plt.title('A maioria das datas possuem Nº de medições próximas da média de 4300 e não há outliers muito discrepantes desse valor.')\n",
    "for i in range(2, 6):\n",
    "    patches[i].set_facecolor('Darkblue')\n",
    "for i in range(0, 2):\n",
    "    patches[i].set_facecolor('Gray')\n",
    "for i in range(6, len(patches)):\n",
    "    patches[i].set_facecolor('Gray')"
   ]
  },
  {
   "cell_type": "markdown",
   "id": "96c6706e",
   "metadata": {},
   "source": [
    "### Hora"
   ]
  },
  {
   "cell_type": "markdown",
   "id": "02c2243d",
   "metadata": {},
   "source": [
    "Verificando se não há valores nulos."
   ]
  },
  {
   "cell_type": "code",
   "execution_count": 15,
   "id": "05eae360",
   "metadata": {},
   "outputs": [
    {
     "data": {
      "text/plain": [
       "False    10980515\n",
       "Name: Hora, dtype: int64"
      ]
     },
     "execution_count": 15,
     "metadata": {},
     "output_type": "execute_result"
    }
   ],
   "source": [
    "data['Hora'].isnull().value_counts()"
   ]
  },
  {
   "cell_type": "code",
   "execution_count": 16,
   "id": "cbb387d3",
   "metadata": {},
   "outputs": [],
   "source": [
    "data_hour_count = data['Hora'].value_counts().sort_index()"
   ]
  },
  {
   "cell_type": "code",
   "execution_count": 17,
   "id": "196c149e",
   "metadata": {},
   "outputs": [
    {
     "data": {
      "text/plain": [
       "count        24.000000\n",
       "mean     457521.458333\n",
       "std       24894.142328\n",
       "min      379531.000000\n",
       "25%      465003.000000\n",
       "50%      467204.500000\n",
       "75%      468774.750000\n",
       "max      469259.000000\n",
       "Name: Hora, dtype: float64"
      ]
     },
     "execution_count": 17,
     "metadata": {},
     "output_type": "execute_result"
    }
   ],
   "source": [
    "data_hour_count.describe()"
   ]
  },
  {
   "cell_type": "markdown",
   "id": "ea2a88f8",
   "metadata": {},
   "source": [
    "Por esses valores, vemos que todas as horas do dia possuem medições de poluentes catalogadas. Além disso, vemos que o valor mínimo é distante do 1º quartil, indicando que algumas horas do dia possuem medições bastante abaixo da mediana. Podemos verificar isso em um boxplot:"
   ]
  },
  {
   "cell_type": "code",
   "execution_count": 18,
   "id": "55e77679",
   "metadata": {},
   "outputs": [
    {
     "data": {
      "text/plain": [
       "Text(0.5, 1.0, 'Há 5 horários outliers em termos de quantidade de medições.')"
      ]
     },
     "execution_count": 18,
     "metadata": {},
     "output_type": "execute_result"
    },
    {
     "data": {
      "image/png": "[encoded data removed]",
      "text/plain": [
       "<Figure size 640x480 with 1 Axes>"
      ]
     },
     "metadata": {},
     "output_type": "display_data"
    }
   ],
   "source": [
    "plt.boxplot(data_hour_count)\n",
    "plt.ylabel('Contagem')\n",
    "plt.suptitle('Boxplot da contagem de medições para cada hora', fontsize = '16')\n",
    "plt.title('Há 5 horários outliers em termos de quantidade de medições.')"
   ]
  },
  {
   "cell_type": "markdown",
   "id": "7e059a1a",
   "metadata": {},
   "source": [
    "Com ele, podemos ver que há horas do dia em que tivemos medições abaixo da maioria. Podemos descobrir quais são fazendo:"
   ]
  },
  {
   "cell_type": "code",
   "execution_count": 19,
   "id": "f68da8b4",
   "metadata": {},
   "outputs": [
    {
     "data": {
      "text/plain": [
       "01:00    383679\n",
       "02:00    457630\n",
       "04:00    440328\n",
       "05:00    435875\n",
       "06:00    379531\n",
       "Name: Hora, dtype: int64"
      ]
     },
     "execution_count": 19,
     "metadata": {},
     "output_type": "execute_result"
    }
   ],
   "source": [
    "hour_first_quartile = data_hour_count.quantile(0.25)\n",
    "hour_third_quartile = data_hour_count.quantile(0.75)\n",
    "inter_dist = hour_third_quartile - hour_first_quartile # Distância interquartílica.\n",
    "data_hour_count[data_hour_count < hour_first_quartile - 1.5*(inter_dist)]"
   ]
  },
  {
   "cell_type": "markdown",
   "id": "85490bcf",
   "metadata": {},
   "source": [
    "Vemos que são justamente os horários da madrugada/começo da manhã."
   ]
  },
  {
   "cell_type": "markdown",
   "id": "378274ea",
   "metadata": {},
   "source": [
    "### Estação e Código"
   ]
  },
  {
   "cell_type": "markdown",
   "id": "b7eb0718",
   "metadata": {},
   "source": [
    "Estação e Código possuem relação de 1:1, então esperamos que a contagem seja a mesma."
   ]
  },
  {
   "cell_type": "code",
   "execution_count": 20,
   "id": "864da9b8",
   "metadata": {},
   "outputs": [],
   "source": [
    "data_station_count = data['Estacao'].value_counts()"
   ]
  },
  {
   "cell_type": "code",
   "execution_count": 21,
   "id": "139839c3",
   "metadata": {},
   "outputs": [],
   "source": [
    "data_code_count = data['Codigo'].value_counts()"
   ]
  },
  {
   "cell_type": "code",
   "execution_count": 22,
   "id": "e58c47c2",
   "metadata": {
    "scrolled": false
   },
   "outputs": [
    {
     "data": {
      "text/plain": [
       "count        90.000000\n",
       "mean     122005.722222\n",
       "std       94709.725805\n",
       "min          27.000000\n",
       "25%         413.250000\n",
       "50%      139536.500000\n",
       "75%      194896.000000\n",
       "max      287897.000000\n",
       "Name: Estacao, dtype: float64"
      ]
     },
     "execution_count": 22,
     "metadata": {},
     "output_type": "execute_result"
    }
   ],
   "source": [
    "data_station_count.describe()"
   ]
  },
  {
   "cell_type": "code",
   "execution_count": 23,
   "id": "f34725d3",
   "metadata": {
    "scrolled": true
   },
   "outputs": [
    {
     "data": {
      "text/plain": [
       "count        87.000000\n",
       "mean     126212.816092\n",
       "std       93787.137514\n",
       "min          27.000000\n",
       "25%       15668.500000\n",
       "50%      144612.000000\n",
       "75%      198590.500000\n",
       "max      287897.000000\n",
       "Name: Codigo, dtype: float64"
      ]
     },
     "execution_count": 23,
     "metadata": {},
     "output_type": "execute_result"
    }
   ],
   "source": [
    "data_code_count.describe()"
   ]
  },
  {
   "cell_type": "markdown",
   "id": "0c9a4e0c",
   "metadata": {},
   "source": [
    "Vemos que não acontece o esperado: temos uma contagem de códigos menor que a de estações. Vamos tentar buscar o porquê, analisando:\n",
    "\n",
    "- Presença de valores nulos.\n",
    "- Presença de códigos iguais para diferentes localidades."
   ]
  },
  {
   "cell_type": "markdown",
   "id": "25f32c77",
   "metadata": {},
   "source": [
    "Presença de valores nulos"
   ]
  },
  {
   "cell_type": "code",
   "execution_count": 24,
   "id": "388f3c08",
   "metadata": {},
   "outputs": [
    {
     "data": {
      "text/html": [
       "<div>\n",
       "<style scoped>\n",
       "    .dataframe tbody tr th:only-of-type {\n",
       "        vertical-align: middle;\n",
       "    }\n",
       "\n",
       "    .dataframe tbody tr th {\n",
       "        vertical-align: top;\n",
       "    }\n",
       "\n",
       "    .dataframe thead th {\n",
       "        text-align: right;\n",
       "    }\n",
       "</style>\n",
       "<table border=\"1\" class=\"dataframe\">\n",
       "  <thead>\n",
       "    <tr style=\"text-align: right;\">\n",
       "      <th></th>\n",
       "      <th>ID</th>\n",
       "      <th>Data</th>\n",
       "      <th>Hora</th>\n",
       "      <th>Estacao</th>\n",
       "      <th>Codigo</th>\n",
       "      <th>Poluente</th>\n",
       "      <th>Valor</th>\n",
       "      <th>Unidade</th>\n",
       "      <th>Tipo</th>\n",
       "    </tr>\n",
       "  </thead>\n",
       "  <tbody>\n",
       "  </tbody>\n",
       "</table>\n",
       "</div>"
      ],
      "text/plain": [
       "Empty DataFrame\n",
       "Columns: [ID, Data, Hora, Estacao, Codigo, Poluente, Valor, Unidade, Tipo]\n",
       "Index: []"
      ]
     },
     "execution_count": 24,
     "metadata": {},
     "output_type": "execute_result"
    }
   ],
   "source": [
    "data[data['Codigo'].isnull() == True]"
   ]
  },
  {
   "cell_type": "markdown",
   "id": "3cfafd04",
   "metadata": {},
   "source": [
    "Não há valores nulos na coluna 'Codigo'."
   ]
  },
  {
   "cell_type": "markdown",
   "id": "ff605259",
   "metadata": {},
   "source": [
    "Presença de códigos iguais para diferentes localidades"
   ]
  },
  {
   "cell_type": "code",
   "execution_count": 25,
   "id": "97918138",
   "metadata": {
    "deletable": false,
    "editable": false
   },
   "outputs": [
    {
     "data": {
      "text/html": [
       "<div>\n",
       "<style scoped>\n",
       "    .dataframe tbody tr th:only-of-type {\n",
       "        vertical-align: middle;\n",
       "    }\n",
       "\n",
       "    .dataframe tbody tr th {\n",
       "        vertical-align: top;\n",
       "    }\n",
       "\n",
       "    .dataframe thead th {\n",
       "        text-align: right;\n",
       "    }\n",
       "</style>\n",
       "<table border=\"1\" class=\"dataframe\">\n",
       "  <thead>\n",
       "    <tr style=\"text-align: right;\">\n",
       "      <th></th>\n",
       "      <th>Codigo</th>\n",
       "      <th>Estacao</th>\n",
       "    </tr>\n",
       "  </thead>\n",
       "  <tbody>\n",
       "    <tr>\n",
       "      <th>0</th>\n",
       "      <td>SP04</td>\n",
       "      <td>Guaratinguetá</td>\n",
       "    </tr>\n",
       "    <tr>\n",
       "      <th>1</th>\n",
       "      <td>SP04</td>\n",
       "      <td>Guaratingueta</td>\n",
       "    </tr>\n",
       "    <tr>\n",
       "      <th>2</th>\n",
       "      <td>SP17</td>\n",
       "      <td>Cordeirópolis - Módolo</td>\n",
       "    </tr>\n",
       "    <tr>\n",
       "      <th>3</th>\n",
       "      <td>SP17</td>\n",
       "      <td>Cordeiropolis - Modolo</td>\n",
       "    </tr>\n",
       "    <tr>\n",
       "      <th>4</th>\n",
       "      <td>SP23</td>\n",
       "      <td>Guarujá - Vicente de Carvalho</td>\n",
       "    </tr>\n",
       "    <tr>\n",
       "      <th>5</th>\n",
       "      <td>SP23</td>\n",
       "      <td>Guaruja - Vicente de Carvalho</td>\n",
       "    </tr>\n",
       "  </tbody>\n",
       "</table>\n",
       "</div>"
      ],
      "text/plain": [
       "  Codigo                        Estacao\n",
       "0   SP04                  Guaratinguetá\n",
       "1   SP04                  Guaratingueta\n",
       "2   SP17         Cordeirópolis - Módolo\n",
       "3   SP17         Cordeiropolis - Modolo\n",
       "4   SP23  Guarujá - Vicente de Carvalho\n",
       "5   SP23  Guaruja - Vicente de Carvalho"
      ]
     },
     "execution_count": 25,
     "metadata": {},
     "output_type": "execute_result"
    }
   ],
   "source": [
    "query('''\n",
    "    SELECT x.Codigo, x.Estacao \n",
    "    FROM \n",
    "        (SELECT DISTINCT Codigo, Estacao FROM data) x,\n",
    "        (SELECT DISTINCT Codigo, Estacao FROM data) y\n",
    "    WHERE x.Codigo = y.Codigo\n",
    "    AND x.Estacao <> y.Estacao\n",
    "    ORDER BY x.Codigo\n",
    "''')"
   ]
  },
  {
   "cell_type": "markdown",
   "id": "d5276c38",
   "metadata": {},
   "source": [
    "Achamos o problema! Vamos corrigí-lo adicionando acentos em todas as estações sem acento."
   ]
  },
  {
   "cell_type": "code",
   "execution_count": 26,
   "id": "50b516b4",
   "metadata": {},
   "outputs": [],
   "source": [
    "data.loc[data['Estacao'] == 'Guaratingueta', 'Estacao'] = 'Guaratinguetá'\n",
    "data.loc[data['Estacao'] == 'Cordeiropolis - Modolo', 'Estacao'] = 'Cordeirópolis - Módolo'\n",
    "data.loc[data['Estacao'] == 'Guaruja - Vicente de Carvalho', 'Estacao'] = 'Guarujá - Vicente de Carvalho'"
   ]
  },
  {
   "cell_type": "markdown",
   "id": "86445bc9",
   "metadata": {},
   "source": [
    "Atualizando as variáveis"
   ]
  },
  {
   "cell_type": "code",
   "execution_count": 27,
   "id": "266a07fe",
   "metadata": {},
   "outputs": [],
   "source": [
    "data_station_count = data['Estacao'].value_counts()\n",
    "data_code_count = data['Codigo'].value_counts()"
   ]
  },
  {
   "cell_type": "code",
   "execution_count": 28,
   "id": "bcb63851",
   "metadata": {},
   "outputs": [
    {
     "data": {
      "text/plain": [
       "count        87.000000\n",
       "mean     126212.816092\n",
       "std       93787.137514\n",
       "min          27.000000\n",
       "25%       15668.500000\n",
       "50%      144612.000000\n",
       "75%      198590.500000\n",
       "max      287897.000000\n",
       "Name: Estacao, dtype: float64"
      ]
     },
     "execution_count": 28,
     "metadata": {},
     "output_type": "execute_result"
    }
   ],
   "source": [
    "data_station_count.describe()"
   ]
  },
  {
   "cell_type": "code",
   "execution_count": 29,
   "id": "acef6258",
   "metadata": {
    "scrolled": true
   },
   "outputs": [
    {
     "data": {
      "text/plain": [
       "count        87.000000\n",
       "mean     126212.816092\n",
       "std       93787.137514\n",
       "min          27.000000\n",
       "25%       15668.500000\n",
       "50%      144612.000000\n",
       "75%      198590.500000\n",
       "max      287897.000000\n",
       "Name: Codigo, dtype: float64"
      ]
     },
     "execution_count": 29,
     "metadata": {},
     "output_type": "execute_result"
    }
   ],
   "source": [
    "data_code_count.describe()"
   ]
  },
  {
   "cell_type": "markdown",
   "id": "554321e0",
   "metadata": {},
   "source": [
    "### Poluente"
   ]
  },
  {
   "cell_type": "markdown",
   "id": "d53366e4",
   "metadata": {},
   "source": [
    "Verificando se não há valores nulos."
   ]
  },
  {
   "cell_type": "code",
   "execution_count": 7,
   "id": "75baa711",
   "metadata": {},
   "outputs": [
    {
     "data": {
      "text/plain": [
       "False    10980515\n",
       "Name: Poluente, dtype: int64"
      ]
     },
     "execution_count": 7,
     "metadata": {},
     "output_type": "execute_result"
    }
   ],
   "source": [
    "data['Poluente'].isnull().value_counts()"
   ]
  },
  {
   "cell_type": "code",
   "execution_count": 7,
   "id": "38b8381b",
   "metadata": {},
   "outputs": [],
   "source": [
    "pol_count = data['Poluente'].value_counts()"
   ]
  },
  {
   "cell_type": "code",
   "execution_count": 9,
   "id": "ce17160c",
   "metadata": {},
   "outputs": [
    {
     "data": {
      "text/plain": [
       "MP10     2883216\n",
       "O3       2647308\n",
       "NO2      2176814\n",
       "MP2.5    1224587\n",
       "CO        899056\n",
       "SO2       796305\n",
       "NO        347840\n",
       "FMC         3679\n",
       "PTS         1710\n",
       "Name: Poluente, dtype: int64"
      ]
     },
     "execution_count": 9,
     "metadata": {},
     "output_type": "execute_result"
    }
   ],
   "source": [
    "pol_count"
   ]
  },
  {
   "cell_type": "code",
   "execution_count": 33,
   "id": "41051a7f",
   "metadata": {},
   "outputs": [
    {
     "data": {
      "text/plain": [
       "count    9.000000e+00\n",
       "mean     1.220057e+06\n",
       "std      1.102603e+06\n",
       "min      1.710000e+03\n",
       "25%      3.478400e+05\n",
       "50%      8.990560e+05\n",
       "75%      2.176814e+06\n",
       "max      2.883216e+06\n",
       "Name: Poluente, dtype: float64"
      ]
     },
     "execution_count": 33,
     "metadata": {},
     "output_type": "execute_result"
    }
   ],
   "source": [
    "pol_count.describe()"
   ]
  },
  {
   "cell_type": "markdown",
   "id": "894f531f",
   "metadata": {},
   "source": [
    "Temos 9 poluentes distintos. Notamos que o MP10, o O3 e o NO2 são aqueles que, de longe, são os mais medidos. Enquanto isso, estações medindo FMC e PTS são muito escassas. Podemos verificar a distribuição do número medições através de um histograma:"
   ]
  },
  {
   "cell_type": "code",
   "execution_count": 8,
   "id": "57cef335",
   "metadata": {},
   "outputs": [
    {
     "data": {
      "image/png": "[encoded data removed]",
      "text/plain": [
       "<Figure size 640x480 with 1 Axes>"
      ]
     },
     "metadata": {},
     "output_type": "display_data"
    }
   ],
   "source": [
    "N, bins, patches = plt.hist(pol_count)\n",
    "plt.xlabel('Nº de medições')\n",
    "plt.ylabel('Nº de poluentes com determinado nº de medições')\n",
    "plt.suptitle('Histograma da contagem de medições por poluentes', fontsize = '16')\n",
    "more_measures = ['MP10', 'O3', 'NO2']\n",
    "less_measures = ['MP2.5', 'CO', 'SO2', 'NO', 'FMC', 'PTS']\n",
    "more_measures_rate = sum(pol_count[more_measures])/(sum(pol_count[less_measures]))\n",
    "plt.title(f'Os poluentes MP10, O3 e NO2, somados, possuem um número de medições {round(more_measures_rate,1)} vezes maior que os outros poluentes somados.')\n",
    "patches[len(patches) - 1].set_facecolor('Darkblue')\n",
    "patches[len(patches) - 3].set_facecolor('Darkblue')\n",
    "for i in range(0, len(patches) - 3):\n",
    "    patches[i].set_facecolor('Gray')"
   ]
  },
  {
   "cell_type": "markdown",
   "id": "55252150",
   "metadata": {},
   "source": [
    "### Unidade"
   ]
  },
  {
   "cell_type": "code",
   "execution_count": 35,
   "id": "08052ba6",
   "metadata": {
    "scrolled": true
   },
   "outputs": [
    {
     "data": {
      "text/plain": [
       "ug/m3    10980515\n",
       "Name: Unidade, dtype: int64"
      ]
     },
     "execution_count": 35,
     "metadata": {},
     "output_type": "execute_result"
    }
   ],
   "source": [
    "data['Unidade'].value_counts()"
   ]
  },
  {
   "cell_type": "markdown",
   "id": "a999629d",
   "metadata": {},
   "source": [
    "Todos os valores de concentração são medidos em $\\frac{\\mu g}{m^{3}}$ (microgramas por metro cúbico) de poluente."
   ]
  },
  {
   "cell_type": "markdown",
   "id": "c8df7f9a",
   "metadata": {},
   "source": [
    "### Tipo"
   ]
  },
  {
   "cell_type": "code",
   "execution_count": 36,
   "id": "af2cc35e",
   "metadata": {},
   "outputs": [],
   "source": [
    "type_count = data['Tipo'].value_counts()"
   ]
  },
  {
   "cell_type": "code",
   "execution_count": 37,
   "id": "30bfb7db",
   "metadata": {},
   "outputs": [
    {
     "data": {
      "text/plain": [
       "automatica    10971842\n",
       "manual            8673\n",
       "Name: Tipo, dtype: int64"
      ]
     },
     "execution_count": 37,
     "metadata": {},
     "output_type": "execute_result"
    }
   ],
   "source": [
    "type_count"
   ]
  },
  {
   "cell_type": "markdown",
   "id": "3af16995",
   "metadata": {},
   "source": [
    "A extensa maioria das medições foi feita automaticamente. É curioso sabermos em que lugares foram feitas as medições automáticas e as manuais, e quantas foram feitas em cada lugar."
   ]
  },
  {
   "cell_type": "code",
   "execution_count": 38,
   "id": "68caab9c",
   "metadata": {},
   "outputs": [],
   "source": [
    "auto_measure_count = data[data['Tipo'] == 'automatica']['Estacao'].value_counts()"
   ]
  },
  {
   "cell_type": "code",
   "execution_count": 39,
   "id": "fb662efe",
   "metadata": {},
   "outputs": [],
   "source": [
    "manual_measure_count = data[data['Tipo'] == 'manual']['Estacao'].value_counts()"
   ]
  },
  {
   "cell_type": "code",
   "execution_count": 40,
   "id": "2d579fa1",
   "metadata": {},
   "outputs": [],
   "source": [
    "auto_len = len(auto_measure_count)\n",
    "manual_len = len(manual_measure_count)"
   ]
  },
  {
   "cell_type": "code",
   "execution_count": 41,
   "id": "1300e46f",
   "metadata": {
    "scrolled": true
   },
   "outputs": [
    {
     "name": "stdout",
     "output_type": "stream",
     "text": [
      "Número de locais com medição automática: 65\n",
      "Número de locais com medição manual: 33\n"
     ]
    }
   ],
   "source": [
    "print(f'Número de locais com medição automática: {auto_len}')\n",
    "print(f'Número de locais com medição manual: {manual_len}')"
   ]
  },
  {
   "cell_type": "code",
   "execution_count": 45,
   "id": "a1dabed0",
   "metadata": {
    "scrolled": true
   },
   "outputs": [
    {
     "data": {
      "text/plain": [
       "Text(0.5, 1.0, 'A maioria dos locais utiliza medições automáticas, as quais caracterizam 99.9% das medições de poluentes.')"
      ]
     },
     "execution_count": 45,
     "metadata": {},
     "output_type": "execute_result"
    },
    {
     "data": {
      "image/png": "[encoded data removed]",
      "text/plain": [
       "<Figure size 640x480 with 1 Axes>"
      ]
     },
     "metadata": {},
     "output_type": "display_data"
    }
   ],
   "source": [
    "x = np.array(['Manual', 'Automática'])\n",
    "y = np.array([manual_len, auto_len])\n",
    "plt.bar(x, y, color = ['Grey', 'Darkblue'])\n",
    "plt.yticks([])\n",
    "plt.ylabel('Quantidade de locais')\n",
    "plt.text(0 - 0.02, manual_len + 0.5, s = f'{manual_len}')\n",
    "plt.text(1 - 0.02, auto_len + 0.5, s = f'{auto_len}')\n",
    "auto_percentage = type_count['automatica']/(type_count['automatica'] + type_count['manual']) * 100\n",
    "plt.suptitle('Quantidade de locais por tipo de medição de poluentes', fontsize = '16')\n",
    "plt.title(f'A maioria dos locais utiliza medições automáticas, as quais caracterizam {round(auto_percentage, 1)}% das medições de poluentes.')"
   ]
  },
  {
   "cell_type": "markdown",
   "id": "a556bba1",
   "metadata": {},
   "source": [
    "Como auto está em uma quantidade muito grande, printaremos apenas head e tail."
   ]
  },
  {
   "cell_type": "code",
   "execution_count": 43,
   "id": "92bbd51a",
   "metadata": {
    "scrolled": false
   },
   "outputs": [
    {
     "name": "stdout",
     "output_type": "stream",
     "text": [
      "Head auto count:\n",
      "\n",
      "Santos - Ponta da Praia           287897\n",
      "Marg. Tietê - Pte dos Remédios    286482\n",
      "Parque Dom Pedro II               286121\n",
      "Congonhas                         280515\n",
      "Guarulhos - Pimentas              275144\n",
      "Name: Estacao, dtype: int64\n",
      "\n",
      "Tail auto count:\n",
      "\n",
      "Perus                           57384\n",
      "Americana                       56578\n",
      "Americana - Vila Santa Maria    49320\n",
      "Itaquera                        47968\n",
      "Mogi das Cruzes - Centro        30923\n",
      "Name: Estacao, dtype: int64\n"
     ]
    }
   ],
   "source": [
    "print(f'Head auto count:\\n\\n{auto_measure_count.head()}\\n')\n",
    "print(f'Tail auto count:\\n\\n{auto_measure_count.tail()}')"
   ]
  },
  {
   "cell_type": "markdown",
   "id": "c51af2bd",
   "metadata": {},
   "source": [
    "Como manual está em menor quantidade, printaremos todos os seus valores."
   ]
  },
  {
   "cell_type": "code",
   "execution_count": 44,
   "id": "c75cfa0c",
   "metadata": {
    "scrolled": false
   },
   "outputs": [
    {
     "name": "stdout",
     "output_type": "stream",
     "text": [
      "Manual count:\n",
      "\n",
      "Cerqueira César                    1085\n",
      "Pinheiros                           555\n",
      "Ibirapuera                          494\n",
      "Campos Elíseos                      414\n",
      "Tatuapé                             413\n",
      "Cordeirópolis - Módolo              361\n",
      "Santa Gertrudes - Jd. Luciana       353\n",
      "Sorocaba - Centro                   342\n",
      "Salto - Centro                      342\n",
      "Itu - Centro                        324\n",
      "Jaboticabal - Jd Kennedy            304\n",
      "Jundiaí - Centro                    304\n",
      "Franca - Cidade Nova                300\n",
      "Guarujá - Vicente de Carvalho       288\n",
      "Osasco                              287\n",
      "Santo Amaro                         281\n",
      "São Carlos - Centro                 246\n",
      "Santo André - Capuava               240\n",
      "São Bernardo do Campo               224\n",
      "Cubatão - Vila Parisi               208\n",
      "Rio Claro - Jardim Guanabara        204\n",
      "Piracicaba - Algodoal               180\n",
      "Marg. Tietê - Pte dos Remédios      152\n",
      "Limeira - Boa Vista                 140\n",
      "Limeira - Centro                    112\n",
      "Franca - Centro                      96\n",
      "Taubaté - Centro                     89\n",
      "Santa Gertrudes                      75\n",
      "Barretos - América                   74\n",
      "Paulínia - João Aranha               58\n",
      "Paulínia - Bairro Cascata            57\n",
      "São Caetano do Sul                   44\n",
      "Ribeirão Preto - Campos Elíseos      27\n",
      "Name: Estacao, dtype: int64\n"
     ]
    }
   ],
   "source": [
    "print(f'Manual count:\\n\\n{manual_measure_count}')"
   ]
  },
  {
   "cell_type": "markdown",
   "id": "fbafa141",
   "metadata": {},
   "source": [
    "### Valor"
   ]
  },
  {
   "cell_type": "code",
   "execution_count": 12,
   "id": "44485fea",
   "metadata": {
    "scrolled": true
   },
   "outputs": [
    {
     "data": {
      "text/plain": [
       "count    1.098052e+07\n",
       "mean     8.330876e+01\n",
       "std      2.500071e+02\n",
       "min      0.000000e+00\n",
       "25%      9.000000e+00\n",
       "50%      2.200000e+01\n",
       "75%      4.500000e+01\n",
       "max      9.981292e+03\n",
       "Name: Valor, dtype: float64"
      ]
     },
     "execution_count": 12,
     "metadata": {},
     "output_type": "execute_result"
    }
   ],
   "source": [
    "data['Valor'].describe()"
   ]
  },
  {
   "cell_type": "markdown",
   "id": "1b4ba1ba",
   "metadata": {},
   "source": [
    "Aqui notamos que os valores de concentrações possuem:\n",
    "\n",
    "- Desvio-padrão muito elevado, de 250, ou seja, dados muito dispersos;\n",
    "- Média de 83,3;\n",
    "- 25% dos valores menores ou iguais a 9;\n",
    "- 50% dos valores menores ou iguais a 22;\n",
    "- 75% dos valores menores ou iguais a 45;\n",
    "- Máximo extremamente elevado, de 9981.\n",
    "- Mínimo igual a 0.\n",
    "\n",
    "Assim, temos dados com valores muito diversificados e com concentração de valores muito grande para valores pequenos ($ <= 45\\frac{\\mu g}{m^{3}}$). Os outliers, enquanto isso, são extremamente discrepantes do restante dos dados, contribuindo para o alto desvio-padrão observado.\n",
    "\n",
    "Para conseguirmos observar bem a distribuição em cada intervalo de valores, teremos que verificar vários histogramas. Antes disso, verifiquemos como se comporta o boxplot:"
   ]
  },
  {
   "cell_type": "code",
   "execution_count": 15,
   "id": "b735f5d5",
   "metadata": {
    "scrolled": true
   },
   "outputs": [
    {
     "data": {
      "text/plain": [
       "{'whiskers': [<matplotlib.lines.Line2D at 0x1fc13361950>,\n",
       "  <matplotlib.lines.Line2D at 0x1fc1ba74710>],\n",
       " 'caps': [<matplotlib.lines.Line2D at 0x1fc1ba64290>,\n",
       "  <matplotlib.lines.Line2D at 0x1fc1ba75790>],\n",
       " 'boxes': [<matplotlib.lines.Line2D at 0x1fc1ba2df90>],\n",
       " 'medians': [<matplotlib.lines.Line2D at 0x1fc1ba76010>],\n",
       " 'fliers': [<matplotlib.lines.Line2D at 0x1fc1ba76750>],\n",
       " 'means': []}"
      ]
     },
     "execution_count": 15,
     "metadata": {},
     "output_type": "execute_result"
    },
    {
     "data": {
      "image/png": "[encoded data removed]",
      "text/plain": [
       "<Figure size 640x480 with 1 Axes>"
      ]
     },
     "metadata": {},
     "output_type": "display_data"
    }
   ],
   "source": [
    "plt.boxplot(data['Valor'])"
   ]
  },
  {
   "cell_type": "markdown",
   "id": "1bce0354",
   "metadata": {},
   "source": [
    "Vemos que, devido à quantidade imensa de dados (mais de 10 milhões) e à grande dispersão dos dados, com presença de outliers muito grandes, o boxplot se comporta de forma que não conseguimos enxergar bem os valores nos quartis. Podemos, no entanto, verificar que, de fato, há outliers extremamente fora dos valores comumente encontrados no conjunto de dados."
   ]
  },
  {
   "cell_type": "markdown",
   "id": "ddb0db3e",
   "metadata": {},
   "source": [
    "Vamos verificar agora os histogramas para diferentes intervalos. Iremos analisar, por enquanto, 3 histogramas distintos:\n",
    "\n",
    "- Histograma de todos os dados (visão geral);\n",
    "- Histograma dos valores <= 3º quartil = 45;\n",
    "- Histograma dos valores >= 3º quartil = 45;"
   ]
  },
  {
   "cell_type": "code",
   "execution_count": 26,
   "id": "d3003203",
   "metadata": {},
   "outputs": [],
   "source": [
    "third_quartile = data['Valor'].quantile(0.75)"
   ]
  },
  {
   "cell_type": "code",
   "execution_count": 75,
   "id": "8d5371ae",
   "metadata": {},
   "outputs": [
    {
     "data": {
      "text/plain": [
       "(array([2.658657e+06, 1.340360e+05, 1.874300e+04, 5.233000e+03,\n",
       "        1.669000e+03, 5.840000e+02, 2.280000e+02, 5.800000e+01,\n",
       "        1.500000e+01, 7.000000e+00]),\n",
       " array([  45.       , 1038.6291759, 2032.2583518, 3025.8875277,\n",
       "        4019.5167036, 5013.1458795, 6006.7750554, 7000.4042313,\n",
       "        7994.0334072, 8987.6625831, 9981.291759 ]),\n",
       " <BarContainer object of 10 artists>)"
      ]
     },
     "execution_count": 75,
     "metadata": {},
     "output_type": "execute_result"
    },
    {
     "data": {
      "image/png": "[encoded data removed]",
      "text/plain": [
       "<Figure size 640x480 with 4 Axes>"
      ]
     },
     "metadata": {},
     "output_type": "display_data"
    }
   ],
   "source": [
    "fig, axs = plt.subplots(2, 2)\n",
    "axs[0,0].hist(data['Valor'])\n",
    "axs[0,1].hist(data[data['Valor'] <= third_quartile]['Valor'])\n",
    "axs[1,0].hist(data[data['Valor'] >= third_quartile]['Valor'])"
   ]
  },
  {
   "cell_type": "markdown",
   "id": "39ec88ae",
   "metadata": {},
   "source": [
    "Com isso, podemos verificar que ainda há muitos valores maiores que o terceiro quartil, em relação aos outliers. Iremos plotar novos histogramas:\n",
    "\n",
    "- Histograma dos valores v tais que 45 <= v <= 45 + 1.5*dist_interquartilica\n",
    "- Histograma dos valores v tais que v >= 45 + 1.5*dist_interquartilica"
   ]
  },
  {
   "cell_type": "code",
   "execution_count": 45,
   "id": "24f510b0",
   "metadata": {},
   "outputs": [],
   "source": [
    "first_quartile = data['Valor'].quantile(0.25)\n",
    "inter_dist = (third_quartile - first_quartile)"
   ]
  },
  {
   "cell_type": "code",
   "execution_count": 77,
   "id": "668e5f0a",
   "metadata": {},
   "outputs": [
    {
     "data": {
      "text/plain": [
       "(array([9.62378e+05, 1.34036e+05, 1.87430e+04, 5.23300e+03, 1.66900e+03,\n",
       "        5.84000e+02, 2.28000e+02, 5.80000e+01, 1.50000e+01, 7.00000e+00]),\n",
       " array([  99.       , 1087.2291759, 2075.4583518, 3063.6875277,\n",
       "        4051.9167036, 5040.1458795, 6028.3750554, 7016.6042313,\n",
       "        8004.8334072, 8993.0625831, 9981.291759 ]),\n",
       " <BarContainer object of 10 artists>)"
      ]
     },
     "execution_count": 77,
     "metadata": {},
     "output_type": "execute_result"
    },
    {
     "data": {
      "image/png": "[encoded data removed]",
      "text/plain": [
       "<Figure size 640x480 with 2 Axes>"
      ]
     },
     "metadata": {},
     "output_type": "display_data"
    }
   ],
   "source": [
    "fig, axs = plt.subplots(1, 2)\n",
    "axs[0].hist(data[(data['Valor'] <= 45 + 1.5*inter_dist)]['Valor'])\n",
    "axs[1].hist(data[data['Valor'] >= 45 + 1.5*inter_dist]['Valor'])"
   ]
  },
  {
   "cell_type": "markdown",
   "id": "58aa9979",
   "metadata": {},
   "source": [
    "Por fim, iremos obter mais dois histogramas separando os maiores outliers:\n",
    "\n",
    "- Histograma dos valores v tais que 45 + 1.5*inter_dist <= v <= 1000\n",
    "- Histograma dos valores >= 1000"
   ]
  },
  {
   "cell_type": "code",
   "execution_count": 78,
   "id": "9a5eb080",
   "metadata": {},
   "outputs": [
    {
     "data": {
      "text/plain": [
       "(array([1.34036e+05, 1.75520e+04, 5.60200e+03, 2.01700e+03, 8.62000e+02,\n",
       "        3.22000e+02, 1.28000e+02, 3.70000e+01, 1.00000e+01, 7.00000e+00]),\n",
       " array([1122.89532294, 2008.73496655, 2894.57461015, 3780.41425376,\n",
       "        4666.25389736, 5552.09354097, 6437.93318458, 7323.77282818,\n",
       "        8209.61247179, 9095.45211539, 9981.291759  ]),\n",
       " <BarContainer object of 10 artists>)"
      ]
     },
     "execution_count": 78,
     "metadata": {},
     "output_type": "execute_result"
    },
    {
     "data": {
      "image/png": "[encoded data removed]",
      "text/plain": [
       "<Figure size 640x480 with 2 Axes>"
      ]
     },
     "metadata": {},
     "output_type": "display_data"
    }
   ],
   "source": [
    "fig, axs = plt.subplots(1, 2)\n",
    "axs[0].hist(data[(data['Valor'] >= 45 + 1.5*inter_dist) & (data['Valor'] <= 1000)]['Valor'])\n",
    "axs[1].hist(data[(data['Valor'] >= 1000)]['Valor'])"
   ]
  },
  {
   "cell_type": "markdown",
   "id": "bb438c4e",
   "metadata": {},
   "source": [
    "---"
   ]
  }
 ],
 "metadata": {
  "kernelspec": {
   "display_name": "Python 3 (ipykernel)",
   "language": "python",
   "name": "python3"
  },
  "language_info": {
   "codemirror_mode": {
    "name": "ipython",
    "version": 3
   },
   "file_extension": ".py",
   "mimetype": "text/x-python",
   "name": "python",
   "nbconvert_exporter": "python",
   "pygments_lexer": "ipython3",
   "version": "3.11.1"
  }
 },
 "nbformat": 4,
 "nbformat_minor": 5
}
