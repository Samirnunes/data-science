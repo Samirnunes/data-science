{
 "cells": [
  {
   "cell_type": "markdown",
   "id": "c9cc238d",
   "metadata": {},
   "source": [
    "# Predição da Concentração de NO2 no Ar de São José dos Campos (SP)"
   ]
  },
  {
   "cell_type": "markdown",
   "id": "7a84401e",
   "metadata": {},
   "source": [
    "Utilizaremos modelos de regressão no contexto de Machine Learning para prever a concentração de NO2 em São José dos Campos (SP) com base no horário e na concentração de NO medida na mesma hora. Imaginemos, por exemplo, que a medição de NO ocorra logo que comece a hora. Então, a predição de NO2 poderia ser feita pelo modelo logo após a captação do valor de NO por aparelhos medidores. \n",
    "\n",
    "Uma situação mais prática seria, por exemplo, se considerássemos a concentração de NO aproximadamente constante entre horas subsequentes e a utilizássemos para prever a concentração de NO2 na hora seguinte.\n",
    "\n",
    "O objetivo final é determinar alguma relação entre os poluentes NO e NO2 que possa ser descrita por um modelo de aprendizado de máquina de forma eficiente."
   ]
  },
  {
   "cell_type": "markdown",
   "id": "79d59746",
   "metadata": {},
   "source": [
    "## Importando Bibliotecas"
   ]
  },
  {
   "cell_type": "code",
   "execution_count": 52,
   "id": "9ec38c06",
   "metadata": {},
   "outputs": [],
   "source": [
    "import pandas as pd\n",
    "import numpy as np\n",
    "import matplotlib.pyplot as plt"
   ]
  },
  {
   "cell_type": "markdown",
   "id": "3480c77e",
   "metadata": {},
   "source": [
    "---"
   ]
  },
  {
   "cell_type": "markdown",
   "id": "3de69b42",
   "metadata": {},
   "source": [
    "## Importando os Dados"
   ]
  },
  {
   "cell_type": "code",
   "execution_count": 53,
   "id": "6c369a81",
   "metadata": {},
   "outputs": [],
   "source": [
    "data = pd.read_csv('data/SP_poluicao_dados.csv')"
   ]
  },
  {
   "cell_type": "code",
   "execution_count": 54,
   "id": "b053323d",
   "metadata": {},
   "outputs": [],
   "source": [
    "data = data.drop(columns = ['Unnamed: 0'])"
   ]
  },
  {
   "cell_type": "code",
   "execution_count": 55,
   "id": "71e06e3b",
   "metadata": {
    "scrolled": true
   },
   "outputs": [
    {
     "data": {
      "text/html": [
       "<div>\n",
       "<style scoped>\n",
       "    .dataframe tbody tr th:only-of-type {\n",
       "        vertical-align: middle;\n",
       "    }\n",
       "\n",
       "    .dataframe tbody tr th {\n",
       "        vertical-align: top;\n",
       "    }\n",
       "\n",
       "    .dataframe thead th {\n",
       "        text-align: right;\n",
       "    }\n",
       "</style>\n",
       "<table border=\"1\" class=\"dataframe\">\n",
       "  <thead>\n",
       "    <tr style=\"text-align: right;\">\n",
       "      <th></th>\n",
       "      <th>ID</th>\n",
       "      <th>Data</th>\n",
       "      <th>Hora</th>\n",
       "      <th>Estacao</th>\n",
       "      <th>Codigo</th>\n",
       "      <th>Poluente</th>\n",
       "      <th>Valor</th>\n",
       "      <th>Unidade</th>\n",
       "      <th>Tipo</th>\n",
       "    </tr>\n",
       "  </thead>\n",
       "  <tbody>\n",
       "    <tr>\n",
       "      <th>0</th>\n",
       "      <td>0</td>\n",
       "      <td>2015-01-01</td>\n",
       "      <td>01:00</td>\n",
       "      <td>Americana - Vila Santa Maria</td>\n",
       "      <td>SP01</td>\n",
       "      <td>MP10</td>\n",
       "      <td>65.0</td>\n",
       "      <td>ug/m3</td>\n",
       "      <td>automatica</td>\n",
       "    </tr>\n",
       "    <tr>\n",
       "      <th>1</th>\n",
       "      <td>1</td>\n",
       "      <td>2015-01-01</td>\n",
       "      <td>02:00</td>\n",
       "      <td>Americana - Vila Santa Maria</td>\n",
       "      <td>SP01</td>\n",
       "      <td>MP10</td>\n",
       "      <td>98.0</td>\n",
       "      <td>ug/m3</td>\n",
       "      <td>automatica</td>\n",
       "    </tr>\n",
       "    <tr>\n",
       "      <th>2</th>\n",
       "      <td>2</td>\n",
       "      <td>2015-01-01</td>\n",
       "      <td>03:00</td>\n",
       "      <td>Americana - Vila Santa Maria</td>\n",
       "      <td>SP01</td>\n",
       "      <td>MP10</td>\n",
       "      <td>79.0</td>\n",
       "      <td>ug/m3</td>\n",
       "      <td>automatica</td>\n",
       "    </tr>\n",
       "    <tr>\n",
       "      <th>3</th>\n",
       "      <td>3</td>\n",
       "      <td>2015-01-01</td>\n",
       "      <td>04:00</td>\n",
       "      <td>Americana - Vila Santa Maria</td>\n",
       "      <td>SP01</td>\n",
       "      <td>MP10</td>\n",
       "      <td>53.0</td>\n",
       "      <td>ug/m3</td>\n",
       "      <td>automatica</td>\n",
       "    </tr>\n",
       "    <tr>\n",
       "      <th>4</th>\n",
       "      <td>4</td>\n",
       "      <td>2015-01-01</td>\n",
       "      <td>05:00</td>\n",
       "      <td>Americana - Vila Santa Maria</td>\n",
       "      <td>SP01</td>\n",
       "      <td>MP10</td>\n",
       "      <td>35.0</td>\n",
       "      <td>ug/m3</td>\n",
       "      <td>automatica</td>\n",
       "    </tr>\n",
       "  </tbody>\n",
       "</table>\n",
       "</div>"
      ],
      "text/plain": [
       "   ID        Data   Hora                       Estacao Codigo Poluente  Valor  \\\n",
       "0   0  2015-01-01  01:00  Americana - Vila Santa Maria   SP01     MP10   65.0   \n",
       "1   1  2015-01-01  02:00  Americana - Vila Santa Maria   SP01     MP10   98.0   \n",
       "2   2  2015-01-01  03:00  Americana - Vila Santa Maria   SP01     MP10   79.0   \n",
       "3   3  2015-01-01  04:00  Americana - Vila Santa Maria   SP01     MP10   53.0   \n",
       "4   4  2015-01-01  05:00  Americana - Vila Santa Maria   SP01     MP10   35.0   \n",
       "\n",
       "  Unidade        Tipo  \n",
       "0   ug/m3  automatica  \n",
       "1   ug/m3  automatica  \n",
       "2   ug/m3  automatica  \n",
       "3   ug/m3  automatica  \n",
       "4   ug/m3  automatica  "
      ]
     },
     "execution_count": 55,
     "metadata": {},
     "output_type": "execute_result"
    }
   ],
   "source": [
    "data.head()"
   ]
  },
  {
   "cell_type": "markdown",
   "id": "93043deb",
   "metadata": {},
   "source": [
    "---"
   ]
  },
  {
   "cell_type": "markdown",
   "id": "a61ae1d2",
   "metadata": {},
   "source": [
    "## Filtrando os dados que vamos usar"
   ]
  },
  {
   "cell_type": "code",
   "execution_count": 56,
   "id": "ca454326",
   "metadata": {},
   "outputs": [],
   "source": [
    "data = data[data['Estacao'] == 'São José dos Campos']\n",
    "data = data[(data['Poluente'] == 'NO2') | (data['Poluente'] == 'NO')]\n",
    "data = data.reset_index(drop = True)\n",
    "data['ID'] = data.index"
   ]
  },
  {
   "cell_type": "markdown",
   "id": "70d2aea7",
   "metadata": {},
   "source": [
    "### Separando os dados por poluente"
   ]
  },
  {
   "cell_type": "code",
   "execution_count": 57,
   "id": "623453af",
   "metadata": {},
   "outputs": [],
   "source": [
    "data_NO2 = data[data['Poluente'] == 'NO2'].copy()\n",
    "data_NO = data[data['Poluente'] == 'NO'].copy()"
   ]
  },
  {
   "cell_type": "markdown",
   "id": "841ce465",
   "metadata": {},
   "source": [
    "### Criando nova key para realizar inner join"
   ]
  },
  {
   "cell_type": "code",
   "execution_count": 58,
   "id": "9db520ad",
   "metadata": {},
   "outputs": [],
   "source": [
    "data_NO2['Data_Hora'] = data_NO2['Data'] + ' ' + data_NO2['Hora']\n",
    "data_NO['Data_Hora'] = data_NO['Data'] + ' ' + data_NO['Hora']"
   ]
  },
  {
   "cell_type": "code",
   "execution_count": 59,
   "id": "04b002d4",
   "metadata": {},
   "outputs": [],
   "source": [
    "joint_data = pd.merge(data_NO, data_NO2, on = ['Data_Hora', 'Data_Hora'], how = 'inner')"
   ]
  },
  {
   "cell_type": "markdown",
   "id": "9ad53973",
   "metadata": {},
   "source": [
    "### Agora nosso dataframe 'data' será aquele que utilizaremos"
   ]
  },
  {
   "cell_type": "code",
   "execution_count": 60,
   "id": "cfccbbbe",
   "metadata": {},
   "outputs": [
    {
     "data": {
      "text/html": [
       "<div>\n",
       "<style scoped>\n",
       "    .dataframe tbody tr th:only-of-type {\n",
       "        vertical-align: middle;\n",
       "    }\n",
       "\n",
       "    .dataframe tbody tr th {\n",
       "        vertical-align: top;\n",
       "    }\n",
       "\n",
       "    .dataframe thead th {\n",
       "        text-align: right;\n",
       "    }\n",
       "</style>\n",
       "<table border=\"1\" class=\"dataframe\">\n",
       "  <thead>\n",
       "    <tr style=\"text-align: right;\">\n",
       "      <th></th>\n",
       "      <th>ID_x</th>\n",
       "      <th>Data_x</th>\n",
       "      <th>Hora_x</th>\n",
       "      <th>Estacao_x</th>\n",
       "      <th>Codigo_x</th>\n",
       "      <th>Poluente_x</th>\n",
       "      <th>Valor_x</th>\n",
       "      <th>Unidade_x</th>\n",
       "      <th>Tipo_x</th>\n",
       "      <th>Data_Hora</th>\n",
       "      <th>ID_y</th>\n",
       "      <th>Data_y</th>\n",
       "      <th>Hora_y</th>\n",
       "      <th>Estacao_y</th>\n",
       "      <th>Codigo_y</th>\n",
       "      <th>Poluente_y</th>\n",
       "      <th>Valor_y</th>\n",
       "      <th>Unidade_y</th>\n",
       "      <th>Tipo_y</th>\n",
       "    </tr>\n",
       "  </thead>\n",
       "  <tbody>\n",
       "    <tr>\n",
       "      <th>0</th>\n",
       "      <td>13867</td>\n",
       "      <td>2017-01-01</td>\n",
       "      <td>02:00</td>\n",
       "      <td>São José dos Campos</td>\n",
       "      <td>SP70</td>\n",
       "      <td>NO</td>\n",
       "      <td>2.0</td>\n",
       "      <td>ug/m3</td>\n",
       "      <td>automatica</td>\n",
       "      <td>2017-01-01 02:00</td>\n",
       "      <td>22008</td>\n",
       "      <td>2017-01-01</td>\n",
       "      <td>02:00</td>\n",
       "      <td>São José dos Campos</td>\n",
       "      <td>SP70</td>\n",
       "      <td>NO2</td>\n",
       "      <td>18.0</td>\n",
       "      <td>ug/m3</td>\n",
       "      <td>automatica</td>\n",
       "    </tr>\n",
       "    <tr>\n",
       "      <th>1</th>\n",
       "      <td>13868</td>\n",
       "      <td>2017-01-01</td>\n",
       "      <td>03:00</td>\n",
       "      <td>São José dos Campos</td>\n",
       "      <td>SP70</td>\n",
       "      <td>NO</td>\n",
       "      <td>2.0</td>\n",
       "      <td>ug/m3</td>\n",
       "      <td>automatica</td>\n",
       "      <td>2017-01-01 03:00</td>\n",
       "      <td>22009</td>\n",
       "      <td>2017-01-01</td>\n",
       "      <td>03:00</td>\n",
       "      <td>São José dos Campos</td>\n",
       "      <td>SP70</td>\n",
       "      <td>NO2</td>\n",
       "      <td>15.0</td>\n",
       "      <td>ug/m3</td>\n",
       "      <td>automatica</td>\n",
       "    </tr>\n",
       "  </tbody>\n",
       "</table>\n",
       "</div>"
      ],
      "text/plain": [
       "    ID_x      Data_x Hora_x            Estacao_x Codigo_x Poluente_x  Valor_x  \\\n",
       "0  13867  2017-01-01  02:00  São José dos Campos     SP70         NO      2.0   \n",
       "1  13868  2017-01-01  03:00  São José dos Campos     SP70         NO      2.0   \n",
       "\n",
       "  Unidade_x      Tipo_x         Data_Hora   ID_y      Data_y Hora_y  \\\n",
       "0     ug/m3  automatica  2017-01-01 02:00  22008  2017-01-01  02:00   \n",
       "1     ug/m3  automatica  2017-01-01 03:00  22009  2017-01-01  03:00   \n",
       "\n",
       "             Estacao_y Codigo_y Poluente_y  Valor_y Unidade_y      Tipo_y  \n",
       "0  São José dos Campos     SP70        NO2     18.0     ug/m3  automatica  \n",
       "1  São José dos Campos     SP70        NO2     15.0     ug/m3  automatica  "
      ]
     },
     "execution_count": 60,
     "metadata": {},
     "output_type": "execute_result"
    }
   ],
   "source": [
    "joint_data.head(2)"
   ]
  },
  {
   "cell_type": "code",
   "execution_count": 61,
   "id": "2a3f3718",
   "metadata": {},
   "outputs": [],
   "source": [
    "data = joint_data[['Data_x', 'Hora_x', 'Valor_x', 'Valor_y', 'Unidade_x']]\n",
    "data = data.rename(columns = {'Data_x': 'Data',\n",
    "                              'Hora_x': 'Hora',\n",
    "                              'Valor_x': 'Concentração_NO',\n",
    "                              'Valor_y': 'Concentração_NO2',\n",
    "                              'Unidade_x': 'Unidade'})"
   ]
  },
  {
   "cell_type": "markdown",
   "id": "58881c33",
   "metadata": {},
   "source": [
    "### Transformando a coluna 'Hora' em dados numéricos"
   ]
  },
  {
   "cell_type": "code",
   "execution_count": 62,
   "id": "189e17eb",
   "metadata": {},
   "outputs": [],
   "source": [
    "def hour_to_num(hour):\n",
    "    hour_split = hour.split(':')\n",
    "    return float(hour_split[0]) + float(hour_split[1])/60\n",
    "\n",
    "data['Hora'] = data['Hora'].apply(hour_to_num)"
   ]
  },
  {
   "cell_type": "code",
   "execution_count": 63,
   "id": "dfa39dcc",
   "metadata": {},
   "outputs": [
    {
     "data": {
      "text/html": [
       "<div>\n",
       "<style scoped>\n",
       "    .dataframe tbody tr th:only-of-type {\n",
       "        vertical-align: middle;\n",
       "    }\n",
       "\n",
       "    .dataframe tbody tr th {\n",
       "        vertical-align: top;\n",
       "    }\n",
       "\n",
       "    .dataframe thead th {\n",
       "        text-align: right;\n",
       "    }\n",
       "</style>\n",
       "<table border=\"1\" class=\"dataframe\">\n",
       "  <thead>\n",
       "    <tr style=\"text-align: right;\">\n",
       "      <th></th>\n",
       "      <th>Data</th>\n",
       "      <th>Hora</th>\n",
       "      <th>Concentração_NO</th>\n",
       "      <th>Concentração_NO2</th>\n",
       "      <th>Unidade</th>\n",
       "    </tr>\n",
       "  </thead>\n",
       "  <tbody>\n",
       "    <tr>\n",
       "      <th>0</th>\n",
       "      <td>2017-01-01</td>\n",
       "      <td>2.0</td>\n",
       "      <td>2.0</td>\n",
       "      <td>18.0</td>\n",
       "      <td>ug/m3</td>\n",
       "    </tr>\n",
       "    <tr>\n",
       "      <th>1</th>\n",
       "      <td>2017-01-01</td>\n",
       "      <td>3.0</td>\n",
       "      <td>2.0</td>\n",
       "      <td>15.0</td>\n",
       "      <td>ug/m3</td>\n",
       "    </tr>\n",
       "    <tr>\n",
       "      <th>2</th>\n",
       "      <td>2017-01-01</td>\n",
       "      <td>4.0</td>\n",
       "      <td>1.0</td>\n",
       "      <td>7.0</td>\n",
       "      <td>ug/m3</td>\n",
       "    </tr>\n",
       "    <tr>\n",
       "      <th>3</th>\n",
       "      <td>2017-01-01</td>\n",
       "      <td>5.0</td>\n",
       "      <td>1.0</td>\n",
       "      <td>6.0</td>\n",
       "      <td>ug/m3</td>\n",
       "    </tr>\n",
       "    <tr>\n",
       "      <th>4</th>\n",
       "      <td>2017-01-01</td>\n",
       "      <td>6.0</td>\n",
       "      <td>0.0</td>\n",
       "      <td>6.0</td>\n",
       "      <td>ug/m3</td>\n",
       "    </tr>\n",
       "  </tbody>\n",
       "</table>\n",
       "</div>"
      ],
      "text/plain": [
       "         Data  Hora  Concentração_NO  Concentração_NO2 Unidade\n",
       "0  2017-01-01   2.0              2.0              18.0   ug/m3\n",
       "1  2017-01-01   3.0              2.0              15.0   ug/m3\n",
       "2  2017-01-01   4.0              1.0               7.0   ug/m3\n",
       "3  2017-01-01   5.0              1.0               6.0   ug/m3\n",
       "4  2017-01-01   6.0              0.0               6.0   ug/m3"
      ]
     },
     "execution_count": 63,
     "metadata": {},
     "output_type": "execute_result"
    }
   ],
   "source": [
    "data.head()"
   ]
  },
  {
   "cell_type": "markdown",
   "id": "fe4f278e",
   "metadata": {},
   "source": [
    "Agora temos os dados prontos para iniciarmos algumas análises e depois montar um modelo de Machine Learning que prevê a concentração de NO2 com base na concentração de NO em São José dos Campos e no horário da medição."
   ]
  },
  {
   "cell_type": "markdown",
   "id": "ff7689e7",
   "metadata": {},
   "source": [
    "---"
   ]
  },
  {
   "cell_type": "markdown",
   "id": "d7257fa4",
   "metadata": {},
   "source": [
    "## Análises"
   ]
  },
  {
   "cell_type": "markdown",
   "id": "86be3c36",
   "metadata": {},
   "source": [
    "### Correlações"
   ]
  },
  {
   "cell_type": "code",
   "execution_count": 64,
   "id": "3a77f973",
   "metadata": {},
   "outputs": [
    {
     "data": {
      "text/html": [
       "<div>\n",
       "<style scoped>\n",
       "    .dataframe tbody tr th:only-of-type {\n",
       "        vertical-align: middle;\n",
       "    }\n",
       "\n",
       "    .dataframe tbody tr th {\n",
       "        vertical-align: top;\n",
       "    }\n",
       "\n",
       "    .dataframe thead th {\n",
       "        text-align: right;\n",
       "    }\n",
       "</style>\n",
       "<table border=\"1\" class=\"dataframe\">\n",
       "  <thead>\n",
       "    <tr style=\"text-align: right;\">\n",
       "      <th></th>\n",
       "      <th>Hora</th>\n",
       "      <th>Concentração_NO</th>\n",
       "      <th>Concentração_NO2</th>\n",
       "    </tr>\n",
       "  </thead>\n",
       "  <tbody>\n",
       "    <tr>\n",
       "      <th>Hora</th>\n",
       "      <td>1.00000</td>\n",
       "      <td>-0.025800</td>\n",
       "      <td>0.233920</td>\n",
       "    </tr>\n",
       "    <tr>\n",
       "      <th>Concentração_NO</th>\n",
       "      <td>-0.02580</td>\n",
       "      <td>1.000000</td>\n",
       "      <td>0.499585</td>\n",
       "    </tr>\n",
       "    <tr>\n",
       "      <th>Concentração_NO2</th>\n",
       "      <td>0.23392</td>\n",
       "      <td>0.499585</td>\n",
       "      <td>1.000000</td>\n",
       "    </tr>\n",
       "  </tbody>\n",
       "</table>\n",
       "</div>"
      ],
      "text/plain": [
       "                     Hora  Concentração_NO  Concentração_NO2\n",
       "Hora              1.00000        -0.025800          0.233920\n",
       "Concentração_NO  -0.02580         1.000000          0.499585\n",
       "Concentração_NO2  0.23392         0.499585          1.000000"
      ]
     },
     "execution_count": 64,
     "metadata": {},
     "output_type": "execute_result"
    }
   ],
   "source": [
    "data.corr(numeric_only = True)"
   ]
  },
  {
   "cell_type": "markdown",
   "id": "d11c9760",
   "metadata": {},
   "source": [
    "Verificamos correlações positivas entre o target (Concentração_NO2) e as features (Hora e Concentração_NO)."
   ]
  },
  {
   "cell_type": "markdown",
   "id": "2a4aa5fe",
   "metadata": {},
   "source": [
    "### Scatterplot da concentração de NO2 pela concentração de NO"
   ]
  },
  {
   "cell_type": "code",
   "execution_count": 65,
   "id": "c02ab759",
   "metadata": {},
   "outputs": [
    {
     "data": {
      "text/plain": [
       "Text(0.5, 0, 'Concentração de NO (mug/m^3)')"
      ]
     },
     "execution_count": 65,
     "metadata": {},
     "output_type": "execute_result"
    },
    {
     "data": {
      "image/png": "[encoded data removed]",
      "text/plain": [
       "<Figure size 640x480 with 1 Axes>"
      ]
     },
     "metadata": {},
     "output_type": "display_data"
    }
   ],
   "source": [
    "_ = plt.scatter(x = data['Concentração_NO'], y = data['Concentração_NO2'])\n",
    "plt.title('Concentração de NO2 por Concentração de NO')\n",
    "plt.ylabel('Concentração de NO2 (mug/m^3)')\n",
    "plt.xlabel('Concentração de NO (mug/m^3)')"
   ]
  },
  {
   "cell_type": "markdown",
   "id": "6f81b209",
   "metadata": {},
   "source": [
    "Vamos eliminar outliers para facilitar o aprendizado do modelo, considerando como outliers aqueles valores de NO > 200 e NO2 > 100:"
   ]
  },
  {
   "cell_type": "code",
   "execution_count": 66,
   "id": "2a86a255",
   "metadata": {},
   "outputs": [],
   "source": [
    "data.drop(data[data['Concentração_NO'] > 200].index, inplace = True)\n",
    "data.drop(data[data['Concentração_NO2'] > 100].index, inplace = True)"
   ]
  },
  {
   "cell_type": "code",
   "execution_count": 67,
   "id": "263ba724",
   "metadata": {
    "scrolled": true
   },
   "outputs": [
    {
     "data": {
      "text/plain": [
       "Text(0.5, 0, 'Concentração de NO (mug/m^3)')"
      ]
     },
     "execution_count": 67,
     "metadata": {},
     "output_type": "execute_result"
    },
    {
     "data": {
      "image/png": "[encoded data removed]",
      "text/plain": [
       "<Figure size 640x480 with 1 Axes>"
      ]
     },
     "metadata": {},
     "output_type": "display_data"
    }
   ],
   "source": [
    "_ = plt.scatter(x = data['Concentração_NO'], y = data['Concentração_NO2'])\n",
    "plt.title('Concentração de NO2 por Concentração de NO')\n",
    "plt.ylabel('Concentração de NO2 (mug/m^3)')\n",
    "plt.xlabel('Concentração de NO (mug/m^3)')"
   ]
  },
  {
   "cell_type": "markdown",
   "id": "8b66757f",
   "metadata": {},
   "source": [
    "### Scatterplot da concentração de NO2 pela hora"
   ]
  },
  {
   "cell_type": "code",
   "execution_count": 68,
   "id": "83a497b1",
   "metadata": {},
   "outputs": [
    {
     "data": {
      "text/plain": [
       "Text(0.5, 0, 'Hora')"
      ]
     },
     "execution_count": 68,
     "metadata": {},
     "output_type": "execute_result"
    },
    {
     "data": {
      "image/png": "[encoded data removed]",
      "text/plain": [
       "<Figure size 640x480 with 1 Axes>"
      ]
     },
     "metadata": {},
     "output_type": "display_data"
    }
   ],
   "source": [
    "_ = plt.scatter(data['Hora'], data['Concentração_NO2'])\n",
    "plt.title('Concentração de NO2 por Hora')\n",
    "plt.ylabel('Concentração de NO2 (mug/m^3)')\n",
    "plt.xlabel('Hora')"
   ]
  },
  {
   "cell_type": "markdown",
   "id": "eb5c0c9b",
   "metadata": {},
   "source": [
    "---"
   ]
  },
  {
   "cell_type": "markdown",
   "id": "7a7fd38b",
   "metadata": {},
   "source": [
    "## Seleção de Modelos"
   ]
  },
  {
   "cell_type": "markdown",
   "id": "9e8d41a7",
   "metadata": {},
   "source": [
    "Verificamos que as relações entre as variáveis estão longe de serem lineares. Assim, iremos utilizar modelos de maior complexidade para que consigam se adaptar à relação entre target e features. Testaremos os seguintes:\n",
    "\n",
    "- Random Forest\n",
    "- XGBoost (Extreme Gradient Boost)"
   ]
  },
  {
   "cell_type": "markdown",
   "id": "bd653e8d",
   "metadata": {},
   "source": [
    "---"
   ]
  },
  {
   "cell_type": "markdown",
   "id": "c16d6d09",
   "metadata": {},
   "source": [
    "# 1) Random Forest"
   ]
  },
  {
   "cell_type": "markdown",
   "id": "3cdf626f",
   "metadata": {},
   "source": [
    "## Preparação dos dados"
   ]
  },
  {
   "cell_type": "markdown",
   "id": "081f3a02",
   "metadata": {},
   "source": [
    "### Separando em features e label\n",
    "\n",
    "- X: features\n",
    "- y: label"
   ]
  },
  {
   "cell_type": "code",
   "execution_count": 69,
   "id": "ca2a9b09",
   "metadata": {},
   "outputs": [],
   "source": [
    "features = ['Hora', 'Concentração_NO']\n",
    "X = data[features]\n",
    "y = data['Concentração_NO2']"
   ]
  },
  {
   "cell_type": "code",
   "execution_count": 70,
   "id": "af0220ea",
   "metadata": {},
   "outputs": [
    {
     "data": {
      "text/html": [
       "<div>\n",
       "<style scoped>\n",
       "    .dataframe tbody tr th:only-of-type {\n",
       "        vertical-align: middle;\n",
       "    }\n",
       "\n",
       "    .dataframe tbody tr th {\n",
       "        vertical-align: top;\n",
       "    }\n",
       "\n",
       "    .dataframe thead th {\n",
       "        text-align: right;\n",
       "    }\n",
       "</style>\n",
       "<table border=\"1\" class=\"dataframe\">\n",
       "  <thead>\n",
       "    <tr style=\"text-align: right;\">\n",
       "      <th></th>\n",
       "      <th>Hora</th>\n",
       "      <th>Concentração_NO</th>\n",
       "    </tr>\n",
       "  </thead>\n",
       "  <tbody>\n",
       "    <tr>\n",
       "      <th>0</th>\n",
       "      <td>2.0</td>\n",
       "      <td>2.0</td>\n",
       "    </tr>\n",
       "    <tr>\n",
       "      <th>1</th>\n",
       "      <td>3.0</td>\n",
       "      <td>2.0</td>\n",
       "    </tr>\n",
       "    <tr>\n",
       "      <th>2</th>\n",
       "      <td>4.0</td>\n",
       "      <td>1.0</td>\n",
       "    </tr>\n",
       "    <tr>\n",
       "      <th>3</th>\n",
       "      <td>5.0</td>\n",
       "      <td>1.0</td>\n",
       "    </tr>\n",
       "    <tr>\n",
       "      <th>4</th>\n",
       "      <td>6.0</td>\n",
       "      <td>0.0</td>\n",
       "    </tr>\n",
       "  </tbody>\n",
       "</table>\n",
       "</div>"
      ],
      "text/plain": [
       "   Hora  Concentração_NO\n",
       "0   2.0              2.0\n",
       "1   3.0              2.0\n",
       "2   4.0              1.0\n",
       "3   5.0              1.0\n",
       "4   6.0              0.0"
      ]
     },
     "execution_count": 70,
     "metadata": {},
     "output_type": "execute_result"
    }
   ],
   "source": [
    "X.head()"
   ]
  },
  {
   "cell_type": "code",
   "execution_count": 71,
   "id": "f34b4e2a",
   "metadata": {},
   "outputs": [
    {
     "data": {
      "text/plain": [
       "0    18.0\n",
       "1    15.0\n",
       "2     7.0\n",
       "3     6.0\n",
       "4     6.0\n",
       "Name: Concentração_NO2, dtype: float64"
      ]
     },
     "execution_count": 71,
     "metadata": {},
     "output_type": "execute_result"
    }
   ],
   "source": [
    "y.head()"
   ]
  },
  {
   "cell_type": "markdown",
   "id": "9e75ea2c",
   "metadata": {},
   "source": [
    "### Pipeline de Pré-processamento, Split em treino, teste e validação, e Cross-validation via KFold"
   ]
  },
  {
   "cell_type": "markdown",
   "id": "54987a7c",
   "metadata": {},
   "source": [
    "Realizaremos as seguintes etapas de pré-processamento nas colunas (todas numéricas):\n",
    "- Scaling no intervalo [0,1]\n",
    "- Imputation da moda (most_frequent)\n",
    "\n",
    "A Imputation não seria necessário nesse caso porque já verificamos na EDA que não há valores faltantes no conjunto de dados. No entanto, vamos fazê-lo de forma a considerar essa situação."
   ]
  },
  {
   "cell_type": "markdown",
   "id": "d3c23b7e",
   "metadata": {},
   "source": [
    "### Importando bibliotecas"
   ]
  },
  {
   "cell_type": "code",
   "execution_count": 72,
   "id": "0a7c2f61",
   "metadata": {
    "scrolled": true
   },
   "outputs": [],
   "source": [
    "from sklearn.ensemble import RandomForestRegressor\n",
    "from sklearn.pipeline import Pipeline\n",
    "from sklearn.impute import SimpleImputer\n",
    "from sklearn.preprocessing import MinMaxScaler\n",
    "from sklearn.model_selection import train_test_split\n",
    "from sklearn.model_selection import cross_val_score\n",
    "from sklearn.metrics import mean_squared_error\n",
    "from xgboost import XGBRegressor"
   ]
  },
  {
   "cell_type": "markdown",
   "id": "58fab0d5",
   "metadata": {},
   "source": [
    "Há duas formas de fazermos a pipeline:\n",
    "\n",
    "- Utilizando a classe Pipeline do Sklearn e realizando o fit nos dados de treino. Nesse caso, porém, não é possível realizar o pré-processamento das labels.\n",
    "\n",
    "- Criando uma função para realizar a pipeline em cada uma das features e na label de forma separada."
   ]
  },
  {
   "cell_type": "markdown",
   "id": "9337394f",
   "metadata": {},
   "source": [
    "Para manter a simplicidade do código, vamos criar uma classe auxiliar para fazer a 1a opção e gerar um novo modelo variando n_estimators e max_depth:"
   ]
  },
  {
   "cell_type": "code",
   "execution_count": 73,
   "id": "03495299",
   "metadata": {},
   "outputs": [],
   "source": [
    "class Researcher():\n",
    "    \n",
    "    def __init__(self, X = None, y = None, test_size = 0.2, val_size = 0.2 , random_state = 0):\n",
    "        self.X = X\n",
    "        self.y = y\n",
    "        self.X_train, self.X_test, self.y_train, self.y_test = train_test_split(self.X, self.y, \n",
    "                                                                                test_size = test_size, random_state = random_state)\n",
    "        self.X_train, self.X_val, self.y_train, self.y_val = train_test_split(self.X_train, self.y_train, \n",
    "                                                                              test_size = val_size, random_state = random_state)\n",
    "        self.random_state = random_state\n",
    "        \n",
    "    def _get_train_test_val_predictions(self, model):\n",
    "        model.fit(self.X_train, self.y_train)\n",
    "        preds_train = model.predict(self.X_train)\n",
    "        preds_test = model.predict(self.X_test)\n",
    "        preds_val = model.predict(self.X_val)\n",
    "    \n",
    "        predictions = {'train': preds_train, 'test': preds_test, 'val': preds_val}\n",
    "    \n",
    "        return predictions\n",
    "       \n",
    "    def _get_train_test_val_errors(self, model):\n",
    "        predictions = self._get_train_test_val_predictions(model)\n",
    "        train_error = mean_squared_error(self.y_train, predictions['train'])\n",
    "        test_error = mean_squared_error(self.y_test, predictions['test'])\n",
    "        val_error = mean_squared_error(self.y_val, predictions['val'])\n",
    "        \n",
    "        errors = {'train error': train_error, 'val error': val_error, 'test error': test_error}\n",
    "        \n",
    "        return errors\n",
    "    \n",
    "    def _get_kfold_mean_score(self, model, k):\n",
    "        indexes = np.array(self.X.index)\n",
    "        rand = np.random.RandomState(self.random_state)\n",
    "        rand.shuffle(indexes)\n",
    "        X_shuffled = self.X.loc[indexes]\n",
    "        y_shuffled = self.y.loc[indexes]\n",
    "        kfold_scores = -1 * cross_val_score(model, X_shuffled, y_shuffled, cv = k, scoring = 'neg_mean_squared_error')\n",
    "        return kfold_scores.mean()"
   ]
  },
  {
   "cell_type": "code",
   "execution_count": 74,
   "id": "d81c99ad",
   "metadata": {},
   "outputs": [],
   "source": [
    "class RF_Researcher(Researcher):\n",
    "    \n",
    "    def __preprocess_model(self, n_estimators, max_depth):\n",
    "        preprocessor = Pipeline(steps = [\n",
    "        ('imputer', SimpleImputer(strategy = 'most_frequent')),\n",
    "        ('scaler', MinMaxScaler(feature_range = (0, 1)))\n",
    "        ])\n",
    "    \n",
    "        model = RandomForestRegressor(random_state = self.random_state, n_estimators = n_estimators, max_depth = max_depth)\n",
    "    \n",
    "        model_pipeline = Pipeline(steps = [('preprocessor', preprocessor),\n",
    "                                      ('model', model)])\n",
    "    \n",
    "        return model_pipeline\n",
    "    \n",
    "    def __preprocess_n_models(self, n_models, n_estimators_list, max_depth_list):\n",
    "        model_list = []\n",
    "        \n",
    "        for i in range(0, n_models):\n",
    "            model = self.__preprocess_model(n_estimators = n_estimators_list[i], max_depth = max_depth_list[i])\n",
    "            model_list.append(model)\n",
    "            \n",
    "        return model_list\n",
    "    \n",
    "    def get_n_models_errors_df(self, n_models, n_estimators_list, max_depth_list):\n",
    "        model_list = self.__preprocess_n_models(n_models, n_estimators_list, max_depth_list)\n",
    "        \n",
    "        for i in range(0, n_models):\n",
    "            errors = self._get_train_test_val_errors(model_list[i])\n",
    "            if i == 0:\n",
    "                df_errors = pd.DataFrame(data = errors, index = [f'model {i + 1}'])\n",
    "            else:\n",
    "                df = pd.DataFrame(data = errors, index = [f'model {i + 1}'])\n",
    "                df_errors = pd.concat([df_errors, df])\n",
    "        \n",
    "        return df_errors\n",
    "    \n",
    "    def get_n_models_kfold_mean_score_df(self, n_models, n_estimators_list, max_depth_list, k):\n",
    "        model_list = self.__preprocess_n_models(n_models, n_estimators_list, max_depth_list)\n",
    "        \n",
    "        for i in range(0, n_models):\n",
    "            kfold_score = self._get_kfold_mean_score(model_list[i], k)\n",
    "            if i == 0:\n",
    "                df_scores = pd.DataFrame(data = {f'kfold score error (k = {k})': kfold_score}\n",
    "                                        , index = [f'model {i + 1}'])\n",
    "            else:   \n",
    "                df = pd.DataFrame(data = {f'kfold score error (k = {k})': kfold_score}\n",
    "                                 , index = [f'model {i + 1}'])\n",
    "                df_scores = pd.concat([df_scores, df])\n",
    "                \n",
    "        return df_scores\n",
    "        \n",
    "    def get_n_models_research_report_df(self, n_models, n_estimators_list, max_depth_list, k):\n",
    "        df_scores = self.get_n_models_kfold_mean_score_df(n_models, n_estimators_list, max_depth_list, k)\n",
    "        df_errors = self.get_n_models_errors_df(n_models, n_estimators_list, max_depth_list)\n",
    "        df_report = pd.concat([df_errors, df_scores], axis = 1)\n",
    "        \n",
    "        return df_report\n",
    "    \n",
    "    def get_model_train_scatterplot(self, model_index, n_estimators_list, \n",
    "                                    max_depth_list, title):\n",
    "        \n",
    "        n_estimators = n_estimators_list[model_index]\n",
    "        max_depth = max_depth_list[model_index]\n",
    "        \n",
    "        model = self.__preprocess_model(n_estimators, max_depth)\n",
    "        model.fit(self.X_train, self.y_train)\n",
    "        y_pred = model.predict(self.X_test)\n",
    "        \n",
    "        _ = plt.scatter(x = y_pred, y = self.y_test)\n",
    "        plt.title(title)\n",
    "        plt.ylabel('Predição (estimativa do modelo)')\n",
    "        plt.xlabel('Label (valor real)')\n",
    "\n",
    "        # Plotando a reta y = x\n",
    "\n",
    "        x = [0, 75]\n",
    "        y = [0, 75]\n",
    "        plt.plot(x,y, color = 'red')\n",
    "\n",
    "        plt.legend(['Pontos', 'y = x'])"
   ]
  },
  {
   "cell_type": "markdown",
   "id": "0df8f641",
   "metadata": {},
   "source": [
    "### Obtendo o relatório de 10 modelos diferentes de Random Forest variando n_estimators\n",
    "\n",
    "Obs: \n",
    "\n",
    "- Manteremos max_depth = 5 para evitar overfitting;\n",
    "- Utilizaremos test_size = 20% e val_size = 20%\n",
    "- Utilizaremos k = 5 no Kfold."
   ]
  },
  {
   "cell_type": "code",
   "execution_count": 75,
   "id": "ea5f3040",
   "metadata": {},
   "outputs": [
    {
     "data": {
      "text/html": [
       "<div>\n",
       "<style scoped>\n",
       "    .dataframe tbody tr th:only-of-type {\n",
       "        vertical-align: middle;\n",
       "    }\n",
       "\n",
       "    .dataframe tbody tr th {\n",
       "        vertical-align: top;\n",
       "    }\n",
       "\n",
       "    .dataframe thead th {\n",
       "        text-align: right;\n",
       "    }\n",
       "</style>\n",
       "<table border=\"1\" class=\"dataframe\">\n",
       "  <thead>\n",
       "    <tr style=\"text-align: right;\">\n",
       "      <th></th>\n",
       "      <th>train error</th>\n",
       "      <th>val error</th>\n",
       "      <th>test error</th>\n",
       "      <th>kfold score error (k = 5)</th>\n",
       "    </tr>\n",
       "  </thead>\n",
       "  <tbody>\n",
       "    <tr>\n",
       "      <th>model 1</th>\n",
       "      <td>60.497392</td>\n",
       "      <td>62.108431</td>\n",
       "      <td>61.101896</td>\n",
       "      <td>62.813809</td>\n",
       "    </tr>\n",
       "    <tr>\n",
       "      <th>model 2</th>\n",
       "      <td>59.668048</td>\n",
       "      <td>60.439729</td>\n",
       "      <td>60.105578</td>\n",
       "      <td>61.522075</td>\n",
       "    </tr>\n",
       "    <tr>\n",
       "      <th>model 3</th>\n",
       "      <td>59.385134</td>\n",
       "      <td>60.082713</td>\n",
       "      <td>60.218833</td>\n",
       "      <td>60.929949</td>\n",
       "    </tr>\n",
       "    <tr>\n",
       "      <th>model 4</th>\n",
       "      <td>58.833673</td>\n",
       "      <td>59.105095</td>\n",
       "      <td>59.036599</td>\n",
       "      <td>60.551257</td>\n",
       "    </tr>\n",
       "    <tr>\n",
       "      <th>model 5</th>\n",
       "      <td>58.503980</td>\n",
       "      <td>58.635961</td>\n",
       "      <td>58.532491</td>\n",
       "      <td>60.617992</td>\n",
       "    </tr>\n",
       "    <tr>\n",
       "      <th>model 6</th>\n",
       "      <td>58.397900</td>\n",
       "      <td>58.644129</td>\n",
       "      <td>58.740221</td>\n",
       "      <td>60.537737</td>\n",
       "    </tr>\n",
       "    <tr>\n",
       "      <th>model 7</th>\n",
       "      <td>58.277936</td>\n",
       "      <td>58.624549</td>\n",
       "      <td>58.774801</td>\n",
       "      <td>60.467610</td>\n",
       "    </tr>\n",
       "    <tr>\n",
       "      <th>model 8</th>\n",
       "      <td>58.266782</td>\n",
       "      <td>58.695343</td>\n",
       "      <td>58.645649</td>\n",
       "      <td>60.430248</td>\n",
       "    </tr>\n",
       "    <tr>\n",
       "      <th>model 9</th>\n",
       "      <td>58.288462</td>\n",
       "      <td>58.764871</td>\n",
       "      <td>58.688061</td>\n",
       "      <td>60.380058</td>\n",
       "    </tr>\n",
       "    <tr>\n",
       "      <th>model 10</th>\n",
       "      <td>58.252663</td>\n",
       "      <td>58.717231</td>\n",
       "      <td>58.703744</td>\n",
       "      <td>60.390211</td>\n",
       "    </tr>\n",
       "  </tbody>\n",
       "</table>\n",
       "</div>"
      ],
      "text/plain": [
       "          train error  val error  test error  kfold score error (k = 5)\n",
       "model 1     60.497392  62.108431   61.101896                  62.813809\n",
       "model 2     59.668048  60.439729   60.105578                  61.522075\n",
       "model 3     59.385134  60.082713   60.218833                  60.929949\n",
       "model 4     58.833673  59.105095   59.036599                  60.551257\n",
       "model 5     58.503980  58.635961   58.532491                  60.617992\n",
       "model 6     58.397900  58.644129   58.740221                  60.537737\n",
       "model 7     58.277936  58.624549   58.774801                  60.467610\n",
       "model 8     58.266782  58.695343   58.645649                  60.430248\n",
       "model 9     58.288462  58.764871   58.688061                  60.380058\n",
       "model 10    58.252663  58.717231   58.703744                  60.390211"
      ]
     },
     "execution_count": 75,
     "metadata": {},
     "output_type": "execute_result"
    }
   ],
   "source": [
    "test_size = 0.2\n",
    "val_size = 0.2\n",
    "random_state = 0\n",
    "\n",
    "rf_researcher = RF_Researcher(X, y, test_size, val_size, random_state)\n",
    "\n",
    "n_models = 10\n",
    "n_estimators_list = [2**n for n in range(1, n_models + 1)]\n",
    "max_depth_list = [5 for i in range(0, n_models)]\n",
    "k = 5\n",
    "\n",
    "rf_report = rf_researcher.get_n_models_research_report_df(n_models, n_estimators_list, max_depth_list, k)\n",
    "\n",
    "rf_report"
   ]
  },
  {
   "cell_type": "markdown",
   "id": "595fcdc4",
   "metadata": {},
   "source": [
    "Aparentemente, o modelo 9 foi o que performou melhor. Ainda, não apresentou sinais de overfitting."
   ]
  },
  {
   "cell_type": "markdown",
   "id": "d711309b",
   "metadata": {},
   "source": [
    "---"
   ]
  },
  {
   "cell_type": "markdown",
   "id": "1586a3e4",
   "metadata": {},
   "source": [
    "# 2) XGBoost"
   ]
  },
  {
   "cell_type": "code",
   "execution_count": 76,
   "id": "24288386",
   "metadata": {},
   "outputs": [],
   "source": [
    "class XGB_Researcher(Researcher):\n",
    "    \n",
    "    def __preprocess_model(self, n_estimators, max_depth, learning_rate):\n",
    "        preprocessor = Pipeline(steps = [\n",
    "        ('imputer', SimpleImputer(strategy = 'most_frequent')),\n",
    "        ('scaler', MinMaxScaler(feature_range = (0, 1)))\n",
    "        ])\n",
    "    \n",
    "        model = XGBRegressor(random_state = self.random_state, n_estimators = n_estimators,\n",
    "                        max_depth = max_depth, learning_rate = learning_rate)\n",
    "    \n",
    "        model_pipeline = Pipeline(steps = [('preprocessor', preprocessor),\n",
    "                                      ('model', model)])\n",
    "    \n",
    "        return model_pipeline\n",
    "    \n",
    "    def __preprocess_n_models(self, n_models, n_estimators_list, max_depth_list, learning_rate_list):\n",
    "        model_list = []\n",
    "        \n",
    "        for i in range(0, n_models):\n",
    "            model = self.__preprocess_model(n_estimators = n_estimators_list[i], \n",
    "                                            max_depth = max_depth_list[i], \n",
    "                                            learning_rate = learning_rate_list[i])\n",
    "            model_list.append(model)\n",
    "            \n",
    "        return model_list\n",
    "    \n",
    "    def get_n_models_errors_df(self, n_models, n_estimators_list, max_depth_list, learning_rate_list):\n",
    "        model_list = self.__preprocess_n_models(n_models, n_estimators_list, max_depth_list, learning_rate_list)\n",
    "        \n",
    "        for i in range(0, n_models):\n",
    "            errors = self._get_train_test_val_errors(model_list[i])\n",
    "            if i == 0:\n",
    "                df_errors = pd.DataFrame(data = errors, index = [f'model {i + 1}'])\n",
    "            else:\n",
    "                df = pd.DataFrame(data = errors, index = [f'model {i + 1}'])\n",
    "                df_errors = pd.concat([df_errors, df])\n",
    "        \n",
    "        return df_errors\n",
    "    \n",
    "    def get_n_models_kfold_mean_score_df(self, n_models, n_estimators_list, max_depth_list, learning_rate_list, k):\n",
    "        model_list = self.__preprocess_n_models(n_models, n_estimators_list, max_depth_list, learning_rate_list)\n",
    "        indexes = np.array(self.X.index)\n",
    "        rand = np.random.RandomState(self.random_state)\n",
    "        rand.shuffle(indexes)\n",
    "        X_shuffled = self.X.loc[indexes]\n",
    "        y_shuffled = self.y.loc[indexes]\n",
    "        \n",
    "        for i in range(0, n_models):\n",
    "            kfold_score = self._get_kfold_mean_score(model_list[i], k)\n",
    "            if i == 0:\n",
    "                df_scores = pd.DataFrame(data = {f'kfold score error (k = {k})': kfold_score}\n",
    "                                        , index = [f'model {i + 1}'])\n",
    "            else:\n",
    "                df = pd.DataFrame(data = {f'kfold score error (k = {k})': kfold_score}\n",
    "                                 , index = [f'model {i + 1}'])\n",
    "                df_scores = pd.concat([df_scores, df])\n",
    "                \n",
    "        return df_scores\n",
    "        \n",
    "    def get_n_models_research_report_df(self, n_models, n_estimators_list, max_depth_list, learning_rate_list, k):\n",
    "        df_scores = self.get_n_models_kfold_mean_score_df(n_models, n_estimators_list, max_depth_list, learning_rate_list, k)\n",
    "        df_errors = self.get_n_models_errors_df(n_models, n_estimators_list, max_depth_list, learning_rate_list)\n",
    "        df_report = pd.concat([df_errors, df_scores], axis = 1)\n",
    "        \n",
    "        return df_report\n",
    "    \n",
    "    def get_model_train_scatterplot(self, model_index, n_estimators_list, \n",
    "                                    max_depth_list, learning_rate_list, title):\n",
    "        \n",
    "        n_estimators = n_estimators_list[model_index]\n",
    "        max_depth = max_depth_list[model_index]\n",
    "        learning_rate = learning_rate_list[model_index]\n",
    "        \n",
    "        model = self.__preprocess_model(n_estimators, max_depth, learning_rate)\n",
    "        model.fit(self.X_train, self.y_train)\n",
    "        y_pred = model.predict(self.X_test)\n",
    "        \n",
    "        _ = plt.scatter(x = y_pred, y = self.y_test)\n",
    "        plt.title(title)\n",
    "        plt.ylabel('Predição (estimativa do modelo)')\n",
    "        plt.xlabel('Label (valor real)')\n",
    "\n",
    "        # Plotando a reta y = x\n",
    "\n",
    "        x = [0, 75]\n",
    "        y = [0, 75]\n",
    "        plt.plot(x,y, color = 'red')\n",
    "\n",
    "        plt.legend(['Pontos', 'y = x'])"
   ]
  },
  {
   "cell_type": "markdown",
   "id": "b80c8b64",
   "metadata": {},
   "source": [
    "### Treinando 10 modelos diferentes de XGBoost variando n_estimators\n",
    "\n",
    "Obs: Manteremos max_depth = 5 e learning_rate = 0.1 para evitar overfitting."
   ]
  },
  {
   "cell_type": "code",
   "execution_count": 77,
   "id": "12b96a64",
   "metadata": {
    "scrolled": true
   },
   "outputs": [
    {
     "data": {
      "text/html": [
       "<div>\n",
       "<style scoped>\n",
       "    .dataframe tbody tr th:only-of-type {\n",
       "        vertical-align: middle;\n",
       "    }\n",
       "\n",
       "    .dataframe tbody tr th {\n",
       "        vertical-align: top;\n",
       "    }\n",
       "\n",
       "    .dataframe thead th {\n",
       "        text-align: right;\n",
       "    }\n",
       "</style>\n",
       "<table border=\"1\" class=\"dataframe\">\n",
       "  <thead>\n",
       "    <tr style=\"text-align: right;\">\n",
       "      <th></th>\n",
       "      <th>train error</th>\n",
       "      <th>val error</th>\n",
       "      <th>test error</th>\n",
       "      <th>kfold score error (k = 5)</th>\n",
       "    </tr>\n",
       "  </thead>\n",
       "  <tbody>\n",
       "    <tr>\n",
       "      <th>model 1</th>\n",
       "      <td>387.168715</td>\n",
       "      <td>374.168633</td>\n",
       "      <td>383.899507</td>\n",
       "      <td>385.073891</td>\n",
       "    </tr>\n",
       "    <tr>\n",
       "      <th>model 2</th>\n",
       "      <td>275.600977</td>\n",
       "      <td>264.491867</td>\n",
       "      <td>273.726409</td>\n",
       "      <td>274.445921</td>\n",
       "    </tr>\n",
       "    <tr>\n",
       "      <th>model 3</th>\n",
       "      <td>153.039098</td>\n",
       "      <td>145.508022</td>\n",
       "      <td>152.395509</td>\n",
       "      <td>153.424047</td>\n",
       "    </tr>\n",
       "    <tr>\n",
       "      <th>model 4</th>\n",
       "      <td>75.287588</td>\n",
       "      <td>72.629319</td>\n",
       "      <td>75.741677</td>\n",
       "      <td>77.200524</td>\n",
       "    </tr>\n",
       "    <tr>\n",
       "      <th>model 5</th>\n",
       "      <td>55.811922</td>\n",
       "      <td>57.830209</td>\n",
       "      <td>57.819604</td>\n",
       "      <td>60.013887</td>\n",
       "    </tr>\n",
       "    <tr>\n",
       "      <th>model 6</th>\n",
       "      <td>53.338564</td>\n",
       "      <td>58.772497</td>\n",
       "      <td>57.507082</td>\n",
       "      <td>59.967779</td>\n",
       "    </tr>\n",
       "    <tr>\n",
       "      <th>model 7</th>\n",
       "      <td>51.219604</td>\n",
       "      <td>60.610156</td>\n",
       "      <td>58.259148</td>\n",
       "      <td>60.921008</td>\n",
       "    </tr>\n",
       "    <tr>\n",
       "      <th>model 8</th>\n",
       "      <td>48.581608</td>\n",
       "      <td>63.916627</td>\n",
       "      <td>59.925754</td>\n",
       "      <td>62.501530</td>\n",
       "    </tr>\n",
       "    <tr>\n",
       "      <th>model 9</th>\n",
       "      <td>46.489151</td>\n",
       "      <td>67.192480</td>\n",
       "      <td>62.452083</td>\n",
       "      <td>65.460837</td>\n",
       "    </tr>\n",
       "    <tr>\n",
       "      <th>model 10</th>\n",
       "      <td>45.205777</td>\n",
       "      <td>71.134354</td>\n",
       "      <td>65.742665</td>\n",
       "      <td>68.704604</td>\n",
       "    </tr>\n",
       "  </tbody>\n",
       "</table>\n",
       "</div>"
      ],
      "text/plain": [
       "          train error   val error  test error  kfold score error (k = 5)\n",
       "model 1    387.168715  374.168633  383.899507                 385.073891\n",
       "model 2    275.600977  264.491867  273.726409                 274.445921\n",
       "model 3    153.039098  145.508022  152.395509                 153.424047\n",
       "model 4     75.287588   72.629319   75.741677                  77.200524\n",
       "model 5     55.811922   57.830209   57.819604                  60.013887\n",
       "model 6     53.338564   58.772497   57.507082                  59.967779\n",
       "model 7     51.219604   60.610156   58.259148                  60.921008\n",
       "model 8     48.581608   63.916627   59.925754                  62.501530\n",
       "model 9     46.489151   67.192480   62.452083                  65.460837\n",
       "model 10    45.205777   71.134354   65.742665                  68.704604"
      ]
     },
     "execution_count": 77,
     "metadata": {},
     "output_type": "execute_result"
    }
   ],
   "source": [
    "test_size = 0.2\n",
    "val_size = 0.2\n",
    "random_state = 0\n",
    "\n",
    "xgb_researcher = XGB_Researcher(X, y, test_size, val_size, random_state)\n",
    "\n",
    "n_models = 10\n",
    "n_estimators_list = [2**n for n in range(1, n_models + 1)]\n",
    "max_depth_list = [5 for i in range(0, n_models)]\n",
    "learning_rate_list = [0.1 for i in range(0, n_models)]\n",
    "k = 5\n",
    "\n",
    "xgb_report = xgb_researcher.get_n_models_research_report_df(n_models, n_estimators_list, max_depth_list, learning_rate_list, k)\n",
    "\n",
    "xgb_report"
   ]
  },
  {
   "cell_type": "markdown",
   "id": "e1caf3f6",
   "metadata": {},
   "source": [
    "É notável que o modelo 6 foi aquele que melhor performou."
   ]
  },
  {
   "cell_type": "markdown",
   "id": "8d168868",
   "metadata": {},
   "source": [
    "---"
   ]
  },
  {
   "cell_type": "markdown",
   "id": "e6cdefbc",
   "metadata": {},
   "source": [
    "## Vamos comparar agora ambos os melhores modelos"
   ]
  },
  {
   "cell_type": "code",
   "execution_count": 78,
   "id": "4ca8efc1",
   "metadata": {
    "scrolled": true
   },
   "outputs": [],
   "source": [
    "best_rf_index = 'model 9'\n",
    "best_rf_df = pd.DataFrame(rf_report.loc[best_rf_index])\n",
    "best_rf_df = best_rf_df.rename(columns = {best_rf_index: 'Best Random Forest Model'})"
   ]
  },
  {
   "cell_type": "code",
   "execution_count": 79,
   "id": "d3469373",
   "metadata": {},
   "outputs": [],
   "source": [
    "best_xgb_index = 'model 6'\n",
    "best_xgb_df = pd.DataFrame(xgb_report.loc[best_xgb_index])\n",
    "best_xgb_df = best_xgb_df.rename(columns = {best_xgb_index: 'Best XGBoost Model'})"
   ]
  },
  {
   "cell_type": "code",
   "execution_count": 80,
   "id": "7157af7c",
   "metadata": {},
   "outputs": [],
   "source": [
    "comparison_df = pd.concat([best_rf_df, best_xgb_df], axis = 1)"
   ]
  },
  {
   "cell_type": "code",
   "execution_count": 81,
   "id": "b60671b6",
   "metadata": {
    "scrolled": true
   },
   "outputs": [
    {
     "data": {
      "text/html": [
       "<div>\n",
       "<style scoped>\n",
       "    .dataframe tbody tr th:only-of-type {\n",
       "        vertical-align: middle;\n",
       "    }\n",
       "\n",
       "    .dataframe tbody tr th {\n",
       "        vertical-align: top;\n",
       "    }\n",
       "\n",
       "    .dataframe thead th {\n",
       "        text-align: right;\n",
       "    }\n",
       "</style>\n",
       "<table border=\"1\" class=\"dataframe\">\n",
       "  <thead>\n",
       "    <tr style=\"text-align: right;\">\n",
       "      <th></th>\n",
       "      <th>Best Random Forest Model</th>\n",
       "      <th>Best XGBoost Model</th>\n",
       "    </tr>\n",
       "  </thead>\n",
       "  <tbody>\n",
       "    <tr>\n",
       "      <th>train error</th>\n",
       "      <td>58.288462</td>\n",
       "      <td>53.338564</td>\n",
       "    </tr>\n",
       "    <tr>\n",
       "      <th>val error</th>\n",
       "      <td>58.764871</td>\n",
       "      <td>58.772497</td>\n",
       "    </tr>\n",
       "    <tr>\n",
       "      <th>test error</th>\n",
       "      <td>58.688061</td>\n",
       "      <td>57.507082</td>\n",
       "    </tr>\n",
       "    <tr>\n",
       "      <th>kfold score error (k = 5)</th>\n",
       "      <td>60.380058</td>\n",
       "      <td>59.967779</td>\n",
       "    </tr>\n",
       "  </tbody>\n",
       "</table>\n",
       "</div>"
      ],
      "text/plain": [
       "                           Best Random Forest Model  Best XGBoost Model\n",
       "train error                               58.288462           53.338564\n",
       "val error                                 58.764871           58.772497\n",
       "test error                                58.688061           57.507082\n",
       "kfold score error (k = 5)                 60.380058           59.967779"
      ]
     },
     "execution_count": 81,
     "metadata": {},
     "output_type": "execute_result"
    }
   ],
   "source": [
    "comparison_df"
   ]
  },
  {
   "cell_type": "markdown",
   "id": "a2adf2d7",
   "metadata": {},
   "source": [
    "# Conclusão das Comparações"
   ]
  },
  {
   "cell_type": "markdown",
   "id": "70e3fc99",
   "metadata": {},
   "source": [
    "Pelo método menos viesado (Kfold) conseguimos mostrar que o modelo de XGBoost é o melhor para realizar as predições que nos propusemos a fazer."
   ]
  },
  {
   "cell_type": "markdown",
   "id": "c87e4c48",
   "metadata": {},
   "source": [
    "Antes de terminarmos, faremos uma visualização gráfica dos resultados:"
   ]
  },
  {
   "cell_type": "markdown",
   "id": "eb7e2284",
   "metadata": {},
   "source": [
    "# Visualização Gráfica"
   ]
  },
  {
   "cell_type": "markdown",
   "id": "07497b2b",
   "metadata": {},
   "source": [
    "Nesse tipo de gráfico, quanto mais próximo o gráfico ficar da reta y = x, melhor."
   ]
  },
  {
   "cell_type": "code",
   "execution_count": 82,
   "id": "16a0278b",
   "metadata": {},
   "outputs": [
    {
     "data": {
      "image/png": "[encoded data removed]",
      "text/plain": [
       "<Figure size 640x480 with 1 Axes>"
      ]
     },
     "metadata": {},
     "output_type": "display_data"
    }
   ],
   "source": [
    "rf_researcher.get_model_train_scatterplot(9, n_estimators_list, max_depth_list, \n",
    "                                        title = 'Predições versus Label - Melhor Random Forest')"
   ]
  },
  {
   "cell_type": "code",
   "execution_count": 83,
   "id": "7cffb9bd",
   "metadata": {},
   "outputs": [
    {
     "data": {
      "image/png": "[encoded data removed]",
      "text/plain": [
       "<Figure size 640x480 with 1 Axes>"
      ]
     },
     "metadata": {},
     "output_type": "display_data"
    }
   ],
   "source": [
    "xgb_researcher.get_model_train_scatterplot(6, n_estimators_list, max_depth_list, learning_rate_list,\n",
    "                                        title = 'Predições versus Label - Melhor XGBoost')"
   ]
  },
  {
   "cell_type": "markdown",
   "id": "3f720ed8",
   "metadata": {},
   "source": [
    "Aparentemente, o gráfico do XGBoost tem uma proximidade maior com os pontos da reta y = x, na média, do que o gráfico da Random Forest.\n",
    "\n",
    "É claro que o modelo é longe de ser bom para ser usado na prática. O ideal seria testar outras features (se existirem) e obter mais dados para treiná-lo. Além disso, poderia-se testar outros modelos de aprendizado de máquina para tentar obter melhores resultados."
   ]
  },
  {
   "cell_type": "markdown",
   "id": "dbe70702",
   "metadata": {},
   "source": [
    "---"
   ]
  },
  {
   "cell_type": "markdown",
   "id": "0d833e31",
   "metadata": {},
   "source": [
    "# Extra - Adicionando novas features: dia da semana e feature cross"
   ]
  },
  {
   "cell_type": "markdown",
   "id": "797ecb29",
   "metadata": {},
   "source": [
    "## Dia da semana"
   ]
  },
  {
   "cell_type": "markdown",
   "id": "61be8a48",
   "metadata": {},
   "source": [
    "Vamos verificar se adicionando a feature do dia da semana nós conseguimos um melhor resultado com o modelo de XGBoost."
   ]
  },
  {
   "cell_type": "code",
   "execution_count": 84,
   "id": "1888d203",
   "metadata": {},
   "outputs": [],
   "source": [
    "from datetime import datetime"
   ]
  },
  {
   "cell_type": "code",
   "execution_count": 85,
   "id": "89c1caad",
   "metadata": {},
   "outputs": [],
   "source": [
    "new_data = data.copy()"
   ]
  },
  {
   "cell_type": "markdown",
   "id": "c8bd0134",
   "metadata": {},
   "source": [
    "### Adicionando nova feature"
   ]
  },
  {
   "cell_type": "code",
   "execution_count": 86,
   "id": "a0cd1022",
   "metadata": {
    "scrolled": true
   },
   "outputs": [],
   "source": [
    "new_data['Data'] = new_data['Data'].apply(lambda x: datetime.strptime(x, '%Y-%m-%d'))"
   ]
  },
  {
   "cell_type": "code",
   "execution_count": 87,
   "id": "c9d16763",
   "metadata": {},
   "outputs": [],
   "source": [
    "new_data['Dia da Semana'] = new_data['Data'].apply(lambda x: x.weekday())"
   ]
  },
  {
   "cell_type": "markdown",
   "id": "142bf9f7",
   "metadata": {},
   "source": [
    "### Relação da nova feature com o target: visualização gráfica"
   ]
  },
  {
   "cell_type": "code",
   "execution_count": 88,
   "id": "f080bd3d",
   "metadata": {},
   "outputs": [
    {
     "data": {
      "text/plain": [
       "Text(0.5, 0, 'Dia da Semana')"
      ]
     },
     "execution_count": 88,
     "metadata": {},
     "output_type": "execute_result"
    },
    {
     "data": {
      "image/png": "[encoded data removed]",
      "text/plain": [
       "<Figure size 640x480 with 1 Axes>"
      ]
     },
     "metadata": {},
     "output_type": "display_data"
    }
   ],
   "source": [
    "_ = plt.scatter(new_data['Dia da Semana'], new_data['Concentração_NO2'])\n",
    "plt.title('Concentração de NO2 por Dia da Semana')\n",
    "plt.ylabel('Concentração de NO2 (mug/m^3)')\n",
    "plt.xlabel('Dia da Semana')"
   ]
  },
  {
   "cell_type": "markdown",
   "id": "390b80cf",
   "metadata": {},
   "source": [
    "## Preparação dos dados"
   ]
  },
  {
   "cell_type": "markdown",
   "id": "538613b9",
   "metadata": {},
   "source": [
    "### Separando em features e label\n",
    "\n",
    "- X: features\n",
    "- y: label"
   ]
  },
  {
   "cell_type": "code",
   "execution_count": 89,
   "id": "1781e161",
   "metadata": {},
   "outputs": [],
   "source": [
    "new_features = features + ['Dia da Semana']\n",
    "X = new_data[new_features]\n",
    "y = new_data['Concentração_NO2']"
   ]
  },
  {
   "cell_type": "markdown",
   "id": "bdb4670b",
   "metadata": {},
   "source": [
    "### Treinando 10 modelos diferentes de XGBoost variando n_estimators\n",
    "\n",
    "Obs: Manteremos max_depth = 5 e learning_rate = 0.1 para evitar overfitting."
   ]
  },
  {
   "cell_type": "code",
   "execution_count": 90,
   "id": "89fd42f4",
   "metadata": {},
   "outputs": [
    {
     "data": {
      "text/html": [
       "<div>\n",
       "<style scoped>\n",
       "    .dataframe tbody tr th:only-of-type {\n",
       "        vertical-align: middle;\n",
       "    }\n",
       "\n",
       "    .dataframe tbody tr th {\n",
       "        vertical-align: top;\n",
       "    }\n",
       "\n",
       "    .dataframe thead th {\n",
       "        text-align: right;\n",
       "    }\n",
       "</style>\n",
       "<table border=\"1\" class=\"dataframe\">\n",
       "  <thead>\n",
       "    <tr style=\"text-align: right;\">\n",
       "      <th></th>\n",
       "      <th>train error</th>\n",
       "      <th>val error</th>\n",
       "      <th>test error</th>\n",
       "      <th>kfold score error (k = 5)</th>\n",
       "    </tr>\n",
       "  </thead>\n",
       "  <tbody>\n",
       "    <tr>\n",
       "      <th>model 1</th>\n",
       "      <td>387.130413</td>\n",
       "      <td>374.355054</td>\n",
       "      <td>384.043001</td>\n",
       "      <td>385.140843</td>\n",
       "    </tr>\n",
       "    <tr>\n",
       "      <th>model 2</th>\n",
       "      <td>275.465371</td>\n",
       "      <td>265.079831</td>\n",
       "      <td>273.813609</td>\n",
       "      <td>274.507766</td>\n",
       "    </tr>\n",
       "    <tr>\n",
       "      <th>model 3</th>\n",
       "      <td>152.189230</td>\n",
       "      <td>145.336997</td>\n",
       "      <td>152.180075</td>\n",
       "      <td>153.244062</td>\n",
       "    </tr>\n",
       "    <tr>\n",
       "      <th>model 4</th>\n",
       "      <td>73.699330</td>\n",
       "      <td>72.010249</td>\n",
       "      <td>74.715015</td>\n",
       "      <td>76.608550</td>\n",
       "    </tr>\n",
       "    <tr>\n",
       "      <th>model 5</th>\n",
       "      <td>53.464807</td>\n",
       "      <td>56.093514</td>\n",
       "      <td>55.828458</td>\n",
       "      <td>58.629838</td>\n",
       "    </tr>\n",
       "    <tr>\n",
       "      <th>model 6</th>\n",
       "      <td>50.623478</td>\n",
       "      <td>56.453756</td>\n",
       "      <td>55.178651</td>\n",
       "      <td>58.143596</td>\n",
       "    </tr>\n",
       "    <tr>\n",
       "      <th>model 7</th>\n",
       "      <td>47.495478</td>\n",
       "      <td>57.451618</td>\n",
       "      <td>56.058296</td>\n",
       "      <td>59.007343</td>\n",
       "    </tr>\n",
       "    <tr>\n",
       "      <th>model 8</th>\n",
       "      <td>43.584706</td>\n",
       "      <td>60.017615</td>\n",
       "      <td>57.933490</td>\n",
       "      <td>60.882006</td>\n",
       "    </tr>\n",
       "    <tr>\n",
       "      <th>model 9</th>\n",
       "      <td>39.632596</td>\n",
       "      <td>63.729409</td>\n",
       "      <td>60.308427</td>\n",
       "      <td>64.316022</td>\n",
       "    </tr>\n",
       "    <tr>\n",
       "      <th>model 10</th>\n",
       "      <td>35.442707</td>\n",
       "      <td>68.277778</td>\n",
       "      <td>64.648904</td>\n",
       "      <td>68.808237</td>\n",
       "    </tr>\n",
       "  </tbody>\n",
       "</table>\n",
       "</div>"
      ],
      "text/plain": [
       "          train error   val error  test error  kfold score error (k = 5)\n",
       "model 1    387.130413  374.355054  384.043001                 385.140843\n",
       "model 2    275.465371  265.079831  273.813609                 274.507766\n",
       "model 3    152.189230  145.336997  152.180075                 153.244062\n",
       "model 4     73.699330   72.010249   74.715015                  76.608550\n",
       "model 5     53.464807   56.093514   55.828458                  58.629838\n",
       "model 6     50.623478   56.453756   55.178651                  58.143596\n",
       "model 7     47.495478   57.451618   56.058296                  59.007343\n",
       "model 8     43.584706   60.017615   57.933490                  60.882006\n",
       "model 9     39.632596   63.729409   60.308427                  64.316022\n",
       "model 10    35.442707   68.277778   64.648904                  68.808237"
      ]
     },
     "execution_count": 90,
     "metadata": {},
     "output_type": "execute_result"
    }
   ],
   "source": [
    "test_size = 0.2\n",
    "val_size = 0.2\n",
    "random_state = 0\n",
    "\n",
    "new_xgb_researcher = XGB_Researcher(X, y, test_size, val_size, random_state)\n",
    "\n",
    "n_models = 10\n",
    "n_estimators_list = [2**n for n in range(1, n_models + 1)]\n",
    "max_depth_list = [5 for i in range(0, n_models)]\n",
    "learning_rate_list = [0.1 for i in range(0, n_models)]\n",
    "k = 5\n",
    "\n",
    "new_xgb_report = new_xgb_researcher.get_n_models_research_report_df(n_models, n_estimators_list, max_depth_list, learning_rate_list, k)\n",
    "\n",
    "new_xgb_report"
   ]
  },
  {
   "cell_type": "markdown",
   "id": "f4c425db",
   "metadata": {},
   "source": [
    "Conseguimos um modelo melhor com a nova feature! O modelo escolhido é o modelo 6."
   ]
  },
  {
   "cell_type": "code",
   "execution_count": 91,
   "id": "71ceff71",
   "metadata": {},
   "outputs": [],
   "source": [
    "new_best_xgb_index = 'model 6'\n",
    "new_best_xgb_df = pd.DataFrame(new_xgb_report.loc[new_best_xgb_index])\n",
    "new_best_xgb_df = new_best_xgb_df.rename(columns = {new_best_xgb_index: 'New Best XGBoost Model'})"
   ]
  },
  {
   "cell_type": "markdown",
   "id": "1c0708dd",
   "metadata": {},
   "source": [
    "Comparando o modelo antigo e o novo:"
   ]
  },
  {
   "cell_type": "code",
   "execution_count": 92,
   "id": "61c8fa96",
   "metadata": {},
   "outputs": [],
   "source": [
    "comparison_xgb_df = pd.concat([best_xgb_df, new_best_xgb_df], axis = 1)"
   ]
  },
  {
   "cell_type": "code",
   "execution_count": 93,
   "id": "db9d377b",
   "metadata": {},
   "outputs": [
    {
     "data": {
      "text/html": [
       "<div>\n",
       "<style scoped>\n",
       "    .dataframe tbody tr th:only-of-type {\n",
       "        vertical-align: middle;\n",
       "    }\n",
       "\n",
       "    .dataframe tbody tr th {\n",
       "        vertical-align: top;\n",
       "    }\n",
       "\n",
       "    .dataframe thead th {\n",
       "        text-align: right;\n",
       "    }\n",
       "</style>\n",
       "<table border=\"1\" class=\"dataframe\">\n",
       "  <thead>\n",
       "    <tr style=\"text-align: right;\">\n",
       "      <th></th>\n",
       "      <th>Best XGBoost Model</th>\n",
       "      <th>New Best XGBoost Model</th>\n",
       "    </tr>\n",
       "  </thead>\n",
       "  <tbody>\n",
       "    <tr>\n",
       "      <th>train error</th>\n",
       "      <td>53.338564</td>\n",
       "      <td>50.623478</td>\n",
       "    </tr>\n",
       "    <tr>\n",
       "      <th>val error</th>\n",
       "      <td>58.772497</td>\n",
       "      <td>56.453756</td>\n",
       "    </tr>\n",
       "    <tr>\n",
       "      <th>test error</th>\n",
       "      <td>57.507082</td>\n",
       "      <td>55.178651</td>\n",
       "    </tr>\n",
       "    <tr>\n",
       "      <th>kfold score error (k = 5)</th>\n",
       "      <td>59.967779</td>\n",
       "      <td>58.143596</td>\n",
       "    </tr>\n",
       "  </tbody>\n",
       "</table>\n",
       "</div>"
      ],
      "text/plain": [
       "                           Best XGBoost Model  New Best XGBoost Model\n",
       "train error                         53.338564               50.623478\n",
       "val error                           58.772497               56.453756\n",
       "test error                          57.507082               55.178651\n",
       "kfold score error (k = 5)           59.967779               58.143596"
      ]
     },
     "execution_count": 93,
     "metadata": {},
     "output_type": "execute_result"
    }
   ],
   "source": [
    "comparison_xgb_df"
   ]
  },
  {
   "cell_type": "markdown",
   "id": "8e239c99",
   "metadata": {},
   "source": [
    "De fato, todos os erros são menores com o novo modelo, de forma que a adição da nova feature (dias da semana) ajudou o modelo a aprender!"
   ]
  },
  {
   "cell_type": "markdown",
   "id": "2bdf629a",
   "metadata": {},
   "source": [
    "## Dia da semana ao quadrado: feature cross"
   ]
  },
  {
   "cell_type": "markdown",
   "id": "588dc08d",
   "metadata": {},
   "source": [
    "Sabemos de antemão que provavelmente elevar o dia da semana ao quadrado não deve auxiliar o modelo, dado que a relação entre o target e o dia da semana não parece ser descrita por uma transformação como essa.\n",
    "\n",
    "Mas, como teste:\n",
    "\n",
    "Agora vamos adicionar a feature do dia da semana ao quadrado (feature cross dessa feature com ela mesma). Por quê? Para causar maior diferenciação entre o fim de semana e os dias da semana! Outra forma de fazer isso sem utilizar feature cross seria adicionar uma feature booleana."
   ]
  },
  {
   "cell_type": "code",
   "execution_count": 94,
   "id": "63b088d8",
   "metadata": {},
   "outputs": [],
   "source": [
    "newest_data = new_data.copy()"
   ]
  },
  {
   "cell_type": "markdown",
   "id": "7eb56c68",
   "metadata": {},
   "source": [
    "### Adicionando nova feature"
   ]
  },
  {
   "cell_type": "code",
   "execution_count": 95,
   "id": "a20b83df",
   "metadata": {},
   "outputs": [],
   "source": [
    "newest_data['Dia da Semana ao Quadrado'] = newest_data['Dia da Semana']**2"
   ]
  },
  {
   "cell_type": "code",
   "execution_count": 96,
   "id": "9494763f",
   "metadata": {
    "scrolled": false
   },
   "outputs": [
    {
     "data": {
      "text/html": [
       "<div>\n",
       "<style scoped>\n",
       "    .dataframe tbody tr th:only-of-type {\n",
       "        vertical-align: middle;\n",
       "    }\n",
       "\n",
       "    .dataframe tbody tr th {\n",
       "        vertical-align: top;\n",
       "    }\n",
       "\n",
       "    .dataframe thead th {\n",
       "        text-align: right;\n",
       "    }\n",
       "</style>\n",
       "<table border=\"1\" class=\"dataframe\">\n",
       "  <thead>\n",
       "    <tr style=\"text-align: right;\">\n",
       "      <th></th>\n",
       "      <th>Data</th>\n",
       "      <th>Hora</th>\n",
       "      <th>Concentração_NO</th>\n",
       "      <th>Concentração_NO2</th>\n",
       "      <th>Unidade</th>\n",
       "      <th>Dia da Semana</th>\n",
       "      <th>Dia da Semana ao Quadrado</th>\n",
       "    </tr>\n",
       "  </thead>\n",
       "  <tbody>\n",
       "    <tr>\n",
       "      <th>0</th>\n",
       "      <td>2017-01-01</td>\n",
       "      <td>2.0</td>\n",
       "      <td>2.0</td>\n",
       "      <td>18.0</td>\n",
       "      <td>ug/m3</td>\n",
       "      <td>6</td>\n",
       "      <td>36</td>\n",
       "    </tr>\n",
       "    <tr>\n",
       "      <th>1</th>\n",
       "      <td>2017-01-01</td>\n",
       "      <td>3.0</td>\n",
       "      <td>2.0</td>\n",
       "      <td>15.0</td>\n",
       "      <td>ug/m3</td>\n",
       "      <td>6</td>\n",
       "      <td>36</td>\n",
       "    </tr>\n",
       "    <tr>\n",
       "      <th>2</th>\n",
       "      <td>2017-01-01</td>\n",
       "      <td>4.0</td>\n",
       "      <td>1.0</td>\n",
       "      <td>7.0</td>\n",
       "      <td>ug/m3</td>\n",
       "      <td>6</td>\n",
       "      <td>36</td>\n",
       "    </tr>\n",
       "    <tr>\n",
       "      <th>3</th>\n",
       "      <td>2017-01-01</td>\n",
       "      <td>5.0</td>\n",
       "      <td>1.0</td>\n",
       "      <td>6.0</td>\n",
       "      <td>ug/m3</td>\n",
       "      <td>6</td>\n",
       "      <td>36</td>\n",
       "    </tr>\n",
       "    <tr>\n",
       "      <th>4</th>\n",
       "      <td>2017-01-01</td>\n",
       "      <td>6.0</td>\n",
       "      <td>0.0</td>\n",
       "      <td>6.0</td>\n",
       "      <td>ug/m3</td>\n",
       "      <td>6</td>\n",
       "      <td>36</td>\n",
       "    </tr>\n",
       "  </tbody>\n",
       "</table>\n",
       "</div>"
      ],
      "text/plain": [
       "        Data  Hora  Concentração_NO  Concentração_NO2 Unidade  Dia da Semana  \\\n",
       "0 2017-01-01   2.0              2.0              18.0   ug/m3              6   \n",
       "1 2017-01-01   3.0              2.0              15.0   ug/m3              6   \n",
       "2 2017-01-01   4.0              1.0               7.0   ug/m3              6   \n",
       "3 2017-01-01   5.0              1.0               6.0   ug/m3              6   \n",
       "4 2017-01-01   6.0              0.0               6.0   ug/m3              6   \n",
       "\n",
       "   Dia da Semana ao Quadrado  \n",
       "0                         36  \n",
       "1                         36  \n",
       "2                         36  \n",
       "3                         36  \n",
       "4                         36  "
      ]
     },
     "execution_count": 96,
     "metadata": {},
     "output_type": "execute_result"
    }
   ],
   "source": [
    "newest_data.head()"
   ]
  },
  {
   "cell_type": "code",
   "execution_count": 97,
   "id": "7360b9d4",
   "metadata": {},
   "outputs": [],
   "source": [
    "newest_features = new_features + ['Dia da Semana ao Quadrado']\n",
    "X = newest_data[newest_features]\n",
    "y = newest_data['Concentração_NO2']"
   ]
  },
  {
   "cell_type": "code",
   "execution_count": 98,
   "id": "29d50f7d",
   "metadata": {},
   "outputs": [
    {
     "data": {
      "text/html": [
       "<div>\n",
       "<style scoped>\n",
       "    .dataframe tbody tr th:only-of-type {\n",
       "        vertical-align: middle;\n",
       "    }\n",
       "\n",
       "    .dataframe tbody tr th {\n",
       "        vertical-align: top;\n",
       "    }\n",
       "\n",
       "    .dataframe thead th {\n",
       "        text-align: right;\n",
       "    }\n",
       "</style>\n",
       "<table border=\"1\" class=\"dataframe\">\n",
       "  <thead>\n",
       "    <tr style=\"text-align: right;\">\n",
       "      <th></th>\n",
       "      <th>train error</th>\n",
       "      <th>val error</th>\n",
       "      <th>test error</th>\n",
       "      <th>kfold score error (k = 5)</th>\n",
       "    </tr>\n",
       "  </thead>\n",
       "  <tbody>\n",
       "    <tr>\n",
       "      <th>model 1</th>\n",
       "      <td>387.130413</td>\n",
       "      <td>374.355054</td>\n",
       "      <td>384.043001</td>\n",
       "      <td>385.140843</td>\n",
       "    </tr>\n",
       "    <tr>\n",
       "      <th>model 2</th>\n",
       "      <td>275.465371</td>\n",
       "      <td>265.079831</td>\n",
       "      <td>273.813609</td>\n",
       "      <td>274.507766</td>\n",
       "    </tr>\n",
       "    <tr>\n",
       "      <th>model 3</th>\n",
       "      <td>152.189230</td>\n",
       "      <td>145.336997</td>\n",
       "      <td>152.180075</td>\n",
       "      <td>153.244062</td>\n",
       "    </tr>\n",
       "    <tr>\n",
       "      <th>model 4</th>\n",
       "      <td>73.699330</td>\n",
       "      <td>72.010249</td>\n",
       "      <td>74.715015</td>\n",
       "      <td>76.608550</td>\n",
       "    </tr>\n",
       "    <tr>\n",
       "      <th>model 5</th>\n",
       "      <td>53.464807</td>\n",
       "      <td>56.093514</td>\n",
       "      <td>55.828458</td>\n",
       "      <td>58.629838</td>\n",
       "    </tr>\n",
       "    <tr>\n",
       "      <th>model 6</th>\n",
       "      <td>50.623478</td>\n",
       "      <td>56.453756</td>\n",
       "      <td>55.178651</td>\n",
       "      <td>58.143596</td>\n",
       "    </tr>\n",
       "    <tr>\n",
       "      <th>model 7</th>\n",
       "      <td>47.495478</td>\n",
       "      <td>57.451618</td>\n",
       "      <td>56.058296</td>\n",
       "      <td>59.007343</td>\n",
       "    </tr>\n",
       "    <tr>\n",
       "      <th>model 8</th>\n",
       "      <td>43.584706</td>\n",
       "      <td>60.017615</td>\n",
       "      <td>57.933490</td>\n",
       "      <td>60.882006</td>\n",
       "    </tr>\n",
       "    <tr>\n",
       "      <th>model 9</th>\n",
       "      <td>39.632596</td>\n",
       "      <td>63.729409</td>\n",
       "      <td>60.308427</td>\n",
       "      <td>64.316022</td>\n",
       "    </tr>\n",
       "    <tr>\n",
       "      <th>model 10</th>\n",
       "      <td>35.442707</td>\n",
       "      <td>68.277778</td>\n",
       "      <td>64.648904</td>\n",
       "      <td>68.808237</td>\n",
       "    </tr>\n",
       "  </tbody>\n",
       "</table>\n",
       "</div>"
      ],
      "text/plain": [
       "          train error   val error  test error  kfold score error (k = 5)\n",
       "model 1    387.130413  374.355054  384.043001                 385.140843\n",
       "model 2    275.465371  265.079831  273.813609                 274.507766\n",
       "model 3    152.189230  145.336997  152.180075                 153.244062\n",
       "model 4     73.699330   72.010249   74.715015                  76.608550\n",
       "model 5     53.464807   56.093514   55.828458                  58.629838\n",
       "model 6     50.623478   56.453756   55.178651                  58.143596\n",
       "model 7     47.495478   57.451618   56.058296                  59.007343\n",
       "model 8     43.584706   60.017615   57.933490                  60.882006\n",
       "model 9     39.632596   63.729409   60.308427                  64.316022\n",
       "model 10    35.442707   68.277778   64.648904                  68.808237"
      ]
     },
     "execution_count": 98,
     "metadata": {},
     "output_type": "execute_result"
    }
   ],
   "source": [
    "test_size = 0.2\n",
    "val_size = 0.2\n",
    "random_state = 0\n",
    "\n",
    "newest_xgb_researcher = XGB_Researcher(X, y, test_size, val_size, random_state)\n",
    "\n",
    "n_models = 10\n",
    "n_estimators_list = [2**n for n in range(1, n_models + 1)]\n",
    "max_depth_list = [5 for i in range(0, n_models)]\n",
    "learning_rate_list = [0.1 for i in range(0, n_models)]\n",
    "k = 5\n",
    "\n",
    "newest_xgb_report = newest_xgb_researcher.get_n_models_research_report_df(n_models, n_estimators_list, max_depth_list, learning_rate_list, k)\n",
    "\n",
    "newest_xgb_report"
   ]
  },
  {
   "cell_type": "markdown",
   "id": "73860ca3",
   "metadata": {},
   "source": [
    "Não conseguimos uma melhoria no score do Kfold! Na verdade, conseguimos os mesmos resultados.\n",
    "\n",
    "Assim, na prática, a adição dessa nova feature não muda em nada o modelo! Iremos comparar esse resultado aos anteriores. Uma hipótese para isso acontecer é que a quadratura do dia da semana não realça nenhuma relação com o target. Isto é, elevar ou não dia da semana ao quadrado não altera em nada o resultado final, já que as não-linearidades já são representadas pela complexidade do modelo."
   ]
  },
  {
   "cell_type": "code",
   "execution_count": 99,
   "id": "7bad5a5d",
   "metadata": {},
   "outputs": [],
   "source": [
    "newest_best_xgb_index = 'model 6'\n",
    "newest_best_xgb_df = pd.DataFrame(newest_xgb_report.loc[newest_best_xgb_index])\n",
    "newest_best_xgb_df = newest_best_xgb_df.rename(columns = {newest_best_xgb_index: 'Newest Best XGBoost Model'})"
   ]
  },
  {
   "cell_type": "markdown",
   "id": "cf77f794",
   "metadata": {},
   "source": [
    "Finalmente, comparando todos os modelos:"
   ]
  },
  {
   "cell_type": "code",
   "execution_count": 100,
   "id": "a4b3ba78",
   "metadata": {},
   "outputs": [],
   "source": [
    "newest_comparison_xgb_df = pd.concat([comparison_xgb_df, newest_best_xgb_df], axis = 1)"
   ]
  },
  {
   "cell_type": "code",
   "execution_count": 101,
   "id": "1abb3b53",
   "metadata": {
    "scrolled": true
   },
   "outputs": [
    {
     "data": {
      "text/html": [
       "<div>\n",
       "<style scoped>\n",
       "    .dataframe tbody tr th:only-of-type {\n",
       "        vertical-align: middle;\n",
       "    }\n",
       "\n",
       "    .dataframe tbody tr th {\n",
       "        vertical-align: top;\n",
       "    }\n",
       "\n",
       "    .dataframe thead th {\n",
       "        text-align: right;\n",
       "    }\n",
       "</style>\n",
       "<table border=\"1\" class=\"dataframe\">\n",
       "  <thead>\n",
       "    <tr style=\"text-align: right;\">\n",
       "      <th></th>\n",
       "      <th>Best XGBoost Model</th>\n",
       "      <th>New Best XGBoost Model</th>\n",
       "      <th>Newest Best XGBoost Model</th>\n",
       "    </tr>\n",
       "  </thead>\n",
       "  <tbody>\n",
       "    <tr>\n",
       "      <th>train error</th>\n",
       "      <td>53.338564</td>\n",
       "      <td>50.623478</td>\n",
       "      <td>50.623478</td>\n",
       "    </tr>\n",
       "    <tr>\n",
       "      <th>val error</th>\n",
       "      <td>58.772497</td>\n",
       "      <td>56.453756</td>\n",
       "      <td>56.453756</td>\n",
       "    </tr>\n",
       "    <tr>\n",
       "      <th>test error</th>\n",
       "      <td>57.507082</td>\n",
       "      <td>55.178651</td>\n",
       "      <td>55.178651</td>\n",
       "    </tr>\n",
       "    <tr>\n",
       "      <th>kfold score error (k = 5)</th>\n",
       "      <td>59.967779</td>\n",
       "      <td>58.143596</td>\n",
       "      <td>58.143596</td>\n",
       "    </tr>\n",
       "  </tbody>\n",
       "</table>\n",
       "</div>"
      ],
      "text/plain": [
       "                           Best XGBoost Model  New Best XGBoost Model  \\\n",
       "train error                         53.338564               50.623478   \n",
       "val error                           58.772497               56.453756   \n",
       "test error                          57.507082               55.178651   \n",
       "kfold score error (k = 5)           59.967779               58.143596   \n",
       "\n",
       "                           Newest Best XGBoost Model  \n",
       "train error                                50.623478  \n",
       "val error                                  56.453756  \n",
       "test error                                 55.178651  \n",
       "kfold score error (k = 5)                  58.143596  "
      ]
     },
     "execution_count": 101,
     "metadata": {},
     "output_type": "execute_result"
    }
   ],
   "source": [
    "newest_comparison_xgb_df"
   ]
  },
  {
   "cell_type": "markdown",
   "id": "5ffacffd",
   "metadata": {},
   "source": [
    "Se fossemos ficar com um modelo, ficariamos com o **New Best XGBoost Model**, ou seja, o modelo após a adição da feature de dias da semana mas antes da adição da diferenciação maior entre dia da semana e fim de semana (quadratura da feature 'Dia da Semana')."
   ]
  },
  {
   "cell_type": "markdown",
   "id": "65dc0310",
   "metadata": {},
   "source": [
    "# Visualização Gráfica do Melhor Modelo"
   ]
  },
  {
   "cell_type": "code",
   "execution_count": 102,
   "id": "066b4eca",
   "metadata": {},
   "outputs": [
    {
     "data": {
      "image/png": "[encoded data removed]",
      "text/plain": [
       "<Figure size 640x480 with 1 Axes>"
      ]
     },
     "metadata": {},
     "output_type": "display_data"
    }
   ],
   "source": [
    "new_xgb_researcher.get_model_train_scatterplot(6, n_estimators_list, max_depth_list, learning_rate_list,\n",
    "                                        title = 'Predições versus Label - Melhor XGBoost Final')"
   ]
  },
  {
   "cell_type": "markdown",
   "id": "549758b9",
   "metadata": {},
   "source": [
    "# Conclusão"
   ]
  },
  {
   "cell_type": "markdown",
   "id": "3aac182f",
   "metadata": {},
   "source": [
    "Assim, finalizamos a parte extra de adição de novas features com **melhorias** no score error na validação cruzada (Kfold) após a adição da **primeira feature nova** e **não muda** após a adição da **segunda**!\n",
    "\n",
    "Esse resultado mostra que a adição de novas features nem sempre causa melhorias na predição do modelo. Assim, devemos ter cuidado e analisar a relação entre a feature e o target uma a uma antes de adicioná-la ao modelo."
   ]
  },
  {
   "cell_type": "markdown",
   "id": "384c0f56",
   "metadata": {},
   "source": [
    "---"
   ]
  }
 ],
 "metadata": {
  "kernelspec": {
   "display_name": "Python 3 (ipykernel)",
   "language": "python",
   "name": "python3"
  },
  "language_info": {
   "codemirror_mode": {
    "name": "ipython",
    "version": 3
   },
   "file_extension": ".py",
   "mimetype": "text/x-python",
   "name": "python",
   "nbconvert_exporter": "python",
   "pygments_lexer": "ipython3",
   "version": "3.11.1"
  }
 },
 "nbformat": 4,
 "nbformat_minor": 5
}
