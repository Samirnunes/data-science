{
 "cells": [
  {
   "cell_type": "markdown",
   "id": "c9cc238d",
   "metadata": {},
   "source": [
    "# Predição da Concentração de NO2 no Ar de São José dos Campos (SP)"
   ]
  },
  {
   "cell_type": "markdown",
   "id": "7a84401e",
   "metadata": {},
   "source": [
    "Utilizaremos modelos de regressão no contexto de Machine Learning para prever a concentração de NO2 em São José dos Campos (SP) com base no horário e na concentração de NO medida na mesma hora. Imaginemos, por exemplo, que a medição de NO ocorra logo que comece a hora. Então, a predição de NO2 seria feita pelo modelo logo após a captação do valor de NO por aparelhos medidores.\n",
    "\n",
    "O objetivo final é determinar alguma relação entre os poluentes NO e NO2 que possa ser descrita por um modelo de aprendizado de máquina de forma eficiente."
   ]
  },
  {
   "cell_type": "markdown",
   "id": "79d59746",
   "metadata": {},
   "source": [
    "## Importando Bibliotecas"
   ]
  },
  {
   "cell_type": "code",
   "execution_count": 1,
   "id": "9ec38c06",
   "metadata": {},
   "outputs": [],
   "source": [
    "import pandas as pd\n",
    "import numpy as np\n",
    "import matplotlib.pyplot as plt"
   ]
  },
  {
   "cell_type": "markdown",
   "id": "3480c77e",
   "metadata": {},
   "source": [
    "---"
   ]
  },
  {
   "cell_type": "markdown",
   "id": "3de69b42",
   "metadata": {},
   "source": [
    "## Importando os Dados"
   ]
  },
  {
   "cell_type": "code",
   "execution_count": 2,
   "id": "6c369a81",
   "metadata": {},
   "outputs": [],
   "source": [
    "data = pd.read_csv('data/SP_poluicao_dados.csv')"
   ]
  },
  {
   "cell_type": "code",
   "execution_count": 3,
   "id": "b053323d",
   "metadata": {},
   "outputs": [],
   "source": [
    "data = data.drop(columns = ['Unnamed: 0'])"
   ]
  },
  {
   "cell_type": "code",
   "execution_count": 4,
   "id": "71e06e3b",
   "metadata": {
    "scrolled": true
   },
   "outputs": [
    {
     "data": {
      "text/html": [
       "<div>\n",
       "<style scoped>\n",
       "    .dataframe tbody tr th:only-of-type {\n",
       "        vertical-align: middle;\n",
       "    }\n",
       "\n",
       "    .dataframe tbody tr th {\n",
       "        vertical-align: top;\n",
       "    }\n",
       "\n",
       "    .dataframe thead th {\n",
       "        text-align: right;\n",
       "    }\n",
       "</style>\n",
       "<table border=\"1\" class=\"dataframe\">\n",
       "  <thead>\n",
       "    <tr style=\"text-align: right;\">\n",
       "      <th></th>\n",
       "      <th>ID</th>\n",
       "      <th>Data</th>\n",
       "      <th>Hora</th>\n",
       "      <th>Estacao</th>\n",
       "      <th>Codigo</th>\n",
       "      <th>Poluente</th>\n",
       "      <th>Valor</th>\n",
       "      <th>Unidade</th>\n",
       "      <th>Tipo</th>\n",
       "    </tr>\n",
       "  </thead>\n",
       "  <tbody>\n",
       "    <tr>\n",
       "      <th>0</th>\n",
       "      <td>0</td>\n",
       "      <td>2015-01-01</td>\n",
       "      <td>01:00</td>\n",
       "      <td>Americana - Vila Santa Maria</td>\n",
       "      <td>SP01</td>\n",
       "      <td>MP10</td>\n",
       "      <td>65.0</td>\n",
       "      <td>ug/m3</td>\n",
       "      <td>automatica</td>\n",
       "    </tr>\n",
       "    <tr>\n",
       "      <th>1</th>\n",
       "      <td>1</td>\n",
       "      <td>2015-01-01</td>\n",
       "      <td>02:00</td>\n",
       "      <td>Americana - Vila Santa Maria</td>\n",
       "      <td>SP01</td>\n",
       "      <td>MP10</td>\n",
       "      <td>98.0</td>\n",
       "      <td>ug/m3</td>\n",
       "      <td>automatica</td>\n",
       "    </tr>\n",
       "    <tr>\n",
       "      <th>2</th>\n",
       "      <td>2</td>\n",
       "      <td>2015-01-01</td>\n",
       "      <td>03:00</td>\n",
       "      <td>Americana - Vila Santa Maria</td>\n",
       "      <td>SP01</td>\n",
       "      <td>MP10</td>\n",
       "      <td>79.0</td>\n",
       "      <td>ug/m3</td>\n",
       "      <td>automatica</td>\n",
       "    </tr>\n",
       "    <tr>\n",
       "      <th>3</th>\n",
       "      <td>3</td>\n",
       "      <td>2015-01-01</td>\n",
       "      <td>04:00</td>\n",
       "      <td>Americana - Vila Santa Maria</td>\n",
       "      <td>SP01</td>\n",
       "      <td>MP10</td>\n",
       "      <td>53.0</td>\n",
       "      <td>ug/m3</td>\n",
       "      <td>automatica</td>\n",
       "    </tr>\n",
       "    <tr>\n",
       "      <th>4</th>\n",
       "      <td>4</td>\n",
       "      <td>2015-01-01</td>\n",
       "      <td>05:00</td>\n",
       "      <td>Americana - Vila Santa Maria</td>\n",
       "      <td>SP01</td>\n",
       "      <td>MP10</td>\n",
       "      <td>35.0</td>\n",
       "      <td>ug/m3</td>\n",
       "      <td>automatica</td>\n",
       "    </tr>\n",
       "  </tbody>\n",
       "</table>\n",
       "</div>"
      ],
      "text/plain": [
       "   ID        Data   Hora                       Estacao Codigo Poluente  Valor  \\\n",
       "0   0  2015-01-01  01:00  Americana - Vila Santa Maria   SP01     MP10   65.0   \n",
       "1   1  2015-01-01  02:00  Americana - Vila Santa Maria   SP01     MP10   98.0   \n",
       "2   2  2015-01-01  03:00  Americana - Vila Santa Maria   SP01     MP10   79.0   \n",
       "3   3  2015-01-01  04:00  Americana - Vila Santa Maria   SP01     MP10   53.0   \n",
       "4   4  2015-01-01  05:00  Americana - Vila Santa Maria   SP01     MP10   35.0   \n",
       "\n",
       "  Unidade        Tipo  \n",
       "0   ug/m3  automatica  \n",
       "1   ug/m3  automatica  \n",
       "2   ug/m3  automatica  \n",
       "3   ug/m3  automatica  \n",
       "4   ug/m3  automatica  "
      ]
     },
     "execution_count": 4,
     "metadata": {},
     "output_type": "execute_result"
    }
   ],
   "source": [
    "data.head()"
   ]
  },
  {
   "cell_type": "markdown",
   "id": "93043deb",
   "metadata": {},
   "source": [
    "---"
   ]
  },
  {
   "cell_type": "markdown",
   "id": "a61ae1d2",
   "metadata": {},
   "source": [
    "## Filtrando os dados que vamos usar"
   ]
  },
  {
   "cell_type": "code",
   "execution_count": 5,
   "id": "ca454326",
   "metadata": {},
   "outputs": [],
   "source": [
    "data = data[data['Estacao'] == 'São José dos Campos']\n",
    "data = data[(data['Poluente'] == 'NO2') | (data['Poluente'] == 'NO')]\n",
    "data = data.reset_index(drop = True)\n",
    "data['ID'] = data.index"
   ]
  },
  {
   "cell_type": "markdown",
   "id": "70d2aea7",
   "metadata": {},
   "source": [
    "### Separando os dados por poluente"
   ]
  },
  {
   "cell_type": "code",
   "execution_count": 6,
   "id": "623453af",
   "metadata": {},
   "outputs": [],
   "source": [
    "data_NO2 = data[data['Poluente'] == 'NO2'].copy()\n",
    "data_NO = data[data['Poluente'] == 'NO'].copy()"
   ]
  },
  {
   "cell_type": "markdown",
   "id": "841ce465",
   "metadata": {},
   "source": [
    "### Criando nova key para realizar inner join"
   ]
  },
  {
   "cell_type": "code",
   "execution_count": 7,
   "id": "9db520ad",
   "metadata": {},
   "outputs": [],
   "source": [
    "data_NO2['Data_Hora'] = data_NO2['Data'] + ' ' + data_NO2['Hora']\n",
    "data_NO['Data_Hora'] = data_NO['Data'] + ' ' + data_NO['Hora']"
   ]
  },
  {
   "cell_type": "code",
   "execution_count": 8,
   "id": "04b002d4",
   "metadata": {},
   "outputs": [],
   "source": [
    "joint_data = pd.merge(data_NO, data_NO2, on = ['Data_Hora', 'Data_Hora'], how = 'inner')"
   ]
  },
  {
   "cell_type": "markdown",
   "id": "9ad53973",
   "metadata": {},
   "source": [
    "### Agora nosso dataframe 'data' será aquele que utilizaremos"
   ]
  },
  {
   "cell_type": "code",
   "execution_count": 9,
   "id": "cfccbbbe",
   "metadata": {},
   "outputs": [
    {
     "data": {
      "text/html": [
       "<div>\n",
       "<style scoped>\n",
       "    .dataframe tbody tr th:only-of-type {\n",
       "        vertical-align: middle;\n",
       "    }\n",
       "\n",
       "    .dataframe tbody tr th {\n",
       "        vertical-align: top;\n",
       "    }\n",
       "\n",
       "    .dataframe thead th {\n",
       "        text-align: right;\n",
       "    }\n",
       "</style>\n",
       "<table border=\"1\" class=\"dataframe\">\n",
       "  <thead>\n",
       "    <tr style=\"text-align: right;\">\n",
       "      <th></th>\n",
       "      <th>ID_x</th>\n",
       "      <th>Data_x</th>\n",
       "      <th>Hora_x</th>\n",
       "      <th>Estacao_x</th>\n",
       "      <th>Codigo_x</th>\n",
       "      <th>Poluente_x</th>\n",
       "      <th>Valor_x</th>\n",
       "      <th>Unidade_x</th>\n",
       "      <th>Tipo_x</th>\n",
       "      <th>Data_Hora</th>\n",
       "      <th>ID_y</th>\n",
       "      <th>Data_y</th>\n",
       "      <th>Hora_y</th>\n",
       "      <th>Estacao_y</th>\n",
       "      <th>Codigo_y</th>\n",
       "      <th>Poluente_y</th>\n",
       "      <th>Valor_y</th>\n",
       "      <th>Unidade_y</th>\n",
       "      <th>Tipo_y</th>\n",
       "    </tr>\n",
       "  </thead>\n",
       "  <tbody>\n",
       "    <tr>\n",
       "      <th>0</th>\n",
       "      <td>13867</td>\n",
       "      <td>2017-01-01</td>\n",
       "      <td>02:00</td>\n",
       "      <td>São José dos Campos</td>\n",
       "      <td>SP70</td>\n",
       "      <td>NO</td>\n",
       "      <td>2.0</td>\n",
       "      <td>ug/m3</td>\n",
       "      <td>automatica</td>\n",
       "      <td>2017-01-01 02:00</td>\n",
       "      <td>22008</td>\n",
       "      <td>2017-01-01</td>\n",
       "      <td>02:00</td>\n",
       "      <td>São José dos Campos</td>\n",
       "      <td>SP70</td>\n",
       "      <td>NO2</td>\n",
       "      <td>18.0</td>\n",
       "      <td>ug/m3</td>\n",
       "      <td>automatica</td>\n",
       "    </tr>\n",
       "    <tr>\n",
       "      <th>1</th>\n",
       "      <td>13868</td>\n",
       "      <td>2017-01-01</td>\n",
       "      <td>03:00</td>\n",
       "      <td>São José dos Campos</td>\n",
       "      <td>SP70</td>\n",
       "      <td>NO</td>\n",
       "      <td>2.0</td>\n",
       "      <td>ug/m3</td>\n",
       "      <td>automatica</td>\n",
       "      <td>2017-01-01 03:00</td>\n",
       "      <td>22009</td>\n",
       "      <td>2017-01-01</td>\n",
       "      <td>03:00</td>\n",
       "      <td>São José dos Campos</td>\n",
       "      <td>SP70</td>\n",
       "      <td>NO2</td>\n",
       "      <td>15.0</td>\n",
       "      <td>ug/m3</td>\n",
       "      <td>automatica</td>\n",
       "    </tr>\n",
       "  </tbody>\n",
       "</table>\n",
       "</div>"
      ],
      "text/plain": [
       "    ID_x      Data_x Hora_x            Estacao_x Codigo_x Poluente_x  Valor_x  \\\n",
       "0  13867  2017-01-01  02:00  São José dos Campos     SP70         NO      2.0   \n",
       "1  13868  2017-01-01  03:00  São José dos Campos     SP70         NO      2.0   \n",
       "\n",
       "  Unidade_x      Tipo_x         Data_Hora   ID_y      Data_y Hora_y  \\\n",
       "0     ug/m3  automatica  2017-01-01 02:00  22008  2017-01-01  02:00   \n",
       "1     ug/m3  automatica  2017-01-01 03:00  22009  2017-01-01  03:00   \n",
       "\n",
       "             Estacao_y Codigo_y Poluente_y  Valor_y Unidade_y      Tipo_y  \n",
       "0  São José dos Campos     SP70        NO2     18.0     ug/m3  automatica  \n",
       "1  São José dos Campos     SP70        NO2     15.0     ug/m3  automatica  "
      ]
     },
     "execution_count": 9,
     "metadata": {},
     "output_type": "execute_result"
    }
   ],
   "source": [
    "joint_data.head(2)"
   ]
  },
  {
   "cell_type": "code",
   "execution_count": 10,
   "id": "2a3f3718",
   "metadata": {},
   "outputs": [],
   "source": [
    "data = joint_data[['Data_x', 'Hora_x', 'Valor_x', 'Valor_y', 'Unidade_x']]\n",
    "data = data.rename(columns = {'Data_x': 'Data',\n",
    "                              'Hora_x': 'Hora',\n",
    "                              'Valor_x': 'Concentração_NO',\n",
    "                              'Valor_y': 'Concentração_NO2',\n",
    "                              'Unidade_x': 'Unidade'})"
   ]
  },
  {
   "cell_type": "markdown",
   "id": "58881c33",
   "metadata": {},
   "source": [
    "### Transformando a coluna 'Hora' em dados numéricos"
   ]
  },
  {
   "cell_type": "code",
   "execution_count": 11,
   "id": "189e17eb",
   "metadata": {},
   "outputs": [],
   "source": [
    "def hour_to_num(hour):\n",
    "    hour_split = hour.split(':')\n",
    "    return float(hour_split[0]) + float(hour_split[1])/60\n",
    "\n",
    "data['Hora'] = data['Hora'].apply(hour_to_num)"
   ]
  },
  {
   "cell_type": "code",
   "execution_count": 12,
   "id": "dfa39dcc",
   "metadata": {},
   "outputs": [
    {
     "data": {
      "text/html": [
       "<div>\n",
       "<style scoped>\n",
       "    .dataframe tbody tr th:only-of-type {\n",
       "        vertical-align: middle;\n",
       "    }\n",
       "\n",
       "    .dataframe tbody tr th {\n",
       "        vertical-align: top;\n",
       "    }\n",
       "\n",
       "    .dataframe thead th {\n",
       "        text-align: right;\n",
       "    }\n",
       "</style>\n",
       "<table border=\"1\" class=\"dataframe\">\n",
       "  <thead>\n",
       "    <tr style=\"text-align: right;\">\n",
       "      <th></th>\n",
       "      <th>Data</th>\n",
       "      <th>Hora</th>\n",
       "      <th>Concentração_NO</th>\n",
       "      <th>Concentração_NO2</th>\n",
       "      <th>Unidade</th>\n",
       "    </tr>\n",
       "  </thead>\n",
       "  <tbody>\n",
       "    <tr>\n",
       "      <th>0</th>\n",
       "      <td>2017-01-01</td>\n",
       "      <td>2.0</td>\n",
       "      <td>2.0</td>\n",
       "      <td>18.0</td>\n",
       "      <td>ug/m3</td>\n",
       "    </tr>\n",
       "    <tr>\n",
       "      <th>1</th>\n",
       "      <td>2017-01-01</td>\n",
       "      <td>3.0</td>\n",
       "      <td>2.0</td>\n",
       "      <td>15.0</td>\n",
       "      <td>ug/m3</td>\n",
       "    </tr>\n",
       "    <tr>\n",
       "      <th>2</th>\n",
       "      <td>2017-01-01</td>\n",
       "      <td>4.0</td>\n",
       "      <td>1.0</td>\n",
       "      <td>7.0</td>\n",
       "      <td>ug/m3</td>\n",
       "    </tr>\n",
       "    <tr>\n",
       "      <th>3</th>\n",
       "      <td>2017-01-01</td>\n",
       "      <td>5.0</td>\n",
       "      <td>1.0</td>\n",
       "      <td>6.0</td>\n",
       "      <td>ug/m3</td>\n",
       "    </tr>\n",
       "    <tr>\n",
       "      <th>4</th>\n",
       "      <td>2017-01-01</td>\n",
       "      <td>6.0</td>\n",
       "      <td>0.0</td>\n",
       "      <td>6.0</td>\n",
       "      <td>ug/m3</td>\n",
       "    </tr>\n",
       "  </tbody>\n",
       "</table>\n",
       "</div>"
      ],
      "text/plain": [
       "         Data  Hora  Concentração_NO  Concentração_NO2 Unidade\n",
       "0  2017-01-01   2.0              2.0              18.0   ug/m3\n",
       "1  2017-01-01   3.0              2.0              15.0   ug/m3\n",
       "2  2017-01-01   4.0              1.0               7.0   ug/m3\n",
       "3  2017-01-01   5.0              1.0               6.0   ug/m3\n",
       "4  2017-01-01   6.0              0.0               6.0   ug/m3"
      ]
     },
     "execution_count": 12,
     "metadata": {},
     "output_type": "execute_result"
    }
   ],
   "source": [
    "data.head()"
   ]
  },
  {
   "cell_type": "markdown",
   "id": "fe4f278e",
   "metadata": {},
   "source": [
    "Agora temos os dados prontos para iniciarmos algumas análises e depois montar um modelo de Machine Learning que prevê a concentração de NO2 com base na concentração de NO em São José dos Campos e no horário da medição."
   ]
  },
  {
   "cell_type": "markdown",
   "id": "ff7689e7",
   "metadata": {},
   "source": [
    "---"
   ]
  },
  {
   "cell_type": "markdown",
   "id": "d7257fa4",
   "metadata": {},
   "source": [
    "## Análises"
   ]
  },
  {
   "cell_type": "markdown",
   "id": "86be3c36",
   "metadata": {},
   "source": [
    "### Correlações"
   ]
  },
  {
   "cell_type": "code",
   "execution_count": 25,
   "id": "3a77f973",
   "metadata": {},
   "outputs": [
    {
     "data": {
      "text/html": [
       "<div>\n",
       "<style scoped>\n",
       "    .dataframe tbody tr th:only-of-type {\n",
       "        vertical-align: middle;\n",
       "    }\n",
       "\n",
       "    .dataframe tbody tr th {\n",
       "        vertical-align: top;\n",
       "    }\n",
       "\n",
       "    .dataframe thead th {\n",
       "        text-align: right;\n",
       "    }\n",
       "</style>\n",
       "<table border=\"1\" class=\"dataframe\">\n",
       "  <thead>\n",
       "    <tr style=\"text-align: right;\">\n",
       "      <th></th>\n",
       "      <th>Hora</th>\n",
       "      <th>Concentração_NO</th>\n",
       "      <th>Concentração_NO2</th>\n",
       "    </tr>\n",
       "  </thead>\n",
       "  <tbody>\n",
       "    <tr>\n",
       "      <th>Hora</th>\n",
       "      <td>1.000000</td>\n",
       "      <td>-0.046316</td>\n",
       "      <td>0.230218</td>\n",
       "    </tr>\n",
       "    <tr>\n",
       "      <th>Concentração_NO</th>\n",
       "      <td>-0.046316</td>\n",
       "      <td>1.000000</td>\n",
       "      <td>0.485990</td>\n",
       "    </tr>\n",
       "    <tr>\n",
       "      <th>Concentração_NO2</th>\n",
       "      <td>0.230218</td>\n",
       "      <td>0.485990</td>\n",
       "      <td>1.000000</td>\n",
       "    </tr>\n",
       "  </tbody>\n",
       "</table>\n",
       "</div>"
      ],
      "text/plain": [
       "                      Hora  Concentração_NO  Concentração_NO2\n",
       "Hora              1.000000        -0.046316          0.230218\n",
       "Concentração_NO  -0.046316         1.000000          0.485990\n",
       "Concentração_NO2  0.230218         0.485990          1.000000"
      ]
     },
     "execution_count": 25,
     "metadata": {},
     "output_type": "execute_result"
    }
   ],
   "source": [
    "data.corr(numeric_only = True)"
   ]
  },
  {
   "cell_type": "markdown",
   "id": "d11c9760",
   "metadata": {},
   "source": [
    "Verificamos correlações positivas entre o target (Concentração_NO2) e as features (Hora e Concentração_NO)."
   ]
  },
  {
   "cell_type": "markdown",
   "id": "2a4aa5fe",
   "metadata": {},
   "source": [
    "### Scatterplot da concentração de NO2 pela concentração de NO"
   ]
  },
  {
   "cell_type": "code",
   "execution_count": 645,
   "id": "c02ab759",
   "metadata": {},
   "outputs": [
    {
     "data": {
      "text/plain": [
       "Text(0.5, 0, 'Concentração de NO (mug/m^3)')"
      ]
     },
     "execution_count": 645,
     "metadata": {},
     "output_type": "execute_result"
    },
    {
     "data": {
      "image/png": "[encoded data removed]",
      "text/plain": [
       "<Figure size 640x480 with 1 Axes>"
      ]
     },
     "metadata": {},
     "output_type": "display_data"
    }
   ],
   "source": [
    "_ = plt.scatter(x = data['Concentração_NO'], y = data['Concentração_NO2'])\n",
    "plt.title('Concentração de NO2 por Concentração de NO')\n",
    "plt.ylabel('Concentração de NO2 (mug/m^3)')\n",
    "plt.xlabel('Concentração de NO (mug/m^3)')"
   ]
  },
  {
   "cell_type": "markdown",
   "id": "6f81b209",
   "metadata": {},
   "source": [
    "Vamos eliminar outliers para facilitar o aprendizado do modelo, considerando como outliers aqueles valores de NO > 200 e NO2 > 100:"
   ]
  },
  {
   "cell_type": "code",
   "execution_count": 20,
   "id": "2a86a255",
   "metadata": {},
   "outputs": [],
   "source": [
    "data.drop(data[data['Concentração_NO'] > 200].index, inplace = True)\n",
    "data.drop(data[data['Concentração_NO2'] > 100].index, inplace = True)"
   ]
  },
  {
   "cell_type": "code",
   "execution_count": 646,
   "id": "263ba724",
   "metadata": {
    "scrolled": true
   },
   "outputs": [
    {
     "data": {
      "text/plain": [
       "Text(0.5, 0, 'Concentração de NO (mug/m^3)')"
      ]
     },
     "execution_count": 646,
     "metadata": {},
     "output_type": "execute_result"
    },
    {
     "data": {
      "image/png": "[encoded data removed]",
      "text/plain": [
       "<Figure size 640x480 with 1 Axes>"
      ]
     },
     "metadata": {},
     "output_type": "display_data"
    }
   ],
   "source": [
    "_ = plt.scatter(x = data['Concentração_NO'], y = data['Concentração_NO2'])\n",
    "plt.title('Concentração de NO2 por Concentração de NO')\n",
    "plt.ylabel('Concentração de NO2 (mug/m^3)')\n",
    "plt.xlabel('Concentração de NO (mug/m^3)')"
   ]
  },
  {
   "cell_type": "markdown",
   "id": "8b66757f",
   "metadata": {},
   "source": [
    "### Scatterplot da concentração de NO2 pela hora"
   ]
  },
  {
   "cell_type": "code",
   "execution_count": 649,
   "id": "83a497b1",
   "metadata": {},
   "outputs": [
    {
     "data": {
      "text/plain": [
       "Text(0.5, 0, 'Hora')"
      ]
     },
     "execution_count": 649,
     "metadata": {},
     "output_type": "execute_result"
    },
    {
     "data": {
      "image/png": "[encoded data removed]",
      "text/plain": [
       "<Figure size 640x480 with 1 Axes>"
      ]
     },
     "metadata": {},
     "output_type": "display_data"
    }
   ],
   "source": [
    "_ = plt.scatter(data['Hora'], data['Concentração_NO2'])\n",
    "plt.title('Concentração de NO2 por Hora')\n",
    "plt.ylabel('Concentração de NO2 (mug/m^3)')\n",
    "plt.xlabel('Hora')"
   ]
  },
  {
   "cell_type": "markdown",
   "id": "eb5c0c9b",
   "metadata": {},
   "source": [
    "---"
   ]
  },
  {
   "cell_type": "markdown",
   "id": "7a7fd38b",
   "metadata": {},
   "source": [
    "## Seleção de Modelos"
   ]
  },
  {
   "cell_type": "markdown",
   "id": "9e8d41a7",
   "metadata": {},
   "source": [
    "Verificamos que as relações entre as variáveis estão longe de serem lineares. Assim, iremos utilizar modelos de maior complexidade para que consigam se adaptar à relação entre target e features. Testaremos os seguintes:\n",
    "\n",
    "- Random Forest\n",
    "- XGBoost (Extreme Gradient Boost)"
   ]
  },
  {
   "cell_type": "markdown",
   "id": "bd653e8d",
   "metadata": {},
   "source": [
    "---"
   ]
  },
  {
   "cell_type": "markdown",
   "id": "c16d6d09",
   "metadata": {},
   "source": [
    "# 1) Random Forest"
   ]
  },
  {
   "cell_type": "markdown",
   "id": "3cdf626f",
   "metadata": {},
   "source": [
    "## Preparação dos dados"
   ]
  },
  {
   "cell_type": "markdown",
   "id": "081f3a02",
   "metadata": {},
   "source": [
    "### Separando em features e label\n",
    "\n",
    "- X: features\n",
    "- y: label"
   ]
  },
  {
   "cell_type": "code",
   "execution_count": 213,
   "id": "ca2a9b09",
   "metadata": {},
   "outputs": [],
   "source": [
    "features = ['Hora', 'Concentração_NO']\n",
    "X = data[features]\n",
    "y = data['Concentração_NO2']"
   ]
  },
  {
   "cell_type": "code",
   "execution_count": 214,
   "id": "af0220ea",
   "metadata": {},
   "outputs": [
    {
     "data": {
      "text/html": [
       "<div>\n",
       "<style scoped>\n",
       "    .dataframe tbody tr th:only-of-type {\n",
       "        vertical-align: middle;\n",
       "    }\n",
       "\n",
       "    .dataframe tbody tr th {\n",
       "        vertical-align: top;\n",
       "    }\n",
       "\n",
       "    .dataframe thead th {\n",
       "        text-align: right;\n",
       "    }\n",
       "</style>\n",
       "<table border=\"1\" class=\"dataframe\">\n",
       "  <thead>\n",
       "    <tr style=\"text-align: right;\">\n",
       "      <th></th>\n",
       "      <th>Hora</th>\n",
       "      <th>Concentração_NO</th>\n",
       "    </tr>\n",
       "  </thead>\n",
       "  <tbody>\n",
       "    <tr>\n",
       "      <th>0</th>\n",
       "      <td>2.0</td>\n",
       "      <td>2.0</td>\n",
       "    </tr>\n",
       "    <tr>\n",
       "      <th>1</th>\n",
       "      <td>3.0</td>\n",
       "      <td>2.0</td>\n",
       "    </tr>\n",
       "    <tr>\n",
       "      <th>2</th>\n",
       "      <td>4.0</td>\n",
       "      <td>1.0</td>\n",
       "    </tr>\n",
       "    <tr>\n",
       "      <th>3</th>\n",
       "      <td>5.0</td>\n",
       "      <td>1.0</td>\n",
       "    </tr>\n",
       "    <tr>\n",
       "      <th>4</th>\n",
       "      <td>6.0</td>\n",
       "      <td>0.0</td>\n",
       "    </tr>\n",
       "  </tbody>\n",
       "</table>\n",
       "</div>"
      ],
      "text/plain": [
       "   Hora  Concentração_NO\n",
       "0   2.0              2.0\n",
       "1   3.0              2.0\n",
       "2   4.0              1.0\n",
       "3   5.0              1.0\n",
       "4   6.0              0.0"
      ]
     },
     "execution_count": 214,
     "metadata": {},
     "output_type": "execute_result"
    }
   ],
   "source": [
    "X.head()"
   ]
  },
  {
   "cell_type": "code",
   "execution_count": 215,
   "id": "f34b4e2a",
   "metadata": {},
   "outputs": [
    {
     "data": {
      "text/plain": [
       "0    18.0\n",
       "1    15.0\n",
       "2     7.0\n",
       "3     6.0\n",
       "4     6.0\n",
       "Name: Concentração_NO2, dtype: float64"
      ]
     },
     "execution_count": 215,
     "metadata": {},
     "output_type": "execute_result"
    }
   ],
   "source": [
    "y.head()"
   ]
  },
  {
   "cell_type": "markdown",
   "id": "9e75ea2c",
   "metadata": {},
   "source": [
    "### Pipeline de Pré-processamento, Split em treino, teste e validação, e Cross-validation via KFold"
   ]
  },
  {
   "cell_type": "markdown",
   "id": "54987a7c",
   "metadata": {},
   "source": [
    "Realizaremos as seguintes etapas de pré-processamento nas colunas (todas numéricas):\n",
    "- Scaling no intervalo [0,1]\n",
    "- Imputing da moda (most_frequent)\n",
    "\n",
    "O imputing não seria necessário nesse caso porque já verificamos na EDA que não há valores faltantes no conjunto de dados. No entanto, vamos fazê-lo de forma a considerar essa situação."
   ]
  },
  {
   "cell_type": "markdown",
   "id": "d3c23b7e",
   "metadata": {},
   "source": [
    "### Criando a pipeline de pré-processamento"
   ]
  },
  {
   "cell_type": "code",
   "execution_count": 509,
   "id": "0a7c2f61",
   "metadata": {
    "scrolled": true
   },
   "outputs": [],
   "source": [
    "from sklearn.ensemble import RandomForestRegressor\n",
    "from sklearn.pipeline import Pipeline\n",
    "from sklearn.impute import SimpleImputer\n",
    "from sklearn.preprocessing import MinMaxScaler\n",
    "from sklearn.model_selection import train_test_split\n",
    "from sklearn.model_selection import cross_val_score\n",
    "from sklearn.metrics import mean_squared_error\n",
    "from xgboost import XGBRegressor"
   ]
  },
  {
   "cell_type": "markdown",
   "id": "58fab0d5",
   "metadata": {},
   "source": [
    "Há duas formas de fazermos isso:\n",
    "\n",
    "- Utilizando a classe Pipeline do Sklearn e realizando o fit nos dados de treino. Nesse caso, porém, não é possível realizar o pré-processamento das labels.\n",
    "\n",
    "- Criando uma função para realizar a pipeline em cada uma das features e na label de forma separada."
   ]
  },
  {
   "cell_type": "markdown",
   "id": "899ff99b",
   "metadata": {},
   "source": [
    "A 1a opção teria o seguinte código:"
   ]
  },
  {
   "cell_type": "code",
   "execution_count": 320,
   "id": "84db25c2",
   "metadata": {},
   "outputs": [],
   "source": [
    "# preprocessor = Pipeline(steps = [\n",
    "#     ('imputer', SimpleImputer(strategy = 'most_frequent')),\n",
    "#      ('scaler', MinMaxScaler(feature_range = (0, 1)))\n",
    "# ])\n",
    "\n",
    "# model1 = RandomForestRegressor(random_state = 0, n_estimators = 20, max_depth = 5)\n",
    "\n",
    "# model1_pipeline = Pipeline(steps = [('preprocessor', preprocessor),\n",
    "#                                 ('model1', model1)])"
   ]
  },
  {
   "cell_type": "markdown",
   "id": "9337394f",
   "metadata": {},
   "source": [
    "Para manter a simplicidade do código, vamos criar uma função auxiliar para fazer a 1a opção e gerar um novo modelo variando n_estimators e max_depth:"
   ]
  },
  {
   "cell_type": "code",
   "execution_count": 596,
   "id": "452a71be",
   "metadata": {},
   "outputs": [],
   "source": [
    "def preprocess_random_forest(n_estimators, max_depth):\n",
    "    preprocessor = Pipeline(steps = [\n",
    "        ('imputer', SimpleImputer(strategy = 'most_frequent')),\n",
    "        ('scaler', MinMaxScaler(feature_range = (0, 1)))\n",
    "    ])\n",
    "    \n",
    "    model = RandomForestRegressor(random_state = 0, n_estimators = n_estimators, max_depth = max_depth)\n",
    "    \n",
    "    model_pipeline = Pipeline(steps = [('preprocessor', preprocessor),\n",
    "                                      ('model', model)])\n",
    "    \n",
    "    return model_pipeline"
   ]
  },
  {
   "cell_type": "markdown",
   "id": "d18e7bc4",
   "metadata": {},
   "source": [
    "### Validando através de um split em treino, teste e validação"
   ]
  },
  {
   "cell_type": "markdown",
   "id": "cd453d3f",
   "metadata": {},
   "source": [
    "Porcentagens do dataset utilizadas:\n",
    "- Treino: 60%\n",
    "- Teste: 20%\n",
    "- Validação: 20%"
   ]
  },
  {
   "cell_type": "markdown",
   "id": "f94c14f6",
   "metadata": {},
   "source": [
    "### Split em treino, teste e validação"
   ]
  },
  {
   "cell_type": "code",
   "execution_count": 597,
   "id": "07fea657",
   "metadata": {},
   "outputs": [],
   "source": [
    "X_train, X_test, y_train, y_test = train_test_split(X, y, test_size = 0.2, random_state = 0)"
   ]
  },
  {
   "cell_type": "code",
   "execution_count": 598,
   "id": "f76e04a7",
   "metadata": {},
   "outputs": [],
   "source": [
    "X_train, X_val, y_train, y_val = train_test_split(X_train, y_train, test_size = 0.2, random_state = 0)"
   ]
  },
  {
   "cell_type": "markdown",
   "id": "0df8f641",
   "metadata": {},
   "source": [
    "### Treinando 10 modelos diferentes de Random Forest variando n_estimators\n",
    "\n",
    "Obs: Manteremos max_depth = 5 para evitar overfitting."
   ]
  },
  {
   "cell_type": "code",
   "execution_count": 599,
   "id": "ea5f3040",
   "metadata": {},
   "outputs": [],
   "source": [
    "n_estimators_list = [2**n for n in range(1, 11)]\n",
    "max_depth_list = [5 for i in range(0, 10)]\n",
    "random_forest_models = []\n",
    "\n",
    "for i in range(0, 10):\n",
    "    new_model = preprocess_random_forest(n_estimators = n_estimators_list[i], max_depth = max_depth_list[i])\n",
    "    new_model.fit(X_train, y_train)\n",
    "    random_forest_models.append(new_model)"
   ]
  },
  {
   "cell_type": "markdown",
   "id": "bbb74b68",
   "metadata": {},
   "source": [
    "### Validando os 10 modelos"
   ]
  },
  {
   "cell_type": "code",
   "execution_count": 600,
   "id": "98f03f0e",
   "metadata": {},
   "outputs": [],
   "source": [
    "def get_train_test_val_predictions(model, X_train, X_test, X_val):\n",
    "    preds_train = model.predict(X_train)\n",
    "    preds_test = model.predict(X_test)\n",
    "    preds_val = model.predict(X_val)\n",
    "    \n",
    "    predictions = {'train': preds_train, 'test': preds_test, 'val': preds_val}\n",
    "    \n",
    "    return predictions"
   ]
  },
  {
   "cell_type": "code",
   "execution_count": 601,
   "id": "70cb7e2e",
   "metadata": {},
   "outputs": [],
   "source": [
    "def get_train_test_val_errors(model, X_train, y_train, X_test, y_test, X_val, y_val):\n",
    "    predictions = get_train_test_val_predictions(model, X_train, X_test, X_val)\n",
    "    train_error = mean_squared_error(y_train, predictions['train'])\n",
    "    test_error = mean_squared_error(y_test, predictions['test'])\n",
    "    val_error = mean_squared_error(y_val, predictions['val'])\n",
    "    \n",
    "    errors = {'train error': train_error, 'test error': test_error, 'val error': val_error}\n",
    "    \n",
    "    return errors"
   ]
  },
  {
   "cell_type": "code",
   "execution_count": 602,
   "id": "46de4f70",
   "metadata": {},
   "outputs": [],
   "source": [
    "def get_model_errors_dataframe(models_list, X_train, y_train, X_test, y_test, X_val, y_val):\n",
    "    model = models_list[0]\n",
    "    errors = get_train_test_val_errors(model, X_train, y_train,\n",
    "                                       X_test, y_test,\n",
    "                                       X_val, y_val)\n",
    "    \n",
    "    df_errors = pd.DataFrame(data = errors, index = ['model 1'])\n",
    "    \n",
    "    num_models = len(models_list)\n",
    "    for i in range(1, num_models):\n",
    "        model = models_list[i]\n",
    "        errors = get_train_test_val_errors(model, X_train, y_train,\n",
    "                                       X_test, y_test,\n",
    "                                       X_val, y_val)\n",
    "        df = pd.DataFrame(data = errors, index = [f'model {i + 1}'])\n",
    "        df_errors = pd.concat([df_errors, df])\n",
    "    \n",
    "    return df_errors"
   ]
  },
  {
   "cell_type": "code",
   "execution_count": 603,
   "id": "33ca9b25",
   "metadata": {},
   "outputs": [],
   "source": [
    "df_errors_random_forest = get_model_errors_dataframe(random_forest_models, X_train, y_train, \n",
    "                                                     X_test, y_test, X_val, y_val)"
   ]
  },
  {
   "cell_type": "code",
   "execution_count": 604,
   "id": "3aa62238",
   "metadata": {
    "scrolled": true
   },
   "outputs": [
    {
     "data": {
      "text/html": [
       "<div>\n",
       "<style scoped>\n",
       "    .dataframe tbody tr th:only-of-type {\n",
       "        vertical-align: middle;\n",
       "    }\n",
       "\n",
       "    .dataframe tbody tr th {\n",
       "        vertical-align: top;\n",
       "    }\n",
       "\n",
       "    .dataframe thead th {\n",
       "        text-align: right;\n",
       "    }\n",
       "</style>\n",
       "<table border=\"1\" class=\"dataframe\">\n",
       "  <thead>\n",
       "    <tr style=\"text-align: right;\">\n",
       "      <th></th>\n",
       "      <th>train error</th>\n",
       "      <th>test error</th>\n",
       "      <th>val error</th>\n",
       "    </tr>\n",
       "  </thead>\n",
       "  <tbody>\n",
       "    <tr>\n",
       "      <th>model 1</th>\n",
       "      <td>60.497392</td>\n",
       "      <td>61.101896</td>\n",
       "      <td>62.108431</td>\n",
       "    </tr>\n",
       "    <tr>\n",
       "      <th>model 2</th>\n",
       "      <td>59.668048</td>\n",
       "      <td>60.105578</td>\n",
       "      <td>60.439729</td>\n",
       "    </tr>\n",
       "    <tr>\n",
       "      <th>model 3</th>\n",
       "      <td>59.385134</td>\n",
       "      <td>60.218833</td>\n",
       "      <td>60.082713</td>\n",
       "    </tr>\n",
       "    <tr>\n",
       "      <th>model 4</th>\n",
       "      <td>58.833673</td>\n",
       "      <td>59.036599</td>\n",
       "      <td>59.105095</td>\n",
       "    </tr>\n",
       "    <tr>\n",
       "      <th>model 5</th>\n",
       "      <td>58.503980</td>\n",
       "      <td>58.532491</td>\n",
       "      <td>58.635961</td>\n",
       "    </tr>\n",
       "    <tr>\n",
       "      <th>model 6</th>\n",
       "      <td>58.397900</td>\n",
       "      <td>58.740221</td>\n",
       "      <td>58.644129</td>\n",
       "    </tr>\n",
       "    <tr>\n",
       "      <th>model 7</th>\n",
       "      <td>58.277936</td>\n",
       "      <td>58.774801</td>\n",
       "      <td>58.624549</td>\n",
       "    </tr>\n",
       "    <tr>\n",
       "      <th>model 8</th>\n",
       "      <td>58.266782</td>\n",
       "      <td>58.645649</td>\n",
       "      <td>58.695343</td>\n",
       "    </tr>\n",
       "    <tr>\n",
       "      <th>model 9</th>\n",
       "      <td>58.288462</td>\n",
       "      <td>58.688061</td>\n",
       "      <td>58.764871</td>\n",
       "    </tr>\n",
       "    <tr>\n",
       "      <th>model 10</th>\n",
       "      <td>58.252663</td>\n",
       "      <td>58.703744</td>\n",
       "      <td>58.717231</td>\n",
       "    </tr>\n",
       "  </tbody>\n",
       "</table>\n",
       "</div>"
      ],
      "text/plain": [
       "          train error  test error  val error\n",
       "model 1     60.497392   61.101896  62.108431\n",
       "model 2     59.668048   60.105578  60.439729\n",
       "model 3     59.385134   60.218833  60.082713\n",
       "model 4     58.833673   59.036599  59.105095\n",
       "model 5     58.503980   58.532491  58.635961\n",
       "model 6     58.397900   58.740221  58.644129\n",
       "model 7     58.277936   58.774801  58.624549\n",
       "model 8     58.266782   58.645649  58.695343\n",
       "model 9     58.288462   58.688061  58.764871\n",
       "model 10    58.252663   58.703744  58.717231"
      ]
     },
     "execution_count": 604,
     "metadata": {},
     "output_type": "execute_result"
    }
   ],
   "source": [
    "df_errors_random_forest"
   ]
  },
  {
   "cell_type": "markdown",
   "id": "42321432",
   "metadata": {},
   "source": [
    "### Validando através de Cross-validation de 5 folds"
   ]
  },
  {
   "cell_type": "code",
   "execution_count": 605,
   "id": "d463969c",
   "metadata": {},
   "outputs": [],
   "source": [
    "def get_kfold_mean_score(model, X, y):\n",
    "    kfold_scores = -1 * cross_val_score(model, X, y, cv = 5, scoring = 'neg_mean_squared_error')\n",
    "    return kfold_scores.mean()"
   ]
  },
  {
   "cell_type": "code",
   "execution_count": 606,
   "id": "f401a36a",
   "metadata": {},
   "outputs": [],
   "source": [
    "def get_kfold_mean_score_dataframe(models_list, X, y):\n",
    "    model = models_list[0]\n",
    "    kfold_score = get_kfold_mean_score(model, X, y)\n",
    "    \n",
    "    df_scores = pd.DataFrame(data = {'kfold score (k = 5)': kfold_score}\n",
    "                             , index = ['model 1'])\n",
    "    \n",
    "    num_models = len(models_list)\n",
    "    for i in range(1, num_models):\n",
    "        model = models_list[i]\n",
    "        kfold_score = get_kfold_mean_score(model, X, y)\n",
    "        df = pd.DataFrame(data = {'kfold score (k = 5)': kfold_score}\n",
    "                         , index = [f'model {i + 1}'])\n",
    "        df_scores = pd.concat([df_scores, df])\n",
    "    \n",
    "    return df_scores"
   ]
  },
  {
   "cell_type": "markdown",
   "id": "ef886a7c",
   "metadata": {},
   "source": [
    "### Obtendo os modelos novamente (não treinados)"
   ]
  },
  {
   "cell_type": "code",
   "execution_count": 607,
   "id": "aab4037b",
   "metadata": {},
   "outputs": [],
   "source": [
    "random_forest_models = []\n",
    "\n",
    "for i in range(0, 10):\n",
    "    new_model = preprocess_random_forest(n_estimators = n_estimators_list[i], max_depth = max_depth_list[i])\n",
    "    random_forest_models.append(new_model)"
   ]
  },
  {
   "cell_type": "code",
   "execution_count": 608,
   "id": "ee1d1d14",
   "metadata": {},
   "outputs": [],
   "source": [
    "df_scores_random_forest = get_kfold_mean_score_dataframe(random_forest_models, X, y)"
   ]
  },
  {
   "cell_type": "code",
   "execution_count": 609,
   "id": "ba80b758",
   "metadata": {},
   "outputs": [
    {
     "data": {
      "text/html": [
       "<div>\n",
       "<style scoped>\n",
       "    .dataframe tbody tr th:only-of-type {\n",
       "        vertical-align: middle;\n",
       "    }\n",
       "\n",
       "    .dataframe tbody tr th {\n",
       "        vertical-align: top;\n",
       "    }\n",
       "\n",
       "    .dataframe thead th {\n",
       "        text-align: right;\n",
       "    }\n",
       "</style>\n",
       "<table border=\"1\" class=\"dataframe\">\n",
       "  <thead>\n",
       "    <tr style=\"text-align: right;\">\n",
       "      <th></th>\n",
       "      <th>kfold score (k = 5)</th>\n",
       "    </tr>\n",
       "  </thead>\n",
       "  <tbody>\n",
       "    <tr>\n",
       "      <th>model 1</th>\n",
       "      <td>71.602434</td>\n",
       "    </tr>\n",
       "    <tr>\n",
       "      <th>model 2</th>\n",
       "      <td>70.566107</td>\n",
       "    </tr>\n",
       "    <tr>\n",
       "      <th>model 3</th>\n",
       "      <td>70.108680</td>\n",
       "    </tr>\n",
       "    <tr>\n",
       "      <th>model 4</th>\n",
       "      <td>69.763208</td>\n",
       "    </tr>\n",
       "    <tr>\n",
       "      <th>model 5</th>\n",
       "      <td>69.273888</td>\n",
       "    </tr>\n",
       "    <tr>\n",
       "      <th>model 6</th>\n",
       "      <td>69.100887</td>\n",
       "    </tr>\n",
       "    <tr>\n",
       "      <th>model 7</th>\n",
       "      <td>69.318291</td>\n",
       "    </tr>\n",
       "    <tr>\n",
       "      <th>model 8</th>\n",
       "      <td>69.426311</td>\n",
       "    </tr>\n",
       "    <tr>\n",
       "      <th>model 9</th>\n",
       "      <td>69.359067</td>\n",
       "    </tr>\n",
       "    <tr>\n",
       "      <th>model 10</th>\n",
       "      <td>69.317713</td>\n",
       "    </tr>\n",
       "  </tbody>\n",
       "</table>\n",
       "</div>"
      ],
      "text/plain": [
       "          kfold score (k = 5)\n",
       "model 1             71.602434\n",
       "model 2             70.566107\n",
       "model 3             70.108680\n",
       "model 4             69.763208\n",
       "model 5             69.273888\n",
       "model 6             69.100887\n",
       "model 7             69.318291\n",
       "model 8             69.426311\n",
       "model 9             69.359067\n",
       "model 10            69.317713"
      ]
     },
     "execution_count": 609,
     "metadata": {},
     "output_type": "execute_result"
    }
   ],
   "source": [
    "df_scores_random_forest"
   ]
  },
  {
   "cell_type": "markdown",
   "id": "cdef9dae",
   "metadata": {},
   "source": [
    "### Visualização final dos dois métodos de validação para a Random Forest"
   ]
  },
  {
   "cell_type": "code",
   "execution_count": 610,
   "id": "e36d84ed",
   "metadata": {},
   "outputs": [],
   "source": [
    "df_random_forest = pd.concat([df_errors_random_forest, df_scores_random_forest], axis = 1)"
   ]
  },
  {
   "cell_type": "code",
   "execution_count": 611,
   "id": "202ee2c7",
   "metadata": {
    "scrolled": true
   },
   "outputs": [
    {
     "data": {
      "text/html": [
       "<div>\n",
       "<style scoped>\n",
       "    .dataframe tbody tr th:only-of-type {\n",
       "        vertical-align: middle;\n",
       "    }\n",
       "\n",
       "    .dataframe tbody tr th {\n",
       "        vertical-align: top;\n",
       "    }\n",
       "\n",
       "    .dataframe thead th {\n",
       "        text-align: right;\n",
       "    }\n",
       "</style>\n",
       "<table border=\"1\" class=\"dataframe\">\n",
       "  <thead>\n",
       "    <tr style=\"text-align: right;\">\n",
       "      <th></th>\n",
       "      <th>train error</th>\n",
       "      <th>test error</th>\n",
       "      <th>val error</th>\n",
       "      <th>kfold score (k = 5)</th>\n",
       "    </tr>\n",
       "  </thead>\n",
       "  <tbody>\n",
       "    <tr>\n",
       "      <th>model 1</th>\n",
       "      <td>60.497392</td>\n",
       "      <td>61.101896</td>\n",
       "      <td>62.108431</td>\n",
       "      <td>71.602434</td>\n",
       "    </tr>\n",
       "    <tr>\n",
       "      <th>model 2</th>\n",
       "      <td>59.668048</td>\n",
       "      <td>60.105578</td>\n",
       "      <td>60.439729</td>\n",
       "      <td>70.566107</td>\n",
       "    </tr>\n",
       "    <tr>\n",
       "      <th>model 3</th>\n",
       "      <td>59.385134</td>\n",
       "      <td>60.218833</td>\n",
       "      <td>60.082713</td>\n",
       "      <td>70.108680</td>\n",
       "    </tr>\n",
       "    <tr>\n",
       "      <th>model 4</th>\n",
       "      <td>58.833673</td>\n",
       "      <td>59.036599</td>\n",
       "      <td>59.105095</td>\n",
       "      <td>69.763208</td>\n",
       "    </tr>\n",
       "    <tr>\n",
       "      <th>model 5</th>\n",
       "      <td>58.503980</td>\n",
       "      <td>58.532491</td>\n",
       "      <td>58.635961</td>\n",
       "      <td>69.273888</td>\n",
       "    </tr>\n",
       "    <tr>\n",
       "      <th>model 6</th>\n",
       "      <td>58.397900</td>\n",
       "      <td>58.740221</td>\n",
       "      <td>58.644129</td>\n",
       "      <td>69.100887</td>\n",
       "    </tr>\n",
       "    <tr>\n",
       "      <th>model 7</th>\n",
       "      <td>58.277936</td>\n",
       "      <td>58.774801</td>\n",
       "      <td>58.624549</td>\n",
       "      <td>69.318291</td>\n",
       "    </tr>\n",
       "    <tr>\n",
       "      <th>model 8</th>\n",
       "      <td>58.266782</td>\n",
       "      <td>58.645649</td>\n",
       "      <td>58.695343</td>\n",
       "      <td>69.426311</td>\n",
       "    </tr>\n",
       "    <tr>\n",
       "      <th>model 9</th>\n",
       "      <td>58.288462</td>\n",
       "      <td>58.688061</td>\n",
       "      <td>58.764871</td>\n",
       "      <td>69.359067</td>\n",
       "    </tr>\n",
       "    <tr>\n",
       "      <th>model 10</th>\n",
       "      <td>58.252663</td>\n",
       "      <td>58.703744</td>\n",
       "      <td>58.717231</td>\n",
       "      <td>69.317713</td>\n",
       "    </tr>\n",
       "  </tbody>\n",
       "</table>\n",
       "</div>"
      ],
      "text/plain": [
       "          train error  test error  val error  kfold score (k = 5)\n",
       "model 1     60.497392   61.101896  62.108431            71.602434\n",
       "model 2     59.668048   60.105578  60.439729            70.566107\n",
       "model 3     59.385134   60.218833  60.082713            70.108680\n",
       "model 4     58.833673   59.036599  59.105095            69.763208\n",
       "model 5     58.503980   58.532491  58.635961            69.273888\n",
       "model 6     58.397900   58.740221  58.644129            69.100887\n",
       "model 7     58.277936   58.774801  58.624549            69.318291\n",
       "model 8     58.266782   58.645649  58.695343            69.426311\n",
       "model 9     58.288462   58.688061  58.764871            69.359067\n",
       "model 10    58.252663   58.703744  58.717231            69.317713"
      ]
     },
     "execution_count": 611,
     "metadata": {},
     "output_type": "execute_result"
    }
   ],
   "source": [
    "df_random_forest"
   ]
  },
  {
   "cell_type": "markdown",
   "id": "595fcdc4",
   "metadata": {},
   "source": [
    "Aparentemente, o modelo 6 foi o que performou melhor. Ainda, não apresentou, como os outros, sinais de overfitting."
   ]
  },
  {
   "cell_type": "markdown",
   "id": "d711309b",
   "metadata": {},
   "source": [
    "---"
   ]
  },
  {
   "cell_type": "markdown",
   "id": "1586a3e4",
   "metadata": {},
   "source": [
    "# 2) XGBoost"
   ]
  },
  {
   "cell_type": "code",
   "execution_count": 614,
   "id": "39058e0c",
   "metadata": {},
   "outputs": [],
   "source": [
    "def preprocess_xgboost(n_estimators, max_depth, learning_rate):\n",
    "    preprocessor = Pipeline(steps = [\n",
    "        ('imputer', SimpleImputer(strategy = 'most_frequent')),\n",
    "        ('scaler', MinMaxScaler(feature_range = (0, 1)))\n",
    "    ])\n",
    "    \n",
    "    model = XGBRegressor(random_state = 0, n_estimators = n_estimators,\n",
    "                        max_depth = max_depth, learning_rate = learning_rate)\n",
    "    \n",
    "    model_pipeline = Pipeline(steps = [('preprocessor', preprocessor),\n",
    "                                      ('model', model)])\n",
    "    \n",
    "    return model_pipeline"
   ]
  },
  {
   "cell_type": "markdown",
   "id": "b80c8b64",
   "metadata": {},
   "source": [
    "### Treinando 10 modelos diferentes de XGBoost variando n_estimators\n",
    "\n",
    "Obs: Manteremos max_depth = 5 e learning_rate = 0.1 para evitar overfitting."
   ]
  },
  {
   "cell_type": "code",
   "execution_count": 615,
   "id": "bd107d15",
   "metadata": {},
   "outputs": [],
   "source": [
    "n_estimators_list = [2**n for n in range(1, 11)]\n",
    "max_depth_list = [5 for i in range(0, 10)]\n",
    "learning_rate_list = [0.1 for i in range(0, 10)]\n",
    "xgboost_models = []\n",
    "\n",
    "for i in range(0, 10):\n",
    "    new_model = preprocess_xgboost(learning_rate = learning_rate_list[i],\n",
    "                                   n_estimators = n_estimators_list[i], max_depth = max_depth_list[i])\n",
    "    new_model.fit(X_train, y_train)\n",
    "    xgboost_models.append(new_model)"
   ]
  },
  {
   "cell_type": "code",
   "execution_count": 616,
   "id": "a2cd3b23",
   "metadata": {},
   "outputs": [],
   "source": [
    "df_errors_xgboost = get_model_errors_dataframe(xgboost_models, X_train, y_train, \n",
    "                           X_test, y_test, X_val, y_val)"
   ]
  },
  {
   "cell_type": "markdown",
   "id": "eb863ebf",
   "metadata": {},
   "source": [
    "### Obtendo os modelos novamente (não treinados)"
   ]
  },
  {
   "cell_type": "code",
   "execution_count": 619,
   "id": "9b3bbb7d",
   "metadata": {},
   "outputs": [],
   "source": [
    "xgboost_models = []\n",
    "\n",
    "for i in range(0, 10):\n",
    "    new_model = preprocess_xgboost(learning_rate = learning_rate_list[i],\n",
    "                                   n_estimators = n_estimators_list[i], max_depth = max_depth_list[i])\n",
    "    xgboost_models.append(new_model)"
   ]
  },
  {
   "cell_type": "code",
   "execution_count": 620,
   "id": "3ab6cb22",
   "metadata": {},
   "outputs": [],
   "source": [
    "df_scores_xgboost = get_kfold_mean_score_dataframe(xgboost_models, X, y)"
   ]
  },
  {
   "cell_type": "code",
   "execution_count": 621,
   "id": "6605e8df",
   "metadata": {},
   "outputs": [],
   "source": [
    "df_xgboost = pd.concat([df_errors_xgboost, df_scores_xgboost], axis = 1)"
   ]
  },
  {
   "cell_type": "code",
   "execution_count": 622,
   "id": "8ace9737",
   "metadata": {
    "scrolled": true
   },
   "outputs": [
    {
     "data": {
      "text/html": [
       "<div>\n",
       "<style scoped>\n",
       "    .dataframe tbody tr th:only-of-type {\n",
       "        vertical-align: middle;\n",
       "    }\n",
       "\n",
       "    .dataframe tbody tr th {\n",
       "        vertical-align: top;\n",
       "    }\n",
       "\n",
       "    .dataframe thead th {\n",
       "        text-align: right;\n",
       "    }\n",
       "</style>\n",
       "<table border=\"1\" class=\"dataframe\">\n",
       "  <thead>\n",
       "    <tr style=\"text-align: right;\">\n",
       "      <th></th>\n",
       "      <th>train error</th>\n",
       "      <th>test error</th>\n",
       "      <th>val error</th>\n",
       "      <th>kfold score (k = 5)</th>\n",
       "    </tr>\n",
       "  </thead>\n",
       "  <tbody>\n",
       "    <tr>\n",
       "      <th>model 1</th>\n",
       "      <td>387.168715</td>\n",
       "      <td>383.899507</td>\n",
       "      <td>374.168633</td>\n",
       "      <td>383.740246</td>\n",
       "    </tr>\n",
       "    <tr>\n",
       "      <th>model 2</th>\n",
       "      <td>275.600977</td>\n",
       "      <td>273.726409</td>\n",
       "      <td>264.491867</td>\n",
       "      <td>273.195061</td>\n",
       "    </tr>\n",
       "    <tr>\n",
       "      <th>model 3</th>\n",
       "      <td>153.039098</td>\n",
       "      <td>152.395509</td>\n",
       "      <td>145.508022</td>\n",
       "      <td>153.363863</td>\n",
       "    </tr>\n",
       "    <tr>\n",
       "      <th>model 4</th>\n",
       "      <td>75.287588</td>\n",
       "      <td>75.741677</td>\n",
       "      <td>72.629319</td>\n",
       "      <td>80.899500</td>\n",
       "    </tr>\n",
       "    <tr>\n",
       "      <th>model 5</th>\n",
       "      <td>55.811922</td>\n",
       "      <td>57.819604</td>\n",
       "      <td>57.830209</td>\n",
       "      <td>68.336025</td>\n",
       "    </tr>\n",
       "    <tr>\n",
       "      <th>model 6</th>\n",
       "      <td>53.338564</td>\n",
       "      <td>57.507082</td>\n",
       "      <td>58.772497</td>\n",
       "      <td>69.989377</td>\n",
       "    </tr>\n",
       "    <tr>\n",
       "      <th>model 7</th>\n",
       "      <td>51.219604</td>\n",
       "      <td>58.259148</td>\n",
       "      <td>60.610156</td>\n",
       "      <td>71.685781</td>\n",
       "    </tr>\n",
       "    <tr>\n",
       "      <th>model 8</th>\n",
       "      <td>48.581608</td>\n",
       "      <td>59.925754</td>\n",
       "      <td>63.916627</td>\n",
       "      <td>74.104664</td>\n",
       "    </tr>\n",
       "    <tr>\n",
       "      <th>model 9</th>\n",
       "      <td>46.489151</td>\n",
       "      <td>62.452083</td>\n",
       "      <td>67.192480</td>\n",
       "      <td>76.592443</td>\n",
       "    </tr>\n",
       "    <tr>\n",
       "      <th>model 10</th>\n",
       "      <td>45.205777</td>\n",
       "      <td>65.742665</td>\n",
       "      <td>71.134354</td>\n",
       "      <td>79.718876</td>\n",
       "    </tr>\n",
       "  </tbody>\n",
       "</table>\n",
       "</div>"
      ],
      "text/plain": [
       "          train error  test error   val error  kfold score (k = 5)\n",
       "model 1    387.168715  383.899507  374.168633           383.740246\n",
       "model 2    275.600977  273.726409  264.491867           273.195061\n",
       "model 3    153.039098  152.395509  145.508022           153.363863\n",
       "model 4     75.287588   75.741677   72.629319            80.899500\n",
       "model 5     55.811922   57.819604   57.830209            68.336025\n",
       "model 6     53.338564   57.507082   58.772497            69.989377\n",
       "model 7     51.219604   58.259148   60.610156            71.685781\n",
       "model 8     48.581608   59.925754   63.916627            74.104664\n",
       "model 9     46.489151   62.452083   67.192480            76.592443\n",
       "model 10    45.205777   65.742665   71.134354            79.718876"
      ]
     },
     "execution_count": 622,
     "metadata": {},
     "output_type": "execute_result"
    }
   ],
   "source": [
    "df_xgboost"
   ]
  },
  {
   "cell_type": "markdown",
   "id": "e1caf3f6",
   "metadata": {},
   "source": [
    "É notável que o modelo 5 foi aquele que melhor performou."
   ]
  },
  {
   "cell_type": "markdown",
   "id": "8d168868",
   "metadata": {},
   "source": [
    "---"
   ]
  },
  {
   "cell_type": "markdown",
   "id": "e6cdefbc",
   "metadata": {},
   "source": [
    "## Vamos comparar agora ambos os melhores modelos"
   ]
  },
  {
   "cell_type": "code",
   "execution_count": 623,
   "id": "4ca8efc1",
   "metadata": {
    "scrolled": true
   },
   "outputs": [],
   "source": [
    "best_rf_index = 'model 6'\n",
    "best_rf_df = pd.DataFrame(df_random_forest.loc[best_rf_index])\n",
    "best_rf_df = best_rf_df.rename(columns = {'model 6': 'Best Random Forest Model'})"
   ]
  },
  {
   "cell_type": "code",
   "execution_count": 624,
   "id": "d3469373",
   "metadata": {},
   "outputs": [],
   "source": [
    "best_xgb_index = 'model 5'\n",
    "best_xgb_df = pd.DataFrame(df_xgboost.loc[best_xgb_index])\n",
    "best_xgb_df = best_xgb_df.rename(columns = {'model 5': 'Best XGBoost Model'})"
   ]
  },
  {
   "cell_type": "code",
   "execution_count": 625,
   "id": "7157af7c",
   "metadata": {},
   "outputs": [],
   "source": [
    "comparison_df = pd.concat([best_rf_df, best_xgb_df], axis = 1)"
   ]
  },
  {
   "cell_type": "code",
   "execution_count": 626,
   "id": "b60671b6",
   "metadata": {
    "scrolled": true
   },
   "outputs": [
    {
     "data": {
      "text/html": [
       "<div>\n",
       "<style scoped>\n",
       "    .dataframe tbody tr th:only-of-type {\n",
       "        vertical-align: middle;\n",
       "    }\n",
       "\n",
       "    .dataframe tbody tr th {\n",
       "        vertical-align: top;\n",
       "    }\n",
       "\n",
       "    .dataframe thead th {\n",
       "        text-align: right;\n",
       "    }\n",
       "</style>\n",
       "<table border=\"1\" class=\"dataframe\">\n",
       "  <thead>\n",
       "    <tr style=\"text-align: right;\">\n",
       "      <th></th>\n",
       "      <th>Best Random Forest Model</th>\n",
       "      <th>Best XGBoost Model</th>\n",
       "    </tr>\n",
       "  </thead>\n",
       "  <tbody>\n",
       "    <tr>\n",
       "      <th>train error</th>\n",
       "      <td>58.397900</td>\n",
       "      <td>55.811922</td>\n",
       "    </tr>\n",
       "    <tr>\n",
       "      <th>test error</th>\n",
       "      <td>58.740221</td>\n",
       "      <td>57.819604</td>\n",
       "    </tr>\n",
       "    <tr>\n",
       "      <th>val error</th>\n",
       "      <td>58.644129</td>\n",
       "      <td>57.830209</td>\n",
       "    </tr>\n",
       "    <tr>\n",
       "      <th>kfold score (k = 5)</th>\n",
       "      <td>69.100887</td>\n",
       "      <td>68.336025</td>\n",
       "    </tr>\n",
       "  </tbody>\n",
       "</table>\n",
       "</div>"
      ],
      "text/plain": [
       "                     Best Random Forest Model  Best XGBoost Model\n",
       "train error                         58.397900           55.811922\n",
       "test error                          58.740221           57.819604\n",
       "val error                           58.644129           57.830209\n",
       "kfold score (k = 5)                 69.100887           68.336025"
      ]
     },
     "execution_count": 626,
     "metadata": {},
     "output_type": "execute_result"
    }
   ],
   "source": [
    "comparison_df"
   ]
  },
  {
   "cell_type": "markdown",
   "id": "a2adf2d7",
   "metadata": {},
   "source": [
    "# Conclusão das Comparações"
   ]
  },
  {
   "cell_type": "markdown",
   "id": "70e3fc99",
   "metadata": {},
   "source": [
    "Por ambos os métodos de validação (train-test-validation split e cross-validation via KFold) conseguimos mostrar que o modelo de XGBoost é o melhor para realizar as predições que nos propusemos a fazer."
   ]
  },
  {
   "cell_type": "markdown",
   "id": "c87e4c48",
   "metadata": {},
   "source": [
    "Antes de terminarmos, faremos uma visualização gráfica dos resultados:"
   ]
  },
  {
   "cell_type": "markdown",
   "id": "eb7e2284",
   "metadata": {},
   "source": [
    "# Visualização Gráfica Final"
   ]
  },
  {
   "cell_type": "markdown",
   "id": "06d85150",
   "metadata": {},
   "source": [
    "Para tal, iremos realizar o fit nos dados de treino do split. Depois, iremos plotar as predições e as labels."
   ]
  },
  {
   "cell_type": "code",
   "execution_count": 632,
   "id": "e8d29726",
   "metadata": {},
   "outputs": [],
   "source": [
    "rf_model = random_forest_models[5]\n",
    "xgb_model = xgboost_models[4]\n",
    "\n",
    "_ = rf_model.fit(X_train, y_train)\n",
    "_ = xgb_model.fit(X_train, y_train)"
   ]
  },
  {
   "cell_type": "code",
   "execution_count": 634,
   "id": "9d90cdc1",
   "metadata": {},
   "outputs": [],
   "source": [
    "rf_pred = rf_model.predict(X_test)\n",
    "xgb_pred = xgb_model.predict(X_test)"
   ]
  },
  {
   "cell_type": "markdown",
   "id": "07497b2b",
   "metadata": {},
   "source": [
    "Nesse tipo de gráfico, quanto mais próximo o gráfico ficar da reta y = x, melhor."
   ]
  },
  {
   "cell_type": "code",
   "execution_count": 675,
   "id": "abf7f9a2",
   "metadata": {},
   "outputs": [
    {
     "data": {
      "text/plain": [
       "<matplotlib.legend.Legend at 0x1fe1b2d1c10>"
      ]
     },
     "execution_count": 675,
     "metadata": {},
     "output_type": "execute_result"
    },
    {
     "data": {
      "image/png": "[encoded data removed]",
      "text/plain": [
       "<Figure size 640x480 with 1 Axes>"
      ]
     },
     "metadata": {},
     "output_type": "display_data"
    }
   ],
   "source": [
    "_ = plt.scatter(x = rf_pred, y = y_test)\n",
    "plt.title('Predições versus Label - Melhor Random Forest')\n",
    "plt.ylabel('Predição (estimativa do modelo)')\n",
    "plt.xlabel('Label (valor real)')\n",
    "\n",
    "# Plotando a reta y = x\n",
    "\n",
    "x = [0, 75]\n",
    "y = [0, 75]\n",
    "plt.plot(x,y, color = 'red')\n",
    "\n",
    "plt.legend(['Pontos', 'y = x'])"
   ]
  },
  {
   "cell_type": "code",
   "execution_count": 676,
   "id": "1867940c",
   "metadata": {},
   "outputs": [
    {
     "data": {
      "text/plain": [
       "<matplotlib.legend.Legend at 0x1fe1b0776d0>"
      ]
     },
     "execution_count": 676,
     "metadata": {},
     "output_type": "execute_result"
    },
    {
     "data": {
      "image/png": "[encoded data removed]",
      "text/plain": [
       "<Figure size 640x480 with 1 Axes>"
      ]
     },
     "metadata": {},
     "output_type": "display_data"
    }
   ],
   "source": [
    "_ =  plt.scatter(x = xgb_pred, y = y_test)\n",
    "plt.title('Predições versus Label - Melhor XGBoost')\n",
    "plt.ylabel('Predição (estimativa do modelo)')\n",
    "plt.xlabel('Label (valor real)')\n",
    "\n",
    "# Plotando a reta y = x\n",
    "\n",
    "x = [0, 75]\n",
    "y = [0, 75]\n",
    "plt.plot(x,y, color = 'red')\n",
    "\n",
    "plt.legend(['Pontos', 'y = x'])"
   ]
  },
  {
   "cell_type": "markdown",
   "id": "3f720ed8",
   "metadata": {},
   "source": [
    "Aparentemente, o gráfico do XGBoost tem uma proximidade maior com os pontos da reta y = x, na média, do que o gráfico da Random Forest.\n",
    "\n",
    "É claro que o modelo é longe de ser bom para ser usado na prática. O ideal seria testar outras features (se existirem) e obter mais dados para treiná-lo. Além disso, poderia-se testar outros modelos de aprendizado de máquina para tentar obter melhores resultados."
   ]
  }
 ],
 "metadata": {
  "kernelspec": {
   "display_name": "Python 3 (ipykernel)",
   "language": "python",
   "name": "python3"
  },
  "language_info": {
   "codemirror_mode": {
    "name": "ipython",
    "version": 3
   },
   "file_extension": ".py",
   "mimetype": "text/x-python",
   "name": "python",
   "nbconvert_exporter": "python",
   "pygments_lexer": "ipython3",
   "version": "3.11.1"
  }
 },
 "nbformat": 4,
 "nbformat_minor": 5
}
