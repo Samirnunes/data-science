{
 "cells": [
  {
   "cell_type": "markdown",
   "metadata": {
    "id": "o3gNMXjCX47s"
   },
   "source": [
    "# Resolução - Projeto da Renner"
   ]
  },
  {
   "cell_type": "markdown",
   "metadata": {
    "id": "u_Z0p9TPjV8T"
   },
   "source": [
    "# Bibliotecas"
   ]
  },
  {
   "cell_type": "markdown",
   "metadata": {},
   "source": [
    "### Instalando e importando as bibliotecas necessárias\n",
    "\n",
    "**geopy**: para o cálculo de distância entre coordenadas.\n",
    "\n",
    "**pandas**: para criação e manipulação de dataframes.\n",
    "\n",
    "**pulp**: para modelar e resolver problemas de programação linear.\n",
    "\n",
    "**numpy**: para utilizar em conjunto com os dataframes do Pandas.\n",
    "\n",
    "**matplotlib**: para plot de figuras.\n",
    "\n",
    "**datetime**: para manipulação de datas.\n",
    "\n",
    "**math**: biblioteca de funções matemáticas."
   ]
  },
  {
   "cell_type": "code",
   "execution_count": null,
   "metadata": {
    "colab": {
     "base_uri": "https://localhost:8080/"
    },
    "id": "r9TxhCFFKxNX",
    "outputId": "558c014d-5970-46ef-9777-0ddec0920098",
    "scrolled": true
   },
   "outputs": [],
   "source": [
    "!pip install geopy\n",
    "!pip install pulp\n",
    "\n",
    "import pandas as pd\n",
    "from pulp import *\n",
    "import numpy as np\n",
    "from matplotlib import pyplot as plt\n",
    "from matplotlib import image as mpimg\n",
    "import geopy.distance\n",
    "import datetime\n",
    "import math"
   ]
  },
  {
   "cell_type": "markdown",
   "metadata": {},
   "source": [
    "### Importando os dados da planilha de excel cedida pela Renner"
   ]
  },
  {
   "cell_type": "code",
   "execution_count": null,
   "metadata": {
    "id": "skc31sGMYkYP"
   },
   "outputs": [],
   "source": [
    "df_CD = pd.read_excel(\"Dados/case_otimizacao_lojas_renner.xlsx\", \"Centro de Distribuição\")\n",
    "df_turnos = pd.read_excel(\"Dados/case_otimizacao_lojas_renner.xlsx\", \"Turnos\")\n",
    "df_lojas = pd.read_excel(\"Dados/case_otimizacao_lojas_renner.xlsx\", 'Lojas')\n",
    "df_demanda = pd.read_excel(\"Dados/case_otimizacao_lojas_renner.xlsx\", 'Demanda')\n",
    "df_veiculos = pd.read_excel(\"Dados/case_otimizacao_lojas_renner.xlsx\", 'Veiculos')"
   ]
  },
  {
   "cell_type": "markdown",
   "metadata": {
    "id": "PUZyL7Q2iuY5"
   },
   "source": [
    "## Apresentação do Case"
   ]
  },
  {
   "cell_type": "markdown",
   "metadata": {},
   "source": [
    "### Objetivo e contexto do Problema"
   ]
  },
  {
   "cell_type": "code",
   "execution_count": null,
   "metadata": {
    "colab": {
     "base_uri": "https://localhost:8080/",
     "height": 617
    },
    "id": "1vWbvUxuiwsw",
    "outputId": "67488428-7d6a-4741-ff4f-1903e7875683"
   },
   "outputs": [],
   "source": [
    "f = plt.figure()\n",
    "f.set_figwidth(20)\n",
    "f.set_figheight(20)\n",
    "\n",
    "plt.title(\"Case\")\n",
    "plt.xlabel(\"\")\n",
    "plt.ylabel(\"\")\n",
    " \n",
    "image = mpimg.imread(\"Imagens/case.PNG\")\n",
    "plt.imshow(image)\n",
    "plt.show()"
   ]
  },
  {
   "cell_type": "markdown",
   "metadata": {
    "id": "N2uquNU7hC0M"
   },
   "source": [
    "### Restrições do Problema\n"
   ]
  },
  {
   "cell_type": "code",
   "execution_count": null,
   "metadata": {
    "colab": {
     "base_uri": "https://localhost:8080/",
     "height": 588
    },
    "id": "32ek6ThnYXgY",
    "outputId": "39e4392f-0d43-4d26-fae1-4f34a4f68915",
    "scrolled": false
   },
   "outputs": [],
   "source": [
    "f = plt.figure()\n",
    "f.set_figwidth(20)\n",
    "f.set_figheight(20)\n",
    "\n",
    "plt.title(\"Restrições\")\n",
    "plt.xlabel(\"\")\n",
    "plt.ylabel(\"\")\n",
    " \n",
    "image = mpimg.imread(\"Imagens/restrictions.PNG\")\n",
    "plt.imshow(image)\n",
    "plt.show()"
   ]
  },
  {
   "cell_type": "markdown",
   "metadata": {},
   "source": [
    "# Pré-processamento dos dados"
   ]
  },
  {
   "cell_type": "markdown",
   "metadata": {},
   "source": [
    "### Unindo os dataframes do CD (Centro de Distribuição) e das lojas"
   ]
  },
  {
   "cell_type": "code",
   "execution_count": null,
   "metadata": {
    "colab": {
     "base_uri": "https://localhost:8080/",
     "height": 206
    },
    "id": "xpwZVNTiYoXh",
    "outputId": "e249e990-937d-4b9d-a6d6-8dfb96490b5f",
    "scrolled": true
   },
   "outputs": [],
   "source": [
    "df_lojas.head()"
   ]
  },
  {
   "cell_type": "code",
   "execution_count": null,
   "metadata": {
    "colab": {
     "base_uri": "https://localhost:8080/",
     "height": 81
    },
    "id": "rtYu9bOdosNY",
    "outputId": "c691c8e2-1510-4c72-9fe3-a32908d00732"
   },
   "outputs": [],
   "source": [
    "df_CD"
   ]
  },
  {
   "cell_type": "code",
   "execution_count": null,
   "metadata": {
    "id": "owNiVLfuDydH"
   },
   "outputs": [],
   "source": [
    "cd_row = pd.DataFrame({'ID Loja': 0,\n",
    "                        'Município':df_CD['Cidade'][0].upper(), 'UF':df_CD['UF'], \n",
    "                       'Latitude':df_CD['Latitude'][0], 'Longitude':df_CD['Longitude'],\n",
    "                       'SEG': 'x','TER': 'x','QUA': 'x','QUI': 'x','SEX': 'x',\n",
    "                       'SAB': 'x', 'Hora Recebimento Inicial': datetime.time(0, 0),\n",
    "                       'Hora Finalização Recebimento': datetime.time(23, 59),\n",
    "                       'Min. Peças p/ Entrega': 0,\n",
    "                       'Máx. Peças p/ Entrega': 0,\n",
    "                       })"
   ]
  },
  {
   "cell_type": "code",
   "execution_count": null,
   "metadata": {
    "id": "EGYTJx7gDHyL"
   },
   "outputs": [],
   "source": [
    "df_lojas = pd.concat([cd_row,df_lojas.loc[:]]).reset_index(drop = True)"
   ]
  },
  {
   "cell_type": "code",
   "execution_count": null,
   "metadata": {
    "colab": {
     "base_uri": "https://localhost:8080/",
     "height": 206
    },
    "id": "3hvBMYAGDlrY",
    "outputId": "17f49f15-47b4-4937-bed1-5e4eca2606a4",
    "scrolled": true
   },
   "outputs": [],
   "source": [
    "df_lojas.head(5)"
   ]
  },
  {
   "cell_type": "markdown",
   "metadata": {},
   "source": [
    "### Obtendo a matriz de distâncias entre as coordenadas"
   ]
  },
  {
   "cell_type": "code",
   "execution_count": null,
   "metadata": {
    "id": "K4fYZqj3LZMa"
   },
   "outputs": [],
   "source": [
    "def calculate_distance(coords_1: np.float64, coords_2: np.float64) -> float:\n",
    "  return float(geopy.distance.geodesic(coords_1, coords_2).m)"
   ]
  },
  {
   "cell_type": "code",
   "execution_count": null,
   "metadata": {
    "id": "R2s9JudyGEUt"
   },
   "outputs": [],
   "source": [
    "def generate_distance_matrix(df: pd.core.frame.DataFrame) -> np.ndarray:\n",
    "  distance_matrix = np.zeros((len(df), len(df)))\n",
    "  for i in range(len(df)):\n",
    "    for j in range(len(df)):\n",
    "      coords_1 = (df['Latitude'].iloc[i], df['Longitude'].iloc[i])\n",
    "      coords_2 = (df['Latitude'].iloc[j], df['Longitude'].iloc[j])\n",
    "      distance_matrix[i][j] = calculate_distance(coords_1, coords_2)\n",
    "  return distance_matrix"
   ]
  },
  {
   "cell_type": "code",
   "execution_count": null,
   "metadata": {
    "id": "tdiu_IR2HYYI"
   },
   "outputs": [],
   "source": [
    "dmatrix = generate_distance_matrix(df_lojas)"
   ]
  },
  {
   "cell_type": "markdown",
   "metadata": {
    "id": "AiRoAu-C-VUI"
   },
   "source": [
    "### Limpando o dataframe das lojas para deixá-lo com apenas as informações que serão usadas adiante"
   ]
  },
  {
   "cell_type": "code",
   "execution_count": null,
   "metadata": {
    "id": "LR2pEg6q-ZAs"
   },
   "outputs": [],
   "source": [
    "df_lojas.drop(['Latitude', 'Longitude'], axis = 1, inplace = True)"
   ]
  },
  {
   "cell_type": "markdown",
   "metadata": {},
   "source": [
    "### Trocando 'x' por seu equivalente booleano na escala de atendimentos das lojas"
   ]
  },
  {
   "cell_type": "code",
   "execution_count": null,
   "metadata": {},
   "outputs": [],
   "source": [
    "# Para df_lojas, onde tem X ou x, singnifica que a Loja funciona. Logo, será substituído por 1. Em contrapartida, NaN será 0, pois a loja não funciona.\n",
    "df_lojas_turnos = ['SEG', 'TER', 'QUA', 'QUI', 'SEX', 'SAB']\n",
    "\n",
    "df_lojas[df_lojas_turnos] = df_lojas[df_lojas_turnos].replace('X', 1)\n",
    "df_lojas[df_lojas_turnos] = df_lojas[df_lojas_turnos].replace('x', 1)\n",
    "\n",
    "df_lojas[df_lojas_turnos] = df_lojas[df_lojas_turnos].replace(np.nan, 0)"
   ]
  },
  {
   "cell_type": "markdown",
   "metadata": {},
   "source": [
    "### Tranformando as horas em **float** e transformando os '0's das horas de finalização em '24's, para criar uma escala de tempo adequada."
   ]
  },
  {
   "cell_type": "code",
   "execution_count": null,
   "metadata": {},
   "outputs": [],
   "source": [
    "df_lojas['Hora Recebimento Inicial'] = df_lojas['Hora Recebimento Inicial'].apply(lambda x: x.hour + x.minute/60)\n",
    "df_lojas['Hora Finalização Recebimento'] = df_lojas['Hora Finalização Recebimento'].apply(lambda x: x.hour + x.minute/60)\n",
    "df_lojas['Hora Finalização Recebimento'] = df_lojas['Hora Finalização Recebimento'].apply(lambda x: float(24) if x == 0 else x)"
   ]
  },
  {
   "cell_type": "markdown",
   "metadata": {
    "id": "QTuhk4Wh8omG"
   },
   "source": [
    "## Modelagem do Problema"
   ]
  },
  {
   "cell_type": "markdown",
   "metadata": {
    "id": "n_-OdxtP8_Cj"
   },
   "source": [
    "## Visualização dos dataframes disponíveis"
   ]
  },
  {
   "cell_type": "markdown",
   "metadata": {
    "id": "NP6gsqQu9x-v"
   },
   "source": [
    "### Turnos"
   ]
  },
  {
   "cell_type": "code",
   "execution_count": null,
   "metadata": {
    "colab": {
     "base_uri": "https://localhost:8080/",
     "height": 242
    },
    "id": "Nw9LiQaA9JOR",
    "outputId": "9f24d75a-b8cd-4c12-f6f3-68898ec6a8d3"
   },
   "outputs": [],
   "source": [
    "df_turnos"
   ]
  },
  {
   "cell_type": "markdown",
   "metadata": {
    "id": "j780heFe-Auj"
   },
   "source": [
    "### Lojas"
   ]
  },
  {
   "cell_type": "code",
   "execution_count": null,
   "metadata": {
    "colab": {
     "base_uri": "https://localhost:8080/",
     "height": 277
    },
    "id": "4d-CLqVN9Jjs",
    "outputId": "d5401c3c-a316-4be6-c993-becb4191391b",
    "scrolled": true
   },
   "outputs": [],
   "source": [
    "df_lojas.head(3)"
   ]
  },
  {
   "cell_type": "markdown",
   "metadata": {
    "id": "K9TshxoI-lwG"
   },
   "source": [
    "### Lojas disponíveis por dia da semana:"
   ]
  },
  {
   "cell_type": "code",
   "execution_count": null,
   "metadata": {
    "id": "kgvcZKhM-leo"
   },
   "outputs": [],
   "source": [
    "lojas_SEG = list(dict(zip(df_lojas['ID Loja'], df_lojas['SEG'])).values())\n",
    "lojas_TER = list(dict(zip(df_lojas['ID Loja'], df_lojas['TER'])).values())\n",
    "lojas_QUA = list(dict(zip(df_lojas['ID Loja'], df_lojas['QUA'])).values())\n",
    "lojas_QUI = list(dict(zip(df_lojas['ID Loja'], df_lojas['QUI'])).values())\n",
    "lojas_SEX = list(dict(zip(df_lojas['ID Loja'], df_lojas['SEX'])).values())\n",
    "lojas_SAB = list(dict(zip(df_lojas['ID Loja'], df_lojas['SAB'])).values())\n",
    "stores_per_day = {'MON':lojas_SEG, 'TUE':lojas_TER, 'WED':lojas_QUA, 'THU':lojas_QUI, 'FRI':lojas_SEX, 'SAT':lojas_SAB}"
   ]
  },
  {
   "cell_type": "markdown",
   "metadata": {
    "id": "uUJ6REgV-Glo"
   },
   "source": [
    "### Demanda"
   ]
  },
  {
   "cell_type": "code",
   "execution_count": null,
   "metadata": {
    "colab": {
     "base_uri": "https://localhost:8080/",
     "height": 207
    },
    "id": "PBH-Z90n9Ko3",
    "outputId": "db510d56-ae61-4907-b938-a10c2c295b10",
    "scrolled": true
   },
   "outputs": [],
   "source": [
    "df_demanda.head(3)"
   ]
  },
  {
   "cell_type": "code",
   "execution_count": null,
   "metadata": {},
   "outputs": [],
   "source": [
    "cd_demanda = pd.DataFrame({'Loja': [0], 'Peças': [0]})\n",
    "\n",
    "df_demanda = pd.concat([cd_demanda,df_demanda.loc[:]]).reset_index(drop = True)"
   ]
  },
  {
   "cell_type": "code",
   "execution_count": null,
   "metadata": {},
   "outputs": [],
   "source": [
    "demanda = dict(zip(df_demanda['Loja'], df_demanda['Peças'])) # Conversão em dict para facilitar a adição de restrições"
   ]
  },
  {
   "cell_type": "markdown",
   "metadata": {
    "id": "nupopZ2I-JoO"
   },
   "source": [
    "### Veículos"
   ]
  },
  {
   "cell_type": "code",
   "execution_count": null,
   "metadata": {
    "colab": {
     "base_uri": "https://localhost:8080/",
     "height": 246
    },
    "id": "NqIdkeWG9Tf1",
    "outputId": "867336f6-5348-482a-91d6-95bad3183ff9"
   },
   "outputs": [],
   "source": [
    "df_veiculos.head(3)"
   ]
  },
  {
   "cell_type": "markdown",
   "metadata": {},
   "source": [
    "#### Criação de dicionários para acesso mais fácil"
   ]
  },
  {
   "cell_type": "code",
   "execution_count": null,
   "metadata": {
    "id": "Oiq9-AOLBR4n"
   },
   "outputs": [],
   "source": [
    "custo_km = {'TOCO': 1.6, 'CARRETA': 2.4}\n",
    "capacidade_max = {'TOCO': 5000, 'CARRETA': 10000}\n",
    "custos_fixos = {'TOCO': 100, 'CARRETA': 150}\n",
    "velocidades = {'TOCO': 50000, 'CARRETA': 50000} # em metros/hora\n",
    "carregamento = {'TOCO': 0.5, 'CARRETA': 1}\n",
    "descarregamento = {'TOCO': 0.5, 'CARRETA': 1}"
   ]
  },
  {
   "cell_type": "markdown",
   "metadata": {
    "id": "Rq4giWCl90hw"
   },
   "source": [
    "## Definindo as variáveis necessárias para a solução via programação linear usando o pulp"
   ]
  },
  {
   "cell_type": "markdown",
   "metadata": {},
   "source": [
    "### Lista dos a_{i}, início da time window do cliente i"
   ]
  },
  {
   "cell_type": "code",
   "execution_count": null,
   "metadata": {},
   "outputs": [],
   "source": [
    "# a = list(df_lojas['Hora Recebimento Inicial'])\n",
    "# print(a)"
   ]
  },
  {
   "cell_type": "markdown",
   "metadata": {},
   "source": [
    "### Lista dos b_{i}, fim da time window do cliente i"
   ]
  },
  {
   "cell_type": "code",
   "execution_count": null,
   "metadata": {},
   "outputs": [],
   "source": [
    "# b = list(df_lojas['Hora Finalização Recebimento'])\n",
    "# print(b)"
   ]
  },
  {
   "cell_type": "markdown",
   "metadata": {},
   "source": [
    "### Lista com as demandas de cada cliente"
   ]
  },
  {
   "cell_type": "code",
   "execution_count": null,
   "metadata": {},
   "outputs": [],
   "source": [
    "# # O artigo chama essa lista de q\n",
    "# # O cliente 0 é o CD, por conveniência\n",
    "\n",
    "# q = list(demanda.values())\n",
    "# print(q)"
   ]
  },
  {
   "cell_type": "markdown",
   "metadata": {},
   "source": [
    "### Matriz de distâncias"
   ]
  },
  {
   "cell_type": "code",
   "execution_count": null,
   "metadata": {},
   "outputs": [],
   "source": [
    "# dmatrix"
   ]
  },
  {
   "cell_type": "markdown",
   "metadata": {},
   "source": [
    "### Tempo Mínimo para percorrer a aresta (i,j), de i a j"
   ]
  },
  {
   "cell_type": "code",
   "execution_count": null,
   "metadata": {},
   "outputs": [],
   "source": [
    "# # O artigo chama essa matrix de d (dij)\n",
    "\n",
    "# d = dmatrix/velocidades['TOCO'] # É a mesma coisa que dmatrix/velocidades['CARRETA'], pois possuem velocidades iguais.\n",
    "\n",
    "# d # Tempos em horas."
   ]
  },
  {
   "cell_type": "markdown",
   "metadata": {},
   "source": [
    "### Outras variáveis"
   ]
  },
  {
   "cell_type": "code",
   "execution_count": null,
   "metadata": {
    "id": "HHxCZfk693tP"
   },
   "outputs": [],
   "source": [
    "# # Numerando cada um dos nós do grafo.\n",
    "# pontos = list(range(0, 134)) # len(pontos) = 134, vai de 0 (CD) a 133.\n",
    "\n",
    "# # Número de clientes\n",
    "# n = len(pontos) - 1 # n = 133 clientes.\n",
    "\n",
    "# # Nomes dos veículos.\n",
    "# veiculos = ['TOCO', 'CARRETA'] \n",
    "\n",
    "# # Definindo o conjunto K com n veículos 'TOCO' e n veículos 'CARRETA'.\n",
    "# lista_veiculos = list(range(0, 2*n)) # Teremos 266 veículos.\n",
    "# K = [k for k in lista_veiculos]\n",
    "\n",
    "# # Definindo o conjunto Q_til com as capacidades dos veículos de K.\n",
    "# Q_til = list()\n",
    "# for i in range(0, n):\n",
    "#   Q_til.append(capacidade_max['TOCO'])\n",
    "# for i in range(n, 2*n):\n",
    "#   Q_til.append(capacidade_max['CARRETA'])\n",
    "\n",
    "# # Definindo os custos por km por veículo.\n",
    "# c = list()\n",
    "# for i in range(0, n):\n",
    "#   c.append(custo_km['TOCO'])\n",
    "# for i in range(n, 2*n):\n",
    "#   c.append(custo_km['CARRETA'])\n",
    "\n",
    "# # Definindo o conjunto F com os custos fixos dos veículos de K.\n",
    "# F = list()\n",
    "# for i in range(0, n):\n",
    "#   F.append(custos_fixos['TOCO'])\n",
    "# for i in range(n, 2*n):\n",
    "#   F.append(custos_fixos['CARRETA'])\n",
    "\n",
    "# # Definindo o conjunto v com as velocidades dos veículos de K.\n",
    "# v = list()\n",
    "# for i in range(0, n):\n",
    "#   v.append(velocidades['TOCO'])\n",
    "# for i in range(n, 2*n):\n",
    "#   v.append(velocidades['CARRETA'])\n",
    "\n",
    "# # Definindo Ftil, o custo fixo em termos de tempo.\n",
    "# Ftil = list()\n",
    "# for i in range(0, 2*n):\n",
    "#   Ftil.append(F[i] / (c[i] * v[i]))\n",
    "\n",
    "# # Definindo o conjunto sk com os tempos de serviço de cada veículo. \n",
    "# # (aqui associamos aos veículos, não aos clientes, diferente do artigo).\n",
    "# s = list()\n",
    "# for i in range(0, n):\n",
    "#   s.append(carregamento['TOCO'] + descarregamento['TOCO'])\n",
    "# for i in range(n, 2*n):\n",
    "#   s.append(carregamento['CARRETA'] + descarregamento['CARRETA'])\n",
    "\n",
    "# # Caminhos possíveis entre quaisquer dois pontos do grafo.\n",
    "# Caminhos = [(i, j) for i in pontos for j in pontos]"
   ]
  },
  {
   "cell_type": "markdown",
   "metadata": {},
   "source": [
    "### Solução trivial"
   ]
  },
  {
   "cell_type": "markdown",
   "metadata": {},
   "source": [
    "A solução trivial é composta de cada caminhão fazendo viagem de ida e volta para uma única loja. Note que todas as lojas podem ser atendidas uma única vez (embora essa solução possa não ser ótima), pois todas as demandas são menores que a capacidade de uma carreta.\n",
    "\n",
    "Conjuntos de rotas possíveis, indo de i a j, pelo veículo k.\n",
    "Será útil para definir o número de variáveis binárias que definem se uma rota é ou não percorrida.\n",
    "Rotas = [(i, j, k) for i in pontos for j in pontos for k in K]"
   ]
  },
  {
   "cell_type": "code",
   "execution_count": null,
   "metadata": {
    "id": "DFoulB3z17eP"
   },
   "outputs": [],
   "source": [
    "# Variáveis binárias xijk que definem se uma rota é (xijk = 1) ou não (xijk = 0) percorrida.\n",
    "#i_pontos = pontos\n",
    "#j_pontos = pontos\n",
    "#k_veiculos = K\n",
    "#x = LpVariable.dicts(\"Rotas\", (i_pontos, j_pontos, k_veiculos), cat=LpBinary)"
   ]
  },
  {
   "cell_type": "code",
   "execution_count": null,
   "metadata": {
    "id": "kuT8FWrc60Mc"
   },
   "outputs": [],
   "source": [
    "# Variáveis binárias yik que definem se o cliente i é servido (yik = 1) ou não (yik = 0) pelo veículo k.\n",
    "#i_pontos = pontos\n",
    "#k_veiculos = K\n",
    "#y = LpVariable.dicts(\"Clientes\", (i_pontos, k_veiculos), cat=LpBinary)"
   ]
  },
  {
   "cell_type": "code",
   "execution_count": null,
   "metadata": {
    "id": "3iKyeT0d7IuI"
   },
   "outputs": [],
   "source": [
    "# Variáveis binárias zk que definem se o veículo k é usado (zk = 1) ou não (zk = 0).\n",
    "#k_veiculos = K\n",
    "#z = LpVariable.dicts(\"Veiculos\", (k_veiculos), cat=LpBinary)"
   ]
  },
  {
   "cell_type": "code",
   "execution_count": null,
   "metadata": {
    "id": "LeLJ_jNK7qSE"
   },
   "outputs": [],
   "source": [
    "# Variáveis reais tik que indicam o mínimo instante de tempo em que o veículo k\n",
    "# pode possivelmente chegar no nó i.\n",
    "#i_pontos = pontos\n",
    "#k_veiculos = K\n",
    "#t = LpVariable.dicts(\"Tempo_Minimo_Chegada\", (k_veiculos, i_pontos), cat=LpContinuous)"
   ]
  },
  {
   "cell_type": "code",
   "execution_count": null,
   "metadata": {
    "id": "LY1k5VnS77sk"
   },
   "outputs": [],
   "source": [
    "# Variáveis reais tali que indicam o mínimo instante de tempo no qual \n",
    "# o serviço no cliente i pode começar.\n",
    "#i_pontos = pontos\n",
    "#tal = LpVariable.dicts(\"Inicio_Janela\",(i_pontos), cat=LpContinuous)"
   ]
  },
  {
   "cell_type": "code",
   "execution_count": null,
   "metadata": {
    "id": "tyHsRmRn8O0i"
   },
   "outputs": [],
   "source": [
    "# Variáveis reais pik para determinar o instante de tempo em que o veículo k,\n",
    "# se usado, começa sua rota.\n",
    "#k_veiculos = K\n",
    "#pi = LpVariable.dicts(\"Inicio_Rota\", (k_veiculos), cat=LpContinuous)"
   ]
  },
  {
   "cell_type": "code",
   "execution_count": null,
   "metadata": {
    "colab": {
     "base_uri": "https://localhost:8080/"
    },
    "id": "uXapEZqM8bxg",
    "outputId": "fc93d9e6-9041-43d0-c976-28f7e85ef17d"
   },
   "outputs": [],
   "source": [
    "# Constante positiva muito grande, utilizada nas heurísticas.\n",
    "\n",
    "#M = max(b) + max(s) + max(map(max, d))\n",
    "\n",
    "#print(M) # M medida em horas."
   ]
  },
  {
   "cell_type": "markdown",
   "metadata": {},
   "source": [
    "## Modelando o problema com a biblioteca pulp"
   ]
  },
  {
   "cell_type": "markdown",
   "metadata": {
    "id": "cl378mMd9cc6"
   },
   "source": [
    "### Declarando o problema e a variável de decisão"
   ]
  },
  {
   "cell_type": "code",
   "execution_count": null,
   "metadata": {
    "id": "eS2Yvjsi9swI"
   },
   "outputs": [],
   "source": [
    "# prob = LpProblem(\"Otimizacao_Renner\", LpMinimize)"
   ]
  },
  {
   "cell_type": "markdown",
   "metadata": {
    "id": "KypWZC2U_JNA"
   },
   "source": [
    "### Adicionando função objetivo ao problema de PL"
   ]
  },
  {
   "cell_type": "code",
   "execution_count": null,
   "metadata": {
    "id": "r2KRI1xh_Lxz"
   },
   "outputs": [],
   "source": [
    "# # o problema será resolvido em termos do tempo mínimo\n",
    "\n",
    "# # (1)\n",
    "# prob += (\n",
    "#     # custos fixos em termos de tempo\n",
    "#     lpSum([Ftil[k] for k in K]) + \\\n",
    "#     # tempo que chega da entrega\n",
    "#     lpSum([t[k][0]] for k in K) - \\\n",
    "#     # tempo que sai da entrega\n",
    "#     lpSum([pi[k]] for k in K) - \\\n",
    "#     # tempo necessário para carregar/descarregar\n",
    "#     lpSum([s[i] for i in pontos])\n",
    "# )"
   ]
  },
  {
   "cell_type": "markdown",
   "metadata": {
    "id": "4BIJFPEX9ugJ"
   },
   "source": [
    "### Adicionando restrições ao problema"
   ]
  },
  {
   "cell_type": "code",
   "execution_count": null,
   "metadata": {
    "id": "loej0oQ5VhHb"
   },
   "outputs": [],
   "source": [
    "# Definição de y_ik\n",
    "# for k in K:\n",
    "# # y_ik = 1 se soma(x[i][j][k] para j em pontos[1:]) > 0, ou 0 cc\n",
    "#   for i in pontos[1:]:\n",
    "#     prob += (\n",
    "#       lpSum([x[i][j][k] for j in pontos[1:]]) <= y[i][k]\n",
    "#     )\n",
    "\n",
    "#     prob += (\n",
    "#         y[i][k] <= 1\n",
    "#     )"
   ]
  },
  {
   "cell_type": "code",
   "execution_count": null,
   "metadata": {
    "id": "9vQ19BxaYhWw"
   },
   "outputs": [],
   "source": [
    "# # Definição de z_k\n",
    "\n",
    "# for k in K:\n",
    "#   prob += (\n",
    "#       lpSum([x[i][j][k] for (i, j) in Caminhos]) <= z[k]\n",
    "#   )\n",
    "\n",
    "#   prob += (\n",
    "#       z[k] <= 1\n",
    "#   )"
   ]
  },
  {
   "cell_type": "code",
   "execution_count": null,
   "metadata": {
    "id": "us0VdPqk9tl1"
   },
   "outputs": [],
   "source": [
    "# #(2)\n",
    "# for i in pontos[1:]: \n",
    "#   prob += (\n",
    "#       lpSum([y[i][k] for k in K]) == 1\n",
    "#   )"
   ]
  },
  {
   "cell_type": "code",
   "execution_count": null,
   "metadata": {
    "id": "N5w0H-9yqi9O"
   },
   "outputs": [],
   "source": [
    "# # (3)\n",
    "# for i in pontos[1:]:\n",
    "#   for k in K:\n",
    "#     prob += (\n",
    "#         lpSum([x[j][i][k] for j in pontos]) == y[i][k]\n",
    "#     )\n",
    "\n",
    "# # (4)\n",
    "# for j in pontos[1:]:\n",
    "#   for k in K:\n",
    "#     prob += (\n",
    "#         lpSum([x[i][j][k] for j in pontos]) == y[i][k]\n",
    "#     )"
   ]
  },
  {
   "cell_type": "code",
   "execution_count": null,
   "metadata": {
    "id": "LRwBJThOtkMa"
   },
   "outputs": [],
   "source": [
    "# # (5)\n",
    "# for k in K:\n",
    "#   prob += (\n",
    "#       lpSum([q[i]*y[i][k] for i in pontos]) <= Q_til[k] * z[k]\n",
    "#   )"
   ]
  },
  {
   "cell_type": "code",
   "execution_count": null,
   "metadata": {
    "id": "IZ9Rwrex_pu0"
   },
   "outputs": [],
   "source": [
    "# # (7)\n",
    "# for k in K:\n",
    "#   for i in pontos:\n",
    "#     prob += (\n",
    "#         t[k][j] >= tal[i] + s[i] + d[i][j] - M*(1- x[i][j][k])\n",
    "#     )\n",
    "\n",
    "# # (8)\n",
    "# for k in K:\n",
    "#   for i in pontos:\n",
    "#     prob += (\n",
    "#         t[k][j] >= pi[k] + d[0][j] - M*(1-x[0][j][k])\n",
    "#     )"
   ]
  },
  {
   "cell_type": "code",
   "execution_count": null,
   "metadata": {
    "id": "ya0zYS5SiALA"
   },
   "outputs": [],
   "source": [
    "# # (9)\n",
    "# for k in K:\n",
    "#   prob += (t[k][0] >= pi[k])\n",
    "\n",
    "# # (10)\n",
    "# for k in K:\n",
    "#   for i in pontos:\n",
    "#     prob += (tal[i] >= t[k][i])\n",
    "\n",
    "# # (11)\n",
    "# for i in pontos:\n",
    "#   prob += (tal[i] >= a[i])\n",
    "#   prob += (tal[i] <= b[i])"
   ]
  },
  {
   "cell_type": "code",
   "execution_count": null,
   "metadata": {
    "id": "4JZZszZni7A4"
   },
   "outputs": [],
   "source": [
    "# # (15)\n",
    "# for k in K:\n",
    "#   for i in pontos:\n",
    "#     prob += (t[k][i] >= 0)\n",
    "\n",
    "# # (16)\n",
    "# for i in pontos:\n",
    "#   prob += (tal[i] >= 0)\n",
    "\n",
    "# # (17)\n",
    "# for k in K:\n",
    "#   prob += (pi[k] >= 0)"
   ]
  },
  {
   "cell_type": "markdown",
   "metadata": {},
   "source": [
    "## Resolvendo o problema de PL"
   ]
  },
  {
   "cell_type": "code",
   "execution_count": null,
   "metadata": {
    "id": "B96BGhCVkR4l"
   },
   "outputs": [],
   "source": [
    "# prob.solve()"
   ]
  },
  {
   "cell_type": "markdown",
   "metadata": {},
   "source": [
    "Notamos que o tempo para resolução do problema modelado até agora é muito alto para os padrões buscados, após rodarmos a função prob.solve(). O próprio artigo-base utilizado indica que, de fato, os tempos para resolução do problema proposto, que foi modelado até agora com condições necessárias - mas não suficientes - para resolver o case, são, em média, muito elevados devido à grande ordem de complexidade do algoritmo de programação linear utilizado. Pode-se considerar ainda que o problema demorará mais para ser resolvido devido ao uso específico da linguagem Python. Nesse sentido, iremos buscar uma solução do problema através de algumas heurísticas, isto é, realizar o procedimento de resolução com uma abordagem mais \"força bruta\"."
   ]
  },
  {
   "cell_type": "markdown",
   "metadata": {},
   "source": [
    "# Resolução via Heurísticas"
   ]
  },
  {
   "cell_type": "markdown",
   "metadata": {},
   "source": [
    "## Heurísticas que serão utilizadas"
   ]
  },
  {
   "cell_type": "markdown",
   "metadata": {},
   "source": [
    "### Heurística do vizinho mais próximo\n",
    "\n",
    "**Passo-a-passo:**\n",
    "\n",
    "1) Parte-se do depósito com um novo veículo até a cidade mais próxima.\n",
    "\n",
    "2) Calcula-se a cidade mais próxima da última cidade inserida na rota e verifica-se se é possível atender sua demanada.\n",
    "\n",
    "3) Se for possível atender a demanda dessa cidade, adiciona-se ela à rota. Do contrário, retorna-se o veículo ao depósito e volta-se ao passo 1."
   ]
  },
  {
   "cell_type": "markdown",
   "metadata": {},
   "source": [
    "### Outras Heurísticas"
   ]
  },
  {
   "cell_type": "markdown",
   "metadata": {},
   "source": [
    "- Todos os veículos inicialmente são carretas, para que consigamos atender todas as lojas. Ao fim, será proposta (apesar de não realizada) uma otimização para trocar as carretas por tocos onde for possível."
   ]
  },
  {
   "cell_type": "markdown",
   "metadata": {},
   "source": [
    "- Todos os veículos atenderão as lojas logo que possível, isto é, nos turnos mais cedo. Caso não seja possível, atenderão em turnos mais tarde. Por conta disso, os turnos iniciais de cada dia serão preenchidos mais rapidamente."
   ]
  },
  {
   "cell_type": "markdown",
   "metadata": {},
   "source": [
    "- Os veículos partirão do Centro de Distribuição (CD) em turnos que estão localizados no mesmo dia em que as lojas podem ser atendidas. Caso não seja possível atender todas as lojas seguindo essa heurística, será realizada uma análise dos dados obtidos e um ajuste manual dos casos que não a respeitam."
   ]
  },
  {
   "cell_type": "markdown",
   "metadata": {},
   "source": [
    "### Implementação da função que localiza os n vizinhos mais próximos"
   ]
  },
  {
   "cell_type": "code",
   "execution_count": null,
   "metadata": {
    "scrolled": false
   },
   "outputs": [],
   "source": [
    "dmatrix"
   ]
  },
  {
   "cell_type": "code",
   "execution_count": null,
   "metadata": {},
   "outputs": [],
   "source": [
    "def n_nearest_neighbors(n: int, i: int, dmatrix: np.ndarray) -> list:\n",
    "    '''Acha o índice dos n vizinhos mais próximos da loja i e a distância mínima de cada um, dada a matriz de distâncias dmatrix.'''\n",
    "    n_nearest = list()\n",
    "    sorted_distances = sorted(dmatrix[i])\n",
    "    if n >= len(sorted_distances):\n",
    "        n = len(sorted_distances) - 1\n",
    "    for j in range(0, n):\n",
    "        n_distance = sorted_distances[j + 1]\n",
    "        n_nearest.append([list(dmatrix[i]).index(n_distance), n_distance])\n",
    "    return n_nearest"
   ]
  },
  {
   "cell_type": "code",
   "execution_count": null,
   "metadata": {
    "scrolled": false
   },
   "outputs": [],
   "source": [
    "n_nearest_neighbors(5, 1, dmatrix)"
   ]
  },
  {
   "cell_type": "markdown",
   "metadata": {},
   "source": [
    "### Definição de algumas variáveis globais úteis"
   ]
  },
  {
   "cell_type": "code",
   "execution_count": null,
   "metadata": {},
   "outputs": [],
   "source": [
    "capacidade_max_recebimento = dict(zip(df_lojas['ID Loja'], df_lojas['Máx. Peças p/ Entrega']))\n",
    "print(capacidade_max_recebimento)"
   ]
  },
  {
   "cell_type": "code",
   "execution_count": null,
   "metadata": {},
   "outputs": [],
   "source": [
    "hora_recebimento_inicial = list(dict(zip(df_lojas['ID Loja'], df_lojas['Hora Recebimento Inicial'])).values())\n",
    "print(hora_recebimento_inicial)"
   ]
  },
  {
   "cell_type": "code",
   "execution_count": null,
   "metadata": {
    "scrolled": true
   },
   "outputs": [],
   "source": [
    "hora_finalizacao_recebimento = list(dict(zip(df_lojas['ID Loja'], df_lojas['Hora Finalização Recebimento'])).values())\n",
    "hora_finalizacao_recebimento[0] = float(24)\n",
    "print(hora_finalizacao_recebimento)"
   ]
  },
  {
   "cell_type": "markdown",
   "metadata": {},
   "source": [
    "- Agora temos acesso fácil às horas de recebimento inicial e final de cada loja."
   ]
  },
  {
   "cell_type": "code",
   "execution_count": null,
   "metadata": {
    "scrolled": true
   },
   "outputs": [],
   "source": [
    "print('Dados dos veículos\\n')\n",
    "print(f'Custo por km em R$: {custo_km}')\n",
    "print(f'Capacidade máxima em unidades:{capacidade_max}')\n",
    "print(f'Custos fixos em R$: {custos_fixos}')\n",
    "print(f'Velocidades em m/h: {velocidades}')\n",
    "print(f'Tempo de carregamento em h: {carregamento}')\n",
    "print(f'Tempo de descarregamento em h: {descarregamento}')"
   ]
  },
  {
   "cell_type": "markdown",
   "metadata": {},
   "source": [
    "- Agora temos visualização e acesso fácil aos dados dos veículos."
   ]
  },
  {
   "cell_type": "markdown",
   "metadata": {},
   "source": [
    "### Criação do objeto vehicle (veículo) para conseguirmos acessar e modificar as informações de cada um com facilidade"
   ]
  },
  {
   "cell_type": "code",
   "execution_count": null,
   "metadata": {},
   "outputs": [],
   "source": [
    "class vehicle:\n",
    "    m_cost = 0\n",
    "    max_capacity = 0\n",
    "    fixed_cost = 0\n",
    "    velocity = 0\n",
    "    charge_time = 0\n",
    "    discharge_time = 0\n",
    "    \n",
    "    def __init__(self, vehicle_index: int, start_time = 0, delivery_time = list(), current_load = max_capacity, current_cost = fixed_cost, current_work_time = charge_time, routes = {'MON': list(), 'TUE': list(), 'WED': list(), 'THU': list(), 'FRI': list(), 'SAT': list()}):\n",
    "        self.vehicle_index = vehicle_index\n",
    "        self.current_load = current_load\n",
    "        self.current_cost = current_cost\n",
    "        self.current_work_time = current_work_time\n",
    "        self.routes = routes\n",
    "        self.start_time = start_time\n",
    "        self.delivery_time = delivery_time\n",
    "        \n",
    "    def get_vehicle_number(self):\n",
    "        return self.vehicle_index\n",
    "    \n",
    "    def get_current_load(self):\n",
    "        return self.current_load\n",
    "    \n",
    "    def get_current_cost(self):\n",
    "        return self.current_cost\n",
    "    \n",
    "    def get_current_work_time(self):\n",
    "        return self.current_work_time\n",
    "    \n",
    "    def get_routes(self):\n",
    "        return self.routes\n",
    "\n",
    "    def get_velocity(self):\n",
    "        return self.velocity\n",
    "\n",
    "    def get_charge_time(self):\n",
    "        return self.charge_time\n",
    "\n",
    "    def get_discharge_time(self):\n",
    "        return self.discharge_time\n",
    "\n",
    "    def get_start_time(self):\n",
    "        return self.start_time\n",
    "    \n",
    "    def get_delivery_time(self):\n",
    "        return self.delivery_time\n",
    "    \n",
    "    def get_m_cost(self):\n",
    "        return self.m_cost\n",
    "    \n",
    "    def set_current_load(self, new_load):\n",
    "        self.current_load = new_load\n",
    "        \n",
    "    def set_current_cost(self, new_cost):\n",
    "        self.current_cost = new_cost\n",
    "        \n",
    "    def set_current_work_time(self, new_work_time):\n",
    "        self.current_work = new_work_time\n",
    "        \n",
    "    def set_routes(self, new_routes):\n",
    "        self.routes = new_routes\n",
    "\n",
    "    def set_start_time(self, new_start_time):\n",
    "        self.start_time = new_start_time\n",
    "        \n",
    "    def save_delivery_time(self):\n",
    "        self.delivery_time.append(self.start_time + self.current_work_time)\n",
    "        \n",
    "    def reduce_load_while_discharging(self, store_load: float):\n",
    "        '''Atualiza a carga do veículo após descarregar em uma loja, passada a carga que a loja necessita.'''\n",
    "        self.current_load = self.current_load - store_load\n",
    "\n",
    "    def increase_work_time(self, dmatrix, first_store_index, second_store_index):\n",
    "        '''Atualiza o tempo de trabalho do veículo ao percorrer uma aresta entre duas lojas.'''\n",
    "        self.current_work_time += dmatrix[first_store_index][second_store_index]/self.velocity + self.discharge_time\n",
    "        \n",
    "    def increase_cost(self, dmatrix, first_store_index, second_store_index):\n",
    "        '''Atualiza o custo do veículo ao percorrer uma aresta entre duas lojas.'''\n",
    "        self.current_cost = self.current_cost + dmatrix[first_store_index][second_store_index]*self.m_cost\n",
    "        \n",
    "    def add_store_to_route(self, day: str, store_index: int): # adicionamos aqui somente as lojas atendidas, não o CD.\n",
    "        '''Adiciona o índice de uma loja às rotas do veículo.'''\n",
    "        self.routes[day].append(store_index)\n",
    "\n",
    "    def end_route(self,dmatrix,final_store_index):\n",
    "        self.current_work_time += dmatrix[final_store_index][0]/self.velocity\n",
    "        self.current_cost += dmatrix[final_store_index][0]*self.m_cost\n",
    "        \n",
    "    def get_necessary_initial_load(self, day, demand):\n",
    "        s = 0\n",
    "        for store in self.routes[day]:\n",
    "            s += demand[store]\n",
    "        return s\n",
    "     \n",
    "    @staticmethod\n",
    "    def get_turns(day: str, beginning_hour: float) -> list:\n",
    "        '''Dados os horários de começo e fim, e o dia, retorna os turnos que estão associados a esse intervalo de tempo.'''\n",
    "        days = ['MON', 'TUE', 'WED', 'THU', 'FRI', 'SAT']\n",
    "        day_index = days.index(day)\n",
    "        if 0 <= beginning_hour < 8:\n",
    "            turn_day = 1\n",
    "        elif 8 <= beginning_hour < 16:\n",
    "            turn_day = 2\n",
    "        else:\n",
    "            turn_day = 3\n",
    "            \n",
    "        turn = 3*day_index + turn_day\n",
    "        return turn\n",
    "    "
   ]
  },
  {
   "cell_type": "code",
   "execution_count": null,
   "metadata": {},
   "outputs": [],
   "source": [
    "class toco(vehicle):\n",
    "    m_cost = 0.0016\n",
    "    max_capacity = 5000 \n",
    "    fixed_cost = 100\n",
    "    velocity = 50000\n",
    "    charge_time = 0.5\n",
    "    discharge_time = 0.5 \n",
    "    \n",
    "    def __init__(self, vehicle_index: int, routes, delivery_time, start_time = 0, current_load = max_capacity, current_cost = fixed_cost, current_work_time = charge_time):\n",
    "        self.vehicle_index = vehicle_index\n",
    "        self.current_load = current_load\n",
    "        self.current_cost = current_cost\n",
    "        self.current_work_time = current_work_time\n",
    "        self.routes = routes\n",
    "        self.start_time = start_time\n",
    "        self.delivery_time = delivery_time\n",
    "    \n",
    "    def __str__(self):\n",
    "        return f'Número do veículo: {self.vehicle_index}\\nTipo do veículo: TOCO\\nCarga atual: {self.current_load}\\nCusto atual: {self.current_cost}\\nTempo de trabalho atual: {self.current_work_time}\\nRotas do veículo na semana: {self.routes}'\n",
    "    \n",
    "    def get_type(self):\n",
    "        return 'TOCO'\n",
    "    \n",
    "    def get_equivalent_carreta(self):\n",
    "        '''Gera uma carreta equivalente ao toco de origem, dado o índice do veículo.'''\n",
    "        new_carreta = carreta(self.vehicle_index)\n",
    "        new_carreta.set_current_load(self.get_current_load())\n",
    "        new_carreta.set_current_cost(self.get_current_cost())\n",
    "        new_carreta.set_current_work_time(self.get_current_work_time())\n",
    "        new_carreta.set_routes(self.get_routes())\n",
    "        return new_carreta\n",
    "        "
   ]
  },
  {
   "cell_type": "code",
   "execution_count": null,
   "metadata": {},
   "outputs": [],
   "source": [
    "class carreta(vehicle):\n",
    "    m_cost = 0.0024\n",
    "    max_capacity = 10000\n",
    "    fixed_cost = 150\n",
    "    velocity = 50000\n",
    "    charge_time = 1\n",
    "    discharge_time = 1\n",
    "    current_load = max_capacity\n",
    "    current_cost = fixed_cost\n",
    "    #{'MON': list(), 'TUE': list(), 'WED': list(), 'THU': list(), 'FRI': list(), 'SAT': list()}\n",
    "    \n",
    "    def __init__(self,vehicle_index: int, routes, delivery_time, start_time = 0, current_load = max_capacity, current_cost = fixed_cost, current_work_time = charge_time):\n",
    "        self.vehicle_index = vehicle_index\n",
    "        self.current_load = current_load\n",
    "        self.current_cost = current_cost\n",
    "        self.current_work_time = current_work_time\n",
    "        self.routes = routes\n",
    "        self.start_time = start_time\n",
    "        self.delivery_time = delivery_time\n",
    "    \n",
    "    def __str__(self):\n",
    "        return f'Número do veículo: {self.vehicle_index}\\nTipo do veículo: CARRETA\\nCarga atual: {self.current_load}\\nCusto atual: {self.current_cost}\\nTempo de trabalho atual: {self.current_work_time}\\nRotas do veículo na semana: {self.routes}'\n",
    "    \n",
    "    def get_type(self):\n",
    "        return 'CARRETA'\n",
    "    \n",
    "    def get_equivalent_toco(self):\n",
    "        '''Gera um toco equivalente à carreta de origem, dado o índice do veículo.'''\n",
    "        new_toco = toco(self.vehicle_index)\n",
    "        new_toco.set_current_load(self.get_current_load())\n",
    "        new_toco.set_current_cost(self.get_current_cost())\n",
    "        new_toco.set_current_work_time(self.get_current_work_time())\n",
    "        new_toco.set_routes(self.get_routes())\n",
    "        return new_toco"
   ]
  },
  {
   "cell_type": "code",
   "execution_count": null,
   "metadata": {
    "scrolled": false
   },
   "outputs": [],
   "source": [
    "df_lojas[df_lojas['Hora Recebimento Inicial'] > df_lojas['Hora Finalização Recebimento']]"
   ]
  },
  {
   "cell_type": "code",
   "execution_count": null,
   "metadata": {},
   "outputs": [],
   "source": [
    "def get_next_store(n: int, demanda: list, dmatrix: np.ndarray, day: str, stores_per_day: dict) -> int:\n",
    "    '''Retorna a loja mais próxima da loja i cuja demanda ainda não foi atendida, e que pode ser atendida no dia em questão'''\n",
    "    closest_stores = n_nearest_neighbors(len(dmatrix),n,dmatrix)\n",
    "    for i in range(0,len(dmatrix)-1):\n",
    "        if demanda[closest_stores[i][0]] != 0 and stores_per_day[day][i] != 0:\n",
    "            return closest_stores[i][0]\n",
    "    return 0"
   ]
  },
  {
   "cell_type": "code",
   "execution_count": null,
   "metadata": {},
   "outputs": [],
   "source": [
    "def get_n_next_stores(n: int, i: int, demanda: list, dmatrix: np.ndarray, day: str, stores_per_day: dict) -> list:\n",
    "    '''Retorna as n lojas mais próximas da loja i, que ainda não foram atendidas, e que podem ser atendidas no dia em questão'''\n",
    "    stores = n_nearest_neighbors(len(dmatrix),i,dmatrix) # ordenadas por proximidade à loja i\n",
    "    result = list()\n",
    "    for j in range(0,len(dmatrix)-1):\n",
    "        if demanda[stores[j][0]] != 0 and stores_per_day[day][j] != 0 and len(result) < n:\n",
    "            result.append(stores[j][0])\n",
    "    return result"
   ]
  },
  {
   "cell_type": "code",
   "execution_count": null,
   "metadata": {},
   "outputs": [],
   "source": [
    "def can_supply(current_store: int, next_store:int, v:vehicle, demanda:list, comeco:list, termino: list, cap_exp: int) -> bool:\n",
    "    ''' Retorna se uma dada loja pode ser atendida pelo veículo v, saindo da current_store e indo à next_store.'''\n",
    "    # A nova viagem não pode exceder a capacidade máxima de carga do veículo\n",
    "    if demanda[next_store] > v.get_current_load():\n",
    "        return False\n",
    "\n",
    "    # o veículo não pode chegar antes da loja abrir\n",
    "    if v.get_start_time() + v.get_current_work_time() + dmatrix[current_store][next_store]/ v.get_velocity() < comeco[next_store]:\n",
    "        return False\n",
    "\n",
    "    # o veículo não pode chegar na loja após o horario de fechamento\n",
    "    if v.get_start_time() + v.get_current_work_time() + dmatrix[current_store][next_store]/ v.get_velocity() > termino[next_store]:\n",
    "        return False\n",
    "\n",
    "    # o tempo de uso total do veículo não pode ultrapassar o limite de 12 horas (incluindo o retorno ao depósito?)\n",
    "    if v.get_current_work_time() + dmatrix[current_store][next_store]/ v.get_velocity() + v.get_discharge_time() + dmatrix[next_store][0]/ v.get_velocity() > 12:\n",
    "        return False\n",
    "\n",
    "    # A nova viagem não pode exceder a capacidade de expedição do turno\n",
    "    if demanda[next_store] > cap_exp:\n",
    "        return False\n",
    "    \n",
    "    return True"
   ]
  },
  {
   "cell_type": "code",
   "execution_count": null,
   "metadata": {},
   "outputs": [],
   "source": [
    "def ranked_by_cost(current_store: int, n_next_stores: list,v: vehicle,dmatrix: np.ndarray) -> list:\n",
    "    ''' Retorna as n próximas lojas possíveis de serem atendidas por um veículo em ordem crescente de custo.'''\n",
    "    costs = {}\n",
    "    for i in range(0,len(n_next_stores)):\n",
    "        costs[n_next_stores[i]] = (dmatrix[current_store][n_next_stores[i]] + dmatrix[n_next_stores[i]][0])*v.get_m_cost()\n",
    "    result = sorted(costs.items(), key=lambda x:x[1])\n",
    "    sorted_index = list()\n",
    "    for r in result:\n",
    "        sorted_index.append(r[0])\n",
    "    return sorted_index"
   ]
  },
  {
   "cell_type": "markdown",
   "metadata": {},
   "source": [
    "### Aplicando a heurística em forma de algoritmo para determinar uma solução"
   ]
  },
  {
   "cell_type": "code",
   "execution_count": null,
   "metadata": {},
   "outputs": [],
   "source": [
    "lista_demandas = list(demanda.values())"
   ]
  },
  {
   "cell_type": "code",
   "execution_count": null,
   "metadata": {},
   "outputs": [],
   "source": [
    "lista_demandas.index(max(lista_demandas))"
   ]
  },
  {
   "cell_type": "code",
   "execution_count": null,
   "metadata": {},
   "outputs": [],
   "source": [
    "max(lista_demandas)"
   ]
  },
  {
   "cell_type": "markdown",
   "metadata": {},
   "source": [
    "- Vemos, pelos dados, que a loja 77 é a única que não consegue ser atendida com uma única carreta."
   ]
  },
  {
   "cell_type": "code",
   "execution_count": null,
   "metadata": {
    "scrolled": false
   },
   "outputs": [],
   "source": [
    "# Substraindo 5000 do único carregamento que não pode ser atendido por um único veículo, para mandarmos um toco ao fim.\n",
    "current_demand = list(demanda.values())\n",
    "current_demand[77] -= 5000\n",
    "cap_exp = list(df_turnos['Capacidade Máxima de Expedição'])\n",
    "days = ('MON','TUE','WED','THU','FRI','SAT')\n",
    "custo_total = 0\n",
    "n = 1\n",
    "\n",
    "vehicles = list()\n",
    "for i in range(0, len(df_lojas['ID Loja']) - 1):\n",
    "    vehicles.append(carreta(i, routes = {'MON': list(), 'TUE': list(), 'WED': list(), 'THU': list(), 'FRI': list(), 'SAT': list()}, delivery_time = list()))\n",
    "\n",
    "current_store = 0\n",
    "\n",
    "# Algoritmo\n",
    "for v in vehicles:\n",
    "    for day in days:\n",
    "        #Reset do veículo no dia\n",
    "        v.set_current_load(10000)\n",
    "        v.set_current_work_time(0)\n",
    "        \n",
    "        #Primeira loja do dia\n",
    "        next_store = get_next_store(current_store, current_demand, dmatrix, day, stores_per_day)\n",
    "        v.set_start_time(hora_recebimento_inicial[next_store] - dmatrix[current_store][next_store]/ v.get_velocity() - v.get_charge_time()) \n",
    "        while can_supply(current_store,next_store,v,current_demand, hora_recebimento_inicial, hora_finalizacao_recebimento, cap_exp[vehicle.get_turns(day,v.get_start_time()) - 1]):\n",
    "            #Alterações do veículo\n",
    "            v.add_store_to_route(day,next_store)\n",
    "            v.reduce_load_while_discharging(current_demand[next_store])\n",
    "            v.increase_cost(dmatrix,current_store,next_store)\n",
    "            v.increase_work_time(dmatrix,current_store,next_store)\n",
    "            v.save_delivery_time()\n",
    "            \n",
    "            #Alterações das lojas/CD\n",
    "            cap_exp[vehicle.get_turns(day,v.get_start_time()) - 1] -= current_demand[next_store]\n",
    "            current_demand[next_store] = 0.0\n",
    "            #Continuação do ciclo\n",
    "            current_store = next_store\n",
    "            n_next_stores = get_n_next_stores(n,current_store, current_demand, dmatrix, day, stores_per_day)\n",
    "            n_next_stores = ranked_by_cost(current_store,n_next_stores,v,dmatrix)\n",
    "            next_store = get_next_store(current_store,current_demand,dmatrix,day,stores_per_day)\n",
    "            for store in n_next_stores:\n",
    "                if can_supply(current_store,store,v,current_demand, hora_recebimento_inicial, hora_finalizacao_recebimento, cap_exp[vehicle.get_turns(day,v.get_start_time()) - 1]):\n",
    "                    next_store = store\n",
    "                    break\n",
    "            \n",
    "        if len(v.routes[day]) > 0:\n",
    "            #Finaliza rotas iniciadas, retornando-as para o CD\n",
    "            v.end_route(dmatrix,current_store)\n",
    "        v.set_current_load(0)\n",
    "    custo_total += v.get_current_cost()"
   ]
  },
  {
   "cell_type": "markdown",
   "metadata": {},
   "source": [
    "### Escrevendo o resultado final em uma forma mais visual"
   ]
  },
  {
   "cell_type": "code",
   "execution_count": null,
   "metadata": {
    "scrolled": true
   },
   "outputs": [],
   "source": [
    "resultado_final = pd.DataFrame(columns = ['CD', 'LOJA', 'ROTA', 'DIA DA SEMANA', 'TURNO', 'PLAN. HORA', 'VOLUME PREVISTO', 'VEÍCULO'])\n",
    "resultado_final"
   ]
  },
  {
   "cell_type": "code",
   "execution_count": null,
   "metadata": {
    "scrolled": false
   },
   "outputs": [],
   "source": [
    "for v in vehicles:\n",
    "    delivery_number = 0\n",
    "    for day in days:\n",
    "        daily_route = v.get_routes()[day]\n",
    "        for store in daily_route:\n",
    "            delivery_time = v.get_delivery_time()[delivery_number]\n",
    "            row = {'CD': 'Arujá', \n",
    "                   'LOJA': store, \n",
    "                   'ROTA': v.get_vehicle_number() + 1, \n",
    "                   'DIA DA SEMANA': day, \n",
    "                   'TURNO': vehicle.get_turns(day,delivery_time), \n",
    "                   'PLAN. HORA': delivery_time, \n",
    "                   'VOLUME PREVISTO': v.get_necessary_initial_load(day, lista_demandas), \n",
    "                   'VEÍCULO': v.get_type()}\n",
    "            resultado_final = resultado_final.append(row, ignore_index = True)\n",
    "            delivery_number += 1\n",
    "# Mandando um toco adicional para a loja 77 em horário apropriado.\n",
    "row_77 = {'CD': 'Arujá', \n",
    "          'LOJA': 77, \n",
    "          'ROTA': resultado_final['ROTA'].max() + 1, \n",
    "          'DIA DA SEMANA': 'FRI', \n",
    "          'TURNO': vehicle.get_turns('FRI', 11), \n",
    "          'PLAN. HORA': 11, \n",
    "          'VOLUME PREVISTO': 5000, \n",
    "          'VEÍCULO': 'TOCO'}\n",
    "resultado_final = resultado_final.append(row_77, ignore_index = True)"
   ]
  },
  {
   "cell_type": "markdown",
   "metadata": {},
   "source": [
    "### Traduzindo os dias da semana para o português"
   ]
  },
  {
   "cell_type": "code",
   "execution_count": null,
   "metadata": {
    "scrolled": true
   },
   "outputs": [],
   "source": [
    "resultado_final['DIA DA SEMANA'] = resultado_final['DIA DA SEMANA'].apply(lambda x: 'SEG' if x == 'MON' else x)\n",
    "resultado_final['DIA DA SEMANA'] = resultado_final['DIA DA SEMANA'].apply(lambda x: 'TER' if x == 'TUE' else x)\n",
    "resultado_final['DIA DA SEMANA'] = resultado_final['DIA DA SEMANA'].apply(lambda x: 'QUA' if x == 'WED' else x)\n",
    "resultado_final['DIA DA SEMANA'] = resultado_final['DIA DA SEMANA'].apply(lambda x: 'QUI' if x == 'THU' else x)\n",
    "resultado_final['DIA DA SEMANA'] = resultado_final['DIA DA SEMANA'].apply(lambda x: 'SEX' if x == 'FRI' else x)\n",
    "resultado_final['DIA DA SEMANA'] = resultado_final['DIA DA SEMANA'].apply(lambda x: 'SAB' if x == 'SAT' else x)"
   ]
  },
  {
   "cell_type": "markdown",
   "metadata": {},
   "source": [
    "### Transformando os horários em horas e minutos"
   ]
  },
  {
   "cell_type": "code",
   "execution_count": null,
   "metadata": {},
   "outputs": [],
   "source": [
    "def transform_to_hour_minute(x):\n",
    "    if math.trunc(60*(x - math.trunc(x))) != 0:\n",
    "        return f'{math.trunc(x)}:{math.trunc(60*(x - math.trunc(x)))}'\n",
    "    return f'{math.trunc(x)}:00'\n",
    "\n",
    "resultado_final['PLAN. HORA'] = resultado_final['PLAN. HORA'].apply(lambda x: transform_to_hour_minute(x))"
   ]
  },
  {
   "cell_type": "markdown",
   "metadata": {},
   "source": [
    "### Verificando se todas as lojas foram atendidas com as heurísticas propostas"
   ]
  },
  {
   "cell_type": "code",
   "execution_count": null,
   "metadata": {},
   "outputs": [],
   "source": [
    "for values in resultado_final['LOJA'].sort_values():\n",
    "    print(values)"
   ]
  },
  {
   "cell_type": "markdown",
   "metadata": {},
   "source": [
    "- Verificamos que nem todas as lojas foram atendidas"
   ]
  },
  {
   "cell_type": "markdown",
   "metadata": {},
   "source": [
    "### Testando para vários valores de n para obtermos o maior número de lojas atendidas através das heurísticas propostas"
   ]
  },
  {
   "cell_type": "code",
   "execution_count": null,
   "metadata": {},
   "outputs": [],
   "source": [
    "# all_stores_for_all_n = list()\n",
    "# len_for_each_n = list()\n",
    "# # lista_custo_total = [0]\n",
    "# for n in range(1, 134):\n",
    "#     all_stores = list()\n",
    "#     current_demand = list(demanda.values())\n",
    "#     current_demand[77] -= 5000\n",
    "#     cap_exp = list(df_turnos['Capacidade Máxima de Expedição'])\n",
    "#     days = ('MON','TUE','WED','THU','FRI','SAT')\n",
    "#     custo_total = 0\n",
    "\n",
    "#     vehicles = list()\n",
    "#     for i in range(0, len(df_lojas['ID Loja']) - 1):\n",
    "#         vehicles.append(carreta(i, routes = {'MON': list(), 'TUE': list(), 'WED': list(), 'THU': list(), 'FRI': list(), 'SAT': list()}, delivery_time = list()))\n",
    "\n",
    "#     current_store = 0\n",
    "\n",
    "#     # Algoritmo\n",
    "#     for v in vehicles:\n",
    "#         for day in days:\n",
    "#             v.set_current_load(10000)\n",
    "#             v.set_current_work_time(0)\n",
    "\n",
    "#             next_store = get_next_store(current_store, current_demand, dmatrix, day, stores_per_day)\n",
    "#             v.set_start_time(hora_recebimento_inicial[next_store] - dmatrix[current_store][next_store]/ v.get_velocity() - v.get_charge_time()) \n",
    "#             while can_supply(current_store,next_store,v,current_demand, hora_recebimento_inicial, hora_finalizacao_recebimento, cap_exp[vehicle.get_turns(day,v.get_start_time()) - 1]):\n",
    "                \n",
    "#                 v.add_store_to_route(day,next_store)\n",
    "#                 v.reduce_load_while_discharging(current_demand[next_store])\n",
    "#                 v.increase_cost(dmatrix,current_store,next_store)\n",
    "#                 v.increase_work_time(dmatrix,current_store,next_store)\n",
    "#                 v.save_delivery_time()\n",
    "\n",
    "                \n",
    "#                 cap_exp[vehicle.get_turns(day,v.get_start_time()) - 1] -= current_demand[next_store]\n",
    "#                 current_demand[next_store] = 0.0\n",
    "               \n",
    "#                 current_store = next_store\n",
    "#                 n_next_stores = get_n_next_stores(n,current_store, current_demand, dmatrix, day, stores_per_day)\n",
    "#                 n_next_stores = ranked_by_cost(current_store,n_next_stores,v,dmatrix)\n",
    "#                 next_store = get_next_store(current_store,current_demand,dmatrix,day,stores_per_day)\n",
    "#                 for store in n_next_stores:\n",
    "#                     if can_supply(current_store,store,v,current_demand, hora_recebimento_inicial, hora_finalizacao_recebimento, cap_exp[vehicle.get_turns(day,v.get_start_time()) - 1]):\n",
    "#                         next_store = store\n",
    "#                         break\n",
    "\n",
    "#             if len(v.routes[day]) > 0:\n",
    "#                 v.end_route(dmatrix,current_store)\n",
    "#             v.set_current_load(0)\n",
    "#     for v in vehicles:\n",
    "#         for day in days:\n",
    "#             all_stores.extend(v.routes[day])\n",
    "#     all_stores = sorted(all_stores)\n",
    "#     len_for_each_n.append(len(all_stores))\n",
    "#     all_stores_for_all_n.append(all_stores)\n",
    "    \n",
    "#         custo_total += v.get_current_cost()\n",
    "#     lista_custo_total.append(custo_total)"
   ]
  },
  {
   "cell_type": "code",
   "execution_count": null,
   "metadata": {
    "scrolled": false
   },
   "outputs": [],
   "source": [
    "# max(len_for_each_n)\n",
    "# len_for_each_n.index(127)"
   ]
  },
  {
   "cell_type": "markdown",
   "metadata": {},
   "source": [
    "- Descobrimos, portanto, que n = 1 é o que atende o maior número de lojas."
   ]
  },
  {
   "cell_type": "markdown",
   "metadata": {},
   "source": [
    "### Procurando as lojas não atendidas"
   ]
  },
  {
   "cell_type": "code",
   "execution_count": null,
   "metadata": {},
   "outputs": [],
   "source": [
    "lojas_atendidas = list()\n",
    "for value in resultado_final['LOJA'].sort_values():\n",
    "    lojas_atendidas.append(value)"
   ]
  },
  {
   "cell_type": "code",
   "execution_count": null,
   "metadata": {},
   "outputs": [],
   "source": [
    "lojas_nao_atendidas = list()\n",
    "for i in range(1, 134):\n",
    "    if i not in lojas_atendidas:\n",
    "        lojas_nao_atendidas.append(i)"
   ]
  },
  {
   "cell_type": "code",
   "execution_count": null,
   "metadata": {},
   "outputs": [],
   "source": [
    "lojas_nao_atendidas"
   ]
  },
  {
   "cell_type": "markdown",
   "metadata": {},
   "source": [
    "- Notamos, da análise dos dados, que o algoritmo não conseguiu atender as lojas muito distantes e que deveriam ser atendidas por turnos do dia anterior."
   ]
  },
  {
   "cell_type": "markdown",
   "metadata": {},
   "source": [
    "- É impossível preencher esses valores através das heurísticas simplificadoras que utilizamos."
   ]
  },
  {
   "cell_type": "code",
   "execution_count": null,
   "metadata": {
    "scrolled": true
   },
   "outputs": [],
   "source": [
    "cap_exp"
   ]
  },
  {
   "cell_type": "code",
   "execution_count": null,
   "metadata": {},
   "outputs": [],
   "source": [
    "dmatrix[0][113]/50000"
   ]
  },
  {
   "cell_type": "markdown",
   "metadata": {},
   "source": [
    "- Notamos que outras heurísticas menos simplificadas deveriam ser aplicadas para conseguirmos atender todas as lojas. Porém, como o número de lojas não atendidas é muito pequeno, conseguiremos preencher manualmente esses valores."
   ]
  },
  {
   "cell_type": "markdown",
   "metadata": {},
   "source": [
    "### Preenchendo esses valores na \"força-bruta\""
   ]
  },
  {
   "cell_type": "code",
   "execution_count": null,
   "metadata": {
    "scrolled": true
   },
   "outputs": [],
   "source": [
    "lojas_nao_atendidas"
   ]
  },
  {
   "cell_type": "code",
   "execution_count": null,
   "metadata": {},
   "outputs": [],
   "source": [
    "row_113 = {'CD': 'Arujá', \n",
    "          'LOJA': 113, \n",
    "          'ROTA': resultado_final['ROTA'].max() + 1, \n",
    "          'DIA DA SEMANA': 'SEX', \n",
    "          'TURNO': 12, \n",
    "          'PLAN. HORA': '11:00', \n",
    "          'VOLUME PREVISTO': 3344, \n",
    "          'VEÍCULO': 'TOCO'}\n",
    "resultado_final = resultado_final.append(row_113, ignore_index = True)"
   ]
  },
  {
   "cell_type": "code",
   "execution_count": null,
   "metadata": {},
   "outputs": [],
   "source": [
    "dmatrix[0][113]/50000"
   ]
  },
  {
   "cell_type": "code",
   "execution_count": null,
   "metadata": {},
   "outputs": [],
   "source": [
    "cap_exp[11] -= 3344"
   ]
  },
  {
   "cell_type": "code",
   "execution_count": null,
   "metadata": {},
   "outputs": [],
   "source": [
    "row_117 = {'CD': 'Arujá', \n",
    "          'LOJA': 117, \n",
    "          'ROTA': resultado_final['ROTA'].max() + 1, \n",
    "          'DIA DA SEMANA': 'QUA', \n",
    "          'TURNO': 9, \n",
    "          'PLAN. HORA': '7:30', \n",
    "          'VOLUME PREVISTO': 1012, \n",
    "          'VEÍCULO': 'TOCO'}\n",
    "resultado_final = resultado_final.append(row_117, ignore_index = True)"
   ]
  },
  {
   "cell_type": "code",
   "execution_count": null,
   "metadata": {
    "scrolled": true
   },
   "outputs": [],
   "source": [
    "dmatrix[0][117]/50000"
   ]
  },
  {
   "cell_type": "code",
   "execution_count": null,
   "metadata": {},
   "outputs": [],
   "source": [
    "cap_exp[8] -= 1012"
   ]
  },
  {
   "cell_type": "code",
   "execution_count": null,
   "metadata": {},
   "outputs": [],
   "source": [
    "row_121 = {'CD': 'Arujá', \n",
    "          'LOJA': 121, \n",
    "          'ROTA': resultado_final['ROTA'].max(), \n",
    "          'DIA DA SEMANA': 'QUI', \n",
    "          'TURNO': 9, \n",
    "          'PLAN. HORA': '8:00', \n",
    "          'VOLUME PREVISTO': 3371, \n",
    "          'VEÍCULO': 'CARRETA'}\n",
    "resultado_final = resultado_final.append(row_121, ignore_index = True)"
   ]
  },
  {
   "cell_type": "code",
   "execution_count": null,
   "metadata": {},
   "outputs": [],
   "source": [
    "dmatrix[0][121]/50000"
   ]
  },
  {
   "cell_type": "code",
   "execution_count": null,
   "metadata": {},
   "outputs": [],
   "source": [
    "cap_exp[8] -= 3371"
   ]
  },
  {
   "cell_type": "code",
   "execution_count": null,
   "metadata": {},
   "outputs": [],
   "source": [
    "row_122 = {'CD': 'Arujá', \n",
    "          'LOJA': 122, \n",
    "          'ROTA': resultado_final['ROTA'].max(), \n",
    "          'DIA DA SEMANA': 'QUI', \n",
    "          'TURNO': 9, \n",
    "          'PLAN. HORA': '10:00', \n",
    "          'VOLUME PREVISTO': 2122, \n",
    "          'VEÍCULO': 'CARRETA'}\n",
    "resultado_final = resultado_final.append(row_122, ignore_index = True)"
   ]
  },
  {
   "cell_type": "code",
   "execution_count": null,
   "metadata": {},
   "outputs": [],
   "source": [
    "dmatrix[0][122]/50000"
   ]
  },
  {
   "cell_type": "code",
   "execution_count": null,
   "metadata": {},
   "outputs": [],
   "source": [
    "cap_exp[8] -= 2122"
   ]
  },
  {
   "cell_type": "code",
   "execution_count": null,
   "metadata": {},
   "outputs": [],
   "source": [
    "row_123 = {'CD': 'Arujá', \n",
    "          'LOJA': 123, \n",
    "          'ROTA': resultado_final['ROTA'].max() + 1, \n",
    "          'DIA DA SEMANA': 'QUI', \n",
    "          'TURNO': 9, \n",
    "          'PLAN. HORA': '9:00', \n",
    "          'VOLUME PREVISTO': 9103, \n",
    "          'VEÍCULO': 'CARRETA'}\n",
    "resultado_final = resultado_final.append(row_123, ignore_index = True)"
   ]
  },
  {
   "cell_type": "code",
   "execution_count": null,
   "metadata": {},
   "outputs": [],
   "source": [
    "dmatrix[0][123]/50000"
   ]
  },
  {
   "cell_type": "code",
   "execution_count": null,
   "metadata": {},
   "outputs": [],
   "source": [
    "cap_exp[8] -= 9103"
   ]
  },
  {
   "cell_type": "code",
   "execution_count": null,
   "metadata": {},
   "outputs": [],
   "source": [
    "row_124 = {'CD': 'Arujá', \n",
    "          'LOJA': 124, \n",
    "          'ROTA': resultado_final['ROTA'].max() + 1, \n",
    "          'DIA DA SEMANA': 'SEX', \n",
    "          'TURNO': 12, \n",
    "          'PLAN. HORA': '7:00', \n",
    "          'VOLUME PREVISTO': 5227, \n",
    "          'VEÍCULO': 'CARRETA'}\n",
    "resultado_final = resultado_final.append(row_124, ignore_index = True)"
   ]
  },
  {
   "cell_type": "code",
   "execution_count": null,
   "metadata": {},
   "outputs": [],
   "source": [
    "dmatrix[0][124]/50000"
   ]
  },
  {
   "cell_type": "code",
   "execution_count": null,
   "metadata": {},
   "outputs": [],
   "source": [
    "cap_exp[11] -= 5227"
   ]
  },
  {
   "cell_type": "markdown",
   "metadata": {},
   "source": [
    "## Finalmente, a resposta final do problema"
   ]
  },
  {
   "cell_type": "code",
   "execution_count": null,
   "metadata": {
    "scrolled": true
   },
   "outputs": [],
   "source": [
    "resultado_final"
   ]
  },
  {
   "cell_type": "code",
   "execution_count": null,
   "metadata": {
    "scrolled": false
   },
   "outputs": [],
   "source": [
    "cap_exp"
   ]
  },
  {
   "cell_type": "code",
   "execution_count": null,
   "metadata": {},
   "outputs": [],
   "source": [
    "custo_total += ((dmatrix[0][113] + dmatrix[113][0]) * 0.0016 \n",
    "             + (dmatrix[0][117] + dmatrix[117][0]) * 0.0016 \n",
    "             + (dmatrix[0][121] + dmatrix[121][122] + dmatrix[122][0])*0.0024 \n",
    "             + (dmatrix[0][123] + dmatrix[123][0]) * 0.0024 \n",
    "             + (dmatrix[0][124] + dmatrix[124][0])* 0.0024 \n",
    "             + (100) + (100) + (150) + (150) + (150))"
   ]
  },
  {
   "cell_type": "code",
   "execution_count": null,
   "metadata": {},
   "outputs": [],
   "source": [
    "custo_total"
   ]
  },
  {
   "cell_type": "code",
   "execution_count": null,
   "metadata": {},
   "outputs": [],
   "source": [
    "resultado_final.to_excel('resultado_final_case_renner.xlsx')"
   ]
  }
 ],
 "metadata": {
  "colab": {
   "provenance": []
  },
  "kernelspec": {
   "display_name": "Python 3 (ipykernel)",
   "language": "python",
   "name": "python3"
  },
  "language_info": {
   "codemirror_mode": {
    "name": "ipython",
    "version": 3
   },
   "file_extension": ".py",
   "mimetype": "text/x-python",
   "name": "python",
   "nbconvert_exporter": "python",
   "pygments_lexer": "ipython3",
   "version": "3.9.7"
  },
  "vscode": {
   "interpreter": {
    "hash": "b1be5a1e9e85905d3e4e97ef1b769f5caa870a8a58c9f9e0ae488b6f0a0e1baf"
   }
  }
 },
 "nbformat": 4,
 "nbformat_minor": 1
}
