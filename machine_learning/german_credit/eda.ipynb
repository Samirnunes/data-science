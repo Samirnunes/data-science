{
 "cells": [
  {
   "cell_type": "markdown",
   "metadata": {},
   "source": [
    "## German Credit Analysis"
   ]
  },
  {
   "cell_type": "markdown",
   "metadata": {},
   "source": [
    "### Importing Libraries"
   ]
  },
  {
   "cell_type": "code",
   "execution_count": 1,
   "metadata": {
    "ExecuteTime": {
     "end_time": "2024-01-15T01:30:51.718780100Z",
     "start_time": "2024-01-15T01:30:51.177593Z"
    }
   },
   "outputs": [],
   "source": [
    "from machine_learning.german_credit.german_credit_utils import *"
   ]
  },
  {
   "cell_type": "markdown",
   "metadata": {},
   "source": [
    "### Dataset Description"
   ]
  },
  {
   "cell_type": "markdown",
   "metadata": {},
   "source": [
    "This dataset classifies people described by a set of attributes as good or bad credit risks. Comes in two formats (one all numeric). Also comes with a cost matrix."
   ]
  },
  {
   "cell_type": "markdown",
   "source": [
    "Additional Variable Information:\n",
    "\n",
    "Attribute 1:  (qualitative)      \n",
    " Status of existing checking account\n",
    "             A11 :      ... <    0 DM\n",
    "\t       A12 : 0 <= ... <  200 DM\n",
    "\t       A13 :      ... >= 200 DM / salary assignments for at least 1 year\n",
    "               A14 : no checking account\n",
    "\n",
    "Attribute 2:  (numerical)\n",
    "\t      Duration in month\n",
    "\n",
    "Attribute 3:  (qualitative)\n",
    "\t      Credit history\n",
    "\t      A30 : no credits taken/ all credits paid back duly\n",
    "              A31 : all credits at this bank paid back duly\n",
    "\t      A32 : existing credits paid back duly till now\n",
    "              A33 : delay in paying off in the past\n",
    "\t      A34 : critical account/  other credits existing (not at this bank)\n",
    "\n",
    "Attribute 4:  (qualitative)\n",
    "\t      Purpose\n",
    "\t      A40 : car (new)\n",
    "\t      A41 : car (used)\n",
    "\t      A42 : furniture/equipment\n",
    "\t      A43 : radio/television\n",
    "\t      A44 : domestic appliances\n",
    "\t      A45 : repairs\n",
    "\t      A46 : education\n",
    "\t      A47 : (vacation - does not exist?)\n",
    "\t      A48 : retraining\n",
    "\t      A49 : business\n",
    "\t      A410 : others\n",
    "\n",
    "Attribute 5:  (numerical)\n",
    "\t      Credit amount\n",
    "\n",
    "Attibute 6:  (qualitative)\n",
    "\t      Savings account/bonds\n",
    "\t      A61 :          ... <  100 DM\n",
    "\t      A62 :   100 <= ... <  500 DM\n",
    "\t      A63 :   500 <= ... < 1000 DM\n",
    "\t      A64 :          .. >= 1000 DM\n",
    "              A65 :   unknown/ no savings account\n",
    "\n",
    "Attribute 7:  (qualitative)\n",
    "\t      Present employment since\n",
    "\t      A71 : unemployed\n",
    "\t      A72 :       ... < 1 year\n",
    "\t      A73 : 1  <= ... < 4 years  \n",
    "\t      A74 : 4  <= ... < 7 years\n",
    "\t      A75 :       .. >= 7 years\n",
    "\n",
    "Attribute 8:  (numerical)\n",
    "\t      Installment rate in percentage of disposable income\n",
    "\n",
    "Attribute 9:  (qualitative)\n",
    "\t      Personal status and sex\n",
    "\t      A91 : male   : divorced/separated\n",
    "\t      A92 : female : divorced/separated/married\n",
    "              A93 : male   : single\n",
    "\t      A94 : male   : married/widowed\n",
    "\t      A95 : female : single\n",
    "\n",
    "Attribute 10: (qualitative)\n",
    "\t      Other debtors / guarantors\n",
    "\t      A101 : none\n",
    "\t      A102 : co-applicant\n",
    "\t      A103 : guarantor\n",
    "\n",
    "Attribute 11: (numerical)\n",
    "\t      Present residence since\n",
    "\n",
    "Attribute 12: (qualitative)\n",
    "\t      Property\n",
    "\t      A121 : real estate\n",
    "\t      A122 : if not A121 : building society savings agreement/ life insurance\n",
    "              A123 : if not A121/A122 : car or other, not in attribute 6\n",
    "\t      A124 : unknown / no property\n",
    "\n",
    "Attribute 13: (numerical)\n",
    "\t      Age in years\n",
    "\n",
    "Attribute 14: (qualitative)\n",
    "\t      Other installment plans \n",
    "\t      A141 : bank\n",
    "\t      A142 : stores\n",
    "\t      A143 : none\n",
    "\n",
    "Attribute 15: (qualitative)\n",
    "\t      Housing\n",
    "\t      A151 : rent\n",
    "\t      A152 : own\n",
    "\t      A153 : for free\n",
    "\n",
    "Attribute 16: (numerical)\n",
    "              Number of existing credits at this bank\n",
    "\n",
    "Attribute 17: (qualitative)\n",
    "\t      Job\n",
    "\t      A171 : unemployed/ unskilled  - non-resident\n",
    "\t      A172 : unskilled - resident\n",
    "\t      A173 : skilled employee / official\n",
    "\t      A174 : management/ self-employed/\n",
    "\t\t     highly qualified employee/ officer\n",
    "\n",
    "Attribute 18: (numerical)\n",
    "\t      Number of people being liable to provide maintenance for\n",
    "\n",
    "Attribute 19: (qualitative)\n",
    "\t      Telephone\n",
    "\t      A191 : none\n",
    "\t      A192 : yes, registered under the customers name\n",
    "\n",
    "Attribute 20: (qualitative)\n",
    "\t      foreign worker\n",
    "\t      A201 : yes\n",
    "\t      A202 : no"
   ],
   "metadata": {
    "collapsed": false
   }
  },
  {
   "cell_type": "markdown",
   "metadata": {},
   "source": [
    "### Importing Data"
   ]
  },
  {
   "cell_type": "code",
   "execution_count": 2,
   "metadata": {
    "ExecuteTime": {
     "end_time": "2024-01-15T01:30:54.055880400Z",
     "start_time": "2024-01-15T01:30:51.723174400Z"
    }
   },
   "outputs": [],
   "source": [
    "X, y = import_data()"
   ]
  },
  {
   "cell_type": "code",
   "execution_count": 5,
   "metadata": {
    "ExecuteTime": {
     "end_time": "2024-01-15T01:31:46.165667700Z",
     "start_time": "2024-01-15T01:31:46.143301700Z"
    }
   },
   "outputs": [
    {
     "data": {
      "text/plain": "  checking_account_status  duration credit_history purpose  credit_amount  \\\n0                     A11         6            A34     A43           1169   \n1                     A12        48            A32     A43           5951   \n2                     A14        12            A34     A46           2096   \n3                     A11        42            A32     A42           7882   \n4                     A11        24            A33     A40           4870   \n\n  saving_account present_employment_since  installment_rate_percentage  \\\n0            A65                      A75                            4   \n1            A61                      A73                            2   \n2            A61                      A74                            2   \n3            A61                      A74                            2   \n4            A61                      A73                            3   \n\n  personal_status_and_sex other_debtors  present_residence_since property  \\\n0                     A93          A101                        4     A121   \n1                     A92          A101                        2     A121   \n2                     A93          A101                        3     A121   \n3                     A93          A103                        4     A122   \n4                     A93          A101                        4     A124   \n\n   age other installment plans housing  number_of_bank_credits   job  \\\n0   67                    A143    A152                       2  A173   \n1   22                    A143    A152                       1  A173   \n2   49                    A143    A152                       1  A172   \n3   45                    A143    A153                       1  A173   \n4   53                    A143    A153                       2  A173   \n\n   number_of_people_to_provide_maintenance_for telephone foreign worker  \n0                                            1      A192           A201  \n1                                            1      A191           A201  \n2                                            2      A191           A201  \n3                                            2      A191           A201  \n4                                            2      A191           A201  ",
      "text/html": "<div>\n<style scoped>\n    .dataframe tbody tr th:only-of-type {\n        vertical-align: middle;\n    }\n\n    .dataframe tbody tr th {\n        vertical-align: top;\n    }\n\n    .dataframe thead th {\n        text-align: right;\n    }\n</style>\n<table border=\"1\" class=\"dataframe\">\n  <thead>\n    <tr style=\"text-align: right;\">\n      <th></th>\n      <th>checking_account_status</th>\n      <th>duration</th>\n      <th>credit_history</th>\n      <th>purpose</th>\n      <th>credit_amount</th>\n      <th>saving_account</th>\n      <th>present_employment_since</th>\n      <th>installment_rate_percentage</th>\n      <th>personal_status_and_sex</th>\n      <th>other_debtors</th>\n      <th>present_residence_since</th>\n      <th>property</th>\n      <th>age</th>\n      <th>other installment plans</th>\n      <th>housing</th>\n      <th>number_of_bank_credits</th>\n      <th>job</th>\n      <th>number_of_people_to_provide_maintenance_for</th>\n      <th>telephone</th>\n      <th>foreign worker</th>\n    </tr>\n  </thead>\n  <tbody>\n    <tr>\n      <th>0</th>\n      <td>A11</td>\n      <td>6</td>\n      <td>A34</td>\n      <td>A43</td>\n      <td>1169</td>\n      <td>A65</td>\n      <td>A75</td>\n      <td>4</td>\n      <td>A93</td>\n      <td>A101</td>\n      <td>4</td>\n      <td>A121</td>\n      <td>67</td>\n      <td>A143</td>\n      <td>A152</td>\n      <td>2</td>\n      <td>A173</td>\n      <td>1</td>\n      <td>A192</td>\n      <td>A201</td>\n    </tr>\n    <tr>\n      <th>1</th>\n      <td>A12</td>\n      <td>48</td>\n      <td>A32</td>\n      <td>A43</td>\n      <td>5951</td>\n      <td>A61</td>\n      <td>A73</td>\n      <td>2</td>\n      <td>A92</td>\n      <td>A101</td>\n      <td>2</td>\n      <td>A121</td>\n      <td>22</td>\n      <td>A143</td>\n      <td>A152</td>\n      <td>1</td>\n      <td>A173</td>\n      <td>1</td>\n      <td>A191</td>\n      <td>A201</td>\n    </tr>\n    <tr>\n      <th>2</th>\n      <td>A14</td>\n      <td>12</td>\n      <td>A34</td>\n      <td>A46</td>\n      <td>2096</td>\n      <td>A61</td>\n      <td>A74</td>\n      <td>2</td>\n      <td>A93</td>\n      <td>A101</td>\n      <td>3</td>\n      <td>A121</td>\n      <td>49</td>\n      <td>A143</td>\n      <td>A152</td>\n      <td>1</td>\n      <td>A172</td>\n      <td>2</td>\n      <td>A191</td>\n      <td>A201</td>\n    </tr>\n    <tr>\n      <th>3</th>\n      <td>A11</td>\n      <td>42</td>\n      <td>A32</td>\n      <td>A42</td>\n      <td>7882</td>\n      <td>A61</td>\n      <td>A74</td>\n      <td>2</td>\n      <td>A93</td>\n      <td>A103</td>\n      <td>4</td>\n      <td>A122</td>\n      <td>45</td>\n      <td>A143</td>\n      <td>A153</td>\n      <td>1</td>\n      <td>A173</td>\n      <td>2</td>\n      <td>A191</td>\n      <td>A201</td>\n    </tr>\n    <tr>\n      <th>4</th>\n      <td>A11</td>\n      <td>24</td>\n      <td>A33</td>\n      <td>A40</td>\n      <td>4870</td>\n      <td>A61</td>\n      <td>A73</td>\n      <td>3</td>\n      <td>A93</td>\n      <td>A101</td>\n      <td>4</td>\n      <td>A124</td>\n      <td>53</td>\n      <td>A143</td>\n      <td>A153</td>\n      <td>2</td>\n      <td>A173</td>\n      <td>2</td>\n      <td>A191</td>\n      <td>A201</td>\n    </tr>\n  </tbody>\n</table>\n</div>"
     },
     "execution_count": 5,
     "metadata": {},
     "output_type": "execute_result"
    }
   ],
   "source": [
    "X.head()"
   ]
  },
  {
   "cell_type": "code",
   "outputs": [
    {
     "data": {
      "text/plain": "   c\n0  1\n1  2\n2  1\n3  1\n4  2",
      "text/html": "<div>\n<style scoped>\n    .dataframe tbody tr th:only-of-type {\n        vertical-align: middle;\n    }\n\n    .dataframe tbody tr th {\n        vertical-align: top;\n    }\n\n    .dataframe thead th {\n        text-align: right;\n    }\n</style>\n<table border=\"1\" class=\"dataframe\">\n  <thead>\n    <tr style=\"text-align: right;\">\n      <th></th>\n      <th>c</th>\n    </tr>\n  </thead>\n  <tbody>\n    <tr>\n      <th>0</th>\n      <td>1</td>\n    </tr>\n    <tr>\n      <th>1</th>\n      <td>2</td>\n    </tr>\n    <tr>\n      <th>2</th>\n      <td>1</td>\n    </tr>\n    <tr>\n      <th>3</th>\n      <td>1</td>\n    </tr>\n    <tr>\n      <th>4</th>\n      <td>2</td>\n    </tr>\n  </tbody>\n</table>\n</div>"
     },
     "execution_count": 6,
     "metadata": {},
     "output_type": "execute_result"
    }
   ],
   "source": [
    "y.head()"
   ],
   "metadata": {
    "collapsed": false,
    "ExecuteTime": {
     "end_time": "2024-01-15T01:31:48.959858500Z",
     "start_time": "2024-01-15T01:31:48.949727300Z"
    }
   },
   "execution_count": 6
  },
  {
   "cell_type": "markdown",
   "source": [
    "### Initial Transforms for Better Understanding"
   ],
   "metadata": {
    "collapsed": false
   }
  },
  {
   "cell_type": "code",
   "outputs": [],
   "source": [],
   "metadata": {
    "collapsed": false
   }
  },
  {
   "cell_type": "markdown",
   "source": [
    "### Analysis"
   ],
   "metadata": {
    "collapsed": false
   }
  },
  {
   "cell_type": "markdown",
   "source": [
    "#### Questions"
   ],
   "metadata": {
    "collapsed": false
   }
  },
  {
   "cell_type": "code",
   "outputs": [],
   "source": [],
   "metadata": {
    "collapsed": false
   }
  },
  {
   "cell_type": "markdown",
   "source": [
    "#### Answers"
   ],
   "metadata": {
    "collapsed": false
   }
  },
  {
   "cell_type": "code",
   "outputs": [],
   "source": [],
   "metadata": {
    "collapsed": false
   }
  }
 ],
 "metadata": {
  "kernelspec": {
   "display_name": "data-science",
   "language": "python",
   "name": "python3"
  },
  "language_info": {
   "codemirror_mode": {
    "name": "ipython",
    "version": 3
   },
   "file_extension": ".py",
   "mimetype": "text/x-python",
   "name": "python",
   "nbconvert_exporter": "python",
   "pygments_lexer": "ipython3",
   "version": "3.11.4"
  }
 },
 "nbformat": 4,
 "nbformat_minor": 2
}
