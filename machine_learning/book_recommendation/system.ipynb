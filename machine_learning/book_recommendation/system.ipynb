{
 "cells": [
  {
   "cell_type": "markdown",
   "source": [
    "# Book Recommendation System"
   ],
   "metadata": {
    "collapsed": false
   },
   "id": "1beaade57f472779"
  },
  {
   "cell_type": "markdown",
   "source": [
    "## Idea\n",
    "We will make a book recommendation system based in the user's last read books. Our final objective is to recommend 10 books for each person. For this, we first make PCA (Principal Component Analysks) and then clusterize the books using K-Means. The clusters are created considering some characteristics:\n",
    "\n",
    "- Year of Publication\n",
    "- Mean Age of Readers by Book\n",
    "- Mean Age of Readers by Author\n",
    "- Mean Age of Readers by Publisher\n",
    "- Mean Rating by Book\n",
    "- Mean Rating by Author\n",
    "- Mean Rating by Publisher\n",
    "- Top Location by Book (Count Encoded) - where the book has been more read.\n",
    "- Book Contribution to Top Location - what is the fraction of readings the book contributed to in its top place.\n",
    "- Book Author (Count Encoded)\n",
    "- Publisher (Count Encoded)\n",
    "- Book Appearances (Count encoding of ISBN)\n",
    "\n",
    "After that, we recommend books from the clusters which have a book that the person has already read. In this context, using bootstrap, we randomly select the next book that was read so we can select another book from the same cluster as it. This selection is done with K-Nearest Neighbors: we calculate the nearest neighbors from the same cluster and then select one of them to compose the recommendations - the additional condition is that the book must not have been recommended yet. The number of nearest neighbors will be determined by the length of the already read books, to guarantee that we will have sufficient neighbors to look for a new book to recommend."
   ],
   "metadata": {
    "collapsed": false
   },
   "id": "b2ad1e674c6c12b9"
  },
  {
   "cell_type": "markdown",
   "source": [
    "## Importing Libraries"
   ],
   "metadata": {
    "collapsed": false
   },
   "id": "cf497a5c37035f06"
  },
  {
   "cell_type": "code",
   "outputs": [],
   "source": [
    "import pandas as pd\n",
    "import numpy as np\n",
    "import matplotlib.pyplot as plt\n",
    "import seaborn as sns\n",
    "from category_encoders import CountEncoder\n",
    "from sklearn.preprocessing import StandardScaler\n",
    "from sklearn.decomposition import PCA\n",
    "from sklearn.cluster import KMeans\n",
    "from sklearn.neighbors import NearestNeighbors\n",
    "from tqdm import tqdm\n",
    "import random"
   ],
   "metadata": {
    "collapsed": false,
    "ExecuteTime": {
     "end_time": "2024-02-04T15:57:06.227802400Z",
     "start_time": "2024-02-04T15:57:05.610235700Z"
    }
   },
   "id": "b89dca4f5e90b10a",
   "execution_count": 1
  },
  {
   "cell_type": "markdown",
   "source": [
    "## Importing Data"
   ],
   "metadata": {
    "collapsed": false
   },
   "id": "3405ab0315d2f3ab"
  },
  {
   "cell_type": "code",
   "outputs": [],
   "source": [
    "books = pd.read_csv(\"data/books.csv\", sep=\";\", encoding=\"latin-1\", low_memory=False, on_bad_lines='skip').drop([\"Image-URL-S\", \"Image-URL-M\", \"Image-URL-L\"], axis=1)\n",
    "ratings = pd.read_csv(\"data/ratings.csv\", sep=\";\", encoding=\"latin-1\", low_memory=False, on_bad_lines='skip')\n",
    "users = pd.read_csv(\"data/users.csv\", sep=\";\", encoding=\"latin-1\", low_memory=False, on_bad_lines='skip')"
   ],
   "metadata": {
    "collapsed": false,
    "ExecuteTime": {
     "end_time": "2024-02-04T15:57:08.811124Z",
     "start_time": "2024-02-04T15:57:06.203854700Z"
    }
   },
   "id": "751d395dd09aa239",
   "execution_count": 2
  },
  {
   "cell_type": "markdown",
   "source": [
    "## Cleaning Data"
   ],
   "metadata": {
    "collapsed": false
   },
   "id": "92f7ff797085259a"
  },
  {
   "cell_type": "code",
   "outputs": [
    {
     "name": "stdout",
     "output_type": "stream",
     "text": [
      "<class 'pandas.core.frame.DataFrame'>\n",
      "RangeIndex: 271360 entries, 0 to 271359\n",
      "Data columns (total 5 columns):\n",
      " #   Column               Non-Null Count   Dtype \n",
      "---  ------               --------------   ----- \n",
      " 0   ISBN                 271360 non-null  object\n",
      " 1   Book-Title           271360 non-null  object\n",
      " 2   Book-Author          271358 non-null  object\n",
      " 3   Year-Of-Publication  271360 non-null  object\n",
      " 4   Publisher            271358 non-null  object\n",
      "dtypes: object(5)\n",
      "memory usage: 10.4+ MB\n"
     ]
    }
   ],
   "source": [
    "books.info()"
   ],
   "metadata": {
    "collapsed": false,
    "ExecuteTime": {
     "end_time": "2024-02-04T15:57:08.868016300Z",
     "start_time": "2024-02-04T15:57:08.812756500Z"
    }
   },
   "id": "ad03cc498c853002",
   "execution_count": 3
  },
  {
   "cell_type": "code",
   "outputs": [
    {
     "data": {
      "text/plain": "              ISBN                                         Book-Title  \\\n118033  0751352497                           A+ Quiz Masters:01 Earth   \n187689  9627982032  The Credit Suisse Guide to Managing Your Perso...   \n\n       Book-Author Year-Of-Publication                       Publisher  \n118033         NaN                1999              Dorling Kindersley  \n187689         NaN                1995  Edinburgh Financial Publishing  ",
      "text/html": "<div>\n<style scoped>\n    .dataframe tbody tr th:only-of-type {\n        vertical-align: middle;\n    }\n\n    .dataframe tbody tr th {\n        vertical-align: top;\n    }\n\n    .dataframe thead th {\n        text-align: right;\n    }\n</style>\n<table border=\"1\" class=\"dataframe\">\n  <thead>\n    <tr style=\"text-align: right;\">\n      <th></th>\n      <th>ISBN</th>\n      <th>Book-Title</th>\n      <th>Book-Author</th>\n      <th>Year-Of-Publication</th>\n      <th>Publisher</th>\n    </tr>\n  </thead>\n  <tbody>\n    <tr>\n      <th>118033</th>\n      <td>0751352497</td>\n      <td>A+ Quiz Masters:01 Earth</td>\n      <td>NaN</td>\n      <td>1999</td>\n      <td>Dorling Kindersley</td>\n    </tr>\n    <tr>\n      <th>187689</th>\n      <td>9627982032</td>\n      <td>The Credit Suisse Guide to Managing Your Perso...</td>\n      <td>NaN</td>\n      <td>1995</td>\n      <td>Edinburgh Financial Publishing</td>\n    </tr>\n  </tbody>\n</table>\n</div>"
     },
     "execution_count": 4,
     "metadata": {},
     "output_type": "execute_result"
    }
   ],
   "source": [
    "books[books[\"Book-Author\"].isna()]"
   ],
   "metadata": {
    "collapsed": false,
    "ExecuteTime": {
     "end_time": "2024-02-04T15:57:08.913622700Z",
     "start_time": "2024-02-04T15:57:08.860980100Z"
    }
   },
   "id": "95303afb5d91dd14",
   "execution_count": 4
  },
  {
   "cell_type": "code",
   "outputs": [
    {
     "data": {
      "text/plain": "              ISBN       Book-Title      Book-Author Year-Of-Publication  \\\n128890  193169656X      Tyrant Moon  Elaine Corvidae                2002   \n129037  1931696993  Finders Keepers  Linnea Sinclair                2001   \n\n       Publisher  \n128890       NaN  \n129037       NaN  ",
      "text/html": "<div>\n<style scoped>\n    .dataframe tbody tr th:only-of-type {\n        vertical-align: middle;\n    }\n\n    .dataframe tbody tr th {\n        vertical-align: top;\n    }\n\n    .dataframe thead th {\n        text-align: right;\n    }\n</style>\n<table border=\"1\" class=\"dataframe\">\n  <thead>\n    <tr style=\"text-align: right;\">\n      <th></th>\n      <th>ISBN</th>\n      <th>Book-Title</th>\n      <th>Book-Author</th>\n      <th>Year-Of-Publication</th>\n      <th>Publisher</th>\n    </tr>\n  </thead>\n  <tbody>\n    <tr>\n      <th>128890</th>\n      <td>193169656X</td>\n      <td>Tyrant Moon</td>\n      <td>Elaine Corvidae</td>\n      <td>2002</td>\n      <td>NaN</td>\n    </tr>\n    <tr>\n      <th>129037</th>\n      <td>1931696993</td>\n      <td>Finders Keepers</td>\n      <td>Linnea Sinclair</td>\n      <td>2001</td>\n      <td>NaN</td>\n    </tr>\n  </tbody>\n</table>\n</div>"
     },
     "execution_count": 5,
     "metadata": {},
     "output_type": "execute_result"
    }
   ],
   "source": [
    "books[books[\"Publisher\"].isna()]"
   ],
   "metadata": {
    "collapsed": false,
    "ExecuteTime": {
     "end_time": "2024-02-04T15:57:08.933640600Z",
     "start_time": "2024-02-04T15:57:08.901128200Z"
    }
   },
   "id": "f7874ac8dd81a494",
   "execution_count": 5
  },
  {
   "cell_type": "code",
   "outputs": [],
   "source": [
    "books = books.dropna()"
   ],
   "metadata": {
    "collapsed": false,
    "ExecuteTime": {
     "end_time": "2024-02-04T15:57:09.094520400Z",
     "start_time": "2024-02-04T15:57:08.946986400Z"
    }
   },
   "id": "dd1ada86491f0815",
   "execution_count": 6
  },
  {
   "cell_type": "markdown",
   "source": [
    "---"
   ],
   "metadata": {
    "collapsed": false
   },
   "id": "86bd5282051ea836"
  },
  {
   "cell_type": "code",
   "outputs": [
    {
     "name": "stdout",
     "output_type": "stream",
     "text": [
      "<class 'pandas.core.frame.DataFrame'>\n",
      "RangeIndex: 1149780 entries, 0 to 1149779\n",
      "Data columns (total 3 columns):\n",
      " #   Column       Non-Null Count    Dtype \n",
      "---  ------       --------------    ----- \n",
      " 0   User-ID      1149780 non-null  int64 \n",
      " 1   ISBN         1149780 non-null  object\n",
      " 2   Book-Rating  1149780 non-null  int64 \n",
      "dtypes: int64(2), object(1)\n",
      "memory usage: 26.3+ MB\n"
     ]
    }
   ],
   "source": [
    "ratings.info()"
   ],
   "metadata": {
    "collapsed": false,
    "ExecuteTime": {
     "end_time": "2024-02-04T15:57:09.154855800Z",
     "start_time": "2024-02-04T15:57:08.977241200Z"
    }
   },
   "id": "fdddd40934b18765",
   "execution_count": 7
  },
  {
   "cell_type": "markdown",
   "source": [
    "---"
   ],
   "metadata": {
    "collapsed": false
   },
   "id": "2915869f669c74f8"
  },
  {
   "cell_type": "code",
   "outputs": [
    {
     "name": "stdout",
     "output_type": "stream",
     "text": [
      "<class 'pandas.core.frame.DataFrame'>\n",
      "RangeIndex: 278858 entries, 0 to 278857\n",
      "Data columns (total 3 columns):\n",
      " #   Column    Non-Null Count   Dtype  \n",
      "---  ------    --------------   -----  \n",
      " 0   User-ID   278858 non-null  int64  \n",
      " 1   Location  278858 non-null  object \n",
      " 2   Age       168096 non-null  float64\n",
      "dtypes: float64(1), int64(1), object(1)\n",
      "memory usage: 6.4+ MB\n"
     ]
    }
   ],
   "source": [
    "users.info()"
   ],
   "metadata": {
    "collapsed": false,
    "ExecuteTime": {
     "end_time": "2024-02-04T15:57:09.209984600Z",
     "start_time": "2024-02-04T15:57:09.063688Z"
    }
   },
   "id": "e065f17d67730d01",
   "execution_count": 8
  },
  {
   "cell_type": "code",
   "outputs": [
    {
     "data": {
      "text/plain": "            User-ID            Age\ncount  278858.00000  168096.000000\nmean   139429.50000      34.751434\nstd     80499.51502      14.428097\nmin         1.00000       0.000000\n25%     69715.25000      24.000000\n50%    139429.50000      32.000000\n75%    209143.75000      44.000000\nmax    278858.00000     244.000000",
      "text/html": "<div>\n<style scoped>\n    .dataframe tbody tr th:only-of-type {\n        vertical-align: middle;\n    }\n\n    .dataframe tbody tr th {\n        vertical-align: top;\n    }\n\n    .dataframe thead th {\n        text-align: right;\n    }\n</style>\n<table border=\"1\" class=\"dataframe\">\n  <thead>\n    <tr style=\"text-align: right;\">\n      <th></th>\n      <th>User-ID</th>\n      <th>Age</th>\n    </tr>\n  </thead>\n  <tbody>\n    <tr>\n      <th>count</th>\n      <td>278858.00000</td>\n      <td>168096.000000</td>\n    </tr>\n    <tr>\n      <th>mean</th>\n      <td>139429.50000</td>\n      <td>34.751434</td>\n    </tr>\n    <tr>\n      <th>std</th>\n      <td>80499.51502</td>\n      <td>14.428097</td>\n    </tr>\n    <tr>\n      <th>min</th>\n      <td>1.00000</td>\n      <td>0.000000</td>\n    </tr>\n    <tr>\n      <th>25%</th>\n      <td>69715.25000</td>\n      <td>24.000000</td>\n    </tr>\n    <tr>\n      <th>50%</th>\n      <td>139429.50000</td>\n      <td>32.000000</td>\n    </tr>\n    <tr>\n      <th>75%</th>\n      <td>209143.75000</td>\n      <td>44.000000</td>\n    </tr>\n    <tr>\n      <th>max</th>\n      <td>278858.00000</td>\n      <td>244.000000</td>\n    </tr>\n  </tbody>\n</table>\n</div>"
     },
     "execution_count": 9,
     "metadata": {},
     "output_type": "execute_result"
    }
   ],
   "source": [
    "users.describe()"
   ],
   "metadata": {
    "collapsed": false,
    "ExecuteTime": {
     "end_time": "2024-02-04T15:57:09.229439900Z",
     "start_time": "2024-02-04T15:57:09.094520400Z"
    }
   },
   "id": "1ef3128bc3b7b5a2",
   "execution_count": 9
  },
  {
   "cell_type": "code",
   "outputs": [],
   "source": [
    "users[\"Age\"] = users[\"Age\"].fillna(users[\"Age\"].median())"
   ],
   "metadata": {
    "collapsed": false,
    "ExecuteTime": {
     "end_time": "2024-02-04T15:57:09.241318Z",
     "start_time": "2024-02-04T15:57:09.141057400Z"
    }
   },
   "id": "da192591e1d917ff",
   "execution_count": 10
  },
  {
   "cell_type": "markdown",
   "source": [
    "---"
   ],
   "metadata": {
    "collapsed": false
   },
   "id": "d03ff4a1ba848b62"
  },
  {
   "cell_type": "code",
   "outputs": [
    {
     "data": {
      "text/plain": "              ISBN                                         Book-Title  \\\n0       0195153448                                Classical Mythology   \n1       0002005018                                       Clara Callan   \n2       0060973129                               Decision in Normandy   \n3       0374157065  Flu: The Story of the Great Influenza Pandemic...   \n4       0393045218                             The Mummies of Urumchi   \n...            ...                                                ...   \n271355  0440400988                         There's a Bat in Bunk Five   \n271356  0525447644                            From One to One Hundred   \n271357  006008667X  Lily Dale : The True Story of the Town that Ta...   \n271358  0192126040                        Republic (World's Classics)   \n271359  0767409752  A Guided Tour of Rene Descartes' Meditations o...   \n\n                 Book-Author Year-Of-Publication  \\\n0         Mark P. O. Morford                2002   \n1       Richard Bruce Wright                2001   \n2               Carlo D'Este                1991   \n3           Gina Bari Kolata                1999   \n4            E. J. W. Barber                1999   \n...                      ...                 ...   \n271355        Paula Danziger                1988   \n271356            Teri Sloat                1991   \n271357      Christine Wicker                2004   \n271358                 Plato                1996   \n271359   Christopher  Biffle                2000   \n\n                                               Publisher  \n0                                Oxford University Press  \n1                                  HarperFlamingo Canada  \n2                                        HarperPerennial  \n3                                   Farrar Straus Giroux  \n4                             W. W. Norton &amp; Company  \n...                                                  ...  \n271355                   Random House Childrens Pub (Mm)  \n271356                                      Dutton Books  \n271357                                HarperSanFrancisco  \n271358                           Oxford University Press  \n271359  McGraw-Hill Humanities/Social Sciences/Languages  \n\n[271356 rows x 5 columns]",
      "text/html": "<div>\n<style scoped>\n    .dataframe tbody tr th:only-of-type {\n        vertical-align: middle;\n    }\n\n    .dataframe tbody tr th {\n        vertical-align: top;\n    }\n\n    .dataframe thead th {\n        text-align: right;\n    }\n</style>\n<table border=\"1\" class=\"dataframe\">\n  <thead>\n    <tr style=\"text-align: right;\">\n      <th></th>\n      <th>ISBN</th>\n      <th>Book-Title</th>\n      <th>Book-Author</th>\n      <th>Year-Of-Publication</th>\n      <th>Publisher</th>\n    </tr>\n  </thead>\n  <tbody>\n    <tr>\n      <th>0</th>\n      <td>0195153448</td>\n      <td>Classical Mythology</td>\n      <td>Mark P. O. Morford</td>\n      <td>2002</td>\n      <td>Oxford University Press</td>\n    </tr>\n    <tr>\n      <th>1</th>\n      <td>0002005018</td>\n      <td>Clara Callan</td>\n      <td>Richard Bruce Wright</td>\n      <td>2001</td>\n      <td>HarperFlamingo Canada</td>\n    </tr>\n    <tr>\n      <th>2</th>\n      <td>0060973129</td>\n      <td>Decision in Normandy</td>\n      <td>Carlo D'Este</td>\n      <td>1991</td>\n      <td>HarperPerennial</td>\n    </tr>\n    <tr>\n      <th>3</th>\n      <td>0374157065</td>\n      <td>Flu: The Story of the Great Influenza Pandemic...</td>\n      <td>Gina Bari Kolata</td>\n      <td>1999</td>\n      <td>Farrar Straus Giroux</td>\n    </tr>\n    <tr>\n      <th>4</th>\n      <td>0393045218</td>\n      <td>The Mummies of Urumchi</td>\n      <td>E. J. W. Barber</td>\n      <td>1999</td>\n      <td>W. W. Norton &amp;amp; Company</td>\n    </tr>\n    <tr>\n      <th>...</th>\n      <td>...</td>\n      <td>...</td>\n      <td>...</td>\n      <td>...</td>\n      <td>...</td>\n    </tr>\n    <tr>\n      <th>271355</th>\n      <td>0440400988</td>\n      <td>There's a Bat in Bunk Five</td>\n      <td>Paula Danziger</td>\n      <td>1988</td>\n      <td>Random House Childrens Pub (Mm)</td>\n    </tr>\n    <tr>\n      <th>271356</th>\n      <td>0525447644</td>\n      <td>From One to One Hundred</td>\n      <td>Teri Sloat</td>\n      <td>1991</td>\n      <td>Dutton Books</td>\n    </tr>\n    <tr>\n      <th>271357</th>\n      <td>006008667X</td>\n      <td>Lily Dale : The True Story of the Town that Ta...</td>\n      <td>Christine Wicker</td>\n      <td>2004</td>\n      <td>HarperSanFrancisco</td>\n    </tr>\n    <tr>\n      <th>271358</th>\n      <td>0192126040</td>\n      <td>Republic (World's Classics)</td>\n      <td>Plato</td>\n      <td>1996</td>\n      <td>Oxford University Press</td>\n    </tr>\n    <tr>\n      <th>271359</th>\n      <td>0767409752</td>\n      <td>A Guided Tour of Rene Descartes' Meditations o...</td>\n      <td>Christopher  Biffle</td>\n      <td>2000</td>\n      <td>McGraw-Hill Humanities/Social Sciences/Languages</td>\n    </tr>\n  </tbody>\n</table>\n<p>271356 rows × 5 columns</p>\n</div>"
     },
     "execution_count": 11,
     "metadata": {},
     "output_type": "execute_result"
    }
   ],
   "source": [
    "books"
   ],
   "metadata": {
    "collapsed": false,
    "ExecuteTime": {
     "end_time": "2024-02-04T15:57:09.350787700Z",
     "start_time": "2024-02-04T15:57:09.158656300Z"
    }
   },
   "id": "c9a71a0b9bf45dd9",
   "execution_count": 11
  },
  {
   "cell_type": "code",
   "outputs": [
    {
     "data": {
      "text/plain": "   User-ID        ISBN  Book-Rating\n0   276725  034545104X            0\n1   276726  0155061224            5\n2   276727  0446520802            0\n3   276729  052165615X            3\n4   276729  0521795028            6",
      "text/html": "<div>\n<style scoped>\n    .dataframe tbody tr th:only-of-type {\n        vertical-align: middle;\n    }\n\n    .dataframe tbody tr th {\n        vertical-align: top;\n    }\n\n    .dataframe thead th {\n        text-align: right;\n    }\n</style>\n<table border=\"1\" class=\"dataframe\">\n  <thead>\n    <tr style=\"text-align: right;\">\n      <th></th>\n      <th>User-ID</th>\n      <th>ISBN</th>\n      <th>Book-Rating</th>\n    </tr>\n  </thead>\n  <tbody>\n    <tr>\n      <th>0</th>\n      <td>276725</td>\n      <td>034545104X</td>\n      <td>0</td>\n    </tr>\n    <tr>\n      <th>1</th>\n      <td>276726</td>\n      <td>0155061224</td>\n      <td>5</td>\n    </tr>\n    <tr>\n      <th>2</th>\n      <td>276727</td>\n      <td>0446520802</td>\n      <td>0</td>\n    </tr>\n    <tr>\n      <th>3</th>\n      <td>276729</td>\n      <td>052165615X</td>\n      <td>3</td>\n    </tr>\n    <tr>\n      <th>4</th>\n      <td>276729</td>\n      <td>0521795028</td>\n      <td>6</td>\n    </tr>\n  </tbody>\n</table>\n</div>"
     },
     "execution_count": 12,
     "metadata": {},
     "output_type": "execute_result"
    }
   ],
   "source": [
    "ratings.head()"
   ],
   "metadata": {
    "collapsed": false,
    "ExecuteTime": {
     "end_time": "2024-02-04T15:57:09.354864Z",
     "start_time": "2024-02-04T15:57:09.171565300Z"
    }
   },
   "id": "d1587210fa59b36a",
   "execution_count": 12
  },
  {
   "cell_type": "code",
   "outputs": [
    {
     "data": {
      "text/plain": "   User-ID                            Location   Age\n0        1                  nyc, new york, usa  32.0\n1        2           stockton, california, usa  18.0\n2        3     moscow, yukon territory, russia  32.0\n3        4           porto, v.n.gaia, portugal  17.0\n4        5  farnborough, hants, united kingdom  32.0",
      "text/html": "<div>\n<style scoped>\n    .dataframe tbody tr th:only-of-type {\n        vertical-align: middle;\n    }\n\n    .dataframe tbody tr th {\n        vertical-align: top;\n    }\n\n    .dataframe thead th {\n        text-align: right;\n    }\n</style>\n<table border=\"1\" class=\"dataframe\">\n  <thead>\n    <tr style=\"text-align: right;\">\n      <th></th>\n      <th>User-ID</th>\n      <th>Location</th>\n      <th>Age</th>\n    </tr>\n  </thead>\n  <tbody>\n    <tr>\n      <th>0</th>\n      <td>1</td>\n      <td>nyc, new york, usa</td>\n      <td>32.0</td>\n    </tr>\n    <tr>\n      <th>1</th>\n      <td>2</td>\n      <td>stockton, california, usa</td>\n      <td>18.0</td>\n    </tr>\n    <tr>\n      <th>2</th>\n      <td>3</td>\n      <td>moscow, yukon territory, russia</td>\n      <td>32.0</td>\n    </tr>\n    <tr>\n      <th>3</th>\n      <td>4</td>\n      <td>porto, v.n.gaia, portugal</td>\n      <td>17.0</td>\n    </tr>\n    <tr>\n      <th>4</th>\n      <td>5</td>\n      <td>farnborough, hants, united kingdom</td>\n      <td>32.0</td>\n    </tr>\n  </tbody>\n</table>\n</div>"
     },
     "execution_count": 13,
     "metadata": {},
     "output_type": "execute_result"
    }
   ],
   "source": [
    "users.head()"
   ],
   "metadata": {
    "collapsed": false,
    "ExecuteTime": {
     "end_time": "2024-02-04T15:57:09.382179700Z",
     "start_time": "2024-02-04T15:57:09.183642100Z"
    }
   },
   "id": "2c2844910020542b",
   "execution_count": 13
  },
  {
   "cell_type": "markdown",
   "source": [
    "## Merging Dataframes"
   ],
   "metadata": {
    "collapsed": false
   },
   "id": "fdbf496dea6aa31"
  },
  {
   "cell_type": "code",
   "outputs": [],
   "source": [
    "users_ratings = pd.merge(users, ratings, on=\"User-ID\", how=\"inner\")\n",
    "books_users_ratings = pd.merge(books, users_ratings, on=\"ISBN\", how=\"inner\")\n",
    "df_main = books_users_ratings.copy()\n",
    "df_users = books_users_ratings.copy()"
   ],
   "metadata": {
    "collapsed": false,
    "ExecuteTime": {
     "end_time": "2024-02-04T15:57:11.127423200Z",
     "start_time": "2024-02-04T15:57:09.194875100Z"
    }
   },
   "id": "ddb529ff87010356",
   "execution_count": 14
  },
  {
   "cell_type": "code",
   "outputs": [
    {
     "data": {
      "text/plain": "         ISBN           Book-Title           Book-Author Year-Of-Publication  \\\n0  0195153448  Classical Mythology    Mark P. O. Morford                2002   \n1  0002005018         Clara Callan  Richard Bruce Wright                2001   \n2  0002005018         Clara Callan  Richard Bruce Wright                2001   \n3  0002005018         Clara Callan  Richard Bruce Wright                2001   \n4  0002005018         Clara Callan  Richard Bruce Wright                2001   \n\n                 Publisher  User-ID                   Location   Age  \\\n0  Oxford University Press        2  stockton, california, usa  18.0   \n1    HarperFlamingo Canada        8   timmins, ontario, canada  32.0   \n2    HarperFlamingo Canada    11400    ottawa, ontario, canada  49.0   \n3    HarperFlamingo Canada    11676              n/a, n/a, n/a  32.0   \n4    HarperFlamingo Canada    41385   sudbury, ontario, canada  32.0   \n\n   Book-Rating  \n0            0  \n1            5  \n2            0  \n3            8  \n4            0  ",
      "text/html": "<div>\n<style scoped>\n    .dataframe tbody tr th:only-of-type {\n        vertical-align: middle;\n    }\n\n    .dataframe tbody tr th {\n        vertical-align: top;\n    }\n\n    .dataframe thead th {\n        text-align: right;\n    }\n</style>\n<table border=\"1\" class=\"dataframe\">\n  <thead>\n    <tr style=\"text-align: right;\">\n      <th></th>\n      <th>ISBN</th>\n      <th>Book-Title</th>\n      <th>Book-Author</th>\n      <th>Year-Of-Publication</th>\n      <th>Publisher</th>\n      <th>User-ID</th>\n      <th>Location</th>\n      <th>Age</th>\n      <th>Book-Rating</th>\n    </tr>\n  </thead>\n  <tbody>\n    <tr>\n      <th>0</th>\n      <td>0195153448</td>\n      <td>Classical Mythology</td>\n      <td>Mark P. O. Morford</td>\n      <td>2002</td>\n      <td>Oxford University Press</td>\n      <td>2</td>\n      <td>stockton, california, usa</td>\n      <td>18.0</td>\n      <td>0</td>\n    </tr>\n    <tr>\n      <th>1</th>\n      <td>0002005018</td>\n      <td>Clara Callan</td>\n      <td>Richard Bruce Wright</td>\n      <td>2001</td>\n      <td>HarperFlamingo Canada</td>\n      <td>8</td>\n      <td>timmins, ontario, canada</td>\n      <td>32.0</td>\n      <td>5</td>\n    </tr>\n    <tr>\n      <th>2</th>\n      <td>0002005018</td>\n      <td>Clara Callan</td>\n      <td>Richard Bruce Wright</td>\n      <td>2001</td>\n      <td>HarperFlamingo Canada</td>\n      <td>11400</td>\n      <td>ottawa, ontario, canada</td>\n      <td>49.0</td>\n      <td>0</td>\n    </tr>\n    <tr>\n      <th>3</th>\n      <td>0002005018</td>\n      <td>Clara Callan</td>\n      <td>Richard Bruce Wright</td>\n      <td>2001</td>\n      <td>HarperFlamingo Canada</td>\n      <td>11676</td>\n      <td>n/a, n/a, n/a</td>\n      <td>32.0</td>\n      <td>8</td>\n    </tr>\n    <tr>\n      <th>4</th>\n      <td>0002005018</td>\n      <td>Clara Callan</td>\n      <td>Richard Bruce Wright</td>\n      <td>2001</td>\n      <td>HarperFlamingo Canada</td>\n      <td>41385</td>\n      <td>sudbury, ontario, canada</td>\n      <td>32.0</td>\n      <td>0</td>\n    </tr>\n  </tbody>\n</table>\n</div>"
     },
     "execution_count": 15,
     "metadata": {},
     "output_type": "execute_result"
    }
   ],
   "source": [
    "df_main.head()"
   ],
   "metadata": {
    "collapsed": false,
    "ExecuteTime": {
     "end_time": "2024-02-04T15:57:11.140351500Z",
     "start_time": "2024-02-04T15:57:11.128422100Z"
    }
   },
   "id": "58629d12d36905a2",
   "execution_count": 15
  },
  {
   "cell_type": "markdown",
   "source": [
    "---"
   ],
   "metadata": {
    "collapsed": false
   },
   "id": "e9390eeb8d83f370"
  },
  {
   "cell_type": "markdown",
   "source": [
    "## Data Preprocessing"
   ],
   "metadata": {
    "collapsed": false
   },
   "id": "ec13bfdb8cb9ca55"
  },
  {
   "cell_type": "code",
   "outputs": [
    {
     "name": "stdout",
     "output_type": "stream",
     "text": [
      "<class 'pandas.core.frame.DataFrame'>\n",
      "RangeIndex: 1031132 entries, 0 to 1031131\n",
      "Data columns (total 9 columns):\n",
      " #   Column               Non-Null Count    Dtype  \n",
      "---  ------               --------------    -----  \n",
      " 0   ISBN                 1031132 non-null  object \n",
      " 1   Book-Title           1031132 non-null  object \n",
      " 2   Book-Author          1031132 non-null  object \n",
      " 3   Year-Of-Publication  1031132 non-null  object \n",
      " 4   Publisher            1031132 non-null  object \n",
      " 5   User-ID              1031132 non-null  int64  \n",
      " 6   Location             1031132 non-null  object \n",
      " 7   Age                  1031132 non-null  float64\n",
      " 8   Book-Rating          1031132 non-null  int64  \n",
      "dtypes: float64(1), int64(2), object(6)\n",
      "memory usage: 70.8+ MB\n"
     ]
    }
   ],
   "source": [
    "df_main.info()"
   ],
   "metadata": {
    "collapsed": false,
    "ExecuteTime": {
     "end_time": "2024-02-04T15:57:11.366034400Z",
     "start_time": "2024-02-04T15:57:11.138355800Z"
    }
   },
   "id": "b3db7a6cf99ea8c3",
   "execution_count": 16
  },
  {
   "cell_type": "code",
   "outputs": [
    {
     "data": {
      "text/plain": "            User-ID           Age   Book-Rating\ncount  1.031132e+06  1.031132e+06  1.031132e+06\nmean   1.405947e+05  3.594326e+01  2.839027e+00\nstd    8.052475e+04  1.228578e+01  3.854145e+00\nmin    2.000000e+00  0.000000e+00  0.000000e+00\n25%    7.041500e+04  3.100000e+01  0.000000e+00\n50%    1.412100e+05  3.200000e+01  0.000000e+00\n75%    2.114260e+05  4.100000e+01  7.000000e+00\nmax    2.788540e+05  2.440000e+02  1.000000e+01",
      "text/html": "<div>\n<style scoped>\n    .dataframe tbody tr th:only-of-type {\n        vertical-align: middle;\n    }\n\n    .dataframe tbody tr th {\n        vertical-align: top;\n    }\n\n    .dataframe thead th {\n        text-align: right;\n    }\n</style>\n<table border=\"1\" class=\"dataframe\">\n  <thead>\n    <tr style=\"text-align: right;\">\n      <th></th>\n      <th>User-ID</th>\n      <th>Age</th>\n      <th>Book-Rating</th>\n    </tr>\n  </thead>\n  <tbody>\n    <tr>\n      <th>count</th>\n      <td>1.031132e+06</td>\n      <td>1.031132e+06</td>\n      <td>1.031132e+06</td>\n    </tr>\n    <tr>\n      <th>mean</th>\n      <td>1.405947e+05</td>\n      <td>3.594326e+01</td>\n      <td>2.839027e+00</td>\n    </tr>\n    <tr>\n      <th>std</th>\n      <td>8.052475e+04</td>\n      <td>1.228578e+01</td>\n      <td>3.854145e+00</td>\n    </tr>\n    <tr>\n      <th>min</th>\n      <td>2.000000e+00</td>\n      <td>0.000000e+00</td>\n      <td>0.000000e+00</td>\n    </tr>\n    <tr>\n      <th>25%</th>\n      <td>7.041500e+04</td>\n      <td>3.100000e+01</td>\n      <td>0.000000e+00</td>\n    </tr>\n    <tr>\n      <th>50%</th>\n      <td>1.412100e+05</td>\n      <td>3.200000e+01</td>\n      <td>0.000000e+00</td>\n    </tr>\n    <tr>\n      <th>75%</th>\n      <td>2.114260e+05</td>\n      <td>4.100000e+01</td>\n      <td>7.000000e+00</td>\n    </tr>\n    <tr>\n      <th>max</th>\n      <td>2.788540e+05</td>\n      <td>2.440000e+02</td>\n      <td>1.000000e+01</td>\n    </tr>\n  </tbody>\n</table>\n</div>"
     },
     "execution_count": 17,
     "metadata": {},
     "output_type": "execute_result"
    }
   ],
   "source": [
    "df_main.describe()"
   ],
   "metadata": {
    "collapsed": false,
    "ExecuteTime": {
     "end_time": "2024-02-04T15:57:11.499336900Z",
     "start_time": "2024-02-04T15:57:11.364898200Z"
    }
   },
   "id": "ce3dcb0a186b0cb4",
   "execution_count": 17
  },
  {
   "cell_type": "markdown",
   "source": [
    "### Dropping Strange Ages"
   ],
   "metadata": {
    "collapsed": false
   },
   "id": "a5352deeefe568c9"
  },
  {
   "cell_type": "markdown",
   "source": [
    "Some years are greater than 100 (some are even greater than 200, which is worse). So, we will limit the user age to be less than 100."
   ],
   "metadata": {
    "collapsed": false
   },
   "id": "181396ac158279c6"
  },
  {
   "cell_type": "code",
   "outputs": [],
   "source": [
    "df_main = df_main[(df_main[\"Age\"] >= 18) & (df_main[\"Age\"] < 100)]"
   ],
   "metadata": {
    "collapsed": false,
    "ExecuteTime": {
     "end_time": "2024-02-04T15:57:11.665909300Z",
     "start_time": "2024-02-04T15:57:11.500335700Z"
    }
   },
   "id": "21cf8e2e38a0ed50",
   "execution_count": 18
  },
  {
   "cell_type": "markdown",
   "source": [
    "### Dropping Strange Years Of Publication and Converting to Int"
   ],
   "metadata": {
    "collapsed": false
   },
   "id": "63ccdce283bf4834"
  },
  {
   "cell_type": "markdown",
   "source": [
    "Some years of publication are not numerical. Besides, some of them are greater than 2004, which is really strange, since the data was collected in 2004."
   ],
   "metadata": {
    "collapsed": false
   },
   "id": "bdd846c1caf82756"
  },
  {
   "cell_type": "code",
   "outputs": [],
   "source": [
    "df_main = df_main[df_main[\"Year-Of-Publication\"].str.isnumeric()]\n",
    "df_main[\"Year-Of-Publication\"] = df_main[\"Year-Of-Publication\"].apply(lambda x: int(x))\n",
    "df_main = df_main[df_main[\"Year-Of-Publication\"] <= 2004]"
   ],
   "metadata": {
    "collapsed": false,
    "ExecuteTime": {
     "end_time": "2024-02-04T15:57:12.956803300Z",
     "start_time": "2024-02-04T15:57:11.591002Z"
    }
   },
   "id": "ec49db62a3e434ce",
   "execution_count": 19
  },
  {
   "cell_type": "markdown",
   "source": [
    "### Mean Ages and Ratings"
   ],
   "metadata": {
    "collapsed": false
   },
   "id": "2836e9691cddf848"
  },
  {
   "cell_type": "markdown",
   "source": [
    "Now, we will start getting our features."
   ],
   "metadata": {
    "collapsed": false
   },
   "id": "69ebb4147faaf291"
  },
  {
   "cell_type": "code",
   "outputs": [],
   "source": [
    "mean_age_by_book = df_main.groupby(\"Book-Title\")[\"Age\"].mean().rename(\"Mean-Age-By-Book\")\n",
    "df_main = pd.merge(df_main, mean_age_by_book, on=\"Book-Title\", how=\"inner\")"
   ],
   "metadata": {
    "collapsed": false,
    "ExecuteTime": {
     "end_time": "2024-02-04T15:57:14.237851200Z",
     "start_time": "2024-02-04T15:57:12.959794600Z"
    }
   },
   "id": "a991f0e78e548c4b",
   "execution_count": 20
  },
  {
   "cell_type": "code",
   "outputs": [],
   "source": [
    "mean_age_by_author = df_main.groupby(\"Book-Author\")[\"Age\"].mean().rename(\"Mean-Age-By-Author\")\n",
    "df_main = pd.merge(df_main, mean_age_by_author, on=\"Book-Author\", how=\"inner\")"
   ],
   "metadata": {
    "collapsed": false,
    "ExecuteTime": {
     "end_time": "2024-02-04T15:57:14.907970800Z",
     "start_time": "2024-02-04T15:57:14.232869500Z"
    }
   },
   "id": "9c19e629eda92599",
   "execution_count": 21
  },
  {
   "cell_type": "code",
   "outputs": [],
   "source": [
    "mean_age_by_publisher = df_main.groupby(\"Publisher\")[\"Age\"].mean().rename(\"Mean-Age-By-Publisher\")\n",
    "df_main = pd.merge(df_main, mean_age_by_publisher, on=\"Publisher\", how=\"inner\")"
   ],
   "metadata": {
    "collapsed": false,
    "ExecuteTime": {
     "end_time": "2024-02-04T15:57:15.399733800Z",
     "start_time": "2024-02-04T15:57:14.909966100Z"
    }
   },
   "id": "2abe7f34b5dbb034",
   "execution_count": 22
  },
  {
   "cell_type": "code",
   "outputs": [],
   "source": [
    "mean_rating_by_book = df_main.groupby(\"Book-Title\")[\"Book-Rating\"].mean().rename(\"Mean-Rating-By-Book\")\n",
    "df_main = pd.merge(df_main, mean_rating_by_book, on=\"Book-Title\", how=\"inner\")"
   ],
   "metadata": {
    "collapsed": false,
    "ExecuteTime": {
     "end_time": "2024-02-04T15:57:16.478861100Z",
     "start_time": "2024-02-04T15:57:15.418078900Z"
    }
   },
   "id": "ad28d27518d1594d",
   "execution_count": 23
  },
  {
   "cell_type": "code",
   "outputs": [],
   "source": [
    "mean_rating_by_author = df_main.groupby(\"Book-Author\")[\"Book-Rating\"].mean().rename(\"Mean-Rating-By-Author\")\n",
    "df_main = pd.merge(df_main, mean_rating_by_author, on=\"Book-Author\", how=\"inner\")"
   ],
   "metadata": {
    "collapsed": false,
    "ExecuteTime": {
     "end_time": "2024-02-04T15:57:17.442849400Z",
     "start_time": "2024-02-04T15:57:16.486867700Z"
    }
   },
   "id": "2d9f88b7c7c16021",
   "execution_count": 24
  },
  {
   "cell_type": "code",
   "outputs": [],
   "source": [
    "mean_rating_by_publisher = df_main.groupby(\"Publisher\")[\"Book-Rating\"].mean().rename(\"Mean-Rating-By-Publisher\")\n",
    "df_main = pd.merge(df_main, mean_rating_by_publisher, on=\"Publisher\", how=\"inner\")"
   ],
   "metadata": {
    "collapsed": false,
    "ExecuteTime": {
     "end_time": "2024-02-04T15:57:18.130249900Z",
     "start_time": "2024-02-04T15:57:17.437768100Z"
    }
   },
   "id": "fcce27141bbd1133",
   "execution_count": 25
  },
  {
   "cell_type": "code",
   "outputs": [],
   "source": [
    "df_main = df_main.drop([\"Age\", \"Book-Rating\", \"User-ID\"], axis=1)"
   ],
   "metadata": {
    "collapsed": false,
    "ExecuteTime": {
     "end_time": "2024-02-04T15:57:18.242595800Z",
     "start_time": "2024-02-04T15:57:18.132244600Z"
    }
   },
   "id": "e320003b247f8b8d",
   "execution_count": 26
  },
  {
   "cell_type": "markdown",
   "source": [
    "### Top Location By Book"
   ],
   "metadata": {
    "collapsed": false
   },
   "id": "e53720030549f29"
  },
  {
   "cell_type": "code",
   "outputs": [],
   "source": [
    "location_count_by_book = df_main.groupby([\"ISBN\", \"Location\"]).size().reset_index(name=\"Readers-Count-In-Top-Location\")\n",
    "top_location_by_book = location_count_by_book.loc[location_count_by_book.groupby(\"ISBN\")[\"Readers-Count-In-Top-Location\"].idxmax()].rename({\"Location\": \"Top-Location-By-Book\"}, axis=1)\n",
    "df_main = pd.merge(df_main, top_location_by_book, on=\"ISBN\", how=\"inner\")"
   ],
   "metadata": {
    "collapsed": false,
    "ExecuteTime": {
     "end_time": "2024-02-04T15:57:31.552921400Z",
     "start_time": "2024-02-04T15:57:18.245583600Z"
    }
   },
   "id": "d3a37c99b6e80786",
   "execution_count": 27
  },
  {
   "cell_type": "markdown",
   "source": [
    "### Count Encodings"
   ],
   "metadata": {
    "collapsed": false
   },
   "id": "8e96eea75ee16103"
  },
  {
   "cell_type": "code",
   "outputs": [],
   "source": [
    "location_encoder = CountEncoder()\n",
    "df_main[\"Location-Encoded\"] = location_encoder.fit_transform(df_main[\"Location\"])"
   ],
   "metadata": {
    "collapsed": false,
    "ExecuteTime": {
     "end_time": "2024-02-04T15:57:32.662037500Z",
     "start_time": "2024-02-04T15:57:31.552921400Z"
    }
   },
   "id": "7fb0b95a1be37868",
   "execution_count": 28
  },
  {
   "cell_type": "code",
   "outputs": [],
   "source": [
    "location_encodings = df_main.groupby([\"Location\"])[\"Location-Encoded\"].max().rename(\"Top-Location-By-Book-Encoded\")\n",
    "df_main = df_main.drop([\"Location-Encoded\"], axis=1)\n",
    "df_main = pd.merge(df_main, location_encodings, left_on=\"Top-Location-By-Book\", right_on=\"Location\", how=\"inner\")"
   ],
   "metadata": {
    "collapsed": false,
    "ExecuteTime": {
     "end_time": "2024-02-04T15:57:33.509815500Z",
     "start_time": "2024-02-04T15:57:32.658114200Z"
    }
   },
   "id": "afd6497c131ac670",
   "execution_count": 29
  },
  {
   "cell_type": "code",
   "outputs": [],
   "source": [
    "df_main = df_main.drop([\"Location\", \"Top-Location-By-Book\"], axis=1)"
   ],
   "metadata": {
    "collapsed": false,
    "ExecuteTime": {
     "end_time": "2024-02-04T15:57:33.605929900Z",
     "start_time": "2024-02-04T15:57:33.510812600Z"
    }
   },
   "id": "280f113de041081b",
   "execution_count": 30
  },
  {
   "cell_type": "code",
   "outputs": [],
   "source": [
    "author_encoder = CountEncoder()\n",
    "df_main[\"Book-Author-Encoded\"] = author_encoder.fit_transform(df_main[\"Book-Author\"])\n",
    "df_main = df_main.drop([\"Book-Author\"], axis=1)"
   ],
   "metadata": {
    "collapsed": false,
    "ExecuteTime": {
     "end_time": "2024-02-04T15:57:35.215870600Z",
     "start_time": "2024-02-04T15:57:33.607949700Z"
    }
   },
   "id": "64451bc2b9376ee8",
   "execution_count": 31
  },
  {
   "cell_type": "code",
   "outputs": [],
   "source": [
    "publisher_encoder = CountEncoder()\n",
    "df_main[\"Publisher-Encoded\"] = publisher_encoder.fit_transform(df_main[\"Publisher\"])\n",
    "df_main = df_main.drop([\"Publisher\"], axis=1)"
   ],
   "metadata": {
    "collapsed": false,
    "ExecuteTime": {
     "end_time": "2024-02-04T15:57:36.170826Z",
     "start_time": "2024-02-04T15:57:35.242764200Z"
    }
   },
   "id": "3c3c83c7e7f299cb",
   "execution_count": 32
  },
  {
   "cell_type": "markdown",
   "source": [
    "### Book Contribution to Top Location"
   ],
   "metadata": {
    "collapsed": false
   },
   "id": "cadbb94e4bdef0dd"
  },
  {
   "cell_type": "code",
   "outputs": [],
   "source": [
    "df_main[\"Book-Contribution-To-Top-Location\"] = df_main[\"Readers-Count-In-Top-Location\"]/df_main[\"Top-Location-By-Book-Encoded\"]\n",
    "\n",
    "df_main = df_main.drop([\"Readers-Count-In-Top-Location\"], axis=1)"
   ],
   "metadata": {
    "collapsed": false,
    "ExecuteTime": {
     "end_time": "2024-02-04T15:57:36.263027500Z",
     "start_time": "2024-02-04T15:57:36.167375800Z"
    }
   },
   "id": "5a9cafb893eb7276",
   "execution_count": 33
  },
  {
   "cell_type": "markdown",
   "source": [
    "### Book Appearances"
   ],
   "metadata": {
    "collapsed": false
   },
   "id": "ab95b4fda1da4b2a"
  },
  {
   "cell_type": "code",
   "outputs": [],
   "source": [
    "isbn_encoder = CountEncoder()\n",
    "df_main[\"Book-Appearances\"] = isbn_encoder.fit_transform(df_main[\"ISBN\"])"
   ],
   "metadata": {
    "collapsed": false,
    "ExecuteTime": {
     "end_time": "2024-02-04T15:57:38.417341600Z",
     "start_time": "2024-02-04T15:57:36.265016400Z"
    }
   },
   "id": "674629d062e96f2d",
   "execution_count": 34
  },
  {
   "cell_type": "markdown",
   "source": [
    "### Dropping duplicates"
   ],
   "metadata": {
    "collapsed": false
   },
   "id": "957307639f1794ba"
  },
  {
   "cell_type": "code",
   "outputs": [],
   "source": [
    "df_main = df_main.drop_duplicates()"
   ],
   "metadata": {
    "collapsed": false,
    "ExecuteTime": {
     "end_time": "2024-02-04T15:57:39.181817600Z",
     "start_time": "2024-02-04T15:57:38.437683Z"
    }
   },
   "id": "3aa9d87e844591e4",
   "execution_count": 35
  },
  {
   "cell_type": "code",
   "outputs": [
    {
     "data": {
      "text/plain": "         ISBN                               Book-Title  Year-Of-Publication  \\\n0  0195153448                      Classical Mythology                 2002   \n1  0764500546   Macs for Teachers (For Dummies Series)                 1996   \n2  0060907924  A People's History of the United States                 1980   \n3  0425173305                                 Slackjaw                 2000   \n6  0345391497                        The Demon Awakens                 1997   \n\n   Mean-Age-By-Book  Mean-Age-By-Author  Mean-Age-By-Publisher  \\\n0            24.000           24.000000              34.949203   \n1            28.500           28.500000              36.375201   \n2            52.000           31.305085              37.778483   \n3            32.875           34.615385              36.993178   \n6            32.000           30.574257              36.374875   \n\n   Mean-Rating-By-Book  Mean-Rating-By-Author  Mean-Rating-By-Publisher  \\\n0                3.500               3.500000                  3.491657   \n1                5.000               5.000000                  3.352657   \n2               10.000               3.644068                  2.622242   \n3                4.625               4.846154                  2.426038   \n6                0.000               3.273927                  2.800551   \n\n   Top-Location-By-Book-Encoded  Book-Author-Encoded  Publisher-Encoded  \\\n0                           243                    2               2697   \n1                           243                    2                621   \n2                           243                   59               6618   \n3                           243                   13              28143   \n6                           243                  303              34134   \n\n   Book-Contribution-To-Top-Location  Book-Appearances  \n0                           0.004115                 1  \n1                           0.004115                 1  \n2                           0.004115                 1  \n3                           0.004115                 3  \n6                           0.004115                 1  ",
      "text/html": "<div>\n<style scoped>\n    .dataframe tbody tr th:only-of-type {\n        vertical-align: middle;\n    }\n\n    .dataframe tbody tr th {\n        vertical-align: top;\n    }\n\n    .dataframe thead th {\n        text-align: right;\n    }\n</style>\n<table border=\"1\" class=\"dataframe\">\n  <thead>\n    <tr style=\"text-align: right;\">\n      <th></th>\n      <th>ISBN</th>\n      <th>Book-Title</th>\n      <th>Year-Of-Publication</th>\n      <th>Mean-Age-By-Book</th>\n      <th>Mean-Age-By-Author</th>\n      <th>Mean-Age-By-Publisher</th>\n      <th>Mean-Rating-By-Book</th>\n      <th>Mean-Rating-By-Author</th>\n      <th>Mean-Rating-By-Publisher</th>\n      <th>Top-Location-By-Book-Encoded</th>\n      <th>Book-Author-Encoded</th>\n      <th>Publisher-Encoded</th>\n      <th>Book-Contribution-To-Top-Location</th>\n      <th>Book-Appearances</th>\n    </tr>\n  </thead>\n  <tbody>\n    <tr>\n      <th>0</th>\n      <td>0195153448</td>\n      <td>Classical Mythology</td>\n      <td>2002</td>\n      <td>24.000</td>\n      <td>24.000000</td>\n      <td>34.949203</td>\n      <td>3.500</td>\n      <td>3.500000</td>\n      <td>3.491657</td>\n      <td>243</td>\n      <td>2</td>\n      <td>2697</td>\n      <td>0.004115</td>\n      <td>1</td>\n    </tr>\n    <tr>\n      <th>1</th>\n      <td>0764500546</td>\n      <td>Macs for Teachers (For Dummies Series)</td>\n      <td>1996</td>\n      <td>28.500</td>\n      <td>28.500000</td>\n      <td>36.375201</td>\n      <td>5.000</td>\n      <td>5.000000</td>\n      <td>3.352657</td>\n      <td>243</td>\n      <td>2</td>\n      <td>621</td>\n      <td>0.004115</td>\n      <td>1</td>\n    </tr>\n    <tr>\n      <th>2</th>\n      <td>0060907924</td>\n      <td>A People's History of the United States</td>\n      <td>1980</td>\n      <td>52.000</td>\n      <td>31.305085</td>\n      <td>37.778483</td>\n      <td>10.000</td>\n      <td>3.644068</td>\n      <td>2.622242</td>\n      <td>243</td>\n      <td>59</td>\n      <td>6618</td>\n      <td>0.004115</td>\n      <td>1</td>\n    </tr>\n    <tr>\n      <th>3</th>\n      <td>0425173305</td>\n      <td>Slackjaw</td>\n      <td>2000</td>\n      <td>32.875</td>\n      <td>34.615385</td>\n      <td>36.993178</td>\n      <td>4.625</td>\n      <td>4.846154</td>\n      <td>2.426038</td>\n      <td>243</td>\n      <td>13</td>\n      <td>28143</td>\n      <td>0.004115</td>\n      <td>3</td>\n    </tr>\n    <tr>\n      <th>6</th>\n      <td>0345391497</td>\n      <td>The Demon Awakens</td>\n      <td>1997</td>\n      <td>32.000</td>\n      <td>30.574257</td>\n      <td>36.374875</td>\n      <td>0.000</td>\n      <td>3.273927</td>\n      <td>2.800551</td>\n      <td>243</td>\n      <td>303</td>\n      <td>34134</td>\n      <td>0.004115</td>\n      <td>1</td>\n    </tr>\n  </tbody>\n</table>\n</div>"
     },
     "execution_count": 36,
     "metadata": {},
     "output_type": "execute_result"
    }
   ],
   "source": [
    "df_main.head()"
   ],
   "metadata": {
    "collapsed": false,
    "ExecuteTime": {
     "end_time": "2024-02-04T15:57:39.195641500Z",
     "start_time": "2024-02-04T15:57:39.189353100Z"
    }
   },
   "id": "99a5583d102a2f6b",
   "execution_count": 36
  },
  {
   "cell_type": "markdown",
   "source": [
    "### Scaling Data"
   ],
   "metadata": {
    "collapsed": false
   },
   "id": "8bb5ca91dcb474f9"
  },
  {
   "cell_type": "markdown",
   "source": [
    "In the future, we will use PCA (Principal Component Analysis). It's necessary to center the data in the origin (although the Sklearn's PCA do it already) to make the PCA algorithm work right. So, we will make a StandardScale. "
   ],
   "metadata": {
    "collapsed": false
   },
   "id": "692a93ee1f3c5d5a"
  },
  {
   "cell_type": "code",
   "outputs": [],
   "source": [
    "X = df_main.drop([\"ISBN\", 'Book-Title'], axis=1)"
   ],
   "metadata": {
    "collapsed": false,
    "ExecuteTime": {
     "end_time": "2024-02-04T15:57:39.211725900Z",
     "start_time": "2024-02-04T15:57:39.193621400Z"
    }
   },
   "id": "d8800cd10c17dce",
   "execution_count": 37
  },
  {
   "cell_type": "code",
   "outputs": [],
   "source": [
    "scaler = StandardScaler()\n",
    "X = pd.DataFrame(scaler.fit_transform(X), columns=X.columns)"
   ],
   "metadata": {
    "collapsed": false,
    "ExecuteTime": {
     "end_time": "2024-02-04T15:57:39.365213Z",
     "start_time": "2024-02-04T15:57:39.213375700Z"
    }
   },
   "id": "4893909e72471bc3",
   "execution_count": 38
  },
  {
   "cell_type": "code",
   "outputs": [
    {
     "data": {
      "text/plain": "12"
     },
     "execution_count": 39,
     "metadata": {},
     "output_type": "execute_result"
    }
   ],
   "source": [
    "len(X.columns)"
   ],
   "metadata": {
    "collapsed": false,
    "ExecuteTime": {
     "end_time": "2024-02-04T15:57:39.368432100Z",
     "start_time": "2024-02-04T15:57:39.292832600Z"
    }
   },
   "id": "5e08c22aa2950e7d",
   "execution_count": 39
  },
  {
   "cell_type": "markdown",
   "source": [
    "## Analysing Multicolinearity"
   ],
   "metadata": {
    "collapsed": false
   },
   "id": "e469815397769b70"
  },
  {
   "cell_type": "markdown",
   "source": [
    "The results can be negatively impacted by the multicollinearity of features used in clustering as the correlated feature will carry extra weight on the distance calculation than desired, in the case of K-means. Let's view the correlations matrix:"
   ],
   "metadata": {
    "collapsed": false
   },
   "id": "9eac1f9665dc75e6"
  },
  {
   "cell_type": "code",
   "outputs": [
    {
     "data": {
      "text/plain": "<Axes: >"
     },
     "execution_count": 40,
     "metadata": {},
     "output_type": "execute_result"
    },
    {
     "data": {
      "text/plain": "<Figure size 640x480 with 2 Axes>",
      "image/png": "[encoded data removed]"
     },
     "metadata": {},
     "output_type": "display_data"
    }
   ],
   "source": [
    "sns.heatmap(X.corr().apply(lambda x: round(x,2)), cmap=\"flare\", annot=True)"
   ],
   "metadata": {
    "collapsed": false,
    "ExecuteTime": {
     "end_time": "2024-02-04T15:57:40.568672100Z",
     "start_time": "2024-02-04T15:57:39.301908100Z"
    }
   },
   "id": "cde67d71c5d1bda1",
   "execution_count": 40
  },
  {
   "cell_type": "markdown",
   "source": [
    "## PCA (Principal Component Analysis)"
   ],
   "metadata": {
    "collapsed": false
   },
   "id": "3c47ae0588985946"
  },
  {
   "cell_type": "markdown",
   "source": [
    "PCA is a good way of eliminating multicollinearity while selecting how much of the variance we want to keep. The trade-off is that PCA makes our dataset less interpretable."
   ],
   "metadata": {
    "collapsed": false
   },
   "id": "c23fc247e37d0892"
  },
  {
   "cell_type": "code",
   "outputs": [
    {
     "data": {
      "text/plain": "<Figure size 640x480 with 1 Axes>",
      "image/png": "[encoded data removed]"
     },
     "metadata": {},
     "output_type": "display_data"
    }
   ],
   "source": [
    "pca = PCA()\n",
    "pca.fit(X)\n",
    "variances = np.arange(0.90, 0.99, 0.01)\n",
    "ds = []\n",
    "cumsum = np.cumsum(pca.explained_variance_ratio_)\n",
    "for variance in variances:\n",
    "    ds.append(np.argmax(cumsum >= variance) + 1) \n",
    "plt.bar(height=ds, x=variances, width=0.005, color=\"darkblue\")\n",
    "plt.xticks(variances)\n",
    "plt.title(\"Principal Component Analysis\")\n",
    "plt.xlabel(\"Proportion of Keeped Variance\")\n",
    "plt.ylabel(\"Number of Principal Components\")\n",
    "plt.show()"
   ],
   "metadata": {
    "collapsed": false,
    "ExecuteTime": {
     "end_time": "2024-02-04T15:57:41.066152400Z",
     "start_time": "2024-02-04T15:57:40.555733Z"
    }
   },
   "id": "e34ee904ee765856",
   "execution_count": 41
  },
  {
   "cell_type": "markdown",
   "source": [
    "Let's maintain 0.95 (95%) of the variance by choosing 10 components:"
   ],
   "metadata": {
    "collapsed": false
   },
   "id": "4d139120518ef233"
  },
  {
   "cell_type": "code",
   "outputs": [
    {
     "name": "stdout",
     "output_type": "stream",
     "text": [
      "Number of features (principal components) after PCA: 10\n"
     ]
    }
   ],
   "source": [
    "pca = PCA(n_components=0.95)\n",
    "X_reduced_pca = pd.DataFrame(pca.fit_transform(X))\n",
    "print(f\"Number of features (principal components) after PCA: {len(X_reduced_pca.columns)}\")"
   ],
   "metadata": {
    "collapsed": false,
    "ExecuteTime": {
     "end_time": "2024-02-04T15:57:41.212762Z",
     "start_time": "2024-02-04T15:57:41.058945Z"
    }
   },
   "id": "b1531d277a513927",
   "execution_count": 42
  },
  {
   "cell_type": "code",
   "outputs": [
    {
     "data": {
      "text/plain": "          0         1         2         3         4         5         6  \\\n0 -1.777633 -1.671471 -0.368264 -0.368809 -0.373270 -0.126869 -0.287310   \n1 -1.817762 -0.483387 -0.307826 -0.270830 -0.360390 -0.216256 -0.374523   \n2 -0.778019  1.432834  0.104565  0.235152 -0.551097 -0.988500 -0.216783   \n3 -0.171854 -0.253399  0.921071  0.434547 -1.403320 -2.460768  0.566514   \n4  0.597874 -1.452285  0.999920  0.595798 -1.371683 -2.383955  0.457196   \n\n          7         8         9  \n0  0.436024 -0.598488 -0.354883  \n1  0.444031 -0.759444  0.094903  \n2  0.028371 -0.263677  0.902243  \n3 -0.016798 -0.140358 -0.341357  \n4 -0.309265  0.130226 -1.458924  ",
      "text/html": "<div>\n<style scoped>\n    .dataframe tbody tr th:only-of-type {\n        vertical-align: middle;\n    }\n\n    .dataframe tbody tr th {\n        vertical-align: top;\n    }\n\n    .dataframe thead th {\n        text-align: right;\n    }\n</style>\n<table border=\"1\" class=\"dataframe\">\n  <thead>\n    <tr style=\"text-align: right;\">\n      <th></th>\n      <th>0</th>\n      <th>1</th>\n      <th>2</th>\n      <th>3</th>\n      <th>4</th>\n      <th>5</th>\n      <th>6</th>\n      <th>7</th>\n      <th>8</th>\n      <th>9</th>\n    </tr>\n  </thead>\n  <tbody>\n    <tr>\n      <th>0</th>\n      <td>-1.777633</td>\n      <td>-1.671471</td>\n      <td>-0.368264</td>\n      <td>-0.368809</td>\n      <td>-0.373270</td>\n      <td>-0.126869</td>\n      <td>-0.287310</td>\n      <td>0.436024</td>\n      <td>-0.598488</td>\n      <td>-0.354883</td>\n    </tr>\n    <tr>\n      <th>1</th>\n      <td>-1.817762</td>\n      <td>-0.483387</td>\n      <td>-0.307826</td>\n      <td>-0.270830</td>\n      <td>-0.360390</td>\n      <td>-0.216256</td>\n      <td>-0.374523</td>\n      <td>0.444031</td>\n      <td>-0.759444</td>\n      <td>0.094903</td>\n    </tr>\n    <tr>\n      <th>2</th>\n      <td>-0.778019</td>\n      <td>1.432834</td>\n      <td>0.104565</td>\n      <td>0.235152</td>\n      <td>-0.551097</td>\n      <td>-0.988500</td>\n      <td>-0.216783</td>\n      <td>0.028371</td>\n      <td>-0.263677</td>\n      <td>0.902243</td>\n    </tr>\n    <tr>\n      <th>3</th>\n      <td>-0.171854</td>\n      <td>-0.253399</td>\n      <td>0.921071</td>\n      <td>0.434547</td>\n      <td>-1.403320</td>\n      <td>-2.460768</td>\n      <td>0.566514</td>\n      <td>-0.016798</td>\n      <td>-0.140358</td>\n      <td>-0.341357</td>\n    </tr>\n    <tr>\n      <th>4</th>\n      <td>0.597874</td>\n      <td>-1.452285</td>\n      <td>0.999920</td>\n      <td>0.595798</td>\n      <td>-1.371683</td>\n      <td>-2.383955</td>\n      <td>0.457196</td>\n      <td>-0.309265</td>\n      <td>0.130226</td>\n      <td>-1.458924</td>\n    </tr>\n  </tbody>\n</table>\n</div>"
     },
     "execution_count": 43,
     "metadata": {},
     "output_type": "execute_result"
    }
   ],
   "source": [
    "X_reduced_pca.head()"
   ],
   "metadata": {
    "collapsed": false,
    "ExecuteTime": {
     "end_time": "2024-02-04T15:57:41.226976700Z",
     "start_time": "2024-02-04T15:57:41.211601700Z"
    }
   },
   "id": "dd71ba36f445999b",
   "execution_count": 43
  },
  {
   "cell_type": "markdown",
   "source": [
    "Now, let's see the correlations heatmap again. All the components should be orthogonal (correlations = 0)."
   ],
   "metadata": {
    "collapsed": false
   },
   "id": "9b0db8df125ad27b"
  },
  {
   "cell_type": "code",
   "outputs": [
    {
     "data": {
      "text/plain": "<Axes: >"
     },
     "execution_count": 44,
     "metadata": {},
     "output_type": "execute_result"
    },
    {
     "data": {
      "text/plain": "<Figure size 640x480 with 2 Axes>",
      "image/png": "[encoded data removed]"
     },
     "metadata": {},
     "output_type": "display_data"
    }
   ],
   "source": [
    "sns.heatmap(X_reduced_pca.corr().apply(lambda x: round(x,2)), cmap=\"flare\", annot=True)"
   ],
   "metadata": {
    "collapsed": false,
    "ExecuteTime": {
     "end_time": "2024-02-04T15:57:42.059676400Z",
     "start_time": "2024-02-04T15:57:41.227972600Z"
    }
   },
   "id": "c044d2cbdd51246f",
   "execution_count": 44
  },
  {
   "cell_type": "markdown",
   "source": [
    "## K-means Clustering"
   ],
   "metadata": {
    "collapsed": false
   },
   "id": "ce5ad6819c291eeb"
  },
  {
   "cell_type": "markdown",
   "source": [
    "To define the optimal number of clusters, we will first try to use the Elbow Method.\n",
    "Note: WCSS means Within-Cluster Sum of Squares."
   ],
   "metadata": {
    "collapsed": false
   },
   "id": "df9532c5bab78d05"
  },
  {
   "cell_type": "code",
   "outputs": [
    {
     "data": {
      "text/plain": "<Figure size 640x480 with 1 Axes>",
      "image/png": "[encoded data removed]"
     },
     "metadata": {},
     "output_type": "display_data"
    }
   ],
   "source": [
    "wcss = []\n",
    "clusters_range = range(1, 40)\n",
    "for i in clusters_range:\n",
    "    kmeans = KMeans(n_clusters=i, n_init=1, random_state=0)\n",
    "    kmeans.fit(X_reduced_pca)\n",
    "    wcss.append(kmeans.inertia_)\n",
    "\n",
    "plt.plot(clusters_range, wcss)\n",
    "plt.title(\"Elbow Method\")\n",
    "plt.xlabel(\"Number of Clusters\")\n",
    "plt.ylabel(\"WCSS\")\n",
    "plt.grid()\n",
    "plt.show()"
   ],
   "metadata": {
    "collapsed": false,
    "ExecuteTime": {
     "end_time": "2024-02-04T15:58:30.111972400Z",
     "start_time": "2024-02-04T15:57:42.008372500Z"
    }
   },
   "id": "6803f1f10af325f0",
   "execution_count": 45
  },
  {
   "cell_type": "markdown",
   "source": [
    "The elbow isn't so clear. Another option is to use the Silhouette Analysis, which measures the silhouette coefficient for each point and finally takes it means. The silhouette coefficient is a measure of how similar a data point is within-cluster (cohesion) compared to other clusters (separation). The greater the coefficient is, the best.\n",
    "\n",
    "However, we will try to use, for example, 15 clusters from the elbow method because the silhouette analysis may last so much, due to the big number of points we have in the dataset."
   ],
   "metadata": {
    "collapsed": false
   },
   "id": "cf25d75090e73851"
  },
  {
   "cell_type": "code",
   "outputs": [],
   "source": [
    "kmeans = KMeans(n_clusters=15, n_init=1, random_state=0).fit(X_reduced_pca)\n",
    "df_books = X_reduced_pca.copy()\n",
    "df_books[\"Cluster\"] = kmeans.labels_\n",
    "df_books[\"ISBN\"] = df_main[\"ISBN\"].reset_index(drop=True).copy()\n",
    "df_books[\"Book-Title\"] = df_main[\"Book-Title\"].reset_index(drop=True).copy()"
   ],
   "metadata": {
    "collapsed": false,
    "ExecuteTime": {
     "end_time": "2024-02-04T15:58:30.634039400Z",
     "start_time": "2024-02-04T15:58:30.114966200Z"
    }
   },
   "id": "ff4692395a6d185f",
   "execution_count": 46
  },
  {
   "cell_type": "code",
   "outputs": [
    {
     "data": {
      "text/plain": "Cluster\n4     53599\n0     49618\n5     40167\n2     31665\n8     20406\n14    19688\n11    13442\n1     13164\n12     7274\n13     5341\n3      4405\n10     3157\n7      2806\n6      1031\n9       483\nName: count, dtype: int64"
     },
     "execution_count": 47,
     "metadata": {},
     "output_type": "execute_result"
    }
   ],
   "source": [
    "df_books[\"Cluster\"].value_counts()"
   ],
   "metadata": {
    "collapsed": false,
    "ExecuteTime": {
     "end_time": "2024-02-04T15:58:30.652045900Z",
     "start_time": "2024-02-04T15:58:30.637114200Z"
    }
   },
   "id": "908c944f9fd262c1",
   "execution_count": 47
  },
  {
   "cell_type": "markdown",
   "source": [
    "The number of members of each cluster seems good. Now, we have each book labeled with it cluster:"
   ],
   "metadata": {
    "collapsed": false
   },
   "id": "dc00653f5998c807"
  },
  {
   "cell_type": "code",
   "outputs": [
    {
     "data": {
      "text/plain": "           0         1         2         3         4         5         6  \\\n0  -1.777633 -1.671471 -0.368264 -0.368809 -0.373270 -0.126869 -0.287310   \n1  -1.817762 -0.483387 -0.307826 -0.270830 -0.360390 -0.216256 -0.374523   \n2  -0.778019  1.432834  0.104565  0.235152 -0.551097 -0.988500 -0.216783   \n3  -0.171854 -0.253399  0.921071  0.434547 -1.403320 -2.460768  0.566514   \n4   0.597874 -1.452285  0.999920  0.595798 -1.371683 -2.383955  0.457196   \n5  -1.411565  0.732853 -0.034548  0.125291 -0.364012 -0.398222 -0.536324   \n6  -0.595464  0.462141  0.270038  0.270726 -0.858181 -1.508195  0.022828   \n7   0.067150 -0.370497 -0.483001  0.127438 -0.329157 -0.208663 -0.440541   \n8   1.223766 -1.470960  0.357720  0.522634 -1.077427 -1.790651  0.283689   \n9  -0.158974  0.077339 -0.700161  0.031666 -0.099009  0.313894 -0.629705   \n10  0.331110 -1.840949 -0.951931  0.000211  0.063805  0.555003 -0.494527   \n11  0.005636 -0.822858 -0.822979 -0.062164 -0.054364  0.467355 -0.610256   \n\n           7         8         9  Cluster        ISBN  \\\n0   0.436024 -0.598488 -0.354883        0  0195153448   \n1   0.444031 -0.759444  0.094903        0  0764500546   \n2   0.028371 -0.263677  0.902243       11  0060907924   \n3  -0.016798 -0.140358 -0.341357        2  0425173305   \n4  -0.309265  0.130226 -1.458924        2  0345391497   \n5  -0.027332 -0.189451  1.159324       14  0743508149   \n6   0.097958 -0.679236  0.659770        0  0449239462   \n7   0.343929 -0.559012  0.513782        4  1575667525   \n8  -0.111495 -0.090202 -0.248773        2  0373834470   \n9   0.543915 -0.144681 -0.414485        4  0871319705   \n10  0.127801  0.925445  0.392079        5  0387026207   \n11  0.637349 -0.419194 -0.740245        5  057540275X   \n\n                                           Book-Title  \n0                                 Classical Mythology  \n1              Macs for Teachers (For Dummies Series)  \n2             A People's History of the United States  \n3                                            Slackjaw  \n4                                   The Demon Awakens  \n5   D-Day : June 6, 1944 -- The Climactic Battle o...  \n6                                      Gabriel Hounds  \n7      Requiem for a Mezzo: A Daisy Dalrymple Mystery  \n8                                       Talisman Ring  \n9                                        Private Heat  \n10                                        Beyond Fear  \n11                                  Crazy Man Michael  ",
      "text/html": "<div>\n<style scoped>\n    .dataframe tbody tr th:only-of-type {\n        vertical-align: middle;\n    }\n\n    .dataframe tbody tr th {\n        vertical-align: top;\n    }\n\n    .dataframe thead th {\n        text-align: right;\n    }\n</style>\n<table border=\"1\" class=\"dataframe\">\n  <thead>\n    <tr style=\"text-align: right;\">\n      <th></th>\n      <th>0</th>\n      <th>1</th>\n      <th>2</th>\n      <th>3</th>\n      <th>4</th>\n      <th>5</th>\n      <th>6</th>\n      <th>7</th>\n      <th>8</th>\n      <th>9</th>\n      <th>Cluster</th>\n      <th>ISBN</th>\n      <th>Book-Title</th>\n    </tr>\n  </thead>\n  <tbody>\n    <tr>\n      <th>0</th>\n      <td>-1.777633</td>\n      <td>-1.671471</td>\n      <td>-0.368264</td>\n      <td>-0.368809</td>\n      <td>-0.373270</td>\n      <td>-0.126869</td>\n      <td>-0.287310</td>\n      <td>0.436024</td>\n      <td>-0.598488</td>\n      <td>-0.354883</td>\n      <td>0</td>\n      <td>0195153448</td>\n      <td>Classical Mythology</td>\n    </tr>\n    <tr>\n      <th>1</th>\n      <td>-1.817762</td>\n      <td>-0.483387</td>\n      <td>-0.307826</td>\n      <td>-0.270830</td>\n      <td>-0.360390</td>\n      <td>-0.216256</td>\n      <td>-0.374523</td>\n      <td>0.444031</td>\n      <td>-0.759444</td>\n      <td>0.094903</td>\n      <td>0</td>\n      <td>0764500546</td>\n      <td>Macs for Teachers (For Dummies Series)</td>\n    </tr>\n    <tr>\n      <th>2</th>\n      <td>-0.778019</td>\n      <td>1.432834</td>\n      <td>0.104565</td>\n      <td>0.235152</td>\n      <td>-0.551097</td>\n      <td>-0.988500</td>\n      <td>-0.216783</td>\n      <td>0.028371</td>\n      <td>-0.263677</td>\n      <td>0.902243</td>\n      <td>11</td>\n      <td>0060907924</td>\n      <td>A People's History of the United States</td>\n    </tr>\n    <tr>\n      <th>3</th>\n      <td>-0.171854</td>\n      <td>-0.253399</td>\n      <td>0.921071</td>\n      <td>0.434547</td>\n      <td>-1.403320</td>\n      <td>-2.460768</td>\n      <td>0.566514</td>\n      <td>-0.016798</td>\n      <td>-0.140358</td>\n      <td>-0.341357</td>\n      <td>2</td>\n      <td>0425173305</td>\n      <td>Slackjaw</td>\n    </tr>\n    <tr>\n      <th>4</th>\n      <td>0.597874</td>\n      <td>-1.452285</td>\n      <td>0.999920</td>\n      <td>0.595798</td>\n      <td>-1.371683</td>\n      <td>-2.383955</td>\n      <td>0.457196</td>\n      <td>-0.309265</td>\n      <td>0.130226</td>\n      <td>-1.458924</td>\n      <td>2</td>\n      <td>0345391497</td>\n      <td>The Demon Awakens</td>\n    </tr>\n    <tr>\n      <th>5</th>\n      <td>-1.411565</td>\n      <td>0.732853</td>\n      <td>-0.034548</td>\n      <td>0.125291</td>\n      <td>-0.364012</td>\n      <td>-0.398222</td>\n      <td>-0.536324</td>\n      <td>-0.027332</td>\n      <td>-0.189451</td>\n      <td>1.159324</td>\n      <td>14</td>\n      <td>0743508149</td>\n      <td>D-Day : June 6, 1944 -- The Climactic Battle o...</td>\n    </tr>\n    <tr>\n      <th>6</th>\n      <td>-0.595464</td>\n      <td>0.462141</td>\n      <td>0.270038</td>\n      <td>0.270726</td>\n      <td>-0.858181</td>\n      <td>-1.508195</td>\n      <td>0.022828</td>\n      <td>0.097958</td>\n      <td>-0.679236</td>\n      <td>0.659770</td>\n      <td>0</td>\n      <td>0449239462</td>\n      <td>Gabriel Hounds</td>\n    </tr>\n    <tr>\n      <th>7</th>\n      <td>0.067150</td>\n      <td>-0.370497</td>\n      <td>-0.483001</td>\n      <td>0.127438</td>\n      <td>-0.329157</td>\n      <td>-0.208663</td>\n      <td>-0.440541</td>\n      <td>0.343929</td>\n      <td>-0.559012</td>\n      <td>0.513782</td>\n      <td>4</td>\n      <td>1575667525</td>\n      <td>Requiem for a Mezzo: A Daisy Dalrymple Mystery</td>\n    </tr>\n    <tr>\n      <th>8</th>\n      <td>1.223766</td>\n      <td>-1.470960</td>\n      <td>0.357720</td>\n      <td>0.522634</td>\n      <td>-1.077427</td>\n      <td>-1.790651</td>\n      <td>0.283689</td>\n      <td>-0.111495</td>\n      <td>-0.090202</td>\n      <td>-0.248773</td>\n      <td>2</td>\n      <td>0373834470</td>\n      <td>Talisman Ring</td>\n    </tr>\n    <tr>\n      <th>9</th>\n      <td>-0.158974</td>\n      <td>0.077339</td>\n      <td>-0.700161</td>\n      <td>0.031666</td>\n      <td>-0.099009</td>\n      <td>0.313894</td>\n      <td>-0.629705</td>\n      <td>0.543915</td>\n      <td>-0.144681</td>\n      <td>-0.414485</td>\n      <td>4</td>\n      <td>0871319705</td>\n      <td>Private Heat</td>\n    </tr>\n    <tr>\n      <th>10</th>\n      <td>0.331110</td>\n      <td>-1.840949</td>\n      <td>-0.951931</td>\n      <td>0.000211</td>\n      <td>0.063805</td>\n      <td>0.555003</td>\n      <td>-0.494527</td>\n      <td>0.127801</td>\n      <td>0.925445</td>\n      <td>0.392079</td>\n      <td>5</td>\n      <td>0387026207</td>\n      <td>Beyond Fear</td>\n    </tr>\n    <tr>\n      <th>11</th>\n      <td>0.005636</td>\n      <td>-0.822858</td>\n      <td>-0.822979</td>\n      <td>-0.062164</td>\n      <td>-0.054364</td>\n      <td>0.467355</td>\n      <td>-0.610256</td>\n      <td>0.637349</td>\n      <td>-0.419194</td>\n      <td>-0.740245</td>\n      <td>5</td>\n      <td>057540275X</td>\n      <td>Crazy Man Michael</td>\n    </tr>\n  </tbody>\n</table>\n</div>"
     },
     "execution_count": 48,
     "metadata": {},
     "output_type": "execute_result"
    }
   ],
   "source": [
    "df_books.head(12)"
   ],
   "metadata": {
    "collapsed": false,
    "ExecuteTime": {
     "end_time": "2024-02-04T15:58:30.696127400Z",
     "start_time": "2024-02-04T15:58:30.650051400Z"
    }
   },
   "id": "d16ac6de9902bdc",
   "execution_count": 48
  },
  {
   "cell_type": "markdown",
   "source": [
    "---"
   ],
   "metadata": {
    "collapsed": false
   },
   "id": "b5805260fe070523"
  },
  {
   "cell_type": "markdown",
   "source": [
    "## Recommendation System"
   ],
   "metadata": {
    "collapsed": false
   },
   "id": "e744ddf8668c958b"
  },
  {
   "cell_type": "markdown",
   "source": [
    "We will first get the books each user has already read."
   ],
   "metadata": {
    "collapsed": false
   },
   "id": "637b41acf12846c4"
  },
  {
   "cell_type": "code",
   "outputs": [],
   "source": [
    "df_users = pd.merge(df_users, df_books[[\"ISBN\", \"Cluster\"]], on=\"ISBN\", how=\"inner\")\n",
    "df_users = df_users[[\"User-ID\", \"ISBN\", \"Cluster\"]]"
   ],
   "metadata": {
    "collapsed": false,
    "ExecuteTime": {
     "end_time": "2024-02-04T15:58:31.082087600Z",
     "start_time": "2024-02-04T15:58:30.669450600Z"
    }
   },
   "id": "f793b02ec24df3c4",
   "execution_count": 49
  },
  {
   "cell_type": "code",
   "outputs": [
    {
     "data": {
      "text/plain": "    User-ID Already-Read-ISBN\n0         2        0195153448\n1         8        0002005018\n2         8        0060973129\n3         8        0374157065\n4         8        0393045218\n5         8        0399135782\n6         8        0425176428\n7         8        0671870432\n8         8        0679425608\n9         8        074322678X\n10        8        0771074670\n11        8        080652121X",
      "text/html": "<div>\n<style scoped>\n    .dataframe tbody tr th:only-of-type {\n        vertical-align: middle;\n    }\n\n    .dataframe tbody tr th {\n        vertical-align: top;\n    }\n\n    .dataframe thead th {\n        text-align: right;\n    }\n</style>\n<table border=\"1\" class=\"dataframe\">\n  <thead>\n    <tr style=\"text-align: right;\">\n      <th></th>\n      <th>User-ID</th>\n      <th>Already-Read-ISBN</th>\n    </tr>\n  </thead>\n  <tbody>\n    <tr>\n      <th>0</th>\n      <td>2</td>\n      <td>0195153448</td>\n    </tr>\n    <tr>\n      <th>1</th>\n      <td>8</td>\n      <td>0002005018</td>\n    </tr>\n    <tr>\n      <th>2</th>\n      <td>8</td>\n      <td>0060973129</td>\n    </tr>\n    <tr>\n      <th>3</th>\n      <td>8</td>\n      <td>0374157065</td>\n    </tr>\n    <tr>\n      <th>4</th>\n      <td>8</td>\n      <td>0393045218</td>\n    </tr>\n    <tr>\n      <th>5</th>\n      <td>8</td>\n      <td>0399135782</td>\n    </tr>\n    <tr>\n      <th>6</th>\n      <td>8</td>\n      <td>0425176428</td>\n    </tr>\n    <tr>\n      <th>7</th>\n      <td>8</td>\n      <td>0671870432</td>\n    </tr>\n    <tr>\n      <th>8</th>\n      <td>8</td>\n      <td>0679425608</td>\n    </tr>\n    <tr>\n      <th>9</th>\n      <td>8</td>\n      <td>074322678X</td>\n    </tr>\n    <tr>\n      <th>10</th>\n      <td>8</td>\n      <td>0771074670</td>\n    </tr>\n    <tr>\n      <th>11</th>\n      <td>8</td>\n      <td>080652121X</td>\n    </tr>\n  </tbody>\n</table>\n</div>"
     },
     "execution_count": 50,
     "metadata": {},
     "output_type": "execute_result"
    }
   ],
   "source": [
    "df_users_already_read = df_users.groupby(\"User-ID\")[\"ISBN\"].value_counts()\n",
    "df_users_already_read = pd.DataFrame(df_users_already_read.index.to_list(), columns=[\"User-ID\", \"Already-Read-ISBN\"])\n",
    "df_users_already_read.head(12)"
   ],
   "metadata": {
    "collapsed": false,
    "ExecuteTime": {
     "end_time": "2024-02-04T15:58:33.691201800Z",
     "start_time": "2024-02-04T15:58:31.085423500Z"
    }
   },
   "id": "b07d6052e6d49e8e",
   "execution_count": 50
  },
  {
   "cell_type": "markdown",
   "source": [
    "Now, we need a K-Nearest Neighbors algorithm that receives the isbn and the number of neighbors (k) and returns the k neighbors from the same cluster as the input book (determined by isbn)."
   ],
   "metadata": {
    "collapsed": false
   },
   "id": "8059f4c9fda922f3"
  },
  {
   "cell_type": "code",
   "outputs": [
    {
     "data": {
      "text/plain": "         ISBN    Book-Title\n0  0002005018  Clara Callan",
      "text/html": "<div>\n<style scoped>\n    .dataframe tbody tr th:only-of-type {\n        vertical-align: middle;\n    }\n\n    .dataframe tbody tr th {\n        vertical-align: top;\n    }\n\n    .dataframe thead th {\n        text-align: right;\n    }\n</style>\n<table border=\"1\" class=\"dataframe\">\n  <thead>\n    <tr style=\"text-align: right;\">\n      <th></th>\n      <th>ISBN</th>\n      <th>Book-Title</th>\n    </tr>\n  </thead>\n  <tbody>\n    <tr>\n      <th>0</th>\n      <td>0002005018</td>\n      <td>Clara Callan</td>\n    </tr>\n  </tbody>\n</table>\n</div>"
     },
     "execution_count": 51,
     "metadata": {},
     "output_type": "execute_result"
    }
   ],
   "source": [
    "def select_random_cluster(books_data, already_seen_clusters):\n",
    "    all_clusters = list(books_data[\"Cluster\"].unique())\n",
    "    while True:\n",
    "        random_cluster = random.choice(all_clusters)\n",
    "        if random_cluster not in already_seen_clusters:\n",
    "            return random_cluster\n",
    "\n",
    "def k_nearest_within_cluster(isbn, k, books_data):\n",
    "    cluster = books_data[books_data[\"ISBN\"] == isbn][\"Cluster\"].reset_index(drop=True)[0]\n",
    "    X_train = books_data[books_data[\"Cluster\"] == cluster]\n",
    "    already_seen_clusters = [cluster]\n",
    "    while len(X_train) < k:\n",
    "        cluster = select_random_cluster(books_data, already_seen_clusters)\n",
    "        already_seen_clusters.append(cluster)\n",
    "        X_train = books_data[books_data[\"Cluster\"] == cluster]\n",
    "    neighbors = NearestNeighbors(n_neighbors=k).fit(X_train.drop([\"ISBN\", \"Book-Title\", \"Cluster\"], axis=1))\n",
    "    distances, indices = neighbors.kneighbors(\n",
    "        books_data[books_data[\"ISBN\"] == isbn].drop([\"ISBN\", \"Book-Title\", \"Cluster\"], axis=1))\n",
    "    flat_indices = [index for sublist in indices for index in sublist]\n",
    "    return X_train.iloc[flat_indices][[\"ISBN\", \"Book-Title\"]].reset_index(drop=True)\n",
    "\n",
    "k_nearest_within_cluster(\"0002005018\", 1, df_books)"
   ],
   "metadata": {
    "collapsed": false,
    "ExecuteTime": {
     "end_time": "2024-02-04T15:58:33.845300100Z",
     "start_time": "2024-02-04T15:58:33.690205700Z"
    }
   },
   "id": "4b6e25ae0345f4b2",
   "execution_count": 51
  },
  {
   "cell_type": "markdown",
   "source": [
    "Now, we can recommend the books by iterating over the unique users. However, we will first reduce the number of users to which we will make the recommendations, so we don't wait so much."
   ],
   "metadata": {
    "collapsed": false
   },
   "id": "cc9697ffec870277"
  },
  {
   "cell_type": "code",
   "outputs": [
    {
     "name": "stderr",
     "output_type": "stream",
     "text": [
      "100%|██████████| 50/50 [01:08<00:00,  1.36s/it]\n"
     ]
    }
   ],
   "source": [
    "unique_user_ids = df_users_already_read[\"User-ID\"].unique()\n",
    "recommendations = pd.DataFrame(columns=[\"User-ID\", \"ISBN\", \"Book-Title\"])\n",
    "unique_user_ids_slice = unique_user_ids[0:50].copy()\n",
    "\n",
    "for user_id in tqdm(unique_user_ids_slice):\n",
    "    already_read = df_users_already_read[df_users_already_read[\"User-ID\"] == user_id][\"Already-Read-ISBN\"].reset_index(drop=True)\n",
    "    recommend_count = 0\n",
    "    already_recommended = list(already_read)\n",
    "    while recommend_count < 10:\n",
    "        recommendation_df = k_nearest_within_cluster(already_read.sample(frac=1).reset_index(drop=True)[0], len(already_recommended) + 1, df_books)\n",
    "        recommendation = recommendation_df.iloc[0]\n",
    "        recommendation_list_count = 0\n",
    "        while recommendation[\"ISBN\"] in already_recommended:\n",
    "            recommendation_list_count += 1\n",
    "            recommendation = recommendation_df.iloc[recommendation_list_count]\n",
    "        recommendation[\"User-ID\"] = user_id\n",
    "        recommendations = pd.concat([recommendations, recommendation.to_frame().T], ignore_index=True)\n",
    "        already_recommended.append(recommendation[\"ISBN\"])\n",
    "        recommend_count += 1"
   ],
   "metadata": {
    "collapsed": false,
    "ExecuteTime": {
     "end_time": "2024-02-04T15:59:41.865288600Z",
     "start_time": "2024-02-04T15:58:33.836761500Z"
    }
   },
   "id": "d1d6ffb78cba8e7f",
   "execution_count": 52
  },
  {
   "cell_type": "markdown",
   "source": [
    "Finally, we have the recommendations:"
   ],
   "metadata": {
    "collapsed": false
   },
   "id": "7a5f0b26ea1dd993"
  },
  {
   "cell_type": "code",
   "outputs": [
    {
     "data": {
      "text/plain": "    User-ID        ISBN                                         Book-Title\n0         2  1558535969  How To Be A Gentleman : A Contemporary Guide t...\n1         2  0380809079               Hot Stuff : A Brief History of Disco\n2         2  0060393025  The Best Friend's Guide to Planning a Wedding ...\n3         2  0252068947                           Mist: A Tragicomic Novel\n4         2  068485743X  The First Five Pages: A Writer's Guide to Stay...\n..      ...         ...                                                ...\n495     129  0441003389                                  Freedom's Landing\n496     129  0345334310                                  The Ship Who Sang\n497     129  1558747060  Chicken Soup for the Single's Soul - 101 Stori...\n498     129  1558744029  Chicken Soup for the Surviving Soul: 101 Heali...\n499     129  0345424603  The Masterharper of Pern (Dragonriders of Pern...\n\n[500 rows x 3 columns]",
      "text/html": "<div>\n<style scoped>\n    .dataframe tbody tr th:only-of-type {\n        vertical-align: middle;\n    }\n\n    .dataframe tbody tr th {\n        vertical-align: top;\n    }\n\n    .dataframe thead th {\n        text-align: right;\n    }\n</style>\n<table border=\"1\" class=\"dataframe\">\n  <thead>\n    <tr style=\"text-align: right;\">\n      <th></th>\n      <th>User-ID</th>\n      <th>ISBN</th>\n      <th>Book-Title</th>\n    </tr>\n  </thead>\n  <tbody>\n    <tr>\n      <th>0</th>\n      <td>2</td>\n      <td>1558535969</td>\n      <td>How To Be A Gentleman : A Contemporary Guide t...</td>\n    </tr>\n    <tr>\n      <th>1</th>\n      <td>2</td>\n      <td>0380809079</td>\n      <td>Hot Stuff : A Brief History of Disco</td>\n    </tr>\n    <tr>\n      <th>2</th>\n      <td>2</td>\n      <td>0060393025</td>\n      <td>The Best Friend's Guide to Planning a Wedding ...</td>\n    </tr>\n    <tr>\n      <th>3</th>\n      <td>2</td>\n      <td>0252068947</td>\n      <td>Mist: A Tragicomic Novel</td>\n    </tr>\n    <tr>\n      <th>4</th>\n      <td>2</td>\n      <td>068485743X</td>\n      <td>The First Five Pages: A Writer's Guide to Stay...</td>\n    </tr>\n    <tr>\n      <th>...</th>\n      <td>...</td>\n      <td>...</td>\n      <td>...</td>\n    </tr>\n    <tr>\n      <th>495</th>\n      <td>129</td>\n      <td>0441003389</td>\n      <td>Freedom's Landing</td>\n    </tr>\n    <tr>\n      <th>496</th>\n      <td>129</td>\n      <td>0345334310</td>\n      <td>The Ship Who Sang</td>\n    </tr>\n    <tr>\n      <th>497</th>\n      <td>129</td>\n      <td>1558747060</td>\n      <td>Chicken Soup for the Single's Soul - 101 Stori...</td>\n    </tr>\n    <tr>\n      <th>498</th>\n      <td>129</td>\n      <td>1558744029</td>\n      <td>Chicken Soup for the Surviving Soul: 101 Heali...</td>\n    </tr>\n    <tr>\n      <th>499</th>\n      <td>129</td>\n      <td>0345424603</td>\n      <td>The Masterharper of Pern (Dragonriders of Pern...</td>\n    </tr>\n  </tbody>\n</table>\n<p>500 rows × 3 columns</p>\n</div>"
     },
     "execution_count": 53,
     "metadata": {},
     "output_type": "execute_result"
    }
   ],
   "source": [
    "recommendations"
   ],
   "metadata": {
    "collapsed": false,
    "ExecuteTime": {
     "end_time": "2024-02-04T15:59:41.878419400Z",
     "start_time": "2024-02-04T15:59:41.868395100Z"
    }
   },
   "id": "d7c70f1d23c7814e",
   "execution_count": 53
  }
 ],
 "metadata": {
  "kernelspec": {
   "display_name": "Python 3",
   "language": "python",
   "name": "python3"
  },
  "language_info": {
   "codemirror_mode": {
    "name": "ipython",
    "version": 2
   },
   "file_extension": ".py",
   "mimetype": "text/x-python",
   "name": "python",
   "nbconvert_exporter": "python",
   "pygments_lexer": "ipython2",
   "version": "2.7.6"
  }
 },
 "nbformat": 4,
 "nbformat_minor": 5
}
