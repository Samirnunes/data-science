{
 "cells": [
  {
   "cell_type": "markdown",
   "source": [
    "# Book Recommendation System"
   ],
   "metadata": {
    "collapsed": false
   },
   "id": "1beaade57f472779"
  },
  {
   "cell_type": "markdown",
   "source": [
    "## Idea\n",
    "We will make a book recommendation system based in the user's last read books. Our final objective is to recommend 10 books for each person. For this, we will first clusterize the books using K-Means algorithm after making PCA (Principal Component Analysis). This will be made by considering some characteristics:\n",
    "\n",
    "- Year of Publication\n",
    "- Mean Age of Readers by Book\n",
    "- Mean Age of Readers by Author\n",
    "- Mean Age of Readers by Publisher\n",
    "- Mean Rating by Book\n",
    "- Mean Rating by Author\n",
    "- Mean Rating by Publisher\n",
    "- Top Location by Book (Count Encoded) - where the book has been more read.\n",
    "- Book Contribution to Top Location - what is the fraction of readings the book contributed to in its top place.\n",
    "- Book Author (Count Encoded)\n",
    "- Publisher (Count Encoded)\n",
    "- Book Appearances (Count encoding of ISBN)\n",
    "\n",
    "Then, we will recommend numbers of books of the clusters which have books the person already read. Using bootstrap, we will select randomly the next read book to consider to select another book from the same cluster as it. This selection will be made using K-Nearest Neighbors: we will calculate nearest neighbors from the same cluster and then select one of them to compose the recommendations - the additional condition is that the book must not have been recommended yet. The number of nearest neighbors will be determined by the length of the already read books, to guarantee that we will have sufficient neighbors to look for a new book to recommend."
   ],
   "metadata": {
    "collapsed": false
   },
   "id": "b2ad1e674c6c12b9"
  },
  {
   "cell_type": "markdown",
   "source": [
    "## Importing Libraries"
   ],
   "metadata": {
    "collapsed": false
   },
   "id": "cf497a5c37035f06"
  },
  {
   "cell_type": "code",
   "outputs": [],
   "source": [
    "import pandas as pd\n",
    "import numpy as np\n",
    "import matplotlib.pyplot as plt\n",
    "import seaborn as sns\n",
    "from category_encoders import CountEncoder\n",
    "from sklearn.preprocessing import StandardScaler\n",
    "from sklearn.decomposition import PCA\n",
    "from sklearn.cluster import KMeans\n",
    "from sklearn.neighbors import NearestNeighbors\n",
    "from tqdm import tqdm"
   ],
   "metadata": {
    "collapsed": false,
    "ExecuteTime": {
     "end_time": "2024-01-30T23:54:52.945707100Z",
     "start_time": "2024-01-30T23:54:52.433976200Z"
    }
   },
   "id": "b89dca4f5e90b10a",
   "execution_count": 159
  },
  {
   "cell_type": "markdown",
   "source": [
    "## Importing Data"
   ],
   "metadata": {
    "collapsed": false
   },
   "id": "3405ab0315d2f3ab"
  },
  {
   "cell_type": "code",
   "outputs": [],
   "source": [
    "books = pd.read_csv(\"data/books.csv\", sep=\";\", encoding=\"latin-1\", low_memory=False, on_bad_lines='skip').drop([\"Image-URL-S\", \"Image-URL-M\", \"Image-URL-L\"], axis=1)\n",
    "ratings = pd.read_csv(\"data/ratings.csv\", sep=\";\", encoding=\"latin-1\", low_memory=False, on_bad_lines='skip')\n",
    "users = pd.read_csv(\"data/users.csv\", sep=\";\", encoding=\"latin-1\", low_memory=False, on_bad_lines='skip')"
   ],
   "metadata": {
    "collapsed": false,
    "ExecuteTime": {
     "end_time": "2024-01-30T23:54:55.347158800Z",
     "start_time": "2024-01-30T23:54:52.948667800Z"
    }
   },
   "id": "751d395dd09aa239",
   "execution_count": 160
  },
  {
   "cell_type": "markdown",
   "source": [
    "## Cleaning Data"
   ],
   "metadata": {
    "collapsed": false
   },
   "id": "92f7ff797085259a"
  },
  {
   "cell_type": "code",
   "outputs": [
    {
     "name": "stdout",
     "output_type": "stream",
     "text": [
      "<class 'pandas.core.frame.DataFrame'>\n",
      "RangeIndex: 271360 entries, 0 to 271359\n",
      "Data columns (total 5 columns):\n",
      " #   Column               Non-Null Count   Dtype \n",
      "---  ------               --------------   ----- \n",
      " 0   ISBN                 271360 non-null  object\n",
      " 1   Book-Title           271360 non-null  object\n",
      " 2   Book-Author          271358 non-null  object\n",
      " 3   Year-Of-Publication  271360 non-null  object\n",
      " 4   Publisher            271358 non-null  object\n",
      "dtypes: object(5)\n",
      "memory usage: 10.4+ MB\n"
     ]
    }
   ],
   "source": [
    "books.info()"
   ],
   "metadata": {
    "collapsed": false,
    "ExecuteTime": {
     "end_time": "2024-01-30T23:54:55.394178900Z",
     "start_time": "2024-01-30T23:54:55.348155300Z"
    }
   },
   "id": "ad03cc498c853002",
   "execution_count": 161
  },
  {
   "cell_type": "code",
   "outputs": [
    {
     "data": {
      "text/plain": "              ISBN                                         Book-Title  \\\n118033  0751352497                           A+ Quiz Masters:01 Earth   \n187689  9627982032  The Credit Suisse Guide to Managing Your Perso...   \n\n       Book-Author Year-Of-Publication                       Publisher  \n118033         NaN                1999              Dorling Kindersley  \n187689         NaN                1995  Edinburgh Financial Publishing  ",
      "text/html": "<div>\n<style scoped>\n    .dataframe tbody tr th:only-of-type {\n        vertical-align: middle;\n    }\n\n    .dataframe tbody tr th {\n        vertical-align: top;\n    }\n\n    .dataframe thead th {\n        text-align: right;\n    }\n</style>\n<table border=\"1\" class=\"dataframe\">\n  <thead>\n    <tr style=\"text-align: right;\">\n      <th></th>\n      <th>ISBN</th>\n      <th>Book-Title</th>\n      <th>Book-Author</th>\n      <th>Year-Of-Publication</th>\n      <th>Publisher</th>\n    </tr>\n  </thead>\n  <tbody>\n    <tr>\n      <th>118033</th>\n      <td>0751352497</td>\n      <td>A+ Quiz Masters:01 Earth</td>\n      <td>NaN</td>\n      <td>1999</td>\n      <td>Dorling Kindersley</td>\n    </tr>\n    <tr>\n      <th>187689</th>\n      <td>9627982032</td>\n      <td>The Credit Suisse Guide to Managing Your Perso...</td>\n      <td>NaN</td>\n      <td>1995</td>\n      <td>Edinburgh Financial Publishing</td>\n    </tr>\n  </tbody>\n</table>\n</div>"
     },
     "execution_count": 162,
     "metadata": {},
     "output_type": "execute_result"
    }
   ],
   "source": [
    "books[books[\"Book-Author\"].isna()]"
   ],
   "metadata": {
    "collapsed": false,
    "ExecuteTime": {
     "end_time": "2024-01-30T23:54:55.415330400Z",
     "start_time": "2024-01-30T23:54:55.397351100Z"
    }
   },
   "id": "95303afb5d91dd14",
   "execution_count": 162
  },
  {
   "cell_type": "code",
   "outputs": [
    {
     "data": {
      "text/plain": "              ISBN       Book-Title      Book-Author Year-Of-Publication  \\\n128890  193169656X      Tyrant Moon  Elaine Corvidae                2002   \n129037  1931696993  Finders Keepers  Linnea Sinclair                2001   \n\n       Publisher  \n128890       NaN  \n129037       NaN  ",
      "text/html": "<div>\n<style scoped>\n    .dataframe tbody tr th:only-of-type {\n        vertical-align: middle;\n    }\n\n    .dataframe tbody tr th {\n        vertical-align: top;\n    }\n\n    .dataframe thead th {\n        text-align: right;\n    }\n</style>\n<table border=\"1\" class=\"dataframe\">\n  <thead>\n    <tr style=\"text-align: right;\">\n      <th></th>\n      <th>ISBN</th>\n      <th>Book-Title</th>\n      <th>Book-Author</th>\n      <th>Year-Of-Publication</th>\n      <th>Publisher</th>\n    </tr>\n  </thead>\n  <tbody>\n    <tr>\n      <th>128890</th>\n      <td>193169656X</td>\n      <td>Tyrant Moon</td>\n      <td>Elaine Corvidae</td>\n      <td>2002</td>\n      <td>NaN</td>\n    </tr>\n    <tr>\n      <th>129037</th>\n      <td>1931696993</td>\n      <td>Finders Keepers</td>\n      <td>Linnea Sinclair</td>\n      <td>2001</td>\n      <td>NaN</td>\n    </tr>\n  </tbody>\n</table>\n</div>"
     },
     "execution_count": 163,
     "metadata": {},
     "output_type": "execute_result"
    }
   ],
   "source": [
    "books[books[\"Publisher\"].isna()]"
   ],
   "metadata": {
    "collapsed": false,
    "ExecuteTime": {
     "end_time": "2024-01-30T23:54:55.451357700Z",
     "start_time": "2024-01-30T23:54:55.417324600Z"
    }
   },
   "id": "f7874ac8dd81a494",
   "execution_count": 163
  },
  {
   "cell_type": "code",
   "outputs": [],
   "source": [
    "books = books.dropna()"
   ],
   "metadata": {
    "collapsed": false,
    "ExecuteTime": {
     "end_time": "2024-01-30T23:54:55.590505900Z",
     "start_time": "2024-01-30T23:54:55.432796300Z"
    }
   },
   "id": "dd1ada86491f0815",
   "execution_count": 164
  },
  {
   "cell_type": "markdown",
   "source": [
    "---"
   ],
   "metadata": {
    "collapsed": false
   },
   "id": "86bd5282051ea836"
  },
  {
   "cell_type": "code",
   "outputs": [
    {
     "name": "stdout",
     "output_type": "stream",
     "text": [
      "<class 'pandas.core.frame.DataFrame'>\n",
      "RangeIndex: 1149780 entries, 0 to 1149779\n",
      "Data columns (total 3 columns):\n",
      " #   Column       Non-Null Count    Dtype \n",
      "---  ------       --------------    ----- \n",
      " 0   User-ID      1149780 non-null  int64 \n",
      " 1   ISBN         1149780 non-null  object\n",
      " 2   Book-Rating  1149780 non-null  int64 \n",
      "dtypes: int64(2), object(1)\n",
      "memory usage: 26.3+ MB\n"
     ]
    }
   ],
   "source": [
    "ratings.info()"
   ],
   "metadata": {
    "collapsed": false,
    "ExecuteTime": {
     "end_time": "2024-01-30T23:54:55.691765300Z",
     "start_time": "2024-01-30T23:54:55.506879400Z"
    }
   },
   "id": "fdddd40934b18765",
   "execution_count": 165
  },
  {
   "cell_type": "markdown",
   "source": [
    "---"
   ],
   "metadata": {
    "collapsed": false
   },
   "id": "2915869f669c74f8"
  },
  {
   "cell_type": "code",
   "outputs": [
    {
     "name": "stdout",
     "output_type": "stream",
     "text": [
      "<class 'pandas.core.frame.DataFrame'>\n",
      "RangeIndex: 278858 entries, 0 to 278857\n",
      "Data columns (total 3 columns):\n",
      " #   Column    Non-Null Count   Dtype  \n",
      "---  ------    --------------   -----  \n",
      " 0   User-ID   278858 non-null  int64  \n",
      " 1   Location  278858 non-null  object \n",
      " 2   Age       168096 non-null  float64\n",
      "dtypes: float64(1), int64(1), object(1)\n",
      "memory usage: 6.4+ MB\n"
     ]
    }
   ],
   "source": [
    "users.info()"
   ],
   "metadata": {
    "collapsed": false,
    "ExecuteTime": {
     "end_time": "2024-01-30T23:54:55.711154500Z",
     "start_time": "2024-01-30T23:54:55.587512800Z"
    }
   },
   "id": "e065f17d67730d01",
   "execution_count": 166
  },
  {
   "cell_type": "code",
   "outputs": [
    {
     "data": {
      "text/plain": "            User-ID            Age\ncount  278858.00000  168096.000000\nmean   139429.50000      34.751434\nstd     80499.51502      14.428097\nmin         1.00000       0.000000\n25%     69715.25000      24.000000\n50%    139429.50000      32.000000\n75%    209143.75000      44.000000\nmax    278858.00000     244.000000",
      "text/html": "<div>\n<style scoped>\n    .dataframe tbody tr th:only-of-type {\n        vertical-align: middle;\n    }\n\n    .dataframe tbody tr th {\n        vertical-align: top;\n    }\n\n    .dataframe thead th {\n        text-align: right;\n    }\n</style>\n<table border=\"1\" class=\"dataframe\">\n  <thead>\n    <tr style=\"text-align: right;\">\n      <th></th>\n      <th>User-ID</th>\n      <th>Age</th>\n    </tr>\n  </thead>\n  <tbody>\n    <tr>\n      <th>count</th>\n      <td>278858.00000</td>\n      <td>168096.000000</td>\n    </tr>\n    <tr>\n      <th>mean</th>\n      <td>139429.50000</td>\n      <td>34.751434</td>\n    </tr>\n    <tr>\n      <th>std</th>\n      <td>80499.51502</td>\n      <td>14.428097</td>\n    </tr>\n    <tr>\n      <th>min</th>\n      <td>1.00000</td>\n      <td>0.000000</td>\n    </tr>\n    <tr>\n      <th>25%</th>\n      <td>69715.25000</td>\n      <td>24.000000</td>\n    </tr>\n    <tr>\n      <th>50%</th>\n      <td>139429.50000</td>\n      <td>32.000000</td>\n    </tr>\n    <tr>\n      <th>75%</th>\n      <td>209143.75000</td>\n      <td>44.000000</td>\n    </tr>\n    <tr>\n      <th>max</th>\n      <td>278858.00000</td>\n      <td>244.000000</td>\n    </tr>\n  </tbody>\n</table>\n</div>"
     },
     "execution_count": 167,
     "metadata": {},
     "output_type": "execute_result"
    }
   ],
   "source": [
    "users.describe()"
   ],
   "metadata": {
    "collapsed": false,
    "ExecuteTime": {
     "end_time": "2024-01-30T23:54:55.779481700Z",
     "start_time": "2024-01-30T23:54:55.610342100Z"
    }
   },
   "id": "1ef3128bc3b7b5a2",
   "execution_count": 167
  },
  {
   "cell_type": "code",
   "outputs": [],
   "source": [
    "users[\"Age\"] = users[\"Age\"].fillna(users[\"Age\"].median())"
   ],
   "metadata": {
    "collapsed": false,
    "ExecuteTime": {
     "end_time": "2024-01-30T23:54:55.781475700Z",
     "start_time": "2024-01-30T23:54:55.660933400Z"
    }
   },
   "id": "da192591e1d917ff",
   "execution_count": 168
  },
  {
   "cell_type": "markdown",
   "source": [
    "---"
   ],
   "metadata": {
    "collapsed": false
   },
   "id": "d03ff4a1ba848b62"
  },
  {
   "cell_type": "code",
   "outputs": [
    {
     "data": {
      "text/plain": "              ISBN                                         Book-Title  \\\n0       0195153448                                Classical Mythology   \n1       0002005018                                       Clara Callan   \n2       0060973129                               Decision in Normandy   \n3       0374157065  Flu: The Story of the Great Influenza Pandemic...   \n4       0393045218                             The Mummies of Urumchi   \n...            ...                                                ...   \n271355  0440400988                         There's a Bat in Bunk Five   \n271356  0525447644                            From One to One Hundred   \n271357  006008667X  Lily Dale : The True Story of the Town that Ta...   \n271358  0192126040                        Republic (World's Classics)   \n271359  0767409752  A Guided Tour of Rene Descartes' Meditations o...   \n\n                 Book-Author Year-Of-Publication  \\\n0         Mark P. O. Morford                2002   \n1       Richard Bruce Wright                2001   \n2               Carlo D'Este                1991   \n3           Gina Bari Kolata                1999   \n4            E. J. W. Barber                1999   \n...                      ...                 ...   \n271355        Paula Danziger                1988   \n271356            Teri Sloat                1991   \n271357      Christine Wicker                2004   \n271358                 Plato                1996   \n271359   Christopher  Biffle                2000   \n\n                                               Publisher  \n0                                Oxford University Press  \n1                                  HarperFlamingo Canada  \n2                                        HarperPerennial  \n3                                   Farrar Straus Giroux  \n4                             W. W. Norton &amp; Company  \n...                                                  ...  \n271355                   Random House Childrens Pub (Mm)  \n271356                                      Dutton Books  \n271357                                HarperSanFrancisco  \n271358                           Oxford University Press  \n271359  McGraw-Hill Humanities/Social Sciences/Languages  \n\n[271356 rows x 5 columns]",
      "text/html": "<div>\n<style scoped>\n    .dataframe tbody tr th:only-of-type {\n        vertical-align: middle;\n    }\n\n    .dataframe tbody tr th {\n        vertical-align: top;\n    }\n\n    .dataframe thead th {\n        text-align: right;\n    }\n</style>\n<table border=\"1\" class=\"dataframe\">\n  <thead>\n    <tr style=\"text-align: right;\">\n      <th></th>\n      <th>ISBN</th>\n      <th>Book-Title</th>\n      <th>Book-Author</th>\n      <th>Year-Of-Publication</th>\n      <th>Publisher</th>\n    </tr>\n  </thead>\n  <tbody>\n    <tr>\n      <th>0</th>\n      <td>0195153448</td>\n      <td>Classical Mythology</td>\n      <td>Mark P. O. Morford</td>\n      <td>2002</td>\n      <td>Oxford University Press</td>\n    </tr>\n    <tr>\n      <th>1</th>\n      <td>0002005018</td>\n      <td>Clara Callan</td>\n      <td>Richard Bruce Wright</td>\n      <td>2001</td>\n      <td>HarperFlamingo Canada</td>\n    </tr>\n    <tr>\n      <th>2</th>\n      <td>0060973129</td>\n      <td>Decision in Normandy</td>\n      <td>Carlo D'Este</td>\n      <td>1991</td>\n      <td>HarperPerennial</td>\n    </tr>\n    <tr>\n      <th>3</th>\n      <td>0374157065</td>\n      <td>Flu: The Story of the Great Influenza Pandemic...</td>\n      <td>Gina Bari Kolata</td>\n      <td>1999</td>\n      <td>Farrar Straus Giroux</td>\n    </tr>\n    <tr>\n      <th>4</th>\n      <td>0393045218</td>\n      <td>The Mummies of Urumchi</td>\n      <td>E. J. W. Barber</td>\n      <td>1999</td>\n      <td>W. W. Norton &amp;amp; Company</td>\n    </tr>\n    <tr>\n      <th>...</th>\n      <td>...</td>\n      <td>...</td>\n      <td>...</td>\n      <td>...</td>\n      <td>...</td>\n    </tr>\n    <tr>\n      <th>271355</th>\n      <td>0440400988</td>\n      <td>There's a Bat in Bunk Five</td>\n      <td>Paula Danziger</td>\n      <td>1988</td>\n      <td>Random House Childrens Pub (Mm)</td>\n    </tr>\n    <tr>\n      <th>271356</th>\n      <td>0525447644</td>\n      <td>From One to One Hundred</td>\n      <td>Teri Sloat</td>\n      <td>1991</td>\n      <td>Dutton Books</td>\n    </tr>\n    <tr>\n      <th>271357</th>\n      <td>006008667X</td>\n      <td>Lily Dale : The True Story of the Town that Ta...</td>\n      <td>Christine Wicker</td>\n      <td>2004</td>\n      <td>HarperSanFrancisco</td>\n    </tr>\n    <tr>\n      <th>271358</th>\n      <td>0192126040</td>\n      <td>Republic (World's Classics)</td>\n      <td>Plato</td>\n      <td>1996</td>\n      <td>Oxford University Press</td>\n    </tr>\n    <tr>\n      <th>271359</th>\n      <td>0767409752</td>\n      <td>A Guided Tour of Rene Descartes' Meditations o...</td>\n      <td>Christopher  Biffle</td>\n      <td>2000</td>\n      <td>McGraw-Hill Humanities/Social Sciences/Languages</td>\n    </tr>\n  </tbody>\n</table>\n<p>271356 rows × 5 columns</p>\n</div>"
     },
     "execution_count": 169,
     "metadata": {},
     "output_type": "execute_result"
    }
   ],
   "source": [
    "books"
   ],
   "metadata": {
    "collapsed": false,
    "ExecuteTime": {
     "end_time": "2024-01-30T23:54:55.808339600Z",
     "start_time": "2024-01-30T23:54:55.678527800Z"
    }
   },
   "id": "c9a71a0b9bf45dd9",
   "execution_count": 169
  },
  {
   "cell_type": "code",
   "outputs": [
    {
     "data": {
      "text/plain": "   User-ID        ISBN  Book-Rating\n0   276725  034545104X            0\n1   276726  0155061224            5\n2   276727  0446520802            0\n3   276729  052165615X            3\n4   276729  0521795028            6",
      "text/html": "<div>\n<style scoped>\n    .dataframe tbody tr th:only-of-type {\n        vertical-align: middle;\n    }\n\n    .dataframe tbody tr th {\n        vertical-align: top;\n    }\n\n    .dataframe thead th {\n        text-align: right;\n    }\n</style>\n<table border=\"1\" class=\"dataframe\">\n  <thead>\n    <tr style=\"text-align: right;\">\n      <th></th>\n      <th>User-ID</th>\n      <th>ISBN</th>\n      <th>Book-Rating</th>\n    </tr>\n  </thead>\n  <tbody>\n    <tr>\n      <th>0</th>\n      <td>276725</td>\n      <td>034545104X</td>\n      <td>0</td>\n    </tr>\n    <tr>\n      <th>1</th>\n      <td>276726</td>\n      <td>0155061224</td>\n      <td>5</td>\n    </tr>\n    <tr>\n      <th>2</th>\n      <td>276727</td>\n      <td>0446520802</td>\n      <td>0</td>\n    </tr>\n    <tr>\n      <th>3</th>\n      <td>276729</td>\n      <td>052165615X</td>\n      <td>3</td>\n    </tr>\n    <tr>\n      <th>4</th>\n      <td>276729</td>\n      <td>0521795028</td>\n      <td>6</td>\n    </tr>\n  </tbody>\n</table>\n</div>"
     },
     "execution_count": 170,
     "metadata": {},
     "output_type": "execute_result"
    }
   ],
   "source": [
    "ratings.head()"
   ],
   "metadata": {
    "collapsed": false,
    "ExecuteTime": {
     "end_time": "2024-01-30T23:54:55.823299800Z",
     "start_time": "2024-01-30T23:54:55.693759200Z"
    }
   },
   "id": "d1587210fa59b36a",
   "execution_count": 170
  },
  {
   "cell_type": "code",
   "outputs": [
    {
     "data": {
      "text/plain": "   User-ID                            Location   Age\n0        1                  nyc, new york, usa  32.0\n1        2           stockton, california, usa  18.0\n2        3     moscow, yukon territory, russia  32.0\n3        4           porto, v.n.gaia, portugal  17.0\n4        5  farnborough, hants, united kingdom  32.0",
      "text/html": "<div>\n<style scoped>\n    .dataframe tbody tr th:only-of-type {\n        vertical-align: middle;\n    }\n\n    .dataframe tbody tr th {\n        vertical-align: top;\n    }\n\n    .dataframe thead th {\n        text-align: right;\n    }\n</style>\n<table border=\"1\" class=\"dataframe\">\n  <thead>\n    <tr style=\"text-align: right;\">\n      <th></th>\n      <th>User-ID</th>\n      <th>Location</th>\n      <th>Age</th>\n    </tr>\n  </thead>\n  <tbody>\n    <tr>\n      <th>0</th>\n      <td>1</td>\n      <td>nyc, new york, usa</td>\n      <td>32.0</td>\n    </tr>\n    <tr>\n      <th>1</th>\n      <td>2</td>\n      <td>stockton, california, usa</td>\n      <td>18.0</td>\n    </tr>\n    <tr>\n      <th>2</th>\n      <td>3</td>\n      <td>moscow, yukon territory, russia</td>\n      <td>32.0</td>\n    </tr>\n    <tr>\n      <th>3</th>\n      <td>4</td>\n      <td>porto, v.n.gaia, portugal</td>\n      <td>17.0</td>\n    </tr>\n    <tr>\n      <th>4</th>\n      <td>5</td>\n      <td>farnborough, hants, united kingdom</td>\n      <td>32.0</td>\n    </tr>\n  </tbody>\n</table>\n</div>"
     },
     "execution_count": 171,
     "metadata": {},
     "output_type": "execute_result"
    }
   ],
   "source": [
    "users.head()"
   ],
   "metadata": {
    "collapsed": false,
    "ExecuteTime": {
     "end_time": "2024-01-30T23:54:55.832546400Z",
     "start_time": "2024-01-30T23:54:55.700571900Z"
    }
   },
   "id": "2c2844910020542b",
   "execution_count": 171
  },
  {
   "cell_type": "markdown",
   "source": [
    "## Merging Dataframes"
   ],
   "metadata": {
    "collapsed": false
   },
   "id": "fdbf496dea6aa31"
  },
  {
   "cell_type": "code",
   "outputs": [],
   "source": [
    "users_ratings = pd.merge(users, ratings, on=\"User-ID\", how=\"inner\")\n",
    "books_users_ratings = pd.merge(books, users_ratings, on=\"ISBN\", how=\"inner\")\n",
    "df = books_users_ratings.copy()\n",
    "df_users = books_users_ratings.copy()"
   ],
   "metadata": {
    "collapsed": false,
    "ExecuteTime": {
     "end_time": "2024-01-30T23:54:57.074610300Z",
     "start_time": "2024-01-30T23:54:55.710156700Z"
    }
   },
   "id": "ddb529ff87010356",
   "execution_count": 172
  },
  {
   "cell_type": "code",
   "outputs": [
    {
     "data": {
      "text/plain": "         ISBN           Book-Title           Book-Author Year-Of-Publication  \\\n0  0195153448  Classical Mythology    Mark P. O. Morford                2002   \n1  0002005018         Clara Callan  Richard Bruce Wright                2001   \n2  0002005018         Clara Callan  Richard Bruce Wright                2001   \n3  0002005018         Clara Callan  Richard Bruce Wright                2001   \n4  0002005018         Clara Callan  Richard Bruce Wright                2001   \n\n                 Publisher  User-ID                   Location   Age  \\\n0  Oxford University Press        2  stockton, california, usa  18.0   \n1    HarperFlamingo Canada        8   timmins, ontario, canada  32.0   \n2    HarperFlamingo Canada    11400    ottawa, ontario, canada  49.0   \n3    HarperFlamingo Canada    11676              n/a, n/a, n/a  32.0   \n4    HarperFlamingo Canada    41385   sudbury, ontario, canada  32.0   \n\n   Book-Rating  \n0            0  \n1            5  \n2            0  \n3            8  \n4            0  ",
      "text/html": "<div>\n<style scoped>\n    .dataframe tbody tr th:only-of-type {\n        vertical-align: middle;\n    }\n\n    .dataframe tbody tr th {\n        vertical-align: top;\n    }\n\n    .dataframe thead th {\n        text-align: right;\n    }\n</style>\n<table border=\"1\" class=\"dataframe\">\n  <thead>\n    <tr style=\"text-align: right;\">\n      <th></th>\n      <th>ISBN</th>\n      <th>Book-Title</th>\n      <th>Book-Author</th>\n      <th>Year-Of-Publication</th>\n      <th>Publisher</th>\n      <th>User-ID</th>\n      <th>Location</th>\n      <th>Age</th>\n      <th>Book-Rating</th>\n    </tr>\n  </thead>\n  <tbody>\n    <tr>\n      <th>0</th>\n      <td>0195153448</td>\n      <td>Classical Mythology</td>\n      <td>Mark P. O. Morford</td>\n      <td>2002</td>\n      <td>Oxford University Press</td>\n      <td>2</td>\n      <td>stockton, california, usa</td>\n      <td>18.0</td>\n      <td>0</td>\n    </tr>\n    <tr>\n      <th>1</th>\n      <td>0002005018</td>\n      <td>Clara Callan</td>\n      <td>Richard Bruce Wright</td>\n      <td>2001</td>\n      <td>HarperFlamingo Canada</td>\n      <td>8</td>\n      <td>timmins, ontario, canada</td>\n      <td>32.0</td>\n      <td>5</td>\n    </tr>\n    <tr>\n      <th>2</th>\n      <td>0002005018</td>\n      <td>Clara Callan</td>\n      <td>Richard Bruce Wright</td>\n      <td>2001</td>\n      <td>HarperFlamingo Canada</td>\n      <td>11400</td>\n      <td>ottawa, ontario, canada</td>\n      <td>49.0</td>\n      <td>0</td>\n    </tr>\n    <tr>\n      <th>3</th>\n      <td>0002005018</td>\n      <td>Clara Callan</td>\n      <td>Richard Bruce Wright</td>\n      <td>2001</td>\n      <td>HarperFlamingo Canada</td>\n      <td>11676</td>\n      <td>n/a, n/a, n/a</td>\n      <td>32.0</td>\n      <td>8</td>\n    </tr>\n    <tr>\n      <th>4</th>\n      <td>0002005018</td>\n      <td>Clara Callan</td>\n      <td>Richard Bruce Wright</td>\n      <td>2001</td>\n      <td>HarperFlamingo Canada</td>\n      <td>41385</td>\n      <td>sudbury, ontario, canada</td>\n      <td>32.0</td>\n      <td>0</td>\n    </tr>\n  </tbody>\n</table>\n</div>"
     },
     "execution_count": 173,
     "metadata": {},
     "output_type": "execute_result"
    }
   ],
   "source": [
    "df.head()"
   ],
   "metadata": {
    "collapsed": false,
    "ExecuteTime": {
     "end_time": "2024-01-30T23:54:57.088607500Z",
     "start_time": "2024-01-30T23:54:57.070257300Z"
    }
   },
   "id": "58629d12d36905a2",
   "execution_count": 173
  },
  {
   "cell_type": "markdown",
   "source": [
    "---"
   ],
   "metadata": {
    "collapsed": false
   },
   "id": "e9390eeb8d83f370"
  },
  {
   "cell_type": "markdown",
   "source": [
    "## Data Preprocessing"
   ],
   "metadata": {
    "collapsed": false
   },
   "id": "ec13bfdb8cb9ca55"
  },
  {
   "cell_type": "code",
   "outputs": [
    {
     "name": "stdout",
     "output_type": "stream",
     "text": [
      "<class 'pandas.core.frame.DataFrame'>\n",
      "RangeIndex: 1031132 entries, 0 to 1031131\n",
      "Data columns (total 9 columns):\n",
      " #   Column               Non-Null Count    Dtype  \n",
      "---  ------               --------------    -----  \n",
      " 0   ISBN                 1031132 non-null  object \n",
      " 1   Book-Title           1031132 non-null  object \n",
      " 2   Book-Author          1031132 non-null  object \n",
      " 3   Year-Of-Publication  1031132 non-null  object \n",
      " 4   Publisher            1031132 non-null  object \n",
      " 5   User-ID              1031132 non-null  int64  \n",
      " 6   Location             1031132 non-null  object \n",
      " 7   Age                  1031132 non-null  float64\n",
      " 8   Book-Rating          1031132 non-null  int64  \n",
      "dtypes: float64(1), int64(2), object(6)\n",
      "memory usage: 70.8+ MB\n"
     ]
    }
   ],
   "source": [
    "df.info()"
   ],
   "metadata": {
    "collapsed": false,
    "ExecuteTime": {
     "end_time": "2024-01-30T23:54:57.287715400Z",
     "start_time": "2024-01-30T23:54:57.085582800Z"
    }
   },
   "id": "b3db7a6cf99ea8c3",
   "execution_count": 174
  },
  {
   "cell_type": "code",
   "outputs": [
    {
     "data": {
      "text/plain": "            User-ID           Age   Book-Rating\ncount  1.031132e+06  1.031132e+06  1.031132e+06\nmean   1.405947e+05  3.594326e+01  2.839027e+00\nstd    8.052475e+04  1.228578e+01  3.854145e+00\nmin    2.000000e+00  0.000000e+00  0.000000e+00\n25%    7.041500e+04  3.100000e+01  0.000000e+00\n50%    1.412100e+05  3.200000e+01  0.000000e+00\n75%    2.114260e+05  4.100000e+01  7.000000e+00\nmax    2.788540e+05  2.440000e+02  1.000000e+01",
      "text/html": "<div>\n<style scoped>\n    .dataframe tbody tr th:only-of-type {\n        vertical-align: middle;\n    }\n\n    .dataframe tbody tr th {\n        vertical-align: top;\n    }\n\n    .dataframe thead th {\n        text-align: right;\n    }\n</style>\n<table border=\"1\" class=\"dataframe\">\n  <thead>\n    <tr style=\"text-align: right;\">\n      <th></th>\n      <th>User-ID</th>\n      <th>Age</th>\n      <th>Book-Rating</th>\n    </tr>\n  </thead>\n  <tbody>\n    <tr>\n      <th>count</th>\n      <td>1.031132e+06</td>\n      <td>1.031132e+06</td>\n      <td>1.031132e+06</td>\n    </tr>\n    <tr>\n      <th>mean</th>\n      <td>1.405947e+05</td>\n      <td>3.594326e+01</td>\n      <td>2.839027e+00</td>\n    </tr>\n    <tr>\n      <th>std</th>\n      <td>8.052475e+04</td>\n      <td>1.228578e+01</td>\n      <td>3.854145e+00</td>\n    </tr>\n    <tr>\n      <th>min</th>\n      <td>2.000000e+00</td>\n      <td>0.000000e+00</td>\n      <td>0.000000e+00</td>\n    </tr>\n    <tr>\n      <th>25%</th>\n      <td>7.041500e+04</td>\n      <td>3.100000e+01</td>\n      <td>0.000000e+00</td>\n    </tr>\n    <tr>\n      <th>50%</th>\n      <td>1.412100e+05</td>\n      <td>3.200000e+01</td>\n      <td>0.000000e+00</td>\n    </tr>\n    <tr>\n      <th>75%</th>\n      <td>2.114260e+05</td>\n      <td>4.100000e+01</td>\n      <td>7.000000e+00</td>\n    </tr>\n    <tr>\n      <th>max</th>\n      <td>2.788540e+05</td>\n      <td>2.440000e+02</td>\n      <td>1.000000e+01</td>\n    </tr>\n  </tbody>\n</table>\n</div>"
     },
     "execution_count": 175,
     "metadata": {},
     "output_type": "execute_result"
    }
   ],
   "source": [
    "df.describe()"
   ],
   "metadata": {
    "collapsed": false,
    "ExecuteTime": {
     "end_time": "2024-01-30T23:54:57.413317500Z",
     "start_time": "2024-01-30T23:54:57.285721600Z"
    }
   },
   "id": "ce3dcb0a186b0cb4",
   "execution_count": 175
  },
  {
   "cell_type": "markdown",
   "source": [
    "### Dropping Strange Ages"
   ],
   "metadata": {
    "collapsed": false
   },
   "id": "a5352deeefe568c9"
  },
  {
   "cell_type": "markdown",
   "source": [
    "Some years are greater than 100 (some are even greater than 200, which is worse). So, we will limit the user age to be less than 100."
   ],
   "metadata": {
    "collapsed": false
   },
   "id": "181396ac158279c6"
  },
  {
   "cell_type": "code",
   "outputs": [],
   "source": [
    "df = df[df[\"Age\"] < 100]"
   ],
   "metadata": {
    "collapsed": false,
    "ExecuteTime": {
     "end_time": "2024-01-30T23:54:57.523094500Z",
     "start_time": "2024-01-30T23:54:57.414314500Z"
    }
   },
   "id": "21cf8e2e38a0ed50",
   "execution_count": 176
  },
  {
   "cell_type": "markdown",
   "source": [
    "### Dropping Strange Years Of Publication and Converting to Int"
   ],
   "metadata": {
    "collapsed": false
   },
   "id": "63ccdce283bf4834"
  },
  {
   "cell_type": "markdown",
   "source": [
    "Some years of publication are not numerical. Besides, some of them are greater than 2004, which is really strange, since the data was collected in 2004."
   ],
   "metadata": {
    "collapsed": false
   },
   "id": "bdd846c1caf82756"
  },
  {
   "cell_type": "code",
   "outputs": [],
   "source": [
    "df = df[df[\"Year-Of-Publication\"].str.isnumeric()]\n",
    "df[\"Year-Of-Publication\"] = df[\"Year-Of-Publication\"].apply(lambda x: int(x))\n",
    "df = df[df[\"Year-Of-Publication\"] <= 2004]"
   ],
   "metadata": {
    "collapsed": false,
    "ExecuteTime": {
     "end_time": "2024-01-30T23:54:58.532904300Z",
     "start_time": "2024-01-30T23:54:57.487076800Z"
    }
   },
   "id": "ec49db62a3e434ce",
   "execution_count": 177
  },
  {
   "cell_type": "markdown",
   "source": [
    "### Mean Ages and Ratings"
   ],
   "metadata": {
    "collapsed": false
   },
   "id": "2836e9691cddf848"
  },
  {
   "cell_type": "markdown",
   "source": [
    "Now, we will start getting our features."
   ],
   "metadata": {
    "collapsed": false
   },
   "id": "69ebb4147faaf291"
  },
  {
   "cell_type": "code",
   "outputs": [],
   "source": [
    "mean_age_by_book = df.groupby(\"Book-Title\")[\"Age\"].mean().rename(\"Mean-Age-By-Book\")\n",
    "df = pd.merge(df, mean_age_by_book, on=\"Book-Title\", how=\"inner\")"
   ],
   "metadata": {
    "collapsed": false,
    "ExecuteTime": {
     "end_time": "2024-01-30T23:54:59.607465500Z",
     "start_time": "2024-01-30T23:54:58.532904300Z"
    }
   },
   "id": "a991f0e78e548c4b",
   "execution_count": 178
  },
  {
   "cell_type": "code",
   "outputs": [],
   "source": [
    "mean_age_by_author = df.groupby(\"Book-Author\")[\"Age\"].mean().rename(\"Mean-Age-By-Author\")\n",
    "df = pd.merge(df, mean_age_by_author, on=\"Book-Author\", how=\"inner\")"
   ],
   "metadata": {
    "collapsed": false,
    "ExecuteTime": {
     "end_time": "2024-01-30T23:55:00.202972800Z",
     "start_time": "2024-01-30T23:54:59.609461Z"
    }
   },
   "id": "9c19e629eda92599",
   "execution_count": 179
  },
  {
   "cell_type": "code",
   "outputs": [],
   "source": [
    "mean_age_by_publisher = df.groupby(\"Publisher\")[\"Age\"].mean().rename(\"Mean-Age-By-Publisher\")\n",
    "df = pd.merge(df, mean_age_by_publisher, on=\"Publisher\", how=\"inner\")"
   ],
   "metadata": {
    "collapsed": false,
    "ExecuteTime": {
     "end_time": "2024-01-30T23:55:00.676641700Z",
     "start_time": "2024-01-30T23:55:00.200783500Z"
    }
   },
   "id": "2abe7f34b5dbb034",
   "execution_count": 180
  },
  {
   "cell_type": "code",
   "outputs": [],
   "source": [
    "mean_rating_by_book = df.groupby(\"Book-Title\")[\"Book-Rating\"].mean().rename(\"Mean-Rating-By-Book\")\n",
    "df = pd.merge(df, mean_rating_by_book, on=\"Book-Title\", how=\"inner\")"
   ],
   "metadata": {
    "collapsed": false,
    "ExecuteTime": {
     "end_time": "2024-01-30T23:55:01.757971400Z",
     "start_time": "2024-01-30T23:55:00.678778800Z"
    }
   },
   "id": "ad28d27518d1594d",
   "execution_count": 181
  },
  {
   "cell_type": "code",
   "outputs": [],
   "source": [
    "mean_rating_by_author = df.groupby(\"Book-Author\")[\"Book-Rating\"].mean().rename(\"Mean-Rating-By-Author\")\n",
    "df = pd.merge(df, mean_rating_by_author, on=\"Book-Author\", how=\"inner\")"
   ],
   "metadata": {
    "collapsed": false,
    "ExecuteTime": {
     "end_time": "2024-01-30T23:55:02.448354900Z",
     "start_time": "2024-01-30T23:55:01.800570300Z"
    }
   },
   "id": "2d9f88b7c7c16021",
   "execution_count": 182
  },
  {
   "cell_type": "code",
   "outputs": [],
   "source": [
    "mean_rating_by_publisher = df.groupby(\"Publisher\")[\"Book-Rating\"].mean().rename(\"Mean-Rating-By-Publisher\")\n",
    "df = pd.merge(df, mean_rating_by_publisher, on=\"Publisher\", how=\"inner\")"
   ],
   "metadata": {
    "collapsed": false,
    "ExecuteTime": {
     "end_time": "2024-01-30T23:55:02.941112800Z",
     "start_time": "2024-01-30T23:55:02.477775900Z"
    }
   },
   "id": "fcce27141bbd1133",
   "execution_count": 183
  },
  {
   "cell_type": "code",
   "outputs": [],
   "source": [
    "df = df.drop([\"Age\", \"Book-Rating\", \"User-ID\"], axis=1)"
   ],
   "metadata": {
    "collapsed": false,
    "ExecuteTime": {
     "end_time": "2024-01-30T23:55:03.044241400Z",
     "start_time": "2024-01-30T23:55:02.995833600Z"
    }
   },
   "id": "e320003b247f8b8d",
   "execution_count": 184
  },
  {
   "cell_type": "markdown",
   "source": [
    "### Top Location By Book"
   ],
   "metadata": {
    "collapsed": false
   },
   "id": "e53720030549f29"
  },
  {
   "cell_type": "code",
   "outputs": [],
   "source": [
    "location_count_by_book = df.groupby([\"ISBN\", \"Location\"]).size().reset_index(name=\"Readers-Count-In-Top-Location\")\n",
    "top_location_by_book = location_count_by_book.loc[location_count_by_book.groupby(\"ISBN\")[\"Readers-Count-In-Top-Location\"].idxmax()].rename({\"Location\": \"Top-Location-By-Book\"}, axis=1)\n",
    "df = pd.merge(df, top_location_by_book, on=\"ISBN\", how=\"inner\")"
   ],
   "metadata": {
    "collapsed": false,
    "ExecuteTime": {
     "end_time": "2024-01-30T23:55:16.483312100Z",
     "start_time": "2024-01-30T23:55:03.046236600Z"
    }
   },
   "id": "d3a37c99b6e80786",
   "execution_count": 185
  },
  {
   "cell_type": "markdown",
   "source": [
    "### Count Encodings"
   ],
   "metadata": {
    "collapsed": false
   },
   "id": "8e96eea75ee16103"
  },
  {
   "cell_type": "code",
   "outputs": [],
   "source": [
    "location_encoder = CountEncoder()\n",
    "df[\"Location-Encoded\"] = location_encoder.fit_transform(df[\"Location\"])"
   ],
   "metadata": {
    "collapsed": false,
    "ExecuteTime": {
     "end_time": "2024-01-30T23:55:17.385530Z",
     "start_time": "2024-01-30T23:55:16.485306300Z"
    }
   },
   "id": "7fb0b95a1be37868",
   "execution_count": 186
  },
  {
   "cell_type": "code",
   "outputs": [],
   "source": [
    "location_encodings = df.groupby([\"Location\"])[\"Location-Encoded\"].max().rename(\"Top-Location-By-Book-Encoded\")\n",
    "df = df.drop([\"Location-Encoded\"], axis=1)\n",
    "df = pd.merge(df, location_encodings, left_on=\"Top-Location-By-Book\", right_on=\"Location\", how=\"inner\")"
   ],
   "metadata": {
    "collapsed": false,
    "ExecuteTime": {
     "end_time": "2024-01-30T23:55:18.164407600Z",
     "start_time": "2024-01-30T23:55:17.391060800Z"
    }
   },
   "id": "afd6497c131ac670",
   "execution_count": 187
  },
  {
   "cell_type": "code",
   "outputs": [],
   "source": [
    "df = df.drop([\"Location\", \"Top-Location-By-Book\"], axis=1)"
   ],
   "metadata": {
    "collapsed": false,
    "ExecuteTime": {
     "end_time": "2024-01-30T23:55:18.258128400Z",
     "start_time": "2024-01-30T23:55:18.166396500Z"
    }
   },
   "id": "280f113de041081b",
   "execution_count": 188
  },
  {
   "cell_type": "code",
   "outputs": [],
   "source": [
    "author_encoder = CountEncoder()\n",
    "df[\"Book-Author-Encoded\"] = author_encoder.fit_transform(df[\"Book-Author\"])\n",
    "df = df.drop([\"Book-Author\"], axis=1)"
   ],
   "metadata": {
    "collapsed": false,
    "ExecuteTime": {
     "end_time": "2024-01-30T23:55:19.538396900Z",
     "start_time": "2024-01-30T23:55:18.318252300Z"
    }
   },
   "id": "64451bc2b9376ee8",
   "execution_count": 189
  },
  {
   "cell_type": "code",
   "outputs": [],
   "source": [
    "publisher_encoder = CountEncoder()\n",
    "df[\"Publisher-Encoded\"] = publisher_encoder.fit_transform(df[\"Publisher\"])\n",
    "df = df.drop([\"Publisher\"], axis=1)"
   ],
   "metadata": {
    "collapsed": false,
    "ExecuteTime": {
     "end_time": "2024-01-30T23:55:20.358231500Z",
     "start_time": "2024-01-30T23:55:19.540391700Z"
    }
   },
   "id": "3c3c83c7e7f299cb",
   "execution_count": 190
  },
  {
   "cell_type": "markdown",
   "source": [
    "### Book Contribution to Top Location"
   ],
   "metadata": {
    "collapsed": false
   },
   "id": "cadbb94e4bdef0dd"
  },
  {
   "cell_type": "code",
   "outputs": [],
   "source": [
    "df[\"Book-Contribution-To-Top-Location\"] = df[\"Readers-Count-In-Top-Location\"]/df[\"Top-Location-By-Book-Encoded\"]\n",
    "\n",
    "df = df.drop([\"Readers-Count-In-Top-Location\"], axis=1)"
   ],
   "metadata": {
    "collapsed": false,
    "ExecuteTime": {
     "end_time": "2024-01-30T23:55:20.442260800Z",
     "start_time": "2024-01-30T23:55:20.362232100Z"
    }
   },
   "id": "5a9cafb893eb7276",
   "execution_count": 191
  },
  {
   "cell_type": "markdown",
   "source": [
    "### Book Appearances"
   ],
   "metadata": {
    "collapsed": false
   },
   "id": "ab95b4fda1da4b2a"
  },
  {
   "cell_type": "code",
   "outputs": [],
   "source": [
    "isbn_encoder = CountEncoder()\n",
    "df[\"Book-Appearances\"] = isbn_encoder.fit_transform(df[\"ISBN\"])"
   ],
   "metadata": {
    "collapsed": false,
    "ExecuteTime": {
     "end_time": "2024-01-30T23:55:22.403775400Z",
     "start_time": "2024-01-30T23:55:20.444201200Z"
    }
   },
   "id": "674629d062e96f2d",
   "execution_count": 192
  },
  {
   "cell_type": "markdown",
   "source": [
    "### Dropping duplicates"
   ],
   "metadata": {
    "collapsed": false
   },
   "id": "957307639f1794ba"
  },
  {
   "cell_type": "code",
   "outputs": [],
   "source": [
    "df = df.drop_duplicates()"
   ],
   "metadata": {
    "collapsed": false,
    "ExecuteTime": {
     "end_time": "2024-01-30T23:55:23.090869800Z",
     "start_time": "2024-01-30T23:55:22.421788100Z"
    }
   },
   "id": "3aa9d87e844591e4",
   "execution_count": 193
  },
  {
   "cell_type": "code",
   "outputs": [
    {
     "data": {
      "text/plain": "         ISBN                               Book-Title  Year-Of-Publication  \\\n0  0195153448                      Classical Mythology                 2002   \n1  0764500546   Macs for Teachers (For Dummies Series)                 1996   \n2  0060907924  A People's History of the United States                 1980   \n3  0425173305                                 Slackjaw                 2000   \n6  0345391497                        The Demon Awakens                 1997   \n\n   Mean-Age-By-Book  Mean-Age-By-Author  Mean-Age-By-Publisher  \\\n0            24.000           24.000000              34.560567   \n1            28.500           28.500000              36.125796   \n2            52.000           31.305085              37.556155   \n3            32.875           33.357143              36.669553   \n6            32.000           30.411765              36.056426   \n\n   Mean-Rating-By-Book  Mean-Rating-By-Author  Mean-Rating-By-Publisher  \\\n0                3.500               3.500000                  3.497999   \n1                5.000               5.000000                  3.358280   \n2               10.000               3.644068                  2.628631   \n3                4.625               5.071429                  2.430069   \n6                0.000               3.300654                  2.805559   \n\n   Top-Location-By-Book-Encoded  Book-Author-Encoded  Publisher-Encoded  \\\n0                           245                    2               2749   \n1                           245                    2                628   \n2                           245                   59               6678   \n3                           245                   14              28528   \n6                           245                  306              34612   \n\n   Book-Contribution-To-Top-Location  Book-Appearances  \n0                           0.004082                 1  \n1                           0.004082                 1  \n2                           0.004082                 1  \n3                           0.004082                 3  \n6                           0.004082                 1  ",
      "text/html": "<div>\n<style scoped>\n    .dataframe tbody tr th:only-of-type {\n        vertical-align: middle;\n    }\n\n    .dataframe tbody tr th {\n        vertical-align: top;\n    }\n\n    .dataframe thead th {\n        text-align: right;\n    }\n</style>\n<table border=\"1\" class=\"dataframe\">\n  <thead>\n    <tr style=\"text-align: right;\">\n      <th></th>\n      <th>ISBN</th>\n      <th>Book-Title</th>\n      <th>Year-Of-Publication</th>\n      <th>Mean-Age-By-Book</th>\n      <th>Mean-Age-By-Author</th>\n      <th>Mean-Age-By-Publisher</th>\n      <th>Mean-Rating-By-Book</th>\n      <th>Mean-Rating-By-Author</th>\n      <th>Mean-Rating-By-Publisher</th>\n      <th>Top-Location-By-Book-Encoded</th>\n      <th>Book-Author-Encoded</th>\n      <th>Publisher-Encoded</th>\n      <th>Book-Contribution-To-Top-Location</th>\n      <th>Book-Appearances</th>\n    </tr>\n  </thead>\n  <tbody>\n    <tr>\n      <th>0</th>\n      <td>0195153448</td>\n      <td>Classical Mythology</td>\n      <td>2002</td>\n      <td>24.000</td>\n      <td>24.000000</td>\n      <td>34.560567</td>\n      <td>3.500</td>\n      <td>3.500000</td>\n      <td>3.497999</td>\n      <td>245</td>\n      <td>2</td>\n      <td>2749</td>\n      <td>0.004082</td>\n      <td>1</td>\n    </tr>\n    <tr>\n      <th>1</th>\n      <td>0764500546</td>\n      <td>Macs for Teachers (For Dummies Series)</td>\n      <td>1996</td>\n      <td>28.500</td>\n      <td>28.500000</td>\n      <td>36.125796</td>\n      <td>5.000</td>\n      <td>5.000000</td>\n      <td>3.358280</td>\n      <td>245</td>\n      <td>2</td>\n      <td>628</td>\n      <td>0.004082</td>\n      <td>1</td>\n    </tr>\n    <tr>\n      <th>2</th>\n      <td>0060907924</td>\n      <td>A People's History of the United States</td>\n      <td>1980</td>\n      <td>52.000</td>\n      <td>31.305085</td>\n      <td>37.556155</td>\n      <td>10.000</td>\n      <td>3.644068</td>\n      <td>2.628631</td>\n      <td>245</td>\n      <td>59</td>\n      <td>6678</td>\n      <td>0.004082</td>\n      <td>1</td>\n    </tr>\n    <tr>\n      <th>3</th>\n      <td>0425173305</td>\n      <td>Slackjaw</td>\n      <td>2000</td>\n      <td>32.875</td>\n      <td>33.357143</td>\n      <td>36.669553</td>\n      <td>4.625</td>\n      <td>5.071429</td>\n      <td>2.430069</td>\n      <td>245</td>\n      <td>14</td>\n      <td>28528</td>\n      <td>0.004082</td>\n      <td>3</td>\n    </tr>\n    <tr>\n      <th>6</th>\n      <td>0345391497</td>\n      <td>The Demon Awakens</td>\n      <td>1997</td>\n      <td>32.000</td>\n      <td>30.411765</td>\n      <td>36.056426</td>\n      <td>0.000</td>\n      <td>3.300654</td>\n      <td>2.805559</td>\n      <td>245</td>\n      <td>306</td>\n      <td>34612</td>\n      <td>0.004082</td>\n      <td>1</td>\n    </tr>\n  </tbody>\n</table>\n</div>"
     },
     "execution_count": 194,
     "metadata": {},
     "output_type": "execute_result"
    }
   ],
   "source": [
    "df.head()"
   ],
   "metadata": {
    "collapsed": false,
    "ExecuteTime": {
     "end_time": "2024-01-30T23:55:23.107050800Z",
     "start_time": "2024-01-30T23:55:23.092875100Z"
    }
   },
   "id": "99a5583d102a2f6b",
   "execution_count": 194
  },
  {
   "cell_type": "markdown",
   "source": [
    "### Scaling Data"
   ],
   "metadata": {
    "collapsed": false
   },
   "id": "8bb5ca91dcb474f9"
  },
  {
   "cell_type": "markdown",
   "source": [
    "In the future, we will use PCA (Principal Component Analysis). It's necessary to center the data in the origin (although the Sklearn's PCA do it already) to make the PCA algorithm work right. So, we will make a StandardScale. "
   ],
   "metadata": {
    "collapsed": false
   },
   "id": "692a93ee1f3c5d5a"
  },
  {
   "cell_type": "code",
   "outputs": [],
   "source": [
    "X = df.drop([\"ISBN\", 'Book-Title'], axis=1)"
   ],
   "metadata": {
    "collapsed": false,
    "ExecuteTime": {
     "end_time": "2024-01-30T23:55:23.146102100Z",
     "start_time": "2024-01-30T23:55:23.108050100Z"
    }
   },
   "id": "d8800cd10c17dce",
   "execution_count": 195
  },
  {
   "cell_type": "code",
   "outputs": [],
   "source": [
    "scaler = StandardScaler()\n",
    "X = pd.DataFrame(scaler.fit_transform(X), columns=X.columns)"
   ],
   "metadata": {
    "collapsed": false,
    "ExecuteTime": {
     "end_time": "2024-01-30T23:55:23.241815900Z",
     "start_time": "2024-01-30T23:55:23.123352600Z"
    }
   },
   "id": "4893909e72471bc3",
   "execution_count": 196
  },
  {
   "cell_type": "code",
   "outputs": [
    {
     "data": {
      "text/plain": "12"
     },
     "execution_count": 197,
     "metadata": {},
     "output_type": "execute_result"
    }
   ],
   "source": [
    "len(X.columns)"
   ],
   "metadata": {
    "collapsed": false,
    "ExecuteTime": {
     "end_time": "2024-01-30T23:55:23.244809400Z",
     "start_time": "2024-01-30T23:55:23.198818600Z"
    }
   },
   "id": "5e08c22aa2950e7d",
   "execution_count": 197
  },
  {
   "cell_type": "markdown",
   "source": [
    "## Analysing Multicolinearity"
   ],
   "metadata": {
    "collapsed": false
   },
   "id": "e469815397769b70"
  },
  {
   "cell_type": "markdown",
   "source": [
    "The results can be negatively impacted by the multicollinearity of features used in clustering as the correlated feature will carry extra weight on the distance calculation than desired, in the case of K-means. Let's view the correlations matrix:"
   ],
   "metadata": {
    "collapsed": false
   },
   "id": "9eac1f9665dc75e6"
  },
  {
   "cell_type": "code",
   "outputs": [
    {
     "data": {
      "text/plain": "<Axes: >"
     },
     "execution_count": 198,
     "metadata": {},
     "output_type": "execute_result"
    },
    {
     "data": {
      "text/plain": "<Figure size 640x480 with 2 Axes>",
      "image/png": "[encoded data removed]"
     },
     "metadata": {},
     "output_type": "display_data"
    }
   ],
   "source": [
    "sns.heatmap(X.corr().apply(lambda x: round(x,2)), cmap=\"flare\", annot=True)"
   ],
   "metadata": {
    "collapsed": false,
    "ExecuteTime": {
     "end_time": "2024-01-30T23:55:24.155378100Z",
     "start_time": "2024-01-30T23:55:23.206143400Z"
    }
   },
   "id": "cde67d71c5d1bda1",
   "execution_count": 198
  },
  {
   "cell_type": "markdown",
   "source": [
    "## PCA (Principal Component Analysis)"
   ],
   "metadata": {
    "collapsed": false
   },
   "id": "3c47ae0588985946"
  },
  {
   "cell_type": "markdown",
   "source": [
    "PCA is a good way of eliminating multicollinearity while selecting how much of the variance we want to keep. The trade-off is that PCA makes our dataset less interpretable."
   ],
   "metadata": {
    "collapsed": false
   },
   "id": "c23fc247e37d0892"
  },
  {
   "cell_type": "code",
   "outputs": [
    {
     "data": {
      "text/plain": "<Figure size 640x480 with 1 Axes>",
      "image/png": "[encoded data removed]"
     },
     "metadata": {},
     "output_type": "display_data"
    }
   ],
   "source": [
    "pca = PCA()\n",
    "pca.fit(X)\n",
    "variances = np.arange(0.90, 0.99, 0.01)\n",
    "ds = []\n",
    "cumsum = np.cumsum(pca.explained_variance_ratio_)\n",
    "for variance in variances:\n",
    "    ds.append(np.argmax(cumsum >= variance) + 1) \n",
    "plt.bar(height=ds, x=variances, width=0.005, color=\"darkblue\")\n",
    "plt.xticks(variances)\n",
    "plt.title(\"Principal Component Analysis\")\n",
    "plt.xlabel(\"Proportion of Keeped Variance\")\n",
    "plt.ylabel(\"Number of Principal Components\")\n",
    "plt.show()"
   ],
   "metadata": {
    "collapsed": false,
    "ExecuteTime": {
     "end_time": "2024-01-30T23:55:24.506945800Z",
     "start_time": "2024-01-30T23:55:24.155378100Z"
    }
   },
   "id": "e34ee904ee765856",
   "execution_count": 199
  },
  {
   "cell_type": "markdown",
   "source": [
    "Let's maintain 0.95 (95%) of the variance by choosing 10 components:"
   ],
   "metadata": {
    "collapsed": false
   },
   "id": "4d139120518ef233"
  },
  {
   "cell_type": "code",
   "outputs": [
    {
     "name": "stdout",
     "output_type": "stream",
     "text": [
      "Number of features (principal components) after PCA: 10\n"
     ]
    }
   ],
   "source": [
    "pca = PCA(n_components=0.95)\n",
    "X_reduced_pca = pd.DataFrame(pca.fit_transform(X))\n",
    "print(f\"Number of features (principal components) after PCA: {len(X_reduced_pca.columns)}\")"
   ],
   "metadata": {
    "collapsed": false,
    "ExecuteTime": {
     "end_time": "2024-01-30T23:55:24.652826600Z",
     "start_time": "2024-01-30T23:55:24.508911400Z"
    }
   },
   "id": "b1531d277a513927",
   "execution_count": 200
  },
  {
   "cell_type": "code",
   "outputs": [
    {
     "data": {
      "text/plain": "          0         1         2         3         4         5         6  \\\n0 -1.696502 -1.443178 -0.351310 -0.306430 -0.389128 -0.188699 -0.284555   \n1 -1.715398 -0.277148 -0.293432 -0.214189 -0.374927 -0.273142 -0.360164   \n2 -0.659231  1.527538  0.096818  0.266092 -0.549043 -0.982401 -0.205174   \n3 -0.166777 -0.176902  0.936386  0.462700 -1.422240 -2.474434  0.619445   \n4  0.682848 -1.316077  0.990347  0.646928 -1.376340 -2.371907  0.483848   \n\n          7         8         9  \n0  0.405534 -0.589498 -0.367191  \n1  0.401790 -0.782221  0.078911  \n2  0.009632 -0.247342  0.903313  \n3 -0.063897 -0.029494 -0.317925  \n4 -0.331989  0.325787 -1.440039  ",
      "text/html": "<div>\n<style scoped>\n    .dataframe tbody tr th:only-of-type {\n        vertical-align: middle;\n    }\n\n    .dataframe tbody tr th {\n        vertical-align: top;\n    }\n\n    .dataframe thead th {\n        text-align: right;\n    }\n</style>\n<table border=\"1\" class=\"dataframe\">\n  <thead>\n    <tr style=\"text-align: right;\">\n      <th></th>\n      <th>0</th>\n      <th>1</th>\n      <th>2</th>\n      <th>3</th>\n      <th>4</th>\n      <th>5</th>\n      <th>6</th>\n      <th>7</th>\n      <th>8</th>\n      <th>9</th>\n    </tr>\n  </thead>\n  <tbody>\n    <tr>\n      <th>0</th>\n      <td>-1.696502</td>\n      <td>-1.443178</td>\n      <td>-0.351310</td>\n      <td>-0.306430</td>\n      <td>-0.389128</td>\n      <td>-0.188699</td>\n      <td>-0.284555</td>\n      <td>0.405534</td>\n      <td>-0.589498</td>\n      <td>-0.367191</td>\n    </tr>\n    <tr>\n      <th>1</th>\n      <td>-1.715398</td>\n      <td>-0.277148</td>\n      <td>-0.293432</td>\n      <td>-0.214189</td>\n      <td>-0.374927</td>\n      <td>-0.273142</td>\n      <td>-0.360164</td>\n      <td>0.401790</td>\n      <td>-0.782221</td>\n      <td>0.078911</td>\n    </tr>\n    <tr>\n      <th>2</th>\n      <td>-0.659231</td>\n      <td>1.527538</td>\n      <td>0.096818</td>\n      <td>0.266092</td>\n      <td>-0.549043</td>\n      <td>-0.982401</td>\n      <td>-0.205174</td>\n      <td>0.009632</td>\n      <td>-0.247342</td>\n      <td>0.903313</td>\n    </tr>\n    <tr>\n      <th>3</th>\n      <td>-0.166777</td>\n      <td>-0.176902</td>\n      <td>0.936386</td>\n      <td>0.462700</td>\n      <td>-1.422240</td>\n      <td>-2.474434</td>\n      <td>0.619445</td>\n      <td>-0.063897</td>\n      <td>-0.029494</td>\n      <td>-0.317925</td>\n    </tr>\n    <tr>\n      <th>4</th>\n      <td>0.682848</td>\n      <td>-1.316077</td>\n      <td>0.990347</td>\n      <td>0.646928</td>\n      <td>-1.376340</td>\n      <td>-2.371907</td>\n      <td>0.483848</td>\n      <td>-0.331989</td>\n      <td>0.325787</td>\n      <td>-1.440039</td>\n    </tr>\n  </tbody>\n</table>\n</div>"
     },
     "execution_count": 201,
     "metadata": {},
     "output_type": "execute_result"
    }
   ],
   "source": [
    "X_reduced_pca.head()"
   ],
   "metadata": {
    "collapsed": false,
    "ExecuteTime": {
     "end_time": "2024-01-30T23:55:24.662871800Z",
     "start_time": "2024-01-30T23:55:24.652826600Z"
    }
   },
   "id": "dd71ba36f445999b",
   "execution_count": 201
  },
  {
   "cell_type": "markdown",
   "source": [
    "Now, let's see the correlations heatmap again. All the components should be orthogonal (correlations = 0)."
   ],
   "metadata": {
    "collapsed": false
   },
   "id": "9b0db8df125ad27b"
  },
  {
   "cell_type": "code",
   "outputs": [
    {
     "data": {
      "text/plain": "<Axes: >"
     },
     "execution_count": 202,
     "metadata": {},
     "output_type": "execute_result"
    },
    {
     "data": {
      "text/plain": "<Figure size 640x480 with 2 Axes>",
      "image/png": "[encoded data removed]"
     },
     "metadata": {},
     "output_type": "display_data"
    }
   ],
   "source": [
    "sns.heatmap(X_reduced_pca.corr().apply(lambda x: round(x,2)), cmap=\"flare\", annot=True)"
   ],
   "metadata": {
    "collapsed": false,
    "ExecuteTime": {
     "end_time": "2024-01-30T23:55:25.234449100Z",
     "start_time": "2024-01-30T23:55:24.665864100Z"
    }
   },
   "id": "c044d2cbdd51246f",
   "execution_count": 202
  },
  {
   "cell_type": "markdown",
   "source": [
    "## K-means Clustering"
   ],
   "metadata": {
    "collapsed": false
   },
   "id": "ce5ad6819c291eeb"
  },
  {
   "cell_type": "markdown",
   "source": [
    "To define the optimal number of clusters, we will first try to use the Elbow Method.\n",
    "Note: WCSS means Within-Cluster Sum of Squares."
   ],
   "metadata": {
    "collapsed": false
   },
   "id": "df9532c5bab78d05"
  },
  {
   "cell_type": "code",
   "outputs": [
    {
     "data": {
      "text/plain": "<Figure size 640x480 with 1 Axes>",
      "image/png": "[encoded data removed]"
     },
     "metadata": {},
     "output_type": "display_data"
    }
   ],
   "source": [
    "wcss = []\n",
    "clusters_range = range(1, 40)\n",
    "for i in clusters_range:\n",
    "    kmeans = KMeans(n_clusters=i, n_init=1, random_state=0)\n",
    "    kmeans.fit(X_reduced_pca)\n",
    "    wcss.append(kmeans.inertia_)\n",
    "\n",
    "plt.plot(clusters_range, wcss)\n",
    "plt.title(\"Elbow Method\")\n",
    "plt.xlabel(\"Number of Clusters\")\n",
    "plt.ylabel(\"WCSS\")\n",
    "plt.grid()\n",
    "plt.show()"
   ],
   "metadata": {
    "collapsed": false,
    "ExecuteTime": {
     "end_time": "2024-01-30T23:56:00.406827800Z",
     "start_time": "2024-01-30T23:55:25.227970200Z"
    }
   },
   "id": "6803f1f10af325f0",
   "execution_count": 203
  },
  {
   "cell_type": "markdown",
   "source": [
    "The elbow isn't so clear. Another option is to use the Silhouette Analysis, which measures the silhouette coefficient for each point and finally takes it means. The silhouette coefficient is a measure of how similar a data point is within-cluster (cohesion) compared to other clusters (separation). The greater the coefficient is, the best.\n",
    "\n",
    "However, we will try to use, for example, 15 clusters from the elbow method because the silhouette analysis may last so much, due to the big number of points we have in the dataset."
   ],
   "metadata": {
    "collapsed": false
   },
   "id": "cf25d75090e73851"
  },
  {
   "cell_type": "code",
   "outputs": [],
   "source": [
    "kmeans = KMeans(n_clusters=15, n_init=1, random_state=0).fit(X_reduced_pca)\n",
    "df_books = X_reduced_pca.copy()\n",
    "df_books[\"Cluster\"] = kmeans.labels_\n",
    "df_books[\"ISBN\"] = df[\"ISBN\"].reset_index(drop=True).copy()\n",
    "df_books[\"Book-Title\"] = df[\"Book-Title\"].reset_index(drop=True).copy()"
   ],
   "metadata": {
    "collapsed": false,
    "ExecuteTime": {
     "end_time": "2024-01-30T23:56:01.564345100Z",
     "start_time": "2024-01-30T23:56:00.407860100Z"
    }
   },
   "id": "ff4692395a6d185f",
   "execution_count": 204
  },
  {
   "cell_type": "code",
   "outputs": [
    {
     "data": {
      "text/plain": "Cluster\n13    54348\n0     50919\n10    34119\n2     32904\n1     26724\n9     20954\n11    17512\n8     12783\n6      5518\n3      4464\n4      3277\n12     2832\n7      1992\n5      1247\n14      139\nName: count, dtype: int64"
     },
     "execution_count": 205,
     "metadata": {},
     "output_type": "execute_result"
    }
   ],
   "source": [
    "df_books[\"Cluster\"].value_counts()"
   ],
   "metadata": {
    "collapsed": false,
    "ExecuteTime": {
     "end_time": "2024-01-30T23:56:01.582437900Z",
     "start_time": "2024-01-30T23:56:01.566340Z"
    }
   },
   "id": "908c944f9fd262c1",
   "execution_count": 205
  },
  {
   "cell_type": "markdown",
   "source": [
    "The number of members of each cluster seems good. Now, we have each book labeled with it cluster:"
   ],
   "metadata": {
    "collapsed": false
   },
   "id": "dc00653f5998c807"
  },
  {
   "cell_type": "code",
   "outputs": [
    {
     "data": {
      "text/plain": "           0         1         2         3         4         5         6  \\\n0  -1.696502 -1.443178 -0.351310 -0.306430 -0.389128 -0.188699 -0.284555   \n1  -1.715398 -0.277148 -0.293432 -0.214189 -0.374927 -0.273142 -0.360164   \n2  -0.659231  1.527538  0.096818  0.266092 -0.549043 -0.982401 -0.205174   \n3  -0.166777 -0.176902  0.936386  0.462700 -1.422240 -2.474434  0.619445   \n4   0.682848 -1.316077  0.990347  0.646928 -1.376340 -2.371907  0.483848   \n5  -1.303070  0.841044 -0.032642  0.152628 -0.372385 -0.420457 -0.525595   \n6  -0.514903  0.473079  0.268679  0.301875 -0.866660 -1.522439  0.072950   \n7   0.150699 -0.253466 -0.484098  0.159279 -0.337027 -0.239497 -0.424973   \n8   1.309149 -1.355272  0.339593  0.562066 -1.079643 -1.777200  0.300898   \n9  -0.064785  0.161703 -0.701465  0.055368 -0.100424  0.285778 -0.622898   \n10  0.413852 -1.683696 -0.960748  0.014223  0.060594  0.553000 -0.550883   \n11  0.085910 -0.722837 -0.820455 -0.029162 -0.061894  0.419897 -0.605176   \n\n           7         8         9  Cluster        ISBN  \\\n0   0.405534 -0.589498 -0.367191       10  0195153448   \n1   0.401790 -0.782221  0.078911        1  0764500546   \n2   0.009632 -0.247342  0.903313        8  0060907924   \n3  -0.063897 -0.029494 -0.317925        2  0425173305   \n4  -0.331989  0.325787 -1.440039        2  0345391497   \n5  -0.011900 -0.291581  1.138972        1  0743508149   \n6   0.033826 -0.622020  0.660861       13  0449239462   \n7   0.322049 -0.621803  0.494942        0  1575667525   \n8  -0.122432 -0.006991 -0.241063        2  0373834470   \n9   0.535120 -0.223485 -0.380725       13  0871319705   \n10  0.259599  0.714586  0.347003       10  0387026207   \n11  0.610415 -0.487813 -0.710092        0  057540275X   \n\n                                           Book-Title  \n0                                 Classical Mythology  \n1              Macs for Teachers (For Dummies Series)  \n2             A People's History of the United States  \n3                                            Slackjaw  \n4                                   The Demon Awakens  \n5   D-Day : June 6, 1944 -- The Climactic Battle o...  \n6                                      Gabriel Hounds  \n7      Requiem for a Mezzo: A Daisy Dalrymple Mystery  \n8                                       Talisman Ring  \n9                                        Private Heat  \n10                                        Beyond Fear  \n11                                  Crazy Man Michael  ",
      "text/html": "<div>\n<style scoped>\n    .dataframe tbody tr th:only-of-type {\n        vertical-align: middle;\n    }\n\n    .dataframe tbody tr th {\n        vertical-align: top;\n    }\n\n    .dataframe thead th {\n        text-align: right;\n    }\n</style>\n<table border=\"1\" class=\"dataframe\">\n  <thead>\n    <tr style=\"text-align: right;\">\n      <th></th>\n      <th>0</th>\n      <th>1</th>\n      <th>2</th>\n      <th>3</th>\n      <th>4</th>\n      <th>5</th>\n      <th>6</th>\n      <th>7</th>\n      <th>8</th>\n      <th>9</th>\n      <th>Cluster</th>\n      <th>ISBN</th>\n      <th>Book-Title</th>\n    </tr>\n  </thead>\n  <tbody>\n    <tr>\n      <th>0</th>\n      <td>-1.696502</td>\n      <td>-1.443178</td>\n      <td>-0.351310</td>\n      <td>-0.306430</td>\n      <td>-0.389128</td>\n      <td>-0.188699</td>\n      <td>-0.284555</td>\n      <td>0.405534</td>\n      <td>-0.589498</td>\n      <td>-0.367191</td>\n      <td>10</td>\n      <td>0195153448</td>\n      <td>Classical Mythology</td>\n    </tr>\n    <tr>\n      <th>1</th>\n      <td>-1.715398</td>\n      <td>-0.277148</td>\n      <td>-0.293432</td>\n      <td>-0.214189</td>\n      <td>-0.374927</td>\n      <td>-0.273142</td>\n      <td>-0.360164</td>\n      <td>0.401790</td>\n      <td>-0.782221</td>\n      <td>0.078911</td>\n      <td>1</td>\n      <td>0764500546</td>\n      <td>Macs for Teachers (For Dummies Series)</td>\n    </tr>\n    <tr>\n      <th>2</th>\n      <td>-0.659231</td>\n      <td>1.527538</td>\n      <td>0.096818</td>\n      <td>0.266092</td>\n      <td>-0.549043</td>\n      <td>-0.982401</td>\n      <td>-0.205174</td>\n      <td>0.009632</td>\n      <td>-0.247342</td>\n      <td>0.903313</td>\n      <td>8</td>\n      <td>0060907924</td>\n      <td>A People's History of the United States</td>\n    </tr>\n    <tr>\n      <th>3</th>\n      <td>-0.166777</td>\n      <td>-0.176902</td>\n      <td>0.936386</td>\n      <td>0.462700</td>\n      <td>-1.422240</td>\n      <td>-2.474434</td>\n      <td>0.619445</td>\n      <td>-0.063897</td>\n      <td>-0.029494</td>\n      <td>-0.317925</td>\n      <td>2</td>\n      <td>0425173305</td>\n      <td>Slackjaw</td>\n    </tr>\n    <tr>\n      <th>4</th>\n      <td>0.682848</td>\n      <td>-1.316077</td>\n      <td>0.990347</td>\n      <td>0.646928</td>\n      <td>-1.376340</td>\n      <td>-2.371907</td>\n      <td>0.483848</td>\n      <td>-0.331989</td>\n      <td>0.325787</td>\n      <td>-1.440039</td>\n      <td>2</td>\n      <td>0345391497</td>\n      <td>The Demon Awakens</td>\n    </tr>\n    <tr>\n      <th>5</th>\n      <td>-1.303070</td>\n      <td>0.841044</td>\n      <td>-0.032642</td>\n      <td>0.152628</td>\n      <td>-0.372385</td>\n      <td>-0.420457</td>\n      <td>-0.525595</td>\n      <td>-0.011900</td>\n      <td>-0.291581</td>\n      <td>1.138972</td>\n      <td>1</td>\n      <td>0743508149</td>\n      <td>D-Day : June 6, 1944 -- The Climactic Battle o...</td>\n    </tr>\n    <tr>\n      <th>6</th>\n      <td>-0.514903</td>\n      <td>0.473079</td>\n      <td>0.268679</td>\n      <td>0.301875</td>\n      <td>-0.866660</td>\n      <td>-1.522439</td>\n      <td>0.072950</td>\n      <td>0.033826</td>\n      <td>-0.622020</td>\n      <td>0.660861</td>\n      <td>13</td>\n      <td>0449239462</td>\n      <td>Gabriel Hounds</td>\n    </tr>\n    <tr>\n      <th>7</th>\n      <td>0.150699</td>\n      <td>-0.253466</td>\n      <td>-0.484098</td>\n      <td>0.159279</td>\n      <td>-0.337027</td>\n      <td>-0.239497</td>\n      <td>-0.424973</td>\n      <td>0.322049</td>\n      <td>-0.621803</td>\n      <td>0.494942</td>\n      <td>0</td>\n      <td>1575667525</td>\n      <td>Requiem for a Mezzo: A Daisy Dalrymple Mystery</td>\n    </tr>\n    <tr>\n      <th>8</th>\n      <td>1.309149</td>\n      <td>-1.355272</td>\n      <td>0.339593</td>\n      <td>0.562066</td>\n      <td>-1.079643</td>\n      <td>-1.777200</td>\n      <td>0.300898</td>\n      <td>-0.122432</td>\n      <td>-0.006991</td>\n      <td>-0.241063</td>\n      <td>2</td>\n      <td>0373834470</td>\n      <td>Talisman Ring</td>\n    </tr>\n    <tr>\n      <th>9</th>\n      <td>-0.064785</td>\n      <td>0.161703</td>\n      <td>-0.701465</td>\n      <td>0.055368</td>\n      <td>-0.100424</td>\n      <td>0.285778</td>\n      <td>-0.622898</td>\n      <td>0.535120</td>\n      <td>-0.223485</td>\n      <td>-0.380725</td>\n      <td>13</td>\n      <td>0871319705</td>\n      <td>Private Heat</td>\n    </tr>\n    <tr>\n      <th>10</th>\n      <td>0.413852</td>\n      <td>-1.683696</td>\n      <td>-0.960748</td>\n      <td>0.014223</td>\n      <td>0.060594</td>\n      <td>0.553000</td>\n      <td>-0.550883</td>\n      <td>0.259599</td>\n      <td>0.714586</td>\n      <td>0.347003</td>\n      <td>10</td>\n      <td>0387026207</td>\n      <td>Beyond Fear</td>\n    </tr>\n    <tr>\n      <th>11</th>\n      <td>0.085910</td>\n      <td>-0.722837</td>\n      <td>-0.820455</td>\n      <td>-0.029162</td>\n      <td>-0.061894</td>\n      <td>0.419897</td>\n      <td>-0.605176</td>\n      <td>0.610415</td>\n      <td>-0.487813</td>\n      <td>-0.710092</td>\n      <td>0</td>\n      <td>057540275X</td>\n      <td>Crazy Man Michael</td>\n    </tr>\n  </tbody>\n</table>\n</div>"
     },
     "execution_count": 206,
     "metadata": {},
     "output_type": "execute_result"
    }
   ],
   "source": [
    "df_books.head(12)"
   ],
   "metadata": {
    "collapsed": false,
    "ExecuteTime": {
     "end_time": "2024-01-30T23:56:01.624789900Z",
     "start_time": "2024-01-30T23:56:01.576551600Z"
    }
   },
   "id": "d16ac6de9902bdc",
   "execution_count": 206
  },
  {
   "cell_type": "markdown",
   "source": [
    "---"
   ],
   "metadata": {
    "collapsed": false
   },
   "id": "b5805260fe070523"
  },
  {
   "cell_type": "markdown",
   "source": [
    "## Recommendation System"
   ],
   "metadata": {
    "collapsed": false
   },
   "id": "e744ddf8668c958b"
  },
  {
   "cell_type": "markdown",
   "source": [
    "We will first get the books each user has already read."
   ],
   "metadata": {
    "collapsed": false
   },
   "id": "637b41acf12846c4"
  },
  {
   "cell_type": "code",
   "outputs": [],
   "source": [
    "df_users = pd.merge(df_users, df_books[[\"ISBN\", \"Cluster\"]], on=\"ISBN\", how=\"inner\")\n",
    "df_users = df_users[[\"User-ID\", \"ISBN\", \"Cluster\"]]"
   ],
   "metadata": {
    "collapsed": false,
    "ExecuteTime": {
     "end_time": "2024-01-30T23:56:01.989268500Z",
     "start_time": "2024-01-30T23:56:01.597939Z"
    }
   },
   "id": "f793b02ec24df3c4",
   "execution_count": 207
  },
  {
   "cell_type": "code",
   "outputs": [
    {
     "data": {
      "text/plain": "    User-ID Already-Read-ISBN\n0         2        0195153448\n1         8        0002005018\n2         8        0060973129\n3         8        0374157065\n4         8        0393045218\n5         8        0399135782\n6         8        0425176428\n7         8        0671870432\n8         8        0679425608\n9         8        074322678X\n10        8        0771074670\n11        8        080652121X",
      "text/html": "<div>\n<style scoped>\n    .dataframe tbody tr th:only-of-type {\n        vertical-align: middle;\n    }\n\n    .dataframe tbody tr th {\n        vertical-align: top;\n    }\n\n    .dataframe thead th {\n        text-align: right;\n    }\n</style>\n<table border=\"1\" class=\"dataframe\">\n  <thead>\n    <tr style=\"text-align: right;\">\n      <th></th>\n      <th>User-ID</th>\n      <th>Already-Read-ISBN</th>\n    </tr>\n  </thead>\n  <tbody>\n    <tr>\n      <th>0</th>\n      <td>2</td>\n      <td>0195153448</td>\n    </tr>\n    <tr>\n      <th>1</th>\n      <td>8</td>\n      <td>0002005018</td>\n    </tr>\n    <tr>\n      <th>2</th>\n      <td>8</td>\n      <td>0060973129</td>\n    </tr>\n    <tr>\n      <th>3</th>\n      <td>8</td>\n      <td>0374157065</td>\n    </tr>\n    <tr>\n      <th>4</th>\n      <td>8</td>\n      <td>0393045218</td>\n    </tr>\n    <tr>\n      <th>5</th>\n      <td>8</td>\n      <td>0399135782</td>\n    </tr>\n    <tr>\n      <th>6</th>\n      <td>8</td>\n      <td>0425176428</td>\n    </tr>\n    <tr>\n      <th>7</th>\n      <td>8</td>\n      <td>0671870432</td>\n    </tr>\n    <tr>\n      <th>8</th>\n      <td>8</td>\n      <td>0679425608</td>\n    </tr>\n    <tr>\n      <th>9</th>\n      <td>8</td>\n      <td>074322678X</td>\n    </tr>\n    <tr>\n      <th>10</th>\n      <td>8</td>\n      <td>0771074670</td>\n    </tr>\n    <tr>\n      <th>11</th>\n      <td>8</td>\n      <td>080652121X</td>\n    </tr>\n  </tbody>\n</table>\n</div>"
     },
     "execution_count": 208,
     "metadata": {},
     "output_type": "execute_result"
    }
   ],
   "source": [
    "df_users_already_read = df_users.groupby(\"User-ID\")[\"ISBN\"].value_counts()\n",
    "df_users_already_read = pd.DataFrame(df_users_already_read.index.to_list(), columns=[\"User-ID\", \"Already-Read-ISBN\"])\n",
    "df_users_already_read.head(12)"
   ],
   "metadata": {
    "collapsed": false,
    "ExecuteTime": {
     "end_time": "2024-01-30T23:56:04.595434Z",
     "start_time": "2024-01-30T23:56:01.991294900Z"
    }
   },
   "id": "b07d6052e6d49e8e",
   "execution_count": 208
  },
  {
   "cell_type": "markdown",
   "source": [
    "Now, we need a K-Nearest Neighbors algorithm that receives the isbn and the number of neighbors (k) and returns the k neighbors from the same cluster as the input book (determined by isbn)."
   ],
   "metadata": {
    "collapsed": false
   },
   "id": "8059f4c9fda922f3"
  },
  {
   "cell_type": "code",
   "outputs": [
    {
     "data": {
      "text/plain": "         ISBN    Book-Title\n0  0002005018  Clara Callan",
      "text/html": "<div>\n<style scoped>\n    .dataframe tbody tr th:only-of-type {\n        vertical-align: middle;\n    }\n\n    .dataframe tbody tr th {\n        vertical-align: top;\n    }\n\n    .dataframe thead th {\n        text-align: right;\n    }\n</style>\n<table border=\"1\" class=\"dataframe\">\n  <thead>\n    <tr style=\"text-align: right;\">\n      <th></th>\n      <th>ISBN</th>\n      <th>Book-Title</th>\n    </tr>\n  </thead>\n  <tbody>\n    <tr>\n      <th>0</th>\n      <td>0002005018</td>\n      <td>Clara Callan</td>\n    </tr>\n  </tbody>\n</table>\n</div>"
     },
     "execution_count": 209,
     "metadata": {},
     "output_type": "execute_result"
    }
   ],
   "source": [
    "def k_nearest_within_cluster(isbn, k, books_data):\n",
    "    cluster = books_data[books_data[\"ISBN\"] == isbn][\"Cluster\"].reset_index(drop=True)[0]\n",
    "    X_train = books_data[books_data[\"Cluster\"] == cluster]\n",
    "    neighbors = NearestNeighbors(n_neighbors=k).fit(X_train.drop([\"ISBN\", \"Book-Title\", \"Cluster\"], axis=1))\n",
    "    distances, indices = neighbors.kneighbors(books_data[books_data[\"ISBN\"] == isbn].drop([\"ISBN\", \"Book-Title\", \"Cluster\"], axis=1))\n",
    "    flat_indices = [index for sublist in indices for index in sublist]\n",
    "    return X_train.iloc[flat_indices][[\"ISBN\", \"Book-Title\"]].reset_index(drop=True)\n",
    "\n",
    "k_nearest_within_cluster(\"0002005018\", 1, df_books)"
   ],
   "metadata": {
    "collapsed": false,
    "ExecuteTime": {
     "end_time": "2024-01-30T23:56:04.758445100Z",
     "start_time": "2024-01-30T23:56:04.629745400Z"
    }
   },
   "id": "4b6e25ae0345f4b2",
   "execution_count": 209
  },
  {
   "cell_type": "markdown",
   "source": [
    "Now, we can recommend the books by iterating over the unique users. However, we will first reduce the number of users to which we will make the recommendations, so we don't wait so much."
   ],
   "metadata": {
    "collapsed": false
   },
   "id": "cc9697ffec870277"
  },
  {
   "cell_type": "code",
   "outputs": [
    {
     "name": "stderr",
     "output_type": "stream",
     "text": [
      "100%|██████████| 50/50 [01:13<00:00,  1.47s/it]\n"
     ]
    }
   ],
   "source": [
    "unique_user_ids = df_users_already_read[\"User-ID\"].unique()\n",
    "recommendations = pd.DataFrame(columns=[\"User-ID\", \"ISBN\", \"Book-Title\"])\n",
    "unique_user_ids_slice = unique_user_ids[0:50].copy()\n",
    "\n",
    "for user_id in tqdm(unique_user_ids_slice):\n",
    "    already_read = df_users_already_read[df_users_already_read[\"User-ID\"] == user_id][\"Already-Read-ISBN\"].reset_index(drop=True)\n",
    "    recommend_count = 0\n",
    "    already_recommended = list(already_read)\n",
    "    while recommend_count < 10:\n",
    "        recommendation_df = k_nearest_within_cluster(already_read.sample(frac=1).reset_index(drop=True)[0], len(already_recommended) + 1, df_books)\n",
    "        recommendation = recommendation_df.iloc[0]\n",
    "        recommendation_list_count = 0\n",
    "        while recommendation[\"ISBN\"] in already_recommended:\n",
    "            recommendation_list_count += 1\n",
    "            recommendation = recommendation_df.iloc[recommendation_list_count]\n",
    "        recommendation[\"User-ID\"] = user_id\n",
    "        recommendations = pd.concat([recommendations, recommendation.to_frame().T], ignore_index=True)\n",
    "        already_recommended.append(recommendation[\"ISBN\"])\n",
    "        recommend_count += 1"
   ],
   "metadata": {
    "collapsed": false,
    "ExecuteTime": {
     "end_time": "2024-01-30T23:57:18.399156600Z",
     "start_time": "2024-01-30T23:56:04.741588100Z"
    }
   },
   "id": "d1d6ffb78cba8e7f",
   "execution_count": 210
  },
  {
   "cell_type": "markdown",
   "source": [
    "Finally, we have the recommendations:"
   ],
   "metadata": {
    "collapsed": false
   },
   "id": "7a5f0b26ea1dd993"
  },
  {
   "cell_type": "code",
   "outputs": [
    {
     "data": {
      "text/plain": "    User-ID        ISBN                                         Book-Title\n0         2  0199109052                The Diary of a Teenage Health Freak\n1         2  1558535969  How To Be A Gentleman : A Contemporary Guide t...\n2         2  0060393025  The Best Friend's Guide to Planning a Wedding ...\n3         2  0380809079               Hot Stuff : A Brief History of Disco\n4         2  0198602022                        The Oxford Color Dictionary\n..      ...         ...                                                ...\n495     129  0441003389                                  Freedom's Landing\n496     129  1558744029  Chicken Soup for the Surviving Soul: 101 Heali...\n497     129  055314300X                                    Bourne Identity\n498     129  039914210X                         The Cat Who Tailed a Thief\n499     129  0345424603  The Masterharper of Pern (Dragonriders of Pern...\n\n[500 rows x 3 columns]",
      "text/html": "<div>\n<style scoped>\n    .dataframe tbody tr th:only-of-type {\n        vertical-align: middle;\n    }\n\n    .dataframe tbody tr th {\n        vertical-align: top;\n    }\n\n    .dataframe thead th {\n        text-align: right;\n    }\n</style>\n<table border=\"1\" class=\"dataframe\">\n  <thead>\n    <tr style=\"text-align: right;\">\n      <th></th>\n      <th>User-ID</th>\n      <th>ISBN</th>\n      <th>Book-Title</th>\n    </tr>\n  </thead>\n  <tbody>\n    <tr>\n      <th>0</th>\n      <td>2</td>\n      <td>0199109052</td>\n      <td>The Diary of a Teenage Health Freak</td>\n    </tr>\n    <tr>\n      <th>1</th>\n      <td>2</td>\n      <td>1558535969</td>\n      <td>How To Be A Gentleman : A Contemporary Guide t...</td>\n    </tr>\n    <tr>\n      <th>2</th>\n      <td>2</td>\n      <td>0060393025</td>\n      <td>The Best Friend's Guide to Planning a Wedding ...</td>\n    </tr>\n    <tr>\n      <th>3</th>\n      <td>2</td>\n      <td>0380809079</td>\n      <td>Hot Stuff : A Brief History of Disco</td>\n    </tr>\n    <tr>\n      <th>4</th>\n      <td>2</td>\n      <td>0198602022</td>\n      <td>The Oxford Color Dictionary</td>\n    </tr>\n    <tr>\n      <th>...</th>\n      <td>...</td>\n      <td>...</td>\n      <td>...</td>\n    </tr>\n    <tr>\n      <th>495</th>\n      <td>129</td>\n      <td>0441003389</td>\n      <td>Freedom's Landing</td>\n    </tr>\n    <tr>\n      <th>496</th>\n      <td>129</td>\n      <td>1558744029</td>\n      <td>Chicken Soup for the Surviving Soul: 101 Heali...</td>\n    </tr>\n    <tr>\n      <th>497</th>\n      <td>129</td>\n      <td>055314300X</td>\n      <td>Bourne Identity</td>\n    </tr>\n    <tr>\n      <th>498</th>\n      <td>129</td>\n      <td>039914210X</td>\n      <td>The Cat Who Tailed a Thief</td>\n    </tr>\n    <tr>\n      <th>499</th>\n      <td>129</td>\n      <td>0345424603</td>\n      <td>The Masterharper of Pern (Dragonriders of Pern...</td>\n    </tr>\n  </tbody>\n</table>\n<p>500 rows × 3 columns</p>\n</div>"
     },
     "execution_count": 211,
     "metadata": {},
     "output_type": "execute_result"
    }
   ],
   "source": [
    "recommendations"
   ],
   "metadata": {
    "collapsed": false,
    "ExecuteTime": {
     "end_time": "2024-01-30T23:57:18.413613600Z",
     "start_time": "2024-01-30T23:57:18.398183400Z"
    }
   },
   "id": "d7c70f1d23c7814e",
   "execution_count": 211
  }
 ],
 "metadata": {
  "kernelspec": {
   "display_name": "Python 3",
   "language": "python",
   "name": "python3"
  },
  "language_info": {
   "codemirror_mode": {
    "name": "ipython",
    "version": 2
   },
   "file_extension": ".py",
   "mimetype": "text/x-python",
   "name": "python",
   "nbconvert_exporter": "python",
   "pygments_lexer": "ipython2",
   "version": "2.7.6"
  }
 },
 "nbformat": 4,
 "nbformat_minor": 5
}
