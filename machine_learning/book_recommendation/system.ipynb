{
 "cells": [
  {
   "cell_type": "markdown",
   "source": [
    "## Importing Libraries"
   ],
   "metadata": {
    "collapsed": false
   },
   "id": "cf497a5c37035f06"
  },
  {
   "cell_type": "code",
   "outputs": [],
   "source": [
    "import pandas as pd\n",
    "import numpy as np\n",
    "import matplotlib.pyplot as plt\n",
    "from category_encoders import CountEncoder"
   ],
   "metadata": {
    "collapsed": false,
    "ExecuteTime": {
     "end_time": "2024-01-28T15:37:44.093218900Z",
     "start_time": "2024-01-28T15:37:43.912060700Z"
    }
   },
   "id": "b89dca4f5e90b10a",
   "execution_count": 617
  },
  {
   "cell_type": "markdown",
   "source": [
    "## Importing Data"
   ],
   "metadata": {
    "collapsed": false
   },
   "id": "3405ab0315d2f3ab"
  },
  {
   "cell_type": "code",
   "outputs": [],
   "source": [
    "books = pd.read_csv(\"data/books.csv\", sep=\";\", encoding=\"latin-1\", low_memory=False, on_bad_lines='skip').drop([\"Image-URL-S\", \"Image-URL-M\", \"Image-URL-L\"], axis=1)\n",
    "ratings = pd.read_csv(\"data/ratings.csv\", sep=\";\", encoding=\"latin-1\", low_memory=False, on_bad_lines='skip')\n",
    "users = pd.read_csv(\"data/users.csv\", sep=\";\", encoding=\"latin-1\", low_memory=False, on_bad_lines='skip')"
   ],
   "metadata": {
    "collapsed": false,
    "ExecuteTime": {
     "end_time": "2024-01-28T15:37:46.507720800Z",
     "start_time": "2024-01-28T15:37:44.089229400Z"
    }
   },
   "id": "751d395dd09aa239",
   "execution_count": 618
  },
  {
   "cell_type": "markdown",
   "source": [
    "## Cleaning Data"
   ],
   "metadata": {
    "collapsed": false
   },
   "id": "92f7ff797085259a"
  },
  {
   "cell_type": "code",
   "outputs": [
    {
     "name": "stdout",
     "output_type": "stream",
     "text": [
      "<class 'pandas.core.frame.DataFrame'>\n",
      "RangeIndex: 271360 entries, 0 to 271359\n",
      "Data columns (total 5 columns):\n",
      " #   Column               Non-Null Count   Dtype \n",
      "---  ------               --------------   ----- \n",
      " 0   ISBN                 271360 non-null  object\n",
      " 1   Book-Title           271360 non-null  object\n",
      " 2   Book-Author          271358 non-null  object\n",
      " 3   Year-Of-Publication  271360 non-null  object\n",
      " 4   Publisher            271358 non-null  object\n",
      "dtypes: object(5)\n",
      "memory usage: 10.4+ MB\n"
     ]
    }
   ],
   "source": [
    "books.info()"
   ],
   "metadata": {
    "collapsed": false,
    "ExecuteTime": {
     "end_time": "2024-01-28T15:37:46.558494400Z",
     "start_time": "2024-01-28T15:37:46.507720800Z"
    }
   },
   "id": "ad03cc498c853002",
   "execution_count": 619
  },
  {
   "cell_type": "code",
   "outputs": [
    {
     "data": {
      "text/plain": "              ISBN                                         Book-Title  \\\n118033  0751352497                           A+ Quiz Masters:01 Earth   \n187689  9627982032  The Credit Suisse Guide to Managing Your Perso...   \n\n       Book-Author Year-Of-Publication                       Publisher  \n118033         NaN                1999              Dorling Kindersley  \n187689         NaN                1995  Edinburgh Financial Publishing  ",
      "text/html": "<div>\n<style scoped>\n    .dataframe tbody tr th:only-of-type {\n        vertical-align: middle;\n    }\n\n    .dataframe tbody tr th {\n        vertical-align: top;\n    }\n\n    .dataframe thead th {\n        text-align: right;\n    }\n</style>\n<table border=\"1\" class=\"dataframe\">\n  <thead>\n    <tr style=\"text-align: right;\">\n      <th></th>\n      <th>ISBN</th>\n      <th>Book-Title</th>\n      <th>Book-Author</th>\n      <th>Year-Of-Publication</th>\n      <th>Publisher</th>\n    </tr>\n  </thead>\n  <tbody>\n    <tr>\n      <th>118033</th>\n      <td>0751352497</td>\n      <td>A+ Quiz Masters:01 Earth</td>\n      <td>NaN</td>\n      <td>1999</td>\n      <td>Dorling Kindersley</td>\n    </tr>\n    <tr>\n      <th>187689</th>\n      <td>9627982032</td>\n      <td>The Credit Suisse Guide to Managing Your Perso...</td>\n      <td>NaN</td>\n      <td>1995</td>\n      <td>Edinburgh Financial Publishing</td>\n    </tr>\n  </tbody>\n</table>\n</div>"
     },
     "execution_count": 620,
     "metadata": {},
     "output_type": "execute_result"
    }
   ],
   "source": [
    "books[books[\"Book-Author\"].isna()]"
   ],
   "metadata": {
    "collapsed": false,
    "ExecuteTime": {
     "end_time": "2024-01-28T15:37:46.574933500Z",
     "start_time": "2024-01-28T15:37:46.556499700Z"
    }
   },
   "id": "95303afb5d91dd14",
   "execution_count": 620
  },
  {
   "cell_type": "code",
   "outputs": [
    {
     "data": {
      "text/plain": "              ISBN       Book-Title      Book-Author Year-Of-Publication  \\\n128890  193169656X      Tyrant Moon  Elaine Corvidae                2002   \n129037  1931696993  Finders Keepers  Linnea Sinclair                2001   \n\n       Publisher  \n128890       NaN  \n129037       NaN  ",
      "text/html": "<div>\n<style scoped>\n    .dataframe tbody tr th:only-of-type {\n        vertical-align: middle;\n    }\n\n    .dataframe tbody tr th {\n        vertical-align: top;\n    }\n\n    .dataframe thead th {\n        text-align: right;\n    }\n</style>\n<table border=\"1\" class=\"dataframe\">\n  <thead>\n    <tr style=\"text-align: right;\">\n      <th></th>\n      <th>ISBN</th>\n      <th>Book-Title</th>\n      <th>Book-Author</th>\n      <th>Year-Of-Publication</th>\n      <th>Publisher</th>\n    </tr>\n  </thead>\n  <tbody>\n    <tr>\n      <th>128890</th>\n      <td>193169656X</td>\n      <td>Tyrant Moon</td>\n      <td>Elaine Corvidae</td>\n      <td>2002</td>\n      <td>NaN</td>\n    </tr>\n    <tr>\n      <th>129037</th>\n      <td>1931696993</td>\n      <td>Finders Keepers</td>\n      <td>Linnea Sinclair</td>\n      <td>2001</td>\n      <td>NaN</td>\n    </tr>\n  </tbody>\n</table>\n</div>"
     },
     "execution_count": 621,
     "metadata": {},
     "output_type": "execute_result"
    }
   ],
   "source": [
    "books[books[\"Publisher\"].isna()]"
   ],
   "metadata": {
    "collapsed": false,
    "ExecuteTime": {
     "end_time": "2024-01-28T15:37:46.610527Z",
     "start_time": "2024-01-28T15:37:46.575931Z"
    }
   },
   "id": "f7874ac8dd81a494",
   "execution_count": 621
  },
  {
   "cell_type": "code",
   "outputs": [],
   "source": [
    "books = books.dropna()"
   ],
   "metadata": {
    "collapsed": false,
    "ExecuteTime": {
     "end_time": "2024-01-28T15:37:46.699489300Z",
     "start_time": "2024-01-28T15:37:46.593573200Z"
    }
   },
   "id": "dd1ada86491f0815",
   "execution_count": 622
  },
  {
   "cell_type": "markdown",
   "source": [
    "---"
   ],
   "metadata": {
    "collapsed": false
   },
   "id": "86bd5282051ea836"
  },
  {
   "cell_type": "code",
   "outputs": [
    {
     "name": "stdout",
     "output_type": "stream",
     "text": [
      "<class 'pandas.core.frame.DataFrame'>\n",
      "RangeIndex: 1149780 entries, 0 to 1149779\n",
      "Data columns (total 3 columns):\n",
      " #   Column       Non-Null Count    Dtype \n",
      "---  ------       --------------    ----- \n",
      " 0   User-ID      1149780 non-null  int64 \n",
      " 1   ISBN         1149780 non-null  object\n",
      " 2   Book-Rating  1149780 non-null  int64 \n",
      "dtypes: int64(2), object(1)\n",
      "memory usage: 26.3+ MB\n"
     ]
    }
   ],
   "source": [
    "ratings.info()"
   ],
   "metadata": {
    "collapsed": false,
    "ExecuteTime": {
     "end_time": "2024-01-28T15:37:46.796159700Z",
     "start_time": "2024-01-28T15:37:46.668710Z"
    }
   },
   "id": "fdddd40934b18765",
   "execution_count": 623
  },
  {
   "cell_type": "markdown",
   "source": [
    "---"
   ],
   "metadata": {
    "collapsed": false
   },
   "id": "2915869f669c74f8"
  },
  {
   "cell_type": "code",
   "outputs": [
    {
     "name": "stdout",
     "output_type": "stream",
     "text": [
      "<class 'pandas.core.frame.DataFrame'>\n",
      "RangeIndex: 278858 entries, 0 to 278857\n",
      "Data columns (total 3 columns):\n",
      " #   Column    Non-Null Count   Dtype  \n",
      "---  ------    --------------   -----  \n",
      " 0   User-ID   278858 non-null  int64  \n",
      " 1   Location  278858 non-null  object \n",
      " 2   Age       168096 non-null  float64\n",
      "dtypes: float64(1), int64(1), object(1)\n",
      "memory usage: 6.4+ MB\n"
     ]
    }
   ],
   "source": [
    "users.info()"
   ],
   "metadata": {
    "collapsed": false,
    "ExecuteTime": {
     "end_time": "2024-01-28T15:37:46.798154200Z",
     "start_time": "2024-01-28T15:37:46.747156100Z"
    }
   },
   "id": "e065f17d67730d01",
   "execution_count": 624
  },
  {
   "cell_type": "code",
   "outputs": [
    {
     "data": {
      "text/plain": "            User-ID            Age\ncount  278858.00000  168096.000000\nmean   139429.50000      34.751434\nstd     80499.51502      14.428097\nmin         1.00000       0.000000\n25%     69715.25000      24.000000\n50%    139429.50000      32.000000\n75%    209143.75000      44.000000\nmax    278858.00000     244.000000",
      "text/html": "<div>\n<style scoped>\n    .dataframe tbody tr th:only-of-type {\n        vertical-align: middle;\n    }\n\n    .dataframe tbody tr th {\n        vertical-align: top;\n    }\n\n    .dataframe thead th {\n        text-align: right;\n    }\n</style>\n<table border=\"1\" class=\"dataframe\">\n  <thead>\n    <tr style=\"text-align: right;\">\n      <th></th>\n      <th>User-ID</th>\n      <th>Age</th>\n    </tr>\n  </thead>\n  <tbody>\n    <tr>\n      <th>count</th>\n      <td>278858.00000</td>\n      <td>168096.000000</td>\n    </tr>\n    <tr>\n      <th>mean</th>\n      <td>139429.50000</td>\n      <td>34.751434</td>\n    </tr>\n    <tr>\n      <th>std</th>\n      <td>80499.51502</td>\n      <td>14.428097</td>\n    </tr>\n    <tr>\n      <th>min</th>\n      <td>1.00000</td>\n      <td>0.000000</td>\n    </tr>\n    <tr>\n      <th>25%</th>\n      <td>69715.25000</td>\n      <td>24.000000</td>\n    </tr>\n    <tr>\n      <th>50%</th>\n      <td>139429.50000</td>\n      <td>32.000000</td>\n    </tr>\n    <tr>\n      <th>75%</th>\n      <td>209143.75000</td>\n      <td>44.000000</td>\n    </tr>\n    <tr>\n      <th>max</th>\n      <td>278858.00000</td>\n      <td>244.000000</td>\n    </tr>\n  </tbody>\n</table>\n</div>"
     },
     "execution_count": 625,
     "metadata": {},
     "output_type": "execute_result"
    }
   ],
   "source": [
    "users.describe()"
   ],
   "metadata": {
    "collapsed": false,
    "ExecuteTime": {
     "end_time": "2024-01-28T15:37:46.828214Z",
     "start_time": "2024-01-28T15:37:46.768336900Z"
    }
   },
   "id": "1ef3128bc3b7b5a2",
   "execution_count": 625
  },
  {
   "cell_type": "code",
   "outputs": [],
   "source": [
    "users[\"Age\"] = users[\"Age\"].fillna(users[\"Age\"].median())"
   ],
   "metadata": {
    "collapsed": false,
    "ExecuteTime": {
     "end_time": "2024-01-28T15:37:46.838765600Z",
     "start_time": "2024-01-28T15:37:46.812493200Z"
    }
   },
   "id": "da192591e1d917ff",
   "execution_count": 626
  },
  {
   "cell_type": "markdown",
   "source": [
    "---"
   ],
   "metadata": {
    "collapsed": false
   },
   "id": "d03ff4a1ba848b62"
  },
  {
   "cell_type": "code",
   "outputs": [
    {
     "data": {
      "text/plain": "              ISBN                                         Book-Title  \\\n0       0195153448                                Classical Mythology   \n1       0002005018                                       Clara Callan   \n2       0060973129                               Decision in Normandy   \n3       0374157065  Flu: The Story of the Great Influenza Pandemic...   \n4       0393045218                             The Mummies of Urumchi   \n...            ...                                                ...   \n271355  0440400988                         There's a Bat in Bunk Five   \n271356  0525447644                            From One to One Hundred   \n271357  006008667X  Lily Dale : The True Story of the Town that Ta...   \n271358  0192126040                        Republic (World's Classics)   \n271359  0767409752  A Guided Tour of Rene Descartes' Meditations o...   \n\n                 Book-Author Year-Of-Publication  \\\n0         Mark P. O. Morford                2002   \n1       Richard Bruce Wright                2001   \n2               Carlo D'Este                1991   \n3           Gina Bari Kolata                1999   \n4            E. J. W. Barber                1999   \n...                      ...                 ...   \n271355        Paula Danziger                1988   \n271356            Teri Sloat                1991   \n271357      Christine Wicker                2004   \n271358                 Plato                1996   \n271359   Christopher  Biffle                2000   \n\n                                               Publisher  \n0                                Oxford University Press  \n1                                  HarperFlamingo Canada  \n2                                        HarperPerennial  \n3                                   Farrar Straus Giroux  \n4                             W. W. Norton &amp; Company  \n...                                                  ...  \n271355                   Random House Childrens Pub (Mm)  \n271356                                      Dutton Books  \n271357                                HarperSanFrancisco  \n271358                           Oxford University Press  \n271359  McGraw-Hill Humanities/Social Sciences/Languages  \n\n[271356 rows x 5 columns]",
      "text/html": "<div>\n<style scoped>\n    .dataframe tbody tr th:only-of-type {\n        vertical-align: middle;\n    }\n\n    .dataframe tbody tr th {\n        vertical-align: top;\n    }\n\n    .dataframe thead th {\n        text-align: right;\n    }\n</style>\n<table border=\"1\" class=\"dataframe\">\n  <thead>\n    <tr style=\"text-align: right;\">\n      <th></th>\n      <th>ISBN</th>\n      <th>Book-Title</th>\n      <th>Book-Author</th>\n      <th>Year-Of-Publication</th>\n      <th>Publisher</th>\n    </tr>\n  </thead>\n  <tbody>\n    <tr>\n      <th>0</th>\n      <td>0195153448</td>\n      <td>Classical Mythology</td>\n      <td>Mark P. O. Morford</td>\n      <td>2002</td>\n      <td>Oxford University Press</td>\n    </tr>\n    <tr>\n      <th>1</th>\n      <td>0002005018</td>\n      <td>Clara Callan</td>\n      <td>Richard Bruce Wright</td>\n      <td>2001</td>\n      <td>HarperFlamingo Canada</td>\n    </tr>\n    <tr>\n      <th>2</th>\n      <td>0060973129</td>\n      <td>Decision in Normandy</td>\n      <td>Carlo D'Este</td>\n      <td>1991</td>\n      <td>HarperPerennial</td>\n    </tr>\n    <tr>\n      <th>3</th>\n      <td>0374157065</td>\n      <td>Flu: The Story of the Great Influenza Pandemic...</td>\n      <td>Gina Bari Kolata</td>\n      <td>1999</td>\n      <td>Farrar Straus Giroux</td>\n    </tr>\n    <tr>\n      <th>4</th>\n      <td>0393045218</td>\n      <td>The Mummies of Urumchi</td>\n      <td>E. J. W. Barber</td>\n      <td>1999</td>\n      <td>W. W. Norton &amp;amp; Company</td>\n    </tr>\n    <tr>\n      <th>...</th>\n      <td>...</td>\n      <td>...</td>\n      <td>...</td>\n      <td>...</td>\n      <td>...</td>\n    </tr>\n    <tr>\n      <th>271355</th>\n      <td>0440400988</td>\n      <td>There's a Bat in Bunk Five</td>\n      <td>Paula Danziger</td>\n      <td>1988</td>\n      <td>Random House Childrens Pub (Mm)</td>\n    </tr>\n    <tr>\n      <th>271356</th>\n      <td>0525447644</td>\n      <td>From One to One Hundred</td>\n      <td>Teri Sloat</td>\n      <td>1991</td>\n      <td>Dutton Books</td>\n    </tr>\n    <tr>\n      <th>271357</th>\n      <td>006008667X</td>\n      <td>Lily Dale : The True Story of the Town that Ta...</td>\n      <td>Christine Wicker</td>\n      <td>2004</td>\n      <td>HarperSanFrancisco</td>\n    </tr>\n    <tr>\n      <th>271358</th>\n      <td>0192126040</td>\n      <td>Republic (World's Classics)</td>\n      <td>Plato</td>\n      <td>1996</td>\n      <td>Oxford University Press</td>\n    </tr>\n    <tr>\n      <th>271359</th>\n      <td>0767409752</td>\n      <td>A Guided Tour of Rene Descartes' Meditations o...</td>\n      <td>Christopher  Biffle</td>\n      <td>2000</td>\n      <td>McGraw-Hill Humanities/Social Sciences/Languages</td>\n    </tr>\n  </tbody>\n</table>\n<p>271356 rows × 5 columns</p>\n</div>"
     },
     "execution_count": 627,
     "metadata": {},
     "output_type": "execute_result"
    }
   ],
   "source": [
    "books"
   ],
   "metadata": {
    "collapsed": false,
    "ExecuteTime": {
     "end_time": "2024-01-28T15:37:46.889958400Z",
     "start_time": "2024-01-28T15:37:46.830207900Z"
    }
   },
   "id": "c9a71a0b9bf45dd9",
   "execution_count": 627
  },
  {
   "cell_type": "code",
   "outputs": [
    {
     "data": {
      "text/plain": "   User-ID        ISBN  Book-Rating\n0   276725  034545104X            0\n1   276726  0155061224            5\n2   276727  0446520802            0\n3   276729  052165615X            3\n4   276729  0521795028            6",
      "text/html": "<div>\n<style scoped>\n    .dataframe tbody tr th:only-of-type {\n        vertical-align: middle;\n    }\n\n    .dataframe tbody tr th {\n        vertical-align: top;\n    }\n\n    .dataframe thead th {\n        text-align: right;\n    }\n</style>\n<table border=\"1\" class=\"dataframe\">\n  <thead>\n    <tr style=\"text-align: right;\">\n      <th></th>\n      <th>User-ID</th>\n      <th>ISBN</th>\n      <th>Book-Rating</th>\n    </tr>\n  </thead>\n  <tbody>\n    <tr>\n      <th>0</th>\n      <td>276725</td>\n      <td>034545104X</td>\n      <td>0</td>\n    </tr>\n    <tr>\n      <th>1</th>\n      <td>276726</td>\n      <td>0155061224</td>\n      <td>5</td>\n    </tr>\n    <tr>\n      <th>2</th>\n      <td>276727</td>\n      <td>0446520802</td>\n      <td>0</td>\n    </tr>\n    <tr>\n      <th>3</th>\n      <td>276729</td>\n      <td>052165615X</td>\n      <td>3</td>\n    </tr>\n    <tr>\n      <th>4</th>\n      <td>276729</td>\n      <td>0521795028</td>\n      <td>6</td>\n    </tr>\n  </tbody>\n</table>\n</div>"
     },
     "execution_count": 628,
     "metadata": {},
     "output_type": "execute_result"
    }
   ],
   "source": [
    "ratings.head()"
   ],
   "metadata": {
    "collapsed": false,
    "ExecuteTime": {
     "end_time": "2024-01-28T15:37:46.891952900Z",
     "start_time": "2024-01-28T15:37:46.844260400Z"
    }
   },
   "id": "d1587210fa59b36a",
   "execution_count": 628
  },
  {
   "cell_type": "code",
   "outputs": [
    {
     "data": {
      "text/plain": "   User-ID                            Location   Age\n0        1                  nyc, new york, usa  32.0\n1        2           stockton, california, usa  18.0\n2        3     moscow, yukon territory, russia  32.0\n3        4           porto, v.n.gaia, portugal  17.0\n4        5  farnborough, hants, united kingdom  32.0",
      "text/html": "<div>\n<style scoped>\n    .dataframe tbody tr th:only-of-type {\n        vertical-align: middle;\n    }\n\n    .dataframe tbody tr th {\n        vertical-align: top;\n    }\n\n    .dataframe thead th {\n        text-align: right;\n    }\n</style>\n<table border=\"1\" class=\"dataframe\">\n  <thead>\n    <tr style=\"text-align: right;\">\n      <th></th>\n      <th>User-ID</th>\n      <th>Location</th>\n      <th>Age</th>\n    </tr>\n  </thead>\n  <tbody>\n    <tr>\n      <th>0</th>\n      <td>1</td>\n      <td>nyc, new york, usa</td>\n      <td>32.0</td>\n    </tr>\n    <tr>\n      <th>1</th>\n      <td>2</td>\n      <td>stockton, california, usa</td>\n      <td>18.0</td>\n    </tr>\n    <tr>\n      <th>2</th>\n      <td>3</td>\n      <td>moscow, yukon territory, russia</td>\n      <td>32.0</td>\n    </tr>\n    <tr>\n      <th>3</th>\n      <td>4</td>\n      <td>porto, v.n.gaia, portugal</td>\n      <td>17.0</td>\n    </tr>\n    <tr>\n      <th>4</th>\n      <td>5</td>\n      <td>farnborough, hants, united kingdom</td>\n      <td>32.0</td>\n    </tr>\n  </tbody>\n</table>\n</div>"
     },
     "execution_count": 629,
     "metadata": {},
     "output_type": "execute_result"
    }
   ],
   "source": [
    "users.head()"
   ],
   "metadata": {
    "collapsed": false,
    "ExecuteTime": {
     "end_time": "2024-01-28T15:37:46.902353500Z",
     "start_time": "2024-01-28T15:37:46.850632400Z"
    }
   },
   "id": "2c2844910020542b",
   "execution_count": 629
  },
  {
   "cell_type": "markdown",
   "source": [
    "## Merging Dataframes"
   ],
   "metadata": {
    "collapsed": false
   },
   "id": "fdbf496dea6aa31"
  },
  {
   "cell_type": "code",
   "outputs": [],
   "source": [
    "users_ratings = pd.merge(users, ratings, on=\"User-ID\", how=\"inner\")\n",
    "books_users_ratings = pd.merge(books, users_ratings, on=\"ISBN\", how=\"inner\")\n",
    "df = books_users_ratings.copy()"
   ],
   "metadata": {
    "collapsed": false,
    "ExecuteTime": {
     "end_time": "2024-01-28T15:37:48.317731700Z",
     "start_time": "2024-01-28T15:37:46.863475400Z"
    }
   },
   "id": "ddb529ff87010356",
   "execution_count": 630
  },
  {
   "cell_type": "code",
   "outputs": [
    {
     "data": {
      "text/plain": "               ISBN                                         Book-Title  \\\n0        0195153448                                Classical Mythology   \n1        0002005018                                       Clara Callan   \n2        0002005018                                       Clara Callan   \n3        0002005018                                       Clara Callan   \n4        0002005018                                       Clara Callan   \n...             ...                                                ...   \n1031127  0440400988                         There's a Bat in Bunk Five   \n1031128  0525447644                            From One to One Hundred   \n1031129  006008667X  Lily Dale : The True Story of the Town that Ta...   \n1031130  0192126040                        Republic (World's Classics)   \n1031131  0767409752  A Guided Tour of Rene Descartes' Meditations o...   \n\n                  Book-Author Year-Of-Publication  \\\n0          Mark P. O. Morford                2002   \n1        Richard Bruce Wright                2001   \n2        Richard Bruce Wright                2001   \n3        Richard Bruce Wright                2001   \n4        Richard Bruce Wright                2001   \n...                       ...                 ...   \n1031127        Paula Danziger                1988   \n1031128            Teri Sloat                1991   \n1031129      Christine Wicker                2004   \n1031130                 Plato                1996   \n1031131   Christopher  Biffle                2000   \n\n                                                Publisher  User-ID  \\\n0                                 Oxford University Press        2   \n1                                   HarperFlamingo Canada        8   \n2                                   HarperFlamingo Canada    11400   \n3                                   HarperFlamingo Canada    11676   \n4                                   HarperFlamingo Canada    41385   \n...                                                   ...      ...   \n1031127                   Random House Childrens Pub (Mm)   276463   \n1031128                                      Dutton Books   276579   \n1031129                                HarperSanFrancisco   276680   \n1031130                           Oxford University Press   276680   \n1031131  McGraw-Hill Humanities/Social Sciences/Languages   276680   \n\n                                 Location   Age  Book-Rating  \n0               stockton, california, usa  18.0            0  \n1                timmins, ontario, canada  32.0            5  \n2                 ottawa, ontario, canada  49.0            0  \n3                           n/a, n/a, n/a  32.0            8  \n4                sudbury, ontario, canada  32.0            0  \n...                                   ...   ...          ...  \n1031127     providence, rhode island, usa  26.0            7  \n1031128                   orem, utah, usa  12.0            4  \n1031129  hopewell junction, new york, usa  55.0            0  \n1031130  hopewell junction, new york, usa  55.0            0  \n1031131  hopewell junction, new york, usa  55.0            0  \n\n[1031132 rows x 9 columns]",
      "text/html": "<div>\n<style scoped>\n    .dataframe tbody tr th:only-of-type {\n        vertical-align: middle;\n    }\n\n    .dataframe tbody tr th {\n        vertical-align: top;\n    }\n\n    .dataframe thead th {\n        text-align: right;\n    }\n</style>\n<table border=\"1\" class=\"dataframe\">\n  <thead>\n    <tr style=\"text-align: right;\">\n      <th></th>\n      <th>ISBN</th>\n      <th>Book-Title</th>\n      <th>Book-Author</th>\n      <th>Year-Of-Publication</th>\n      <th>Publisher</th>\n      <th>User-ID</th>\n      <th>Location</th>\n      <th>Age</th>\n      <th>Book-Rating</th>\n    </tr>\n  </thead>\n  <tbody>\n    <tr>\n      <th>0</th>\n      <td>0195153448</td>\n      <td>Classical Mythology</td>\n      <td>Mark P. O. Morford</td>\n      <td>2002</td>\n      <td>Oxford University Press</td>\n      <td>2</td>\n      <td>stockton, california, usa</td>\n      <td>18.0</td>\n      <td>0</td>\n    </tr>\n    <tr>\n      <th>1</th>\n      <td>0002005018</td>\n      <td>Clara Callan</td>\n      <td>Richard Bruce Wright</td>\n      <td>2001</td>\n      <td>HarperFlamingo Canada</td>\n      <td>8</td>\n      <td>timmins, ontario, canada</td>\n      <td>32.0</td>\n      <td>5</td>\n    </tr>\n    <tr>\n      <th>2</th>\n      <td>0002005018</td>\n      <td>Clara Callan</td>\n      <td>Richard Bruce Wright</td>\n      <td>2001</td>\n      <td>HarperFlamingo Canada</td>\n      <td>11400</td>\n      <td>ottawa, ontario, canada</td>\n      <td>49.0</td>\n      <td>0</td>\n    </tr>\n    <tr>\n      <th>3</th>\n      <td>0002005018</td>\n      <td>Clara Callan</td>\n      <td>Richard Bruce Wright</td>\n      <td>2001</td>\n      <td>HarperFlamingo Canada</td>\n      <td>11676</td>\n      <td>n/a, n/a, n/a</td>\n      <td>32.0</td>\n      <td>8</td>\n    </tr>\n    <tr>\n      <th>4</th>\n      <td>0002005018</td>\n      <td>Clara Callan</td>\n      <td>Richard Bruce Wright</td>\n      <td>2001</td>\n      <td>HarperFlamingo Canada</td>\n      <td>41385</td>\n      <td>sudbury, ontario, canada</td>\n      <td>32.0</td>\n      <td>0</td>\n    </tr>\n    <tr>\n      <th>...</th>\n      <td>...</td>\n      <td>...</td>\n      <td>...</td>\n      <td>...</td>\n      <td>...</td>\n      <td>...</td>\n      <td>...</td>\n      <td>...</td>\n      <td>...</td>\n    </tr>\n    <tr>\n      <th>1031127</th>\n      <td>0440400988</td>\n      <td>There's a Bat in Bunk Five</td>\n      <td>Paula Danziger</td>\n      <td>1988</td>\n      <td>Random House Childrens Pub (Mm)</td>\n      <td>276463</td>\n      <td>providence, rhode island, usa</td>\n      <td>26.0</td>\n      <td>7</td>\n    </tr>\n    <tr>\n      <th>1031128</th>\n      <td>0525447644</td>\n      <td>From One to One Hundred</td>\n      <td>Teri Sloat</td>\n      <td>1991</td>\n      <td>Dutton Books</td>\n      <td>276579</td>\n      <td>orem, utah, usa</td>\n      <td>12.0</td>\n      <td>4</td>\n    </tr>\n    <tr>\n      <th>1031129</th>\n      <td>006008667X</td>\n      <td>Lily Dale : The True Story of the Town that Ta...</td>\n      <td>Christine Wicker</td>\n      <td>2004</td>\n      <td>HarperSanFrancisco</td>\n      <td>276680</td>\n      <td>hopewell junction, new york, usa</td>\n      <td>55.0</td>\n      <td>0</td>\n    </tr>\n    <tr>\n      <th>1031130</th>\n      <td>0192126040</td>\n      <td>Republic (World's Classics)</td>\n      <td>Plato</td>\n      <td>1996</td>\n      <td>Oxford University Press</td>\n      <td>276680</td>\n      <td>hopewell junction, new york, usa</td>\n      <td>55.0</td>\n      <td>0</td>\n    </tr>\n    <tr>\n      <th>1031131</th>\n      <td>0767409752</td>\n      <td>A Guided Tour of Rene Descartes' Meditations o...</td>\n      <td>Christopher  Biffle</td>\n      <td>2000</td>\n      <td>McGraw-Hill Humanities/Social Sciences/Languages</td>\n      <td>276680</td>\n      <td>hopewell junction, new york, usa</td>\n      <td>55.0</td>\n      <td>0</td>\n    </tr>\n  </tbody>\n</table>\n<p>1031132 rows × 9 columns</p>\n</div>"
     },
     "execution_count": 631,
     "metadata": {},
     "output_type": "execute_result"
    }
   ],
   "source": [
    "df"
   ],
   "metadata": {
    "collapsed": false,
    "ExecuteTime": {
     "end_time": "2024-01-28T15:37:48.330969900Z",
     "start_time": "2024-01-28T15:37:48.325986200Z"
    }
   },
   "id": "58629d12d36905a2",
   "execution_count": 631
  },
  {
   "cell_type": "markdown",
   "source": [
    "---"
   ],
   "metadata": {
    "collapsed": false
   },
   "id": "e9390eeb8d83f370"
  },
  {
   "cell_type": "markdown",
   "source": [
    "### Idea\n",
    "\n",
    "We will make a book recommendation system based in the user's last read books. Our final objective is to recommend 10 books for each person. For this, we will first clusterize the books after making a PCA (Principal Component Analysis) considering some characteristics:\n",
    "\n",
    "- Year of Publication\n",
    "- Mean Age of Readers by Book\n",
    "- Mean Age of Readers by Author\n",
    "- Mean Age of Readers by Publisher\n",
    "- Mean Rating by Book\n",
    "- Mean Rating by Author\n",
    "- Mean Rating by Publisher\n",
    "- Mean Rating by Location\n",
    "- Top Location by Book (Count Encoded) - where the book has been more read\n",
    "- Book Contribution to Top Location - what is the fraction of readings the book contributed to in its top place\n",
    "- Book Author (Count Encoded)\n",
    "- Publisher (Count Encoded)\n",
    "- Book Appearance (Count encoding of ISBN)\n",
    "\n",
    "Then, we will recommend numbers of books of the clusters which have books the person already read using K-Nearest Neighbors. Each number will depend on the proportion of books of each cluster the person has read. If it's not possible to complete the 10 books with this technique, books from other clusters will be recommended - in this case, clusters close to the ones from which the books the person read come from will be chosen. "
   ],
   "metadata": {
    "collapsed": false
   },
   "id": "6e349123ccf925d0"
  },
  {
   "cell_type": "markdown",
   "source": [
    "## Data Preprocessing"
   ],
   "metadata": {
    "collapsed": false
   },
   "id": "ec13bfdb8cb9ca55"
  },
  {
   "cell_type": "markdown",
   "source": [
    "### Mean Ages and Ratings"
   ],
   "metadata": {
    "collapsed": false
   },
   "id": "2836e9691cddf848"
  },
  {
   "cell_type": "code",
   "outputs": [],
   "source": [
    "mean_age_by_book = df.groupby(\"Book-Title\")[\"Age\"].mean().rename(\"Mean-Age-By-Book\")\n",
    "df = pd.merge(df, mean_age_by_book, on=\"Book-Title\", how=\"inner\")"
   ],
   "metadata": {
    "collapsed": false,
    "ExecuteTime": {
     "end_time": "2024-01-28T15:37:49.585111500Z",
     "start_time": "2024-01-28T15:37:48.330969900Z"
    }
   },
   "id": "a991f0e78e548c4b",
   "execution_count": 632
  },
  {
   "cell_type": "code",
   "outputs": [],
   "source": [
    "mean_age_by_author = df.groupby(\"Book-Author\")[\"Age\"].mean().rename(\"Mean-Age-By-Author\")\n",
    "df = pd.merge(df, mean_age_by_author, on=\"Book-Author\", how=\"inner\")"
   ],
   "metadata": {
    "collapsed": false,
    "ExecuteTime": {
     "end_time": "2024-01-28T15:37:50.274594200Z",
     "start_time": "2024-01-28T15:37:49.571079900Z"
    }
   },
   "id": "9c19e629eda92599",
   "execution_count": 633
  },
  {
   "cell_type": "code",
   "outputs": [],
   "source": [
    "mean_age_by_publisher = df.groupby(\"Publisher\")[\"Age\"].mean().rename(\"Mean-Age-By-Publisher\")\n",
    "df = pd.merge(df, mean_age_by_publisher, on=\"Publisher\", how=\"inner\")"
   ],
   "metadata": {
    "collapsed": false,
    "ExecuteTime": {
     "end_time": "2024-01-28T15:37:50.809885400Z",
     "start_time": "2024-01-28T15:37:50.277588300Z"
    }
   },
   "id": "2abe7f34b5dbb034",
   "execution_count": 634
  },
  {
   "cell_type": "code",
   "outputs": [],
   "source": [
    "mean_rating_by_book = df.groupby(\"Book-Title\")[\"Book-Rating\"].mean().rename(\"Mean-Rating-By-Book\")\n",
    "df = pd.merge(df, mean_rating_by_book, on=\"Book-Title\", how=\"inner\")"
   ],
   "metadata": {
    "collapsed": false,
    "ExecuteTime": {
     "end_time": "2024-01-28T15:37:51.902489100Z",
     "start_time": "2024-01-28T15:37:50.832557700Z"
    }
   },
   "id": "ad28d27518d1594d",
   "execution_count": 635
  },
  {
   "cell_type": "code",
   "outputs": [],
   "source": [
    "mean_rating_by_author = df.groupby(\"Book-Author\")[\"Book-Rating\"].mean().rename(\"Mean-Rating-By-Author\")\n",
    "df = pd.merge(df, mean_rating_by_author, on=\"Book-Author\", how=\"inner\")"
   ],
   "metadata": {
    "collapsed": false,
    "ExecuteTime": {
     "end_time": "2024-01-28T15:37:52.535821400Z",
     "start_time": "2024-01-28T15:37:51.947257900Z"
    }
   },
   "id": "2d9f88b7c7c16021",
   "execution_count": 636
  },
  {
   "cell_type": "code",
   "outputs": [],
   "source": [
    "mean_rating_by_publisher = df.groupby(\"Publisher\")[\"Book-Rating\"].mean().rename(\"Mean-Rating-By-Publisher\")\n",
    "df = pd.merge(df, mean_rating_by_publisher, on=\"Publisher\", how=\"inner\")"
   ],
   "metadata": {
    "collapsed": false,
    "ExecuteTime": {
     "end_time": "2024-01-28T15:37:53.048079900Z",
     "start_time": "2024-01-28T15:37:52.537815700Z"
    }
   },
   "id": "fcce27141bbd1133",
   "execution_count": 637
  },
  {
   "cell_type": "code",
   "outputs": [],
   "source": [
    "mean_rating_by_location = df.groupby(\"Location\")[\"Book-Rating\"].mean().rename(\"Mean-Rating-By-Location\")\n",
    "df = pd.merge(df, mean_rating_by_location, on=\"Location\", how=\"inner\")"
   ],
   "metadata": {
    "collapsed": false,
    "ExecuteTime": {
     "end_time": "2024-01-28T15:37:54.303845300Z",
     "start_time": "2024-01-28T15:37:53.052068800Z"
    }
   },
   "id": "7f98d087ed896dfc",
   "execution_count": 638
  },
  {
   "cell_type": "code",
   "outputs": [],
   "source": [
    "df = df.drop([\"Age\", \"Book-Rating\", \"User-ID\", \"Book-Title\"], axis=1)"
   ],
   "metadata": {
    "collapsed": false,
    "ExecuteTime": {
     "end_time": "2024-01-28T15:37:54.481055Z",
     "start_time": "2024-01-28T15:37:54.305839700Z"
    }
   },
   "id": "e320003b247f8b8d",
   "execution_count": 639
  },
  {
   "cell_type": "markdown",
   "source": [
    "### Top Location By Book"
   ],
   "metadata": {
    "collapsed": false
   },
   "id": "e53720030549f29"
  },
  {
   "cell_type": "code",
   "outputs": [],
   "source": [
    "location_count_by_book = df.groupby([\"ISBN\", \"Location\"]).size().reset_index(name=\"Readers-Count-In-Top-Location\")\n",
    "top_location_by_book = location_count_by_book.loc[location_count_by_book.groupby(\"ISBN\")[\"Readers-Count-In-Top-Location\"].idxmax()].rename({\"Location\": \"Top-Location-By-Book\"}, axis=1)\n",
    "df = pd.merge(df, top_location_by_book, on=\"ISBN\", how=\"inner\")"
   ],
   "metadata": {
    "collapsed": false,
    "ExecuteTime": {
     "end_time": "2024-01-28T15:38:09.038289300Z",
     "start_time": "2024-01-28T15:37:54.481055Z"
    }
   },
   "id": "d3a37c99b6e80786",
   "execution_count": 640
  },
  {
   "cell_type": "markdown",
   "source": [
    "### Count Encodings"
   ],
   "metadata": {
    "collapsed": false
   },
   "id": "8e96eea75ee16103"
  },
  {
   "cell_type": "code",
   "outputs": [],
   "source": [
    "location_encoder = CountEncoder()\n",
    "df[\"Location-Encoded\"] = location_encoder.fit_transform(df[\"Location\"])"
   ],
   "metadata": {
    "collapsed": false,
    "ExecuteTime": {
     "end_time": "2024-01-28T15:38:10.116703300Z",
     "start_time": "2024-01-28T15:38:09.041281600Z"
    }
   },
   "id": "7fb0b95a1be37868",
   "execution_count": 641
  },
  {
   "cell_type": "code",
   "outputs": [],
   "source": [
    "location_encodings = df.groupby([\"Location\"])[\"Location-Encoded\"].max().rename(\"Top-Location-By-Book-Encoded\")\n",
    "df = df.drop([\"Location-Encoded\"], axis=1)\n",
    "df = pd.merge(df, location_encodings, left_on=\"Top-Location-By-Book\", right_on=\"Location\", how=\"inner\")"
   ],
   "metadata": {
    "collapsed": false,
    "ExecuteTime": {
     "end_time": "2024-01-28T15:38:10.791359300Z",
     "start_time": "2024-01-28T15:38:10.116703300Z"
    }
   },
   "id": "afd6497c131ac670",
   "execution_count": 642
  },
  {
   "cell_type": "code",
   "outputs": [],
   "source": [
    "df = df.drop([\"Location\", \"Top-Location-By-Book\"], axis=1)"
   ],
   "metadata": {
    "collapsed": false,
    "ExecuteTime": {
     "end_time": "2024-01-28T15:38:10.895695Z",
     "start_time": "2024-01-28T15:38:10.837912700Z"
    }
   },
   "id": "280f113de041081b",
   "execution_count": 643
  },
  {
   "cell_type": "code",
   "outputs": [],
   "source": [
    "author_encoder = CountEncoder()\n",
    "df[\"Book-Author-Encoded\"] = author_encoder.fit_transform(df[\"Book-Author\"])\n",
    "df = df.drop([\"Book-Author\"], axis=1)"
   ],
   "metadata": {
    "collapsed": false,
    "ExecuteTime": {
     "end_time": "2024-01-28T15:38:12.292839700Z",
     "start_time": "2024-01-28T15:38:10.911652100Z"
    }
   },
   "id": "64451bc2b9376ee8",
   "execution_count": 644
  },
  {
   "cell_type": "code",
   "outputs": [],
   "source": [
    "publisher_encoder = CountEncoder()\n",
    "df[\"Publisher-Encoded\"] = publisher_encoder.fit_transform(df[\"Publisher\"])\n",
    "df = df.drop([\"Publisher\"], axis=1)"
   ],
   "metadata": {
    "collapsed": false,
    "ExecuteTime": {
     "end_time": "2024-01-28T15:38:13.131045700Z",
     "start_time": "2024-01-28T15:38:12.298825900Z"
    }
   },
   "id": "3c3c83c7e7f299cb",
   "execution_count": 645
  },
  {
   "cell_type": "markdown",
   "source": [
    "### Book Contribution to Top Location"
   ],
   "metadata": {
    "collapsed": false
   },
   "id": "cadbb94e4bdef0dd"
  },
  {
   "cell_type": "code",
   "outputs": [],
   "source": [
    "df[\"Book-Contribution-To-Top-Location\"] = df[\"Readers-Count-In-Top-Location\"]/df[\"Top-Location-By-Book-Encoded\"]\n",
    "\n",
    "df = df.drop([\"Readers-Count-In-Top-Location\"], axis=1)"
   ],
   "metadata": {
    "collapsed": false,
    "ExecuteTime": {
     "end_time": "2024-01-28T15:38:13.225949400Z",
     "start_time": "2024-01-28T15:38:13.135631600Z"
    }
   },
   "id": "5a9cafb893eb7276",
   "execution_count": 646
  },
  {
   "cell_type": "markdown",
   "source": [
    "### Book Appearance"
   ],
   "metadata": {
    "collapsed": false
   },
   "id": "ab95b4fda1da4b2a"
  },
  {
   "cell_type": "code",
   "outputs": [],
   "source": [
    "isbn_encoder = CountEncoder()\n",
    "df[\"Book-Appearance\"] = isbn_encoder.fit_transform(df[\"ISBN\"])"
   ],
   "metadata": {
    "collapsed": false,
    "ExecuteTime": {
     "end_time": "2024-01-28T15:38:15.633378700Z",
     "start_time": "2024-01-28T15:38:13.277931300Z"
    }
   },
   "id": "674629d062e96f2d",
   "execution_count": 647
  },
  {
   "cell_type": "markdown",
   "source": [
    "### Dropping duplicates"
   ],
   "metadata": {
    "collapsed": false
   },
   "id": "957307639f1794ba"
  },
  {
   "cell_type": "code",
   "outputs": [],
   "source": [
    "df = df.drop_duplicates()"
   ],
   "metadata": {
    "collapsed": false,
    "ExecuteTime": {
     "end_time": "2024-01-28T15:38:16.375266500Z",
     "start_time": "2024-01-28T15:38:15.633378700Z"
    }
   },
   "id": "3aa9d87e844591e4",
   "execution_count": 648
  },
  {
   "cell_type": "code",
   "outputs": [
    {
     "data": {
      "text/plain": "               ISBN Year-Of-Publication  Mean-Age-By-Book  Mean-Age-By-Author  \\\n0        0195153448                2002            24.000           24.000000   \n1        0764500546                1996            28.500           28.500000   \n2        0060907924                1980            52.000           31.305085   \n3        0425173305                2000            32.875           33.357143   \n4        0425173305                2000            32.875           33.357143   \n...             ...                 ...               ...                 ...   \n1031127  1902012089                   0            32.000           32.000000   \n1031128  0865341877                1993            80.000           80.000000   \n1031129  9684271980                1995            32.000           32.000000   \n1031130  0971991200                2002            51.000           51.000000   \n1031131  0964408406                1989            32.000           32.000000   \n\n         Mean-Age-By-Publisher  Mean-Rating-By-Book  Mean-Rating-By-Author  \\\n0                    34.682643                3.500               3.500000   \n1                    36.338095                5.000               5.000000   \n2                    37.791306               10.000               3.644068   \n3                    36.940554                4.625               5.071429   \n4                    36.940554                4.625               5.071429   \n...                        ...                  ...                    ...   \n1031127              32.000000                0.000               0.000000   \n1031128              80.000000                0.000               0.000000   \n1031129              32.000000                8.000               8.000000   \n1031130              51.000000                0.000               0.000000   \n1031131              32.000000                7.000               7.000000   \n\n         Mean-Rating-By-Publisher  Mean-Rating-By-Location  \\\n0                        3.496732                 3.730612   \n1                        3.347619                 3.730612   \n2                        2.626382                 3.730612   \n3                        2.424827                 3.730612   \n4                        2.424827                 2.947639   \n...                           ...                      ...   \n1031127                  0.000000                 0.000000   \n1031128                  0.000000                 0.000000   \n1031129                  8.000000                 8.000000   \n1031130                  0.000000                 0.000000   \n1031131                  7.000000                 7.000000   \n\n         Top-Location-By-Book-Encoded  Book-Author-Encoded  Publisher-Encoded  \\\n0                                 245                    2               2754   \n1                                 245                    2                630   \n2                                 245                   59               6694   \n3                                 245                   14              28614   \n4                                 245                   14              28614   \n...                               ...                  ...                ...   \n1031127                             1                    2                  2   \n1031128                             1                    1                  1   \n1031129                             1                    1                  1   \n1031130                             1                    1                  1   \n1031131                             1                    1                  1   \n\n         Book-Contribution-To-Top-Location  Book-Appearance  \n0                                 0.004082                1  \n1                                 0.004082                1  \n2                                 0.004082                1  \n3                                 0.004082                3  \n4                                 0.004082                3  \n...                                    ...              ...  \n1031127                           1.000000                1  \n1031128                           1.000000                1  \n1031129                           1.000000                1  \n1031130                           1.000000                1  \n1031131                           1.000000                1  \n\n[978024 rows x 14 columns]",
      "text/html": "<div>\n<style scoped>\n    .dataframe tbody tr th:only-of-type {\n        vertical-align: middle;\n    }\n\n    .dataframe tbody tr th {\n        vertical-align: top;\n    }\n\n    .dataframe thead th {\n        text-align: right;\n    }\n</style>\n<table border=\"1\" class=\"dataframe\">\n  <thead>\n    <tr style=\"text-align: right;\">\n      <th></th>\n      <th>ISBN</th>\n      <th>Year-Of-Publication</th>\n      <th>Mean-Age-By-Book</th>\n      <th>Mean-Age-By-Author</th>\n      <th>Mean-Age-By-Publisher</th>\n      <th>Mean-Rating-By-Book</th>\n      <th>Mean-Rating-By-Author</th>\n      <th>Mean-Rating-By-Publisher</th>\n      <th>Mean-Rating-By-Location</th>\n      <th>Top-Location-By-Book-Encoded</th>\n      <th>Book-Author-Encoded</th>\n      <th>Publisher-Encoded</th>\n      <th>Book-Contribution-To-Top-Location</th>\n      <th>Book-Appearance</th>\n    </tr>\n  </thead>\n  <tbody>\n    <tr>\n      <th>0</th>\n      <td>0195153448</td>\n      <td>2002</td>\n      <td>24.000</td>\n      <td>24.000000</td>\n      <td>34.682643</td>\n      <td>3.500</td>\n      <td>3.500000</td>\n      <td>3.496732</td>\n      <td>3.730612</td>\n      <td>245</td>\n      <td>2</td>\n      <td>2754</td>\n      <td>0.004082</td>\n      <td>1</td>\n    </tr>\n    <tr>\n      <th>1</th>\n      <td>0764500546</td>\n      <td>1996</td>\n      <td>28.500</td>\n      <td>28.500000</td>\n      <td>36.338095</td>\n      <td>5.000</td>\n      <td>5.000000</td>\n      <td>3.347619</td>\n      <td>3.730612</td>\n      <td>245</td>\n      <td>2</td>\n      <td>630</td>\n      <td>0.004082</td>\n      <td>1</td>\n    </tr>\n    <tr>\n      <th>2</th>\n      <td>0060907924</td>\n      <td>1980</td>\n      <td>52.000</td>\n      <td>31.305085</td>\n      <td>37.791306</td>\n      <td>10.000</td>\n      <td>3.644068</td>\n      <td>2.626382</td>\n      <td>3.730612</td>\n      <td>245</td>\n      <td>59</td>\n      <td>6694</td>\n      <td>0.004082</td>\n      <td>1</td>\n    </tr>\n    <tr>\n      <th>3</th>\n      <td>0425173305</td>\n      <td>2000</td>\n      <td>32.875</td>\n      <td>33.357143</td>\n      <td>36.940554</td>\n      <td>4.625</td>\n      <td>5.071429</td>\n      <td>2.424827</td>\n      <td>3.730612</td>\n      <td>245</td>\n      <td>14</td>\n      <td>28614</td>\n      <td>0.004082</td>\n      <td>3</td>\n    </tr>\n    <tr>\n      <th>4</th>\n      <td>0425173305</td>\n      <td>2000</td>\n      <td>32.875</td>\n      <td>33.357143</td>\n      <td>36.940554</td>\n      <td>4.625</td>\n      <td>5.071429</td>\n      <td>2.424827</td>\n      <td>2.947639</td>\n      <td>245</td>\n      <td>14</td>\n      <td>28614</td>\n      <td>0.004082</td>\n      <td>3</td>\n    </tr>\n    <tr>\n      <th>...</th>\n      <td>...</td>\n      <td>...</td>\n      <td>...</td>\n      <td>...</td>\n      <td>...</td>\n      <td>...</td>\n      <td>...</td>\n      <td>...</td>\n      <td>...</td>\n      <td>...</td>\n      <td>...</td>\n      <td>...</td>\n      <td>...</td>\n      <td>...</td>\n    </tr>\n    <tr>\n      <th>1031127</th>\n      <td>1902012089</td>\n      <td>0</td>\n      <td>32.000</td>\n      <td>32.000000</td>\n      <td>32.000000</td>\n      <td>0.000</td>\n      <td>0.000000</td>\n      <td>0.000000</td>\n      <td>0.000000</td>\n      <td>1</td>\n      <td>2</td>\n      <td>2</td>\n      <td>1.000000</td>\n      <td>1</td>\n    </tr>\n    <tr>\n      <th>1031128</th>\n      <td>0865341877</td>\n      <td>1993</td>\n      <td>80.000</td>\n      <td>80.000000</td>\n      <td>80.000000</td>\n      <td>0.000</td>\n      <td>0.000000</td>\n      <td>0.000000</td>\n      <td>0.000000</td>\n      <td>1</td>\n      <td>1</td>\n      <td>1</td>\n      <td>1.000000</td>\n      <td>1</td>\n    </tr>\n    <tr>\n      <th>1031129</th>\n      <td>9684271980</td>\n      <td>1995</td>\n      <td>32.000</td>\n      <td>32.000000</td>\n      <td>32.000000</td>\n      <td>8.000</td>\n      <td>8.000000</td>\n      <td>8.000000</td>\n      <td>8.000000</td>\n      <td>1</td>\n      <td>1</td>\n      <td>1</td>\n      <td>1.000000</td>\n      <td>1</td>\n    </tr>\n    <tr>\n      <th>1031130</th>\n      <td>0971991200</td>\n      <td>2002</td>\n      <td>51.000</td>\n      <td>51.000000</td>\n      <td>51.000000</td>\n      <td>0.000</td>\n      <td>0.000000</td>\n      <td>0.000000</td>\n      <td>0.000000</td>\n      <td>1</td>\n      <td>1</td>\n      <td>1</td>\n      <td>1.000000</td>\n      <td>1</td>\n    </tr>\n    <tr>\n      <th>1031131</th>\n      <td>0964408406</td>\n      <td>1989</td>\n      <td>32.000</td>\n      <td>32.000000</td>\n      <td>32.000000</td>\n      <td>7.000</td>\n      <td>7.000000</td>\n      <td>7.000000</td>\n      <td>7.000000</td>\n      <td>1</td>\n      <td>1</td>\n      <td>1</td>\n      <td>1.000000</td>\n      <td>1</td>\n    </tr>\n  </tbody>\n</table>\n<p>978024 rows × 14 columns</p>\n</div>"
     },
     "execution_count": 649,
     "metadata": {},
     "output_type": "execute_result"
    }
   ],
   "source": [
    "df"
   ],
   "metadata": {
    "collapsed": false,
    "ExecuteTime": {
     "end_time": "2024-01-28T15:38:16.395732900Z",
     "start_time": "2024-01-28T15:38:16.376255Z"
    }
   },
   "id": "99a5583d102a2f6b",
   "execution_count": 649
  },
  {
   "cell_type": "code",
   "outputs": [],
   "source": [],
   "metadata": {
    "collapsed": false,
    "ExecuteTime": {
     "end_time": "2024-01-28T15:38:16.413894800Z",
     "start_time": "2024-01-28T15:38:16.397352900Z"
    }
   },
   "id": "9f7751b1cf0d506e",
   "execution_count": 649
  }
 ],
 "metadata": {
  "kernelspec": {
   "display_name": "Python 3",
   "language": "python",
   "name": "python3"
  },
  "language_info": {
   "codemirror_mode": {
    "name": "ipython",
    "version": 2
   },
   "file_extension": ".py",
   "mimetype": "text/x-python",
   "name": "python",
   "nbconvert_exporter": "python",
   "pygments_lexer": "ipython2",
   "version": "2.7.6"
  }
 },
 "nbformat": 4,
 "nbformat_minor": 5
}
