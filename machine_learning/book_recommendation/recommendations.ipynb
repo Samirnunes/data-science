{
 "cells": [
  {
   "cell_type": "code",
   "outputs": [],
   "source": [
    "from utils import import_final_data\n",
    "from book_recommendation_algorithm import BookRecommendationAlgorithm"
   ],
   "metadata": {
    "collapsed": false,
    "ExecuteTime": {
     "end_time": "2024-02-04T00:56:10.694713500Z",
     "start_time": "2024-02-04T00:56:10.225741300Z"
    }
   },
   "id": "44722a0c2c78a59c",
   "execution_count": 1
  },
  {
   "cell_type": "code",
   "outputs": [
    {
     "name": "stdout",
     "output_type": "stream",
     "text": [
      "Preprocessing main data...\n",
      "Generating X_train for algorithms...\n",
      "Computing PCA...\n",
      "Computing K-Means...\n",
      "Generating X_train for algorithms...\n",
      "Preprocessing users already read books data...\n",
      "Adding clusters to X_train data...\n",
      "Saving data...\n",
      "Computing recommendations...\n"
     ]
    },
    {
     "name": "stderr",
     "output_type": "stream",
     "text": [
      "100%|██████████| 100/100 [02:39<00:00,  1.59s/it]\n"
     ]
    }
   ],
   "source": [
    "df_books, df_users_already_read, df_main, X_train = import_final_data()\n",
    "recommendations = BookRecommendationAlgorithm().persist_fit_recommend(df_books, df_users_already_read, 100)"
   ],
   "metadata": {
    "collapsed": false,
    "ExecuteTime": {
     "end_time": "2024-02-04T00:59:34.076436700Z",
     "start_time": "2024-02-04T00:56:10.697705600Z"
    }
   },
   "id": "ee55b5729e7adf3",
   "execution_count": 2
  },
  {
   "cell_type": "code",
   "outputs": [
    {
     "data": {
      "text/plain": "    User-ID        ISBN                                         Book-Title\n0         2  0199109052                The Diary of a Teenage Health Freak\n1         2  1558535969  How To Be A Gentleman : A Contemporary Guide t...\n2         2  0060393025  The Best Friend's Guide to Planning a Wedding ...\n3         2  0380809079               Hot Stuff : A Brief History of Disco\n4         2  0198602022                        The Oxford Color Dictionary\n..      ...         ...                                                ...\n995     310  8483004763   El professor de mÃºsica (ColÂ¨lecciÃ³ clÃ ssica)\n996     310  0806994959   Origami Boxes For Gifts, Treasures &amp; Trifles\n997     310  0874173035  Wild Indians &amp; Other Creatures (Western Li...\n998     310  1558321276  The Vegetarian Grill: 200 Recipes for Inspired...\n999     310  0416196772                      Eeyore's Little Book of Gloom\n\n[1000 rows x 3 columns]",
      "text/html": "<div>\n<style scoped>\n    .dataframe tbody tr th:only-of-type {\n        vertical-align: middle;\n    }\n\n    .dataframe tbody tr th {\n        vertical-align: top;\n    }\n\n    .dataframe thead th {\n        text-align: right;\n    }\n</style>\n<table border=\"1\" class=\"dataframe\">\n  <thead>\n    <tr style=\"text-align: right;\">\n      <th></th>\n      <th>User-ID</th>\n      <th>ISBN</th>\n      <th>Book-Title</th>\n    </tr>\n  </thead>\n  <tbody>\n    <tr>\n      <th>0</th>\n      <td>2</td>\n      <td>0199109052</td>\n      <td>The Diary of a Teenage Health Freak</td>\n    </tr>\n    <tr>\n      <th>1</th>\n      <td>2</td>\n      <td>1558535969</td>\n      <td>How To Be A Gentleman : A Contemporary Guide t...</td>\n    </tr>\n    <tr>\n      <th>2</th>\n      <td>2</td>\n      <td>0060393025</td>\n      <td>The Best Friend's Guide to Planning a Wedding ...</td>\n    </tr>\n    <tr>\n      <th>3</th>\n      <td>2</td>\n      <td>0380809079</td>\n      <td>Hot Stuff : A Brief History of Disco</td>\n    </tr>\n    <tr>\n      <th>4</th>\n      <td>2</td>\n      <td>0198602022</td>\n      <td>The Oxford Color Dictionary</td>\n    </tr>\n    <tr>\n      <th>...</th>\n      <td>...</td>\n      <td>...</td>\n      <td>...</td>\n    </tr>\n    <tr>\n      <th>995</th>\n      <td>310</td>\n      <td>8483004763</td>\n      <td>El professor de mÃºsica (ColÂ¨lecciÃ³ clÃ ssica)</td>\n    </tr>\n    <tr>\n      <th>996</th>\n      <td>310</td>\n      <td>0806994959</td>\n      <td>Origami Boxes For Gifts, Treasures &amp;amp; Trifles</td>\n    </tr>\n    <tr>\n      <th>997</th>\n      <td>310</td>\n      <td>0874173035</td>\n      <td>Wild Indians &amp;amp; Other Creatures (Western Li...</td>\n    </tr>\n    <tr>\n      <th>998</th>\n      <td>310</td>\n      <td>1558321276</td>\n      <td>The Vegetarian Grill: 200 Recipes for Inspired...</td>\n    </tr>\n    <tr>\n      <th>999</th>\n      <td>310</td>\n      <td>0416196772</td>\n      <td>Eeyore's Little Book of Gloom</td>\n    </tr>\n  </tbody>\n</table>\n<p>1000 rows × 3 columns</p>\n</div>"
     },
     "execution_count": 3,
     "metadata": {},
     "output_type": "execute_result"
    }
   ],
   "source": [
    "recommendations"
   ],
   "metadata": {
    "collapsed": false,
    "ExecuteTime": {
     "end_time": "2024-02-04T01:00:27.534867100Z",
     "start_time": "2024-02-04T01:00:27.505803800Z"
    }
   },
   "id": "1d9aa61ee8433d73",
   "execution_count": 3
  },
  {
   "cell_type": "code",
   "outputs": [],
   "source": [],
   "metadata": {
    "collapsed": false
   },
   "id": "e87af7bf3d898e30"
  }
 ],
 "metadata": {
  "kernelspec": {
   "display_name": "Python 3",
   "language": "python",
   "name": "python3"
  },
  "language_info": {
   "codemirror_mode": {
    "name": "ipython",
    "version": 2
   },
   "file_extension": ".py",
   "mimetype": "text/x-python",
   "name": "python",
   "nbconvert_exporter": "python",
   "pygments_lexer": "ipython2",
   "version": "2.7.6"
  }
 },
 "nbformat": 4,
 "nbformat_minor": 5
}
