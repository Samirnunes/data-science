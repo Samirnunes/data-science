{
 "cells": [
  {
   "cell_type": "code",
   "execution_count": 1,
   "id": "44722a0c2c78a59c",
   "metadata": {
    "collapsed": false,
    "ExecuteTime": {
     "end_time": "2024-02-04T23:02:14.163830800Z",
     "start_time": "2024-02-04T23:02:13.662186300Z"
    }
   },
   "outputs": [],
   "source": [
    "from utils import import_final_data\n",
    "from book_recommendation_algorithm import BookRecommendationAlgorithm"
   ]
  },
  {
   "cell_type": "code",
   "execution_count": 2,
   "id": "ee55b5729e7adf3",
   "metadata": {
    "collapsed": false,
    "ExecuteTime": {
     "end_time": "2024-02-04T23:06:21.069551200Z",
     "start_time": "2024-02-04T23:02:14.166822700Z"
    }
   },
   "outputs": [
    {
     "name": "stdout",
     "output_type": "stream",
     "text": [
      "Preprocessing main data...\n",
      "Generating X_train for algorithms...\n",
      "Computing PCA...\n",
      "Computing K-Means...\n",
      "Preprocessing users already read books data...\n",
      "Adding clusters to X_train data...\n",
      "Saving data...\n",
      "Computing recommendations...\n"
     ]
    },
    {
     "name": "stderr",
     "output_type": "stream",
     "text": [
      "100%|██████████| 100/100 [03:22<00:00,  2.03s/it]\n"
     ]
    }
   ],
   "source": [
    "df_books, df_users_already_read, df_main, X_train = import_final_data()\n",
    "recommendations = BookRecommendationAlgorithm().fit_recommend(df_books, df_users_already_read, 100)"
   ]
  },
  {
   "cell_type": "code",
   "execution_count": 3,
   "id": "1d9aa61ee8433d73",
   "metadata": {
    "collapsed": false,
    "ExecuteTime": {
     "end_time": "2024-02-04T23:06:21.091786400Z",
     "start_time": "2024-02-04T23:06:21.069551200Z"
    }
   },
   "outputs": [
    {
     "data": {
      "text/plain": "    User-ID        ISBN                                         Book-Title\n0         2  1558535969  How To Be A Gentleman : A Contemporary Guide t...\n1         2  0198602022                        The Oxford Color Dictionary\n2         2  0195129067  The Gettysburg Nobody Knows (Gettysburg Lectures)\n3         2  006093185X                                            Bootleg\n4         2  0609809768  Esquire Presents: What It Feels Like : *To Wal...\n..      ...         ...                                                ...\n995     310  0465068626  Our Final Hour: A Scientist's Warning: How Ter...\n996     310  8483004763   El professor de mÃºsica (ColÂ¨lecciÃ³ clÃ ssica)\n997     310  0828903689                          The childfree alternative\n998     310  0898797063  Aliens and Alien Societies (Science Fiction Wr...\n999     310  0691017379                                The Seducer's Diary\n\n[1000 rows x 3 columns]",
      "text/html": "<div>\n<style scoped>\n    .dataframe tbody tr th:only-of-type {\n        vertical-align: middle;\n    }\n\n    .dataframe tbody tr th {\n        vertical-align: top;\n    }\n\n    .dataframe thead th {\n        text-align: right;\n    }\n</style>\n<table border=\"1\" class=\"dataframe\">\n  <thead>\n    <tr style=\"text-align: right;\">\n      <th></th>\n      <th>User-ID</th>\n      <th>ISBN</th>\n      <th>Book-Title</th>\n    </tr>\n  </thead>\n  <tbody>\n    <tr>\n      <th>0</th>\n      <td>2</td>\n      <td>1558535969</td>\n      <td>How To Be A Gentleman : A Contemporary Guide t...</td>\n    </tr>\n    <tr>\n      <th>1</th>\n      <td>2</td>\n      <td>0198602022</td>\n      <td>The Oxford Color Dictionary</td>\n    </tr>\n    <tr>\n      <th>2</th>\n      <td>2</td>\n      <td>0195129067</td>\n      <td>The Gettysburg Nobody Knows (Gettysburg Lectures)</td>\n    </tr>\n    <tr>\n      <th>3</th>\n      <td>2</td>\n      <td>006093185X</td>\n      <td>Bootleg</td>\n    </tr>\n    <tr>\n      <th>4</th>\n      <td>2</td>\n      <td>0609809768</td>\n      <td>Esquire Presents: What It Feels Like : *To Wal...</td>\n    </tr>\n    <tr>\n      <th>...</th>\n      <td>...</td>\n      <td>...</td>\n      <td>...</td>\n    </tr>\n    <tr>\n      <th>995</th>\n      <td>310</td>\n      <td>0465068626</td>\n      <td>Our Final Hour: A Scientist's Warning: How Ter...</td>\n    </tr>\n    <tr>\n      <th>996</th>\n      <td>310</td>\n      <td>8483004763</td>\n      <td>El professor de mÃºsica (ColÂ¨lecciÃ³ clÃ ssica)</td>\n    </tr>\n    <tr>\n      <th>997</th>\n      <td>310</td>\n      <td>0828903689</td>\n      <td>The childfree alternative</td>\n    </tr>\n    <tr>\n      <th>998</th>\n      <td>310</td>\n      <td>0898797063</td>\n      <td>Aliens and Alien Societies (Science Fiction Wr...</td>\n    </tr>\n    <tr>\n      <th>999</th>\n      <td>310</td>\n      <td>0691017379</td>\n      <td>The Seducer's Diary</td>\n    </tr>\n  </tbody>\n</table>\n<p>1000 rows × 3 columns</p>\n</div>"
     },
     "execution_count": 3,
     "metadata": {},
     "output_type": "execute_result"
    }
   ],
   "source": [
    "recommendations"
   ]
  }
 ],
 "metadata": {
  "kernelspec": {
   "display_name": "Python 3 (ipykernel)",
   "language": "python",
   "name": "python3"
  },
  "language_info": {
   "codemirror_mode": {
    "name": "ipython",
    "version": 3
   },
   "file_extension": ".py",
   "mimetype": "text/x-python",
   "name": "python",
   "nbconvert_exporter": "python",
   "pygments_lexer": "ipython3",
   "version": "3.11.4"
  }
 },
 "nbformat": 4,
 "nbformat_minor": 5
}
