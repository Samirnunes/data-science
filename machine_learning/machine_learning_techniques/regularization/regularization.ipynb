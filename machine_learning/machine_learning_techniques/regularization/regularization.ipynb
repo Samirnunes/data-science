{
 "cells": [
  {
   "cell_type": "markdown",
   "metadata": {},
   "source": [
    "## Regularização"
   ]
  },
  {
   "cell_type": "code",
   "execution_count": 17,
   "metadata": {},
   "outputs": [],
   "source": [
    "import sys\n",
    "sys.path.append('../../..')\n",
    "\n",
    "from machine_learning.model_implementation.linear_regression.linear_regression_utils import *\n",
    "from machine_learning.model_implementation.linear_regression.linear_regressor import LinearRegressionParameters\n",
    "from linear_regressor_displayer import LinearRegressorDisplayer"
   ]
  },
  {
   "cell_type": "code",
   "execution_count": 18,
   "metadata": {},
   "outputs": [],
   "source": [
    "X_train, X_val, X_test, y_train, y_val, y_test = preprocess(import_data())"
   ]
  },
  {
   "cell_type": "code",
   "execution_count": 19,
   "metadata": {},
   "outputs": [
    {
     "data": {
      "application/vnd.jupyter.widget-view+json": {
       "model_id": "fab40bea29664bd9b4d05ab73feb5251",
       "version_major": 2,
       "version_minor": 0
      },
      "text/plain": [
       "IntSlider(value=0, description='Epoch', max=20)"
      ]
     },
     "metadata": {},
     "output_type": "display_data"
    },
    {
     "data": {
      "application/vnd.jupyter.widget-view+json": {
       "model_id": "bf96615a2ddc402ba88bb0114ee15793",
       "version_major": 2,
       "version_minor": 0
      },
      "text/plain": [
       "Output()"
      ]
     },
     "metadata": {},
     "output_type": "display_data"
    }
   ],
   "source": [
    "l2_parameters = LinearRegressionParameters()\n",
    "l2_parameters.initial_weights = list(map(lambda x: float(x), range(1, len(X_train.columns) + 1)))\n",
    "l2_parameters.epochs = 20\n",
    "l2_parameters.lambda_reg = 0.1\n",
    "l2_parameters.gama_reg = 0.0\n",
    "l2_parameters.batch_size = 40\n",
    "l2_parameters.random_state = 0\n",
    "l2_model = LinearRegressorDisplayer(l2_parameters)\n",
    "l2_model.fit_store(X_train, y_train, only_reg = False)\n",
    "l2_model.display_ws_history()"
   ]
  },
  {
   "cell_type": "code",
   "execution_count": 20,
   "metadata": {},
   "outputs": [
    {
     "data": {
      "application/vnd.jupyter.widget-view+json": {
       "model_id": "b4da945eab6848cfb5c78c47da381f71",
       "version_major": 2,
       "version_minor": 0
      },
      "text/plain": [
       "IntSlider(value=0, description='Epoch', max=1000)"
      ]
     },
     "metadata": {},
     "output_type": "display_data"
    },
    {
     "data": {
      "application/vnd.jupyter.widget-view+json": {
       "model_id": "4d114d719d874d24b8e254acde3baa0e",
       "version_major": 2,
       "version_minor": 0
      },
      "text/plain": [
       "Output()"
      ]
     },
     "metadata": {},
     "output_type": "display_data"
    }
   ],
   "source": [
    "l1_parameters = LinearRegressionParameters()\n",
    "l1_parameters.initial_weights = list(map(lambda x: float(x), range(1, len(X_train.columns) + 1)))\n",
    "l1_parameters.epochs = 1000\n",
    "l1_parameters.gama_reg = 0.01\n",
    "l1_parameters.lambda_reg = 0.0\n",
    "l1_parameters.batch_size = 40\n",
    "l1_parameters.random_state = 0\n",
    "l1_model = LinearRegressorDisplayer(l1_parameters)\n",
    "l1_model.fit_store(X_train, y_train, only_reg = False)\n",
    "l1_model.display_ws_history()"
   ]
  },
  {
   "cell_type": "code",
   "execution_count": 21,
   "metadata": {},
   "outputs": [
    {
     "data": {
      "application/vnd.jupyter.widget-view+json": {
       "model_id": "2ab4eb93e2804bb0ba3539c68f7fd4e3",
       "version_major": 2,
       "version_minor": 0
      },
      "text/plain": [
       "IntSlider(value=0, description='Epoch', max=20)"
      ]
     },
     "metadata": {},
     "output_type": "display_data"
    },
    {
     "data": {
      "application/vnd.jupyter.widget-view+json": {
       "model_id": "2343dba399e1462baa21475b5b76a097",
       "version_major": 2,
       "version_minor": 0
      },
      "text/plain": [
       "Output()"
      ]
     },
     "metadata": {},
     "output_type": "display_data"
    }
   ],
   "source": [
    "l2_model_only_reg = LinearRegressorDisplayer(l2_parameters)\n",
    "l2_model_only_reg.fit_store(X_train, y_train, only_reg = True)\n",
    "l2_model_only_reg.display_ws_history()"
   ]
  },
  {
   "cell_type": "code",
   "execution_count": 22,
   "metadata": {},
   "outputs": [
    {
     "data": {
      "application/vnd.jupyter.widget-view+json": {
       "model_id": "0b7f6b5273b34a3ab52d87f4bc166750",
       "version_major": 2,
       "version_minor": 0
      },
      "text/plain": [
       "IntSlider(value=0, description='Epoch', max=1000)"
      ]
     },
     "metadata": {},
     "output_type": "display_data"
    },
    {
     "data": {
      "application/vnd.jupyter.widget-view+json": {
       "model_id": "1f9998bd687445fa8abbf2eb866e14ce",
       "version_major": 2,
       "version_minor": 0
      },
      "text/plain": [
       "Output()"
      ]
     },
     "metadata": {},
     "output_type": "display_data"
    }
   ],
   "source": [
    "l1_model_only_reg = LinearRegressorDisplayer(l1_parameters)\n",
    "l1_model_only_reg.fit_store(X_train, y_train, only_reg = True)\n",
    "l1_model_only_reg.display_ws_history()"
   ]
  }
 ],
 "metadata": {
  "kernelspec": {
   "display_name": "Python 3 (ipykernel)",
   "language": "python",
   "name": "python3"
  },
  "language_info": {
   "codemirror_mode": {
    "name": "ipython",
    "version": 3
   },
   "file_extension": ".py",
   "mimetype": "text/x-python",
   "name": "python",
   "nbconvert_exporter": "python",
   "pygments_lexer": "ipython3",
   "version": "3.11.4"
  }
 },
 "nbformat": 4,
 "nbformat_minor": 4
}
