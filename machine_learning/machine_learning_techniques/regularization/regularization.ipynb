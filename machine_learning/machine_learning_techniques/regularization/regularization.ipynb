{
 "cells": [
  {
   "cell_type": "markdown",
   "metadata": {},
   "source": [
    "## Regularização"
   ]
  },
  {
   "cell_type": "code",
   "execution_count": 1,
   "metadata": {},
   "outputs": [],
   "source": [
    "import os\n",
    "import sys\n",
    "sys.path.append('../')\n",
    "sys.path.append('../../')\n",
    "\n",
    "import pandas as pd\n",
    "from model_implementation.utils.utils import *\n",
    "from model_implementation.linear_regression.linear_regressor import LinearRegressionParameters\n",
    "from linear_regressor_displayer import LinearRegressorDisplayer\n",
    "\n",
    "import ipywidgets as widgets\n",
    "from IPython.display import display\n",
    "import matplotlib.pyplot as plt"
   ]
  },
  {
   "cell_type": "code",
   "execution_count": 2,
   "metadata": {},
   "outputs": [],
   "source": [
    "data_path = '../../model_implementation/linear_regression/data/adm_data.csv'\n",
    "data = pd.read_csv(data_path)\n",
    "data.rename(columns = {'Chance of Admit ': 'Chance of Admit'}, inplace = True)\n",
    "data.rename(columns = {'LOR ': 'LOR'}, inplace = True)\n",
    "data.drop([\"Serial No.\"], axis = 1, inplace = True)\n",
    "\n",
    "random_state = 0\n",
    "data = shuffle_data(data, random_state)\n",
    "X = data.drop(columns = [\"Chance of Admit\"])\n",
    "y = data[\"Chance of Admit\"]\n",
    "X_train, X_val, X_test, y_train, y_val, y_test = split_data(X, y, 0.15, 0.15)\n",
    "X_val = standard_scale(X_val, X_train)\n",
    "X_test = standard_scale(X_test, X_train)\n",
    "X_train = standard_scale(X_train, X_train)"
   ]
  },
  {
   "cell_type": "code",
   "execution_count": 3,
   "metadata": {},
   "outputs": [
    {
     "data": {
      "application/vnd.jupyter.widget-view+json": {
       "model_id": "6cd6e394fd274d518048549176c4a23a",
       "version_major": 2,
       "version_minor": 0
      },
      "text/plain": [
       "IntSlider(value=0, description='Epoch', max=20)"
      ]
     },
     "metadata": {},
     "output_type": "display_data"
    },
    {
     "data": {
      "application/vnd.jupyter.widget-view+json": {
       "model_id": "7bca2b266b3248e2982451826c24e8d3",
       "version_major": 2,
       "version_minor": 0
      },
      "text/plain": [
       "Output()"
      ]
     },
     "metadata": {},
     "output_type": "display_data"
    }
   ],
   "source": [
    "l2_parameters = LinearRegressionParameters()\n",
    "l2_parameters.initial_weights = list(map(lambda x: float(x), range(1, len(X_train.columns) + 1)))\n",
    "l2_parameters.epochs = 20\n",
    "l2_parameters.lambda_reg = 0.1\n",
    "l2_parameters.gama_reg = 0.0\n",
    "l2_parameters.batch_size = 40\n",
    "l2_parameters.random_state = 0\n",
    "l2_model = LinearRegressorDisplayer(l2_parameters)\n",
    "l2_model.fit_store(X_train, y_train, only_reg = False)\n",
    "l2_model.display_ws_history()"
   ]
  },
  {
   "cell_type": "code",
   "execution_count": 4,
   "metadata": {},
   "outputs": [
    {
     "data": {
      "application/vnd.jupyter.widget-view+json": {
       "model_id": "18085af87f0d4f9ba31aefdf82d97577",
       "version_major": 2,
       "version_minor": 0
      },
      "text/plain": [
       "IntSlider(value=0, description='Epoch', max=1000)"
      ]
     },
     "metadata": {},
     "output_type": "display_data"
    },
    {
     "data": {
      "application/vnd.jupyter.widget-view+json": {
       "model_id": "9380d56da91840f39e2042a8847e954d",
       "version_major": 2,
       "version_minor": 0
      },
      "text/plain": [
       "Output()"
      ]
     },
     "metadata": {},
     "output_type": "display_data"
    }
   ],
   "source": [
    "l1_parameters = LinearRegressionParameters()\n",
    "l1_parameters.initial_weights = list(map(lambda x: float(x), range(1, len(X_train.columns) + 1)))\n",
    "l1_parameters.epochs = 1000\n",
    "l1_parameters.gama_reg = 0.01\n",
    "l1_parameters.lambda_reg = 0.0\n",
    "l1_parameters.batch_size = 40\n",
    "l1_parameters.random_state = 0\n",
    "l1_model = LinearRegressorDisplayer(l1_parameters)\n",
    "l1_model.fit_store(X_train, y_train, only_reg = False)\n",
    "l1_model.display_ws_history()"
   ]
  },
  {
   "cell_type": "code",
   "execution_count": 5,
   "metadata": {},
   "outputs": [
    {
     "data": {
      "application/vnd.jupyter.widget-view+json": {
       "model_id": "c9ea0d72e3f04287bb180a0e74f621fe",
       "version_major": 2,
       "version_minor": 0
      },
      "text/plain": [
       "IntSlider(value=0, description='Epoch', max=20)"
      ]
     },
     "metadata": {},
     "output_type": "display_data"
    },
    {
     "data": {
      "application/vnd.jupyter.widget-view+json": {
       "model_id": "efa12bc4c0934fc28c60fc92095e5636",
       "version_major": 2,
       "version_minor": 0
      },
      "text/plain": [
       "Output()"
      ]
     },
     "metadata": {},
     "output_type": "display_data"
    }
   ],
   "source": [
    "l2_model_only_reg = LinearRegressorDisplayer(l2_parameters)\n",
    "l2_model_only_reg.fit_store(X_train, y_train, only_reg = True)\n",
    "l2_model_only_reg.display_ws_history()"
   ]
  },
  {
   "cell_type": "code",
   "execution_count": 6,
   "metadata": {},
   "outputs": [
    {
     "data": {
      "application/vnd.jupyter.widget-view+json": {
       "model_id": "eb7edda327d446ce97c9fa41b04d89b3",
       "version_major": 2,
       "version_minor": 0
      },
      "text/plain": [
       "IntSlider(value=0, description='Epoch', max=1000)"
      ]
     },
     "metadata": {},
     "output_type": "display_data"
    },
    {
     "data": {
      "application/vnd.jupyter.widget-view+json": {
       "model_id": "22829390cbf74b2ea6436ec01f75d0ca",
       "version_major": 2,
       "version_minor": 0
      },
      "text/plain": [
       "Output()"
      ]
     },
     "metadata": {},
     "output_type": "display_data"
    }
   ],
   "source": [
    "l1_model_only_reg = LinearRegressorDisplayer(l1_parameters)\n",
    "l1_model_only_reg.fit_store(X_train, y_train, only_reg = True)\n",
    "l1_model_only_reg.display_ws_history()"
   ]
  }
 ],
 "metadata": {
  "kernelspec": {
   "display_name": "data-science",
   "language": "python",
   "name": "python3"
  },
  "language_info": {
   "codemirror_mode": {
    "name": "ipython",
    "version": 3
   },
   "file_extension": ".py",
   "mimetype": "text/x-python",
   "name": "python",
   "nbconvert_exporter": "python",
   "pygments_lexer": "ipython3",
   "version": "3.11.4"
  }
 },
 "nbformat": 4,
 "nbformat_minor": 2
}
