{
 "cells": [
  {
   "cell_type": "markdown",
   "metadata": {},
   "source": [
    "## Regularização"
   ]
  },
  {
   "cell_type": "markdown",
   "metadata": {},
   "source": [
    "### Importando Bibliotecas"
   ]
  },
  {
   "cell_type": "code",
   "execution_count": 1,
   "metadata": {},
   "outputs": [],
   "source": [
    "import sys\n",
    "sys.path.append('../../..')\n",
    "\n",
    "from machine_learning.machine_learning_techniques.utils.churn_modelling_utils import *\n",
    "from machine_learning.model_implementation.linear_regression.linear_regressor import LinearRegressionParameters\n",
    "from linear_regressor_displayer import LinearRegressorDisplayer"
   ]
  },
  {
   "cell_type": "markdown",
   "metadata": {},
   "source": [
    "### Importandos os Dados"
   ]
  },
  {
   "cell_type": "code",
   "execution_count": 2,
   "metadata": {},
   "outputs": [],
   "source": [
    "X_train, X_test, y_train, y_test = preprocess(import_data())"
   ]
  },
  {
   "cell_type": "markdown",
   "metadata": {},
   "source": [
    "### Regressão Linear com Regularização L2"
   ]
  },
  {
   "cell_type": "code",
   "execution_count": 3,
   "metadata": {},
   "outputs": [
    {
     "data": {
      "application/vnd.jupyter.widget-view+json": {
       "model_id": "f0daa898e00f43129f7c9ab77c2628f3",
       "version_major": 2,
       "version_minor": 0
      },
      "text/plain": [
       "IntSlider(value=0, description='Epoch', max=20)"
      ]
     },
     "metadata": {},
     "output_type": "display_data"
    },
    {
     "data": {
      "application/vnd.jupyter.widget-view+json": {
       "model_id": "e98324a2f2884c22b524442432389a8d",
       "version_major": 2,
       "version_minor": 0
      },
      "text/plain": [
       "Output()"
      ]
     },
     "metadata": {},
     "output_type": "display_data"
    }
   ],
   "source": [
    "l2_parameters = LinearRegressionParameters()\n",
    "l2_parameters.initial_weights = list(map(lambda x: float(x), range(1, len(X_train.columns) + 1)))\n",
    "l2_parameters.epochs = 20\n",
    "l2_parameters.lambda_reg = 0.01\n",
    "l2_parameters.gama_reg = 0.0\n",
    "l2_parameters.batch_size = 40\n",
    "l2_parameters.random_state = 0\n",
    "l2_model = LinearRegressorDisplayer(l2_parameters)\n",
    "l2_model.fit_store(X_train, y_train, only_reg = False)\n",
    "l2_model.display_ws_history()"
   ]
  },
  {
   "cell_type": "markdown",
   "metadata": {},
   "source": [
    "### Regressão Linear com Regularização L1"
   ]
  },
  {
   "cell_type": "code",
   "execution_count": 4,
   "metadata": {},
   "outputs": [
    {
     "data": {
      "application/vnd.jupyter.widget-view+json": {
       "model_id": "5df046be66be41b3bdc6375a85a7dcbd",
       "version_major": 2,
       "version_minor": 0
      },
      "text/plain": [
       "IntSlider(value=0, description='Epoch')"
      ]
     },
     "metadata": {},
     "output_type": "display_data"
    },
    {
     "data": {
      "application/vnd.jupyter.widget-view+json": {
       "model_id": "b5ded8d0556248fb874ab836b0fd81ac",
       "version_major": 2,
       "version_minor": 0
      },
      "text/plain": [
       "Output()"
      ]
     },
     "metadata": {},
     "output_type": "display_data"
    }
   ],
   "source": [
    "l1_parameters = LinearRegressionParameters()\n",
    "l1_parameters.initial_weights = list(map(lambda x: float(x), range(1, len(X_train.columns) + 1)))\n",
    "l1_parameters.epochs = 100\n",
    "l1_parameters.gama_reg = 0.01\n",
    "l1_parameters.lambda_reg = 0.0\n",
    "l1_parameters.batch_size = 40\n",
    "l1_parameters.random_state = 0\n",
    "l1_model = LinearRegressorDisplayer(l1_parameters)\n",
    "l1_model.fit_store(X_train, y_train, only_reg = False)\n",
    "l1_model.display_ws_history()"
   ]
  },
  {
   "cell_type": "markdown",
   "metadata": {},
   "source": [
    "### Apenas Regularização L2"
   ]
  },
  {
   "cell_type": "code",
   "execution_count": 5,
   "metadata": {},
   "outputs": [
    {
     "data": {
      "application/vnd.jupyter.widget-view+json": {
       "model_id": "1b998592307449ba87544f3f4b89f497",
       "version_major": 2,
       "version_minor": 0
      },
      "text/plain": [
       "IntSlider(value=0, description='Epoch', max=20)"
      ]
     },
     "metadata": {},
     "output_type": "display_data"
    },
    {
     "data": {
      "application/vnd.jupyter.widget-view+json": {
       "model_id": "f2255e94cb4d4a2f9b32b7ae31000dbf",
       "version_major": 2,
       "version_minor": 0
      },
      "text/plain": [
       "Output()"
      ]
     },
     "metadata": {},
     "output_type": "display_data"
    }
   ],
   "source": [
    "l2_model_only_reg = LinearRegressorDisplayer(l2_parameters)\n",
    "l2_model_only_reg.fit_store(X_train, y_train, only_reg = True)\n",
    "l2_model_only_reg.display_ws_history()"
   ]
  },
  {
   "cell_type": "markdown",
   "metadata": {},
   "source": [
    "### Apenas Regularização L1"
   ]
  },
  {
   "cell_type": "code",
   "execution_count": 6,
   "metadata": {},
   "outputs": [
    {
     "data": {
      "application/vnd.jupyter.widget-view+json": {
       "model_id": "ce9205914d5d4b3f898c8c0dcc2378c1",
       "version_major": 2,
       "version_minor": 0
      },
      "text/plain": [
       "IntSlider(value=0, description='Epoch')"
      ]
     },
     "metadata": {},
     "output_type": "display_data"
    },
    {
     "data": {
      "application/vnd.jupyter.widget-view+json": {
       "model_id": "2dc9270db3a54afc986f9b8f952271a7",
       "version_major": 2,
       "version_minor": 0
      },
      "text/plain": [
       "Output()"
      ]
     },
     "metadata": {},
     "output_type": "display_data"
    }
   ],
   "source": [
    "l1_model_only_reg = LinearRegressorDisplayer(l1_parameters)\n",
    "l1_model_only_reg.fit_store(X_train, y_train, only_reg = True)\n",
    "l1_model_only_reg.display_ws_history()"
   ]
  }
 ],
 "metadata": {
  "kernelspec": {
   "display_name": "Python 3 (ipykernel)",
   "language": "python",
   "name": "python3"
  },
  "language_info": {
   "codemirror_mode": {
    "name": "ipython",
    "version": 3
   },
   "file_extension": ".py",
   "mimetype": "text/x-python",
   "name": "python",
   "nbconvert_exporter": "python",
   "pygments_lexer": "ipython3",
   "version": "3.11.4"
  }
 },
 "nbformat": 4,
 "nbformat_minor": 4
}
